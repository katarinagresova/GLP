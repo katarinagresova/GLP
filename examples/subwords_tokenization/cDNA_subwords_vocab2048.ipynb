{
 "cells": [
  {
   "cell_type": "markdown",
   "id": "requested-collar",
   "metadata": {},
   "source": [
    "If you would like more explanation to Data preparation part, please go to cDNA_subwords_vocab64 notebook."
   ]
  },
  {
   "cell_type": "markdown",
   "id": "induced-software",
   "metadata": {},
   "source": [
    "# Setup"
   ]
  },
  {
   "cell_type": "code",
   "execution_count": 1,
   "id": "severe-translation",
   "metadata": {},
   "outputs": [
    {
     "name": "stdout",
     "output_type": "stream",
     "text": [
      "Name: fastai\n",
      "Version: 2.2.7\n",
      "Summary: fastai simplifies training fast and accurate neural nets using modern best practices\n",
      "Home-page: https://github.com/fastai/fastai/tree/master/\n",
      "Author: Jeremy Howard, Sylvain Gugger, and contributors\n",
      "Author-email: info@fast.ai\n",
      "License: Apache Software License 2.0\n",
      "Location: /opt/conda/lib/python3.7/site-packages\n",
      "Requires: pandas, pillow, scipy, fastcore, matplotlib, torchvision, spacy, pip, requests, scikit-learn, fastprogress, torch, pyyaml, packaging\n",
      "Required-by: \n"
     ]
    }
   ],
   "source": [
    "!pip show fastai"
   ]
  },
  {
   "cell_type": "code",
   "execution_count": 2,
   "id": "healthy-personality",
   "metadata": {},
   "outputs": [
    {
     "name": "stdout",
     "output_type": "stream",
     "text": [
      "Name: biopython\n",
      "Version: 1.78\n",
      "Summary: Freely available tools for computational molecular biology.\n",
      "Home-page: https://biopython.org/\n",
      "Author: The Biopython Contributors\n",
      "Author-email: biopython@biopython.org\n",
      "License: UNKNOWN\n",
      "Location: /opt/conda/lib/python3.7/site-packages\n",
      "Requires: numpy\n",
      "Required-by: bio\n"
     ]
    }
   ],
   "source": [
    "!pip show biopython"
   ]
  },
  {
   "cell_type": "code",
   "execution_count": 3,
   "id": "massive-spokesman",
   "metadata": {},
   "outputs": [],
   "source": [
    "from Bio import SeqIO\n",
    "from fastai.text.all import *"
   ]
  },
  {
   "cell_type": "markdown",
   "id": "honest-organ",
   "metadata": {},
   "source": [
    "# Data preparation"
   ]
  },
  {
   "cell_type": "code",
   "execution_count": 4,
   "id": "intense-philosophy",
   "metadata": {},
   "outputs": [
    {
     "name": "stdout",
     "output_type": "stream",
     "text": [
      "File ‘Homo_sapiens.GRCh38.cdna.abinitio.fa.gz’ already there; not retrieving.\n",
      "\n",
      "gzip: Homo_sapiens.GRCh38.cdna.abinitio.fa already exists;\tnot overwritten\n",
      "yes: standard output: Broken pipe\n"
     ]
    }
   ],
   "source": [
    "!wget -nc http://ftp.ensembl.org/pub/release-103/fasta/homo_sapiens/cdna/Homo_sapiens.GRCh38.cdna.abinitio.fa.gz\n",
    "!yes n | gunzip Homo_sapiens.GRCh38.cdna.abinitio.fa.gz"
   ]
  },
  {
   "cell_type": "markdown",
   "id": "secure-enforcement",
   "metadata": {},
   "source": [
    "# Token preparation"
   ]
  },
  {
   "cell_type": "code",
   "execution_count": 5,
   "id": "pressed-white",
   "metadata": {},
   "outputs": [],
   "source": [
    "with open(\"Homo_sapiens.GRCh38.cdna.abinitio.fa\", \"rt\") as handle:\n",
    "  txts = L(str(record.seq).lower() for record in SeqIO.parse(handle, \"fasta\"))"
   ]
  },
  {
   "cell_type": "code",
   "execution_count": 6,
   "id": "chicken-generation",
   "metadata": {},
   "outputs": [],
   "source": [
    "txt = txts[0]\n",
    "txts = txts[1:10001]"
   ]
  },
  {
   "cell_type": "code",
   "execution_count": 7,
   "id": "connected-embassy",
   "metadata": {},
   "outputs": [
    {
     "data": {
      "text/html": [],
      "text/plain": [
       "<IPython.core.display.HTML object>"
      ]
     },
     "metadata": {},
     "output_type": "display_data"
    },
    {
     "data": {
      "text/plain": [
       "{'sp_model': Path('tmp/vocab2048/spm.model')}"
      ]
     },
     "execution_count": 7,
     "metadata": {},
     "output_type": "execute_result"
    }
   ],
   "source": [
    "SPECIAL_TOKENS = 2\n",
    "ALPHABET = 4\n",
    "VOCAB_SIZE = 2048 + SPECIAL_TOKENS + ALPHABET\n",
    "tokenizer = SubwordTokenizer(vocab_sz=VOCAB_SIZE, special_toks=[], cache_dir='tmp/vocab2048', lang='dna')\n",
    "tokenizer.setup(txts)"
   ]
  },
  {
   "cell_type": "code",
   "execution_count": 8,
   "id": "dangerous-force",
   "metadata": {},
   "outputs": [
    {
     "name": "stdout",
     "output_type": "stream",
     "text": [
      "(#210) ['▁atgga','aagaggaa','agaagaa','aagaa','tttcc','aataa','gttac','aacaa','acttt','tcacc','attct','aaagaa','ccca','cttt','cctt','atcaac','caagctg','ggcttc','tctct','agtga','ctcct','attct','agcct','ttccc','cagaaa','cagaga','gtgt','taa','tcctgg','tga'...]\n"
     ]
    }
   ],
   "source": [
    "toks = first(tokenizer([txt]))\n",
    "print(coll_repr(toks, 30))"
   ]
  },
  {
   "cell_type": "code",
   "execution_count": 9,
   "id": "strategic-methodology",
   "metadata": {},
   "outputs": [
    {
     "data": {
      "text/plain": [
       "'atggaaagaggaaagaagaaaagaatttccaataagttacaacaaacttttcaccattctaaagaacccactttccttatcaaccaagctgggcttctct'"
      ]
     },
     "execution_count": 9,
     "metadata": {},
     "output_type": "execute_result"
    }
   ],
   "source": [
    "txt[:100]"
   ]
  },
  {
   "cell_type": "code",
   "execution_count": 10,
   "id": "indie-geneva",
   "metadata": {},
   "outputs": [
    {
     "name": "stdout",
     "output_type": "stream",
     "text": [
      "(#210) ['▁atgga','aagaggaa','agaagaa','aagaa','tttcc','aataa','gttac','aacaa','acttt','tcacc','attct','aaagaa','ccca','cttt','cctt','atcaac','caagctg','ggcttc','tctct','agtga','ctcct','attct','agcct','ttccc','cagaaa','cagaga','gtgt','taa','tcctgg','tga'...]\n"
     ]
    }
   ],
   "source": [
    "tkn = Tokenizer(tokenizer, rules=[], sep='')\n",
    "print(coll_repr(tkn(txt), 30))"
   ]
  },
  {
   "cell_type": "code",
   "execution_count": 11,
   "id": "young-demand",
   "metadata": {},
   "outputs": [],
   "source": [
    "toks_all = txts.map(tkn)"
   ]
  },
  {
   "cell_type": "markdown",
   "id": "radical-representation",
   "metadata": {},
   "source": [
    "# Tokens analysis"
   ]
  },
  {
   "cell_type": "code",
   "execution_count": 12,
   "id": "double-sleep",
   "metadata": {},
   "outputs": [],
   "source": [
    "from operator import add\n",
    "\n",
    "tokens = reduce(add, toks_all)"
   ]
  },
  {
   "cell_type": "markdown",
   "id": "three-matter",
   "metadata": {},
   "source": [
    "## Top 10 most common tokens"
   ]
  },
  {
   "cell_type": "code",
   "execution_count": 14,
   "id": "dress-investor",
   "metadata": {},
   "outputs": [
    {
     "name": "stdout",
     "output_type": "stream",
     "text": [
      "[('tga', 16335), ('tag', 9722), ('taa', 9384), ('ctga', 8428), ('atga', 7842), ('ag', 7732), ('ttga', 6836), ('tgtga', 6109), ('cgg', 5413), ('cccag', 5359)]\n"
     ]
    }
   ],
   "source": [
    "import collections\n",
    "\n",
    "elements_count = collections.Counter(tokens)\n",
    "print(elements_count.most_common(10))"
   ]
  },
  {
   "cell_type": "markdown",
   "id": "focused-iceland",
   "metadata": {},
   "source": [
    "Eight most common tokens correnspond to stop codons."
   ]
  },
  {
   "cell_type": "markdown",
   "id": "stretch-thing",
   "metadata": {},
   "source": [
    "## Distribution of occurences"
   ]
  },
  {
   "cell_type": "code",
   "execution_count": 15,
   "id": "included-bahrain",
   "metadata": {},
   "outputs": [],
   "source": [
    "counts = []\n",
    "for count in elements_count:\n",
    "    counts.append(elements_count[count])"
   ]
  },
  {
   "cell_type": "code",
   "execution_count": 16,
   "id": "aquatic-carol",
   "metadata": {},
   "outputs": [
    {
     "data": {
      "image/png": "[encoded data removed]",
      "text/plain": [
       "<Figure size 720x288 with 1 Axes>"
      ]
     },
     "metadata": {
      "needs_background": "light"
     },
     "output_type": "display_data"
    }
   ],
   "source": [
    "from matplotlib import pyplot\n",
    "\n",
    "pyplot.figure(figsize=(10,4))\n",
    "pyplot.hist(counts, bins=range(min(counts), max(counts) + 500, 500))\n",
    "pyplot.xlabel(\"occurence count\")\n",
    "pyplot.ylabel(\"distinct subword count\")\n",
    "pyplot.show()"
   ]
  },
  {
   "cell_type": "markdown",
   "id": "genuine-madrid",
   "metadata": {},
   "source": [
    "## Distribution of lengths of subwords"
   ]
  },
  {
   "cell_type": "code",
   "execution_count": 17,
   "id": "surrounded-palestinian",
   "metadata": {},
   "outputs": [],
   "source": [
    "lengths = []\n",
    "vocab = set(tokens)\n",
    "for token in vocab:\n",
    "    lengths.append(len(token))"
   ]
  },
  {
   "cell_type": "code",
   "execution_count": 18,
   "id": "selected-improvement",
   "metadata": {},
   "outputs": [
    {
     "data": {
      "image/png": "[encoded data removed]",
      "text/plain": [
       "<Figure size 288x432 with 1 Axes>"
      ]
     },
     "metadata": {
      "needs_background": "light"
     },
     "output_type": "display_data"
    }
   ],
   "source": [
    "from matplotlib import pyplot\n",
    "\n",
    "pyplot.figure(figsize=(4,6))\n",
    "pyplot.hist(lengths, bins=range(min(lengths), max(lengths) + 1, 1))\n",
    "pyplot.xlabel(\"length\")\n",
    "pyplot.ylabel(\"count\")\n",
    "pyplot.show()"
   ]
  },
  {
   "cell_type": "markdown",
   "id": "approved-capitol",
   "metadata": {},
   "source": [
    "## Longest words in vocabulary"
   ]
  },
  {
   "cell_type": "code",
   "execution_count": 19,
   "id": "buried-newsletter",
   "metadata": {},
   "outputs": [],
   "source": [
    "vocab = list(vocab)\n",
    "vocab.sort(key=len)"
   ]
  },
  {
   "cell_type": "code",
   "execution_count": 32,
   "id": "dress-adobe",
   "metadata": {},
   "outputs": [
    {
     "name": "stdout",
     "output_type": "stream",
     "text": [
      "gaagaagaagaagaag\n",
      "aatggaatcgaatgga\n",
      "aatggaatggaatgga\n"
     ]
    }
   ],
   "source": [
    "print(vocab[-1])\n",
    "print(vocab[-2])\n",
    "print(vocab[-3])"
   ]
  },
  {
   "cell_type": "markdown",
   "id": "interior-input",
   "metadata": {},
   "source": [
    "Longest subwords are repeats. And two of them differ only in one letter."
   ]
  },
  {
   "cell_type": "markdown",
   "id": "higher-student",
   "metadata": {},
   "source": [
    "## Least freaquent subwords in training data"
   ]
  },
  {
   "cell_type": "code",
   "execution_count": 33,
   "id": "failing-interest",
   "metadata": {},
   "outputs": [
    {
     "name": "stdout",
     "output_type": "stream",
     "text": [
      "('t', 86)\n",
      "('c', 116)\n",
      "('a', 142)\n",
      "('g', 148)\n"
     ]
    }
   ],
   "source": [
    "print(elements_count.most_common()[-1])\n",
    "print(elements_count.most_common()[-2])\n",
    "print(elements_count.most_common()[-3])\n",
    "print(elements_count.most_common()[-4])"
   ]
  },
  {
   "cell_type": "markdown",
   "id": "friendly-forestry",
   "metadata": {},
   "source": [
    "All four least frequent subwords are all four bases. I think it could mean, that vocabulary has the right size and subwords are really representing all input sequences. And there is no need to tokenize them by individual bases."
   ]
  },
  {
   "cell_type": "code",
   "execution_count": null,
   "id": "valuable-february",
   "metadata": {},
   "outputs": [],
   "source": []
  }
 ],
 "metadata": {
  "environment": {
   "name": "pytorch-gpu.1-7.m65",
   "type": "gcloud",
   "uri": "gcr.io/deeplearning-platform-release/pytorch-gpu.1-7:m65"
  },
  "kernelspec": {
   "display_name": "Python 3",
   "language": "python",
   "name": "python3"
  },
  "language_info": {
   "codemirror_mode": {
    "name": "ipython",
    "version": 3
   },
   "file_extension": ".py",
   "mimetype": "text/x-python",
   "name": "python",
   "nbconvert_exporter": "python",
   "pygments_lexer": "ipython3",
   "version": "3.7.10"
  }
 },
 "nbformat": 4,
 "nbformat_minor": 5
}
