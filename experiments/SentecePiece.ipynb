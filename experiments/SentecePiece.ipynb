{
  "nbformat": 4,
  "nbformat_minor": 0,
  "metadata": {
    "colab": {
      "name": "SentecePiece.ipynb",
      "provenance": [],
      "collapsed_sections": []
    },
    "kernelspec": {
      "name": "python3",
      "display_name": "Python 3"
    },
    "language_info": {
      "name": "python"
    }
  },
  "cells": [
    {
      "cell_type": "code",
      "metadata": {
        "colab": {
          "base_uri": "https://localhost:8080/"
        },
        "id": "O8gYRFGgX64j",
        "outputId": "3ff7a409-a703-4193-b934-622ffb691088"
      },
      "source": [
        "!pip install sentencepiece\n",
        "!pip install -qq tensorflow_addons genomic-benchmarks"
      ],
      "execution_count": null,
      "outputs": [
        {
          "output_type": "stream",
          "name": "stdout",
          "text": [
            "Requirement already satisfied: sentencepiece in /usr/local/lib/python3.7/dist-packages (0.1.96)\n"
          ]
        }
      ]
    },
    {
      "cell_type": "code",
      "metadata": {
        "colab": {
          "base_uri": "https://localhost:8080/"
        },
        "id": "-3nOkkbAZFek",
        "outputId": "cdf705d6-7995-47b2-dc81-c8dc8c95db49"
      },
      "source": [
        "import sentencepiece as spm\n",
        "from genomic_benchmarks.dataset_getters.pytorch_datasets import HumanEnhancersCohn"
      ],
      "execution_count": null,
      "outputs": [
        {
          "output_type": "stream",
          "name": "stderr",
          "text": [
            "/usr/local/lib/python3.7/dist-packages/genomic_benchmarks/utils/datasets.py:11: TqdmExperimentalWarning: Using `tqdm.autonotebook.tqdm` in notebook mode. Use `tqdm.tqdm` instead to force console mode (e.g. in jupyter console)\n",
            "  from tqdm.autonotebook import tqdm\n"
          ]
        }
      ]
    },
    {
      "cell_type": "code",
      "metadata": {
        "id": "-KzwvEczZhGS"
      },
      "source": [
        "test_dset =  HumanEnhancersCohn('test', version=0)"
      ],
      "execution_count": null,
      "outputs": []
    },
    {
      "cell_type": "code",
      "metadata": {
        "id": "lErKORgiZDxE"
      },
      "source": [
        "spm.SentencePieceTrainer.train(sentence_iterator=iter([x[0] for x in test_dset]), model_prefix='m', vocab_size=512)"
      ],
      "execution_count": null,
      "outputs": []
    },
    {
      "cell_type": "code",
      "metadata": {
        "id": "syUxbcLVaqB3"
      },
      "source": [
        "sp = spm.SentencePieceProcessor(model_file='m.model')"
      ],
      "execution_count": null,
      "outputs": []
    },
    {
      "cell_type": "code",
      "metadata": {
        "colab": {
          "base_uri": "https://localhost:8080/"
        },
        "id": "yDAKgHEYa6YP",
        "outputId": "c5be4038-d403-4d9d-9097-6421f541a2e3"
      },
      "source": [
        "for _ in range(10):\n",
        "  print(sp.encode(test_dset[0][0], out_type=str, enable_sampling=True, alpha=0.1, nbest_size=-1))"
      ],
      "execution_count": null,
      "outputs": [
        {
          "output_type": "stream",
          "name": "stdout",
          "text": [
            "['▁', 'AGA', 'GA', 'T', 'A', 'CA', 'TG', 'GCA', 'AG', 'AG', 'AGGG', 'AGC', 'A', 'AGA', 'CA', 'G', 'A', 'GCA', 'AGAA', 'AG', 'A', 'G', 'GG', 'AG', 'C', 'AAGA', 'C', 'ACA', 'GC', 'A', 'AGA', 'AAG', 'GAG', 'A', 'TGC', 'CAG', 'GCT', 'CTTTT', 'TAA', 'C', 'AA', 'C', 'T', 'AGCT', 'CT', 'TTTG', 'G', 'G', 'AACT', 'AC', 'TAG', 'AG', 'A', 'GAG', 'AGA', 'G', 'C', 'T', 'T', 'AC', 'T', 'C', 'ACT', 'CCTA', 'A', 'G', 'G', 'TG', 'G', 'C', 'CAT', 'T', 'AA', 'TC', 'TAAT', 'TAA', 'TAT', 'A', 'T', 'T', 'C', 'ATG', 'AG', 'A', 'T', 'CCA', 'CTCC', 'CAT', 'A', 'A', 'C', 'CTA', 'A', 'AC', 'ACCT', 'TCC', 'A', 'CTA', 'G', 'G', 'CCC', 'C', 'ACC', 'TC', 'CAA', 'CAA', 'TG', 'G', 'GG', 'ATC', 'A', 'A', 'ATT', 'TC', 'AACAT', 'G', 'AG', 'A', 'TT', 'TGAAA', 'GG', 'GA', 'CA', 'A', 'A', 'CA', 'TC', 'CA', 'A', 'A', 'CG', 'A', 'T', 'A', 'GCAG', 'GAGGG', 'A', 'AGGT', 'G', 'TG', 'A', 'TT', 'GGAA', 'G', 'G', 'TT', 'T', 'TAG', 'AAC', 'TGTA', 'TT', 'A', 'A', 'ATA', 'T', 'A', 'AA', 'AAA', 'CA', 'C', 'TC', 'CA', 'C', 'CC', 'T', 'AAAG', 'CTA', 'A', 'T', 'TTT', 'ACCA', 'G', 'AGT', 'C', 'TCT', 'A', 'AATA', 'G', 'T', 'CAG', 'A', 'A', 'AAG', 'G', 'G', 'AGAA', 'G', 'C', 'T', 'AAC', 'A', 'C', 'GT', 'GG', 'G', 'TT', 'AGC', 'T', 'CATC', 'C', 'C', 'T', 'A', 'A', 'TCCA', 'C', 'C', 'A', 'A', 'AA', 'GC', 'ATA', 'TTA', 'T', 'C', 'A', 'GA', 'T', 'TCC', 'C', 'CC', 'AAGGG', 'A', 'G', 'AA', 'TTAA', 'GG', 'A', 'G', 'AAA', 'A', 'G', 'TC', 'A', 'T', 'A', 'A', 'GGA', 'ACA', 'A', 'AAA', 'A', 'G', 'AGAAG', 'TT', 'A', 'CCT', 'A', 'C', 'A', 'GA', 'TAA', 'AA']\n",
            "['▁', 'A', 'G', 'AGA', 'T', 'A', 'CATG', 'G', 'C', 'A', 'A', 'GAG', 'AG', 'GG', 'AGC', 'AA', 'GACA', 'GA', 'GC', 'AAGA', 'AA', 'G', 'AGGG', 'AGCA', 'AG', 'A', 'CACA', 'GC', 'AAGA', 'A', 'AG', 'G', 'AGA', 'TG', 'CC', 'A', 'G', 'G', 'C', 'TCT', 'T', 'T', 'TTAA', 'C', 'A', 'ACT', 'AG', 'C', 'T', 'C', 'TT', 'T', 'T', 'G', 'GGA', 'ACTA', 'C', 'TAGA', 'GA', 'G', 'AG', 'AG', 'AGC', 'T', 'TACT', 'C', 'ACT', 'C', 'C', 'TAA', 'GGT', 'GG', 'CCA', 'TTAA', 'TCT', 'A', 'ATT', 'AATAT', 'A', 'TT', 'CATG', 'AGAT', 'C', 'C', 'AC', 'TCCC', 'A', 'T', 'AACC', 'TAA', 'AC', 'ACCT', 'TCC', 'AC', 'T', 'A', 'GGC', 'CCC', 'A', 'C', 'CT', 'C', 'C', 'AA', 'CAAT', 'G', 'GGG', 'ATC', 'A', 'AAT', 'TT', 'C', 'A', 'A', 'CAT', 'GA', 'GA', 'TT', 'TGAA', 'AG', 'GGAC', 'A', 'A', 'ACA', 'T', 'C', 'CA', 'A', 'AC', 'G', 'A', 'T', 'A', 'G', 'CAGGA', 'G', 'GGAAG', 'GTGT', 'GAT', 'TGGA', 'AGGT', 'TT', 'T', 'A', 'G', 'AACT', 'GT', 'A', 'T', 'T', 'A', 'AATA', 'T', 'AA', 'AA', 'AA', 'CA', 'C', 'TC', 'CACC', 'CT', 'AAA', 'GCT', 'AAT', 'TTT', 'A', 'CCAGA', 'GT', 'C', 'T', 'CTAA', 'ATAG', 'TC', 'AGAA', 'AAG', 'G', 'GAGA', 'AGC', 'T', 'AACA', 'CGT', 'G', 'G', 'GT', 'T', 'AGC', 'TCAT', 'CCCT', 'A', 'ATCC', 'A', 'CC', 'AA', 'AAGC', 'A', 'TAT', 'T', 'A', 'T', 'CA', 'G', 'A', 'T', 'T', 'CC', 'CCCA', 'A', 'GG', 'GA', 'G', 'AA', 'TTA', 'A', 'GG', 'AGA', 'A', 'AAG', 'T', 'C', 'A', 'TAA', 'GG', 'A', 'ACA', 'AAA', 'A', 'A', 'GA', 'GA', 'AGT', 'T', 'AC', 'CTA', 'CAGA', 'TAA', 'AA']\n",
            "['▁', 'AGA', 'GA', 'T', 'AC', 'A', 'T', 'GGCA', 'AG', 'AGA', 'GG', 'G', 'AGC', 'AA', 'GA', 'CA', 'GA', 'GC', 'AA', 'GA', 'AA', 'G', 'A', 'GGG', 'A', 'GC', 'AAGA', 'CA', 'CAGC', 'AA', 'G', 'A', 'AA', 'G', 'GAG', 'ATG', 'C', 'C', 'AGG', 'CTCT', 'TTTT', 'A', 'AC', 'A', 'A', 'C', 'T', 'AG', 'CTCT', 'TT', 'TGGG', 'A', 'A', 'CT', 'AC', 'TAG', 'AG', 'AG', 'AG', 'AG', 'AGC', 'TT', 'A', 'CT', 'CA', 'C', 'T', 'CCTA', 'A', 'G', 'GT', 'G', 'GCC', 'A', 'T', 'T', 'AA', 'T', 'CTA', 'ATT', 'A', 'ATA', 'T', 'A', 'TTCA', 'TG', 'AG', 'A', 'T', 'CC', 'ACT', 'C', 'CC', 'ATA', 'AC', 'CTA', 'A', 'A', 'C', 'ACC', 'T', 'T', 'CC', 'ACTA', 'G', 'GC', 'CCCAC', 'CTCCA', 'A', 'C', 'AA', 'TG', 'G', 'G', 'G', 'A', 'TCAA', 'A', 'TT', 'T', 'CAACA', 'TG', 'A', 'GAT', 'T', 'TGA', 'AAG', 'GGAC', 'A', 'AACAT', 'CCAAA', 'C', 'G', 'A', 'T', 'AG', 'CAG', 'G', 'AGG', 'GAAG', 'GT', 'GTG', 'ATT', 'G', 'G', 'AA', 'GGT', 'T', 'T', 'T', 'A', 'GA', 'A', 'C', 'T', 'GT', 'A', 'T', 'T', 'AA', 'A', 'T', 'A', 'T', 'A', 'AA', 'A', 'AACA', 'C', 'TCC', 'A', 'CCCT', 'AAA', 'G', 'CT', 'AAT', 'TTT', 'A', 'C', 'CAG', 'AGT', 'CT', 'CT', 'A', 'AA', 'TAG', 'T', 'CAG', 'AAAAG', 'G', 'G', 'AG', 'A', 'AG', 'CTA', 'ACA', 'C', 'GT', 'GGG', 'T', 'T', 'A', 'G', 'C', 'TCAT', 'C', 'CCT', 'AA', 'T', 'C', 'CAC', 'C', 'AAAA', 'GCA', 'T', 'ATTA', 'TCA', 'G', 'A', 'TT', 'CC', 'C', 'CCAAG', 'G', 'G', 'AGA', 'ATT', 'AAGGA', 'GA', 'A', 'AA', 'GT', 'CATA', 'A', 'GG', 'A', 'A', 'C', 'AAAA', 'A', 'A', 'GAG', 'A', 'A', 'G', 'T', 'T', 'AC', 'C', 'TAC', 'AGATA', 'AA', 'A']\n",
            "['▁', 'AG', 'A', 'GAT', 'A', 'CA', 'TGG', 'CAA', 'GAGA', 'G', 'G', 'GA', 'G', 'C', 'AA', 'GA', 'C', 'AG', 'A', 'GCA', 'AG', 'A', 'AAG', 'A', 'GG', 'GA', 'G', 'CA', 'AGA', 'C', 'AC', 'A', 'GC', 'A', 'A', 'G', 'A', 'AA', 'GG', 'A', 'G', 'A', 'TGCC', 'AG', 'GCT', 'CTT', 'TT', 'T', 'A', 'AC', 'AAC', 'TAG', 'CTCTT', 'T', 'TGG', 'GAA', 'CT', 'A', 'CT', 'A', 'G', 'AG', 'AG', 'A', 'G', 'AG', 'AGC', 'T', 'T', 'AC', 'TCACT', 'CCT', 'A', 'AGGT', 'G', 'GC', 'CAT', 'TAAT', 'C', 'TAATT', 'A', 'A', 'TAT', 'ATT', 'C', 'ATG', 'AGA', 'TC', 'C', 'A', 'CT', 'C', 'C', 'C', 'ATAA', 'CCTA', 'AA', 'C', 'A', 'CCTT', 'C', 'C', 'ACT', 'AG', 'GCC', 'CCAC', 'CTC', 'C', 'A', 'AC', 'A', 'A', 'TG', 'G', 'G', 'G', 'ATC', 'AAATT', 'T', 'C', 'A', 'A', 'CA', 'T', 'G', 'AGA', 'T', 'T', 'T', 'GAAAG', 'GGA', 'C', 'A', 'AAC', 'ATC', 'C', 'AAA', 'C', 'GA', 'TAG', 'C', 'AG', 'G', 'A', 'G', 'GGA', 'AG', 'GTGT', 'G', 'ATT', 'G', 'G', 'AAG', 'GT', 'TTT', 'AGAA', 'C', 'TG', 'T', 'A', 'TT', 'AAAT', 'ATA', 'A', 'A', 'A', 'AA', 'C', 'ACT', 'CC', 'AC', 'C', 'CTAA', 'AGC', 'T', 'AATT', 'TTA', 'CC', 'A', 'G', 'AG', 'T', 'CT', 'C', 'T', 'A', 'AATA', 'GTC', 'AG', 'A', 'A', 'AAGG', 'G', 'A', 'GAAG', 'CTAA', 'CA', 'C', 'G', 'T', 'GGGT', 'T', 'A', 'GC', 'TC', 'A', 'TC', 'C', 'CTAA', 'TC', 'CACC', 'A', 'AA', 'AGCA', 'T', 'ATTA', 'T', 'CAGA', 'T', 'T', 'CC', 'CC', 'CAA', 'G', 'G', 'GAGA', 'ATT', 'AA', 'GG', 'AGA', 'A', 'A', 'AGT', 'CA', 'T', 'AAGG', 'AAC', 'AAAAA', 'A', 'G', 'AG', 'A', 'AGTT', 'A', 'CC', 'T', 'AC', 'A', 'GA', 'TAAA', 'A']\n",
            "['▁', 'A', 'G', 'AG', 'ATAC', 'A', 'T', 'G', 'G', 'C', 'AA', 'G', 'AGAGG', 'G', 'A', 'GC', 'AA', 'G', 'ACAG', 'AGC', 'AA', 'G', 'A', 'A', 'AGA', 'GGGAG', 'CA', 'A', 'GA', 'CA', 'C', 'A', 'GC', 'A', 'A', 'G', 'AA', 'A', 'G', 'GAGA', 'T', 'G', 'CC', 'A', 'G', 'GCTC', 'TTT', 'T', 'T', 'A', 'ACA', 'A', 'CTAG', 'C', 'T', 'C', 'T', 'TT', 'TG', 'G', 'G', 'AACT', 'A', 'C', 'TAGA', 'GAGA', 'GAG', 'A', 'G', 'CT', 'TAC', 'T', 'CA', 'C', 'TCC', 'T', 'A', 'AGG', 'TGG', 'CCA', 'TT', 'AAT', 'C', 'TAATT', 'AATA', 'T', 'A', 'TT', 'CAT', 'GAG', 'A', 'TCCA', 'CTC', 'CC', 'ATAA', 'C', 'CT', 'AAAC', 'A', 'C', 'CTT', 'CC', 'ACTA', 'GG', 'C', 'C', 'CC', 'A', 'CC', 'TCC', 'A', 'ACA', 'ATG', 'G', 'G', 'GA', 'TCA', 'A', 'A', 'T', 'TTCAA', 'CATG', 'AG', 'A', 'T', 'T', 'TG', 'AAAG', 'G', 'GACA', 'AA', 'C', 'ATC', 'CAA', 'AC', 'G', 'A', 'T', 'AG', 'CAGGA', 'G', 'GG', 'AA', 'G', 'GTG', 'T', 'GAT', 'TGG', 'A', 'AG', 'GT', 'T', 'T', 'TAGA', 'ACTG', 'T', 'ATT', 'AAA', 'TAT', 'A', 'AA', 'AAA', 'C', 'A', 'CTCCA', 'CCCT', 'AA', 'AGC', 'TAATT', 'T', 'TAC', 'CAG', 'A', 'GTCTC', 'TAAA', 'T', 'AGT', 'C', 'AGAAA', 'AGG', 'GA', 'GA', 'A', 'G', 'CT', 'AA', 'CAC', 'GTGGG', 'TT', 'A', 'G', 'CT', 'CATC', 'C', 'CT', 'A', 'A', 'TC', 'CA', 'CCAAA', 'A', 'G', 'CATA', 'TT', 'A', 'TCA', 'G', 'ATT', 'CCC', 'C', 'CAAG', 'GG', 'AGAA', 'TTA', 'AGGA', 'GA', 'A', 'AA', 'G', 'TC', 'A', 'TAA', 'GGA', 'AC', 'A', 'AAA', 'AAGA', 'GAA', 'GT', 'T', 'A', 'CC', 'T', 'A', 'C', 'A', 'G', 'ATA', 'A', 'A', 'A']\n",
            "['▁', 'AGA', 'GAT', 'ACA', 'TGGCA', 'A', 'GAG', 'AG', 'G', 'G', 'AG', 'CA', 'AG', 'ACA', 'G', 'AGCA', 'AGA', 'A', 'A', 'GAG', 'GG', 'AGCA', 'AGA', 'C', 'AC', 'A', 'G', 'CAA', 'GAA', 'A', 'GG', 'AGAT', 'G', 'CC', 'AG', 'GCT', 'C', 'TT', 'T', 'T', 'T', 'AA', 'CA', 'AC', 'T', 'AGC', 'T', 'C', 'T', 'TT', 'T', 'G', 'G', 'GA', 'ACTA', 'CTA', 'GA', 'GAG', 'A', 'G', 'AGAG', 'CTT', 'A', 'CTC', 'A', 'CT', 'CC', 'T', 'A', 'A', 'G', 'GT', 'GGCC', 'A', 'TTA', 'ATC', 'T', 'A', 'ATT', 'A', 'ATAT', 'ATT', 'CAT', 'GA', 'G', 'ATC', 'C', 'ACT', 'C', 'CC', 'A', 'TAA', 'CCT', 'A', 'AA', 'CAC', 'C', 'T', 'TC', 'CACT', 'AGG', 'CCC', 'C', 'ACC', 'T', 'CCA', 'A', 'CAAT', 'GGGGA', 'TCA', 'AAT', 'TT', 'C', 'AA', 'CATG', 'AGA', 'TTT', 'G', 'A', 'A', 'AGGG', 'AC', 'A', 'A', 'ACA', 'T', 'CC', 'A', 'AA', 'C', 'GAT', 'AGC', 'A', 'GG', 'A', 'G', 'GGAAG', 'GT', 'G', 'TGAT', 'TGG', 'A', 'AGG', 'TTTT', 'AG', 'AA', 'CTGTA', 'TT', 'AA', 'A', 'TAT', 'AAA', 'AAA', 'CA', 'CT', 'C', 'CA', 'C', 'CC', 'T', 'A', 'A', 'AGCT', 'A', 'ATT', 'TTA', 'CCA', 'G', 'AGT', 'CT', 'CTA', 'AATAG', 'T', 'C', 'AG', 'A', 'AAA', 'G', 'G', 'GAG', 'A', 'AGC', 'TAA', 'C', 'AC', 'GT', 'GGGT', 'T', 'AGC', 'TCA', 'T', 'C', 'CCT', 'AA', 'T', 'CC', 'A', 'CCA', 'AA', 'AGC', 'A', 'T', 'ATT', 'ATCA', 'G', 'A', 'T', 'TCC', 'CCCA', 'A', 'GG', 'GA', 'G', 'A', 'A', 'TTA', 'AG', 'GAG', 'AAAA', 'GT', 'C', 'ATAA', 'G', 'GAA', 'CA', 'AAA', 'A', 'A', 'GA', 'GAAG', 'TTA', 'CCT', 'AC', 'A', 'G', 'A', 'T', 'A', 'AAA']\n",
            "['▁', 'A', 'G', 'AGA', 'T', 'A', 'CATG', 'G', 'CA', 'AG', 'AG', 'A', 'G', 'GG', 'A', 'GC', 'A', 'AGA', 'C', 'A', 'GA', 'GCA', 'AG', 'A', 'AA', 'G', 'A', 'G', 'G', 'G', 'A', 'G', 'C', 'AAG', 'A', 'CACA', 'G', 'C', 'AAG', 'AA', 'AG', 'GAGA', 'T', 'GCC', 'AGG', 'C', 'T', 'C', 'T', 'TTT', 'T', 'A', 'A', 'CA', 'A', 'C', 'TAG', 'C', 'TCT', 'TTT', 'G', 'G', 'G', 'A', 'A', 'C', 'T', 'ACT', 'A', 'G', 'AG', 'AGA', 'GAG', 'A', 'GC', 'T', 'T', 'ACTCA', 'CTC', 'CTAA', 'GGT', 'GG', 'C', 'CATT', 'AA', 'TCT', 'AA', 'TT', 'AA', 'T', 'ATA', 'T', 'T', 'CA', 'TG', 'AGA', 'TC', 'CA', 'CTCC', 'CA', 'T', 'A', 'AC', 'C', 'T', 'AA', 'ACAC', 'CTT', 'C', 'C', 'ACTA', 'G', 'GCCC', 'CA', 'CCT', 'C', 'C', 'AA', 'C', 'A', 'ATG', 'GG', 'GAT', 'C', 'AAA', 'TTTC', 'A', 'ACA', 'TG', 'AGA', 'TTT', 'G', 'A', 'AAG', 'G', 'G', 'AC', 'AAA', 'CA', 'T', 'CCAA', 'AC', 'GAT', 'AGCA', 'GGA', 'GGGAA', 'GG', 'T', 'GT', 'GAT', 'T', 'GG', 'AAGG', 'TTTT', 'AG', 'AACT', 'GTAT', 'T', 'AA', 'ATA', 'TAAA', 'AAA', 'CA', 'C', 'TC', 'C', 'A', 'CCC', 'TAA', 'A', 'G', 'C', 'T', 'AA', 'T', 'TTT', 'ACC', 'A', 'G', 'AG', 'T', 'CT', 'CTA', 'A', 'A', 'TAG', 'T', 'C', 'AG', 'AAAAG', 'GG', 'AGA', 'AGCT', 'AA', 'C', 'A', 'CG', 'TGG', 'G', 'TTA', 'GC', 'TCA', 'TC', 'CCT', 'AAT', 'CC', 'A', 'C', 'C', 'A', 'AA', 'AG', 'CAT', 'A', 'TTA', 'T', 'CAGA', 'TT', 'C', 'CC', 'C', 'CA', 'AGGGA', 'G', 'A', 'ATT', 'AA', 'GGA', 'G', 'AAA', 'AGT', 'C', 'ATA', 'AGGA', 'ACA', 'AA', 'A', 'A', 'A', 'GA', 'GA', 'A', 'G', 'TT', 'AC', 'CTA', 'C', 'AGAT', 'AA', 'AA']\n",
            "['▁', 'AGAGA', 'T', 'A', 'CA', 'TGG', 'CA', 'AGA', 'G', 'AGGG', 'AG', 'CA', 'AG', 'A', 'CA', 'G', 'AG', 'C', 'AA', 'GA', 'AA', 'GAG', 'G', 'GAG', 'CA', 'AGA', 'C', 'A', 'C', 'A', 'G', 'CA', 'A', 'GA', 'AA', 'G', 'GA', 'G', 'ATGC', 'C', 'A', 'G', 'GCT', 'C', 'TT', 'TTT', 'A', 'ACAA', 'CT', 'AGCT', 'CT', 'TT', 'TGGG', 'A', 'AC', 'TAC', 'T', 'A', 'GAG', 'A', 'GAG', 'A', 'GA', 'GCTT', 'AC', 'T', 'C', 'AC', 'T', 'CCT', 'AA', 'GG', 'T', 'GG', 'C', 'CAT', 'T', 'AA', 'TC', 'TAATT', 'A', 'ATA', 'T', 'ATT', 'CA', 'T', 'GA', 'GA', 'TC', 'C', 'ACT', 'CCC', 'ATAA', 'C', 'CT', 'A', 'AA', 'CAC', 'C', 'TT', 'CCAC', 'TAG', 'G', 'CCC', 'CA', 'CC', 'TC', 'C', 'A', 'A', 'CA', 'ATG', 'G', 'G', 'G', 'ATCA', 'A', 'ATTT', 'C', 'A', 'AC', 'ATG', 'A', 'GA', 'TT', 'TG', 'AA', 'A', 'GGG', 'ACA', 'A', 'ACA', 'T', 'CCAA', 'AC', 'GA', 'T', 'AG', 'CAG', 'G', 'AG', 'G', 'GA', 'AG', 'GT', 'GTGA', 'TT', 'G', 'G', 'AA', 'G', 'GT', 'TTT', 'AGA', 'ACT', 'G', 'TAT', 'T', 'AAATAT', 'A', 'AAAAA', 'C', 'A', 'C', 'T', 'CC', 'AC', 'CC', 'TAAA', 'G', 'CT', 'A', 'A', 'TTT', 'T', 'ACC', 'AGA', 'GTC', 'T', 'CTA', 'AAT', 'AG', 'TCAG', 'A', 'A', 'AA', 'G', 'G', 'GA', 'G', 'A', 'AGCT', 'A', 'A', 'CA', 'CG', 'TG', 'G', 'G', 'T', 'TAG', 'C', 'TCA', 'T', 'C', 'C', 'C', 'TAA', 'T', 'C', 'CA', 'CC', 'AAAAG', 'C', 'ATATT', 'A', 'TCA', 'GAT', 'TC', 'C', 'CC', 'C', 'A', 'AG', 'GGA', 'G', 'AATTA', 'AG', 'G', 'A', 'G', 'A', 'AAAG', 'TC', 'ATA', 'AGGA', 'A', 'CA', 'AAAA', 'AG', 'AG', 'AA', 'GTT', 'A', 'C', 'CTAC', 'AGAT', 'AA', 'AA']\n",
            "['▁', 'AG', 'A', 'G', 'ATAC', 'A', 'TG', 'GCA', 'A', 'G', 'AGA', 'GGGAG', 'C', 'A', 'AG', 'A', 'C', 'AG', 'AGC', 'AAG', 'AA', 'A', 'GAGG', 'GA', 'G', 'CAAGA', 'CAC', 'AGCA', 'A', 'GA', 'AA', 'GG', 'A', 'GA', 'TG', 'CCA', 'G', 'GC', 'TC', 'TTTTT', 'A', 'AC', 'AACT', 'A', 'G', 'CT', 'C', 'TTT', 'T', 'G', 'G', 'GA', 'AC', 'TACT', 'A', 'GA', 'G', 'A', 'GAG', 'AGAG', 'C', 'T', 'T', 'AC', 'TCAC', 'TC', 'CT', 'AA', 'GGT', 'G', 'GC', 'CA', 'TTAA', 'T', 'C', 'T', 'A', 'ATTA', 'A', 'TATAT', 'T', 'CATG', 'A', 'GAT', 'C', 'C', 'A', 'CT', 'CCCA', 'T', 'A', 'ACC', 'T', 'AAA', 'CA', 'C', 'C', 'T', 'T', 'CCA', 'CT', 'A', 'GGCC', 'C', 'CA', 'C', 'C', 'TCCA', 'AC', 'AAT', 'G', 'G', 'G', 'GAT', 'C', 'AA', 'A', 'TT', 'T', 'CA', 'ACA', 'TGAGA', 'TTT', 'G', 'A', 'A', 'AG', 'G', 'GA', 'C', 'A', 'AA', 'CATC', 'C', 'AAA', 'C', 'GA', 'T', 'A', 'GCA', 'G', 'G', 'AG', 'G', 'G', 'A', 'A', 'GGTG', 'TG', 'ATTG', 'GA', 'AGGT', 'T', 'TTA', 'G', 'AAC', 'TGT', 'ATT', 'AAA', 'T', 'ATAAAA', 'AA', 'C', 'ACT', 'CCACC', 'CT', 'AA', 'AGC', 'T', 'AA', 'T', 'TTT', 'ACC', 'A', 'G', 'A', 'G', 'TCT', 'CTAA', 'ATA', 'GT', 'C', 'AG', 'AAA', 'A', 'G', 'GG', 'AGAAG', 'CT', 'A', 'ACA', 'CG', 'TG', 'GG', 'T', 'T', 'AG', 'CT', 'CA', 'TC', 'C', 'C', 'TAA', 'TCCA', 'C', 'C', 'A', 'A', 'A', 'A', 'GC', 'ATA', 'TTAT', 'C', 'A', 'GA', 'T', 'TCCCC', 'C', 'AA', 'GGG', 'A', 'GA', 'A', 'T', 'T', 'AA', 'GG', 'AGA', 'AAA', 'G', 'TC', 'ATAA', 'GG', 'AA', 'C', 'AA', 'AAA', 'AG', 'A', 'G', 'AA', 'G', 'TT', 'A', 'CC', 'T', 'AC', 'AG', 'ATAA', 'A', 'A']\n",
            "['▁', 'A', 'GA', 'G', 'ATA', 'CAT', 'GG', 'CA', 'A', 'G', 'AG', 'AGG', 'GAG', 'C', 'AA', 'G', 'ACA', 'G', 'AG', 'CAA', 'G', 'A', 'A', 'AG', 'AG', 'G', 'G', 'AGC', 'A', 'AG', 'AC', 'ACAG', 'C', 'AAGA', 'A', 'AG', 'GAG', 'A', 'TGCC', 'A', 'G', 'G', 'CT', 'CT', 'TTTT', 'A', 'ACA', 'A', 'CT', 'A', 'GCTC', 'T', 'TT', 'TGG', 'G', 'A', 'ACTA', 'CT', 'A', 'G', 'AG', 'A', 'GAGA', 'G', 'A', 'G', 'CT', 'T', 'ACT', 'C', 'ACT', 'C', 'C', 'T', 'A', 'A', 'GGT', 'GGC', 'CA', 'TTA', 'A', 'TC', 'TAATT', 'A', 'ATAT', 'A', 'T', 'T', 'CAT', 'GA', 'GA', 'TCC', 'A', 'CTCC', 'CATA', 'ACCT', 'AA', 'ACA', 'CCTT', 'CCAC', 'TAG', 'GC', 'CCC', 'ACCT', 'C', 'C', 'A', 'AC', 'AAT', 'GGGGA', 'TC', 'A', 'AA', 'TT', 'TC', 'A', 'ACA', 'T', 'GA', 'GA', 'T', 'TTG', 'AAA', 'GG', 'GA', 'CA', 'A', 'A', 'CA', 'TC', 'C', 'AA', 'A', 'CGA', 'T', 'A', 'G', 'C', 'AG', 'G', 'AG', 'GG', 'A', 'AG', 'G', 'TGT', 'G', 'A', 'TT', 'G', 'GA', 'AGG', 'TTTT', 'AGA', 'A', 'CT', 'GT', 'A', 'TTA', 'A', 'ATA', 'T', 'AAA', 'AAAC', 'ACT', 'C', 'CACC', 'CT', 'A', 'A', 'A', 'G', 'CT', 'AATT', 'T', 'T', 'ACCA', 'G', 'A', 'G', 'T', 'CT', 'CT', 'AAAT', 'A', 'G', 'T', 'CA', 'GA', 'AA', 'AG', 'GG', 'AGA', 'A', 'GC', 'T', 'A', 'A', 'CA', 'CG', 'TG', 'G', 'GTT', 'A', 'G', 'C', 'TC', 'ATC', 'CCT', 'AAT', 'C', 'C', 'ACCA', 'AAA', 'G', 'C', 'A', 'TATT', 'A', 'TC', 'AGAT', 'TC', 'CC', 'C', 'CA', 'AG', 'GG', 'AG', 'AA', 'TT', 'AAG', 'G', 'A', 'GAA', 'AAG', 'T', 'CATA', 'A', 'G', 'GAA', 'C', 'AAA', 'AA', 'AGAGA', 'AG', 'T', 'TAC', 'CT', 'AC', 'AGAT', 'AAAA']\n"
          ]
        }
      ]
    },
    {
      "cell_type": "code",
      "metadata": {
        "colab": {
          "base_uri": "https://localhost:8080/"
        },
        "id": "S25L8jHFj6eN",
        "outputId": "e7a7c74d-3090-4dd4-b246-1385d3555550"
      },
      "source": [
        "sp.encode(test_dset[0][0], out_type=str, enable_sampling=True, alpha=0.1, nbest_size=-1)"
      ],
      "execution_count": null,
      "outputs": [
        {
          "output_type": "execute_result",
          "data": {
            "text/plain": [
              "['▁',\n",
              " 'AGA',\n",
              " 'GAT',\n",
              " 'A',\n",
              " 'CA',\n",
              " 'TGGC',\n",
              " 'A',\n",
              " 'AG',\n",
              " 'AG',\n",
              " 'AGGG',\n",
              " 'A',\n",
              " 'G',\n",
              " 'C',\n",
              " 'A',\n",
              " 'AG',\n",
              " 'A',\n",
              " 'CAGAG',\n",
              " 'C',\n",
              " 'AAG',\n",
              " 'A',\n",
              " 'AA',\n",
              " 'GAG',\n",
              " 'GGA',\n",
              " 'GC',\n",
              " 'A',\n",
              " 'A',\n",
              " 'GA',\n",
              " 'CAC',\n",
              " 'AG',\n",
              " 'CAA',\n",
              " 'GAA',\n",
              " 'AG',\n",
              " 'G',\n",
              " 'AGAT',\n",
              " 'GCC',\n",
              " 'AGG',\n",
              " 'CT',\n",
              " 'CTT',\n",
              " 'T',\n",
              " 'T',\n",
              " 'T',\n",
              " 'A',\n",
              " 'ACAA',\n",
              " 'C',\n",
              " 'T',\n",
              " 'AGCT',\n",
              " 'CTT',\n",
              " 'T',\n",
              " 'T',\n",
              " 'GG',\n",
              " 'GA',\n",
              " 'A',\n",
              " 'C',\n",
              " 'T',\n",
              " 'A',\n",
              " 'CTAG',\n",
              " 'A',\n",
              " 'GAG',\n",
              " 'AG',\n",
              " 'A',\n",
              " 'G',\n",
              " 'AG',\n",
              " 'CT',\n",
              " 'TAC',\n",
              " 'T',\n",
              " 'C',\n",
              " 'A',\n",
              " 'CT',\n",
              " 'CCTA',\n",
              " 'AG',\n",
              " 'GT',\n",
              " 'G',\n",
              " 'GCC',\n",
              " 'ATT',\n",
              " 'AA',\n",
              " 'T',\n",
              " 'C',\n",
              " 'T',\n",
              " 'A',\n",
              " 'A',\n",
              " 'TTAA',\n",
              " 'T',\n",
              " 'ATAT',\n",
              " 'T',\n",
              " 'CA',\n",
              " 'TGAG',\n",
              " 'ATCC',\n",
              " 'AC',\n",
              " 'TCC',\n",
              " 'CAT',\n",
              " 'A',\n",
              " 'A',\n",
              " 'CC',\n",
              " 'T',\n",
              " 'AAA',\n",
              " 'CA',\n",
              " 'CCT',\n",
              " 'T',\n",
              " 'CCA',\n",
              " 'CT',\n",
              " 'A',\n",
              " 'GGC',\n",
              " 'C',\n",
              " 'CCAC',\n",
              " 'CTC',\n",
              " 'CA',\n",
              " 'ACA',\n",
              " 'A',\n",
              " 'TG',\n",
              " 'GG',\n",
              " 'G',\n",
              " 'A',\n",
              " 'T',\n",
              " 'CA',\n",
              " 'AA',\n",
              " 'T',\n",
              " 'TTCAA',\n",
              " 'CA',\n",
              " 'TGA',\n",
              " 'GA',\n",
              " 'TTTGA',\n",
              " 'A',\n",
              " 'AGGG',\n",
              " 'A',\n",
              " 'C',\n",
              " 'A',\n",
              " 'AACA',\n",
              " 'T',\n",
              " 'CCA',\n",
              " 'AA',\n",
              " 'C',\n",
              " 'GAT',\n",
              " 'AGC',\n",
              " 'A',\n",
              " 'G',\n",
              " 'G',\n",
              " 'AG',\n",
              " 'G',\n",
              " 'GA',\n",
              " 'A',\n",
              " 'GG',\n",
              " 'TG',\n",
              " 'TG',\n",
              " 'A',\n",
              " 'T',\n",
              " 'TG',\n",
              " 'G',\n",
              " 'AAG',\n",
              " 'GTT',\n",
              " 'TTA',\n",
              " 'GA',\n",
              " 'AC',\n",
              " 'T',\n",
              " 'GTA',\n",
              " 'T',\n",
              " 'T',\n",
              " 'A',\n",
              " 'A',\n",
              " 'ATA',\n",
              " 'T',\n",
              " 'A',\n",
              " 'AA',\n",
              " 'AAACA',\n",
              " 'C',\n",
              " 'TC',\n",
              " 'C',\n",
              " 'A',\n",
              " 'C',\n",
              " 'C',\n",
              " 'CT',\n",
              " 'A',\n",
              " 'A',\n",
              " 'AG',\n",
              " 'CT',\n",
              " 'AAT',\n",
              " 'TT',\n",
              " 'TAC',\n",
              " 'C',\n",
              " 'A',\n",
              " 'GAGT',\n",
              " 'CTCT',\n",
              " 'A',\n",
              " 'AATA',\n",
              " 'G',\n",
              " 'TC',\n",
              " 'AGAAA',\n",
              " 'AGGGA',\n",
              " 'GAAG',\n",
              " 'C',\n",
              " 'TAA',\n",
              " 'CAC',\n",
              " 'GT',\n",
              " 'GG',\n",
              " 'G',\n",
              " 'TTA',\n",
              " 'GC',\n",
              " 'T',\n",
              " 'CA',\n",
              " 'T',\n",
              " 'CC',\n",
              " 'CTA',\n",
              " 'A',\n",
              " 'T',\n",
              " 'C',\n",
              " 'CAC',\n",
              " 'CAAAA',\n",
              " 'G',\n",
              " 'CA',\n",
              " 'T',\n",
              " 'ATT',\n",
              " 'A',\n",
              " 'TC',\n",
              " 'AG',\n",
              " 'A',\n",
              " 'TT',\n",
              " 'CC',\n",
              " 'C',\n",
              " 'CCAAG',\n",
              " 'G',\n",
              " 'GA',\n",
              " 'G',\n",
              " 'AA',\n",
              " 'TTA',\n",
              " 'AGG',\n",
              " 'AGA',\n",
              " 'AAAGT',\n",
              " 'CATA',\n",
              " 'AGGA',\n",
              " 'A',\n",
              " 'CAA',\n",
              " 'AA',\n",
              " 'AAG',\n",
              " 'AG',\n",
              " 'AAG',\n",
              " 'TT',\n",
              " 'AC',\n",
              " 'CT',\n",
              " 'A',\n",
              " 'C',\n",
              " 'AGATA',\n",
              " 'A',\n",
              " 'A',\n",
              " 'A']"
            ]
          },
          "metadata": {},
          "execution_count": 12
        }
      ]
    }
  ]
}