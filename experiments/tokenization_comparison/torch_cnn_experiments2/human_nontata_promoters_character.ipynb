{
 "cells": [
  {
   "cell_type": "markdown",
   "id": "28001475",
   "metadata": {
    "id": "SKOD9lvq5kdM",
    "papermill": {
     "duration": 0.021634,
     "end_time": "2022-01-07T11:55:35.973450",
     "exception": false,
     "start_time": "2022-01-07T11:55:35.951816",
     "status": "completed"
    },
    "tags": []
   },
   "source": [
    "# PYTORCH CNN Classifier"
   ]
  },
  {
   "cell_type": "code",
   "execution_count": 1,
   "id": "9f909aca",
   "metadata": {
    "execution": {
     "iopub.execute_input": "2022-01-07T11:55:36.016174Z",
     "iopub.status.busy": "2022-01-07T11:55:36.014926Z",
     "iopub.status.idle": "2022-01-07T11:55:36.020032Z",
     "shell.execute_reply": "2022-01-07T11:55:36.020517Z"
    },
    "id": "E8prt3AL5kdO",
    "papermill": {
     "duration": 0.031918,
     "end_time": "2022-01-07T11:55:36.020823",
     "exception": false,
     "start_time": "2022-01-07T11:55:35.988905",
     "status": "completed"
    },
    "tags": [
     "parameters"
    ]
   },
   "outputs": [],
   "source": [
    "DATASET = 'none'\n",
    "VOCAB_SIZE = 0\n",
    "TOKENIZER = 'none'\n",
    "KMER = 0"
   ]
  },
  {
   "cell_type": "code",
   "execution_count": 2,
   "id": "ce4f19b3",
   "metadata": {
    "execution": {
     "iopub.execute_input": "2022-01-07T11:55:36.053782Z",
     "iopub.status.busy": "2022-01-07T11:55:36.052746Z",
     "iopub.status.idle": "2022-01-07T11:55:36.055231Z",
     "shell.execute_reply": "2022-01-07T11:55:36.055723Z"
    },
    "papermill": {
     "duration": 0.020578,
     "end_time": "2022-01-07T11:55:36.055914",
     "exception": false,
     "start_time": "2022-01-07T11:55:36.035336",
     "status": "completed"
    },
    "tags": [
     "injected-parameters"
    ]
   },
   "outputs": [],
   "source": [
    "# Parameters\n",
    "DATASET = \"human_nontata_promoters\"\n",
    "TOKENIZER = \"character\"\n"
   ]
  },
  {
   "cell_type": "code",
   "execution_count": 3,
   "id": "b206949d",
   "metadata": {
    "colab": {
     "base_uri": "https://localhost:8080/"
    },
    "execution": {
     "iopub.execute_input": "2022-01-07T11:55:36.090361Z",
     "iopub.status.busy": "2022-01-07T11:55:36.089142Z",
     "iopub.status.idle": "2022-01-07T11:55:36.093082Z",
     "shell.execute_reply": "2022-01-07T11:55:36.093555Z"
    },
    "id": "rohBItfR5kdP",
    "outputId": "7da7aafe-0858-48be-bf7d-f698784d88df",
    "papermill": {
     "duration": 0.023302,
     "end_time": "2022-01-07T11:55:36.093825",
     "exception": false,
     "start_time": "2022-01-07T11:55:36.070523",
     "status": "completed"
    },
    "tags": []
   },
   "outputs": [
    {
     "name": "stdout",
     "output_type": "stream",
     "text": [
      "human_nontata_promoters 0 character 0\n"
     ]
    }
   ],
   "source": [
    "print(DATASET, VOCAB_SIZE, TOKENIZER, KMER)"
   ]
  },
  {
   "cell_type": "markdown",
   "id": "e8f12387",
   "metadata": {
    "id": "Y-YQrVyb5kdQ",
    "papermill": {
     "duration": 0.01663,
     "end_time": "2022-01-07T11:55:36.125076",
     "exception": false,
     "start_time": "2022-01-07T11:55:36.108446",
     "status": "completed"
    },
    "tags": []
   },
   "source": [
    "## Config"
   ]
  },
  {
   "cell_type": "code",
   "execution_count": 4,
   "id": "bfb15988",
   "metadata": {
    "execution": {
     "iopub.execute_input": "2022-01-07T11:55:36.161518Z",
     "iopub.status.busy": "2022-01-07T11:55:36.160443Z",
     "iopub.status.idle": "2022-01-07T11:55:37.637114Z",
     "shell.execute_reply": "2022-01-07T11:55:37.637766Z"
    },
    "id": "FIunuyGk5kdR",
    "papermill": {
     "duration": 1.497144,
     "end_time": "2022-01-07T11:55:37.638297",
     "exception": false,
     "start_time": "2022-01-07T11:55:36.141153",
     "status": "completed"
    },
    "tags": []
   },
   "outputs": [],
   "source": [
    "import torch\n",
    "from torch.utils.data import DataLoader\n",
    "\n",
    "from genomic_benchmarks.dataset_getters.pytorch_datasets import get_dataset\n",
    "from glp.models import CNN\n",
    "from glp.tokenizers import get_tokenizer\n",
    "from glp.tokenizers.utils import build_vocab, coll_factory, check_config, check_seq_lengths"
   ]
  },
  {
   "cell_type": "code",
   "execution_count": 5,
   "id": "633f021c",
   "metadata": {
    "execution": {
     "iopub.execute_input": "2022-01-07T11:55:37.681129Z",
     "iopub.status.busy": "2022-01-07T11:55:37.680314Z",
     "iopub.status.idle": "2022-01-07T11:55:37.682434Z",
     "shell.execute_reply": "2022-01-07T11:55:37.682937Z"
    },
    "id": "UgXiF6Zz5kdR",
    "papermill": {
     "duration": 0.028539,
     "end_time": "2022-01-07T11:55:37.683141",
     "exception": false,
     "start_time": "2022-01-07T11:55:37.654602",
     "status": "completed"
    },
    "tags": []
   },
   "outputs": [],
   "source": [
    "config = {\n",
    "    \"dataset\": DATASET,\n",
    "    \"tokenizer\": TOKENIZER,\n",
    "    \"dataset_version\": 0,\n",
    "    \"epochs\": 5,\n",
    "    \"batch_size\": 32,\n",
    "    \"use_padding\": True,\n",
    "    \"force_download\": False,\n",
    "    \"run_on_gpu\": True,\n",
    "    \"number_of_classes\": 2,\n",
    "    \"embedding_dim\": 100,\n",
    "}\n",
    "check_config(config)"
   ]
  },
  {
   "cell_type": "markdown",
   "id": "c7be8f40",
   "metadata": {
    "id": "AUWF-avz5kdS",
    "papermill": {
     "duration": 0.015331,
     "end_time": "2022-01-07T11:55:37.715355",
     "exception": false,
     "start_time": "2022-01-07T11:55:37.700024",
     "status": "completed"
    },
    "tags": []
   },
   "source": [
    "## Choose the dataset"
   ]
  },
  {
   "cell_type": "code",
   "execution_count": 6,
   "id": "b5e406ad",
   "metadata": {
    "colab": {
     "base_uri": "https://localhost:8080/"
    },
    "execution": {
     "iopub.execute_input": "2022-01-07T11:55:37.750543Z",
     "iopub.status.busy": "2022-01-07T11:55:37.749248Z",
     "iopub.status.idle": "2022-01-07T11:55:37.923051Z",
     "shell.execute_reply": "2022-01-07T11:55:37.923566Z"
    },
    "id": "1oaryDJr5kdS",
    "outputId": "6a425df9-4092-4601-9cd9-f61d524b6278",
    "papermill": {
     "duration": 0.193639,
     "end_time": "2022-01-07T11:55:37.923773",
     "exception": false,
     "start_time": "2022-01-07T11:55:37.730134",
     "status": "completed"
    },
    "tags": []
   },
   "outputs": [],
   "source": [
    "train_dset = get_dataset(config[\"dataset\"], 'train')"
   ]
  },
  {
   "cell_type": "markdown",
   "id": "5685c8ea",
   "metadata": {
    "id": "B0lqmy935kdS",
    "papermill": {
     "duration": 0.016779,
     "end_time": "2022-01-07T11:55:37.955428",
     "exception": false,
     "start_time": "2022-01-07T11:55:37.938649",
     "status": "completed"
    },
    "tags": []
   },
   "source": [
    "## Tokenizer and vocab"
   ]
  },
  {
   "cell_type": "code",
   "execution_count": 7,
   "id": "e8bf3742",
   "metadata": {
    "colab": {
     "base_uri": "https://localhost:8080/"
    },
    "execution": {
     "iopub.execute_input": "2022-01-07T11:55:37.996365Z",
     "iopub.status.busy": "2022-01-07T11:55:37.995217Z",
     "iopub.status.idle": "2022-01-07T11:55:48.670266Z",
     "shell.execute_reply": "2022-01-07T11:55:48.670797Z"
    },
    "id": "NY_zualp5kdT",
    "outputId": "9034d65f-2f9a-4c83-a314-13d3b808fc65",
    "papermill": {
     "duration": 10.699275,
     "end_time": "2022-01-07T11:55:48.671009",
     "exception": false,
     "start_time": "2022-01-07T11:55:37.971734",
     "status": "completed"
    },
    "tags": []
   },
   "outputs": [
    {
     "name": "stdout",
     "output_type": "stream",
     "text": [
      "vocab len: 8\n",
      "{'<eos>': 6, 'G': 4, 'A': 3, 'C': 2, '<pad>': 7, 'T': 5, '<bos>': 1, '<unk>': 0}\n"
     ]
    }
   ],
   "source": [
    "tokenizer = get_tokenizer(config['tokenizer'])\n",
    "tokenizer.train(train_dset=train_dset, vocab_size=VOCAB_SIZE, kmer=KMER)\n",
    "vocabulary = build_vocab(train_dset, tokenizer, use_padding=config[\"use_padding\"])\n",
    "\n",
    "print(\"vocab len:\" ,vocabulary.__len__())\n",
    "print(vocabulary.get_stoi())"
   ]
  },
  {
   "cell_type": "markdown",
   "id": "fe2722a1",
   "metadata": {
    "id": "3hGQpSJA5kdT",
    "papermill": {
     "duration": 0.021528,
     "end_time": "2022-01-07T11:55:48.708988",
     "exception": false,
     "start_time": "2022-01-07T11:55:48.687460",
     "status": "completed"
    },
    "tags": []
   },
   "source": [
    "## Dataloader and batch preparation"
   ]
  },
  {
   "cell_type": "code",
   "execution_count": 8,
   "id": "64618100",
   "metadata": {
    "colab": {
     "base_uri": "https://localhost:8080/"
    },
    "execution": {
     "iopub.execute_input": "2022-01-07T11:55:48.751097Z",
     "iopub.status.busy": "2022-01-07T11:55:48.749696Z",
     "iopub.status.idle": "2022-01-07T11:55:56.752409Z",
     "shell.execute_reply": "2022-01-07T11:55:56.752886Z"
    },
    "id": "gXUgPH6q5kdT",
    "outputId": "a1eb6ba2-9bcd-416d-8662-e3516121da96",
    "papermill": {
     "duration": 8.023987,
     "end_time": "2022-01-07T11:55:56.753083",
     "exception": false,
     "start_time": "2022-01-07T11:55:48.729096",
     "status": "completed"
    },
    "tags": []
   },
   "outputs": [
    {
     "name": "stdout",
     "output_type": "stream",
     "text": [
      "Using cpu device\n"
     ]
    },
    {
     "name": "stdout",
     "output_type": "stream",
     "text": [
      "max_tok_len  253\n"
     ]
    }
   ],
   "source": [
    "# Run on GPU or CPU\n",
    "device = 'cuda' if config[\"run_on_gpu\"] and torch.cuda.is_available() else 'cpu'\n",
    "print('Using {} device'.format(device))\n",
    "\n",
    "max_tok_len = check_seq_lengths(dataset=train_dset, tokenizer=tokenizer)\n",
    "\n",
    "# Data Loader\n",
    "collate = coll_factory(vocabulary, tokenizer, device, pad_to_length = max_tok_len)\n",
    "\n",
    "train_loader = DataLoader(train_dset, batch_size=config[\"batch_size\"], shuffle=True, collate_fn=collate)"
   ]
  },
  {
   "cell_type": "code",
   "execution_count": 9,
   "id": "569bd62e",
   "metadata": {
    "execution": {
     "iopub.execute_input": "2022-01-07T11:55:56.803450Z",
     "iopub.status.busy": "2022-01-07T11:55:56.802648Z",
     "iopub.status.idle": "2022-01-07T11:55:56.805698Z",
     "shell.execute_reply": "2022-01-07T11:55:56.806170Z"
    },
    "papermill": {
     "duration": 0.03786,
     "end_time": "2022-01-07T11:55:56.806362",
     "exception": false,
     "start_time": "2022-01-07T11:55:56.768502",
     "status": "completed"
    },
    "tags": []
   },
   "outputs": [
    {
     "data": {
      "text/plain": [
       "['<bos>',\n",
       " 'C',\n",
       " 'A',\n",
       " 'C',\n",
       " 'T',\n",
       " 'C',\n",
       " 'T',\n",
       " 'G',\n",
       " 'T',\n",
       " 'G',\n",
       " 'T',\n",
       " 'T',\n",
       " 'C',\n",
       " 'T',\n",
       " 'T',\n",
       " 'T',\n",
       " 'T',\n",
       " 'A',\n",
       " 'A',\n",
       " 'A',\n",
       " 'A',\n",
       " 'T',\n",
       " 'C',\n",
       " 'C',\n",
       " 'C',\n",
       " 'T',\n",
       " 'C',\n",
       " 'A',\n",
       " 'G',\n",
       " 'G',\n",
       " 'T',\n",
       " 'T',\n",
       " 'T',\n",
       " 'T',\n",
       " 'A',\n",
       " 'T',\n",
       " 'G',\n",
       " 'T',\n",
       " 'T',\n",
       " 'T',\n",
       " 'T',\n",
       " 'A',\n",
       " 'T',\n",
       " 'T',\n",
       " 'G',\n",
       " 'C',\n",
       " 'T',\n",
       " 'A',\n",
       " 'C',\n",
       " 'C',\n",
       " 'A',\n",
       " 'G',\n",
       " 'A',\n",
       " 'G',\n",
       " 'T',\n",
       " 'C',\n",
       " 'T',\n",
       " 'G',\n",
       " 'C',\n",
       " 'C',\n",
       " 'T',\n",
       " 'C',\n",
       " 'C',\n",
       " 'C',\n",
       " 'T',\n",
       " 'G',\n",
       " 'A',\n",
       " 'G',\n",
       " 'G',\n",
       " 'T',\n",
       " 'T',\n",
       " 'C',\n",
       " 'T',\n",
       " 'T',\n",
       " 'G',\n",
       " 'T',\n",
       " 'A',\n",
       " 'T',\n",
       " 'A',\n",
       " 'G',\n",
       " 'A',\n",
       " 'C',\n",
       " 'T',\n",
       " 'A',\n",
       " 'G',\n",
       " 'T',\n",
       " 'T',\n",
       " 'A',\n",
       " 'T',\n",
       " 'T',\n",
       " 'T',\n",
       " 'C',\n",
       " 'C',\n",
       " 'C',\n",
       " 'T',\n",
       " 'C',\n",
       " 'T',\n",
       " 'G',\n",
       " 'T',\n",
       " 'A',\n",
       " 'A',\n",
       " 'A',\n",
       " 'G',\n",
       " 'A',\n",
       " 'A',\n",
       " 'G',\n",
       " 'C',\n",
       " 'T',\n",
       " 'G',\n",
       " 'T',\n",
       " 'T',\n",
       " 'C',\n",
       " 'T',\n",
       " 'A',\n",
       " 'T',\n",
       " 'T',\n",
       " 'C',\n",
       " 'G',\n",
       " 'T',\n",
       " 'T',\n",
       " 'C',\n",
       " 'T',\n",
       " 'C',\n",
       " 'G',\n",
       " 'C',\n",
       " 'C',\n",
       " 'T',\n",
       " 'G',\n",
       " 'G',\n",
       " 'T',\n",
       " 'T',\n",
       " 'T',\n",
       " 'G',\n",
       " 'G',\n",
       " 'A',\n",
       " 'A',\n",
       " 'C',\n",
       " 'A',\n",
       " 'A',\n",
       " 'A',\n",
       " 'C',\n",
       " 'T',\n",
       " 'G',\n",
       " 'A',\n",
       " 'A',\n",
       " 'C',\n",
       " 'A',\n",
       " 'C',\n",
       " 'T',\n",
       " 'T',\n",
       " 'C',\n",
       " 'C',\n",
       " 'A',\n",
       " 'A',\n",
       " 'A',\n",
       " 'G',\n",
       " 'G',\n",
       " 'A',\n",
       " 'G',\n",
       " 'G',\n",
       " 'C',\n",
       " 'A',\n",
       " 'G',\n",
       " 'T',\n",
       " 'C',\n",
       " 'C',\n",
       " 'T',\n",
       " 'T',\n",
       " 'G',\n",
       " 'C',\n",
       " 'A',\n",
       " 'G',\n",
       " 'C',\n",
       " 'C',\n",
       " 'T',\n",
       " 'T',\n",
       " 'G',\n",
       " 'T',\n",
       " 'C',\n",
       " 'T',\n",
       " 'C',\n",
       " 'C',\n",
       " 'T',\n",
       " 'T',\n",
       " 'C',\n",
       " 'C',\n",
       " 'A',\n",
       " 'C',\n",
       " 'T',\n",
       " 'C',\n",
       " 'C',\n",
       " 'C',\n",
       " 'C',\n",
       " 'T',\n",
       " 'C',\n",
       " 'C',\n",
       " 'T',\n",
       " 'C',\n",
       " 'C',\n",
       " 'C',\n",
       " 'C',\n",
       " 'A',\n",
       " 'C',\n",
       " 'A',\n",
       " 'G',\n",
       " 'T',\n",
       " 'C',\n",
       " 'C',\n",
       " 'T',\n",
       " 'G',\n",
       " 'G',\n",
       " 'C',\n",
       " 'T',\n",
       " 'G',\n",
       " 'G',\n",
       " 'A',\n",
       " 'G',\n",
       " 'C',\n",
       " 'A',\n",
       " 'G',\n",
       " 'C',\n",
       " 'G',\n",
       " 'A',\n",
       " 'G',\n",
       " 'T',\n",
       " 'C',\n",
       " 'T',\n",
       " 'G',\n",
       " 'T',\n",
       " 'C',\n",
       " 'G',\n",
       " 'A',\n",
       " 'T',\n",
       " 'C',\n",
       " 'C',\n",
       " 'C',\n",
       " 'A',\n",
       " 'G',\n",
       " 'G',\n",
       " 'C',\n",
       " 'C',\n",
       " 'A',\n",
       " 'G',\n",
       " 'A',\n",
       " 'G',\n",
       " 'A',\n",
       " 'C',\n",
       " 'A',\n",
       " 'A',\n",
       " 'G',\n",
       " 'G',\n",
       " 'C',\n",
       " '<eos>']"
      ]
     },
     "execution_count": 9,
     "metadata": {},
     "output_type": "execute_result"
    }
   ],
   "source": [
    "tokenizer(train_dset[1][0])"
   ]
  },
  {
   "cell_type": "markdown",
   "id": "510446ef",
   "metadata": {
    "id": "sTTomnnP5kdU",
    "papermill": {
     "duration": 0.01633,
     "end_time": "2022-01-07T11:55:56.838854",
     "exception": false,
     "start_time": "2022-01-07T11:55:56.822524",
     "status": "completed"
    },
    "tags": []
   },
   "source": [
    "## Model"
   ]
  },
  {
   "cell_type": "code",
   "execution_count": 10,
   "id": "1170cd0d",
   "metadata": {
    "execution": {
     "iopub.execute_input": "2022-01-07T11:55:56.879692Z",
     "iopub.status.busy": "2022-01-07T11:55:56.878176Z",
     "iopub.status.idle": "2022-01-07T11:55:56.889884Z",
     "shell.execute_reply": "2022-01-07T11:55:56.890366Z"
    },
    "id": "ZNuXGIdD5kdU",
    "papermill": {
     "duration": 0.035947,
     "end_time": "2022-01-07T11:55:56.890622",
     "exception": false,
     "start_time": "2022-01-07T11:55:56.854675",
     "status": "completed"
    },
    "tags": []
   },
   "outputs": [],
   "source": [
    "model = CNN(\n",
    "    number_of_classes=config[\"number_of_classes\"],\n",
    "    vocab_size=vocabulary.__len__(),\n",
    "    embedding_dim=config[\"embedding_dim\"],\n",
    "    input_len=max_tok_len\n",
    ").to(device)"
   ]
  },
  {
   "cell_type": "markdown",
   "id": "744c404e",
   "metadata": {
    "id": "1pqIm92h5kdV",
    "papermill": {
     "duration": 0.017297,
     "end_time": "2022-01-07T11:55:56.925484",
     "exception": false,
     "start_time": "2022-01-07T11:55:56.908187",
     "status": "completed"
    },
    "tags": []
   },
   "source": [
    "## Training"
   ]
  },
  {
   "cell_type": "code",
   "execution_count": 11,
   "id": "c159e912",
   "metadata": {
    "colab": {
     "base_uri": "https://localhost:8080/"
    },
    "execution": {
     "iopub.execute_input": "2022-01-07T11:55:56.967678Z",
     "iopub.status.busy": "2022-01-07T11:55:56.966762Z",
     "iopub.status.idle": "2022-01-07T12:00:58.028844Z",
     "shell.execute_reply": "2022-01-07T12:00:58.029425Z"
    },
    "id": "uvO_-RFm5kdV",
    "outputId": "7799e5f9-78a7-4ef2-95e8-f06751912eda",
    "papermill": {
     "duration": 301.084907,
     "end_time": "2022-01-07T12:00:58.029653",
     "exception": false,
     "start_time": "2022-01-07T11:55:56.944746",
     "status": "completed"
    },
    "tags": []
   },
   "outputs": [
    {
     "name": "stdout",
     "output_type": "stream",
     "text": [
      "Epoch 0\n"
     ]
    },
    {
     "name": "stderr",
     "output_type": "stream",
     "text": [
      "/Users/katarina/Documents/repositories/GitHub/GLP/src/glp/tokenizers/utils.py:27: UserWarning: To copy construct from a tensor, it is recommended to use sourceTensor.clone().detach() or sourceTensor.clone().detach().requires_grad_(True), rather than torch.tensor(sourceTensor).\n",
      "  x = torch.tensor(pad(x), dtype=torch.long)\n"
     ]
    },
    {
     "name": "stdout",
     "output_type": "stream",
     "text": [
      "Train metrics: \n",
      " Accuracy: 81.6%, Avg loss: 0.619230 \n",
      "\n",
      "Epoch 1\n"
     ]
    },
    {
     "name": "stdout",
     "output_type": "stream",
     "text": [
      "Train metrics: \n",
      " Accuracy: 83.2%, Avg loss: 0.603101 \n",
      "\n",
      "Epoch 2\n"
     ]
    },
    {
     "name": "stdout",
     "output_type": "stream",
     "text": [
      "Train metrics: \n",
      " Accuracy: 83.5%, Avg loss: 0.603677 \n",
      "\n",
      "Epoch 3\n"
     ]
    },
    {
     "name": "stdout",
     "output_type": "stream",
     "text": [
      "Train metrics: \n",
      " Accuracy: 84.1%, Avg loss: 0.598727 \n",
      "\n",
      "Epoch 4\n"
     ]
    },
    {
     "name": "stdout",
     "output_type": "stream",
     "text": [
      "Train metrics: \n",
      " Accuracy: 82.4%, Avg loss: 0.599614 \n",
      "\n"
     ]
    }
   ],
   "source": [
    "model.train(train_loader, epochs=config[\"epochs\"])"
   ]
  },
  {
   "cell_type": "markdown",
   "id": "7fb9aa69",
   "metadata": {
    "id": "bR2tamrc5kdV",
    "papermill": {
     "duration": 0.027322,
     "end_time": "2022-01-07T12:00:58.077162",
     "exception": false,
     "start_time": "2022-01-07T12:00:58.049840",
     "status": "completed"
    },
    "tags": []
   },
   "source": [
    "## Testing"
   ]
  },
  {
   "cell_type": "code",
   "execution_count": 12,
   "id": "dd8edcb1",
   "metadata": {
    "colab": {
     "base_uri": "https://localhost:8080/"
    },
    "execution": {
     "iopub.execute_input": "2022-01-07T12:00:58.123410Z",
     "iopub.status.busy": "2022-01-07T12:00:58.122030Z",
     "iopub.status.idle": "2022-01-07T12:01:09.152392Z",
     "shell.execute_reply": "2022-01-07T12:01:09.152944Z"
    },
    "id": "wbnciyRK5kdW",
    "outputId": "d2592f9d-f074-465f-95f8-df3b759ae068",
    "papermill": {
     "duration": 11.056181,
     "end_time": "2022-01-07T12:01:09.153151",
     "exception": false,
     "start_time": "2022-01-07T12:00:58.096970",
     "status": "completed"
    },
    "tags": []
   },
   "outputs": [
    {
     "name": "stdout",
     "output_type": "stream",
     "text": [
      "p  4119 ; tp  2920.390381336212 ; fp  556.8699052144054\n",
      "recall  0.7090047053498937 ; precision  0.8398538333847849\n",
      "num_batches 283\n",
      "correct 7284\n",
      "size 9034\n",
      "Test metrics: \n",
      " Accuracy: 0.806287, F1 score: 0.768902, Avg loss: 0.606912 \n",
      "\n"
     ]
    },
    {
     "data": {
      "text/plain": [
       "(0.8062873588665043, 0.7689021363596088)"
      ]
     },
     "execution_count": 12,
     "metadata": {},
     "output_type": "execute_result"
    }
   ],
   "source": [
    "test_dset = get_dataset(config[\"dataset\"], 'test')\n",
    "test_loader = DataLoader(test_dset, batch_size=config[\"batch_size\"], shuffle=True, collate_fn=collate)\n",
    "\n",
    "acc, f1 = model.test(test_loader)\n",
    "acc, f1"
   ]
  }
 ],
 "metadata": {
  "accelerator": "TPU",
  "colab": {
   "name": "torch_cnn_classifier.ipynb",
   "provenance": []
  },
  "environment": {
   "name": "pytorch-gpu.1-9.m75",
   "type": "gcloud",
   "uri": "gcr.io/deeplearning-platform-release/pytorch-gpu.1-9:m75"
  },
  "interpreter": {
   "hash": "9828b828580f1cac1b571b33de6cff8bacecc8916095e1bcbc967952ca7105b7"
  },
  "kernelspec": {
   "display_name": "Python 3",
   "name": "python3"
  },
  "language_info": {
   "codemirror_mode": {
    "name": "ipython",
    "version": 3
   },
   "file_extension": ".py",
   "mimetype": "text/x-python",
   "name": "python",
   "nbconvert_exporter": "python",
   "pygments_lexer": "ipython3",
   "version": "3.8.9"
  },
  "papermill": {
   "default_parameters": {},
   "duration": 335.843383,
   "end_time": "2022-01-07T12:01:09.695049",
   "environment_variables": {},
   "exception": null,
   "input_path": "torch_cnn.ipynb",
   "output_path": "../torch_cnn_experiments/human_nontata_promoters_character.ipynb",
   "parameters": {
    "DATASET": "human_nontata_promoters",
    "TOKENIZER": "character"
   },
   "start_time": "2022-01-07T11:55:33.851666",
   "version": "2.3.3"
  }
 },
 "nbformat": 4,
 "nbformat_minor": 5
}