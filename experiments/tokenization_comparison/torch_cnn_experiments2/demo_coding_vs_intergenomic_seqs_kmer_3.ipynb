{
 "cells": [
  {
   "cell_type": "markdown",
   "id": "94304008",
   "metadata": {
    "id": "SKOD9lvq5kdM",
    "papermill": {
     "duration": 0.019829,
     "end_time": "2022-01-07T13:17:16.244782",
     "exception": false,
     "start_time": "2022-01-07T13:17:16.224953",
     "status": "completed"
    },
    "tags": []
   },
   "source": [
    "# PYTORCH CNN Classifier"
   ]
  },
  {
   "cell_type": "code",
   "execution_count": 1,
   "id": "ac3449c3",
   "metadata": {
    "execution": {
     "iopub.execute_input": "2022-01-07T13:17:16.287104Z",
     "iopub.status.busy": "2022-01-07T13:17:16.286285Z",
     "iopub.status.idle": "2022-01-07T13:17:16.290980Z",
     "shell.execute_reply": "2022-01-07T13:17:16.291608Z"
    },
    "id": "E8prt3AL5kdO",
    "papermill": {
     "duration": 0.031741,
     "end_time": "2022-01-07T13:17:16.291903",
     "exception": false,
     "start_time": "2022-01-07T13:17:16.260162",
     "status": "completed"
    },
    "tags": [
     "parameters"
    ]
   },
   "outputs": [],
   "source": [
    "DATASET = 'none'\n",
    "VOCAB_SIZE = 0\n",
    "TOKENIZER = 'none'\n",
    "KMER = 0"
   ]
  },
  {
   "cell_type": "code",
   "execution_count": 2,
   "id": "99e89b06",
   "metadata": {
    "execution": {
     "iopub.execute_input": "2022-01-07T13:17:16.329745Z",
     "iopub.status.busy": "2022-01-07T13:17:16.327572Z",
     "iopub.status.idle": "2022-01-07T13:17:16.331611Z",
     "shell.execute_reply": "2022-01-07T13:17:16.332673Z"
    },
    "papermill": {
     "duration": 0.025551,
     "end_time": "2022-01-07T13:17:16.332932",
     "exception": false,
     "start_time": "2022-01-07T13:17:16.307381",
     "status": "completed"
    },
    "tags": [
     "injected-parameters"
    ]
   },
   "outputs": [],
   "source": [
    "# Parameters\n",
    "DATASET = \"demo_coding_vs_intergenomic_seqs\"\n",
    "TOKENIZER = \"kmer\"\n",
    "KMER = 3\n"
   ]
  },
  {
   "cell_type": "code",
   "execution_count": 3,
   "id": "6ce88501",
   "metadata": {
    "colab": {
     "base_uri": "https://localhost:8080/"
    },
    "execution": {
     "iopub.execute_input": "2022-01-07T13:17:16.377043Z",
     "iopub.status.busy": "2022-01-07T13:17:16.373702Z",
     "iopub.status.idle": "2022-01-07T13:17:16.380462Z",
     "shell.execute_reply": "2022-01-07T13:17:16.379918Z"
    },
    "id": "rohBItfR5kdP",
    "outputId": "7da7aafe-0858-48be-bf7d-f698784d88df",
    "papermill": {
     "duration": 0.028488,
     "end_time": "2022-01-07T13:17:16.380641",
     "exception": false,
     "start_time": "2022-01-07T13:17:16.352153",
     "status": "completed"
    },
    "tags": []
   },
   "outputs": [
    {
     "name": "stdout",
     "output_type": "stream",
     "text": [
      "demo_coding_vs_intergenomic_seqs 0 kmer 3\n"
     ]
    }
   ],
   "source": [
    "print(DATASET, VOCAB_SIZE, TOKENIZER, KMER)"
   ]
  },
  {
   "cell_type": "markdown",
   "id": "0b27a31c",
   "metadata": {
    "id": "Y-YQrVyb5kdQ",
    "papermill": {
     "duration": 0.02462,
     "end_time": "2022-01-07T13:17:16.424569",
     "exception": false,
     "start_time": "2022-01-07T13:17:16.399949",
     "status": "completed"
    },
    "tags": []
   },
   "source": [
    "## Config"
   ]
  },
  {
   "cell_type": "code",
   "execution_count": 4,
   "id": "751f634b",
   "metadata": {
    "execution": {
     "iopub.execute_input": "2022-01-07T13:17:16.470348Z",
     "iopub.status.busy": "2022-01-07T13:17:16.469341Z",
     "iopub.status.idle": "2022-01-07T13:17:18.230771Z",
     "shell.execute_reply": "2022-01-07T13:17:18.231297Z"
    },
    "id": "FIunuyGk5kdR",
    "papermill": {
     "duration": 1.785602,
     "end_time": "2022-01-07T13:17:18.231507",
     "exception": false,
     "start_time": "2022-01-07T13:17:16.445905",
     "status": "completed"
    },
    "tags": []
   },
   "outputs": [],
   "source": [
    "import torch\n",
    "from torch.utils.data import DataLoader\n",
    "\n",
    "from genomic_benchmarks.dataset_getters.pytorch_datasets import get_dataset\n",
    "from glp.models import CNN\n",
    "from glp.tokenizers import get_tokenizer\n",
    "from glp.tokenizers.utils import build_vocab, coll_factory, check_config, check_seq_lengths"
   ]
  },
  {
   "cell_type": "code",
   "execution_count": 5,
   "id": "01ac094a",
   "metadata": {
    "execution": {
     "iopub.execute_input": "2022-01-07T13:17:18.271365Z",
     "iopub.status.busy": "2022-01-07T13:17:18.270547Z",
     "iopub.status.idle": "2022-01-07T13:17:18.273336Z",
     "shell.execute_reply": "2022-01-07T13:17:18.272763Z"
    },
    "id": "UgXiF6Zz5kdR",
    "papermill": {
     "duration": 0.027315,
     "end_time": "2022-01-07T13:17:18.273530",
     "exception": false,
     "start_time": "2022-01-07T13:17:18.246215",
     "status": "completed"
    },
    "tags": []
   },
   "outputs": [],
   "source": [
    "config = {\n",
    "    \"dataset\": DATASET,\n",
    "    \"tokenizer\": TOKENIZER,\n",
    "    \"dataset_version\": 0,\n",
    "    \"epochs\": 5,\n",
    "    \"batch_size\": 32,\n",
    "    \"use_padding\": True,\n",
    "    \"force_download\": False,\n",
    "    \"run_on_gpu\": True,\n",
    "    \"number_of_classes\": 2,\n",
    "    \"embedding_dim\": 100,\n",
    "}\n",
    "check_config(config)"
   ]
  },
  {
   "cell_type": "markdown",
   "id": "e99ceadd",
   "metadata": {
    "id": "AUWF-avz5kdS",
    "papermill": {
     "duration": 0.014458,
     "end_time": "2022-01-07T13:17:18.303143",
     "exception": false,
     "start_time": "2022-01-07T13:17:18.288685",
     "status": "completed"
    },
    "tags": []
   },
   "source": [
    "## Choose the dataset"
   ]
  },
  {
   "cell_type": "code",
   "execution_count": 6,
   "id": "ceb9547a",
   "metadata": {
    "colab": {
     "base_uri": "https://localhost:8080/"
    },
    "execution": {
     "iopub.execute_input": "2022-01-07T13:17:18.338038Z",
     "iopub.status.busy": "2022-01-07T13:17:18.337106Z",
     "iopub.status.idle": "2022-01-07T13:17:18.947545Z",
     "shell.execute_reply": "2022-01-07T13:17:18.948282Z"
    },
    "id": "1oaryDJr5kdS",
    "outputId": "6a425df9-4092-4601-9cd9-f61d524b6278",
    "papermill": {
     "duration": 0.630528,
     "end_time": "2022-01-07T13:17:18.948496",
     "exception": false,
     "start_time": "2022-01-07T13:17:18.317968",
     "status": "completed"
    },
    "tags": []
   },
   "outputs": [],
   "source": [
    "train_dset = get_dataset(config[\"dataset\"], 'train')"
   ]
  },
  {
   "cell_type": "markdown",
   "id": "741c91d7",
   "metadata": {
    "id": "B0lqmy935kdS",
    "papermill": {
     "duration": 0.018263,
     "end_time": "2022-01-07T13:17:18.981607",
     "exception": false,
     "start_time": "2022-01-07T13:17:18.963344",
     "status": "completed"
    },
    "tags": []
   },
   "source": [
    "## Tokenizer and vocab"
   ]
  },
  {
   "cell_type": "code",
   "execution_count": 7,
   "id": "d247be38",
   "metadata": {
    "colab": {
     "base_uri": "https://localhost:8080/"
    },
    "execution": {
     "iopub.execute_input": "2022-01-07T13:17:19.016226Z",
     "iopub.status.busy": "2022-01-07T13:17:19.015472Z",
     "iopub.status.idle": "2022-01-07T13:17:25.772307Z",
     "shell.execute_reply": "2022-01-07T13:17:25.772785Z"
    },
    "id": "NY_zualp5kdT",
    "outputId": "9034d65f-2f9a-4c83-a314-13d3b808fc65",
    "papermill": {
     "duration": 6.776912,
     "end_time": "2022-01-07T13:17:25.773015",
     "exception": false,
     "start_time": "2022-01-07T13:17:18.996103",
     "status": "completed"
    },
    "tags": []
   },
   "outputs": [
    {
     "name": "stdout",
     "output_type": "stream",
     "text": [
      "vocab len: 66\n",
      "{'ACG': 64, 'TCG': 63, 'GCG': 62, 'CCG': 61, 'CGC': 59, 'CTA': 58, 'ATT': 57, 'AGG': 55, 'CTT': 56, 'CGG': 54, 'CTC': 53, 'ACC': 49, 'AGC': 48, 'GTA': 4, 'ATA': 14, 'CGT': 45, 'GGC': 44, '<pad>': 65, 'TCA': 7, 'CAG': 43, 'GTT': 38, 'CCA': 37, 'CAA': 34, 'AAG': 32, 'CAT': 26, 'GCT': 25, 'CTG': 23, 'TCC': 39, 'AAC': 22, 'TTC': 21, 'ATG': 15, 'GAA': 41, 'CCC': 47, 'GAC': 20, 'AGT': 40, 'TTA': 33, 'TGG': 18, 'ATC': 6, 'TAT': 8, 'TAC': 19, 'ACA': 16, 'AAA': 3, 'TTG': 29, 'GGA': 1, 'AAT': 13, 'TGT': 11, 'CGA': 60, 'GTC': 52, 'GCC': 30, 'TTT': 10, 'GGG': 50, 'GAT': 31, 'TGC': 28, 'AGA': 36, 'CAC': 27, '<unk>': 0, 'CCT': 5, 'GTG': 46, 'TAA': 51, 'TCT': 42, 'ACT': 17, 'GAG': 12, 'TAG': 2, 'TGA': 35, 'GCA': 24, 'GGT': 9}\n"
     ]
    }
   ],
   "source": [
    "tokenizer = get_tokenizer(config['tokenizer'])\n",
    "tokenizer.train(train_dset=train_dset, vocab_size=VOCAB_SIZE, kmer=KMER)\n",
    "vocabulary = build_vocab(train_dset, tokenizer, use_padding=config[\"use_padding\"])\n",
    "\n",
    "print(\"vocab len:\" ,vocabulary.__len__())\n",
    "print(vocabulary.get_stoi())"
   ]
  },
  {
   "cell_type": "markdown",
   "id": "2e83698b",
   "metadata": {
    "id": "3hGQpSJA5kdT",
    "papermill": {
     "duration": 0.017218,
     "end_time": "2022-01-07T13:17:25.804690",
     "exception": false,
     "start_time": "2022-01-07T13:17:25.787472",
     "status": "completed"
    },
    "tags": []
   },
   "source": [
    "## Dataloader and batch preparation"
   ]
  },
  {
   "cell_type": "code",
   "execution_count": 8,
   "id": "fe79b5b7",
   "metadata": {
    "colab": {
     "base_uri": "https://localhost:8080/"
    },
    "execution": {
     "iopub.execute_input": "2022-01-07T13:17:25.845140Z",
     "iopub.status.busy": "2022-01-07T13:17:25.844401Z",
     "iopub.status.idle": "2022-01-07T13:17:37.101124Z",
     "shell.execute_reply": "2022-01-07T13:17:37.101608Z"
    },
    "id": "gXUgPH6q5kdT",
    "outputId": "a1eb6ba2-9bcd-416d-8662-e3516121da96",
    "papermill": {
     "duration": 11.277959,
     "end_time": "2022-01-07T13:17:37.101810",
     "exception": false,
     "start_time": "2022-01-07T13:17:25.823851",
     "status": "completed"
    },
    "tags": []
   },
   "outputs": [
    {
     "name": "stdout",
     "output_type": "stream",
     "text": [
      "Using cpu device\n"
     ]
    },
    {
     "name": "stdout",
     "output_type": "stream",
     "text": [
      "max_tok_len  66\n"
     ]
    }
   ],
   "source": [
    "# Run on GPU or CPU\n",
    "device = 'cuda' if config[\"run_on_gpu\"] and torch.cuda.is_available() else 'cpu'\n",
    "print('Using {} device'.format(device))\n",
    "\n",
    "max_tok_len = check_seq_lengths(dataset=train_dset, tokenizer=tokenizer)\n",
    "\n",
    "# Data Loader\n",
    "collate = coll_factory(vocabulary, tokenizer, device, pad_to_length = max_tok_len)\n",
    "\n",
    "train_loader = DataLoader(train_dset, batch_size=config[\"batch_size\"], shuffle=True, collate_fn=collate)"
   ]
  },
  {
   "cell_type": "code",
   "execution_count": 9,
   "id": "386beeee",
   "metadata": {
    "execution": {
     "iopub.execute_input": "2022-01-07T13:17:37.151878Z",
     "iopub.status.busy": "2022-01-07T13:17:37.138118Z",
     "iopub.status.idle": "2022-01-07T13:17:37.156156Z",
     "shell.execute_reply": "2022-01-07T13:17:37.155503Z"
    },
    "papermill": {
     "duration": 0.039064,
     "end_time": "2022-01-07T13:17:37.156337",
     "exception": false,
     "start_time": "2022-01-07T13:17:37.117273",
     "status": "completed"
    },
    "tags": []
   },
   "outputs": [
    {
     "data": {
      "text/plain": [
       "['CCA',\n",
       " 'TCC',\n",
       " 'GAG',\n",
       " 'TGT',\n",
       " 'CCT',\n",
       " 'AGT',\n",
       " 'GAA',\n",
       " 'TCT',\n",
       " 'GCA',\n",
       " 'GCC',\n",
       " 'CAG',\n",
       " 'ATG',\n",
       " 'GGC',\n",
       " 'TCA',\n",
       " 'CGT',\n",
       " 'TTC',\n",
       " 'CCT',\n",
       " 'GTG',\n",
       " 'TAC',\n",
       " 'CCC',\n",
       " 'ACA',\n",
       " 'TGC',\n",
       " 'CCA',\n",
       " 'CTG',\n",
       " 'AGC',\n",
       " 'CCC',\n",
       " 'GAA',\n",
       " 'GTG',\n",
       " 'GTT',\n",
       " 'GCC',\n",
       " 'CAG',\n",
       " 'ACC',\n",
       " 'CCT',\n",
       " 'TAC',\n",
       " 'CCA',\n",
       " 'GAC',\n",
       " 'CCC',\n",
       " 'GGG',\n",
       " 'CTG',\n",
       " 'AAA',\n",
       " 'GAA',\n",
       " 'CCT',\n",
       " 'TGT',\n",
       " 'GTG',\n",
       " 'GTT',\n",
       " 'TAA',\n",
       " 'TCT',\n",
       " 'CAG',\n",
       " 'AGC',\n",
       " 'AGA',\n",
       " 'GTC',\n",
       " 'CTC',\n",
       " 'TGA',\n",
       " 'GCT',\n",
       " 'GGA',\n",
       " 'GAT',\n",
       " 'GTT',\n",
       " 'TGA',\n",
       " 'TTG',\n",
       " 'AGA',\n",
       " 'GAC',\n",
       " 'TGC',\n",
       " 'CGG',\n",
       " 'AGG',\n",
       " 'GGC',\n",
       " 'CTC']"
      ]
     },
     "execution_count": 9,
     "metadata": {},
     "output_type": "execute_result"
    }
   ],
   "source": [
    "tokenizer(train_dset[1][0])"
   ]
  },
  {
   "cell_type": "markdown",
   "id": "7d5aa0fa",
   "metadata": {
    "id": "sTTomnnP5kdU",
    "papermill": {
     "duration": 0.015919,
     "end_time": "2022-01-07T13:17:37.188653",
     "exception": false,
     "start_time": "2022-01-07T13:17:37.172734",
     "status": "completed"
    },
    "tags": []
   },
   "source": [
    "## Model"
   ]
  },
  {
   "cell_type": "code",
   "execution_count": 10,
   "id": "eb5af243",
   "metadata": {
    "execution": {
     "iopub.execute_input": "2022-01-07T13:17:37.226908Z",
     "iopub.status.busy": "2022-01-07T13:17:37.226139Z",
     "iopub.status.idle": "2022-01-07T13:17:37.235021Z",
     "shell.execute_reply": "2022-01-07T13:17:37.235498Z"
    },
    "id": "ZNuXGIdD5kdU",
    "papermill": {
     "duration": 0.03103,
     "end_time": "2022-01-07T13:17:37.235699",
     "exception": false,
     "start_time": "2022-01-07T13:17:37.204669",
     "status": "completed"
    },
    "tags": []
   },
   "outputs": [],
   "source": [
    "model = CNN(\n",
    "    number_of_classes=config[\"number_of_classes\"],\n",
    "    vocab_size=vocabulary.__len__(),\n",
    "    embedding_dim=config[\"embedding_dim\"],\n",
    "    input_len=max_tok_len\n",
    ").to(device)"
   ]
  },
  {
   "cell_type": "markdown",
   "id": "6b362fbb",
   "metadata": {
    "id": "1pqIm92h5kdV",
    "papermill": {
     "duration": 0.018781,
     "end_time": "2022-01-07T13:17:37.270707",
     "exception": false,
     "start_time": "2022-01-07T13:17:37.251926",
     "status": "completed"
    },
    "tags": []
   },
   "source": [
    "## Training"
   ]
  },
  {
   "cell_type": "code",
   "execution_count": 11,
   "id": "07c3e5cb",
   "metadata": {
    "colab": {
     "base_uri": "https://localhost:8080/"
    },
    "execution": {
     "iopub.execute_input": "2022-01-07T13:17:37.311552Z",
     "iopub.status.busy": "2022-01-07T13:17:37.310806Z",
     "iopub.status.idle": "2022-01-07T13:22:23.515244Z",
     "shell.execute_reply": "2022-01-07T13:22:23.515762Z"
    },
    "id": "uvO_-RFm5kdV",
    "outputId": "7799e5f9-78a7-4ef2-95e8-f06751912eda",
    "papermill": {
     "duration": 286.226425,
     "end_time": "2022-01-07T13:22:23.515972",
     "exception": false,
     "start_time": "2022-01-07T13:17:37.289547",
     "status": "completed"
    },
    "tags": []
   },
   "outputs": [
    {
     "name": "stdout",
     "output_type": "stream",
     "text": [
      "Epoch 0\n"
     ]
    },
    {
     "name": "stderr",
     "output_type": "stream",
     "text": [
      "/Users/katarina/Documents/repositories/GitHub/GLP/src/glp/tokenizers/utils.py:27: UserWarning: To copy construct from a tensor, it is recommended to use sourceTensor.clone().detach() or sourceTensor.clone().detach().requires_grad_(True), rather than torch.tensor(sourceTensor).\n",
      "  x = torch.tensor(pad(x), dtype=torch.long)\n"
     ]
    },
    {
     "name": "stdout",
     "output_type": "stream",
     "text": [
      "Train metrics: \n",
      " Accuracy: 81.2%, Avg loss: 0.584524 \n",
      "\n",
      "Epoch 1\n"
     ]
    },
    {
     "name": "stdout",
     "output_type": "stream",
     "text": [
      "Train metrics: \n",
      " Accuracy: 82.9%, Avg loss: 0.581704 \n",
      "\n",
      "Epoch 2\n"
     ]
    },
    {
     "name": "stdout",
     "output_type": "stream",
     "text": [
      "Train metrics: \n",
      " Accuracy: 84.2%, Avg loss: 0.573939 \n",
      "\n",
      "Epoch 3\n"
     ]
    },
    {
     "name": "stdout",
     "output_type": "stream",
     "text": [
      "Train metrics: \n",
      " Accuracy: 84.6%, Avg loss: 0.573182 \n",
      "\n",
      "Epoch 4\n"
     ]
    },
    {
     "name": "stdout",
     "output_type": "stream",
     "text": [
      "Train metrics: \n",
      " Accuracy: 85.1%, Avg loss: 0.569501 \n",
      "\n"
     ]
    }
   ],
   "source": [
    "model.train(train_loader, epochs=config[\"epochs\"])"
   ]
  },
  {
   "cell_type": "markdown",
   "id": "009d92af",
   "metadata": {
    "id": "bR2tamrc5kdV",
    "papermill": {
     "duration": 0.026959,
     "end_time": "2022-01-07T13:22:23.562405",
     "exception": false,
     "start_time": "2022-01-07T13:22:23.535446",
     "status": "completed"
    },
    "tags": []
   },
   "source": [
    "## Testing"
   ]
  },
  {
   "cell_type": "code",
   "execution_count": 12,
   "id": "ccb2aa7f",
   "metadata": {
    "colab": {
     "base_uri": "https://localhost:8080/"
    },
    "execution": {
     "iopub.execute_input": "2022-01-07T13:22:23.609453Z",
     "iopub.status.busy": "2022-01-07T13:22:23.608732Z",
     "iopub.status.idle": "2022-01-07T13:22:31.207684Z",
     "shell.execute_reply": "2022-01-07T13:22:31.208220Z"
    },
    "id": "wbnciyRK5kdW",
    "outputId": "d2592f9d-f074-465f-95f8-df3b759ae068",
    "papermill": {
     "duration": 7.62323,
     "end_time": "2022-01-07T13:22:31.208436",
     "exception": false,
     "start_time": "2022-01-07T13:22:23.585206",
     "status": "completed"
    },
    "tags": []
   },
   "outputs": [
    {
     "name": "stdout",
     "output_type": "stream",
     "text": [
      "p  12500 ; tp  9551.149959802628 ; fp  1296.3022161659421\n",
      "recall  0.7640919967842102 ; precision  0.8804970793936507\n",
      "num_batches 782\n",
      "correct 20771\n",
      "size 25000\n",
      "Test metrics: \n",
      " Accuracy: 0.830840, F1 score: 0.818175, Avg loss: 0.578670 \n",
      "\n"
     ]
    },
    {
     "data": {
      "text/plain": [
       "(0.83084, 0.8181749244256797)"
      ]
     },
     "execution_count": 12,
     "metadata": {},
     "output_type": "execute_result"
    }
   ],
   "source": [
    "test_dset = get_dataset(config[\"dataset\"], 'test')\n",
    "test_loader = DataLoader(test_dset, batch_size=config[\"batch_size\"], shuffle=True, collate_fn=collate)\n",
    "\n",
    "acc, f1 = model.test(test_loader)\n",
    "acc, f1"
   ]
  }
 ],
 "metadata": {
  "accelerator": "TPU",
  "colab": {
   "name": "torch_cnn_classifier.ipynb",
   "provenance": []
  },
  "environment": {
   "name": "pytorch-gpu.1-9.m75",
   "type": "gcloud",
   "uri": "gcr.io/deeplearning-platform-release/pytorch-gpu.1-9:m75"
  },
  "interpreter": {
   "hash": "9828b828580f1cac1b571b33de6cff8bacecc8916095e1bcbc967952ca7105b7"
  },
  "kernelspec": {
   "display_name": "Python 3",
   "name": "python3"
  },
  "language_info": {
   "codemirror_mode": {
    "name": "ipython",
    "version": 3
   },
   "file_extension": ".py",
   "mimetype": "text/x-python",
   "name": "python",
   "nbconvert_exporter": "python",
   "pygments_lexer": "ipython3",
   "version": "3.8.9"
  },
  "papermill": {
   "default_parameters": {},
   "duration": 317.293108,
   "end_time": "2022-01-07T13:22:31.747396",
   "environment_variables": {},
   "exception": null,
   "input_path": "torch_cnn.ipynb",
   "output_path": "../torch_cnn_experiments/demo_coding_vs_intergenomic_seqs_kmer_3.ipynb",
   "parameters": {
    "DATASET": "demo_coding_vs_intergenomic_seqs",
    "KMER": 3,
    "TOKENIZER": "kmer"
   },
   "start_time": "2022-01-07T13:17:14.454288",
   "version": "2.3.3"
  }
 },
 "nbformat": 4,
 "nbformat_minor": 5
}