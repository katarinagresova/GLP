{
 "cells": [
  {
   "cell_type": "markdown",
   "id": "edd96a01",
   "metadata": {
    "id": "SKOD9lvq5kdM",
    "papermill": {
     "duration": 0.023377,
     "end_time": "2022-01-07T12:49:30.732597",
     "exception": false,
     "start_time": "2022-01-07T12:49:30.709220",
     "status": "completed"
    },
    "tags": []
   },
   "source": [
    "# PYTORCH CNN Classifier"
   ]
  },
  {
   "cell_type": "code",
   "execution_count": 1,
   "id": "3c28447b",
   "metadata": {
    "execution": {
     "iopub.execute_input": "2022-01-07T12:49:30.782496Z",
     "iopub.status.busy": "2022-01-07T12:49:30.781376Z",
     "iopub.status.idle": "2022-01-07T12:49:30.786241Z",
     "shell.execute_reply": "2022-01-07T12:49:30.786785Z"
    },
    "id": "E8prt3AL5kdO",
    "papermill": {
     "duration": 0.036343,
     "end_time": "2022-01-07T12:49:30.787208",
     "exception": false,
     "start_time": "2022-01-07T12:49:30.750865",
     "status": "completed"
    },
    "tags": [
     "parameters"
    ]
   },
   "outputs": [],
   "source": [
    "DATASET = 'none'\n",
    "VOCAB_SIZE = 0\n",
    "TOKENIZER = 'none'\n",
    "KMER = 0"
   ]
  },
  {
   "cell_type": "code",
   "execution_count": 2,
   "id": "52ffe5e9",
   "metadata": {
    "execution": {
     "iopub.execute_input": "2022-01-07T12:49:30.826524Z",
     "iopub.status.busy": "2022-01-07T12:49:30.825192Z",
     "iopub.status.idle": "2022-01-07T12:49:30.827933Z",
     "shell.execute_reply": "2022-01-07T12:49:30.828398Z"
    },
    "papermill": {
     "duration": 0.025199,
     "end_time": "2022-01-07T12:49:30.828589",
     "exception": false,
     "start_time": "2022-01-07T12:49:30.803390",
     "status": "completed"
    },
    "tags": [
     "injected-parameters"
    ]
   },
   "outputs": [],
   "source": [
    "# Parameters\n",
    "DATASET = \"human_nontata_promoters\"\n",
    "TOKENIZER = \"kmer\"\n",
    "KMER = 2\n"
   ]
  },
  {
   "cell_type": "code",
   "execution_count": 3,
   "id": "fd1e7937",
   "metadata": {
    "colab": {
     "base_uri": "https://localhost:8080/"
    },
    "execution": {
     "iopub.execute_input": "2022-01-07T12:49:30.868383Z",
     "iopub.status.busy": "2022-01-07T12:49:30.867402Z",
     "iopub.status.idle": "2022-01-07T12:49:30.871461Z",
     "shell.execute_reply": "2022-01-07T12:49:30.872617Z"
    },
    "id": "rohBItfR5kdP",
    "outputId": "7da7aafe-0858-48be-bf7d-f698784d88df",
    "papermill": {
     "duration": 0.028007,
     "end_time": "2022-01-07T12:49:30.872861",
     "exception": false,
     "start_time": "2022-01-07T12:49:30.844854",
     "status": "completed"
    },
    "tags": []
   },
   "outputs": [
    {
     "name": "stdout",
     "output_type": "stream",
     "text": [
      "human_nontata_promoters 0 kmer 2\n"
     ]
    }
   ],
   "source": [
    "print(DATASET, VOCAB_SIZE, TOKENIZER, KMER)"
   ]
  },
  {
   "cell_type": "markdown",
   "id": "7c8c084f",
   "metadata": {
    "id": "Y-YQrVyb5kdQ",
    "papermill": {
     "duration": 0.017628,
     "end_time": "2022-01-07T12:49:30.908404",
     "exception": false,
     "start_time": "2022-01-07T12:49:30.890776",
     "status": "completed"
    },
    "tags": []
   },
   "source": [
    "## Config"
   ]
  },
  {
   "cell_type": "code",
   "execution_count": 4,
   "id": "e4c315a8",
   "metadata": {
    "execution": {
     "iopub.execute_input": "2022-01-07T12:49:30.953383Z",
     "iopub.status.busy": "2022-01-07T12:49:30.951612Z",
     "iopub.status.idle": "2022-01-07T12:49:33.806137Z",
     "shell.execute_reply": "2022-01-07T12:49:33.806731Z"
    },
    "id": "FIunuyGk5kdR",
    "papermill": {
     "duration": 2.879611,
     "end_time": "2022-01-07T12:49:33.806947",
     "exception": false,
     "start_time": "2022-01-07T12:49:30.927336",
     "status": "completed"
    },
    "tags": []
   },
   "outputs": [],
   "source": [
    "import torch\n",
    "from torch.utils.data import DataLoader\n",
    "\n",
    "from genomic_benchmarks.dataset_getters.pytorch_datasets import get_dataset\n",
    "from glp.models import CNN\n",
    "from glp.tokenizers import get_tokenizer\n",
    "from glp.tokenizers.utils import build_vocab, coll_factory, check_config, check_seq_lengths"
   ]
  },
  {
   "cell_type": "code",
   "execution_count": 5,
   "id": "da40d629",
   "metadata": {
    "execution": {
     "iopub.execute_input": "2022-01-07T12:49:33.845244Z",
     "iopub.status.busy": "2022-01-07T12:49:33.844344Z",
     "iopub.status.idle": "2022-01-07T12:49:33.846282Z",
     "shell.execute_reply": "2022-01-07T12:49:33.846777Z"
    },
    "id": "UgXiF6Zz5kdR",
    "papermill": {
     "duration": 0.024317,
     "end_time": "2022-01-07T12:49:33.846974",
     "exception": false,
     "start_time": "2022-01-07T12:49:33.822657",
     "status": "completed"
    },
    "tags": []
   },
   "outputs": [],
   "source": [
    "config = {\n",
    "    \"dataset\": DATASET,\n",
    "    \"tokenizer\": TOKENIZER,\n",
    "    \"dataset_version\": 0,\n",
    "    \"epochs\": 5,\n",
    "    \"batch_size\": 32,\n",
    "    \"use_padding\": True,\n",
    "    \"force_download\": False,\n",
    "    \"run_on_gpu\": True,\n",
    "    \"number_of_classes\": 2,\n",
    "    \"embedding_dim\": 100,\n",
    "}\n",
    "check_config(config)"
   ]
  },
  {
   "cell_type": "markdown",
   "id": "cf347e41",
   "metadata": {
    "id": "AUWF-avz5kdS",
    "papermill": {
     "duration": 0.018354,
     "end_time": "2022-01-07T12:49:33.881543",
     "exception": false,
     "start_time": "2022-01-07T12:49:33.863189",
     "status": "completed"
    },
    "tags": []
   },
   "source": [
    "## Choose the dataset"
   ]
  },
  {
   "cell_type": "code",
   "execution_count": 6,
   "id": "66c4f3fb",
   "metadata": {
    "colab": {
     "base_uri": "https://localhost:8080/"
    },
    "execution": {
     "iopub.execute_input": "2022-01-07T12:49:33.917591Z",
     "iopub.status.busy": "2022-01-07T12:49:33.916651Z",
     "iopub.status.idle": "2022-01-07T12:49:34.139516Z",
     "shell.execute_reply": "2022-01-07T12:49:34.138744Z"
    },
    "id": "1oaryDJr5kdS",
    "outputId": "6a425df9-4092-4601-9cd9-f61d524b6278",
    "papermill": {
     "duration": 0.243522,
     "end_time": "2022-01-07T12:49:34.140021",
     "exception": false,
     "start_time": "2022-01-07T12:49:33.896499",
     "status": "completed"
    },
    "tags": []
   },
   "outputs": [],
   "source": [
    "train_dset = get_dataset(config[\"dataset\"], 'train')"
   ]
  },
  {
   "cell_type": "markdown",
   "id": "718a47e8",
   "metadata": {
    "id": "B0lqmy935kdS",
    "papermill": {
     "duration": 0.020163,
     "end_time": "2022-01-07T12:49:34.195367",
     "exception": false,
     "start_time": "2022-01-07T12:49:34.175204",
     "status": "completed"
    },
    "tags": []
   },
   "source": [
    "## Tokenizer and vocab"
   ]
  },
  {
   "cell_type": "code",
   "execution_count": 7,
   "id": "bfbbedda",
   "metadata": {
    "colab": {
     "base_uri": "https://localhost:8080/"
    },
    "execution": {
     "iopub.execute_input": "2022-01-07T12:49:34.266043Z",
     "iopub.status.busy": "2022-01-07T12:49:34.263982Z",
     "iopub.status.idle": "2022-01-07T12:49:43.854728Z",
     "shell.execute_reply": "2022-01-07T12:49:43.855619Z"
    },
    "id": "NY_zualp5kdT",
    "outputId": "9034d65f-2f9a-4c83-a314-13d3b808fc65",
    "papermill": {
     "duration": 9.636879,
     "end_time": "2022-01-07T12:49:43.856053",
     "exception": false,
     "start_time": "2022-01-07T12:49:34.219174",
     "status": "completed"
    },
    "tags": []
   },
   "outputs": [
    {
     "name": "stdout",
     "output_type": "stream",
     "text": [
      "vocab len: 18\n",
      "{'TT': 15, 'CC': 14, 'CG': 12, 'GT': 13, 'AT': 11, 'GC': 10, '<pad>': 17, 'CT': 8, 'TA': 7, 'TG': 9, 'GA': 5, 'TC': 4, 'AG': 16, 'AA': 3, 'GG': 2, 'CA': 1, 'AC': 6, '<unk>': 0}\n"
     ]
    }
   ],
   "source": [
    "tokenizer = get_tokenizer(config['tokenizer'])\n",
    "tokenizer.train(train_dset=train_dset, vocab_size=VOCAB_SIZE, kmer=KMER)\n",
    "vocabulary = build_vocab(train_dset, tokenizer, use_padding=config[\"use_padding\"])\n",
    "\n",
    "print(\"vocab len:\" ,vocabulary.__len__())\n",
    "print(vocabulary.get_stoi())"
   ]
  },
  {
   "cell_type": "markdown",
   "id": "777bc9c3",
   "metadata": {
    "id": "3hGQpSJA5kdT",
    "papermill": {
     "duration": 0.016827,
     "end_time": "2022-01-07T12:49:43.896690",
     "exception": false,
     "start_time": "2022-01-07T12:49:43.879863",
     "status": "completed"
    },
    "tags": []
   },
   "source": [
    "## Dataloader and batch preparation"
   ]
  },
  {
   "cell_type": "code",
   "execution_count": 8,
   "id": "8e3b090e",
   "metadata": {
    "colab": {
     "base_uri": "https://localhost:8080/"
    },
    "execution": {
     "iopub.execute_input": "2022-01-07T12:49:43.936273Z",
     "iopub.status.busy": "2022-01-07T12:49:43.934829Z",
     "iopub.status.idle": "2022-01-07T12:50:01.987115Z",
     "shell.execute_reply": "2022-01-07T12:50:01.986501Z"
    },
    "id": "gXUgPH6q5kdT",
    "outputId": "a1eb6ba2-9bcd-416d-8662-e3516121da96",
    "papermill": {
     "duration": 18.074065,
     "end_time": "2022-01-07T12:50:01.987302",
     "exception": false,
     "start_time": "2022-01-07T12:49:43.913237",
     "status": "completed"
    },
    "tags": []
   },
   "outputs": [
    {
     "name": "stdout",
     "output_type": "stream",
     "text": [
      "Using cpu device\n"
     ]
    },
    {
     "name": "stdout",
     "output_type": "stream",
     "text": [
      "max_tok_len  125\n"
     ]
    }
   ],
   "source": [
    "# Run on GPU or CPU\n",
    "device = 'cuda' if config[\"run_on_gpu\"] and torch.cuda.is_available() else 'cpu'\n",
    "print('Using {} device'.format(device))\n",
    "\n",
    "max_tok_len = check_seq_lengths(dataset=train_dset, tokenizer=tokenizer)\n",
    "\n",
    "# Data Loader\n",
    "collate = coll_factory(vocabulary, tokenizer, device, pad_to_length = max_tok_len)\n",
    "\n",
    "train_loader = DataLoader(train_dset, batch_size=config[\"batch_size\"], shuffle=True, collate_fn=collate)"
   ]
  },
  {
   "cell_type": "code",
   "execution_count": 9,
   "id": "527a3e95",
   "metadata": {
    "execution": {
     "iopub.execute_input": "2022-01-07T12:50:02.041169Z",
     "iopub.status.busy": "2022-01-07T12:50:02.030619Z",
     "iopub.status.idle": "2022-01-07T12:50:02.044641Z",
     "shell.execute_reply": "2022-01-07T12:50:02.045317Z"
    },
    "papermill": {
     "duration": 0.040277,
     "end_time": "2022-01-07T12:50:02.045551",
     "exception": false,
     "start_time": "2022-01-07T12:50:02.005274",
     "status": "completed"
    },
    "tags": []
   },
   "outputs": [
    {
     "data": {
      "text/plain": [
       "['CA',\n",
       " 'CT',\n",
       " 'CT',\n",
       " 'GT',\n",
       " 'GT',\n",
       " 'TC',\n",
       " 'TT',\n",
       " 'TT',\n",
       " 'AA',\n",
       " 'AA',\n",
       " 'TC',\n",
       " 'CC',\n",
       " 'TC',\n",
       " 'AG',\n",
       " 'GT',\n",
       " 'TT',\n",
       " 'TA',\n",
       " 'TG',\n",
       " 'TT',\n",
       " 'TT',\n",
       " 'AT',\n",
       " 'TG',\n",
       " 'CT',\n",
       " 'AC',\n",
       " 'CA',\n",
       " 'GA',\n",
       " 'GT',\n",
       " 'CT',\n",
       " 'GC',\n",
       " 'CT',\n",
       " 'CC',\n",
       " 'CT',\n",
       " 'GA',\n",
       " 'GG',\n",
       " 'TT',\n",
       " 'CT',\n",
       " 'TG',\n",
       " 'TA',\n",
       " 'TA',\n",
       " 'GA',\n",
       " 'CT',\n",
       " 'AG',\n",
       " 'TT',\n",
       " 'AT',\n",
       " 'TT',\n",
       " 'CC',\n",
       " 'CT',\n",
       " 'CT',\n",
       " 'GT',\n",
       " 'AA',\n",
       " 'AG',\n",
       " 'AA',\n",
       " 'GC',\n",
       " 'TG',\n",
       " 'TT',\n",
       " 'CT',\n",
       " 'AT',\n",
       " 'TC',\n",
       " 'GT',\n",
       " 'TC',\n",
       " 'TC',\n",
       " 'GC',\n",
       " 'CT',\n",
       " 'GG',\n",
       " 'TT',\n",
       " 'TG',\n",
       " 'GA',\n",
       " 'AC',\n",
       " 'AA',\n",
       " 'AC',\n",
       " 'TG',\n",
       " 'AA',\n",
       " 'CA',\n",
       " 'CT',\n",
       " 'TC',\n",
       " 'CA',\n",
       " 'AA',\n",
       " 'GG',\n",
       " 'AG',\n",
       " 'GC',\n",
       " 'AG',\n",
       " 'TC',\n",
       " 'CT',\n",
       " 'TG',\n",
       " 'CA',\n",
       " 'GC',\n",
       " 'CT',\n",
       " 'TG',\n",
       " 'TC',\n",
       " 'TC',\n",
       " 'CT',\n",
       " 'TC',\n",
       " 'CA',\n",
       " 'CT',\n",
       " 'CC',\n",
       " 'CC',\n",
       " 'TC',\n",
       " 'CT',\n",
       " 'CC',\n",
       " 'CC',\n",
       " 'AC',\n",
       " 'AG',\n",
       " 'TC',\n",
       " 'CT',\n",
       " 'GG',\n",
       " 'CT',\n",
       " 'GG',\n",
       " 'AG',\n",
       " 'CA',\n",
       " 'GC',\n",
       " 'GA',\n",
       " 'GT',\n",
       " 'CT',\n",
       " 'GT',\n",
       " 'CG',\n",
       " 'AT',\n",
       " 'CC',\n",
       " 'CA',\n",
       " 'GG',\n",
       " 'CC',\n",
       " 'AG',\n",
       " 'AG',\n",
       " 'AC',\n",
       " 'AA',\n",
       " 'GG']"
      ]
     },
     "execution_count": 9,
     "metadata": {},
     "output_type": "execute_result"
    }
   ],
   "source": [
    "tokenizer(train_dset[1][0])"
   ]
  },
  {
   "cell_type": "markdown",
   "id": "aeb238b9",
   "metadata": {
    "id": "sTTomnnP5kdU",
    "papermill": {
     "duration": 0.016735,
     "end_time": "2022-01-07T12:50:02.080330",
     "exception": false,
     "start_time": "2022-01-07T12:50:02.063595",
     "status": "completed"
    },
    "tags": []
   },
   "source": [
    "## Model"
   ]
  },
  {
   "cell_type": "code",
   "execution_count": 10,
   "id": "407e6819",
   "metadata": {
    "execution": {
     "iopub.execute_input": "2022-01-07T12:50:02.120574Z",
     "iopub.status.busy": "2022-01-07T12:50:02.119812Z",
     "iopub.status.idle": "2022-01-07T12:50:02.130407Z",
     "shell.execute_reply": "2022-01-07T12:50:02.130919Z"
    },
    "id": "ZNuXGIdD5kdU",
    "papermill": {
     "duration": 0.032791,
     "end_time": "2022-01-07T12:50:02.131128",
     "exception": false,
     "start_time": "2022-01-07T12:50:02.098337",
     "status": "completed"
    },
    "tags": []
   },
   "outputs": [],
   "source": [
    "model = CNN(\n",
    "    number_of_classes=config[\"number_of_classes\"],\n",
    "    vocab_size=vocabulary.__len__(),\n",
    "    embedding_dim=config[\"embedding_dim\"],\n",
    "    input_len=max_tok_len\n",
    ").to(device)"
   ]
  },
  {
   "cell_type": "markdown",
   "id": "30bd634e",
   "metadata": {
    "id": "1pqIm92h5kdV",
    "papermill": {
     "duration": 0.017651,
     "end_time": "2022-01-07T12:50:02.165841",
     "exception": false,
     "start_time": "2022-01-07T12:50:02.148190",
     "status": "completed"
    },
    "tags": []
   },
   "source": [
    "## Training"
   ]
  },
  {
   "cell_type": "code",
   "execution_count": 11,
   "id": "56568f04",
   "metadata": {
    "colab": {
     "base_uri": "https://localhost:8080/"
    },
    "execution": {
     "iopub.execute_input": "2022-01-07T12:50:02.206117Z",
     "iopub.status.busy": "2022-01-07T12:50:02.205343Z",
     "iopub.status.idle": "2022-01-07T12:54:36.114239Z",
     "shell.execute_reply": "2022-01-07T12:54:36.114723Z"
    },
    "id": "uvO_-RFm5kdV",
    "outputId": "7799e5f9-78a7-4ef2-95e8-f06751912eda",
    "papermill": {
     "duration": 273.931398,
     "end_time": "2022-01-07T12:54:36.114953",
     "exception": false,
     "start_time": "2022-01-07T12:50:02.183555",
     "status": "completed"
    },
    "tags": []
   },
   "outputs": [
    {
     "name": "stdout",
     "output_type": "stream",
     "text": [
      "Epoch 0\n"
     ]
    },
    {
     "name": "stderr",
     "output_type": "stream",
     "text": [
      "/Users/katarina/Documents/repositories/GitHub/GLP/src/glp/tokenizers/utils.py:27: UserWarning: To copy construct from a tensor, it is recommended to use sourceTensor.clone().detach() or sourceTensor.clone().detach().requires_grad_(True), rather than torch.tensor(sourceTensor).\n",
      "  x = torch.tensor(pad(x), dtype=torch.long)\n"
     ]
    },
    {
     "name": "stdout",
     "output_type": "stream",
     "text": [
      "Train metrics: \n",
      " Accuracy: 80.9%, Avg loss: 0.617436 \n",
      "\n",
      "Epoch 1\n"
     ]
    },
    {
     "name": "stdout",
     "output_type": "stream",
     "text": [
      "Train metrics: \n",
      " Accuracy: 80.3%, Avg loss: 0.609074 \n",
      "\n",
      "Epoch 2\n"
     ]
    },
    {
     "name": "stdout",
     "output_type": "stream",
     "text": [
      "Train metrics: \n",
      " Accuracy: 82.3%, Avg loss: 0.603836 \n",
      "\n",
      "Epoch 3\n"
     ]
    },
    {
     "name": "stdout",
     "output_type": "stream",
     "text": [
      "Train metrics: \n",
      " Accuracy: 82.7%, Avg loss: 0.599312 \n",
      "\n",
      "Epoch 4\n"
     ]
    },
    {
     "name": "stdout",
     "output_type": "stream",
     "text": [
      "Train metrics: \n",
      " Accuracy: 83.8%, Avg loss: 0.594474 \n",
      "\n"
     ]
    }
   ],
   "source": [
    "model.train(train_loader, epochs=config[\"epochs\"])"
   ]
  },
  {
   "cell_type": "markdown",
   "id": "5a85e918",
   "metadata": {
    "id": "bR2tamrc5kdV",
    "papermill": {
     "duration": 0.024318,
     "end_time": "2022-01-07T12:54:36.164652",
     "exception": false,
     "start_time": "2022-01-07T12:54:36.140334",
     "status": "completed"
    },
    "tags": []
   },
   "source": [
    "## Testing"
   ]
  },
  {
   "cell_type": "code",
   "execution_count": 12,
   "id": "0f97521a",
   "metadata": {
    "colab": {
     "base_uri": "https://localhost:8080/"
    },
    "execution": {
     "iopub.execute_input": "2022-01-07T12:54:36.219252Z",
     "iopub.status.busy": "2022-01-07T12:54:36.218059Z",
     "iopub.status.idle": "2022-01-07T12:54:44.682641Z",
     "shell.execute_reply": "2022-01-07T12:54:44.683136Z"
    },
    "id": "wbnciyRK5kdW",
    "outputId": "d2592f9d-f074-465f-95f8-df3b759ae068",
    "papermill": {
     "duration": 8.495862,
     "end_time": "2022-01-07T12:54:44.683344",
     "exception": false,
     "start_time": "2022-01-07T12:54:36.187482",
     "status": "completed"
    },
    "tags": []
   },
   "outputs": [
    {
     "name": "stdout",
     "output_type": "stream",
     "text": [
      "p  4119 ; tp  3002.943624019623 ; fp  630.4149087881381\n",
      "recall  0.7290467647534894 ; precision  0.8264925128924807\n",
      "num_batches 283\n",
      "correct 7298\n",
      "size 9034\n",
      "Test metrics: \n",
      " Accuracy: 0.807837, F1 score: 0.774717, Avg loss: 0.607943 \n",
      "\n"
     ]
    },
    {
     "data": {
      "text/plain": [
       "(0.8078370599955723, 0.7747174260094527)"
      ]
     },
     "execution_count": 12,
     "metadata": {},
     "output_type": "execute_result"
    }
   ],
   "source": [
    "test_dset = get_dataset(config[\"dataset\"], 'test')\n",
    "test_loader = DataLoader(test_dset, batch_size=config[\"batch_size\"], shuffle=True, collate_fn=collate)\n",
    "\n",
    "acc, f1 = model.test(test_loader)\n",
    "acc, f1"
   ]
  }
 ],
 "metadata": {
  "accelerator": "TPU",
  "colab": {
   "name": "torch_cnn_classifier.ipynb",
   "provenance": []
  },
  "environment": {
   "name": "pytorch-gpu.1-9.m75",
   "type": "gcloud",
   "uri": "gcr.io/deeplearning-platform-release/pytorch-gpu.1-9:m75"
  },
  "interpreter": {
   "hash": "9828b828580f1cac1b571b33de6cff8bacecc8916095e1bcbc967952ca7105b7"
  },
  "kernelspec": {
   "display_name": "Python 3",
   "name": "python3"
  },
  "language_info": {
   "codemirror_mode": {
    "name": "ipython",
    "version": 3
   },
   "file_extension": ".py",
   "mimetype": "text/x-python",
   "name": "python",
   "nbconvert_exporter": "python",
   "pygments_lexer": "ipython3",
   "version": "3.8.9"
  },
  "papermill": {
   "default_parameters": {},
   "duration": 316.495032,
   "end_time": "2022-01-07T12:54:45.228363",
   "environment_variables": {},
   "exception": null,
   "input_path": "torch_cnn.ipynb",
   "output_path": "../torch_cnn_experiments/human_nontata_promoters_kmer_2.ipynb",
   "parameters": {
    "DATASET": "human_nontata_promoters",
    "KMER": 2,
    "TOKENIZER": "kmer"
   },
   "start_time": "2022-01-07T12:49:28.733331",
   "version": "2.3.3"
  }
 },
 "nbformat": 4,
 "nbformat_minor": 5
}