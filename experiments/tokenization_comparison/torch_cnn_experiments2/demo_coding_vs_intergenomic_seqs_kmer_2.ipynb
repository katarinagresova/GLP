{
 "cells": [
  {
   "cell_type": "markdown",
   "id": "81a65550",
   "metadata": {
    "id": "SKOD9lvq5kdM",
    "papermill": {
     "duration": 0.018578,
     "end_time": "2022-01-07T13:05:31.327168",
     "exception": false,
     "start_time": "2022-01-07T13:05:31.308590",
     "status": "completed"
    },
    "tags": []
   },
   "source": [
    "# PYTORCH CNN Classifier"
   ]
  },
  {
   "cell_type": "code",
   "execution_count": 1,
   "id": "d47f7ae2",
   "metadata": {
    "execution": {
     "iopub.execute_input": "2022-01-07T13:05:31.370532Z",
     "iopub.status.busy": "2022-01-07T13:05:31.369142Z",
     "iopub.status.idle": "2022-01-07T13:05:31.373058Z",
     "shell.execute_reply": "2022-01-07T13:05:31.373549Z"
    },
    "id": "E8prt3AL5kdO",
    "papermill": {
     "duration": 0.031953,
     "end_time": "2022-01-07T13:05:31.373945",
     "exception": false,
     "start_time": "2022-01-07T13:05:31.341992",
     "status": "completed"
    },
    "tags": [
     "parameters"
    ]
   },
   "outputs": [],
   "source": [
    "DATASET = 'none'\n",
    "VOCAB_SIZE = 0\n",
    "TOKENIZER = 'none'\n",
    "KMER = 0"
   ]
  },
  {
   "cell_type": "code",
   "execution_count": 2,
   "id": "41af2eee",
   "metadata": {
    "execution": {
     "iopub.execute_input": "2022-01-07T13:05:31.406839Z",
     "iopub.status.busy": "2022-01-07T13:05:31.405973Z",
     "iopub.status.idle": "2022-01-07T13:05:31.408286Z",
     "shell.execute_reply": "2022-01-07T13:05:31.408908Z"
    },
    "papermill": {
     "duration": 0.021633,
     "end_time": "2022-01-07T13:05:31.409152",
     "exception": false,
     "start_time": "2022-01-07T13:05:31.387519",
     "status": "completed"
    },
    "tags": [
     "injected-parameters"
    ]
   },
   "outputs": [],
   "source": [
    "# Parameters\n",
    "DATASET = \"demo_coding_vs_intergenomic_seqs\"\n",
    "TOKENIZER = \"kmer\"\n",
    "KMER = 2\n"
   ]
  },
  {
   "cell_type": "code",
   "execution_count": 3,
   "id": "78b3cde2",
   "metadata": {
    "colab": {
     "base_uri": "https://localhost:8080/"
    },
    "execution": {
     "iopub.execute_input": "2022-01-07T13:05:31.443170Z",
     "iopub.status.busy": "2022-01-07T13:05:31.442239Z",
     "iopub.status.idle": "2022-01-07T13:05:31.446079Z",
     "shell.execute_reply": "2022-01-07T13:05:31.446561Z"
    },
    "id": "rohBItfR5kdP",
    "outputId": "7da7aafe-0858-48be-bf7d-f698784d88df",
    "papermill": {
     "duration": 0.022861,
     "end_time": "2022-01-07T13:05:31.446758",
     "exception": false,
     "start_time": "2022-01-07T13:05:31.423897",
     "status": "completed"
    },
    "tags": []
   },
   "outputs": [
    {
     "name": "stdout",
     "output_type": "stream",
     "text": [
      "demo_coding_vs_intergenomic_seqs 0 kmer 2\n"
     ]
    }
   ],
   "source": [
    "print(DATASET, VOCAB_SIZE, TOKENIZER, KMER)"
   ]
  },
  {
   "cell_type": "markdown",
   "id": "9b5fbb8c",
   "metadata": {
    "id": "Y-YQrVyb5kdQ",
    "papermill": {
     "duration": 0.016568,
     "end_time": "2022-01-07T13:05:31.478159",
     "exception": false,
     "start_time": "2022-01-07T13:05:31.461591",
     "status": "completed"
    },
    "tags": []
   },
   "source": [
    "## Config"
   ]
  },
  {
   "cell_type": "code",
   "execution_count": 4,
   "id": "8ce3da1e",
   "metadata": {
    "execution": {
     "iopub.execute_input": "2022-01-07T13:05:31.515120Z",
     "iopub.status.busy": "2022-01-07T13:05:31.514268Z",
     "iopub.status.idle": "2022-01-07T13:05:32.892747Z",
     "shell.execute_reply": "2022-01-07T13:05:32.893289Z"
    },
    "id": "FIunuyGk5kdR",
    "papermill": {
     "duration": 1.399066,
     "end_time": "2022-01-07T13:05:32.893555",
     "exception": false,
     "start_time": "2022-01-07T13:05:31.494489",
     "status": "completed"
    },
    "tags": []
   },
   "outputs": [],
   "source": [
    "import torch\n",
    "from torch.utils.data import DataLoader\n",
    "\n",
    "from genomic_benchmarks.dataset_getters.pytorch_datasets import get_dataset\n",
    "from glp.models import CNN\n",
    "from glp.tokenizers import get_tokenizer\n",
    "from glp.tokenizers.utils import build_vocab, coll_factory, check_config, check_seq_lengths"
   ]
  },
  {
   "cell_type": "code",
   "execution_count": 5,
   "id": "a12bcee1",
   "metadata": {
    "execution": {
     "iopub.execute_input": "2022-01-07T13:05:32.936843Z",
     "iopub.status.busy": "2022-01-07T13:05:32.935868Z",
     "iopub.status.idle": "2022-01-07T13:05:32.938821Z",
     "shell.execute_reply": "2022-01-07T13:05:32.938309Z"
    },
    "id": "UgXiF6Zz5kdR",
    "papermill": {
     "duration": 0.029412,
     "end_time": "2022-01-07T13:05:32.939043",
     "exception": false,
     "start_time": "2022-01-07T13:05:32.909631",
     "status": "completed"
    },
    "tags": []
   },
   "outputs": [],
   "source": [
    "config = {\n",
    "    \"dataset\": DATASET,\n",
    "    \"tokenizer\": TOKENIZER,\n",
    "    \"dataset_version\": 0,\n",
    "    \"epochs\": 5,\n",
    "    \"batch_size\": 32,\n",
    "    \"use_padding\": True,\n",
    "    \"force_download\": False,\n",
    "    \"run_on_gpu\": True,\n",
    "    \"number_of_classes\": 2,\n",
    "    \"embedding_dim\": 100,\n",
    "}\n",
    "check_config(config)"
   ]
  },
  {
   "cell_type": "markdown",
   "id": "113e7c45",
   "metadata": {
    "id": "AUWF-avz5kdS",
    "papermill": {
     "duration": 0.014415,
     "end_time": "2022-01-07T13:05:32.968618",
     "exception": false,
     "start_time": "2022-01-07T13:05:32.954203",
     "status": "completed"
    },
    "tags": []
   },
   "source": [
    "## Choose the dataset"
   ]
  },
  {
   "cell_type": "code",
   "execution_count": 6,
   "id": "69055cdf",
   "metadata": {
    "colab": {
     "base_uri": "https://localhost:8080/"
    },
    "execution": {
     "iopub.execute_input": "2022-01-07T13:05:33.003144Z",
     "iopub.status.busy": "2022-01-07T13:05:33.001928Z",
     "iopub.status.idle": "2022-01-07T13:05:33.546791Z",
     "shell.execute_reply": "2022-01-07T13:05:33.547757Z"
    },
    "id": "1oaryDJr5kdS",
    "outputId": "6a425df9-4092-4601-9cd9-f61d524b6278",
    "papermill": {
     "duration": 0.565132,
     "end_time": "2022-01-07T13:05:33.548108",
     "exception": false,
     "start_time": "2022-01-07T13:05:32.982976",
     "status": "completed"
    },
    "tags": []
   },
   "outputs": [],
   "source": [
    "train_dset = get_dataset(config[\"dataset\"], 'train')"
   ]
  },
  {
   "cell_type": "markdown",
   "id": "96975b6b",
   "metadata": {
    "id": "B0lqmy935kdS",
    "papermill": {
     "duration": 0.016666,
     "end_time": "2022-01-07T13:05:33.579000",
     "exception": false,
     "start_time": "2022-01-07T13:05:33.562334",
     "status": "completed"
    },
    "tags": []
   },
   "source": [
    "## Tokenizer and vocab"
   ]
  },
  {
   "cell_type": "code",
   "execution_count": 7,
   "id": "5c57cf2e",
   "metadata": {
    "colab": {
     "base_uri": "https://localhost:8080/"
    },
    "execution": {
     "iopub.execute_input": "2022-01-07T13:05:33.617754Z",
     "iopub.status.busy": "2022-01-07T13:05:33.616649Z",
     "iopub.status.idle": "2022-01-07T13:06:10.622970Z",
     "shell.execute_reply": "2022-01-07T13:06:10.623476Z"
    },
    "id": "NY_zualp5kdT",
    "outputId": "9034d65f-2f9a-4c83-a314-13d3b808fc65",
    "papermill": {
     "duration": 37.026973,
     "end_time": "2022-01-07T13:06:10.623687",
     "exception": false,
     "start_time": "2022-01-07T13:05:33.596714",
     "status": "completed"
    },
    "tags": []
   },
   "outputs": [
    {
     "name": "stdout",
     "output_type": "stream",
     "text": [
      "vocab len: 18\n",
      "{'CG': 16, 'CC': 15, 'GC': 14, 'TC': 13, 'GA': 12, 'TT': 11, 'TG': 10, 'AC': 6, 'CA': 8, 'AG': 3, 'AA': 4, 'TA': 9, '<pad>': 17, 'CT': 7, 'GT': 5, 'AT': 2, 'GG': 1, '<unk>': 0}\n"
     ]
    }
   ],
   "source": [
    "tokenizer = get_tokenizer(config['tokenizer'])\n",
    "tokenizer.train(train_dset=train_dset, vocab_size=VOCAB_SIZE, kmer=KMER)\n",
    "vocabulary = build_vocab(train_dset, tokenizer, use_padding=config[\"use_padding\"])\n",
    "\n",
    "print(\"vocab len:\" ,vocabulary.__len__())\n",
    "print(vocabulary.get_stoi())"
   ]
  },
  {
   "cell_type": "markdown",
   "id": "6a2f85ae",
   "metadata": {
    "id": "3hGQpSJA5kdT",
    "papermill": {
     "duration": 0.01943,
     "end_time": "2022-01-07T13:06:10.659325",
     "exception": false,
     "start_time": "2022-01-07T13:06:10.639895",
     "status": "completed"
    },
    "tags": []
   },
   "source": [
    "## Dataloader and batch preparation"
   ]
  },
  {
   "cell_type": "code",
   "execution_count": 8,
   "id": "f9d49370",
   "metadata": {
    "colab": {
     "base_uri": "https://localhost:8080/"
    },
    "execution": {
     "iopub.execute_input": "2022-01-07T13:06:10.702146Z",
     "iopub.status.busy": "2022-01-07T13:06:10.701112Z",
     "iopub.status.idle": "2022-01-07T13:06:53.969127Z",
     "shell.execute_reply": "2022-01-07T13:06:53.968563Z"
    },
    "id": "gXUgPH6q5kdT",
    "outputId": "a1eb6ba2-9bcd-416d-8662-e3516121da96",
    "papermill": {
     "duration": 43.291155,
     "end_time": "2022-01-07T13:06:53.969314",
     "exception": false,
     "start_time": "2022-01-07T13:06:10.678159",
     "status": "completed"
    },
    "tags": []
   },
   "outputs": [
    {
     "name": "stdout",
     "output_type": "stream",
     "text": [
      "Using cpu device\n"
     ]
    },
    {
     "name": "stdout",
     "output_type": "stream",
     "text": [
      "max_tok_len  100\n"
     ]
    }
   ],
   "source": [
    "# Run on GPU or CPU\n",
    "device = 'cuda' if config[\"run_on_gpu\"] and torch.cuda.is_available() else 'cpu'\n",
    "print('Using {} device'.format(device))\n",
    "\n",
    "max_tok_len = check_seq_lengths(dataset=train_dset, tokenizer=tokenizer)\n",
    "\n",
    "# Data Loader\n",
    "collate = coll_factory(vocabulary, tokenizer, device, pad_to_length = max_tok_len)\n",
    "\n",
    "train_loader = DataLoader(train_dset, batch_size=config[\"batch_size\"], shuffle=True, collate_fn=collate)"
   ]
  },
  {
   "cell_type": "code",
   "execution_count": 9,
   "id": "f58d653b",
   "metadata": {
    "execution": {
     "iopub.execute_input": "2022-01-07T13:06:54.010677Z",
     "iopub.status.busy": "2022-01-07T13:06:54.009837Z",
     "iopub.status.idle": "2022-01-07T13:06:54.028628Z",
     "shell.execute_reply": "2022-01-07T13:06:54.028064Z"
    },
    "papermill": {
     "duration": 0.042349,
     "end_time": "2022-01-07T13:06:54.028813",
     "exception": false,
     "start_time": "2022-01-07T13:06:53.986464",
     "status": "completed"
    },
    "tags": []
   },
   "outputs": [
    {
     "data": {
      "text/plain": [
       "['CC',\n",
       " 'AT',\n",
       " 'CC',\n",
       " 'GA',\n",
       " 'GT',\n",
       " 'GT',\n",
       " 'CC',\n",
       " 'TA',\n",
       " 'GT',\n",
       " 'GA',\n",
       " 'AT',\n",
       " 'CT',\n",
       " 'GC',\n",
       " 'AG',\n",
       " 'CC',\n",
       " 'CA',\n",
       " 'GA',\n",
       " 'TG',\n",
       " 'GG',\n",
       " 'CT',\n",
       " 'CA',\n",
       " 'CG',\n",
       " 'TT',\n",
       " 'TC',\n",
       " 'CC',\n",
       " 'TG',\n",
       " 'TG',\n",
       " 'TA',\n",
       " 'CC',\n",
       " 'CC',\n",
       " 'AC',\n",
       " 'AT',\n",
       " 'GC',\n",
       " 'CC',\n",
       " 'AC',\n",
       " 'TG',\n",
       " 'AG',\n",
       " 'CC',\n",
       " 'CC',\n",
       " 'GA',\n",
       " 'AG',\n",
       " 'TG',\n",
       " 'GT',\n",
       " 'TG',\n",
       " 'CC',\n",
       " 'CA',\n",
       " 'GA',\n",
       " 'CC',\n",
       " 'CC',\n",
       " 'TT',\n",
       " 'AC',\n",
       " 'CC',\n",
       " 'AG',\n",
       " 'AC',\n",
       " 'CC',\n",
       " 'CG',\n",
       " 'GG',\n",
       " 'CT',\n",
       " 'GA',\n",
       " 'AA',\n",
       " 'GA',\n",
       " 'AC',\n",
       " 'CT',\n",
       " 'TG',\n",
       " 'TG',\n",
       " 'TG',\n",
       " 'GT',\n",
       " 'TT',\n",
       " 'AA',\n",
       " 'TC',\n",
       " 'TC',\n",
       " 'AG',\n",
       " 'AG',\n",
       " 'CA',\n",
       " 'GA',\n",
       " 'GT',\n",
       " 'CC',\n",
       " 'TC',\n",
       " 'TG',\n",
       " 'AG',\n",
       " 'CT',\n",
       " 'GG',\n",
       " 'AG',\n",
       " 'AT',\n",
       " 'GT',\n",
       " 'TT',\n",
       " 'GA',\n",
       " 'TT',\n",
       " 'GA',\n",
       " 'GA',\n",
       " 'GA',\n",
       " 'CT',\n",
       " 'GC',\n",
       " 'CG',\n",
       " 'GA',\n",
       " 'GG',\n",
       " 'GG',\n",
       " 'CC',\n",
       " 'TC',\n",
       " 'CC']"
      ]
     },
     "execution_count": 9,
     "metadata": {},
     "output_type": "execute_result"
    }
   ],
   "source": [
    "tokenizer(train_dset[1][0])"
   ]
  },
  {
   "cell_type": "markdown",
   "id": "a8ed3a25",
   "metadata": {
    "id": "sTTomnnP5kdU",
    "papermill": {
     "duration": 0.016702,
     "end_time": "2022-01-07T13:06:54.062629",
     "exception": false,
     "start_time": "2022-01-07T13:06:54.045927",
     "status": "completed"
    },
    "tags": []
   },
   "source": [
    "## Model"
   ]
  },
  {
   "cell_type": "code",
   "execution_count": 10,
   "id": "87f7e0f0",
   "metadata": {
    "execution": {
     "iopub.execute_input": "2022-01-07T13:06:54.103689Z",
     "iopub.status.busy": "2022-01-07T13:06:54.102158Z",
     "iopub.status.idle": "2022-01-07T13:06:54.121088Z",
     "shell.execute_reply": "2022-01-07T13:06:54.120538Z"
    },
    "id": "ZNuXGIdD5kdU",
    "papermill": {
     "duration": 0.041009,
     "end_time": "2022-01-07T13:06:54.121277",
     "exception": false,
     "start_time": "2022-01-07T13:06:54.080268",
     "status": "completed"
    },
    "tags": []
   },
   "outputs": [],
   "source": [
    "model = CNN(\n",
    "    number_of_classes=config[\"number_of_classes\"],\n",
    "    vocab_size=vocabulary.__len__(),\n",
    "    embedding_dim=config[\"embedding_dim\"],\n",
    "    input_len=max_tok_len\n",
    ").to(device)"
   ]
  },
  {
   "cell_type": "markdown",
   "id": "f2cd1ae7",
   "metadata": {
    "id": "1pqIm92h5kdV",
    "papermill": {
     "duration": 0.019916,
     "end_time": "2022-01-07T13:06:54.158414",
     "exception": false,
     "start_time": "2022-01-07T13:06:54.138498",
     "status": "completed"
    },
    "tags": []
   },
   "source": [
    "## Training"
   ]
  },
  {
   "cell_type": "code",
   "execution_count": 11,
   "id": "3e8de738",
   "metadata": {
    "colab": {
     "base_uri": "https://localhost:8080/"
    },
    "execution": {
     "iopub.execute_input": "2022-01-07T13:06:54.204651Z",
     "iopub.status.busy": "2022-01-07T13:06:54.202965Z",
     "iopub.status.idle": "2022-01-07T13:16:49.241503Z",
     "shell.execute_reply": "2022-01-07T13:16:49.242015Z"
    },
    "id": "uvO_-RFm5kdV",
    "outputId": "7799e5f9-78a7-4ef2-95e8-f06751912eda",
    "papermill": {
     "duration": 595.061953,
     "end_time": "2022-01-07T13:16:49.242223",
     "exception": false,
     "start_time": "2022-01-07T13:06:54.180270",
     "status": "completed"
    },
    "tags": []
   },
   "outputs": [
    {
     "name": "stdout",
     "output_type": "stream",
     "text": [
      "Epoch 0\n"
     ]
    },
    {
     "name": "stderr",
     "output_type": "stream",
     "text": [
      "/Users/katarina/Documents/repositories/GitHub/GLP/src/glp/tokenizers/utils.py:27: UserWarning: To copy construct from a tensor, it is recommended to use sourceTensor.clone().detach() or sourceTensor.clone().detach().requires_grad_(True), rather than torch.tensor(sourceTensor).\n",
      "  x = torch.tensor(pad(x), dtype=torch.long)\n"
     ]
    },
    {
     "name": "stdout",
     "output_type": "stream",
     "text": [
      "Train metrics: \n",
      " Accuracy: 84.9%, Avg loss: 0.572719 \n",
      "\n",
      "Epoch 1\n"
     ]
    },
    {
     "name": "stdout",
     "output_type": "stream",
     "text": [
      "Train metrics: \n",
      " Accuracy: 84.6%, Avg loss: 0.568592 \n",
      "\n",
      "Epoch 2\n"
     ]
    },
    {
     "name": "stdout",
     "output_type": "stream",
     "text": [
      "Train metrics: \n",
      " Accuracy: 86.4%, Avg loss: 0.562357 \n",
      "\n",
      "Epoch 3\n"
     ]
    },
    {
     "name": "stdout",
     "output_type": "stream",
     "text": [
      "Train metrics: \n",
      " Accuracy: 87.1%, Avg loss: 0.559636 \n",
      "\n",
      "Epoch 4\n"
     ]
    },
    {
     "name": "stdout",
     "output_type": "stream",
     "text": [
      "Train metrics: \n",
      " Accuracy: 87.8%, Avg loss: 0.557549 \n",
      "\n"
     ]
    }
   ],
   "source": [
    "model.train(train_loader, epochs=config[\"epochs\"])"
   ]
  },
  {
   "cell_type": "markdown",
   "id": "e9ea1f28",
   "metadata": {
    "id": "bR2tamrc5kdV",
    "papermill": {
     "duration": 0.021519,
     "end_time": "2022-01-07T13:16:49.283410",
     "exception": false,
     "start_time": "2022-01-07T13:16:49.261891",
     "status": "completed"
    },
    "tags": []
   },
   "source": [
    "## Testing"
   ]
  },
  {
   "cell_type": "code",
   "execution_count": 12,
   "id": "d42f3c37",
   "metadata": {
    "colab": {
     "base_uri": "https://localhost:8080/"
    },
    "execution": {
     "iopub.execute_input": "2022-01-07T13:16:49.336475Z",
     "iopub.status.busy": "2022-01-07T13:16:49.335136Z",
     "iopub.status.idle": "2022-01-07T13:17:13.838720Z",
     "shell.execute_reply": "2022-01-07T13:17:13.839432Z"
    },
    "id": "wbnciyRK5kdW",
    "outputId": "d2592f9d-f074-465f-95f8-df3b759ae068",
    "papermill": {
     "duration": 24.53665,
     "end_time": "2022-01-07T13:17:13.839728",
     "exception": false,
     "start_time": "2022-01-07T13:16:49.303078",
     "status": "completed"
    },
    "tags": []
   },
   "outputs": [
    {
     "name": "stdout",
     "output_type": "stream",
     "text": [
      "p  12500 ; tp  10191.047959327698 ; fp  1071.4499904791696\n",
      "recall  0.8152838367462159 ; precision  0.904865688299855\n",
      "num_batches 782\n",
      "correct 21655\n",
      "size 25000\n",
      "Test metrics: \n",
      " Accuracy: 0.866200, F1 score: 0.857742, Avg loss: 0.563593 \n",
      "\n"
     ]
    },
    {
     "data": {
      "text/plain": [
       "(0.8662, 0.8577421431748532)"
      ]
     },
     "execution_count": 12,
     "metadata": {},
     "output_type": "execute_result"
    }
   ],
   "source": [
    "test_dset = get_dataset(config[\"dataset\"], 'test')\n",
    "test_loader = DataLoader(test_dset, batch_size=config[\"batch_size\"], shuffle=True, collate_fn=collate)\n",
    "\n",
    "acc, f1 = model.test(test_loader)\n",
    "acc, f1"
   ]
  }
 ],
 "metadata": {
  "accelerator": "TPU",
  "colab": {
   "name": "torch_cnn_classifier.ipynb",
   "provenance": []
  },
  "environment": {
   "name": "pytorch-gpu.1-9.m75",
   "type": "gcloud",
   "uri": "gcr.io/deeplearning-platform-release/pytorch-gpu.1-9:m75"
  },
  "interpreter": {
   "hash": "9828b828580f1cac1b571b33de6cff8bacecc8916095e1bcbc967952ca7105b7"
  },
  "kernelspec": {
   "display_name": "Python 3",
   "name": "python3"
  },
  "language_info": {
   "codemirror_mode": {
    "name": "ipython",
    "version": 3
   },
   "file_extension": ".py",
   "mimetype": "text/x-python",
   "name": "python",
   "nbconvert_exporter": "python",
   "pygments_lexer": "ipython3",
   "version": "3.8.9"
  },
  "papermill": {
   "default_parameters": {},
   "duration": 705.152837,
   "end_time": "2022-01-07T13:17:14.379785",
   "environment_variables": {},
   "exception": null,
   "input_path": "torch_cnn.ipynb",
   "output_path": "../torch_cnn_experiments/demo_coding_vs_intergenomic_seqs_kmer_2.ipynb",
   "parameters": {
    "DATASET": "demo_coding_vs_intergenomic_seqs",
    "KMER": 2,
    "TOKENIZER": "kmer"
   },
   "start_time": "2022-01-07T13:05:29.226948",
   "version": "2.3.3"
  }
 },
 "nbformat": 4,
 "nbformat_minor": 5
}