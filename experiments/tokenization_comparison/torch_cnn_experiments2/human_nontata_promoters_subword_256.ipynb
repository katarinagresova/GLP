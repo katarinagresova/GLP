{
 "cells": [
  {
   "cell_type": "markdown",
   "id": "8be2a721",
   "metadata": {
    "id": "SKOD9lvq5kdM",
    "papermill": {
     "duration": 0.016728,
     "end_time": "2022-01-07T12:28:37.680045",
     "exception": false,
     "start_time": "2022-01-07T12:28:37.663317",
     "status": "completed"
    },
    "tags": []
   },
   "source": [
    "# PYTORCH CNN Classifier"
   ]
  },
  {
   "cell_type": "code",
   "execution_count": 1,
   "id": "9d55ceb2",
   "metadata": {
    "execution": {
     "iopub.execute_input": "2022-01-07T12:28:37.720224Z",
     "iopub.status.busy": "2022-01-07T12:28:37.719268Z",
     "iopub.status.idle": "2022-01-07T12:28:37.723216Z",
     "shell.execute_reply": "2022-01-07T12:28:37.723739Z"
    },
    "id": "E8prt3AL5kdO",
    "papermill": {
     "duration": 0.02919,
     "end_time": "2022-01-07T12:28:37.724007",
     "exception": false,
     "start_time": "2022-01-07T12:28:37.694817",
     "status": "completed"
    },
    "tags": [
     "parameters"
    ]
   },
   "outputs": [],
   "source": [
    "DATASET = 'none'\n",
    "VOCAB_SIZE = 0\n",
    "TOKENIZER = 'none'\n",
    "KMER = 0"
   ]
  },
  {
   "cell_type": "code",
   "execution_count": 2,
   "id": "283b0ab8",
   "metadata": {
    "execution": {
     "iopub.execute_input": "2022-01-07T12:28:37.757967Z",
     "iopub.status.busy": "2022-01-07T12:28:37.757205Z",
     "iopub.status.idle": "2022-01-07T12:28:37.759910Z",
     "shell.execute_reply": "2022-01-07T12:28:37.760564Z"
    },
    "papermill": {
     "duration": 0.021643,
     "end_time": "2022-01-07T12:28:37.760757",
     "exception": false,
     "start_time": "2022-01-07T12:28:37.739114",
     "status": "completed"
    },
    "tags": [
     "injected-parameters"
    ]
   },
   "outputs": [],
   "source": [
    "# Parameters\n",
    "DATASET = \"human_nontata_promoters\"\n",
    "TOKENIZER = \"subword\"\n",
    "VOCAB_SIZE = 256\n"
   ]
  },
  {
   "cell_type": "code",
   "execution_count": 3,
   "id": "77952d53",
   "metadata": {
    "colab": {
     "base_uri": "https://localhost:8080/"
    },
    "execution": {
     "iopub.execute_input": "2022-01-07T12:28:37.794266Z",
     "iopub.status.busy": "2022-01-07T12:28:37.793491Z",
     "iopub.status.idle": "2022-01-07T12:28:37.797071Z",
     "shell.execute_reply": "2022-01-07T12:28:37.797632Z"
    },
    "id": "rohBItfR5kdP",
    "outputId": "7da7aafe-0858-48be-bf7d-f698784d88df",
    "papermill": {
     "duration": 0.022702,
     "end_time": "2022-01-07T12:28:37.797861",
     "exception": false,
     "start_time": "2022-01-07T12:28:37.775159",
     "status": "completed"
    },
    "tags": []
   },
   "outputs": [
    {
     "name": "stdout",
     "output_type": "stream",
     "text": [
      "human_nontata_promoters 256 subword 0\n"
     ]
    }
   ],
   "source": [
    "print(DATASET, VOCAB_SIZE, TOKENIZER, KMER)"
   ]
  },
  {
   "cell_type": "markdown",
   "id": "f46e415c",
   "metadata": {
    "id": "Y-YQrVyb5kdQ",
    "papermill": {
     "duration": 0.018128,
     "end_time": "2022-01-07T12:28:37.830477",
     "exception": false,
     "start_time": "2022-01-07T12:28:37.812349",
     "status": "completed"
    },
    "tags": []
   },
   "source": [
    "## Config"
   ]
  },
  {
   "cell_type": "code",
   "execution_count": 4,
   "id": "10a9642f",
   "metadata": {
    "execution": {
     "iopub.execute_input": "2022-01-07T12:28:37.870654Z",
     "iopub.status.busy": "2022-01-07T12:28:37.867502Z",
     "iopub.status.idle": "2022-01-07T12:28:39.794545Z",
     "shell.execute_reply": "2022-01-07T12:28:39.795141Z"
    },
    "id": "FIunuyGk5kdR",
    "papermill": {
     "duration": 1.948713,
     "end_time": "2022-01-07T12:28:39.795346",
     "exception": false,
     "start_time": "2022-01-07T12:28:37.846633",
     "status": "completed"
    },
    "tags": []
   },
   "outputs": [],
   "source": [
    "import torch\n",
    "from torch.utils.data import DataLoader\n",
    "\n",
    "from genomic_benchmarks.dataset_getters.pytorch_datasets import get_dataset\n",
    "from glp.models import CNN\n",
    "from glp.tokenizers import get_tokenizer\n",
    "from glp.tokenizers.utils import build_vocab, coll_factory, check_config, check_seq_lengths"
   ]
  },
  {
   "cell_type": "code",
   "execution_count": 5,
   "id": "45def799",
   "metadata": {
    "execution": {
     "iopub.execute_input": "2022-01-07T12:28:39.833625Z",
     "iopub.status.busy": "2022-01-07T12:28:39.832862Z",
     "iopub.status.idle": "2022-01-07T12:28:39.835307Z",
     "shell.execute_reply": "2022-01-07T12:28:39.835811Z"
    },
    "id": "UgXiF6Zz5kdR",
    "papermill": {
     "duration": 0.025819,
     "end_time": "2022-01-07T12:28:39.836021",
     "exception": false,
     "start_time": "2022-01-07T12:28:39.810202",
     "status": "completed"
    },
    "tags": []
   },
   "outputs": [],
   "source": [
    "config = {\n",
    "    \"dataset\": DATASET,\n",
    "    \"tokenizer\": TOKENIZER,\n",
    "    \"dataset_version\": 0,\n",
    "    \"epochs\": 5,\n",
    "    \"batch_size\": 32,\n",
    "    \"use_padding\": True,\n",
    "    \"force_download\": False,\n",
    "    \"run_on_gpu\": True,\n",
    "    \"number_of_classes\": 2,\n",
    "    \"embedding_dim\": 100,\n",
    "}\n",
    "check_config(config)"
   ]
  },
  {
   "cell_type": "markdown",
   "id": "bcc1d6c7",
   "metadata": {
    "id": "AUWF-avz5kdS",
    "papermill": {
     "duration": 0.014798,
     "end_time": "2022-01-07T12:28:39.865960",
     "exception": false,
     "start_time": "2022-01-07T12:28:39.851162",
     "status": "completed"
    },
    "tags": []
   },
   "source": [
    "## Choose the dataset"
   ]
  },
  {
   "cell_type": "code",
   "execution_count": 6,
   "id": "7dc69b9d",
   "metadata": {
    "colab": {
     "base_uri": "https://localhost:8080/"
    },
    "execution": {
     "iopub.execute_input": "2022-01-07T12:28:39.900895Z",
     "iopub.status.busy": "2022-01-07T12:28:39.899908Z",
     "iopub.status.idle": "2022-01-07T12:28:40.150055Z",
     "shell.execute_reply": "2022-01-07T12:28:40.150565Z"
    },
    "id": "1oaryDJr5kdS",
    "outputId": "6a425df9-4092-4601-9cd9-f61d524b6278",
    "papermill": {
     "duration": 0.269974,
     "end_time": "2022-01-07T12:28:40.150820",
     "exception": false,
     "start_time": "2022-01-07T12:28:39.880846",
     "status": "completed"
    },
    "tags": []
   },
   "outputs": [],
   "source": [
    "train_dset = get_dataset(config[\"dataset\"], 'train')"
   ]
  },
  {
   "cell_type": "markdown",
   "id": "aaebd18f",
   "metadata": {
    "id": "B0lqmy935kdS",
    "papermill": {
     "duration": 0.018047,
     "end_time": "2022-01-07T12:28:40.184005",
     "exception": false,
     "start_time": "2022-01-07T12:28:40.165958",
     "status": "completed"
    },
    "tags": []
   },
   "source": [
    "## Tokenizer and vocab"
   ]
  },
  {
   "cell_type": "code",
   "execution_count": 7,
   "id": "7f9089de",
   "metadata": {
    "colab": {
     "base_uri": "https://localhost:8080/"
    },
    "execution": {
     "iopub.execute_input": "2022-01-07T12:28:40.221301Z",
     "iopub.status.busy": "2022-01-07T12:28:40.220187Z",
     "iopub.status.idle": "2022-01-07T12:35:24.820470Z",
     "shell.execute_reply": "2022-01-07T12:35:24.821304Z"
    },
    "id": "NY_zualp5kdT",
    "outputId": "9034d65f-2f9a-4c83-a314-13d3b808fc65",
    "papermill": {
     "duration": 404.621789,
     "end_time": "2022-01-07T12:35:24.821517",
     "exception": false,
     "start_time": "2022-01-07T12:28:40.199728",
     "status": "completed"
    },
    "tags": []
   },
   "outputs": [
    {
     "name": "stderr",
     "output_type": "stream",
     "text": [
      "sentencepiece_trainer.cc(177) LOG(INFO) Running command: --input=sample.csv --model_prefix=sample --vocab_size=256 --model_type=unigram\n",
      "sentencepiece_trainer.cc(77) LOG(INFO) Starts training with : \n",
      "trainer_spec {\n",
      "  input: sample.csv\n",
      "  input_format: \n",
      "  model_prefix: sample\n",
      "  model_type: UNIGRAM\n",
      "  vocab_size: 256\n",
      "  self_test_sample_size: 0\n",
      "  character_coverage: 0.9995\n",
      "  input_sentence_size: 0\n",
      "  shuffle_input_sentence: 1\n",
      "  seed_sentencepiece_size: 1000000\n",
      "  shrinking_factor: 0.75\n",
      "  max_sentence_length: 4192\n",
      "  num_threads: 16\n",
      "  num_sub_iterations: 2\n",
      "  max_sentencepiece_length: 16\n",
      "  split_by_unicode_script: 1\n",
      "  split_by_number: 1\n",
      "  split_by_whitespace: 1\n",
      "  split_digits: 0\n",
      "  treat_whitespace_as_suffix: 0\n",
      "  required_chars: \n",
      "  byte_fallback: 0\n",
      "  vocabulary_output_piece_score: 1\n",
      "  train_extremely_large_corpus: 0\n",
      "  hard_vocab_limit: 1\n",
      "  use_all_vocab: 0\n",
      "  unk_id: 0\n",
      "  bos_id: 1\n",
      "  eos_id: 2\n",
      "  pad_id: -1\n",
      "  unk_piece: <unk>\n",
      "  bos_piece: <s>\n",
      "  eos_piece: </s>\n",
      "  pad_piece: <pad>\n",
      "  unk_surface:  ⁇ \n",
      "}\n",
      "normalizer_spec {\n",
      "  name: nmt_nfkc\n",
      "  add_dummy_prefix: 1\n",
      "  remove_extra_whitespaces: 1\n",
      "  escape_whitespaces: 1\n",
      "  normalization_rule_tsv: \n",
      "}\n",
      "denormalizer_spec {}\n",
      "trainer_interface.cc(319) LOG(INFO) SentenceIterator is not specified. Using MultiFileSentenceIterator.\n",
      "trainer_interface.cc(174) LOG(INFO) Loading corpus: sample.csv\n",
      "trainer_interface.cc(375) LOG(INFO) Loaded all 27097 sentences\n",
      "trainer_interface.cc(390) LOG(INFO) Adding meta_piece: <unk>\n",
      "trainer_interface.cc(390) LOG(INFO) Adding meta_piece: <s>\n",
      "trainer_interface.cc(390) LOG(INFO) Adding meta_piece: </s>\n",
      "trainer_interface.cc(395) LOG(INFO) Normalizing sentences...\n"
     ]
    },
    {
     "name": "stderr",
     "output_type": "stream",
     "text": [
      "trainer_interface.cc(456) LOG(INFO) all chars count=6828444\n",
      "trainer_interface.cc(477) LOG(INFO) Alphabet size=5\n",
      "trainer_interface.cc(478) LOG(INFO) Final character coverage=1\n"
     ]
    },
    {
     "name": "stderr",
     "output_type": "stream",
     "text": [
      "trainer_interface.cc(510) LOG(INFO) Done! preprocessed 27097 sentences.\n"
     ]
    },
    {
     "name": "stderr",
     "output_type": "stream",
     "text": [
      "unigram_model_trainer.cc(138) LOG(INFO) Making suffix array...\n"
     ]
    },
    {
     "name": "stderr",
     "output_type": "stream",
     "text": [
      "unigram_model_trainer.cc(142) LOG(INFO) Extracting frequent sub strings...\n"
     ]
    },
    {
     "name": "stderr",
     "output_type": "stream",
     "text": [
      "unigram_model_trainer.cc(193) LOG(INFO) Initialized 1000000 seed sentencepieces\n"
     ]
    },
    {
     "name": "stderr",
     "output_type": "stream",
     "text": [
      "trainer_interface.cc(516) LOG(INFO) Tokenizing input sentences with whitespace: 27097\n",
      "trainer_interface.cc(526) LOG(INFO) Done! 27097\n",
      "unigram_model_trainer.cc(488) LOG(INFO) Using 27097 sentences for EM training\n"
     ]
    },
    {
     "name": "stderr",
     "output_type": "stream",
     "text": [
      "unigram_model_trainer.cc(504) LOG(INFO) EM sub_iter=0 size=273096 obj=318.82 num_tokens=676096 num_tokens/piece=2.47567\n"
     ]
    },
    {
     "name": "stderr",
     "output_type": "stream",
     "text": [
      "unigram_model_trainer.cc(504) LOG(INFO) EM sub_iter=1 size=202428 obj=310.236 num_tokens=730585 num_tokens/piece=3.60911\n"
     ]
    },
    {
     "name": "stderr",
     "output_type": "stream",
     "text": [
      "unigram_model_trainer.cc(504) LOG(INFO) EM sub_iter=0 size=141120 obj=305.255 num_tokens=743196 num_tokens/piece=5.26641\n"
     ]
    },
    {
     "name": "stderr",
     "output_type": "stream",
     "text": [
      "unigram_model_trainer.cc(504) LOG(INFO) EM sub_iter=1 size=131299 obj=301.221 num_tokens=751361 num_tokens/piece=5.72252\n"
     ]
    },
    {
     "name": "stderr",
     "output_type": "stream",
     "text": [
      "unigram_model_trainer.cc(504) LOG(INFO) EM sub_iter=0 size=98131 obj=302.387 num_tokens=769820 num_tokens/piece=7.84482\n"
     ]
    },
    {
     "name": "stderr",
     "output_type": "stream",
     "text": [
      "unigram_model_trainer.cc(504) LOG(INFO) EM sub_iter=1 size=97328 obj=300.027 num_tokens=771082 num_tokens/piece=7.92251\n"
     ]
    },
    {
     "name": "stderr",
     "output_type": "stream",
     "text": [
      "unigram_model_trainer.cc(504) LOG(INFO) EM sub_iter=0 size=72965 obj=302.771 num_tokens=793590 num_tokens/piece=10.8763\n"
     ]
    },
    {
     "name": "stderr",
     "output_type": "stream",
     "text": [
      "unigram_model_trainer.cc(504) LOG(INFO) EM sub_iter=1 size=72913 obj=300.566 num_tokens=793758 num_tokens/piece=10.8864\n"
     ]
    },
    {
     "name": "stderr",
     "output_type": "stream",
     "text": [
      "unigram_model_trainer.cc(504) LOG(INFO) EM sub_iter=0 size=54681 obj=304.899 num_tokens=824326 num_tokens/piece=15.0752\n"
     ]
    },
    {
     "name": "stderr",
     "output_type": "stream",
     "text": [
      "unigram_model_trainer.cc(504) LOG(INFO) EM sub_iter=1 size=54676 obj=302.02 num_tokens=824385 num_tokens/piece=15.0776\n"
     ]
    },
    {
     "name": "stderr",
     "output_type": "stream",
     "text": [
      "unigram_model_trainer.cc(504) LOG(INFO) EM sub_iter=0 size=41005 obj=308.659 num_tokens=865158 num_tokens/piece=21.0988\n"
     ]
    },
    {
     "name": "stderr",
     "output_type": "stream",
     "text": [
      "unigram_model_trainer.cc(504) LOG(INFO) EM sub_iter=1 size=41001 obj=305.092 num_tokens=865358 num_tokens/piece=21.1058\n"
     ]
    },
    {
     "name": "stderr",
     "output_type": "stream",
     "text": [
      "unigram_model_trainer.cc(504) LOG(INFO) EM sub_iter=0 size=30750 obj=313.56 num_tokens=913784 num_tokens/piece=29.7166\n"
     ]
    },
    {
     "name": "stderr",
     "output_type": "stream",
     "text": [
      "unigram_model_trainer.cc(504) LOG(INFO) EM sub_iter=1 size=30747 obj=309.962 num_tokens=914057 num_tokens/piece=29.7283\n"
     ]
    },
    {
     "name": "stderr",
     "output_type": "stream",
     "text": [
      "unigram_model_trainer.cc(504) LOG(INFO) EM sub_iter=0 size=23059 obj=318.774 num_tokens=963241 num_tokens/piece=41.7729\n"
     ]
    },
    {
     "name": "stderr",
     "output_type": "stream",
     "text": [
      "unigram_model_trainer.cc(504) LOG(INFO) EM sub_iter=1 size=23057 obj=315.697 num_tokens=963700 num_tokens/piece=41.7964\n"
     ]
    },
    {
     "name": "stderr",
     "output_type": "stream",
     "text": [
      "unigram_model_trainer.cc(504) LOG(INFO) EM sub_iter=0 size=17292 obj=323.884 num_tokens=1010068 num_tokens/piece=58.4124\n"
     ]
    },
    {
     "name": "stderr",
     "output_type": "stream",
     "text": [
      "unigram_model_trainer.cc(504) LOG(INFO) EM sub_iter=1 size=17291 obj=321.234 num_tokens=1010704 num_tokens/piece=58.4526\n"
     ]
    },
    {
     "name": "stderr",
     "output_type": "stream",
     "text": [
      "unigram_model_trainer.cc(504) LOG(INFO) EM sub_iter=0 size=12968 obj=328.69 num_tokens=1054028 num_tokens/piece=81.2791\n"
     ]
    },
    {
     "name": "stderr",
     "output_type": "stream",
     "text": [
      "unigram_model_trainer.cc(504) LOG(INFO) EM sub_iter=1 size=12968 obj=326.409 num_tokens=1054837 num_tokens/piece=81.3415\n"
     ]
    },
    {
     "name": "stderr",
     "output_type": "stream",
     "text": [
      "unigram_model_trainer.cc(504) LOG(INFO) EM sub_iter=0 size=9726 obj=333.01 num_tokens=1094672 num_tokens/piece=112.551\n"
     ]
    },
    {
     "name": "stderr",
     "output_type": "stream",
     "text": [
      "unigram_model_trainer.cc(504) LOG(INFO) EM sub_iter=1 size=9726 obj=330.859 num_tokens=1095614 num_tokens/piece=112.648\n"
     ]
    },
    {
     "name": "stderr",
     "output_type": "stream",
     "text": [
      "unigram_model_trainer.cc(504) LOG(INFO) EM sub_iter=0 size=7294 obj=336.415 num_tokens=1133128 num_tokens/piece=155.351\n"
     ]
    },
    {
     "name": "stderr",
     "output_type": "stream",
     "text": [
      "unigram_model_trainer.cc(504) LOG(INFO) EM sub_iter=1 size=7294 obj=334.243 num_tokens=1133961 num_tokens/piece=155.465\n"
     ]
    },
    {
     "name": "stderr",
     "output_type": "stream",
     "text": [
      "unigram_model_trainer.cc(504) LOG(INFO) EM sub_iter=0 size=5470 obj=338.81 num_tokens=1170083 num_tokens/piece=213.909\n"
     ]
    },
    {
     "name": "stderr",
     "output_type": "stream",
     "text": [
      "unigram_model_trainer.cc(504) LOG(INFO) EM sub_iter=1 size=5470 obj=335.967 num_tokens=1170771 num_tokens/piece=214.035\n"
     ]
    },
    {
     "name": "stderr",
     "output_type": "stream",
     "text": [
      "unigram_model_trainer.cc(504) LOG(INFO) EM sub_iter=0 size=4102 obj=340.284 num_tokens=1210338 num_tokens/piece=295.06\n"
     ]
    },
    {
     "name": "stderr",
     "output_type": "stream",
     "text": [
      "unigram_model_trainer.cc(504) LOG(INFO) EM sub_iter=1 size=4102 obj=336.901 num_tokens=1210947 num_tokens/piece=295.209\n"
     ]
    },
    {
     "name": "stderr",
     "output_type": "stream",
     "text": [
      "unigram_model_trainer.cc(504) LOG(INFO) EM sub_iter=0 size=3076 obj=341.655 num_tokens=1255820 num_tokens/piece=408.264\n"
     ]
    },
    {
     "name": "stderr",
     "output_type": "stream",
     "text": [
      "unigram_model_trainer.cc(504) LOG(INFO) EM sub_iter=1 size=3076 obj=337.882 num_tokens=1256352 num_tokens/piece=408.437\n"
     ]
    },
    {
     "name": "stderr",
     "output_type": "stream",
     "text": [
      "unigram_model_trainer.cc(504) LOG(INFO) EM sub_iter=0 size=2307 obj=343.05 num_tokens=1304395 num_tokens/piece=565.407\n"
     ]
    },
    {
     "name": "stderr",
     "output_type": "stream",
     "text": [
      "unigram_model_trainer.cc(504) LOG(INFO) EM sub_iter=1 size=2307 obj=338.929 num_tokens=1305034 num_tokens/piece=565.684\n"
     ]
    },
    {
     "name": "stderr",
     "output_type": "stream",
     "text": [
      "unigram_model_trainer.cc(504) LOG(INFO) EM sub_iter=0 size=1730 obj=344.656 num_tokens=1358350 num_tokens/piece=785.173\n"
     ]
    },
    {
     "name": "stderr",
     "output_type": "stream",
     "text": [
      "unigram_model_trainer.cc(504) LOG(INFO) EM sub_iter=1 size=1730 obj=340.109 num_tokens=1359067 num_tokens/piece=785.588\n"
     ]
    },
    {
     "name": "stderr",
     "output_type": "stream",
     "text": [
      "unigram_model_trainer.cc(504) LOG(INFO) EM sub_iter=0 size=1297 obj=345.476 num_tokens=1416700 num_tokens/piece=1092.29\n"
     ]
    },
    {
     "name": "stderr",
     "output_type": "stream",
     "text": [
      "unigram_model_trainer.cc(504) LOG(INFO) EM sub_iter=1 size=1297 obj=340.889 num_tokens=1417578 num_tokens/piece=1092.97\n"
     ]
    },
    {
     "name": "stderr",
     "output_type": "stream",
     "text": [
      "unigram_model_trainer.cc(504) LOG(INFO) EM sub_iter=0 size=972 obj=346.645 num_tokens=1478862 num_tokens/piece=1521.46\n"
     ]
    },
    {
     "name": "stderr",
     "output_type": "stream",
     "text": [
      "unigram_model_trainer.cc(504) LOG(INFO) EM sub_iter=1 size=972 obj=341.636 num_tokens=1479766 num_tokens/piece=1522.39\n"
     ]
    },
    {
     "name": "stderr",
     "output_type": "stream",
     "text": [
      "unigram_model_trainer.cc(504) LOG(INFO) EM sub_iter=0 size=729 obj=347.372 num_tokens=1545098 num_tokens/piece=2119.48\n"
     ]
    },
    {
     "name": "stderr",
     "output_type": "stream",
     "text": [
      "unigram_model_trainer.cc(504) LOG(INFO) EM sub_iter=1 size=729 obj=342.103 num_tokens=1546049 num_tokens/piece=2120.78\n"
     ]
    },
    {
     "name": "stderr",
     "output_type": "stream",
     "text": [
      "unigram_model_trainer.cc(504) LOG(INFO) EM sub_iter=0 size=546 obj=348.951 num_tokens=1616218 num_tokens/piece=2960.11\n"
     ]
    },
    {
     "name": "stderr",
     "output_type": "stream",
     "text": [
      "unigram_model_trainer.cc(504) LOG(INFO) EM sub_iter=1 size=546 obj=342.654 num_tokens=1617032 num_tokens/piece=2961.6\n"
     ]
    },
    {
     "name": "stderr",
     "output_type": "stream",
     "text": [
      "unigram_model_trainer.cc(504) LOG(INFO) EM sub_iter=0 size=409 obj=350.146 num_tokens=1701638 num_tokens/piece=4160.48\n"
     ]
    },
    {
     "name": "stderr",
     "output_type": "stream",
     "text": [
      "unigram_model_trainer.cc(504) LOG(INFO) EM sub_iter=1 size=409 obj=343.203 num_tokens=1702364 num_tokens/piece=4162.26\n"
     ]
    },
    {
     "name": "stderr",
     "output_type": "stream",
     "text": [
      "unigram_model_trainer.cc(504) LOG(INFO) EM sub_iter=0 size=306 obj=350.528 num_tokens=1795292 num_tokens/piece=5866.97\n"
     ]
    },
    {
     "name": "stderr",
     "output_type": "stream",
     "text": [
      "unigram_model_trainer.cc(504) LOG(INFO) EM sub_iter=1 size=306 obj=343.728 num_tokens=1796722 num_tokens/piece=5871.64\n"
     ]
    },
    {
     "name": "stderr",
     "output_type": "stream",
     "text": [
      "unigram_model_trainer.cc(504) LOG(INFO) EM sub_iter=0 size=281 obj=345.685 num_tokens=1824550 num_tokens/piece=6493.06\n"
     ]
    },
    {
     "name": "stderr",
     "output_type": "stream",
     "text": [
      "unigram_model_trainer.cc(504) LOG(INFO) EM sub_iter=1 size=281 obj=343.632 num_tokens=1826623 num_tokens/piece=6500.44\n",
      "trainer_interface.cc(604) LOG(INFO) Saving model: sample.model\n",
      "trainer_interface.cc(615) LOG(INFO) Saving vocabs: sample.vocab\n"
     ]
    },
    {
     "name": "stdout",
     "output_type": "stream",
     "text": [
      "vocab len: 255\n",
      "{'ATATA': 253, 'GACC': 252, 'ATCA': 248, 'AGGC': 247, '▁G': 246, 'AGAA': 245, 'AGGAG': 244, 'GCGC': 242, 'GGCG': 241, 'TTCTG': 240, 'GGA': 238, 'GGCA': 234, 'TTTCT': 233, 'TGGT': 232, 'GGAGGG': 231, 'GATG': 230, 'CGCGG': 229, 'CTCAG': 228, 'AGCCA': 225, 'CTT': 222, 'AAGC': 221, 'ATGG': 220, 'T': 218, 'TCAT': 217, 'AGG': 216, 'GGGAGG': 215, 'AGAGA': 214, 'CCGAG': 211, 'TAAT': 208, 'CCCG': 207, 'CCCA': 203, 'CGCCGC': 210, 'AGGT': 202, 'ACG': 201, 'CCTGC': 200, 'ACAT': 199, 'TATT': 198, 'CATC': 197, 'TGAC': 193, 'CGTC': 184, 'AAG': 172, 'AAAA': 179, 'TGGG': 206, 'TTT': 62, 'CTGC': 185, 'GAGCC': 42, 'AAGT': 177, 'GTGT': 249, 'CGTG': 175, 'CAA': 183, 'GGGTG': 25, 'TGAT': 173, 'AA': 181, 'TTTCA': 169, 'CCCCG': 209, 'AC': 167, 'CCAGCC': 111, 'G': 162, 'GG': 14, 'CTCC': 161, 'TTCA': 159, 'AAAGT': 158, 'TTGG': 236, 'ACTG': 195, 'ATAA': 125, 'TTA': 156, 'TGCA': 155, 'CGG': 154, 'GGT': 151, 'GTGC': 150, 'GGGCGG': 53, 'CAGTG': 152, 'TTGT': 116, 'TGC': 145, 'CTCTG': 143, 'AAATA': 182, 'TCA': 142, 'CCGCC': 139, 'CCCGG': 138, 'AGCA': 137, 'GCCCC': 135, 'CGCG': 204, 'CATG': 132, 'CAG': 128, 'GAA': 153, 'AGC': 226, 'CCTCCC': 37, 'CCCAG': 130, 'GCC': 124, 'GCTG': 122, 'AAGG': 120, 'GT': 160, 'GGGGCGGG': 121, 'AGGG': 118, 'TTAAA': 239, 'CTGGG': 117, 'TGT': 115, 'CCCTG': 113, 'GGTG': 133, 'GAGG': 140, 'ATG': 66, 'GCCGGG': 166, 'TCTC': 89, 'CCCGC': 134, 'GCT': 110, 'TGTT': 176, 'AATG': 108, 'CGGG': 119, 'AGGA': 86, 'TCC': 102, 'GTC': 100, 'TCT': 99, 'GCA': 141, 'GCGGCG': 56, 'CAGC': 97, 'TA': 24, 'TCCTG': 94, 'CCCTCC': 91, 'TGA': 171, 'TGAA': 165, 'CGCGC': 30, 'CTTT': 33, 'TTTGT': 250, 'CCAT': 174, 'CCAA': 85, 'ACTT': 84, 'TTCC': 147, 'CAGGG': 39, 'GCAGC': 88, 'CCAC': 112, 'ATGA': 237, 'GAGGC': 144, 'CAAA': 83, 'ACT': 9, 'TGG': 82, 'GAAG': 80, 'ATTT': 77, 'AAAAT': 63, 'GCTGG': 95, 'AGT': 70, 'CAGAG': 104, 'GGCT': 46, 'TCTT': 31, 'TAT': 74, 'GGCGGGG': 123, 'TGTG': 57, 'TTTT': 65, 'ACAG': 93, 'GTT': 72, 'ATGT': 170, 'CTGT': 78, 'AGA': 75, 'AGTT': 76, 'TGAG': 71, 'ACA': 129, 'GCTCC': 191, 'GGGA': 22, 'CTA': 68, 'GTG': 212, 'TGCT': 190, 'GTGA': 180, 'GGC': 40, 'TTCT': 61, 'CTGTG': 60, 'AAC': 5, 'CGCT': 243, '▁C': 59, 'A': 227, 'CGCC': 81, 'TC': 58, 'TCCCC': 92, 'GCCT': 187, 'GCG': 20, 'ATTG': 67, 'CTCT': 55, 'ACCA': 196, 'CCCCA': 163, 'GCCG': 36, 'CC': 26, 'GAC': 50, 'GGCC': 52, 'CCT': 235, 'CCGCG': 44, 'GGCCG': 38, 'CGGGG': 43, 'TCGC': 54, 'CGA': 10, 'ACCC': 23, 'ACCT': 164, 'CTCA': 136, 'TG': 45, 'CCAG': 69, 'GCTGGG': 41, 'GC': 16, 'GCGCG': 205, 'TGGGG': 21, '▁': 1, 'AAGA': 194, 'CAGAT': 192, 'TTTG': 188, 'CCGC': 146, 'CT': 35, 'TAG': 11, 'CCTGG': 34, 'CCGGC': 213, 'GAGA': 49, 'CAT': 32, 'GCGG': 149, 'GCAGG': 219, 'CCTT': 87, 'GA': 101, 'CTG': 28, 'CA': 29, 'C': 251, 'CCAGG': 168, 'GGGGA': 27, 'TTTAA': 178, 'TTG': 126, 'CTTC': 19, 'CCTC': 47, 'AGAG': 157, 'CAGAA': 131, 'AG': 96, '<unk>': 0, 'ATT': 15, 'GCCC': 107, 'CCACC': 224, 'ACAA': 105, 'ACTA': 6, 'TCCC': 109, 'CACC': 189, 'GGAG': 17, 'ATC': 223, 'AAA': 79, 'AGCT': 148, 'GGAA': 7, 'AGAAA': 18, 'GTGG': 12, 'TGGA': 186, 'TCCT': 8, 'AT': 114, 'CAC': 13, '<pad>': 254, 'AGTA': 106, 'CCCT': 64, 'CG': 4, 'CTC': 90, 'CTTG': 73, 'CAGT': 127, 'CAGGC': 103, 'GTTG': 51, 'AAT': 3, 'GAG': 98, 'AGAC': 48, 'CAGG': 2}\n"
     ]
    }
   ],
   "source": [
    "tokenizer = get_tokenizer(config['tokenizer'])\n",
    "tokenizer.train(train_dset=train_dset, vocab_size=VOCAB_SIZE, kmer=KMER)\n",
    "vocabulary = build_vocab(train_dset, tokenizer, use_padding=config[\"use_padding\"])\n",
    "\n",
    "print(\"vocab len:\" ,vocabulary.__len__())\n",
    "print(vocabulary.get_stoi())"
   ]
  },
  {
   "cell_type": "markdown",
   "id": "e347ac8b",
   "metadata": {
    "id": "3hGQpSJA5kdT",
    "papermill": {
     "duration": 0.038164,
     "end_time": "2022-01-07T12:35:24.893960",
     "exception": false,
     "start_time": "2022-01-07T12:35:24.855796",
     "status": "completed"
    },
    "tags": []
   },
   "source": [
    "## Dataloader and batch preparation"
   ]
  },
  {
   "cell_type": "code",
   "execution_count": 8,
   "id": "9425b7bf",
   "metadata": {
    "colab": {
     "base_uri": "https://localhost:8080/"
    },
    "execution": {
     "iopub.execute_input": "2022-01-07T12:35:24.966063Z",
     "iopub.status.busy": "2022-01-07T12:35:24.965298Z",
     "iopub.status.idle": "2022-01-07T12:35:32.534030Z",
     "shell.execute_reply": "2022-01-07T12:35:32.534590Z"
    },
    "id": "gXUgPH6q5kdT",
    "outputId": "a1eb6ba2-9bcd-416d-8662-e3516121da96",
    "papermill": {
     "duration": 7.608199,
     "end_time": "2022-01-07T12:35:32.534785",
     "exception": false,
     "start_time": "2022-01-07T12:35:24.926586",
     "status": "completed"
    },
    "tags": []
   },
   "outputs": [
    {
     "name": "stdout",
     "output_type": "stream",
     "text": [
      "Using cpu device\n"
     ]
    },
    {
     "name": "stdout",
     "output_type": "stream",
     "text": [
      "max_tok_len  79\n"
     ]
    },
    {
     "name": "stdout",
     "output_type": "stream",
     "text": [
      "not all sequences are of the same length\n"
     ]
    }
   ],
   "source": [
    "# Run on GPU or CPU\n",
    "device = 'cuda' if config[\"run_on_gpu\"] and torch.cuda.is_available() else 'cpu'\n",
    "print('Using {} device'.format(device))\n",
    "\n",
    "max_tok_len = check_seq_lengths(dataset=train_dset, tokenizer=tokenizer)\n",
    "\n",
    "# Data Loader\n",
    "collate = coll_factory(vocabulary, tokenizer, device, pad_to_length = max_tok_len)\n",
    "\n",
    "train_loader = DataLoader(train_dset, batch_size=config[\"batch_size\"], shuffle=True, collate_fn=collate)"
   ]
  },
  {
   "cell_type": "code",
   "execution_count": 9,
   "id": "22babbd0",
   "metadata": {
    "execution": {
     "iopub.execute_input": "2022-01-07T12:35:32.609899Z",
     "iopub.status.busy": "2022-01-07T12:35:32.609140Z",
     "iopub.status.idle": "2022-01-07T12:35:32.621347Z",
     "shell.execute_reply": "2022-01-07T12:35:32.621880Z"
    },
    "papermill": {
     "duration": 0.054449,
     "end_time": "2022-01-07T12:35:32.622115",
     "exception": false,
     "start_time": "2022-01-07T12:35:32.567666",
     "status": "completed"
    },
    "tags": []
   },
   "outputs": [
    {
     "data": {
      "text/plain": [
       "['▁C',\n",
       " 'ACT',\n",
       " 'CTGTG',\n",
       " 'TTCT',\n",
       " 'TTT',\n",
       " 'AAAAT',\n",
       " 'CCCT',\n",
       " 'CAGG',\n",
       " 'TTTT',\n",
       " 'ATG',\n",
       " 'TTTT',\n",
       " 'ATTG',\n",
       " 'CTA',\n",
       " 'CCAG',\n",
       " 'AGT',\n",
       " 'CTG',\n",
       " 'CCTCCC',\n",
       " 'TGAG',\n",
       " 'GTT',\n",
       " 'CTTG',\n",
       " 'TAT',\n",
       " 'AGA',\n",
       " 'CT',\n",
       " 'AGTT',\n",
       " 'ATTT',\n",
       " 'CCCT',\n",
       " 'CTGT',\n",
       " 'AAA',\n",
       " 'GAAG',\n",
       " 'CTG',\n",
       " 'TTCT',\n",
       " 'ATT',\n",
       " 'CG',\n",
       " 'TTCT',\n",
       " 'CGCC',\n",
       " 'TGG',\n",
       " 'TTT',\n",
       " 'GGAA',\n",
       " 'CAAA',\n",
       " 'CTG',\n",
       " 'AAC',\n",
       " 'ACTT',\n",
       " 'CCAA',\n",
       " 'AGGA',\n",
       " 'GGC',\n",
       " 'AGT',\n",
       " 'CCTT',\n",
       " 'GCAGC',\n",
       " 'CTTG',\n",
       " 'TCTC',\n",
       " 'CTTC',\n",
       " 'CA',\n",
       " 'CTC',\n",
       " 'CCCTCC',\n",
       " 'TCCCC',\n",
       " 'ACAG',\n",
       " 'TCCTG',\n",
       " 'GCTGG',\n",
       " 'AG',\n",
       " 'CAGC',\n",
       " 'GAG',\n",
       " 'TCT',\n",
       " 'GTC',\n",
       " 'GA',\n",
       " 'TCC',\n",
       " 'CAGGC',\n",
       " 'CAGAG',\n",
       " 'ACAA',\n",
       " 'GGC']"
      ]
     },
     "execution_count": 9,
     "metadata": {},
     "output_type": "execute_result"
    }
   ],
   "source": [
    "tokenizer(train_dset[1][0])"
   ]
  },
  {
   "cell_type": "markdown",
   "id": "2e7774cb",
   "metadata": {
    "id": "sTTomnnP5kdU",
    "papermill": {
     "duration": 0.037558,
     "end_time": "2022-01-07T12:35:32.693231",
     "exception": false,
     "start_time": "2022-01-07T12:35:32.655673",
     "status": "completed"
    },
    "tags": []
   },
   "source": [
    "## Model"
   ]
  },
  {
   "cell_type": "code",
   "execution_count": 10,
   "id": "61c07a97",
   "metadata": {
    "execution": {
     "iopub.execute_input": "2022-01-07T12:35:32.774519Z",
     "iopub.status.busy": "2022-01-07T12:35:32.773763Z",
     "iopub.status.idle": "2022-01-07T12:35:32.785105Z",
     "shell.execute_reply": "2022-01-07T12:35:32.785585Z"
    },
    "id": "ZNuXGIdD5kdU",
    "papermill": {
     "duration": 0.057397,
     "end_time": "2022-01-07T12:35:32.785781",
     "exception": false,
     "start_time": "2022-01-07T12:35:32.728384",
     "status": "completed"
    },
    "tags": []
   },
   "outputs": [],
   "source": [
    "model = CNN(\n",
    "    number_of_classes=config[\"number_of_classes\"],\n",
    "    vocab_size=vocabulary.__len__(),\n",
    "    embedding_dim=config[\"embedding_dim\"],\n",
    "    input_len=max_tok_len\n",
    ").to(device)"
   ]
  },
  {
   "cell_type": "markdown",
   "id": "06d5843d",
   "metadata": {
    "id": "1pqIm92h5kdV",
    "papermill": {
     "duration": 0.034185,
     "end_time": "2022-01-07T12:35:32.853375",
     "exception": false,
     "start_time": "2022-01-07T12:35:32.819190",
     "status": "completed"
    },
    "tags": []
   },
   "source": [
    "## Training"
   ]
  },
  {
   "cell_type": "code",
   "execution_count": 11,
   "id": "99aefefe",
   "metadata": {
    "colab": {
     "base_uri": "https://localhost:8080/"
    },
    "execution": {
     "iopub.execute_input": "2022-01-07T12:35:32.931923Z",
     "iopub.status.busy": "2022-01-07T12:35:32.931066Z",
     "iopub.status.idle": "2022-01-07T12:37:41.673861Z",
     "shell.execute_reply": "2022-01-07T12:37:41.674332Z"
    },
    "id": "uvO_-RFm5kdV",
    "outputId": "7799e5f9-78a7-4ef2-95e8-f06751912eda",
    "papermill": {
     "duration": 128.787002,
     "end_time": "2022-01-07T12:37:41.674543",
     "exception": false,
     "start_time": "2022-01-07T12:35:32.887541",
     "status": "completed"
    },
    "tags": []
   },
   "outputs": [
    {
     "name": "stdout",
     "output_type": "stream",
     "text": [
      "Epoch 0\n"
     ]
    },
    {
     "name": "stderr",
     "output_type": "stream",
     "text": [
      "/Users/katarina/Documents/repositories/GitHub/GLP/src/glp/tokenizers/utils.py:27: UserWarning: To copy construct from a tensor, it is recommended to use sourceTensor.clone().detach() or sourceTensor.clone().detach().requires_grad_(True), rather than torch.tensor(sourceTensor).\n",
      "  x = torch.tensor(pad(x), dtype=torch.long)\n"
     ]
    },
    {
     "name": "stdout",
     "output_type": "stream",
     "text": [
      "Train metrics: \n",
      " Accuracy: 79.9%, Avg loss: 0.616578 \n",
      "\n",
      "Epoch 1\n"
     ]
    },
    {
     "name": "stdout",
     "output_type": "stream",
     "text": [
      "Train metrics: \n",
      " Accuracy: 82.1%, Avg loss: 0.604822 \n",
      "\n",
      "Epoch 2\n"
     ]
    },
    {
     "name": "stdout",
     "output_type": "stream",
     "text": [
      "Train metrics: \n",
      " Accuracy: 84.1%, Avg loss: 0.595688 \n",
      "\n",
      "Epoch 3\n"
     ]
    },
    {
     "name": "stdout",
     "output_type": "stream",
     "text": [
      "Train metrics: \n",
      " Accuracy: 85.3%, Avg loss: 0.590788 \n",
      "\n",
      "Epoch 4\n"
     ]
    },
    {
     "name": "stdout",
     "output_type": "stream",
     "text": [
      "Train metrics: \n",
      " Accuracy: 84.8%, Avg loss: 0.586866 \n",
      "\n"
     ]
    }
   ],
   "source": [
    "model.train(train_loader, epochs=config[\"epochs\"])"
   ]
  },
  {
   "cell_type": "markdown",
   "id": "7a0a0b91",
   "metadata": {
    "id": "bR2tamrc5kdV",
    "papermill": {
     "duration": 0.043875,
     "end_time": "2022-01-07T12:37:41.760199",
     "exception": false,
     "start_time": "2022-01-07T12:37:41.716324",
     "status": "completed"
    },
    "tags": []
   },
   "source": [
    "## Testing"
   ]
  },
  {
   "cell_type": "code",
   "execution_count": 12,
   "id": "a9217e58",
   "metadata": {
    "colab": {
     "base_uri": "https://localhost:8080/"
    },
    "execution": {
     "iopub.execute_input": "2022-01-07T12:37:41.839210Z",
     "iopub.status.busy": "2022-01-07T12:37:41.838474Z",
     "iopub.status.idle": "2022-01-07T12:37:50.188022Z",
     "shell.execute_reply": "2022-01-07T12:37:50.188773Z"
    },
    "id": "wbnciyRK5kdW",
    "outputId": "d2592f9d-f074-465f-95f8-df3b759ae068",
    "papermill": {
     "duration": 8.391082,
     "end_time": "2022-01-07T12:37:50.188989",
     "exception": false,
     "start_time": "2022-01-07T12:37:41.797907",
     "status": "completed"
    },
    "tags": []
   },
   "outputs": [
    {
     "name": "stdout",
     "output_type": "stream",
     "text": [
      "p  4119 ; tp  2829.88161611557 ; fp  606.9952186189118\n",
      "recall  0.6870312250826827 ; precision  0.8233875556771862\n",
      "num_batches 283\n",
      "correct 7162\n",
      "size 9034\n",
      "Test metrics: \n",
      " Accuracy: 0.792783, F1 score: 0.749054, Avg loss: 0.613728 \n",
      "\n"
     ]
    },
    {
     "data": {
      "text/plain": [
       "(0.7927828204560549, 0.7490544586715763)"
      ]
     },
     "execution_count": 12,
     "metadata": {},
     "output_type": "execute_result"
    }
   ],
   "source": [
    "test_dset = get_dataset(config[\"dataset\"], 'test')\n",
    "test_loader = DataLoader(test_dset, batch_size=config[\"batch_size\"], shuffle=True, collate_fn=collate)\n",
    "\n",
    "acc, f1 = model.test(test_loader)\n",
    "acc, f1"
   ]
  }
 ],
 "metadata": {
  "accelerator": "TPU",
  "colab": {
   "name": "torch_cnn_classifier.ipynb",
   "provenance": []
  },
  "environment": {
   "name": "pytorch-gpu.1-9.m75",
   "type": "gcloud",
   "uri": "gcr.io/deeplearning-platform-release/pytorch-gpu.1-9:m75"
  },
  "interpreter": {
   "hash": "9828b828580f1cac1b571b33de6cff8bacecc8916095e1bcbc967952ca7105b7"
  },
  "kernelspec": {
   "display_name": "Python 3",
   "name": "python3"
  },
  "language_info": {
   "codemirror_mode": {
    "name": "ipython",
    "version": 3
   },
   "file_extension": ".py",
   "mimetype": "text/x-python",
   "name": "python",
   "nbconvert_exporter": "python",
   "pygments_lexer": "ipython3",
   "version": "3.8.9"
  },
  "papermill": {
   "default_parameters": {},
   "duration": 555.216235,
   "end_time": "2022-01-07T12:37:50.747092",
   "environment_variables": {},
   "exception": null,
   "input_path": "torch_cnn.ipynb",
   "output_path": "../torch_cnn_experiments/human_nontata_promoters_subword_256.ipynb",
   "parameters": {
    "DATASET": "human_nontata_promoters",
    "TOKENIZER": "subword",
    "VOCAB_SIZE": 256
   },
   "start_time": "2022-01-07T12:28:35.530857",
   "version": "2.3.3"
  }
 },
 "nbformat": 4,
 "nbformat_minor": 5
}