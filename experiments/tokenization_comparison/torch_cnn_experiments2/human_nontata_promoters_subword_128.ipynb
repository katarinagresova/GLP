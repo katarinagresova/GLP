{
 "cells": [
  {
   "cell_type": "markdown",
   "id": "8e5b2557",
   "metadata": {
    "id": "SKOD9lvq5kdM",
    "papermill": {
     "duration": 0.02428,
     "end_time": "2022-01-07T12:13:09.110382",
     "exception": false,
     "start_time": "2022-01-07T12:13:09.086102",
     "status": "completed"
    },
    "tags": []
   },
   "source": [
    "# PYTORCH CNN Classifier"
   ]
  },
  {
   "cell_type": "code",
   "execution_count": 1,
   "id": "61d6cad4",
   "metadata": {
    "execution": {
     "iopub.execute_input": "2022-01-07T12:13:09.154875Z",
     "iopub.status.busy": "2022-01-07T12:13:09.154036Z",
     "iopub.status.idle": "2022-01-07T12:13:09.158729Z",
     "shell.execute_reply": "2022-01-07T12:13:09.159237Z"
    },
    "id": "E8prt3AL5kdO",
    "papermill": {
     "duration": 0.032315,
     "end_time": "2022-01-07T12:13:09.159519",
     "exception": false,
     "start_time": "2022-01-07T12:13:09.127204",
     "status": "completed"
    },
    "tags": [
     "parameters"
    ]
   },
   "outputs": [],
   "source": [
    "DATASET = 'none'\n",
    "VOCAB_SIZE = 0\n",
    "TOKENIZER = 'none'\n",
    "KMER = 0"
   ]
  },
  {
   "cell_type": "code",
   "execution_count": 2,
   "id": "99091fbd",
   "metadata": {
    "execution": {
     "iopub.execute_input": "2022-01-07T12:13:09.190671Z",
     "iopub.status.busy": "2022-01-07T12:13:09.189927Z",
     "iopub.status.idle": "2022-01-07T12:13:09.192486Z",
     "shell.execute_reply": "2022-01-07T12:13:09.193076Z"
    },
    "papermill": {
     "duration": 0.020377,
     "end_time": "2022-01-07T12:13:09.193278",
     "exception": false,
     "start_time": "2022-01-07T12:13:09.172901",
     "status": "completed"
    },
    "tags": [
     "injected-parameters"
    ]
   },
   "outputs": [],
   "source": [
    "# Parameters\n",
    "DATASET = \"human_nontata_promoters\"\n",
    "TOKENIZER = \"subword\"\n",
    "VOCAB_SIZE = 128\n"
   ]
  },
  {
   "cell_type": "code",
   "execution_count": 3,
   "id": "62a34ade",
   "metadata": {
    "colab": {
     "base_uri": "https://localhost:8080/"
    },
    "execution": {
     "iopub.execute_input": "2022-01-07T12:13:09.226936Z",
     "iopub.status.busy": "2022-01-07T12:13:09.225838Z",
     "iopub.status.idle": "2022-01-07T12:13:09.229673Z",
     "shell.execute_reply": "2022-01-07T12:13:09.230330Z"
    },
    "id": "rohBItfR5kdP",
    "outputId": "7da7aafe-0858-48be-bf7d-f698784d88df",
    "papermill": {
     "duration": 0.023656,
     "end_time": "2022-01-07T12:13:09.230543",
     "exception": false,
     "start_time": "2022-01-07T12:13:09.206887",
     "status": "completed"
    },
    "tags": []
   },
   "outputs": [
    {
     "name": "stdout",
     "output_type": "stream",
     "text": [
      "human_nontata_promoters 128 subword 0\n"
     ]
    }
   ],
   "source": [
    "print(DATASET, VOCAB_SIZE, TOKENIZER, KMER)"
   ]
  },
  {
   "cell_type": "markdown",
   "id": "5d53e327",
   "metadata": {
    "id": "Y-YQrVyb5kdQ",
    "papermill": {
     "duration": 0.017494,
     "end_time": "2022-01-07T12:13:09.262951",
     "exception": false,
     "start_time": "2022-01-07T12:13:09.245457",
     "status": "completed"
    },
    "tags": []
   },
   "source": [
    "## Config"
   ]
  },
  {
   "cell_type": "code",
   "execution_count": 4,
   "id": "bd2d17f5",
   "metadata": {
    "execution": {
     "iopub.execute_input": "2022-01-07T12:13:09.297807Z",
     "iopub.status.busy": "2022-01-07T12:13:09.296842Z",
     "iopub.status.idle": "2022-01-07T12:13:11.065711Z",
     "shell.execute_reply": "2022-01-07T12:13:11.066343Z"
    },
    "id": "FIunuyGk5kdR",
    "papermill": {
     "duration": 1.788943,
     "end_time": "2022-01-07T12:13:11.066605",
     "exception": false,
     "start_time": "2022-01-07T12:13:09.277662",
     "status": "completed"
    },
    "tags": []
   },
   "outputs": [],
   "source": [
    "import torch\n",
    "from torch.utils.data import DataLoader\n",
    "\n",
    "from genomic_benchmarks.dataset_getters.pytorch_datasets import get_dataset\n",
    "from glp.models import CNN\n",
    "from glp.tokenizers import get_tokenizer\n",
    "from glp.tokenizers.utils import build_vocab, coll_factory, check_config, check_seq_lengths"
   ]
  },
  {
   "cell_type": "code",
   "execution_count": 5,
   "id": "1c7456be",
   "metadata": {
    "execution": {
     "iopub.execute_input": "2022-01-07T12:13:11.109877Z",
     "iopub.status.busy": "2022-01-07T12:13:11.107399Z",
     "iopub.status.idle": "2022-01-07T12:13:11.112923Z",
     "shell.execute_reply": "2022-01-07T12:13:11.113943Z"
    },
    "id": "UgXiF6Zz5kdR",
    "papermill": {
     "duration": 0.02978,
     "end_time": "2022-01-07T12:13:11.114182",
     "exception": false,
     "start_time": "2022-01-07T12:13:11.084402",
     "status": "completed"
    },
    "tags": []
   },
   "outputs": [],
   "source": [
    "config = {\n",
    "    \"dataset\": DATASET,\n",
    "    \"tokenizer\": TOKENIZER,\n",
    "    \"dataset_version\": 0,\n",
    "    \"epochs\": 5,\n",
    "    \"batch_size\": 32,\n",
    "    \"use_padding\": True,\n",
    "    \"force_download\": False,\n",
    "    \"run_on_gpu\": True,\n",
    "    \"number_of_classes\": 2,\n",
    "    \"embedding_dim\": 100,\n",
    "}\n",
    "check_config(config)"
   ]
  },
  {
   "cell_type": "markdown",
   "id": "abfc3d08",
   "metadata": {
    "id": "AUWF-avz5kdS",
    "papermill": {
     "duration": 0.014902,
     "end_time": "2022-01-07T12:13:11.143986",
     "exception": false,
     "start_time": "2022-01-07T12:13:11.129084",
     "status": "completed"
    },
    "tags": []
   },
   "source": [
    "## Choose the dataset"
   ]
  },
  {
   "cell_type": "code",
   "execution_count": 6,
   "id": "ae7a1b84",
   "metadata": {
    "colab": {
     "base_uri": "https://localhost:8080/"
    },
    "execution": {
     "iopub.execute_input": "2022-01-07T12:13:11.178891Z",
     "iopub.status.busy": "2022-01-07T12:13:11.177910Z",
     "iopub.status.idle": "2022-01-07T12:13:11.376585Z",
     "shell.execute_reply": "2022-01-07T12:13:11.377180Z"
    },
    "id": "1oaryDJr5kdS",
    "outputId": "6a425df9-4092-4601-9cd9-f61d524b6278",
    "papermill": {
     "duration": 0.21846,
     "end_time": "2022-01-07T12:13:11.377380",
     "exception": false,
     "start_time": "2022-01-07T12:13:11.158920",
     "status": "completed"
    },
    "tags": []
   },
   "outputs": [],
   "source": [
    "train_dset = get_dataset(config[\"dataset\"], 'train')"
   ]
  },
  {
   "cell_type": "markdown",
   "id": "a7a7b9c3",
   "metadata": {
    "id": "B0lqmy935kdS",
    "papermill": {
     "duration": 0.019097,
     "end_time": "2022-01-07T12:13:11.411443",
     "exception": false,
     "start_time": "2022-01-07T12:13:11.392346",
     "status": "completed"
    },
    "tags": []
   },
   "source": [
    "## Tokenizer and vocab"
   ]
  },
  {
   "cell_type": "code",
   "execution_count": 7,
   "id": "9715a207",
   "metadata": {
    "colab": {
     "base_uri": "https://localhost:8080/"
    },
    "execution": {
     "iopub.execute_input": "2022-01-07T12:13:11.448789Z",
     "iopub.status.busy": "2022-01-07T12:13:11.447801Z",
     "iopub.status.idle": "2022-01-07T12:19:50.302411Z",
     "shell.execute_reply": "2022-01-07T12:19:50.303146Z"
    },
    "id": "NY_zualp5kdT",
    "outputId": "9034d65f-2f9a-4c83-a314-13d3b808fc65",
    "papermill": {
     "duration": 398.876648,
     "end_time": "2022-01-07T12:19:50.303352",
     "exception": false,
     "start_time": "2022-01-07T12:13:11.426704",
     "status": "completed"
    },
    "tags": []
   },
   "outputs": [
    {
     "name": "stderr",
     "output_type": "stream",
     "text": [
      "sentencepiece_trainer.cc(177) LOG(INFO) Running command: --input=sample.csv --model_prefix=sample --vocab_size=128 --model_type=unigram\n",
      "sentencepiece_trainer.cc(77) LOG(INFO) Starts training with : \n",
      "trainer_spec {\n",
      "  input: sample.csv\n",
      "  input_format: \n",
      "  model_prefix: sample\n",
      "  model_type: UNIGRAM\n",
      "  vocab_size: 128\n",
      "  self_test_sample_size: 0\n",
      "  character_coverage: 0.9995\n",
      "  input_sentence_size: 0\n",
      "  shuffle_input_sentence: 1\n",
      "  seed_sentencepiece_size: 1000000\n",
      "  shrinking_factor: 0.75\n",
      "  max_sentence_length: 4192\n",
      "  num_threads: 16\n",
      "  num_sub_iterations: 2\n",
      "  max_sentencepiece_length: 16\n",
      "  split_by_unicode_script: 1\n",
      "  split_by_number: 1\n",
      "  split_by_whitespace: 1\n",
      "  split_digits: 0\n",
      "  treat_whitespace_as_suffix: 0\n",
      "  required_chars: \n",
      "  byte_fallback: 0\n",
      "  vocabulary_output_piece_score: 1\n",
      "  train_extremely_large_corpus: 0\n",
      "  hard_vocab_limit: 1\n",
      "  use_all_vocab: 0\n",
      "  unk_id: 0\n",
      "  bos_id: 1\n",
      "  eos_id: 2\n",
      "  pad_id: -1\n",
      "  unk_piece: <unk>\n",
      "  bos_piece: <s>\n",
      "  eos_piece: </s>\n",
      "  pad_piece: <pad>\n",
      "  unk_surface:  ⁇ \n",
      "}\n",
      "normalizer_spec {\n",
      "  name: nmt_nfkc\n",
      "  add_dummy_prefix: 1\n",
      "  remove_extra_whitespaces: 1\n",
      "  escape_whitespaces: 1\n",
      "  normalization_rule_tsv: \n",
      "}\n",
      "denormalizer_spec {}\n",
      "trainer_interface.cc(319) LOG(INFO) SentenceIterator is not specified. Using MultiFileSentenceIterator.\n",
      "trainer_interface.cc(174) LOG(INFO) Loading corpus: sample.csv\n",
      "trainer_interface.cc(375) LOG(INFO) Loaded all 27097 sentences\n",
      "trainer_interface.cc(390) LOG(INFO) Adding meta_piece: <unk>\n",
      "trainer_interface.cc(390) LOG(INFO) Adding meta_piece: <s>\n",
      "trainer_interface.cc(390) LOG(INFO) Adding meta_piece: </s>\n",
      "trainer_interface.cc(395) LOG(INFO) Normalizing sentences...\n"
     ]
    },
    {
     "name": "stderr",
     "output_type": "stream",
     "text": [
      "trainer_interface.cc(456) LOG(INFO) all chars count=6828444\n",
      "trainer_interface.cc(477) LOG(INFO) Alphabet size=5\n",
      "trainer_interface.cc(478) LOG(INFO) Final character coverage=1\n"
     ]
    },
    {
     "name": "stderr",
     "output_type": "stream",
     "text": [
      "trainer_interface.cc(510) LOG(INFO) Done! preprocessed 27097 sentences.\n"
     ]
    },
    {
     "name": "stderr",
     "output_type": "stream",
     "text": [
      "unigram_model_trainer.cc(138) LOG(INFO) Making suffix array...\n"
     ]
    },
    {
     "name": "stderr",
     "output_type": "stream",
     "text": [
      "unigram_model_trainer.cc(142) LOG(INFO) Extracting frequent sub strings...\n"
     ]
    },
    {
     "name": "stderr",
     "output_type": "stream",
     "text": [
      "unigram_model_trainer.cc(193) LOG(INFO) Initialized 1000000 seed sentencepieces\n"
     ]
    },
    {
     "name": "stderr",
     "output_type": "stream",
     "text": [
      "trainer_interface.cc(516) LOG(INFO) Tokenizing input sentences with whitespace: 27097\n",
      "trainer_interface.cc(526) LOG(INFO) Done! 27097\n",
      "unigram_model_trainer.cc(488) LOG(INFO) Using 27097 sentences for EM training\n"
     ]
    },
    {
     "name": "stderr",
     "output_type": "stream",
     "text": [
      "unigram_model_trainer.cc(504) LOG(INFO) EM sub_iter=0 size=273096 obj=318.82 num_tokens=676096 num_tokens/piece=2.47567\n"
     ]
    },
    {
     "name": "stderr",
     "output_type": "stream",
     "text": [
      "unigram_model_trainer.cc(504) LOG(INFO) EM sub_iter=1 size=202428 obj=310.236 num_tokens=730585 num_tokens/piece=3.60911\n"
     ]
    },
    {
     "name": "stderr",
     "output_type": "stream",
     "text": [
      "unigram_model_trainer.cc(504) LOG(INFO) EM sub_iter=0 size=141120 obj=305.255 num_tokens=743196 num_tokens/piece=5.26641\n"
     ]
    },
    {
     "name": "stderr",
     "output_type": "stream",
     "text": [
      "unigram_model_trainer.cc(504) LOG(INFO) EM sub_iter=1 size=131299 obj=301.221 num_tokens=751361 num_tokens/piece=5.72252\n"
     ]
    },
    {
     "name": "stderr",
     "output_type": "stream",
     "text": [
      "unigram_model_trainer.cc(504) LOG(INFO) EM sub_iter=0 size=98131 obj=302.387 num_tokens=769820 num_tokens/piece=7.84482\n"
     ]
    },
    {
     "name": "stderr",
     "output_type": "stream",
     "text": [
      "unigram_model_trainer.cc(504) LOG(INFO) EM sub_iter=1 size=97328 obj=300.027 num_tokens=771082 num_tokens/piece=7.92251\n"
     ]
    },
    {
     "name": "stderr",
     "output_type": "stream",
     "text": [
      "unigram_model_trainer.cc(504) LOG(INFO) EM sub_iter=0 size=72965 obj=302.771 num_tokens=793590 num_tokens/piece=10.8763\n"
     ]
    },
    {
     "name": "stderr",
     "output_type": "stream",
     "text": [
      "unigram_model_trainer.cc(504) LOG(INFO) EM sub_iter=1 size=72913 obj=300.566 num_tokens=793758 num_tokens/piece=10.8864\n"
     ]
    },
    {
     "name": "stderr",
     "output_type": "stream",
     "text": [
      "unigram_model_trainer.cc(504) LOG(INFO) EM sub_iter=0 size=54681 obj=304.899 num_tokens=824326 num_tokens/piece=15.0752\n"
     ]
    },
    {
     "name": "stderr",
     "output_type": "stream",
     "text": [
      "unigram_model_trainer.cc(504) LOG(INFO) EM sub_iter=1 size=54676 obj=302.02 num_tokens=824385 num_tokens/piece=15.0776\n"
     ]
    },
    {
     "name": "stderr",
     "output_type": "stream",
     "text": [
      "unigram_model_trainer.cc(504) LOG(INFO) EM sub_iter=0 size=41005 obj=308.659 num_tokens=865158 num_tokens/piece=21.0988\n"
     ]
    },
    {
     "name": "stderr",
     "output_type": "stream",
     "text": [
      "unigram_model_trainer.cc(504) LOG(INFO) EM sub_iter=1 size=41001 obj=305.092 num_tokens=865358 num_tokens/piece=21.1058\n"
     ]
    },
    {
     "name": "stderr",
     "output_type": "stream",
     "text": [
      "unigram_model_trainer.cc(504) LOG(INFO) EM sub_iter=0 size=30750 obj=313.56 num_tokens=913784 num_tokens/piece=29.7166\n"
     ]
    },
    {
     "name": "stderr",
     "output_type": "stream",
     "text": [
      "unigram_model_trainer.cc(504) LOG(INFO) EM sub_iter=1 size=30747 obj=309.962 num_tokens=914057 num_tokens/piece=29.7283\n"
     ]
    },
    {
     "name": "stderr",
     "output_type": "stream",
     "text": [
      "unigram_model_trainer.cc(504) LOG(INFO) EM sub_iter=0 size=23059 obj=318.774 num_tokens=963241 num_tokens/piece=41.7729\n"
     ]
    },
    {
     "name": "stderr",
     "output_type": "stream",
     "text": [
      "unigram_model_trainer.cc(504) LOG(INFO) EM sub_iter=1 size=23057 obj=315.697 num_tokens=963700 num_tokens/piece=41.7964\n"
     ]
    },
    {
     "name": "stderr",
     "output_type": "stream",
     "text": [
      "unigram_model_trainer.cc(504) LOG(INFO) EM sub_iter=0 size=17292 obj=323.884 num_tokens=1010068 num_tokens/piece=58.4124\n"
     ]
    },
    {
     "name": "stderr",
     "output_type": "stream",
     "text": [
      "unigram_model_trainer.cc(504) LOG(INFO) EM sub_iter=1 size=17291 obj=321.234 num_tokens=1010704 num_tokens/piece=58.4526\n"
     ]
    },
    {
     "name": "stderr",
     "output_type": "stream",
     "text": [
      "unigram_model_trainer.cc(504) LOG(INFO) EM sub_iter=0 size=12968 obj=328.69 num_tokens=1054028 num_tokens/piece=81.2791\n"
     ]
    },
    {
     "name": "stderr",
     "output_type": "stream",
     "text": [
      "unigram_model_trainer.cc(504) LOG(INFO) EM sub_iter=1 size=12968 obj=326.409 num_tokens=1054837 num_tokens/piece=81.3415\n"
     ]
    },
    {
     "name": "stderr",
     "output_type": "stream",
     "text": [
      "unigram_model_trainer.cc(504) LOG(INFO) EM sub_iter=0 size=9726 obj=333.01 num_tokens=1094672 num_tokens/piece=112.551\n"
     ]
    },
    {
     "name": "stderr",
     "output_type": "stream",
     "text": [
      "unigram_model_trainer.cc(504) LOG(INFO) EM sub_iter=1 size=9726 obj=330.859 num_tokens=1095614 num_tokens/piece=112.648\n"
     ]
    },
    {
     "name": "stderr",
     "output_type": "stream",
     "text": [
      "unigram_model_trainer.cc(504) LOG(INFO) EM sub_iter=0 size=7294 obj=336.415 num_tokens=1133128 num_tokens/piece=155.351\n"
     ]
    },
    {
     "name": "stderr",
     "output_type": "stream",
     "text": [
      "unigram_model_trainer.cc(504) LOG(INFO) EM sub_iter=1 size=7294 obj=334.243 num_tokens=1133961 num_tokens/piece=155.465\n"
     ]
    },
    {
     "name": "stderr",
     "output_type": "stream",
     "text": [
      "unigram_model_trainer.cc(504) LOG(INFO) EM sub_iter=0 size=5470 obj=338.81 num_tokens=1170083 num_tokens/piece=213.909\n"
     ]
    },
    {
     "name": "stderr",
     "output_type": "stream",
     "text": [
      "unigram_model_trainer.cc(504) LOG(INFO) EM sub_iter=1 size=5470 obj=335.967 num_tokens=1170771 num_tokens/piece=214.035\n"
     ]
    },
    {
     "name": "stderr",
     "output_type": "stream",
     "text": [
      "unigram_model_trainer.cc(504) LOG(INFO) EM sub_iter=0 size=4102 obj=340.284 num_tokens=1210338 num_tokens/piece=295.06\n"
     ]
    },
    {
     "name": "stderr",
     "output_type": "stream",
     "text": [
      "unigram_model_trainer.cc(504) LOG(INFO) EM sub_iter=1 size=4102 obj=336.901 num_tokens=1210947 num_tokens/piece=295.209\n"
     ]
    },
    {
     "name": "stderr",
     "output_type": "stream",
     "text": [
      "unigram_model_trainer.cc(504) LOG(INFO) EM sub_iter=0 size=3076 obj=341.655 num_tokens=1255820 num_tokens/piece=408.264\n"
     ]
    },
    {
     "name": "stderr",
     "output_type": "stream",
     "text": [
      "unigram_model_trainer.cc(504) LOG(INFO) EM sub_iter=1 size=3076 obj=337.882 num_tokens=1256352 num_tokens/piece=408.437\n"
     ]
    },
    {
     "name": "stderr",
     "output_type": "stream",
     "text": [
      "unigram_model_trainer.cc(504) LOG(INFO) EM sub_iter=0 size=2307 obj=343.05 num_tokens=1304395 num_tokens/piece=565.407\n"
     ]
    },
    {
     "name": "stderr",
     "output_type": "stream",
     "text": [
      "unigram_model_trainer.cc(504) LOG(INFO) EM sub_iter=1 size=2307 obj=338.929 num_tokens=1305034 num_tokens/piece=565.684\n"
     ]
    },
    {
     "name": "stderr",
     "output_type": "stream",
     "text": [
      "unigram_model_trainer.cc(504) LOG(INFO) EM sub_iter=0 size=1730 obj=344.656 num_tokens=1358350 num_tokens/piece=785.173\n"
     ]
    },
    {
     "name": "stderr",
     "output_type": "stream",
     "text": [
      "unigram_model_trainer.cc(504) LOG(INFO) EM sub_iter=1 size=1730 obj=340.109 num_tokens=1359067 num_tokens/piece=785.588\n"
     ]
    },
    {
     "name": "stderr",
     "output_type": "stream",
     "text": [
      "unigram_model_trainer.cc(504) LOG(INFO) EM sub_iter=0 size=1297 obj=345.476 num_tokens=1416700 num_tokens/piece=1092.29\n"
     ]
    },
    {
     "name": "stderr",
     "output_type": "stream",
     "text": [
      "unigram_model_trainer.cc(504) LOG(INFO) EM sub_iter=1 size=1297 obj=340.889 num_tokens=1417578 num_tokens/piece=1092.97\n"
     ]
    },
    {
     "name": "stderr",
     "output_type": "stream",
     "text": [
      "unigram_model_trainer.cc(504) LOG(INFO) EM sub_iter=0 size=972 obj=346.645 num_tokens=1478862 num_tokens/piece=1521.46\n"
     ]
    },
    {
     "name": "stderr",
     "output_type": "stream",
     "text": [
      "unigram_model_trainer.cc(504) LOG(INFO) EM sub_iter=1 size=972 obj=341.636 num_tokens=1479766 num_tokens/piece=1522.39\n"
     ]
    },
    {
     "name": "stderr",
     "output_type": "stream",
     "text": [
      "unigram_model_trainer.cc(504) LOG(INFO) EM sub_iter=0 size=729 obj=347.372 num_tokens=1545098 num_tokens/piece=2119.48\n"
     ]
    },
    {
     "name": "stderr",
     "output_type": "stream",
     "text": [
      "unigram_model_trainer.cc(504) LOG(INFO) EM sub_iter=1 size=729 obj=342.103 num_tokens=1546049 num_tokens/piece=2120.78\n"
     ]
    },
    {
     "name": "stderr",
     "output_type": "stream",
     "text": [
      "unigram_model_trainer.cc(504) LOG(INFO) EM sub_iter=0 size=546 obj=348.951 num_tokens=1616218 num_tokens/piece=2960.11\n"
     ]
    },
    {
     "name": "stderr",
     "output_type": "stream",
     "text": [
      "unigram_model_trainer.cc(504) LOG(INFO) EM sub_iter=1 size=546 obj=342.654 num_tokens=1617032 num_tokens/piece=2961.6\n"
     ]
    },
    {
     "name": "stderr",
     "output_type": "stream",
     "text": [
      "unigram_model_trainer.cc(504) LOG(INFO) EM sub_iter=0 size=409 obj=350.146 num_tokens=1701638 num_tokens/piece=4160.48\n"
     ]
    },
    {
     "name": "stderr",
     "output_type": "stream",
     "text": [
      "unigram_model_trainer.cc(504) LOG(INFO) EM sub_iter=1 size=409 obj=343.203 num_tokens=1702364 num_tokens/piece=4162.26\n"
     ]
    },
    {
     "name": "stderr",
     "output_type": "stream",
     "text": [
      "unigram_model_trainer.cc(504) LOG(INFO) EM sub_iter=0 size=306 obj=350.528 num_tokens=1795292 num_tokens/piece=5866.97\n"
     ]
    },
    {
     "name": "stderr",
     "output_type": "stream",
     "text": [
      "unigram_model_trainer.cc(504) LOG(INFO) EM sub_iter=1 size=306 obj=343.728 num_tokens=1796722 num_tokens/piece=5871.64\n"
     ]
    },
    {
     "name": "stderr",
     "output_type": "stream",
     "text": [
      "unigram_model_trainer.cc(504) LOG(INFO) EM sub_iter=0 size=229 obj=352.046 num_tokens=1895431 num_tokens/piece=8276.99\n"
     ]
    },
    {
     "name": "stderr",
     "output_type": "stream",
     "text": [
      "unigram_model_trainer.cc(504) LOG(INFO) EM sub_iter=1 size=229 obj=344.113 num_tokens=1896461 num_tokens/piece=8281.49\n"
     ]
    },
    {
     "name": "stderr",
     "output_type": "stream",
     "text": [
      "unigram_model_trainer.cc(504) LOG(INFO) EM sub_iter=0 size=171 obj=353.24 num_tokens=2001837 num_tokens/piece=11706.6\n"
     ]
    },
    {
     "name": "stderr",
     "output_type": "stream",
     "text": [
      "unigram_model_trainer.cc(504) LOG(INFO) EM sub_iter=1 size=171 obj=344.731 num_tokens=2004561 num_tokens/piece=11722.6\n"
     ]
    },
    {
     "name": "stderr",
     "output_type": "stream",
     "text": [
      "unigram_model_trainer.cc(504) LOG(INFO) EM sub_iter=0 size=140 obj=350.76 num_tokens=2093176 num_tokens/piece=14951.3\n"
     ]
    },
    {
     "name": "stderr",
     "output_type": "stream",
     "text": [
      "unigram_model_trainer.cc(504) LOG(INFO) EM sub_iter=1 size=140 obj=344.969 num_tokens=2095483 num_tokens/piece=14967.7\n",
      "trainer_interface.cc(604) LOG(INFO) Saving model: sample.model\n",
      "trainer_interface.cc(615) LOG(INFO) Saving vocabs: sample.vocab\n"
     ]
    },
    {
     "name": "stdout",
     "output_type": "stream",
     "text": [
      "vocab len: 127\n",
      "{'CTCT': 124, 'G': 123, 'T': 121, 'A': 119, 'AGGA': 118, 'AGG': 117, 'CCCCG': 115, 'AAAA': 114, 'ATTT': 112, 'C': 111, 'TAG': 110, 'ATC': 109, 'TGG': 107, 'ACTT': 104, 'TTTG': 113, 'ACCC': 103, 'AC': 98, 'TTCA': 125, 'AGC': 94, 'TC': 92, 'GTGT': 50, 'CCCAG': 91, 'TGC': 90, 'ATAA': 88, 'TGT': 63, 'CTGGG': 85, 'ACAA': 79, 'CGCGC': 27, 'GCCC': 80, '<pad>': 126, 'CCAG': 78, 'AAT': 3, 'GA': 76, 'CCTC': 72, 'CGG': 93, 'TAT': 116, 'CTT': 71, 'CCAC': 73, 'TTCC': 70, 'AAC': 68, 'GAAG': 67, 'TA': 7, 'TGAG': 81, 'CTGT': 66, 'TTA': 65, 'TCT': 61, 'AGGG': 23, 'GT': 84, 'TGAT': 83, 'GCCG': 39, 'GAC': 46, 'ACCA': 59, 'CCCGC': 97, 'GCT': 58, 'ACAG': 99, 'ATGT': 57, 'AT': 11, 'AGA': 18, 'GAGG': 62, 'TTCT': 54, 'GTT': 47, 'TGTG': 53, 'CTC': 52, 'CA': 51, 'CCGCC': 95, 'GCA': 26, 'CAGC': 75, 'CTGC': 49, 'GGCG': 48, 'GTC': 33, 'ACCT': 105, 'TG': 24, 'AAGG': 122, 'GCC': 42, 'CGGG': 41, 'GGGA': 38, 'ACA': 82, 'AAA': 43, 'GC': 16, 'GGC': 36, 'TCCC': 35, 'GAG': 60, 'CCTGG': 31, 'CTG': 32, 'TCTT': 28, 'AA': 5, 'CTCC': 34, 'ATT': 15, 'CCCT': 22, 'ACG': 45, 'GGT': 89, 'GCGG': 87, 'CCAA': 120, 'AAG': 86, 'CTTT': 30, 'CC': 25, 'CG': 4, 'GCG': 20, 'TGGG': 21, 'CACC': 106, 'GGAG': 17, 'CAC': 6, 'AGT': 74, '<unk>': 0, 'TTG': 100, 'CTTC': 19, 'TCTC': 108, 'TGAA': 69, 'ACT': 10, 'GGAA': 8, 'CT': 64, 'GG': 14, 'GTGG': 13, 'AG': 12, 'TGGA': 101, 'TCCT': 9, 'GCTG': 37, 'TTT': 55, '▁': 1, 'CAT': 29, 'TCA': 96, 'GTGA': 102, 'TTTT': 56, 'CAG': 44, 'TCC': 77, 'GCCT': 40, 'CAGG': 2}\n"
     ]
    }
   ],
   "source": [
    "tokenizer = get_tokenizer(config['tokenizer'])\n",
    "tokenizer.train(train_dset=train_dset, vocab_size=VOCAB_SIZE, kmer=KMER)\n",
    "vocabulary = build_vocab(train_dset, tokenizer, use_padding=config[\"use_padding\"])\n",
    "\n",
    "print(\"vocab len:\" ,vocabulary.__len__())\n",
    "print(vocabulary.get_stoi())"
   ]
  },
  {
   "cell_type": "markdown",
   "id": "77070bd6",
   "metadata": {
    "id": "3hGQpSJA5kdT",
    "papermill": {
     "duration": 0.04292,
     "end_time": "2022-01-07T12:19:50.383537",
     "exception": false,
     "start_time": "2022-01-07T12:19:50.340617",
     "status": "completed"
    },
    "tags": []
   },
   "source": [
    "## Dataloader and batch preparation"
   ]
  },
  {
   "cell_type": "code",
   "execution_count": 8,
   "id": "1fa27d29",
   "metadata": {
    "colab": {
     "base_uri": "https://localhost:8080/"
    },
    "execution": {
     "iopub.execute_input": "2022-01-07T12:19:50.457241Z",
     "iopub.status.busy": "2022-01-07T12:19:50.456300Z",
     "iopub.status.idle": "2022-01-07T12:20:13.248853Z",
     "shell.execute_reply": "2022-01-07T12:20:13.249359Z"
    },
    "id": "gXUgPH6q5kdT",
    "outputId": "a1eb6ba2-9bcd-416d-8662-e3516121da96",
    "papermill": {
     "duration": 22.832549,
     "end_time": "2022-01-07T12:20:13.249633",
     "exception": false,
     "start_time": "2022-01-07T12:19:50.417084",
     "status": "completed"
    },
    "tags": []
   },
   "outputs": [
    {
     "name": "stdout",
     "output_type": "stream",
     "text": [
      "Using cpu device\n"
     ]
    },
    {
     "name": "stdout",
     "output_type": "stream",
     "text": [
      "max_tok_len  93\n"
     ]
    },
    {
     "name": "stdout",
     "output_type": "stream",
     "text": [
      "not all sequences are of the same length\n"
     ]
    }
   ],
   "source": [
    "# Run on GPU or CPU\n",
    "device = 'cuda' if config[\"run_on_gpu\"] and torch.cuda.is_available() else 'cpu'\n",
    "print('Using {} device'.format(device))\n",
    "\n",
    "max_tok_len = check_seq_lengths(dataset=train_dset, tokenizer=tokenizer)\n",
    "\n",
    "# Data Loader\n",
    "collate = coll_factory(vocabulary, tokenizer, device, pad_to_length = max_tok_len)\n",
    "\n",
    "train_loader = DataLoader(train_dset, batch_size=config[\"batch_size\"], shuffle=True, collate_fn=collate)"
   ]
  },
  {
   "cell_type": "code",
   "execution_count": 9,
   "id": "61c9ef65",
   "metadata": {
    "execution": {
     "iopub.execute_input": "2022-01-07T12:20:13.336991Z",
     "iopub.status.busy": "2022-01-07T12:20:13.336258Z",
     "iopub.status.idle": "2022-01-07T12:20:13.347109Z",
     "shell.execute_reply": "2022-01-07T12:20:13.347816Z"
    },
    "papermill": {
     "duration": 0.061282,
     "end_time": "2022-01-07T12:20:13.348027",
     "exception": false,
     "start_time": "2022-01-07T12:20:13.286745",
     "status": "completed"
    },
    "tags": []
   },
   "outputs": [
    {
     "data": {
      "text/plain": [
       "['▁',\n",
       " 'CA',\n",
       " 'CTC',\n",
       " 'TGTG',\n",
       " 'TTCT',\n",
       " 'TTT',\n",
       " 'AAA',\n",
       " 'AT',\n",
       " 'CCCT',\n",
       " 'CAGG',\n",
       " 'TTTT',\n",
       " 'ATGT',\n",
       " 'TTT',\n",
       " 'ATT',\n",
       " 'GCT',\n",
       " 'ACCA',\n",
       " 'GAG',\n",
       " 'TCT',\n",
       " 'GCCT',\n",
       " 'CCCT',\n",
       " 'GAGG',\n",
       " 'TTCT',\n",
       " 'TGT',\n",
       " 'AT',\n",
       " 'AGA',\n",
       " 'CT',\n",
       " 'AG',\n",
       " 'TTA',\n",
       " 'TTT',\n",
       " 'CCCT',\n",
       " 'CTGT',\n",
       " 'AAA',\n",
       " 'GAAG',\n",
       " 'CTG',\n",
       " 'TTCT',\n",
       " 'ATT',\n",
       " 'CG',\n",
       " 'TTCT',\n",
       " 'CG',\n",
       " 'CCTGG',\n",
       " 'TTT',\n",
       " 'GGAA',\n",
       " 'CA',\n",
       " 'AAC',\n",
       " 'TGAA',\n",
       " 'CAC',\n",
       " 'TTCC',\n",
       " 'AAA',\n",
       " 'GGAG',\n",
       " 'GCA',\n",
       " 'GTC',\n",
       " 'CTT',\n",
       " 'GCA',\n",
       " 'GCCT',\n",
       " 'TGT',\n",
       " 'CTCC',\n",
       " 'TTCC',\n",
       " 'ACT',\n",
       " 'CC',\n",
       " 'CCTC',\n",
       " 'CTCC',\n",
       " 'CCAC',\n",
       " 'AGT',\n",
       " 'CCTGG',\n",
       " 'CT',\n",
       " 'GGAG',\n",
       " 'CAGC',\n",
       " 'GAG',\n",
       " 'TCT',\n",
       " 'GTC',\n",
       " 'GA',\n",
       " 'TCC',\n",
       " 'CAGG',\n",
       " 'CCAG',\n",
       " 'AG',\n",
       " 'ACAA',\n",
       " 'GGC']"
      ]
     },
     "execution_count": 9,
     "metadata": {},
     "output_type": "execute_result"
    }
   ],
   "source": [
    "tokenizer(train_dset[1][0])"
   ]
  },
  {
   "cell_type": "markdown",
   "id": "63ea523e",
   "metadata": {
    "id": "sTTomnnP5kdU",
    "papermill": {
     "duration": 0.039732,
     "end_time": "2022-01-07T12:20:13.425451",
     "exception": false,
     "start_time": "2022-01-07T12:20:13.385719",
     "status": "completed"
    },
    "tags": []
   },
   "source": [
    "## Model"
   ]
  },
  {
   "cell_type": "code",
   "execution_count": 10,
   "id": "df01ea17",
   "metadata": {
    "execution": {
     "iopub.execute_input": "2022-01-07T12:20:13.509964Z",
     "iopub.status.busy": "2022-01-07T12:20:13.508763Z",
     "iopub.status.idle": "2022-01-07T12:20:13.518481Z",
     "shell.execute_reply": "2022-01-07T12:20:13.517932Z"
    },
    "id": "ZNuXGIdD5kdU",
    "papermill": {
     "duration": 0.057777,
     "end_time": "2022-01-07T12:20:13.518673",
     "exception": false,
     "start_time": "2022-01-07T12:20:13.460896",
     "status": "completed"
    },
    "tags": []
   },
   "outputs": [],
   "source": [
    "model = CNN(\n",
    "    number_of_classes=config[\"number_of_classes\"],\n",
    "    vocab_size=vocabulary.__len__(),\n",
    "    embedding_dim=config[\"embedding_dim\"],\n",
    "    input_len=max_tok_len\n",
    ").to(device)"
   ]
  },
  {
   "cell_type": "markdown",
   "id": "77e26951",
   "metadata": {
    "id": "1pqIm92h5kdV",
    "papermill": {
     "duration": 0.037418,
     "end_time": "2022-01-07T12:20:13.592684",
     "exception": false,
     "start_time": "2022-01-07T12:20:13.555266",
     "status": "completed"
    },
    "tags": []
   },
   "source": [
    "## Training"
   ]
  },
  {
   "cell_type": "code",
   "execution_count": 11,
   "id": "8bc25b36",
   "metadata": {
    "colab": {
     "base_uri": "https://localhost:8080/"
    },
    "execution": {
     "iopub.execute_input": "2022-01-07T12:20:13.677046Z",
     "iopub.status.busy": "2022-01-07T12:20:13.676294Z",
     "iopub.status.idle": "2022-01-07T12:28:25.339796Z",
     "shell.execute_reply": "2022-01-07T12:28:25.340531Z"
    },
    "id": "uvO_-RFm5kdV",
    "outputId": "7799e5f9-78a7-4ef2-95e8-f06751912eda",
    "papermill": {
     "duration": 491.710057,
     "end_time": "2022-01-07T12:28:25.341153",
     "exception": false,
     "start_time": "2022-01-07T12:20:13.631096",
     "status": "completed"
    },
    "tags": []
   },
   "outputs": [
    {
     "name": "stdout",
     "output_type": "stream",
     "text": [
      "Epoch 0\n"
     ]
    },
    {
     "name": "stderr",
     "output_type": "stream",
     "text": [
      "/Users/katarina/Documents/repositories/GitHub/GLP/src/glp/tokenizers/utils.py:27: UserWarning: To copy construct from a tensor, it is recommended to use sourceTensor.clone().detach() or sourceTensor.clone().detach().requires_grad_(True), rather than torch.tensor(sourceTensor).\n",
      "  x = torch.tensor(pad(x), dtype=torch.long)\n"
     ]
    },
    {
     "name": "stdout",
     "output_type": "stream",
     "text": [
      "Train metrics: \n",
      " Accuracy: 80.9%, Avg loss: 0.614427 \n",
      "\n",
      "Epoch 1\n"
     ]
    },
    {
     "name": "stdout",
     "output_type": "stream",
     "text": [
      "Train metrics: \n",
      " Accuracy: 79.8%, Avg loss: 0.609638 \n",
      "\n",
      "Epoch 2\n"
     ]
    },
    {
     "name": "stdout",
     "output_type": "stream",
     "text": [
      "Train metrics: \n",
      " Accuracy: 83.0%, Avg loss: 0.600815 \n",
      "\n",
      "Epoch 3\n"
     ]
    },
    {
     "name": "stdout",
     "output_type": "stream",
     "text": [
      "Train metrics: \n",
      " Accuracy: 85.4%, Avg loss: 0.589186 \n",
      "\n",
      "Epoch 4\n"
     ]
    },
    {
     "name": "stdout",
     "output_type": "stream",
     "text": [
      "Train metrics: \n",
      " Accuracy: 85.5%, Avg loss: 0.586978 \n",
      "\n"
     ]
    }
   ],
   "source": [
    "model.train(train_loader, epochs=config[\"epochs\"])"
   ]
  },
  {
   "cell_type": "markdown",
   "id": "3ed8d808",
   "metadata": {
    "id": "bR2tamrc5kdV",
    "papermill": {
     "duration": 0.046655,
     "end_time": "2022-01-07T12:28:25.427927",
     "exception": false,
     "start_time": "2022-01-07T12:28:25.381272",
     "status": "completed"
    },
    "tags": []
   },
   "source": [
    "## Testing"
   ]
  },
  {
   "cell_type": "code",
   "execution_count": 12,
   "id": "8e3eddaf",
   "metadata": {
    "colab": {
     "base_uri": "https://localhost:8080/"
    },
    "execution": {
     "iopub.execute_input": "2022-01-07T12:28:25.518231Z",
     "iopub.status.busy": "2022-01-07T12:28:25.517020Z",
     "iopub.status.idle": "2022-01-07T12:28:34.369648Z",
     "shell.execute_reply": "2022-01-07T12:28:34.370249Z"
    },
    "id": "wbnciyRK5kdW",
    "outputId": "d2592f9d-f074-465f-95f8-df3b759ae068",
    "papermill": {
     "duration": 8.90312,
     "end_time": "2022-01-07T12:28:34.370528",
     "exception": false,
     "start_time": "2022-01-07T12:28:25.467408",
     "status": "completed"
    },
    "tags": []
   },
   "outputs": [
    {
     "name": "stdout",
     "output_type": "stream",
     "text": [
      "p  4119 ; tp  3045.0069341659546 ; fp  694.0689605165936\n",
      "recall  0.73925878469676 ; precision  0.8143741983136396\n",
      "num_batches 283\n",
      "correct 7282\n",
      "size 9034\n",
      "Test metrics: \n",
      " Accuracy: 0.806066, F1 score: 0.775001, Avg loss: 0.610672 \n",
      "\n"
     ]
    },
    {
     "data": {
      "text/plain": [
       "(0.8060659729909232, 0.7750006426449683)"
      ]
     },
     "execution_count": 12,
     "metadata": {},
     "output_type": "execute_result"
    }
   ],
   "source": [
    "test_dset = get_dataset(config[\"dataset\"], 'test')\n",
    "test_loader = DataLoader(test_dset, batch_size=config[\"batch_size\"], shuffle=True, collate_fn=collate)\n",
    "\n",
    "acc, f1 = model.test(test_loader)\n",
    "acc, f1"
   ]
  }
 ],
 "metadata": {
  "accelerator": "TPU",
  "colab": {
   "name": "torch_cnn_classifier.ipynb",
   "provenance": []
  },
  "environment": {
   "name": "pytorch-gpu.1-9.m75",
   "type": "gcloud",
   "uri": "gcr.io/deeplearning-platform-release/pytorch-gpu.1-9:m75"
  },
  "interpreter": {
   "hash": "9828b828580f1cac1b571b33de6cff8bacecc8916095e1bcbc967952ca7105b7"
  },
  "kernelspec": {
   "display_name": "Python 3",
   "name": "python3"
  },
  "language_info": {
   "codemirror_mode": {
    "name": "ipython",
    "version": 3
   },
   "file_extension": ".py",
   "mimetype": "text/x-python",
   "name": "python",
   "nbconvert_exporter": "python",
   "pygments_lexer": "ipython3",
   "version": "3.8.9"
  },
  "papermill": {
   "default_parameters": {},
   "duration": 928.236911,
   "end_time": "2022-01-07T12:28:35.359280",
   "environment_variables": {},
   "exception": null,
   "input_path": "torch_cnn.ipynb",
   "output_path": "../torch_cnn_experiments/human_nontata_promoters_subword_128.ipynb",
   "parameters": {
    "DATASET": "human_nontata_promoters",
    "TOKENIZER": "subword",
    "VOCAB_SIZE": 128
   },
   "start_time": "2022-01-07T12:13:07.122369",
   "version": "2.3.3"
  }
 },
 "nbformat": 4,
 "nbformat_minor": 5
}