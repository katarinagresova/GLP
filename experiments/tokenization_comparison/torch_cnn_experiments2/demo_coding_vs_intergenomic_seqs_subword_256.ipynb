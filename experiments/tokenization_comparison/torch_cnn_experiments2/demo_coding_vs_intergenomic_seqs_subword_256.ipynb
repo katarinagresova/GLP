{
 "cells": [
  {
   "cell_type": "markdown",
   "id": "e1ccc3f0",
   "metadata": {
    "id": "SKOD9lvq5kdM",
    "papermill": {
     "duration": 0.020902,
     "end_time": "2022-01-06T18:42:07.254746",
     "exception": false,
     "start_time": "2022-01-06T18:42:07.233844",
     "status": "completed"
    },
    "tags": []
   },
   "source": [
    "# PYTORCH CNN Classifier"
   ]
  },
  {
   "cell_type": "code",
   "execution_count": 1,
   "id": "c09381b9",
   "metadata": {
    "execution": {
     "iopub.execute_input": "2022-01-06T18:42:07.294976Z",
     "iopub.status.busy": "2022-01-06T18:42:07.294067Z",
     "iopub.status.idle": "2022-01-06T18:42:07.298802Z",
     "shell.execute_reply": "2022-01-06T18:42:07.298247Z"
    },
    "id": "E8prt3AL5kdO",
    "papermill": {
     "duration": 0.029354,
     "end_time": "2022-01-06T18:42:07.299101",
     "exception": false,
     "start_time": "2022-01-06T18:42:07.269747",
     "status": "completed"
    },
    "tags": [
     "parameters"
    ]
   },
   "outputs": [],
   "source": [
    "DATASET = 'none'\n",
    "VOCAB_SIZE = 0\n",
    "TOKENIZER = 'none'\n",
    "KMER = 0"
   ]
  },
  {
   "cell_type": "code",
   "execution_count": 2,
   "id": "0e89f527",
   "metadata": {
    "execution": {
     "iopub.execute_input": "2022-01-06T18:42:07.337284Z",
     "iopub.status.busy": "2022-01-06T18:42:07.335896Z",
     "iopub.status.idle": "2022-01-06T18:42:07.339693Z",
     "shell.execute_reply": "2022-01-06T18:42:07.339188Z"
    },
    "papermill": {
     "duration": 0.025619,
     "end_time": "2022-01-06T18:42:07.340032",
     "exception": false,
     "start_time": "2022-01-06T18:42:07.314413",
     "status": "completed"
    },
    "tags": [
     "injected-parameters"
    ]
   },
   "outputs": [],
   "source": [
    "# Parameters\n",
    "DATASET = \"demo_coding_vs_intergenomic_seqs\"\n",
    "TOKENIZER = \"subword\"\n",
    "VOCAB_SIZE = 256\n"
   ]
  },
  {
   "cell_type": "code",
   "execution_count": 3,
   "id": "f903f1d6",
   "metadata": {
    "colab": {
     "base_uri": "https://localhost:8080/"
    },
    "execution": {
     "iopub.execute_input": "2022-01-06T18:42:07.372447Z",
     "iopub.status.busy": "2022-01-06T18:42:07.371592Z",
     "iopub.status.idle": "2022-01-06T18:42:07.375212Z",
     "shell.execute_reply": "2022-01-06T18:42:07.375714Z"
    },
    "id": "rohBItfR5kdP",
    "outputId": "7da7aafe-0858-48be-bf7d-f698784d88df",
    "papermill": {
     "duration": 0.021829,
     "end_time": "2022-01-06T18:42:07.375902",
     "exception": false,
     "start_time": "2022-01-06T18:42:07.354073",
     "status": "completed"
    },
    "tags": []
   },
   "outputs": [
    {
     "name": "stdout",
     "output_type": "stream",
     "text": [
      "demo_coding_vs_intergenomic_seqs 256 subword 0\n"
     ]
    }
   ],
   "source": [
    "print(DATASET, VOCAB_SIZE, TOKENIZER, KMER)"
   ]
  },
  {
   "cell_type": "markdown",
   "id": "ecca976d",
   "metadata": {
    "id": "Y-YQrVyb5kdQ",
    "papermill": {
     "duration": 0.015477,
     "end_time": "2022-01-06T18:42:07.405119",
     "exception": false,
     "start_time": "2022-01-06T18:42:07.389642",
     "status": "completed"
    },
    "tags": []
   },
   "source": [
    "## Config"
   ]
  },
  {
   "cell_type": "code",
   "execution_count": 4,
   "id": "d6f46e50",
   "metadata": {
    "execution": {
     "iopub.execute_input": "2022-01-06T18:42:07.439869Z",
     "iopub.status.busy": "2022-01-06T18:42:07.438924Z",
     "iopub.status.idle": "2022-01-06T18:42:09.196625Z",
     "shell.execute_reply": "2022-01-06T18:42:09.197181Z"
    },
    "id": "FIunuyGk5kdR",
    "papermill": {
     "duration": 1.777198,
     "end_time": "2022-01-06T18:42:09.197401",
     "exception": false,
     "start_time": "2022-01-06T18:42:07.420203",
     "status": "completed"
    },
    "tags": []
   },
   "outputs": [],
   "source": [
    "import torch\n",
    "from torch.utils.data import DataLoader\n",
    "\n",
    "from genomic_benchmarks.dataset_getters.pytorch_datasets import get_dataset\n",
    "from glp.models import CNN\n",
    "from glp.tokenizers import get_tokenizer\n",
    "from glp.tokenizers.utils import build_vocab, coll_factory, check_config, check_seq_lengths"
   ]
  },
  {
   "cell_type": "code",
   "execution_count": 5,
   "id": "c78c4ddb",
   "metadata": {
    "execution": {
     "iopub.execute_input": "2022-01-06T18:42:09.241782Z",
     "iopub.status.busy": "2022-01-06T18:42:09.240679Z",
     "iopub.status.idle": "2022-01-06T18:42:09.243966Z",
     "shell.execute_reply": "2022-01-06T18:42:09.244610Z"
    },
    "id": "UgXiF6Zz5kdR",
    "papermill": {
     "duration": 0.030731,
     "end_time": "2022-01-06T18:42:09.244825",
     "exception": false,
     "start_time": "2022-01-06T18:42:09.214094",
     "status": "completed"
    },
    "tags": []
   },
   "outputs": [],
   "source": [
    "config = {\n",
    "    \"dataset\": DATASET,\n",
    "    \"tokenizer\": TOKENIZER,\n",
    "    \"dataset_version\": 0,\n",
    "    \"epochs\": 5,\n",
    "    \"batch_size\": 32,\n",
    "    \"use_padding\": True,\n",
    "    \"force_download\": False,\n",
    "    \"run_on_gpu\": True,\n",
    "    \"number_of_classes\": 2,\n",
    "    \"embedding_dim\": 100,\n",
    "}\n",
    "check_config(config)"
   ]
  },
  {
   "cell_type": "markdown",
   "id": "a8b38192",
   "metadata": {
    "id": "AUWF-avz5kdS",
    "papermill": {
     "duration": 0.014987,
     "end_time": "2022-01-06T18:42:09.274454",
     "exception": false,
     "start_time": "2022-01-06T18:42:09.259467",
     "status": "completed"
    },
    "tags": []
   },
   "source": [
    "## Choose the dataset"
   ]
  },
  {
   "cell_type": "code",
   "execution_count": 6,
   "id": "e7af5166",
   "metadata": {
    "colab": {
     "base_uri": "https://localhost:8080/"
    },
    "execution": {
     "iopub.execute_input": "2022-01-06T18:42:09.310992Z",
     "iopub.status.busy": "2022-01-06T18:42:09.310036Z",
     "iopub.status.idle": "2022-01-06T18:42:09.795955Z",
     "shell.execute_reply": "2022-01-06T18:42:09.796534Z"
    },
    "id": "1oaryDJr5kdS",
    "outputId": "6a425df9-4092-4601-9cd9-f61d524b6278",
    "papermill": {
     "duration": 0.507129,
     "end_time": "2022-01-06T18:42:09.796756",
     "exception": false,
     "start_time": "2022-01-06T18:42:09.289627",
     "status": "completed"
    },
    "tags": []
   },
   "outputs": [],
   "source": [
    "train_dset = get_dataset(config[\"dataset\"], 'train')"
   ]
  },
  {
   "cell_type": "markdown",
   "id": "67c9cd93",
   "metadata": {
    "id": "B0lqmy935kdS",
    "papermill": {
     "duration": 0.028525,
     "end_time": "2022-01-06T18:42:09.851143",
     "exception": false,
     "start_time": "2022-01-06T18:42:09.822618",
     "status": "completed"
    },
    "tags": []
   },
   "source": [
    "## Tokenizer and vocab"
   ]
  },
  {
   "cell_type": "code",
   "execution_count": 7,
   "id": "41fc4d0a",
   "metadata": {
    "colab": {
     "base_uri": "https://localhost:8080/"
    },
    "execution": {
     "iopub.execute_input": "2022-01-06T18:42:09.898300Z",
     "iopub.status.busy": "2022-01-06T18:42:09.897180Z",
     "iopub.status.idle": "2022-01-07T03:24:16.297498Z",
     "shell.execute_reply": "2022-01-07T03:24:16.298204Z"
    },
    "id": "NY_zualp5kdT",
    "outputId": "9034d65f-2f9a-4c83-a314-13d3b808fc65",
    "papermill": {
     "duration": 31326.424799,
     "end_time": "2022-01-07T03:24:16.298469",
     "exception": false,
     "start_time": "2022-01-06T18:42:09.873670",
     "status": "completed"
    },
    "tags": []
   },
   "outputs": [
    {
     "name": "stderr",
     "output_type": "stream",
     "text": [
      "sentencepiece_trainer.cc(177) LOG(INFO) Running command: --input=sample.csv --model_prefix=sample --vocab_size=256 --model_type=unigram\n",
      "sentencepiece_trainer.cc(77) LOG(INFO) Starts training with : \n",
      "trainer_spec {\n",
      "  input: sample.csv\n",
      "  input_format: \n",
      "  model_prefix: sample\n",
      "  model_type: UNIGRAM\n",
      "  vocab_size: 256\n",
      "  self_test_sample_size: 0\n",
      "  character_coverage: 0.9995\n",
      "  input_sentence_size: 0\n",
      "  shuffle_input_sentence: 1\n",
      "  seed_sentencepiece_size: 1000000\n",
      "  shrinking_factor: 0.75\n",
      "  max_sentence_length: 4192\n",
      "  num_threads: 16\n",
      "  num_sub_iterations: 2\n",
      "  max_sentencepiece_length: 16\n",
      "  split_by_unicode_script: 1\n",
      "  split_by_number: 1\n",
      "  split_by_whitespace: 1\n",
      "  split_digits: 0\n",
      "  treat_whitespace_as_suffix: 0\n",
      "  required_chars: \n",
      "  byte_fallback: 0\n",
      "  vocabulary_output_piece_score: 1\n",
      "  train_extremely_large_corpus: 0\n",
      "  hard_vocab_limit: 1\n",
      "  use_all_vocab: 0\n",
      "  unk_id: 0\n",
      "  bos_id: 1\n",
      "  eos_id: 2\n",
      "  pad_id: -1\n",
      "  unk_piece: <unk>\n",
      "  bos_piece: <s>\n",
      "  eos_piece: </s>\n",
      "  pad_piece: <pad>\n",
      "  unk_surface:  ⁇ \n",
      "}\n",
      "normalizer_spec {\n",
      "  name: nmt_nfkc\n",
      "  add_dummy_prefix: 1\n",
      "  remove_extra_whitespaces: 1\n",
      "  escape_whitespaces: 1\n",
      "  normalization_rule_tsv: \n",
      "}\n",
      "denormalizer_spec {}\n",
      "trainer_interface.cc(319) LOG(INFO) SentenceIterator is not specified. Using MultiFileSentenceIterator.\n",
      "trainer_interface.cc(174) LOG(INFO) Loading corpus: sample.csv\n",
      "trainer_interface.cc("
     ]
    },
    {
     "name": "stderr",
     "output_type": "stream",
     "text": [
      "375) LOG(INFO) Loaded all 75000 sentences\n",
      "trainer_interface.cc(390) LOG(INFO) Adding meta_piece: <unk>\n",
      "trainer_interface.cc(390) LOG(INFO) Adding meta_piece: <s>\n",
      "trainer_interface.cc(390) LOG(INFO) Adding meta_piece: </s>\n",
      "trainer_interface.cc(395) LOG(INFO) Normalizing sentences...\n"
     ]
    },
    {
     "name": "stderr",
     "output_type": "stream",
     "text": [
      "trainer_interface.cc(456) LOG(INFO) all chars count=15075000\n",
      "trainer_interface.cc(477) LOG(INFO) Alphabet size=5\n",
      "trainer_interface.cc(478) LOG(INFO) Final character coverage=1\n"
     ]
    },
    {
     "name": "stderr",
     "output_type": "stream",
     "text": [
      "trainer_interface.cc(510) LOG(INFO) Done! preprocessed 75000 sentences.\n"
     ]
    },
    {
     "name": "stderr",
     "output_type": "stream",
     "text": [
      "unigram_model_trainer.cc(138) LOG(INFO) Making suffix array...\n"
     ]
    },
    {
     "name": "stderr",
     "output_type": "stream",
     "text": [
      "unigram_model_trainer.cc(142) LOG(INFO) Extracting frequent sub strings...\n"
     ]
    },
    {
     "name": "stderr",
     "output_type": "stream",
     "text": [
      "unigram_model_trainer.cc(193) LOG(INFO) Initialized 1000000 seed sentencepieces\n"
     ]
    },
    {
     "name": "stderr",
     "output_type": "stream",
     "text": [
      "trainer_interface.cc(516) LOG(INFO) Tokenizing input sentences with whitespace: 75000\n"
     ]
    },
    {
     "name": "stderr",
     "output_type": "stream",
     "text": [
      "trainer_interface.cc(526) LOG(INFO) Done! 74956\n",
      "unigram_model_trainer.cc(488) LOG(INFO) Using 74956 sentences for EM training\n"
     ]
    },
    {
     "name": "stderr",
     "output_type": "stream",
     "text": [
      "unigram_model_trainer.cc(504) LOG(INFO) EM sub_iter=0 size=640665 obj=269.296 num_tokens=1575434 num_tokens/piece=2.45906\n"
     ]
    },
    {
     "name": "stderr",
     "output_type": "stream",
     "text": [
      "unigram_model_trainer.cc(504) LOG(INFO) EM sub_iter=1 size=448785 obj=270.09 num_tokens=1656049 num_tokens/piece=3.69007\n"
     ]
    },
    {
     "name": "stderr",
     "output_type": "stream",
     "text": [
      "unigram_model_trainer.cc(504) LOG(INFO) EM sub_iter=0 size=290798 obj=269 num_tokens=1709343 num_tokens/piece=5.87811\n"
     ]
    },
    {
     "name": "stderr",
     "output_type": "stream",
     "text": [
      "unigram_model_trainer.cc(504) LOG(INFO) EM sub_iter=1 size=266296 obj=266.04 num_tokens=1739892 num_tokens/piece=6.53368\n"
     ]
    },
    {
     "name": "stderr",
     "output_type": "stream",
     "text": [
      "unigram_model_trainer.cc(504) LOG(INFO) EM sub_iter=0 size=197154 obj=266.615 num_tokens=1776472 num_tokens/piece=9.01058\n"
     ]
    },
    {
     "name": "stderr",
     "output_type": "stream",
     "text": [
      "unigram_model_trainer.cc(504) LOG(INFO) EM sub_iter=1 size=192891 obj=264.835 num_tokens=1786068 num_tokens/piece=9.25947\n"
     ]
    },
    {
     "name": "stderr",
     "output_type": "stream",
     "text": [
      "unigram_model_trainer.cc(504) LOG(INFO) EM sub_iter=0 size=144624 obj=266.087 num_tokens=1825001 num_tokens/piece=12.6189\n"
     ]
    },
    {
     "name": "stderr",
     "output_type": "stream",
     "text": [
      "unigram_model_trainer.cc(504) LOG(INFO) EM sub_iter=1 size=144476 obj=264.389 num_tokens=1827290 num_tokens/piece=12.6477\n"
     ]
    },
    {
     "name": "stderr",
     "output_type": "stream",
     "text": [
      "unigram_model_trainer.cc(504) LOG(INFO) EM sub_iter=0 size=108355 obj=266.592 num_tokens=1880650 num_tokens/piece=17.3564\n"
     ]
    },
    {
     "name": "stderr",
     "output_type": "stream",
     "text": [
      "unigram_model_trainer.cc(504) LOG(INFO) EM sub_iter=1 size=108348 obj=264.445 num_tokens=1881172 num_tokens/piece=17.3623\n"
     ]
    },
    {
     "name": "stderr",
     "output_type": "stream",
     "text": [
      "unigram_model_trainer.cc(504) LOG(INFO) EM sub_iter=0 size=81261 obj=267.393 num_tokens=1943515 num_tokens/piece=23.9169\n"
     ]
    },
    {
     "name": "stderr",
     "output_type": "stream",
     "text": [
      "unigram_model_trainer.cc(504) LOG(INFO) EM sub_iter=1 size=81259 obj=264.966 num_tokens=1943880 num_tokens/piece=23.922\n"
     ]
    },
    {
     "name": "stderr",
     "output_type": "stream",
     "text": [
      "unigram_model_trainer.cc(504) LOG(INFO) EM sub_iter=0 size=60944 obj=268.163 num_tokens=2007662 num_tokens/piece=32.9427\n"
     ]
    },
    {
     "name": "stderr",
     "output_type": "stream",
     "text": [
      "unigram_model_trainer.cc(504) LOG(INFO) EM sub_iter=1 size=60944 obj=265.755 num_tokens=2008219 num_tokens/piece=32.9519\n"
     ]
    },
    {
     "name": "stderr",
     "output_type": "stream",
     "text": [
      "unigram_model_trainer.cc(504) LOG(INFO) EM sub_iter=0 size=45708 obj=268.928 num_tokens=2069680 num_tokens/piece=45.2805\n"
     ]
    },
    {
     "name": "stderr",
     "output_type": "stream",
     "text": [
      "unigram_model_trainer.cc(504) LOG(INFO) EM sub_iter=1 size=45708 obj=266.698 num_tokens=2070399 num_tokens/piece=45.2962\n"
     ]
    },
    {
     "name": "stderr",
     "output_type": "stream",
     "text": [
      "unigram_model_trainer.cc(504) LOG(INFO) EM sub_iter=0 size=34281 obj=269.678 num_tokens=2129608 num_tokens/piece=62.1221\n"
     ]
    },
    {
     "name": "stderr",
     "output_type": "stream",
     "text": [
      "unigram_model_trainer.cc(504) LOG(INFO) EM sub_iter=1 size=34281 obj=267.642 num_tokens=2130471 num_tokens/piece=62.1473\n"
     ]
    },
    {
     "name": "stderr",
     "output_type": "stream",
     "text": [
      "unigram_model_trainer.cc(504) LOG(INFO) EM sub_iter=0 size=25710 obj=270.462 num_tokens=2190661 num_tokens/piece=85.2066\n"
     ]
    },
    {
     "name": "stderr",
     "output_type": "stream",
     "text": [
      "unigram_model_trainer.cc(504) LOG(INFO) EM sub_iter=1 size=25710 obj=268.493 num_tokens=2191621 num_tokens/piece=85.2439\n"
     ]
    },
    {
     "name": "stderr",
     "output_type": "stream",
     "text": [
      "unigram_model_trainer.cc(504) LOG(INFO) EM sub_iter=0 size=19282 obj=271.422 num_tokens=2255871 num_tokens/piece=116.994\n"
     ]
    },
    {
     "name": "stderr",
     "output_type": "stream",
     "text": [
      "unigram_model_trainer.cc(504) LOG(INFO) EM sub_iter=1 size=19282 obj=269.316 num_tokens=2256802 num_tokens/piece=117.042\n"
     ]
    },
    {
     "name": "stderr",
     "output_type": "stream",
     "text": [
      "unigram_model_trainer.cc(504) LOG(INFO) EM sub_iter=0 size=14461 obj=272.266 num_tokens=2324545 num_tokens/piece=160.746\n"
     ]
    },
    {
     "name": "stderr",
     "output_type": "stream",
     "text": [
      "unigram_model_trainer.cc(504) LOG(INFO) EM sub_iter=1 size=14461 obj=270.06 num_tokens=2325473 num_tokens/piece=160.81\n"
     ]
    },
    {
     "name": "stderr",
     "output_type": "stream",
     "text": [
      "unigram_model_trainer.cc(504) LOG(INFO) EM sub_iter=0 size=10845 obj=273.156 num_tokens=2396682 num_tokens/piece=220.994\n"
     ]
    },
    {
     "name": "stderr",
     "output_type": "stream",
     "text": [
      "unigram_model_trainer.cc(504) LOG(INFO) EM sub_iter=1 size=10845 obj=270.743 num_tokens=2397539 num_tokens/piece=221.073\n"
     ]
    },
    {
     "name": "stderr",
     "output_type": "stream",
     "text": [
      "unigram_model_trainer.cc(504) LOG(INFO) EM sub_iter=0 size=8133 obj=273.938 num_tokens=2473327 num_tokens/piece=304.11\n"
     ]
    },
    {
     "name": "stderr",
     "output_type": "stream",
     "text": [
      "unigram_model_trainer.cc(504) LOG(INFO) EM sub_iter=1 size=8133 obj=271.313 num_tokens=2474339 num_tokens/piece=304.234\n"
     ]
    },
    {
     "name": "stderr",
     "output_type": "stream",
     "text": [
      "unigram_model_trainer.cc(504) LOG(INFO) EM sub_iter=0 size=6099 obj=274.717 num_tokens=2558137 num_tokens/piece=419.435\n"
     ]
    },
    {
     "name": "stderr",
     "output_type": "stream",
     "text": [
      "unigram_model_trainer.cc(504) LOG(INFO) EM sub_iter=1 size=6099 obj=271.845 num_tokens=2559170 num_tokens/piece=419.605\n"
     ]
    },
    {
     "name": "stderr",
     "output_type": "stream",
     "text": [
      "unigram_model_trainer.cc(504) LOG(INFO) EM sub_iter=0 size=4574 obj=275.53 num_tokens=2650791 num_tokens/piece=579.535\n"
     ]
    },
    {
     "name": "stderr",
     "output_type": "stream",
     "text": [
      "unigram_model_trainer.cc(504) LOG(INFO) EM sub_iter=1 size=4574 obj=272.41 num_tokens=2652229 num_tokens/piece=579.849\n"
     ]
    },
    {
     "name": "stderr",
     "output_type": "stream",
     "text": [
      "unigram_model_trainer.cc(504) LOG(INFO) EM sub_iter=0 size=3430 obj=276.272 num_tokens=2749755 num_tokens/piece=801.678\n"
     ]
    },
    {
     "name": "stderr",
     "output_type": "stream",
     "text": [
      "unigram_model_trainer.cc(504) LOG(INFO) EM sub_iter=1 size=3430 obj=272.984 num_tokens=2751155 num_tokens/piece=802.086\n"
     ]
    },
    {
     "name": "stderr",
     "output_type": "stream",
     "text": [
      "unigram_model_trainer.cc(504) LOG(INFO) EM sub_iter=0 size=2572 obj=277.005 num_tokens=2853916 num_tokens/piece=1109.61\n"
     ]
    },
    {
     "name": "stderr",
     "output_type": "stream",
     "text": [
      "unigram_model_trainer.cc(504) LOG(INFO) EM sub_iter=1 size=2572 obj=273.587 num_tokens=2855603 num_tokens/piece=1110.27\n"
     ]
    },
    {
     "name": "stderr",
     "output_type": "stream",
     "text": [
      "unigram_model_trainer.cc(504) LOG(INFO) EM sub_iter=0 size=1929 obj=277.534 num_tokens=2963878 num_tokens/piece=1536.48\n"
     ]
    },
    {
     "name": "stderr",
     "output_type": "stream",
     "text": [
      "unigram_model_trainer.cc(504) LOG(INFO) EM sub_iter=1 size=1929 obj=273.936 num_tokens=2964971 num_tokens/piece=1537.05\n"
     ]
    },
    {
     "name": "stderr",
     "output_type": "stream",
     "text": [
      "unigram_model_trainer.cc(504) LOG(INFO) EM sub_iter=0 size=1446 obj=278.252 num_tokens=3084607 num_tokens/piece=2133.2\n"
     ]
    },
    {
     "name": "stderr",
     "output_type": "stream",
     "text": [
      "unigram_model_trainer.cc(504) LOG(INFO) EM sub_iter=1 size=1446 obj=274.335 num_tokens=3085967 num_tokens/piece=2134.14\n"
     ]
    },
    {
     "name": "stderr",
     "output_type": "stream",
     "text": [
      "unigram_model_trainer.cc(504) LOG(INFO) EM sub_iter=0 size=1084 obj=278.915 num_tokens=3216248 num_tokens/piece=2967.02\n"
     ]
    },
    {
     "name": "stderr",
     "output_type": "stream",
     "text": [
      "unigram_model_trainer.cc(504) LOG(INFO) EM sub_iter=1 size=1084 obj=274.738 num_tokens=3218062 num_tokens/piece=2968.69\n"
     ]
    },
    {
     "name": "stderr",
     "output_type": "stream",
     "text": [
      "unigram_model_trainer.cc(504) LOG(INFO) EM sub_iter=0 size=813 obj=279.909 num_tokens=3362082 num_tokens/piece=4135.4\n"
     ]
    },
    {
     "name": "stderr",
     "output_type": "stream",
     "text": [
      "unigram_model_trainer.cc(504) LOG(INFO) EM sub_iter=1 size=813 obj=275.314 num_tokens=3363969 num_tokens/piece=4137.72\n"
     ]
    },
    {
     "name": "stderr",
     "output_type": "stream",
     "text": [
      "unigram_model_trainer.cc(504) LOG(INFO) EM sub_iter=0 size=609 obj=280.929 num_tokens=3513053 num_tokens/piece=5768.56\n"
     ]
    },
    {
     "name": "stderr",
     "output_type": "stream",
     "text": [
      "unigram_model_trainer.cc(504) LOG(INFO) EM sub_iter=1 size=609 obj=275.658 num_tokens=3514482 num_tokens/piece=5770.91\n"
     ]
    },
    {
     "name": "stderr",
     "output_type": "stream",
     "text": [
      "unigram_model_trainer.cc(504) LOG(INFO) EM sub_iter=0 size=456 obj=281.725 num_tokens=3685073 num_tokens/piece=8081.3\n"
     ]
    },
    {
     "name": "stderr",
     "output_type": "stream",
     "text": [
      "unigram_model_trainer.cc(504) LOG(INFO) EM sub_iter=1 size=456 obj=275.864 num_tokens=3686909 num_tokens/piece=8085.33\n"
     ]
    },
    {
     "name": "stderr",
     "output_type": "stream",
     "text": [
      "unigram_model_trainer.cc(504) LOG(INFO) EM sub_iter=0 size=342 obj=283.232 num_tokens=3874608 num_tokens/piece=11329.3\n"
     ]
    },
    {
     "name": "stderr",
     "output_type": "stream",
     "text": [
      "unigram_model_trainer.cc(504) LOG(INFO) EM sub_iter=1 size=342 obj=276.112 num_tokens=3876714 num_tokens/piece=11335.4\n"
     ]
    },
    {
     "name": "stderr",
     "output_type": "stream",
     "text": [
      "unigram_model_trainer.cc(504) LOG(INFO) EM sub_iter=0 size=281 obj=281.458 num_tokens=4004474 num_tokens/piece=14250.8\n"
     ]
    },
    {
     "name": "stderr",
     "output_type": "stream",
     "text": [
      "unigram_model_trainer.cc(504) LOG(INFO) EM sub_iter=1 size=281 obj=276.182 num_tokens=4006803 num_tokens/piece=14259.1\n",
      "trainer_interface.cc(604) LOG(INFO) Saving model: sample.model\n",
      "trainer_interface.cc(615) LOG(INFO) Saving vocabs: sample.vocab\n"
     ]
    },
    {
     "name": "stdout",
     "output_type": "stream",
     "text": [
      "vocab len: 255\n",
      "{'T': 253, 'G': 251, 'CGTG': 248, 'CCCG': 247, 'ATCAA': 246, 'GAGGA': 245, 'GCCG': 243, 'CTCTG': 241, 'TCG': 249, 'CCGC': 239, 'AAGT': 235, 'CAAT': 233, 'CTCAG': 232, 'TTCC': 231, 'C': 250, 'CCAGG': 229, 'TGAA': 228, 'TGTGT': 226, 'GGA': 225, 'GTTT': 223, '▁A': 221, 'A': 252, 'CGCC': 220, 'GCGC': 219, 'ATGG': 217, 'AGGT': 216, 'GCGG': 238, 'AAGGA': 213, 'AAGA': 212, 'TCTA': 211, 'TTAT': 209, 'CTAC': 208, 'GGGC': 203, 'CACT': 202, 'TTGAA': 201, 'AC': 200, 'AGCA': 198, 'CGG': 218, 'AGACA': 189, 'ACAA': 186, 'TTTCT': 180, 'TCTCT': 207, 'AGA': 20, 'AGTT': 179, 'CT': 178, 'TCCAG': 176, 'CAC': 177, 'AGGAA': 174, 'ATGAA': 172, 'CCGG': 70, 'GGT': 111, 'CCAAA': 168, 'CTC': 166, 'ATTT': 165, 'TGGG': 237, 'CTGC': 29, 'TTT': 163, 'CACCA': 162, 'CTAT': 6, 'GGG': 188, 'ACTT': 161, 'GGCA': 193, 'TCAT': 159, 'TACA': 158, 'TGGAA': 156, 'GT': 60, 'TCTG': 153, 'CATT': 155, 'ATT': 152, 'AGT': 197, 'CAGAG': 78, 'TGGAT': 151, 'CTGT': 171, 'TTCAA': 194, 'TAGT': 149, 'TTC': 61, 'GCC': 148, 'ACAAA': 23, 'AATAA': 142, 'TAG': 139, 'AAATT': 109, 'ATTG': 138, 'TAAA': 45, 'GTTG': 184, 'TAA': 210, 'CCTT': 199, 'TATA': 147, 'CAGT': 137, 'GGTG': 131, 'AGAT': 183, 'CAGG': 130, 'CATC': 128, 'CTCC': 127, 'ACAGA': 122, 'GATG': 126, 'CCTGG': 125, 'TTCA': 22, 'AACA': 124, 'TTTG': 123, 'GTG': 52, 'TGCT': 160, 'CGGG': 242, 'TCC': 50, 'AGGA': 116, 'CTGG': 192, 'CCTC': 115, 'GCAG': 215, 'GCT': 145, 'AAC': 44, 'ATTTT': 114, 'TGC': 65, 'TTGT': 157, 'CCCA': 113, 'AAACA': 110, 'AAA': 37, 'ATC': 108, 'CAAG': 181, 'TCTT': 140, 'AATAT': 195, 'GGCT': 146, 'CAAC': 190, 'AGAG': 104, 'ATGT': 42, 'TATAT': 103, 'AAAA': 33, 'AAG': 102, 'TATTT': 185, 'GAG': 164, 'CCAA': 204, 'TTTGT': 10, 'CCAT': 101, 'AACT': 100, 'CAT': 99, 'GTC': 97, 'CATG': 95, 'CTTG': 94, 'CACC': 121, 'GGAG': 89, 'TCCT': 53, 'TGGA': 85, 'TGCA': 84, 'TCTTT': 133, 'AAAG': 4, 'GGCC': 82, '▁T': 236, 'CTTC': 117, 'CTGA': 79, 'TATT': 106, 'TCT': 77, 'AATG': 38, 'TGTT': 24, 'GTGG': 75, 'CTGGG': 169, 'CCC': 64, 'TGT': 74, 'AA': 72, 'AGC': 206, 'CCCAG': 69, 'GAGGC': 187, 'CTG': 40, 'GA': 51, 'AAT': 55, 'CAGA': 68, 'GAGC': 222, 'TT': 36, 'TAAT': 90, 'CCCC': 66, 'CCTG': 62, 'CAA': 112, 'TGAT': 80, 'GTGA': 205, 'TGCC': 67, 'TCTC': 120, 'AAGAA': 88, 'TGA': 81, 'TCAC': 59, 'GC': 134, 'TTCT': 129, 'GGC': 58, 'GAGG': 144, 'ATG': 57, 'GGGG': 119, 'AGTG': 54, 'GAA': 240, 'CAG': 105, 'TGTA': 63, 'AAAAT': 14, 'GTA': 214, '▁': 49, 'GCCC': 227, 'CATA': 182, 'CCA': 48, 'ATTA': 86, 'CACAG': 196, 'CCCT': 173, '<pad>': 254, 'AGTA': 96, 'TACT': 39, 'TGAG': 35, 'TTA': 46, 'ACT': 18, 'TGG': 26, 'CCT': 73, 'CG': 31, 'AG': 175, 'TTGG': 30, 'GCA': 191, 'CAGC': 27, 'TGCTG': 132, 'AGCCA': 170, 'ATCT': 143, 'AGAA': 34, 'AGG': 25, 'GAAG': 41, 'CTT': 135, 'CACA': 21, 'AGCT': 136, 'GGAA': 91, 'TGGT': 17, 'ACA': 154, 'CTA': 118, 'GGGA': 93, 'ACAT': 19, 'TTTAT': 150, 'TCAG': 141, 'ACC': 16, 'TCA': 28, 'AAATA': 13, 'GAC': 15, 'TTG': 98, 'TTTAA': 76, 'AAAAA': 47, 'TATG': 8, 'GAGA': 11, 'ACCT': 167, 'CTCA': 7, 'TGTG': 107, 'TGAAA': 224, 'TTTT': 87, 'GTT': 9, 'CCAC': 43, 'ATA': 12, 'TGCAG': 234, 'AT': 32, 'CCAG': 56, 'AAGG': 244, 'GCTG': 71, '▁G': 1, '<unk>': 0, 'TAC': 5, 'TGGC': 92, 'TTTC': 230, 'AGAAA': 3, 'TCCC': 83, 'GAT': 2}\n"
     ]
    }
   ],
   "source": [
    "tokenizer = get_tokenizer(config['tokenizer'])\n",
    "tokenizer.train(train_dset=train_dset, vocab_size=VOCAB_SIZE, kmer=KMER)\n",
    "vocabulary = build_vocab(train_dset, tokenizer, use_padding=config[\"use_padding\"])\n",
    "\n",
    "print(\"vocab len:\" ,vocabulary.__len__())\n",
    "print(vocabulary.get_stoi())"
   ]
  },
  {
   "cell_type": "markdown",
   "id": "d61eab48",
   "metadata": {
    "id": "3hGQpSJA5kdT",
    "papermill": {
     "duration": 0.034488,
     "end_time": "2022-01-07T03:24:16.368939",
     "exception": false,
     "start_time": "2022-01-07T03:24:16.334451",
     "status": "completed"
    },
    "tags": []
   },
   "source": [
    "## Dataloader and batch preparation"
   ]
  },
  {
   "cell_type": "code",
   "execution_count": 8,
   "id": "d0469a58",
   "metadata": {
    "colab": {
     "base_uri": "https://localhost:8080/"
    },
    "execution": {
     "iopub.execute_input": "2022-01-07T03:24:16.441679Z",
     "iopub.status.busy": "2022-01-07T03:24:16.440723Z",
     "iopub.status.idle": "2022-01-07T03:25:26.969848Z",
     "shell.execute_reply": "2022-01-07T03:25:26.970650Z"
    },
    "id": "gXUgPH6q5kdT",
    "outputId": "a1eb6ba2-9bcd-416d-8662-e3516121da96",
    "papermill": {
     "duration": 70.568394,
     "end_time": "2022-01-07T03:25:26.970881",
     "exception": false,
     "start_time": "2022-01-07T03:24:16.402487",
     "status": "completed"
    },
    "tags": []
   },
   "outputs": [
    {
     "name": "stdout",
     "output_type": "stream",
     "text": [
      "Using cpu device\n"
     ]
    },
    {
     "name": "stdout",
     "output_type": "stream",
     "text": [
      "max_tok_len  66\n"
     ]
    },
    {
     "name": "stdout",
     "output_type": "stream",
     "text": [
      "not all sequences are of the same length\n"
     ]
    }
   ],
   "source": [
    "# Run on GPU or CPU\n",
    "device = 'cuda' if config[\"run_on_gpu\"] and torch.cuda.is_available() else 'cpu'\n",
    "print('Using {} device'.format(device))\n",
    "\n",
    "max_tok_len = check_seq_lengths(dataset=train_dset, tokenizer=tokenizer)\n",
    "\n",
    "# Data Loader\n",
    "collate = coll_factory(vocabulary, tokenizer, device, pad_to_length = max_tok_len)\n",
    "\n",
    "train_loader = DataLoader(train_dset, batch_size=config[\"batch_size\"], shuffle=True, collate_fn=collate)"
   ]
  },
  {
   "cell_type": "code",
   "execution_count": 9,
   "id": "1d8a1f25",
   "metadata": {
    "execution": {
     "iopub.execute_input": "2022-01-07T03:25:27.049520Z",
     "iopub.status.busy": "2022-01-07T03:25:27.048476Z",
     "iopub.status.idle": "2022-01-07T03:25:27.061122Z",
     "shell.execute_reply": "2022-01-07T03:25:27.061623Z"
    },
    "papermill": {
     "duration": 0.053815,
     "end_time": "2022-01-07T03:25:27.061827",
     "exception": false,
     "start_time": "2022-01-07T03:25:27.008012",
     "status": "completed"
    },
    "tags": []
   },
   "outputs": [
    {
     "data": {
      "text/plain": [
       "['▁',\n",
       " 'CCA',\n",
       " 'TCC',\n",
       " 'GA',\n",
       " 'GTG',\n",
       " 'TCCT',\n",
       " 'AGTG',\n",
       " 'AAT',\n",
       " 'CTG',\n",
       " 'CAGC',\n",
       " 'CCAG',\n",
       " 'ATG',\n",
       " 'GGC',\n",
       " 'TCAC',\n",
       " 'GT',\n",
       " 'TTC',\n",
       " 'CCTG',\n",
       " 'TGTA',\n",
       " 'CCC',\n",
       " 'CACA',\n",
       " 'TGC',\n",
       " 'CCAC',\n",
       " 'TGAG',\n",
       " 'CCCC',\n",
       " 'GAAG',\n",
       " 'TGGT',\n",
       " 'TGCC',\n",
       " 'CAGA',\n",
       " 'CCCC',\n",
       " 'TTA',\n",
       " 'CCCAG',\n",
       " 'ACC',\n",
       " 'CCGG',\n",
       " 'GCTG',\n",
       " 'AA',\n",
       " 'AGAA',\n",
       " 'CCT',\n",
       " 'TGT',\n",
       " 'GTGG',\n",
       " 'TTTAA',\n",
       " 'TCT',\n",
       " 'CAGAG',\n",
       " 'CAGAG',\n",
       " 'TCCT',\n",
       " 'CTGA',\n",
       " 'GCTG',\n",
       " 'GAGA',\n",
       " 'TGTT',\n",
       " 'TGAT',\n",
       " 'TGA',\n",
       " 'GAGA',\n",
       " 'CTG',\n",
       " 'CCGG',\n",
       " 'AGG',\n",
       " 'GGCC',\n",
       " 'TCCC']"
      ]
     },
     "execution_count": 9,
     "metadata": {},
     "output_type": "execute_result"
    }
   ],
   "source": [
    "tokenizer(train_dset[1][0])"
   ]
  },
  {
   "cell_type": "markdown",
   "id": "2e875d51",
   "metadata": {
    "id": "sTTomnnP5kdU",
    "papermill": {
     "duration": 0.036731,
     "end_time": "2022-01-07T03:25:27.135238",
     "exception": false,
     "start_time": "2022-01-07T03:25:27.098507",
     "status": "completed"
    },
    "tags": []
   },
   "source": [
    "## Model"
   ]
  },
  {
   "cell_type": "code",
   "execution_count": 10,
   "id": "fb4ee9cd",
   "metadata": {
    "execution": {
     "iopub.execute_input": "2022-01-07T03:25:27.213017Z",
     "iopub.status.busy": "2022-01-07T03:25:27.212214Z",
     "iopub.status.idle": "2022-01-07T03:25:27.226022Z",
     "shell.execute_reply": "2022-01-07T03:25:27.226521Z"
    },
    "id": "ZNuXGIdD5kdU",
    "papermill": {
     "duration": 0.055939,
     "end_time": "2022-01-07T03:25:27.226763",
     "exception": false,
     "start_time": "2022-01-07T03:25:27.170824",
     "status": "completed"
    },
    "tags": []
   },
   "outputs": [],
   "source": [
    "model = CNN(\n",
    "    number_of_classes=config[\"number_of_classes\"],\n",
    "    vocab_size=vocabulary.__len__(),\n",
    "    embedding_dim=config[\"embedding_dim\"],\n",
    "    input_len=max_tok_len\n",
    ").to(device)"
   ]
  },
  {
   "cell_type": "markdown",
   "id": "d39be86d",
   "metadata": {
    "id": "1pqIm92h5kdV",
    "papermill": {
     "duration": 0.035589,
     "end_time": "2022-01-07T03:25:27.298343",
     "exception": false,
     "start_time": "2022-01-07T03:25:27.262754",
     "status": "completed"
    },
    "tags": []
   },
   "source": [
    "## Training"
   ]
  },
  {
   "cell_type": "code",
   "execution_count": 11,
   "id": "f9b4b83a",
   "metadata": {
    "colab": {
     "base_uri": "https://localhost:8080/"
    },
    "execution": {
     "iopub.execute_input": "2022-01-07T03:25:27.374199Z",
     "iopub.status.busy": "2022-01-07T03:25:27.373235Z",
     "iopub.status.idle": "2022-01-07T03:35:40.647014Z",
     "shell.execute_reply": "2022-01-07T03:35:40.647761Z"
    },
    "id": "uvO_-RFm5kdV",
    "outputId": "7799e5f9-78a7-4ef2-95e8-f06751912eda",
    "papermill": {
     "duration": 613.31448,
     "end_time": "2022-01-07T03:35:40.647995",
     "exception": false,
     "start_time": "2022-01-07T03:25:27.333515",
     "status": "completed"
    },
    "tags": []
   },
   "outputs": [
    {
     "name": "stdout",
     "output_type": "stream",
     "text": [
      "Epoch 0\n"
     ]
    },
    {
     "name": "stderr",
     "output_type": "stream",
     "text": [
      "/Users/katarina/Documents/repositories/GitHub/GLP/src/glp/tokenizers/utils.py:27: UserWarning: To copy construct from a tensor, it is recommended to use sourceTensor.clone().detach() or sourceTensor.clone().detach().requires_grad_(True), rather than torch.tensor(sourceTensor).\n",
      "  x = torch.tensor(pad(x), dtype=torch.long)\n"
     ]
    },
    {
     "name": "stdout",
     "output_type": "stream",
     "text": [
      "Train metrics: \n",
      " Accuracy: 83.0%, Avg loss: 0.578689 \n",
      "\n",
      "Epoch 1\n"
     ]
    },
    {
     "name": "stdout",
     "output_type": "stream",
     "text": [
      "Train metrics: \n",
      " Accuracy: 82.5%, Avg loss: 0.577280 \n",
      "\n",
      "Epoch 2\n"
     ]
    },
    {
     "name": "stdout",
     "output_type": "stream",
     "text": [
      "Train metrics: \n",
      " Accuracy: 85.1%, Avg loss: 0.572453 \n",
      "\n",
      "Epoch 3\n"
     ]
    },
    {
     "name": "stdout",
     "output_type": "stream",
     "text": [
      "Train metrics: \n",
      " Accuracy: 84.4%, Avg loss: 0.570657 \n",
      "\n",
      "Epoch 4\n"
     ]
    },
    {
     "name": "stdout",
     "output_type": "stream",
     "text": [
      "Train metrics: \n",
      " Accuracy: 86.0%, Avg loss: 0.569628 \n",
      "\n"
     ]
    }
   ],
   "source": [
    "model.train(train_loader, epochs=config[\"epochs\"])"
   ]
  },
  {
   "cell_type": "markdown",
   "id": "aa5f04b8",
   "metadata": {
    "id": "bR2tamrc5kdV",
    "papermill": {
     "duration": 0.039901,
     "end_time": "2022-01-07T03:35:40.728481",
     "exception": false,
     "start_time": "2022-01-07T03:35:40.688580",
     "status": "completed"
    },
    "tags": []
   },
   "source": [
    "## Testing"
   ]
  },
  {
   "cell_type": "code",
   "execution_count": 12,
   "id": "ceda0428",
   "metadata": {
    "colab": {
     "base_uri": "https://localhost:8080/"
    },
    "execution": {
     "iopub.execute_input": "2022-01-07T03:35:40.812554Z",
     "iopub.status.busy": "2022-01-07T03:35:40.811437Z",
     "iopub.status.idle": "2022-01-07T03:36:05.287920Z",
     "shell.execute_reply": "2022-01-07T03:36:05.288448Z"
    },
    "id": "wbnciyRK5kdW",
    "outputId": "d2592f9d-f074-465f-95f8-df3b759ae068",
    "papermill": {
     "duration": 24.521374,
     "end_time": "2022-01-07T03:36:05.288684",
     "exception": false,
     "start_time": "2022-01-07T03:35:40.767310",
     "status": "completed"
    },
    "tags": []
   },
   "outputs": [
    {
     "name": "stdout",
     "output_type": "stream",
     "text": [
      "p  12500 ; tp  10153.93154001236 ; fp  1760.4392936005033\n",
      "recall  0.8123145232009887 ; precision  0.8522423619186046\n",
      "num_batches 782\n",
      "correct 20898\n",
      "size 25000\n",
      "Test metrics: \n",
      " Accuracy: 0.835920, F1 score: 0.831800, Avg loss: 0.580958 \n",
      "\n"
     ]
    },
    {
     "data": {
      "text/plain": [
       "(0.83592, 0.8317995666742948)"
      ]
     },
     "execution_count": 12,
     "metadata": {},
     "output_type": "execute_result"
    }
   ],
   "source": [
    "test_dset = get_dataset(config[\"dataset\"], 'test')\n",
    "test_loader = DataLoader(test_dset, batch_size=config[\"batch_size\"], shuffle=True, collate_fn=collate)\n",
    "\n",
    "acc, f1 = model.test(test_loader)\n",
    "acc, f1"
   ]
  }
 ],
 "metadata": {
  "accelerator": "TPU",
  "colab": {
   "name": "torch_cnn_classifier.ipynb",
   "provenance": []
  },
  "environment": {
   "name": "pytorch-gpu.1-9.m75",
   "type": "gcloud",
   "uri": "gcr.io/deeplearning-platform-release/pytorch-gpu.1-9:m75"
  },
  "interpreter": {
   "hash": "9828b828580f1cac1b571b33de6cff8bacecc8916095e1bcbc967952ca7105b7"
  },
  "kernelspec": {
   "display_name": "Python 3",
   "name": "python3"
  },
  "language_info": {
   "codemirror_mode": {
    "name": "ipython",
    "version": 3
   },
   "file_extension": ".py",
   "mimetype": "text/x-python",
   "name": "python",
   "nbconvert_exporter": "python",
   "pygments_lexer": "ipython3",
   "version": "3.8.9"
  },
  "papermill": {
   "default_parameters": {},
   "duration": 32040.53313,
   "end_time": "2022-01-07T03:36:05.860351",
   "environment_variables": {},
   "exception": null,
   "input_path": "torch_cnn.ipynb",
   "output_path": "../torch_cnn_experiments/demo_coding_vs_intergenomic_seqs_subword_256.ipynb",
   "parameters": {
    "DATASET": "demo_coding_vs_intergenomic_seqs",
    "TOKENIZER": "subword",
    "VOCAB_SIZE": 256
   },
   "start_time": "2022-01-06T18:42:05.327221",
   "version": "2.3.3"
  }
 },
 "nbformat": 4,
 "nbformat_minor": 5
}