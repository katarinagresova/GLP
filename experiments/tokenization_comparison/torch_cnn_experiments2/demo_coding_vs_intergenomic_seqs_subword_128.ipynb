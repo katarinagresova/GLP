{
 "cells": [
  {
   "cell_type": "markdown",
   "id": "8b946591",
   "metadata": {
    "id": "SKOD9lvq5kdM",
    "papermill": {
     "duration": 0.018785,
     "end_time": "2022-01-06T18:11:52.602339",
     "exception": false,
     "start_time": "2022-01-06T18:11:52.583554",
     "status": "completed"
    },
    "tags": []
   },
   "source": [
    "# PYTORCH CNN Classifier"
   ]
  },
  {
   "cell_type": "code",
   "execution_count": 1,
   "id": "2f26f506",
   "metadata": {
    "execution": {
     "iopub.execute_input": "2022-01-06T18:11:52.644538Z",
     "iopub.status.busy": "2022-01-06T18:11:52.643632Z",
     "iopub.status.idle": "2022-01-06T18:11:52.647395Z",
     "shell.execute_reply": "2022-01-06T18:11:52.647906Z"
    },
    "id": "E8prt3AL5kdO",
    "papermill": {
     "duration": 0.030678,
     "end_time": "2022-01-06T18:11:52.648298",
     "exception": false,
     "start_time": "2022-01-06T18:11:52.617620",
     "status": "completed"
    },
    "tags": [
     "parameters"
    ]
   },
   "outputs": [],
   "source": [
    "DATASET = 'none'\n",
    "VOCAB_SIZE = 0\n",
    "TOKENIZER = 'none'\n",
    "KMER = 0"
   ]
  },
  {
   "cell_type": "code",
   "execution_count": 2,
   "id": "98010bf8",
   "metadata": {
    "execution": {
     "iopub.execute_input": "2022-01-06T18:11:52.681725Z",
     "iopub.status.busy": "2022-01-06T18:11:52.680818Z",
     "iopub.status.idle": "2022-01-06T18:11:52.683434Z",
     "shell.execute_reply": "2022-01-06T18:11:52.683899Z"
    },
    "papermill": {
     "duration": 0.021221,
     "end_time": "2022-01-06T18:11:52.684172",
     "exception": false,
     "start_time": "2022-01-06T18:11:52.662951",
     "status": "completed"
    },
    "tags": [
     "injected-parameters"
    ]
   },
   "outputs": [],
   "source": [
    "# Parameters\n",
    "DATASET = \"demo_coding_vs_intergenomic_seqs\"\n",
    "TOKENIZER = \"subword\"\n",
    "VOCAB_SIZE = 128\n"
   ]
  },
  {
   "cell_type": "code",
   "execution_count": 3,
   "id": "6a16716f",
   "metadata": {
    "colab": {
     "base_uri": "https://localhost:8080/"
    },
    "execution": {
     "iopub.execute_input": "2022-01-06T18:11:52.717749Z",
     "iopub.status.busy": "2022-01-06T18:11:52.716981Z",
     "iopub.status.idle": "2022-01-06T18:11:52.720318Z",
     "shell.execute_reply": "2022-01-06T18:11:52.721046Z"
    },
    "id": "rohBItfR5kdP",
    "outputId": "7da7aafe-0858-48be-bf7d-f698784d88df",
    "papermill": {
     "duration": 0.023263,
     "end_time": "2022-01-06T18:11:52.721302",
     "exception": false,
     "start_time": "2022-01-06T18:11:52.698039",
     "status": "completed"
    },
    "tags": []
   },
   "outputs": [
    {
     "name": "stdout",
     "output_type": "stream",
     "text": [
      "demo_coding_vs_intergenomic_seqs 128 subword 0\n"
     ]
    }
   ],
   "source": [
    "print(DATASET, VOCAB_SIZE, TOKENIZER, KMER)"
   ]
  },
  {
   "cell_type": "markdown",
   "id": "f799075a",
   "metadata": {
    "id": "Y-YQrVyb5kdQ",
    "papermill": {
     "duration": 0.01614,
     "end_time": "2022-01-06T18:11:52.752352",
     "exception": false,
     "start_time": "2022-01-06T18:11:52.736212",
     "status": "completed"
    },
    "tags": []
   },
   "source": [
    "## Config"
   ]
  },
  {
   "cell_type": "code",
   "execution_count": 4,
   "id": "1a6a43a9",
   "metadata": {
    "execution": {
     "iopub.execute_input": "2022-01-06T18:11:52.790273Z",
     "iopub.status.busy": "2022-01-06T18:11:52.789365Z",
     "iopub.status.idle": "2022-01-06T18:11:54.508834Z",
     "shell.execute_reply": "2022-01-06T18:11:54.507843Z"
    },
    "id": "FIunuyGk5kdR",
    "papermill": {
     "duration": 1.740933,
     "end_time": "2022-01-06T18:11:54.509142",
     "exception": false,
     "start_time": "2022-01-06T18:11:52.768209",
     "status": "completed"
    },
    "tags": []
   },
   "outputs": [],
   "source": [
    "import torch\n",
    "from torch.utils.data import DataLoader\n",
    "\n",
    "from genomic_benchmarks.dataset_getters.pytorch_datasets import get_dataset\n",
    "from glp.models import CNN\n",
    "from glp.tokenizers import get_tokenizer\n",
    "from glp.tokenizers.utils import build_vocab, coll_factory, check_config, check_seq_lengths"
   ]
  },
  {
   "cell_type": "code",
   "execution_count": 5,
   "id": "b5ff48b1",
   "metadata": {
    "execution": {
     "iopub.execute_input": "2022-01-06T18:11:54.554400Z",
     "iopub.status.busy": "2022-01-06T18:11:54.553300Z",
     "iopub.status.idle": "2022-01-06T18:11:54.556507Z",
     "shell.execute_reply": "2022-01-06T18:11:54.555879Z"
    },
    "id": "UgXiF6Zz5kdR",
    "papermill": {
     "duration": 0.030831,
     "end_time": "2022-01-06T18:11:54.556690",
     "exception": false,
     "start_time": "2022-01-06T18:11:54.525859",
     "status": "completed"
    },
    "tags": []
   },
   "outputs": [],
   "source": [
    "config = {\n",
    "    \"dataset\": DATASET,\n",
    "    \"tokenizer\": TOKENIZER,\n",
    "    \"dataset_version\": 0,\n",
    "    \"epochs\": 5,\n",
    "    \"batch_size\": 32,\n",
    "    \"use_padding\": True,\n",
    "    \"force_download\": False,\n",
    "    \"run_on_gpu\": True,\n",
    "    \"number_of_classes\": 2,\n",
    "    \"embedding_dim\": 100,\n",
    "}\n",
    "check_config(config)"
   ]
  },
  {
   "cell_type": "markdown",
   "id": "9c2f61e9",
   "metadata": {
    "id": "AUWF-avz5kdS",
    "papermill": {
     "duration": 0.014486,
     "end_time": "2022-01-06T18:11:54.586296",
     "exception": false,
     "start_time": "2022-01-06T18:11:54.571810",
     "status": "completed"
    },
    "tags": []
   },
   "source": [
    "## Choose the dataset"
   ]
  },
  {
   "cell_type": "code",
   "execution_count": 6,
   "id": "042e3386",
   "metadata": {
    "colab": {
     "base_uri": "https://localhost:8080/"
    },
    "execution": {
     "iopub.execute_input": "2022-01-06T18:11:54.621090Z",
     "iopub.status.busy": "2022-01-06T18:11:54.620209Z",
     "iopub.status.idle": "2022-01-06T18:11:55.327057Z",
     "shell.execute_reply": "2022-01-06T18:11:55.327559Z"
    },
    "id": "1oaryDJr5kdS",
    "outputId": "6a425df9-4092-4601-9cd9-f61d524b6278",
    "papermill": {
     "duration": 0.726636,
     "end_time": "2022-01-06T18:11:55.327817",
     "exception": false,
     "start_time": "2022-01-06T18:11:54.601181",
     "status": "completed"
    },
    "tags": []
   },
   "outputs": [],
   "source": [
    "train_dset = get_dataset(config[\"dataset\"], 'train')"
   ]
  },
  {
   "cell_type": "markdown",
   "id": "c27f0e15",
   "metadata": {
    "id": "B0lqmy935kdS",
    "papermill": {
     "duration": 0.01827,
     "end_time": "2022-01-06T18:11:55.360116",
     "exception": false,
     "start_time": "2022-01-06T18:11:55.341846",
     "status": "completed"
    },
    "tags": []
   },
   "source": [
    "## Tokenizer and vocab"
   ]
  },
  {
   "cell_type": "code",
   "execution_count": 7,
   "id": "54b39f43",
   "metadata": {
    "colab": {
     "base_uri": "https://localhost:8080/"
    },
    "execution": {
     "iopub.execute_input": "2022-01-06T18:11:55.395672Z",
     "iopub.status.busy": "2022-01-06T18:11:55.394720Z",
     "iopub.status.idle": "2022-01-06T18:30:19.494626Z",
     "shell.execute_reply": "2022-01-06T18:30:19.495130Z"
    },
    "id": "NY_zualp5kdT",
    "outputId": "9034d65f-2f9a-4c83-a314-13d3b808fc65",
    "papermill": {
     "duration": 1104.119969,
     "end_time": "2022-01-06T18:30:19.495344",
     "exception": false,
     "start_time": "2022-01-06T18:11:55.375375",
     "status": "completed"
    },
    "tags": []
   },
   "outputs": [
    {
     "name": "stderr",
     "output_type": "stream",
     "text": [
      "sentencepiece_trainer.cc(177) LOG(INFO) Running command: --input=sample.csv --model_prefix=sample --vocab_size=128 --model_type=unigram\n",
      "sentencepiece_trainer.cc(77) LOG(INFO) Starts training with : \n",
      "trainer_spec {\n",
      "  input: sample.csv\n",
      "  input_format: \n",
      "  model_prefix: sample\n",
      "  model_type: UNIGRAM\n",
      "  vocab_size: 128\n",
      "  self_test_sample_size: 0\n",
      "  character_coverage: 0.9995\n",
      "  input_sentence_size: 0\n",
      "  shuffle_input_sentence: 1\n",
      "  seed_sentencepiece_size: 1000000\n",
      "  shrinking_factor: 0.75\n",
      "  max_sentence_length: 4192\n",
      "  num_threads: 16\n",
      "  num_sub_iterations: 2\n",
      "  max_sentencepiece_length: 16\n",
      "  split_by_unicode_script: 1\n",
      "  split_by_number: 1\n",
      "  split_by_whitespace: 1\n",
      "  split_digits: 0\n",
      "  treat_whitespace_as_suffix: 0\n",
      "  required_chars: \n",
      "  byte_fallback: 0\n",
      "  vocabulary_output_piece_score: 1\n",
      "  train_extremely_large_corpus: 0\n",
      "  hard_vocab_limit: 1\n",
      "  use_all_vocab: 0\n",
      "  unk_id: 0\n",
      "  bos_id: 1\n",
      "  eos_id: 2\n",
      "  pad_id: -1\n",
      "  unk_piece: <unk>\n",
      "  bos_piece: <s>\n",
      "  eos_piece: </s>\n",
      "  pad_piece: <pad>\n",
      "  unk_surface:  ⁇ \n",
      "}\n",
      "normalizer_spec {\n",
      "  name: nmt_nfkc\n",
      "  add_dummy_prefix: 1\n",
      "  remove_extra_whitespaces: 1\n",
      "  escape_whitespaces: 1\n",
      "  normalization_rule_tsv: \n",
      "}\n",
      "denormalizer_spec {}\n",
      "trainer_interface.cc(319) LOG(INFO) SentenceIterator is not specified. Using MultiFileSentenceIterator.\n",
      "trainer_interface.cc(174) LOG(INFO) Loading corpus: sample.csv\n",
      "trainer_interface.cc(375) LOG(INFO) Loaded all 75000 sentences\n",
      "trainer_interface.cc(390) LOG(INFO) Adding meta_piece: <unk>\n",
      "trainer_interface.cc(390) LOG(INFO) Adding meta_piece: <s>\n",
      "trainer_interface.cc(390) LOG(INFO) Adding meta_piece: </s>\n",
      "trainer_interface.cc(395) LOG(INFO) Normalizing sentences...\n"
     ]
    },
    {
     "name": "stderr",
     "output_type": "stream",
     "text": [
      "trainer_interface.cc(456) LOG(INFO) all chars count=15075000\n",
      "trainer_interface.cc(477) LOG(INFO) Alphabet size=5\n",
      "trainer_interface.cc(478) LOG(INFO) Final character coverage=1\n"
     ]
    },
    {
     "name": "stderr",
     "output_type": "stream",
     "text": [
      "trainer_interface.cc(510) LOG(INFO) Done! preprocessed 75000 sentences.\n"
     ]
    },
    {
     "name": "stderr",
     "output_type": "stream",
     "text": [
      "unigram_model_trainer.cc(138) LOG(INFO) Making suffix array...\n"
     ]
    },
    {
     "name": "stderr",
     "output_type": "stream",
     "text": [
      "unigram_model_trainer.cc(142) LOG(INFO) Extracting frequent sub strings...\n"
     ]
    },
    {
     "name": "stderr",
     "output_type": "stream",
     "text": [
      "unigram_model_trainer.cc(193) LOG(INFO) Initialized 1000000 seed sentencepieces\n"
     ]
    },
    {
     "name": "stderr",
     "output_type": "stream",
     "text": [
      "trainer_interface.cc(516) LOG(INFO) Tokenizing input sentences with whitespace: 75000\n"
     ]
    },
    {
     "name": "stderr",
     "output_type": "stream",
     "text": [
      "trainer_interface.cc(526) LOG(INFO) Done! 74956\n",
      "unigram_model_trainer.cc(488) LOG(INFO) Using 74956 sentences for EM training\n"
     ]
    },
    {
     "name": "stderr",
     "output_type": "stream",
     "text": [
      "unigram_model_trainer.cc(504) LOG(INFO) EM sub_iter=0 size=640665 obj=269.296 num_tokens=1575434 num_tokens/piece=2.45906\n"
     ]
    },
    {
     "name": "stderr",
     "output_type": "stream",
     "text": [
      "unigram_model_trainer.cc(504) LOG(INFO) EM sub_iter=1 size=448785 obj=270.09 num_tokens=1656049 num_tokens/piece=3.69007\n"
     ]
    },
    {
     "name": "stderr",
     "output_type": "stream",
     "text": [
      "unigram_model_trainer.cc(504) LOG(INFO) EM sub_iter=0 size=290798 obj=269 num_tokens=1709343 num_tokens/piece=5.87811\n"
     ]
    },
    {
     "name": "stderr",
     "output_type": "stream",
     "text": [
      "unigram_model_trainer.cc(504) LOG(INFO) EM sub_iter=1 size=266296 obj=266.04 num_tokens=1739892 num_tokens/piece=6.53368\n"
     ]
    },
    {
     "name": "stderr",
     "output_type": "stream",
     "text": [
      "unigram_model_trainer.cc(504) LOG(INFO) EM sub_iter=0 size=197154 obj=266.615 num_tokens=1776472 num_tokens/piece=9.01058\n"
     ]
    },
    {
     "name": "stderr",
     "output_type": "stream",
     "text": [
      "unigram_model_trainer.cc(504) LOG(INFO) EM sub_iter=1 size=192891 obj=264.835 num_tokens=1786068 num_tokens/piece=9.25947\n"
     ]
    },
    {
     "name": "stderr",
     "output_type": "stream",
     "text": [
      "unigram_model_trainer.cc(504) LOG(INFO) EM sub_iter=0 size=144624 obj=266.087 num_tokens=1825001 num_tokens/piece=12.6189\n"
     ]
    },
    {
     "name": "stderr",
     "output_type": "stream",
     "text": [
      "unigram_model_trainer.cc(504) LOG(INFO) EM sub_iter=1 size=144476 obj=264.389 num_tokens=1827290 num_tokens/piece=12.6477\n"
     ]
    },
    {
     "name": "stderr",
     "output_type": "stream",
     "text": [
      "unigram_model_trainer.cc(504) LOG(INFO) EM sub_iter=0 size=108355 obj=266.592 num_tokens=1880650 num_tokens/piece=17.3564\n"
     ]
    },
    {
     "name": "stderr",
     "output_type": "stream",
     "text": [
      "unigram_model_trainer.cc(504) LOG(INFO) EM sub_iter=1 size=108348 obj=264.445 num_tokens=1881172 num_tokens/piece=17.3623\n"
     ]
    },
    {
     "name": "stderr",
     "output_type": "stream",
     "text": [
      "unigram_model_trainer.cc(504) LOG(INFO) EM sub_iter=0 size=81261 obj=267.393 num_tokens=1943515 num_tokens/piece=23.9169\n"
     ]
    },
    {
     "name": "stderr",
     "output_type": "stream",
     "text": [
      "unigram_model_trainer.cc(504) LOG(INFO) EM sub_iter=1 size=81259 obj=264.966 num_tokens=1943880 num_tokens/piece=23.922\n"
     ]
    },
    {
     "name": "stderr",
     "output_type": "stream",
     "text": [
      "unigram_model_trainer.cc(504) LOG(INFO) EM sub_iter=0 size=60944 obj=268.163 num_tokens=2007662 num_tokens/piece=32.9427\n"
     ]
    },
    {
     "name": "stderr",
     "output_type": "stream",
     "text": [
      "unigram_model_trainer.cc(504) LOG(INFO) EM sub_iter=1 size=60944 obj=265.755 num_tokens=2008219 num_tokens/piece=32.9519\n"
     ]
    },
    {
     "name": "stderr",
     "output_type": "stream",
     "text": [
      "unigram_model_trainer.cc(504) LOG(INFO) EM sub_iter=0 size=45708 obj=268.928 num_tokens=2069680 num_tokens/piece=45.2805\n"
     ]
    },
    {
     "name": "stderr",
     "output_type": "stream",
     "text": [
      "unigram_model_trainer.cc(504) LOG(INFO) EM sub_iter=1 size=45708 obj=266.698 num_tokens=2070399 num_tokens/piece=45.2962\n"
     ]
    },
    {
     "name": "stderr",
     "output_type": "stream",
     "text": [
      "unigram_model_trainer.cc(504) LOG(INFO) EM sub_iter=0 size=34281 obj=269.678 num_tokens=2129608 num_tokens/piece=62.1221\n"
     ]
    },
    {
     "name": "stderr",
     "output_type": "stream",
     "text": [
      "unigram_model_trainer.cc(504) LOG(INFO) EM sub_iter=1 size=34281 obj=267.642 num_tokens=2130471 num_tokens/piece=62.1473\n"
     ]
    },
    {
     "name": "stderr",
     "output_type": "stream",
     "text": [
      "unigram_model_trainer.cc(504) LOG(INFO) EM sub_iter=0 size=25710 obj=270.462 num_tokens=2190661 num_tokens/piece=85.2066\n"
     ]
    },
    {
     "name": "stderr",
     "output_type": "stream",
     "text": [
      "unigram_model_trainer.cc(504) LOG(INFO) EM sub_iter=1 size=25710 obj=268.493 num_tokens=2191621 num_tokens/piece=85.2439\n"
     ]
    },
    {
     "name": "stderr",
     "output_type": "stream",
     "text": [
      "unigram_model_trainer.cc(504) LOG(INFO) EM sub_iter=0 size=19282 obj=271.422 num_tokens=2255871 num_tokens/piece=116.994\n"
     ]
    },
    {
     "name": "stderr",
     "output_type": "stream",
     "text": [
      "unigram_model_trainer.cc(504) LOG(INFO) EM sub_iter=1 size=19282 obj=269.316 num_tokens=2256802 num_tokens/piece=117.042\n"
     ]
    },
    {
     "name": "stderr",
     "output_type": "stream",
     "text": [
      "unigram_model_trainer.cc(504) LOG(INFO) EM sub_iter=0 size=14461 obj=272.266 num_tokens=2324545 num_tokens/piece=160.746\n"
     ]
    },
    {
     "name": "stderr",
     "output_type": "stream",
     "text": [
      "unigram_model_trainer.cc(504) LOG(INFO) EM sub_iter=1 size=14461 obj=270.06 num_tokens=2325473 num_tokens/piece=160.81\n"
     ]
    },
    {
     "name": "stderr",
     "output_type": "stream",
     "text": [
      "unigram_model_trainer.cc(504) LOG(INFO) EM sub_iter=0 size=10845 obj=273.156 num_tokens=2396682 num_tokens/piece=220.994\n"
     ]
    },
    {
     "name": "stderr",
     "output_type": "stream",
     "text": [
      "unigram_model_trainer.cc(504) LOG(INFO) EM sub_iter=1 size=10845 obj=270.743 num_tokens=2397539 num_tokens/piece=221.073\n"
     ]
    },
    {
     "name": "stderr",
     "output_type": "stream",
     "text": [
      "unigram_model_trainer.cc(504) LOG(INFO) EM sub_iter=0 size=8133 obj=273.938 num_tokens=2473327 num_tokens/piece=304.11\n"
     ]
    },
    {
     "name": "stderr",
     "output_type": "stream",
     "text": [
      "unigram_model_trainer.cc(504) LOG(INFO) EM sub_iter=1 size=8133 obj=271.313 num_tokens=2474339 num_tokens/piece=304.234\n"
     ]
    },
    {
     "name": "stderr",
     "output_type": "stream",
     "text": [
      "unigram_model_trainer.cc(504) LOG(INFO) EM sub_iter=0 size=6099 obj=274.717 num_tokens=2558137 num_tokens/piece=419.435\n"
     ]
    },
    {
     "name": "stderr",
     "output_type": "stream",
     "text": [
      "unigram_model_trainer.cc(504) LOG(INFO) EM sub_iter=1 size=6099 obj=271.845 num_tokens=2559170 num_tokens/piece=419.605\n"
     ]
    },
    {
     "name": "stderr",
     "output_type": "stream",
     "text": [
      "unigram_model_trainer.cc(504) LOG(INFO) EM sub_iter=0 size=4574 obj=275.53 num_tokens=2650791 num_tokens/piece=579.535\n"
     ]
    },
    {
     "name": "stderr",
     "output_type": "stream",
     "text": [
      "unigram_model_trainer.cc(504) LOG(INFO) EM sub_iter=1 size=4574 obj=272.41 num_tokens=2652229 num_tokens/piece=579.849\n"
     ]
    },
    {
     "name": "stderr",
     "output_type": "stream",
     "text": [
      "unigram_model_trainer.cc(504) LOG(INFO) EM sub_iter=0 size=3430 obj=276.272 num_tokens=2749755 num_tokens/piece=801.678\n"
     ]
    },
    {
     "name": "stderr",
     "output_type": "stream",
     "text": [
      "unigram_model_trainer.cc(504) LOG(INFO) EM sub_iter=1 size=3430 obj=272.984 num_tokens=2751155 num_tokens/piece=802.086\n"
     ]
    },
    {
     "name": "stderr",
     "output_type": "stream",
     "text": [
      "unigram_model_trainer.cc(504) LOG(INFO) EM sub_iter=0 size=2572 obj=277.005 num_tokens=2853916 num_tokens/piece=1109.61\n"
     ]
    },
    {
     "name": "stderr",
     "output_type": "stream",
     "text": [
      "unigram_model_trainer.cc(504) LOG(INFO) EM sub_iter=1 size=2572 obj=273.587 num_tokens=2855603 num_tokens/piece=1110.27\n"
     ]
    },
    {
     "name": "stderr",
     "output_type": "stream",
     "text": [
      "unigram_model_trainer.cc(504) LOG(INFO) EM sub_iter=0 size=1929 obj=277.534 num_tokens=2963878 num_tokens/piece=1536.48\n"
     ]
    },
    {
     "name": "stderr",
     "output_type": "stream",
     "text": [
      "unigram_model_trainer.cc(504) LOG(INFO) EM sub_iter=1 size=1929 obj=273.936 num_tokens=2964971 num_tokens/piece=1537.05\n"
     ]
    },
    {
     "name": "stderr",
     "output_type": "stream",
     "text": [
      "unigram_model_trainer.cc(504) LOG(INFO) EM sub_iter=0 size=1446 obj=278.252 num_tokens=3084607 num_tokens/piece=2133.2\n"
     ]
    },
    {
     "name": "stderr",
     "output_type": "stream",
     "text": [
      "unigram_model_trainer.cc(504) LOG(INFO) EM sub_iter=1 size=1446 obj=274.335 num_tokens=3085967 num_tokens/piece=2134.14\n"
     ]
    },
    {
     "name": "stderr",
     "output_type": "stream",
     "text": [
      "unigram_model_trainer.cc(504) LOG(INFO) EM sub_iter=0 size=1084 obj=278.915 num_tokens=3216248 num_tokens/piece=2967.02\n"
     ]
    },
    {
     "name": "stderr",
     "output_type": "stream",
     "text": [
      "unigram_model_trainer.cc(504) LOG(INFO) EM sub_iter=1 size=1084 obj=274.738 num_tokens=3218062 num_tokens/piece=2968.69\n"
     ]
    },
    {
     "name": "stderr",
     "output_type": "stream",
     "text": [
      "unigram_model_trainer.cc(504) LOG(INFO) EM sub_iter=0 size=813 obj=279.909 num_tokens=3362082 num_tokens/piece=4135.4\n"
     ]
    },
    {
     "name": "stderr",
     "output_type": "stream",
     "text": [
      "unigram_model_trainer.cc(504) LOG(INFO) EM sub_iter=1 size=813 obj=275.314 num_tokens=3363969 num_tokens/piece=4137.72\n"
     ]
    },
    {
     "name": "stderr",
     "output_type": "stream",
     "text": [
      "unigram_model_trainer.cc(504) LOG(INFO) EM sub_iter=0 size=609 obj=280.929 num_tokens=3513053 num_tokens/piece=5768.56\n"
     ]
    },
    {
     "name": "stderr",
     "output_type": "stream",
     "text": [
      "unigram_model_trainer.cc(504) LOG(INFO) EM sub_iter=1 size=609 obj=275.658 num_tokens=3514482 num_tokens/piece=5770.91\n"
     ]
    },
    {
     "name": "stderr",
     "output_type": "stream",
     "text": [
      "unigram_model_trainer.cc(504) LOG(INFO) EM sub_iter=0 size=456 obj=281.725 num_tokens=3685073 num_tokens/piece=8081.3\n"
     ]
    },
    {
     "name": "stderr",
     "output_type": "stream",
     "text": [
      "unigram_model_trainer.cc(504) LOG(INFO) EM sub_iter=1 size=456 obj=275.864 num_tokens=3686909 num_tokens/piece=8085.33\n"
     ]
    },
    {
     "name": "stderr",
     "output_type": "stream",
     "text": [
      "unigram_model_trainer.cc(504) LOG(INFO) EM sub_iter=0 size=342 obj=283.232 num_tokens=3874608 num_tokens/piece=11329.3\n"
     ]
    },
    {
     "name": "stderr",
     "output_type": "stream",
     "text": [
      "unigram_model_trainer.cc(504) LOG(INFO) EM sub_iter=1 size=342 obj=276.112 num_tokens=3876714 num_tokens/piece=11335.4\n"
     ]
    },
    {
     "name": "stderr",
     "output_type": "stream",
     "text": [
      "unigram_model_trainer.cc(504) LOG(INFO) EM sub_iter=0 size=256 obj=283.751 num_tokens=4075034 num_tokens/piece=15918.1\n"
     ]
    },
    {
     "name": "stderr",
     "output_type": "stream",
     "text": [
      "unigram_model_trainer.cc(504) LOG(INFO) EM sub_iter=1 size=256 obj=276.393 num_tokens=4077379 num_tokens/piece=15927.3\n"
     ]
    },
    {
     "name": "stderr",
     "output_type": "stream",
     "text": [
      "unigram_model_trainer.cc(504) LOG(INFO) EM sub_iter=0 size=192 obj=284.384 num_tokens=4297936 num_tokens/piece=22385.1\n"
     ]
    },
    {
     "name": "stderr",
     "output_type": "stream",
     "text": [
      "unigram_model_trainer.cc(504) LOG(INFO) EM sub_iter=1 size=192 obj=276.752 num_tokens=4299840 num_tokens/piece=22395\n"
     ]
    },
    {
     "name": "stderr",
     "output_type": "stream",
     "text": [
      "unigram_model_trainer.cc(504) LOG(INFO) EM sub_iter=0 size=144 obj=286.727 num_tokens=4539858 num_tokens/piece=31526.8\n"
     ]
    },
    {
     "name": "stderr",
     "output_type": "stream",
     "text": [
      "unigram_model_trainer.cc(504) LOG(INFO) EM sub_iter=1 size=144 obj=277.119 num_tokens=4543408 num_tokens/piece=31551.4\n"
     ]
    },
    {
     "name": "stderr",
     "output_type": "stream",
     "text": [
      "unigram_model_trainer.cc(504) LOG(INFO) EM sub_iter=0 size=140 obj=277.72 num_tokens=4573939 num_tokens/piece=32671\n"
     ]
    },
    {
     "name": "stderr",
     "output_type": "stream",
     "text": [
      "unigram_model_trainer.cc(504) LOG(INFO) EM sub_iter=1 size=140 obj=276.862 num_tokens=4582096 num_tokens/piece=32729.3\n",
      "trainer_interface.cc(604) LOG(INFO) Saving model: sample.model\n",
      "trainer_interface.cc(615) LOG(INFO) Saving vocabs: sample.vocab\n"
     ]
    },
    {
     "name": "stdout",
     "output_type": "stream",
     "text": [
      "vocab len: 127\n",
      "{'G': 125, 'C': 124, 'A': 123, 'TGGG': 122, 'GCT': 120, 'TCCC': 119, 'T': 117, 'AC': 115, 'CAAG': 113, 'AGCA': 110, 'CATG': 109, 'GCAG': 114, 'TACA': 107, 'TTCA': 112, 'AGC': 106, 'AAAG': 103, 'TCTT': 100, 'TTTT': 99, 'GTG': 98, 'GGTG': 97, 'AAGA': 34, 'TTTG': 94, 'CAGG': 85, 'AGAT': 93, 'CCAC': 91, 'CCTC': 86, 'TGCA': 84, 'CTG': 88, 'AACA': 80, 'GA': 33, 'CAGA': 62, 'AAT': 78, 'TCCT': 102, 'TGGA': 76, 'CTCA': 75, 'GAC': 77, 'GGG': 73, 'CACC': 16, 'GGAG': 72, 'CTC': 69, 'CGG': 63, 'CTT': 61, 'TAA': 44, 'ACC': 57, 'TCA': 28, 'CCC': 56, 'GC': 60, 'GGC': 54, 'GATG': 53, 'CTGG': 95, '<unk>': 0, 'AGT': 50, 'CG': 55, 'TTCT': 111, 'CCT': 49, 'TGT': 48, 'TATT': 81, 'TCT': 89, 'GTC': 68, 'AAGG': 121, 'GCC': 32, 'CCTG': 38, 'TATA': 82, 'GAA': 51, 'GGA': 2, 'ATG': 35, 'TATG': 42, 'CTGC': 29, 'GCA': 31, 'CAGC': 27, 'AGAA': 13, 'AGG': 26, 'CAA': 74, 'TGAT': 71, 'GT': 43, 'GTGG': 105, 'TGTT': 25, 'TCC': 40, 'AAC': 23, 'TTC': 22, 'TGGT': 10, 'ATC': 67, 'CACA': 21, 'CAC': 59, 'GAGG': 104, 'AT': 19, 'ATA': 9, 'AGA': 20, 'CTCC': 92, 'AA': 65, 'CATT': 118, 'ATT': 45, 'ACT': 17, '<pad>': 126, 'CCAG': 90, 'GAGA': 70, 'TAAA': 14, 'GGGA': 108, 'CTA': 7, 'ACA': 41, 'AAA': 24, 'TGA': 15, 'TCTC': 8, 'GCTG': 64, 'CTTC': 96, 'TTG': 30, 'TGTG': 12, '▁': 1, 'TTT': 11, 'GAAG': 39, 'CAT': 58, 'AAG': 5, 'TAC': 6, 'GAG': 47, 'TAG': 3, 'TTA': 66, 'TGG': 18, 'AAAA': 4, 'CCA': 46, 'AATG': 37, 'TCTG': 52, 'TGCT': 101, 'AGGA': 87, 'TGTA': 116, 'CAG': 83, 'TGAG': 79, 'AGTT': 36}\n"
     ]
    }
   ],
   "source": [
    "tokenizer = get_tokenizer(config['tokenizer'])\n",
    "tokenizer.train(train_dset=train_dset, vocab_size=VOCAB_SIZE, kmer=KMER)\n",
    "vocabulary = build_vocab(train_dset, tokenizer, use_padding=config[\"use_padding\"])\n",
    "\n",
    "print(\"vocab len:\" ,vocabulary.__len__())\n",
    "print(vocabulary.get_stoi())"
   ]
  },
  {
   "cell_type": "markdown",
   "id": "6c4bb975",
   "metadata": {
    "id": "3hGQpSJA5kdT",
    "papermill": {
     "duration": 0.043037,
     "end_time": "2022-01-06T18:30:19.575749",
     "exception": false,
     "start_time": "2022-01-06T18:30:19.532712",
     "status": "completed"
    },
    "tags": []
   },
   "source": [
    "## Dataloader and batch preparation"
   ]
  },
  {
   "cell_type": "code",
   "execution_count": 8,
   "id": "e5a8013d",
   "metadata": {
    "colab": {
     "base_uri": "https://localhost:8080/"
    },
    "execution": {
     "iopub.execute_input": "2022-01-06T18:30:19.670301Z",
     "iopub.status.busy": "2022-01-06T18:30:19.668902Z",
     "iopub.status.idle": "2022-01-06T18:31:32.055375Z",
     "shell.execute_reply": "2022-01-06T18:31:32.056082Z"
    },
    "id": "gXUgPH6q5kdT",
    "outputId": "a1eb6ba2-9bcd-416d-8662-e3516121da96",
    "papermill": {
     "duration": 72.442339,
     "end_time": "2022-01-06T18:31:32.056561",
     "exception": false,
     "start_time": "2022-01-06T18:30:19.614222",
     "status": "completed"
    },
    "tags": []
   },
   "outputs": [
    {
     "name": "stdout",
     "output_type": "stream",
     "text": [
      "Using cpu device\n"
     ]
    },
    {
     "name": "stdout",
     "output_type": "stream",
     "text": [
      "max_tok_len  75\n"
     ]
    },
    {
     "name": "stdout",
     "output_type": "stream",
     "text": [
      "not all sequences are of the same length\n"
     ]
    }
   ],
   "source": [
    "# Run on GPU or CPU\n",
    "device = 'cuda' if config[\"run_on_gpu\"] and torch.cuda.is_available() else 'cpu'\n",
    "print('Using {} device'.format(device))\n",
    "\n",
    "max_tok_len = check_seq_lengths(dataset=train_dset, tokenizer=tokenizer)\n",
    "\n",
    "# Data Loader\n",
    "collate = coll_factory(vocabulary, tokenizer, device, pad_to_length = max_tok_len)\n",
    "\n",
    "train_loader = DataLoader(train_dset, batch_size=config[\"batch_size\"], shuffle=True, collate_fn=collate)"
   ]
  },
  {
   "cell_type": "code",
   "execution_count": 9,
   "id": "69ae453c",
   "metadata": {
    "execution": {
     "iopub.execute_input": "2022-01-06T18:31:32.146430Z",
     "iopub.status.busy": "2022-01-06T18:31:32.145670Z",
     "iopub.status.idle": "2022-01-06T18:31:32.157390Z",
     "shell.execute_reply": "2022-01-06T18:31:32.157865Z"
    },
    "papermill": {
     "duration": 0.062024,
     "end_time": "2022-01-06T18:31:32.158065",
     "exception": false,
     "start_time": "2022-01-06T18:31:32.096041",
     "status": "completed"
    },
    "tags": []
   },
   "outputs": [
    {
     "data": {
      "text/plain": [
       "['▁',\n",
       " 'CCA',\n",
       " 'TCC',\n",
       " 'GAG',\n",
       " 'TGT',\n",
       " 'CCT',\n",
       " 'AGT',\n",
       " 'GAA',\n",
       " 'TCTG',\n",
       " 'CAGC',\n",
       " 'CCA',\n",
       " 'GATG',\n",
       " 'GGC',\n",
       " 'TCA',\n",
       " 'CG',\n",
       " 'TTT',\n",
       " 'CCC',\n",
       " 'TGT',\n",
       " 'GT',\n",
       " 'ACC',\n",
       " 'CCA',\n",
       " 'CAT',\n",
       " 'GCC',\n",
       " 'CAC',\n",
       " 'TGA',\n",
       " 'GC',\n",
       " 'CCC',\n",
       " 'GAAG',\n",
       " 'TGG',\n",
       " 'TTG',\n",
       " 'CCC',\n",
       " 'AGA',\n",
       " 'CCC',\n",
       " 'CTT',\n",
       " 'ACC',\n",
       " 'CAGA',\n",
       " 'CCC',\n",
       " 'CGG',\n",
       " 'GCTG',\n",
       " 'AA',\n",
       " 'AGAA',\n",
       " 'CCT',\n",
       " 'TGTG',\n",
       " 'TGGT',\n",
       " 'TTA',\n",
       " 'ATC',\n",
       " 'TCA',\n",
       " 'GAG',\n",
       " 'CAGA',\n",
       " 'GTC',\n",
       " 'CTC',\n",
       " 'TGA',\n",
       " 'GCTG',\n",
       " 'GAGA',\n",
       " 'TGTT',\n",
       " 'TGAT',\n",
       " 'TGA',\n",
       " 'GAG',\n",
       " 'ACT',\n",
       " 'GCC',\n",
       " 'GGAG',\n",
       " 'GGG',\n",
       " 'CCT',\n",
       " 'CCC']"
      ]
     },
     "execution_count": 9,
     "metadata": {},
     "output_type": "execute_result"
    }
   ],
   "source": [
    "tokenizer(train_dset[1][0])"
   ]
  },
  {
   "cell_type": "markdown",
   "id": "8af2d7bc",
   "metadata": {
    "id": "sTTomnnP5kdU",
    "papermill": {
     "duration": 0.042846,
     "end_time": "2022-01-06T18:31:32.238447",
     "exception": false,
     "start_time": "2022-01-06T18:31:32.195601",
     "status": "completed"
    },
    "tags": []
   },
   "source": [
    "## Model"
   ]
  },
  {
   "cell_type": "code",
   "execution_count": 10,
   "id": "b9c6a0a5",
   "metadata": {
    "execution": {
     "iopub.execute_input": "2022-01-06T18:31:32.668051Z",
     "iopub.status.busy": "2022-01-06T18:31:32.661788Z",
     "iopub.status.idle": "2022-01-06T18:31:32.680839Z",
     "shell.execute_reply": "2022-01-06T18:31:32.674369Z"
    },
    "id": "ZNuXGIdD5kdU",
    "papermill": {
     "duration": 0.254931,
     "end_time": "2022-01-06T18:31:32.681567",
     "exception": false,
     "start_time": "2022-01-06T18:31:32.426636",
     "status": "completed"
    },
    "tags": []
   },
   "outputs": [],
   "source": [
    "model = CNN(\n",
    "    number_of_classes=config[\"number_of_classes\"],\n",
    "    vocab_size=vocabulary.__len__(),\n",
    "    embedding_dim=config[\"embedding_dim\"],\n",
    "    input_len=max_tok_len\n",
    ").to(device)"
   ]
  },
  {
   "cell_type": "markdown",
   "id": "88ed1d59",
   "metadata": {
    "id": "1pqIm92h5kdV",
    "papermill": {
     "duration": 0.164816,
     "end_time": "2022-01-06T18:31:33.005982",
     "exception": false,
     "start_time": "2022-01-06T18:31:32.841166",
     "status": "completed"
    },
    "tags": []
   },
   "source": [
    "## Training"
   ]
  },
  {
   "cell_type": "code",
   "execution_count": 11,
   "id": "1e8e361a",
   "metadata": {
    "colab": {
     "base_uri": "https://localhost:8080/"
    },
    "execution": {
     "iopub.execute_input": "2022-01-06T18:31:33.423785Z",
     "iopub.status.busy": "2022-01-06T18:31:33.421303Z",
     "iopub.status.idle": "2022-01-06T18:41:40.207166Z",
     "shell.execute_reply": "2022-01-06T18:41:40.207755Z"
    },
    "id": "uvO_-RFm5kdV",
    "outputId": "7799e5f9-78a7-4ef2-95e8-f06751912eda",
    "papermill": {
     "duration": 607.05423,
     "end_time": "2022-01-06T18:41:40.207982",
     "exception": false,
     "start_time": "2022-01-06T18:31:33.153752",
     "status": "completed"
    },
    "tags": []
   },
   "outputs": [
    {
     "name": "stdout",
     "output_type": "stream",
     "text": [
      "Epoch 0\n"
     ]
    },
    {
     "name": "stderr",
     "output_type": "stream",
     "text": [
      "/Users/katarina/Documents/repositories/GitHub/GLP/src/glp/tokenizers/utils.py:27: UserWarning: To copy construct from a tensor, it is recommended to use sourceTensor.clone().detach() or sourceTensor.clone().detach().requires_grad_(True), rather than torch.tensor(sourceTensor).\n",
      "  x = torch.tensor(pad(x), dtype=torch.long)\n"
     ]
    },
    {
     "name": "stdout",
     "output_type": "stream",
     "text": [
      "Train metrics: \n",
      " Accuracy: 82.3%, Avg loss: 0.580541 \n",
      "\n",
      "Epoch 1\n"
     ]
    },
    {
     "name": "stdout",
     "output_type": "stream",
     "text": [
      "Train metrics: \n",
      " Accuracy: 83.6%, Avg loss: 0.577661 \n",
      "\n",
      "Epoch 2\n"
     ]
    },
    {
     "name": "stdout",
     "output_type": "stream",
     "text": [
      "Train metrics: \n",
      " Accuracy: 84.0%, Avg loss: 0.573474 \n",
      "\n",
      "Epoch 3\n"
     ]
    },
    {
     "name": "stdout",
     "output_type": "stream",
     "text": [
      "Train metrics: \n",
      " Accuracy: 85.1%, Avg loss: 0.569638 \n",
      "\n",
      "Epoch 4\n"
     ]
    },
    {
     "name": "stdout",
     "output_type": "stream",
     "text": [
      "Train metrics: \n",
      " Accuracy: 85.1%, Avg loss: 0.568967 \n",
      "\n"
     ]
    }
   ],
   "source": [
    "model.train(train_loader, epochs=config[\"epochs\"])"
   ]
  },
  {
   "cell_type": "markdown",
   "id": "c0aefcec",
   "metadata": {
    "id": "bR2tamrc5kdV",
    "papermill": {
     "duration": 0.047598,
     "end_time": "2022-01-06T18:41:40.297801",
     "exception": false,
     "start_time": "2022-01-06T18:41:40.250203",
     "status": "completed"
    },
    "tags": []
   },
   "source": [
    "## Testing"
   ]
  },
  {
   "cell_type": "code",
   "execution_count": 12,
   "id": "fe9f4e66",
   "metadata": {
    "colab": {
     "base_uri": "https://localhost:8080/"
    },
    "execution": {
     "iopub.execute_input": "2022-01-06T18:41:40.382753Z",
     "iopub.status.busy": "2022-01-06T18:41:40.381653Z",
     "iopub.status.idle": "2022-01-06T18:42:04.441152Z",
     "shell.execute_reply": "2022-01-06T18:42:04.441656Z"
    },
    "id": "wbnciyRK5kdW",
    "outputId": "d2592f9d-f074-465f-95f8-df3b759ae068",
    "papermill": {
     "duration": 24.104596,
     "end_time": "2022-01-06T18:42:04.441869",
     "exception": false,
     "start_time": "2022-01-06T18:41:40.337273",
     "status": "completed"
    },
    "tags": []
   },
   "outputs": [
    {
     "name": "stdout",
     "output_type": "stream",
     "text": [
      "p  12500 ; tp  9591.074472904205 ; fp  1245.180865862\n",
      "recall  0.7672859578323364 ; precision  0.8850912213735476\n",
      "num_batches 782\n",
      "correct 20882\n",
      "size 25000\n",
      "Test metrics: \n",
      " Accuracy: 0.835280, F1 score: 0.821989, Avg loss: 0.576580 \n",
      "\n"
     ]
    },
    {
     "data": {
      "text/plain": [
       "(0.83528, 0.8219891609577571)"
      ]
     },
     "execution_count": 12,
     "metadata": {},
     "output_type": "execute_result"
    }
   ],
   "source": [
    "test_dset = get_dataset(config[\"dataset\"], 'test')\n",
    "test_loader = DataLoader(test_dset, batch_size=config[\"batch_size\"], shuffle=True, collate_fn=collate)\n",
    "\n",
    "acc, f1 = model.test(test_loader)\n",
    "acc, f1"
   ]
  }
 ],
 "metadata": {
  "accelerator": "TPU",
  "colab": {
   "name": "torch_cnn_classifier.ipynb",
   "provenance": []
  },
  "environment": {
   "name": "pytorch-gpu.1-9.m75",
   "type": "gcloud",
   "uri": "gcr.io/deeplearning-platform-release/pytorch-gpu.1-9:m75"
  },
  "interpreter": {
   "hash": "9828b828580f1cac1b571b33de6cff8bacecc8916095e1bcbc967952ca7105b7"
  },
  "kernelspec": {
   "display_name": "Python 3",
   "name": "python3"
  },
  "language_info": {
   "codemirror_mode": {
    "name": "ipython",
    "version": 3
   },
   "file_extension": ".py",
   "mimetype": "text/x-python",
   "name": "python",
   "nbconvert_exporter": "python",
   "pygments_lexer": "ipython3",
   "version": "3.8.9"
  },
  "papermill": {
   "default_parameters": {},
   "duration": 1815.015978,
   "end_time": "2022-01-06T18:42:05.215251",
   "environment_variables": {},
   "exception": null,
   "input_path": "torch_cnn.ipynb",
   "output_path": "../torch_cnn_experiments/demo_coding_vs_intergenomic_seqs_subword_128.ipynb",
   "parameters": {
    "DATASET": "demo_coding_vs_intergenomic_seqs",
    "TOKENIZER": "subword",
    "VOCAB_SIZE": 128
   },
   "start_time": "2022-01-06T18:11:50.199273",
   "version": "2.3.3"
  }
 },
 "nbformat": 4,
 "nbformat_minor": 5
}