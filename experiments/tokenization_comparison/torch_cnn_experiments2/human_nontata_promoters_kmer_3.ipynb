{
 "cells": [
  {
   "cell_type": "markdown",
   "id": "9571f5fa",
   "metadata": {
    "id": "SKOD9lvq5kdM",
    "papermill": {
     "duration": 0.023232,
     "end_time": "2022-01-07T12:54:47.520345",
     "exception": false,
     "start_time": "2022-01-07T12:54:47.497113",
     "status": "completed"
    },
    "tags": []
   },
   "source": [
    "# PYTORCH CNN Classifier"
   ]
  },
  {
   "cell_type": "code",
   "execution_count": 1,
   "id": "f6a45450",
   "metadata": {
    "execution": {
     "iopub.execute_input": "2022-01-07T12:54:47.590651Z",
     "iopub.status.busy": "2022-01-07T12:54:47.588246Z",
     "iopub.status.idle": "2022-01-07T12:54:47.596420Z",
     "shell.execute_reply": "2022-01-07T12:54:47.595206Z"
    },
    "id": "E8prt3AL5kdO",
    "papermill": {
     "duration": 0.043034,
     "end_time": "2022-01-07T12:54:47.596721",
     "exception": false,
     "start_time": "2022-01-07T12:54:47.553687",
     "status": "completed"
    },
    "tags": [
     "parameters"
    ]
   },
   "outputs": [],
   "source": [
    "DATASET = 'none'\n",
    "VOCAB_SIZE = 0\n",
    "TOKENIZER = 'none'\n",
    "KMER = 0"
   ]
  },
  {
   "cell_type": "code",
   "execution_count": 2,
   "id": "72706da2",
   "metadata": {
    "execution": {
     "iopub.execute_input": "2022-01-07T12:54:47.644523Z",
     "iopub.status.busy": "2022-01-07T12:54:47.643166Z",
     "iopub.status.idle": "2022-01-07T12:54:47.647815Z",
     "shell.execute_reply": "2022-01-07T12:54:47.646404Z"
    },
    "papermill": {
     "duration": 0.031894,
     "end_time": "2022-01-07T12:54:47.648588",
     "exception": false,
     "start_time": "2022-01-07T12:54:47.616694",
     "status": "completed"
    },
    "tags": [
     "injected-parameters"
    ]
   },
   "outputs": [],
   "source": [
    "# Parameters\n",
    "DATASET = \"human_nontata_promoters\"\n",
    "TOKENIZER = \"kmer\"\n",
    "KMER = 3\n"
   ]
  },
  {
   "cell_type": "code",
   "execution_count": 3,
   "id": "5dc38751",
   "metadata": {
    "colab": {
     "base_uri": "https://localhost:8080/"
    },
    "execution": {
     "iopub.execute_input": "2022-01-07T12:54:47.700193Z",
     "iopub.status.busy": "2022-01-07T12:54:47.698660Z",
     "iopub.status.idle": "2022-01-07T12:54:47.831312Z",
     "shell.execute_reply": "2022-01-07T12:54:47.839426Z"
    },
    "id": "rohBItfR5kdP",
    "outputId": "7da7aafe-0858-48be-bf7d-f698784d88df",
    "papermill": {
     "duration": 0.172954,
     "end_time": "2022-01-07T12:54:47.839830",
     "exception": false,
     "start_time": "2022-01-07T12:54:47.666876",
     "status": "completed"
    },
    "tags": []
   },
   "outputs": [
    {
     "name": "stdout",
     "output_type": "stream",
     "text": [
      "human_nontata_promoters 0 kmer 3\n"
     ]
    }
   ],
   "source": [
    "print(DATASET, VOCAB_SIZE, TOKENIZER, KMER)"
   ]
  },
  {
   "cell_type": "markdown",
   "id": "1fb4ab09",
   "metadata": {
    "id": "Y-YQrVyb5kdQ",
    "papermill": {
     "duration": 0.061473,
     "end_time": "2022-01-07T12:54:47.932286",
     "exception": false,
     "start_time": "2022-01-07T12:54:47.870813",
     "status": "completed"
    },
    "tags": []
   },
   "source": [
    "## Config"
   ]
  },
  {
   "cell_type": "code",
   "execution_count": 4,
   "id": "2bf847b3",
   "metadata": {
    "execution": {
     "iopub.execute_input": "2022-01-07T12:54:48.026604Z",
     "iopub.status.busy": "2022-01-07T12:54:48.025527Z",
     "iopub.status.idle": "2022-01-07T12:54:49.706990Z",
     "shell.execute_reply": "2022-01-07T12:54:49.707596Z"
    },
    "id": "FIunuyGk5kdR",
    "papermill": {
     "duration": 1.747398,
     "end_time": "2022-01-07T12:54:49.707813",
     "exception": false,
     "start_time": "2022-01-07T12:54:47.960415",
     "status": "completed"
    },
    "tags": []
   },
   "outputs": [],
   "source": [
    "import torch\n",
    "from torch.utils.data import DataLoader\n",
    "\n",
    "from genomic_benchmarks.dataset_getters.pytorch_datasets import get_dataset\n",
    "from glp.models import CNN\n",
    "from glp.tokenizers import get_tokenizer\n",
    "from glp.tokenizers.utils import build_vocab, coll_factory, check_config, check_seq_lengths"
   ]
  },
  {
   "cell_type": "code",
   "execution_count": 5,
   "id": "67fb9fe6",
   "metadata": {
    "execution": {
     "iopub.execute_input": "2022-01-07T12:54:49.743075Z",
     "iopub.status.busy": "2022-01-07T12:54:49.742243Z",
     "iopub.status.idle": "2022-01-07T12:54:49.744418Z",
     "shell.execute_reply": "2022-01-07T12:54:49.745045Z"
    },
    "id": "UgXiF6Zz5kdR",
    "papermill": {
     "duration": 0.023084,
     "end_time": "2022-01-07T12:54:49.745897",
     "exception": false,
     "start_time": "2022-01-07T12:54:49.722813",
     "status": "completed"
    },
    "tags": []
   },
   "outputs": [],
   "source": [
    "config = {\n",
    "    \"dataset\": DATASET,\n",
    "    \"tokenizer\": TOKENIZER,\n",
    "    \"dataset_version\": 0,\n",
    "    \"epochs\": 5,\n",
    "    \"batch_size\": 32,\n",
    "    \"use_padding\": True,\n",
    "    \"force_download\": False,\n",
    "    \"run_on_gpu\": True,\n",
    "    \"number_of_classes\": 2,\n",
    "    \"embedding_dim\": 100,\n",
    "}\n",
    "check_config(config)"
   ]
  },
  {
   "cell_type": "markdown",
   "id": "b467ed9c",
   "metadata": {
    "id": "AUWF-avz5kdS",
    "papermill": {
     "duration": 0.015001,
     "end_time": "2022-01-07T12:54:49.776995",
     "exception": false,
     "start_time": "2022-01-07T12:54:49.761994",
     "status": "completed"
    },
    "tags": []
   },
   "source": [
    "## Choose the dataset"
   ]
  },
  {
   "cell_type": "code",
   "execution_count": 6,
   "id": "fb370a90",
   "metadata": {
    "colab": {
     "base_uri": "https://localhost:8080/"
    },
    "execution": {
     "iopub.execute_input": "2022-01-07T12:54:49.812245Z",
     "iopub.status.busy": "2022-01-07T12:54:49.811325Z",
     "iopub.status.idle": "2022-01-07T12:54:50.045772Z",
     "shell.execute_reply": "2022-01-07T12:54:50.046362Z"
    },
    "id": "1oaryDJr5kdS",
    "outputId": "6a425df9-4092-4601-9cd9-f61d524b6278",
    "papermill": {
     "duration": 0.25451,
     "end_time": "2022-01-07T12:54:50.046570",
     "exception": false,
     "start_time": "2022-01-07T12:54:49.792060",
     "status": "completed"
    },
    "tags": []
   },
   "outputs": [],
   "source": [
    "train_dset = get_dataset(config[\"dataset\"], 'train')"
   ]
  },
  {
   "cell_type": "markdown",
   "id": "6b2c5cff",
   "metadata": {
    "id": "B0lqmy935kdS",
    "papermill": {
     "duration": 0.016653,
     "end_time": "2022-01-07T12:54:50.078552",
     "exception": false,
     "start_time": "2022-01-07T12:54:50.061899",
     "status": "completed"
    },
    "tags": []
   },
   "source": [
    "## Tokenizer and vocab"
   ]
  },
  {
   "cell_type": "code",
   "execution_count": 7,
   "id": "f7cd34a9",
   "metadata": {
    "colab": {
     "base_uri": "https://localhost:8080/"
    },
    "execution": {
     "iopub.execute_input": "2022-01-07T12:54:50.115028Z",
     "iopub.status.busy": "2022-01-07T12:54:50.114205Z",
     "iopub.status.idle": "2022-01-07T12:55:01.846750Z",
     "shell.execute_reply": "2022-01-07T12:55:01.848116Z"
    },
    "id": "NY_zualp5kdT",
    "outputId": "9034d65f-2f9a-4c83-a314-13d3b808fc65",
    "papermill": {
     "duration": 11.754467,
     "end_time": "2022-01-07T12:55:01.848370",
     "exception": false,
     "start_time": "2022-01-07T12:54:50.093903",
     "status": "completed"
    },
    "tags": []
   },
   "outputs": [
    {
     "name": "stdout",
     "output_type": "stream",
     "text": [
      "vocab len: 66\n",
      "{'GTT': 63, 'CCG': 61, 'ACG': 60, 'AGC': 58, 'TCC': 55, 'CCA': 56, 'CAA': 54, 'CAT': 62, 'AAG': 53, 'AGT': 49, 'TAC': 48, 'GCT': 39, 'GAA': 2, 'ATG': 46, 'GTC': 57, 'CGA': 9, 'GCC': 36, 'GGC': 31, 'TTT': 30, 'TAT': 47, 'ATC': 29, 'CGC': 35, 'CGG': 13, 'CTT': 25, 'CTC': 28, 'TGT': 24, 'CTA': 23, 'TTG': 38, 'GGA': 21, 'AAT': 7, 'ACC': 22, '<pad>': 65, 'CAG': 1, 'TCA': 44, 'TTA': 51, 'TGG': 19, 'GGT': 45, '<unk>': 0, 'CAC': 27, 'AGA': 17, 'TAG': 10, 'TGA': 37, 'GAG': 16, 'TAA': 43, 'TCT': 42, 'ACT': 5, 'GTG': 11, 'ATT': 14, 'TTC': 18, 'AAA': 64, 'ACA': 40, 'GCA': 12, 'GAT': 59, 'GGG': 20, 'GAC': 41, 'CCC': 34, 'AGG': 6, 'CTG': 26, 'GCG': 15, 'AAC': 4, 'GTA': 52, 'ATA': 50, 'CGT': 33, 'TGC': 32, 'CCT': 8, 'TCG': 3}\n"
     ]
    }
   ],
   "source": [
    "tokenizer = get_tokenizer(config['tokenizer'])\n",
    "tokenizer.train(train_dset=train_dset, vocab_size=VOCAB_SIZE, kmer=KMER)\n",
    "vocabulary = build_vocab(train_dset, tokenizer, use_padding=config[\"use_padding\"])\n",
    "\n",
    "print(\"vocab len:\" ,vocabulary.__len__())\n",
    "print(vocabulary.get_stoi())"
   ]
  },
  {
   "cell_type": "markdown",
   "id": "fbf29c22",
   "metadata": {
    "id": "3hGQpSJA5kdT",
    "papermill": {
     "duration": 0.019348,
     "end_time": "2022-01-07T12:55:01.891369",
     "exception": false,
     "start_time": "2022-01-07T12:55:01.872021",
     "status": "completed"
    },
    "tags": []
   },
   "source": [
    "## Dataloader and batch preparation"
   ]
  },
  {
   "cell_type": "code",
   "execution_count": 8,
   "id": "b9f80dc3",
   "metadata": {
    "colab": {
     "base_uri": "https://localhost:8080/"
    },
    "execution": {
     "iopub.execute_input": "2022-01-07T12:55:01.930786Z",
     "iopub.status.busy": "2022-01-07T12:55:01.929838Z",
     "iopub.status.idle": "2022-01-07T12:55:19.631901Z",
     "shell.execute_reply": "2022-01-07T12:55:19.632413Z"
    },
    "id": "gXUgPH6q5kdT",
    "outputId": "a1eb6ba2-9bcd-416d-8662-e3516121da96",
    "papermill": {
     "duration": 17.724068,
     "end_time": "2022-01-07T12:55:19.632621",
     "exception": false,
     "start_time": "2022-01-07T12:55:01.908553",
     "status": "completed"
    },
    "tags": []
   },
   "outputs": [
    {
     "name": "stdout",
     "output_type": "stream",
     "text": [
      "Using cpu device\n"
     ]
    },
    {
     "name": "stdout",
     "output_type": "stream",
     "text": [
      "max_tok_len  83\n"
     ]
    }
   ],
   "source": [
    "# Run on GPU or CPU\n",
    "device = 'cuda' if config[\"run_on_gpu\"] and torch.cuda.is_available() else 'cpu'\n",
    "print('Using {} device'.format(device))\n",
    "\n",
    "max_tok_len = check_seq_lengths(dataset=train_dset, tokenizer=tokenizer)\n",
    "\n",
    "# Data Loader\n",
    "collate = coll_factory(vocabulary, tokenizer, device, pad_to_length = max_tok_len)\n",
    "\n",
    "train_loader = DataLoader(train_dset, batch_size=config[\"batch_size\"], shuffle=True, collate_fn=collate)"
   ]
  },
  {
   "cell_type": "code",
   "execution_count": 9,
   "id": "9e0da0f4",
   "metadata": {
    "execution": {
     "iopub.execute_input": "2022-01-07T12:55:19.673305Z",
     "iopub.status.busy": "2022-01-07T12:55:19.672533Z",
     "iopub.status.idle": "2022-01-07T12:55:19.684469Z",
     "shell.execute_reply": "2022-01-07T12:55:19.684973Z"
    },
    "papermill": {
     "duration": 0.034151,
     "end_time": "2022-01-07T12:55:19.685184",
     "exception": false,
     "start_time": "2022-01-07T12:55:19.651033",
     "status": "completed"
    },
    "tags": []
   },
   "outputs": [
    {
     "data": {
      "text/plain": [
       "['CAC',\n",
       " 'TCT',\n",
       " 'GTG',\n",
       " 'TTC',\n",
       " 'TTT',\n",
       " 'TAA',\n",
       " 'AAT',\n",
       " 'CCC',\n",
       " 'TCA',\n",
       " 'GGT',\n",
       " 'TTT',\n",
       " 'ATG',\n",
       " 'TTT',\n",
       " 'TAT',\n",
       " 'TGC',\n",
       " 'TAC',\n",
       " 'CAG',\n",
       " 'AGT',\n",
       " 'CTG',\n",
       " 'CCT',\n",
       " 'CCC',\n",
       " 'TGA',\n",
       " 'GGT',\n",
       " 'TCT',\n",
       " 'TGT',\n",
       " 'ATA',\n",
       " 'GAC',\n",
       " 'TAG',\n",
       " 'TTA',\n",
       " 'TTT',\n",
       " 'CCC',\n",
       " 'TCT',\n",
       " 'GTA',\n",
       " 'AAG',\n",
       " 'AAG',\n",
       " 'CTG',\n",
       " 'TTC',\n",
       " 'TAT',\n",
       " 'TCG',\n",
       " 'TTC',\n",
       " 'TCG',\n",
       " 'CCT',\n",
       " 'GGT',\n",
       " 'TTG',\n",
       " 'GAA',\n",
       " 'CAA',\n",
       " 'ACT',\n",
       " 'GAA',\n",
       " 'CAC',\n",
       " 'TTC',\n",
       " 'CAA',\n",
       " 'AGG',\n",
       " 'AGG',\n",
       " 'CAG',\n",
       " 'TCC',\n",
       " 'TTG',\n",
       " 'CAG',\n",
       " 'CCT',\n",
       " 'TGT',\n",
       " 'CTC',\n",
       " 'CTT',\n",
       " 'CCA',\n",
       " 'CTC',\n",
       " 'CCC',\n",
       " 'TCC',\n",
       " 'TCC',\n",
       " 'CCA',\n",
       " 'CAG',\n",
       " 'TCC',\n",
       " 'TGG',\n",
       " 'CTG',\n",
       " 'GAG',\n",
       " 'CAG',\n",
       " 'CGA',\n",
       " 'GTC',\n",
       " 'TGT',\n",
       " 'CGA',\n",
       " 'TCC',\n",
       " 'CAG',\n",
       " 'GCC',\n",
       " 'AGA',\n",
       " 'GAC',\n",
       " 'AAG']"
      ]
     },
     "execution_count": 9,
     "metadata": {},
     "output_type": "execute_result"
    }
   ],
   "source": [
    "tokenizer(train_dset[1][0])"
   ]
  },
  {
   "cell_type": "markdown",
   "id": "c6799344",
   "metadata": {
    "id": "sTTomnnP5kdU",
    "papermill": {
     "duration": 0.016785,
     "end_time": "2022-01-07T12:55:19.718758",
     "exception": false,
     "start_time": "2022-01-07T12:55:19.701973",
     "status": "completed"
    },
    "tags": []
   },
   "source": [
    "## Model"
   ]
  },
  {
   "cell_type": "code",
   "execution_count": 10,
   "id": "f6d65cdc",
   "metadata": {
    "execution": {
     "iopub.execute_input": "2022-01-07T12:55:19.759718Z",
     "iopub.status.busy": "2022-01-07T12:55:19.758972Z",
     "iopub.status.idle": "2022-01-07T12:55:19.769154Z",
     "shell.execute_reply": "2022-01-07T12:55:19.770053Z"
    },
    "id": "ZNuXGIdD5kdU",
    "papermill": {
     "duration": 0.034079,
     "end_time": "2022-01-07T12:55:19.770266",
     "exception": false,
     "start_time": "2022-01-07T12:55:19.736187",
     "status": "completed"
    },
    "tags": []
   },
   "outputs": [],
   "source": [
    "model = CNN(\n",
    "    number_of_classes=config[\"number_of_classes\"],\n",
    "    vocab_size=vocabulary.__len__(),\n",
    "    embedding_dim=config[\"embedding_dim\"],\n",
    "    input_len=max_tok_len\n",
    ").to(device)"
   ]
  },
  {
   "cell_type": "markdown",
   "id": "7ba83958",
   "metadata": {
    "id": "1pqIm92h5kdV",
    "papermill": {
     "duration": 0.017109,
     "end_time": "2022-01-07T12:55:19.804747",
     "exception": false,
     "start_time": "2022-01-07T12:55:19.787638",
     "status": "completed"
    },
    "tags": []
   },
   "source": [
    "## Training"
   ]
  },
  {
   "cell_type": "code",
   "execution_count": 11,
   "id": "c9898beb",
   "metadata": {
    "colab": {
     "base_uri": "https://localhost:8080/"
    },
    "execution": {
     "iopub.execute_input": "2022-01-07T12:55:19.843295Z",
     "iopub.status.busy": "2022-01-07T12:55:19.842541Z",
     "iopub.status.idle": "2022-01-07T12:58:40.768000Z",
     "shell.execute_reply": "2022-01-07T12:58:40.768522Z"
    },
    "id": "uvO_-RFm5kdV",
    "outputId": "7799e5f9-78a7-4ef2-95e8-f06751912eda",
    "papermill": {
     "duration": 200.947378,
     "end_time": "2022-01-07T12:58:40.768751",
     "exception": false,
     "start_time": "2022-01-07T12:55:19.821373",
     "status": "completed"
    },
    "tags": []
   },
   "outputs": [
    {
     "name": "stdout",
     "output_type": "stream",
     "text": [
      "Epoch 0\n"
     ]
    },
    {
     "name": "stderr",
     "output_type": "stream",
     "text": [
      "/Users/katarina/Documents/repositories/GitHub/GLP/src/glp/tokenizers/utils.py:27: UserWarning: To copy construct from a tensor, it is recommended to use sourceTensor.clone().detach() or sourceTensor.clone().detach().requires_grad_(True), rather than torch.tensor(sourceTensor).\n",
      "  x = torch.tensor(pad(x), dtype=torch.long)\n"
     ]
    },
    {
     "name": "stdout",
     "output_type": "stream",
     "text": [
      "Train metrics: \n",
      " Accuracy: 78.0%, Avg loss: 0.622050 \n",
      "\n",
      "Epoch 1\n"
     ]
    },
    {
     "name": "stdout",
     "output_type": "stream",
     "text": [
      "Train metrics: \n",
      " Accuracy: 80.4%, Avg loss: 0.612711 \n",
      "\n",
      "Epoch 2\n"
     ]
    },
    {
     "name": "stdout",
     "output_type": "stream",
     "text": [
      "Train metrics: \n",
      " Accuracy: 82.5%, Avg loss: 0.604389 \n",
      "\n",
      "Epoch 3\n"
     ]
    },
    {
     "name": "stdout",
     "output_type": "stream",
     "text": [
      "Train metrics: \n",
      " Accuracy: 79.3%, Avg loss: 0.609369 \n",
      "\n",
      "Epoch 4\n"
     ]
    },
    {
     "name": "stdout",
     "output_type": "stream",
     "text": [
      "Train metrics: \n",
      " Accuracy: 84.1%, Avg loss: 0.595688 \n",
      "\n"
     ]
    }
   ],
   "source": [
    "model.train(train_loader, epochs=config[\"epochs\"])"
   ]
  },
  {
   "cell_type": "markdown",
   "id": "327318f5",
   "metadata": {
    "id": "bR2tamrc5kdV",
    "papermill": {
     "duration": 0.02298,
     "end_time": "2022-01-07T12:58:40.811875",
     "exception": false,
     "start_time": "2022-01-07T12:58:40.788895",
     "status": "completed"
    },
    "tags": []
   },
   "source": [
    "## Testing"
   ]
  },
  {
   "cell_type": "code",
   "execution_count": 12,
   "id": "b09cf3ed",
   "metadata": {
    "colab": {
     "base_uri": "https://localhost:8080/"
    },
    "execution": {
     "iopub.execute_input": "2022-01-07T12:58:40.868553Z",
     "iopub.status.busy": "2022-01-07T12:58:40.867487Z",
     "iopub.status.idle": "2022-01-07T12:58:48.717434Z",
     "shell.execute_reply": "2022-01-07T12:58:48.718627Z"
    },
    "id": "wbnciyRK5kdW",
    "outputId": "d2592f9d-f074-465f-95f8-df3b759ae068",
    "papermill": {
     "duration": 7.883221,
     "end_time": "2022-01-07T12:58:48.718870",
     "exception": false,
     "start_time": "2022-01-07T12:58:40.835649",
     "status": "completed"
    },
    "tags": []
   },
   "outputs": [
    {
     "name": "stdout",
     "output_type": "stream",
     "text": [
      "p  4119 ; tp  3052.838479042053 ; fp  815.2843484993386\n",
      "recall  0.7411601065894764 ; precision  0.789229974111877\n",
      "num_batches 283\n",
      "correct 7170\n",
      "size 9034\n",
      "Test metrics: \n",
      " Accuracy: 0.793668, F1 score: 0.764440, Avg loss: 0.618350 \n",
      "\n"
     ]
    },
    {
     "data": {
      "text/plain": [
       "(0.7936683639583795, 0.7644400981327547)"
      ]
     },
     "execution_count": 12,
     "metadata": {},
     "output_type": "execute_result"
    }
   ],
   "source": [
    "test_dset = get_dataset(config[\"dataset\"], 'test')\n",
    "test_loader = DataLoader(test_dset, batch_size=config[\"batch_size\"], shuffle=True, collate_fn=collate)\n",
    "\n",
    "acc, f1 = model.test(test_loader)\n",
    "acc, f1"
   ]
  }
 ],
 "metadata": {
  "accelerator": "TPU",
  "colab": {
   "name": "torch_cnn_classifier.ipynb",
   "provenance": []
  },
  "environment": {
   "name": "pytorch-gpu.1-9.m75",
   "type": "gcloud",
   "uri": "gcr.io/deeplearning-platform-release/pytorch-gpu.1-9:m75"
  },
  "interpreter": {
   "hash": "9828b828580f1cac1b571b33de6cff8bacecc8916095e1bcbc967952ca7105b7"
  },
  "kernelspec": {
   "display_name": "Python 3",
   "name": "python3"
  },
  "language_info": {
   "codemirror_mode": {
    "name": "ipython",
    "version": 3
   },
   "file_extension": ".py",
   "mimetype": "text/x-python",
   "name": "python",
   "nbconvert_exporter": "python",
   "pygments_lexer": "ipython3",
   "version": "3.8.9"
  },
  "papermill": {
   "default_parameters": {},
   "duration": 244.239474,
   "end_time": "2022-01-07T12:58:49.562165",
   "environment_variables": {},
   "exception": null,
   "input_path": "torch_cnn.ipynb",
   "output_path": "../torch_cnn_experiments/human_nontata_promoters_kmer_3.ipynb",
   "parameters": {
    "DATASET": "human_nontata_promoters",
    "KMER": 3,
    "TOKENIZER": "kmer"
   },
   "start_time": "2022-01-07T12:54:45.322691",
   "version": "2.3.3"
  }
 },
 "nbformat": 4,
 "nbformat_minor": 5
}