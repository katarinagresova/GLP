{
 "cells": [
  {
   "cell_type": "markdown",
   "id": "67987f94",
   "metadata": {
    "id": "SKOD9lvq5kdM",
    "papermill": {
     "duration": 0.016889,
     "end_time": "2022-01-07T12:37:52.704401",
     "exception": false,
     "start_time": "2022-01-07T12:37:52.687512",
     "status": "completed"
    },
    "tags": []
   },
   "source": [
    "# PYTORCH CNN Classifier"
   ]
  },
  {
   "cell_type": "code",
   "execution_count": 1,
   "id": "82093692",
   "metadata": {
    "execution": {
     "iopub.execute_input": "2022-01-07T12:37:52.744188Z",
     "iopub.status.busy": "2022-01-07T12:37:52.743282Z",
     "iopub.status.idle": "2022-01-07T12:37:52.747499Z",
     "shell.execute_reply": "2022-01-07T12:37:52.748011Z"
    },
    "id": "E8prt3AL5kdO",
    "papermill": {
     "duration": 0.029501,
     "end_time": "2022-01-07T12:37:52.748301",
     "exception": false,
     "start_time": "2022-01-07T12:37:52.718800",
     "status": "completed"
    },
    "tags": [
     "parameters"
    ]
   },
   "outputs": [],
   "source": [
    "DATASET = 'none'\n",
    "VOCAB_SIZE = 0\n",
    "TOKENIZER = 'none'\n",
    "KMER = 0"
   ]
  },
  {
   "cell_type": "code",
   "execution_count": 2,
   "id": "0292c169",
   "metadata": {
    "execution": {
     "iopub.execute_input": "2022-01-07T12:37:52.784830Z",
     "iopub.status.busy": "2022-01-07T12:37:52.783610Z",
     "iopub.status.idle": "2022-01-07T12:37:52.786843Z",
     "shell.execute_reply": "2022-01-07T12:37:52.787544Z"
    },
    "papermill": {
     "duration": 0.023044,
     "end_time": "2022-01-07T12:37:52.787769",
     "exception": false,
     "start_time": "2022-01-07T12:37:52.764725",
     "status": "completed"
    },
    "tags": [
     "injected-parameters"
    ]
   },
   "outputs": [],
   "source": [
    "# Parameters\n",
    "DATASET = \"human_nontata_promoters\"\n",
    "TOKENIZER = \"subword\"\n",
    "VOCAB_SIZE = 512\n"
   ]
  },
  {
   "cell_type": "code",
   "execution_count": 3,
   "id": "5c7cfc67",
   "metadata": {
    "colab": {
     "base_uri": "https://localhost:8080/"
    },
    "execution": {
     "iopub.execute_input": "2022-01-07T12:37:52.821828Z",
     "iopub.status.busy": "2022-01-07T12:37:52.820994Z",
     "iopub.status.idle": "2022-01-07T12:37:52.824255Z",
     "shell.execute_reply": "2022-01-07T12:37:52.824755Z"
    },
    "id": "rohBItfR5kdP",
    "outputId": "7da7aafe-0858-48be-bf7d-f698784d88df",
    "papermill": {
     "duration": 0.022668,
     "end_time": "2022-01-07T12:37:52.824954",
     "exception": false,
     "start_time": "2022-01-07T12:37:52.802286",
     "status": "completed"
    },
    "tags": []
   },
   "outputs": [
    {
     "name": "stdout",
     "output_type": "stream",
     "text": [
      "human_nontata_promoters 512 subword 0\n"
     ]
    }
   ],
   "source": [
    "print(DATASET, VOCAB_SIZE, TOKENIZER, KMER)"
   ]
  },
  {
   "cell_type": "markdown",
   "id": "17b545da",
   "metadata": {
    "id": "Y-YQrVyb5kdQ",
    "papermill": {
     "duration": 0.016756,
     "end_time": "2022-01-07T12:37:52.857509",
     "exception": false,
     "start_time": "2022-01-07T12:37:52.840753",
     "status": "completed"
    },
    "tags": []
   },
   "source": [
    "## Config"
   ]
  },
  {
   "cell_type": "code",
   "execution_count": 4,
   "id": "30ef970c",
   "metadata": {
    "execution": {
     "iopub.execute_input": "2022-01-07T12:37:52.894428Z",
     "iopub.status.busy": "2022-01-07T12:37:52.893663Z",
     "iopub.status.idle": "2022-01-07T12:37:54.531700Z",
     "shell.execute_reply": "2022-01-07T12:37:54.532335Z"
    },
    "id": "FIunuyGk5kdR",
    "papermill": {
     "duration": 1.659459,
     "end_time": "2022-01-07T12:37:54.532556",
     "exception": false,
     "start_time": "2022-01-07T12:37:52.873097",
     "status": "completed"
    },
    "tags": []
   },
   "outputs": [],
   "source": [
    "import torch\n",
    "from torch.utils.data import DataLoader\n",
    "\n",
    "from genomic_benchmarks.dataset_getters.pytorch_datasets import get_dataset\n",
    "from glp.models import CNN\n",
    "from glp.tokenizers import get_tokenizer\n",
    "from glp.tokenizers.utils import build_vocab, coll_factory, check_config, check_seq_lengths"
   ]
  },
  {
   "cell_type": "code",
   "execution_count": 5,
   "id": "719547c0",
   "metadata": {
    "execution": {
     "iopub.execute_input": "2022-01-07T12:37:54.571785Z",
     "iopub.status.busy": "2022-01-07T12:37:54.570996Z",
     "iopub.status.idle": "2022-01-07T12:37:54.573356Z",
     "shell.execute_reply": "2022-01-07T12:37:54.574094Z"
    },
    "id": "UgXiF6Zz5kdR",
    "papermill": {
     "duration": 0.027012,
     "end_time": "2022-01-07T12:37:54.574298",
     "exception": false,
     "start_time": "2022-01-07T12:37:54.547286",
     "status": "completed"
    },
    "tags": []
   },
   "outputs": [],
   "source": [
    "config = {\n",
    "    \"dataset\": DATASET,\n",
    "    \"tokenizer\": TOKENIZER,\n",
    "    \"dataset_version\": 0,\n",
    "    \"epochs\": 5,\n",
    "    \"batch_size\": 32,\n",
    "    \"use_padding\": True,\n",
    "    \"force_download\": False,\n",
    "    \"run_on_gpu\": True,\n",
    "    \"number_of_classes\": 2,\n",
    "    \"embedding_dim\": 100,\n",
    "}\n",
    "check_config(config)"
   ]
  },
  {
   "cell_type": "markdown",
   "id": "325578ec",
   "metadata": {
    "id": "AUWF-avz5kdS",
    "papermill": {
     "duration": 0.014868,
     "end_time": "2022-01-07T12:37:54.604515",
     "exception": false,
     "start_time": "2022-01-07T12:37:54.589647",
     "status": "completed"
    },
    "tags": []
   },
   "source": [
    "## Choose the dataset"
   ]
  },
  {
   "cell_type": "code",
   "execution_count": 6,
   "id": "6c6195cb",
   "metadata": {
    "colab": {
     "base_uri": "https://localhost:8080/"
    },
    "execution": {
     "iopub.execute_input": "2022-01-07T12:37:54.638620Z",
     "iopub.status.busy": "2022-01-07T12:37:54.637852Z",
     "iopub.status.idle": "2022-01-07T12:37:54.730454Z",
     "shell.execute_reply": "2022-01-07T12:37:54.730892Z"
    },
    "id": "1oaryDJr5kdS",
    "outputId": "6a425df9-4092-4601-9cd9-f61d524b6278",
    "papermill": {
     "duration": 0.112029,
     "end_time": "2022-01-07T12:37:54.731095",
     "exception": false,
     "start_time": "2022-01-07T12:37:54.619066",
     "status": "completed"
    },
    "tags": []
   },
   "outputs": [],
   "source": [
    "train_dset = get_dataset(config[\"dataset\"], 'train')"
   ]
  },
  {
   "cell_type": "markdown",
   "id": "7e5152dd",
   "metadata": {
    "id": "B0lqmy935kdS",
    "papermill": {
     "duration": 0.018675,
     "end_time": "2022-01-07T12:37:54.763976",
     "exception": false,
     "start_time": "2022-01-07T12:37:54.745301",
     "status": "completed"
    },
    "tags": []
   },
   "source": [
    "## Tokenizer and vocab"
   ]
  },
  {
   "cell_type": "code",
   "execution_count": 7,
   "id": "b73b0b9c",
   "metadata": {
    "colab": {
     "base_uri": "https://localhost:8080/"
    },
    "execution": {
     "iopub.execute_input": "2022-01-07T12:37:54.801442Z",
     "iopub.status.busy": "2022-01-07T12:37:54.800712Z",
     "iopub.status.idle": "2022-01-07T12:44:43.275041Z",
     "shell.execute_reply": "2022-01-07T12:44:43.276252Z"
    },
    "id": "NY_zualp5kdT",
    "outputId": "9034d65f-2f9a-4c83-a314-13d3b808fc65",
    "papermill": {
     "duration": 408.496882,
     "end_time": "2022-01-07T12:44:43.277150",
     "exception": false,
     "start_time": "2022-01-07T12:37:54.780268",
     "status": "completed"
    },
    "tags": []
   },
   "outputs": [
    {
     "name": "stderr",
     "output_type": "stream",
     "text": [
      "sentencepiece_trainer.cc(177) LOG(INFO) Running command: --input=sample.csv --model_prefix=sample --vocab_size=512 --model_type=unigram\n",
      "sentencepiece_trainer.cc(77) LOG(INFO) Starts training with : \n",
      "trainer_spec {\n",
      "  input: sample.csv\n",
      "  input_format: \n",
      "  model_prefix: sample\n",
      "  model_type: UNIGRAM\n",
      "  vocab_size: 512\n",
      "  self_test_sample_size: 0\n",
      "  character_coverage: 0.9995\n",
      "  input_sentence_size: 0\n",
      "  shuffle_input_sentence: 1\n",
      "  seed_sentencepiece_size: 1000000\n",
      "  shrinking_factor: 0.75\n",
      "  max_sentence_length: 4192\n",
      "  num_threads: 16\n",
      "  num_sub_iterations: 2\n",
      "  max_sentencepiece_length: 16\n",
      "  split_by_unicode_script: 1\n",
      "  split_by_number: 1\n",
      "  split_by_whitespace: 1\n",
      "  split_digits: 0\n",
      "  treat_whitespace_as_suffix: 0\n",
      "  required_chars: \n",
      "  byte_fallback: 0\n",
      "  vocabulary_output_piece_score: 1\n",
      "  train_extremely_large_corpus: 0\n",
      "  hard_vocab_limit: 1\n",
      "  use_all_vocab: 0\n",
      "  unk_id: 0\n",
      "  bos_id: 1\n",
      "  eos_id: 2\n",
      "  pad_id: -1\n",
      "  unk_piece: <unk>\n",
      "  bos_piece: <s>\n",
      "  eos_piece: </s>\n",
      "  pad_piece: <pad>\n",
      "  unk_surface:  ⁇ \n",
      "}\n",
      "normalizer_spec {\n",
      "  name: nmt_nfkc\n",
      "  add_dummy_prefix: 1\n",
      "  remove_extra_whitespaces: 1\n",
      "  escape_whitespaces: 1\n",
      "  normalization_rule_tsv: \n",
      "}\n",
      "denormalizer_spec {}\n",
      "trainer_interface.cc(319) LOG(INFO) SentenceIterator is not specified. Using MultiFileSentenceIterator.\n",
      "trainer_interface.cc(174) LOG(INFO) Loading corpus: sample.csv\n",
      "trainer_interface.cc(375) LOG(INFO) Loaded all 27097 sentences\n",
      "trainer_interface.cc(390) LOG(INFO) Adding meta_piece: <unk>\n",
      "trainer_interface.cc(390) LOG(INFO) Adding meta_piece: <s>\n",
      "trainer_interface.cc(390) LOG(INFO) Adding meta_piece: </s>\n",
      "trainer_interface.cc(395) LOG(INFO) Normalizing sentences...\n"
     ]
    },
    {
     "name": "stderr",
     "output_type": "stream",
     "text": [
      "trainer_interface.cc(456) LOG(INFO) all chars count=6828444\n",
      "trainer_interface.cc(477) LOG(INFO) Alphabet size=5\n",
      "trainer_interface.cc(478) LOG(INFO) Final character coverage=1\n"
     ]
    },
    {
     "name": "stderr",
     "output_type": "stream",
     "text": [
      "trainer_interface.cc(510) LOG(INFO) Done! preprocessed 27097 sentences.\n"
     ]
    },
    {
     "name": "stderr",
     "output_type": "stream",
     "text": [
      "unigram_model_trainer.cc(138) LOG(INFO) Making suffix array...\n"
     ]
    },
    {
     "name": "stderr",
     "output_type": "stream",
     "text": [
      "unigram_model_trainer.cc(142) LOG(INFO) Extracting frequent sub strings...\n"
     ]
    },
    {
     "name": "stderr",
     "output_type": "stream",
     "text": [
      "unigram_model_trainer.cc(193) LOG(INFO) Initialized 1000000 seed sentencepieces\n"
     ]
    },
    {
     "name": "stderr",
     "output_type": "stream",
     "text": [
      "trainer_interface.cc(516) LOG(INFO) Tokenizing input sentences with whitespace: 27097\n",
      "trainer_interface.cc(526) LOG(INFO) Done! 27097\n",
      "unigram_model_trainer.cc(488) LOG(INFO) Using 27097 sentences for EM training\n"
     ]
    },
    {
     "name": "stderr",
     "output_type": "stream",
     "text": [
      "unigram_model_trainer.cc(504) LOG(INFO) EM sub_iter=0 size=273096 obj=318.82 num_tokens=676096 num_tokens/piece=2.47567\n"
     ]
    },
    {
     "name": "stderr",
     "output_type": "stream",
     "text": [
      "unigram_model_trainer.cc(504) LOG(INFO) EM sub_iter=1 size=202428 obj=310.236 num_tokens=730585 num_tokens/piece=3.60911\n"
     ]
    },
    {
     "name": "stderr",
     "output_type": "stream",
     "text": [
      "unigram_model_trainer.cc(504) LOG(INFO) EM sub_iter=0 size=141120 obj=305.255 num_tokens=743196 num_tokens/piece=5.26641\n"
     ]
    },
    {
     "name": "stderr",
     "output_type": "stream",
     "text": [
      "unigram_model_trainer.cc(504) LOG(INFO) EM sub_iter=1 size=131299 obj=301.221 num_tokens=751361 num_tokens/piece=5.72252\n"
     ]
    },
    {
     "name": "stderr",
     "output_type": "stream",
     "text": [
      "unigram_model_trainer.cc(504) LOG(INFO) EM sub_iter=0 size=98131 obj=302.387 num_tokens=769820 num_tokens/piece=7.84482\n"
     ]
    },
    {
     "name": "stderr",
     "output_type": "stream",
     "text": [
      "unigram_model_trainer.cc(504) LOG(INFO) EM sub_iter=1 size=97328 obj=300.027 num_tokens=771082 num_tokens/piece=7.92251\n"
     ]
    },
    {
     "name": "stderr",
     "output_type": "stream",
     "text": [
      "unigram_model_trainer.cc(504) LOG(INFO) EM sub_iter=0 size=72965 obj=302.771 num_tokens=793590 num_tokens/piece=10.8763\n"
     ]
    },
    {
     "name": "stderr",
     "output_type": "stream",
     "text": [
      "unigram_model_trainer.cc(504) LOG(INFO) EM sub_iter=1 size=72913 obj=300.566 num_tokens=793758 num_tokens/piece=10.8864\n"
     ]
    },
    {
     "name": "stderr",
     "output_type": "stream",
     "text": [
      "unigram_model_trainer.cc(504) LOG(INFO) EM sub_iter=0 size=54681 obj=304.899 num_tokens=824326 num_tokens/piece=15.0752\n"
     ]
    },
    {
     "name": "stderr",
     "output_type": "stream",
     "text": [
      "unigram_model_trainer.cc(504) LOG(INFO) EM sub_iter=1 size=54676 obj=302.02 num_tokens=824385 num_tokens/piece=15.0776\n"
     ]
    },
    {
     "name": "stderr",
     "output_type": "stream",
     "text": [
      "unigram_model_trainer.cc(504) LOG(INFO) EM sub_iter=0 size=41005 obj=308.659 num_tokens=865158 num_tokens/piece=21.0988\n"
     ]
    },
    {
     "name": "stderr",
     "output_type": "stream",
     "text": [
      "unigram_model_trainer.cc(504) LOG(INFO) EM sub_iter=1 size=41001 obj=305.092 num_tokens=865358 num_tokens/piece=21.1058\n"
     ]
    },
    {
     "name": "stderr",
     "output_type": "stream",
     "text": [
      "unigram_model_trainer.cc(504) LOG(INFO) EM sub_iter=0 size=30750 obj=313.56 num_tokens=913784 num_tokens/piece=29.7166\n"
     ]
    },
    {
     "name": "stderr",
     "output_type": "stream",
     "text": [
      "unigram_model_trainer.cc(504) LOG(INFO) EM sub_iter=1 size=30747 obj=309.962 num_tokens=914057 num_tokens/piece=29.7283\n"
     ]
    },
    {
     "name": "stderr",
     "output_type": "stream",
     "text": [
      "unigram_model_trainer.cc(504) LOG(INFO) EM sub_iter=0 size=23059 obj=318.774 num_tokens=963241 num_tokens/piece=41.7729\n"
     ]
    },
    {
     "name": "stderr",
     "output_type": "stream",
     "text": [
      "unigram_model_trainer.cc(504) LOG(INFO) EM sub_iter=1 size=23057 obj=315.697 num_tokens=963700 num_tokens/piece=41.7964\n"
     ]
    },
    {
     "name": "stderr",
     "output_type": "stream",
     "text": [
      "unigram_model_trainer.cc(504) LOG(INFO) EM sub_iter=0 size=17292 obj=323.884 num_tokens=1010068 num_tokens/piece=58.4124\n"
     ]
    },
    {
     "name": "stderr",
     "output_type": "stream",
     "text": [
      "unigram_model_trainer.cc(504) LOG(INFO) EM sub_iter=1 size=17291 obj=321.234 num_tokens=1010704 num_tokens/piece=58.4526\n"
     ]
    },
    {
     "name": "stderr",
     "output_type": "stream",
     "text": [
      "unigram_model_trainer.cc(504) LOG(INFO) EM sub_iter=0 size=12968 obj=328.69 num_tokens=1054028 num_tokens/piece=81.2791\n"
     ]
    },
    {
     "name": "stderr",
     "output_type": "stream",
     "text": [
      "unigram_model_trainer.cc(504) LOG(INFO) EM sub_iter=1 size=12968 obj=326.409 num_tokens=1054837 num_tokens/piece=81.3415\n"
     ]
    },
    {
     "name": "stderr",
     "output_type": "stream",
     "text": [
      "unigram_model_trainer.cc(504) LOG(INFO) EM sub_iter=0 size=9726 obj=333.01 num_tokens=1094672 num_tokens/piece=112.551\n"
     ]
    },
    {
     "name": "stderr",
     "output_type": "stream",
     "text": [
      "unigram_model_trainer.cc(504) LOG(INFO) EM sub_iter=1 size=9726 obj=330.859 num_tokens=1095614 num_tokens/piece=112.648\n"
     ]
    },
    {
     "name": "stderr",
     "output_type": "stream",
     "text": [
      "unigram_model_trainer.cc(504) LOG(INFO) EM sub_iter=0 size=7294 obj=336.415 num_tokens=1133128 num_tokens/piece=155.351\n"
     ]
    },
    {
     "name": "stderr",
     "output_type": "stream",
     "text": [
      "unigram_model_trainer.cc(504) LOG(INFO) EM sub_iter=1 size=7294 obj=334.243 num_tokens=1133961 num_tokens/piece=155.465\n"
     ]
    },
    {
     "name": "stderr",
     "output_type": "stream",
     "text": [
      "unigram_model_trainer.cc(504) LOG(INFO) EM sub_iter=0 size=5470 obj=338.81 num_tokens=1170083 num_tokens/piece=213.909\n"
     ]
    },
    {
     "name": "stderr",
     "output_type": "stream",
     "text": [
      "unigram_model_trainer.cc(504) LOG(INFO) EM sub_iter=1 size=5470 obj=335.967 num_tokens=1170771 num_tokens/piece=214.035\n"
     ]
    },
    {
     "name": "stderr",
     "output_type": "stream",
     "text": [
      "unigram_model_trainer.cc(504) LOG(INFO) EM sub_iter=0 size=4102 obj=340.284 num_tokens=1210338 num_tokens/piece=295.06\n"
     ]
    },
    {
     "name": "stderr",
     "output_type": "stream",
     "text": [
      "unigram_model_trainer.cc(504) LOG(INFO) EM sub_iter=1 size=4102 obj=336.901 num_tokens=1210947 num_tokens/piece=295.209\n"
     ]
    },
    {
     "name": "stderr",
     "output_type": "stream",
     "text": [
      "unigram_model_trainer.cc(504) LOG(INFO) EM sub_iter=0 size=3076 obj=341.655 num_tokens=1255820 num_tokens/piece=408.264\n"
     ]
    },
    {
     "name": "stderr",
     "output_type": "stream",
     "text": [
      "unigram_model_trainer.cc(504) LOG(INFO) EM sub_iter=1 size=3076 obj=337.882 num_tokens=1256352 num_tokens/piece=408.437\n"
     ]
    },
    {
     "name": "stderr",
     "output_type": "stream",
     "text": [
      "unigram_model_trainer.cc(504) LOG(INFO) EM sub_iter=0 size=2307 obj=343.05 num_tokens=1304395 num_tokens/piece=565.407\n"
     ]
    },
    {
     "name": "stderr",
     "output_type": "stream",
     "text": [
      "unigram_model_trainer.cc(504) LOG(INFO) EM sub_iter=1 size=2307 obj=338.929 num_tokens=1305034 num_tokens/piece=565.684\n"
     ]
    },
    {
     "name": "stderr",
     "output_type": "stream",
     "text": [
      "unigram_model_trainer.cc(504) LOG(INFO) EM sub_iter=0 size=1730 obj=344.656 num_tokens=1358350 num_tokens/piece=785.173\n"
     ]
    },
    {
     "name": "stderr",
     "output_type": "stream",
     "text": [
      "unigram_model_trainer.cc(504) LOG(INFO) EM sub_iter=1 size=1730 obj=340.109 num_tokens=1359067 num_tokens/piece=785.588\n"
     ]
    },
    {
     "name": "stderr",
     "output_type": "stream",
     "text": [
      "unigram_model_trainer.cc(504) LOG(INFO) EM sub_iter=0 size=1297 obj=345.476 num_tokens=1416700 num_tokens/piece=1092.29\n"
     ]
    },
    {
     "name": "stderr",
     "output_type": "stream",
     "text": [
      "unigram_model_trainer.cc(504) LOG(INFO) EM sub_iter=1 size=1297 obj=340.889 num_tokens=1417578 num_tokens/piece=1092.97\n"
     ]
    },
    {
     "name": "stderr",
     "output_type": "stream",
     "text": [
      "unigram_model_trainer.cc(504) LOG(INFO) EM sub_iter=0 size=972 obj=346.645 num_tokens=1478862 num_tokens/piece=1521.46\n"
     ]
    },
    {
     "name": "stderr",
     "output_type": "stream",
     "text": [
      "unigram_model_trainer.cc(504) LOG(INFO) EM sub_iter=1 size=972 obj=341.636 num_tokens=1479766 num_tokens/piece=1522.39\n"
     ]
    },
    {
     "name": "stderr",
     "output_type": "stream",
     "text": [
      "unigram_model_trainer.cc(504) LOG(INFO) EM sub_iter=0 size=729 obj=347.372 num_tokens=1545098 num_tokens/piece=2119.48\n"
     ]
    },
    {
     "name": "stderr",
     "output_type": "stream",
     "text": [
      "unigram_model_trainer.cc(504) LOG(INFO) EM sub_iter=1 size=729 obj=342.103 num_tokens=1546049 num_tokens/piece=2120.78\n"
     ]
    },
    {
     "name": "stderr",
     "output_type": "stream",
     "text": [
      "unigram_model_trainer.cc(504) LOG(INFO) EM sub_iter=0 size=563 obj=348.055 num_tokens=1608024 num_tokens/piece=2856.17\n"
     ]
    },
    {
     "name": "stderr",
     "output_type": "stream",
     "text": [
      "unigram_model_trainer.cc(504) LOG(INFO) EM sub_iter=1 size=563 obj=342.563 num_tokens=1608846 num_tokens/piece=2857.63\n",
      "trainer_interface.cc(604) LOG(INFO) Saving model: sample.model\n",
      "trainer_interface.cc(615) LOG(INFO) Saving vocabs: sample.vocab\n"
     ]
    },
    {
     "name": "stdout",
     "output_type": "stream",
     "text": [
      "vocab len: 511\n",
      "{'GAGAT': 509, 'TTTTTTTTT': 508, 'TACA': 504, 'TGGGA': 503, 'TTGGT': 502, 'TACTT': 501, 'AGAAT': 500, 'TTGTT': 499, 'AGTA': 498, 'TTTTAT': 497, 'AAATT': 496, 'ATACA': 494, 'TGGAT': 492, 'AAAGG': 491, 'TTCAG': 489, 'C': 487, 'GGCCG': 486, 'GTCCC': 485, 'GTAG': 484, 'TCAGT': 483, 'ATATA': 482, 'GAGTG': 481, 'CCAGA': 480, 'TTGGG': 478, 'GGCGGC': 477, 'TGAC': 476, 'GGGGT': 475, 'TCC': 472, 'GTGT': 470, 'GGGAGG': 469, 'TCTA': 467, 'AAAAAAA': 465, 'TGCC': 464, 'CAAGA': 463, 'TATG': 462, 'CCGGA': 461, 'GGAGA': 459, 'ACCCC': 457, 'TGGCA': 456, 'TTTAA': 455, '▁C': 454, 'CACCC': 453, 'CCCTG': 451, 'AATTA': 448, 'GTCTG': 445, 'ATCC': 444, 'TTTGA': 443, 'ACTA': 442, 'CAT': 441, 'TATAT': 440, 'CCTG': 439, 'TCATT': 438, 'TAACA': 479, 'G': 436, 'GGCG': 435, 'CAAT': 434, 'GAGGCC': 433, 'CGCC': 432, 'CACAC': 431, 'CTTCCT': 430, 'TCCTCC': 429, 'AAT': 428, 'TGGG': 427, 'TGGGT': 426, 'ATTG': 425, 'A': 424, 'AGTTT': 493, 'CAGCT': 423, 'GGAAA': 422, 'AGCAG': 419, 'CCTCA': 418, 'GCTTC': 417, 'CGGCGGCG': 416, 'AGCG': 415, 'GGTC': 414, 'AAACA': 411, 'CGGGA': 409, 'CCAAG': 406, 'ACACA': 405, 'GT': 404, 'CGCCCG': 403, 'TTTCC': 400, 'GGAGGAG': 399, 'TCTGA': 398, 'TCAGA': 397, 'TGGA': 174, 'CCCGG': 395, 'TCACA': 450, 'CGGCGG': 394, 'TAAT': 109, 'CTGTG': 390, 'CTGGG': 40, 'AGAA': 389, 'TTAC': 381, 'GACC': 380, 'TTTC': 407, 'TCAT': 379, 'TGCAG': 377, 'CAA': 376, 'TTCA': 372, 'AAGG': 125, 'AAGTA': 368, 'GGTG': 145, 'TTAGT': 365, 'TTTA': 364, 'TCTTT': 363, 'CTGGA': 361, 'ATGT': 63, 'AGCCA': 359, 'ATA': 386, 'CTTTG': 354, 'GCCG': 224, 'CTGGAG': 351, 'GCAGC': 152, 'GAGCG': 350, 'CCCGGG': 349, 'CTCCT': 159, 'CG': 347, 'GCCGG': 345, 'CTCAG': 343, 'AGGAAG': 340, 'GTTG': 339, 'TAAAT': 306, 'TCGC': 53, 'TAAAA': 334, 'CACTGC': 333, 'CAAAG': 329, 'GCTGCG': 190, 'ATGG': 328, 'GCCTC': 471, 'CATTT': 322, 'GGGA': 164, 'GTGGC': 320, 'AGGGGC': 319, 'TGAAG': 317, 'TCCAG': 315, 'GGAGGG': 353, 'GAGGA': 314, 'CGCGGG': 344, 'TCTGC': 313, 'AGAGA': 311, 'CAG': 369, 'CCGAG': 309, 'TGCCA': 308, 'GTGA': 307, 'TATTTTT': 303, 'CCGA': 458, 'AATAA': 447, 'CCCCGC': 300, 'GCGGCC': 420, 'CAGGT': 153, 'CATC': 269, 'TCAA': 297, 'CGGGG': 260, 'CCCA': 294, 'ACCC': 318, 'TGGAA': 293, 'CCCG': 292, 'CCGC': 342, 'CCAGCC': 291, 'TGCTT': 247, 'CTTG': 276, 'GCTT': 287, 'GGA': 286, 'GGT': 233, 'GCGC': 281, 'CCGGGC': 279, 'TCTCA': 385, 'GAGGGG': 321, 'AGCA': 277, 'ATCA': 275, 'GCAGG': 388, 'TCCCA': 101, 'CCTT': 273, 'GGGAG': 302, 'CGTC': 35, 'ACGT': 50, 'ACAT': 271, 'GAGGT': 488, 'ACTTT': 105, 'TATT': 270, 'CCTGGG': 278, 'AGCTG': 77, 'AAC': 267, 'TGA': 374, 'AAGAA': 266, 'CCTGC': 264, 'CGCT': 263, 'CAGTG': 183, 'TTGAA': 337, 'AAGAT': 262, 'GGCC': 412, 'GTGAC': 261, 'CAGAT': 259, 'AGGAG': 86, 'GTC': 257, 'T': 253, 'CCT': 383, 'TGTT': 216, 'CCGCG': 280, 'ACCTG': 212, 'CCCCTCCC': 252, 'GCT': 65, 'CCCTCC': 251, 'GTGGA': 249, 'TTCTT': 248, 'TAAG': 296, 'CAGG': 62, 'CAGGG': 367, '▁G': 243, 'AAATA': 237, 'AAGA': 235, 'CCAT': 226, 'AGGGA': 242, 'CAACA': 268, 'AAGC': 230, 'AAAA': 336, 'AAG': 229, 'AGGAT': 421, 'CGCCGC': 304, 'CTA': 228, 'GGCTGC': 34, 'AGAAG': 331, 'CGTG': 227, 'TGAG': 225, 'CCACC': 282, 'CACAG': 94, 'CGGGC': 325, 'TGTC': 119, 'CAAAT': 223, 'ATTAA': 375, 'AAAGT': 362, 'CCCCCA': 244, 'GGAA': 200, 'TCGG': 222, 'CACC': 221, 'CCGCC': 220, 'ATCT': 460, 'ACCT': 219, 'CTCCTG': 218, 'GGCCAG': 217, 'TTGT': 90, 'TTTGT': 208, 'AATG': 240, 'TTACA': 335, 'CACCA': 215, 'CTGC': 255, 'TTT': 214, 'CCAGG': 213, 'GACT': 413, 'GCGG': 211, 'TTTCT': 210, 'CC': 148, 'ACC': 209, 'GTCAG': 203, 'GGGGCGGG': 202, 'ATTCA': 201, 'GGGGG': 121, 'TCCC': 199, 'TTATA': 437, 'GCTGGG': 197, 'CCTC': 46, 'ATT': 14, 'TTATTT': 74, 'CTGG': 195, 'CAGGA': 2, 'CGA': 100, 'GGGTT': 193, 'ACAGA': 192, 'GTGC': 191, 'GAAG': 187, 'GCCT': 186, 'TGCA': 185, 'CGG': 184, 'TA': 123, 'ATG': 392, 'GCCGGG': 51, 'GAGG': 70, 'CTCG': 182, 'GTCC': 246, 'CTTC': 144, '▁T': 180, 'CTCA': 150, 'TTCTG': 122, 'GGCTG': 179, 'CTT': 18, 'GCCTCC': 162, 'GGGGGC': 176, 'TTGG': 239, 'CTCAC': 357, 'ACTG': 173, 'AGCT': 172, 'GTG': 310, 'CAGAG': 102, 'CCCCA': 113, 'GAGGAGG': 198, 'TGCT': 171, 'AT': 446, 'TGAA': 204, 'CAGT': 104, 'CCAGC': 170, 'CGCGG': 167, 'CCTCG': 166, 'TTGCT': 256, 'CACGC': 158, 'TTG': 132, 'TCG': 157, 'AC': 25, 'CCCCG': 154, 'GGCA': 178, 'GCAA': 207, 'GGAGC': 155, 'GAC': 149, 'GCCCC': 147, 'ATTAT': 366, 'GCG': 298, 'GGGCC': 142, 'CAAA': 330, 'CCCCGCCCC': 283, 'GGAG': 16, 'GAGGC': 163, 'AAGT': 299, 'ATGA': 139, 'TTCC': 169, 'CCAC': 135, 'TGTG': 56, 'GGCGGGG': 129, 'TTTT': 60, 'GCCCCGCCC': 156, 'TGTAT': 72, 'GGGCGG': 128, 'TCCTG': 95, 'GCGCG': 391, 'AAA': 312, 'ATAA': 131, 'TGGGG': 20, 'TCTGG': 175, 'AGTT': 196, 'GAGCC': 41, 'TGTAA': 116, 'AGA': 138, 'TTA': 236, 'GCCTGG': 80, 'TCCA': 495, 'AGAG': 120, 'GAGT': 67, 'AGGA': 326, 'CGGG': 124, 'TGGT': 118, 'CCGGC': 301, 'TGGGC': 505, 'GAGA': 110, 'CCTGA': 115, 'GAGC': 137, 'ATTT': 378, 'TCT': 136, 'AGCCC': 114, 'AGATG': 231, 'TCCGG': 160, 'CCAG': 112, 'GCCAC': 346, 'TCCCC': 111, 'CGGA': 177, 'GCCTG': 452, 'AATAT': 238, 'CCCGCCCC': 181, 'GGAC': 108, 'GCGCCG': 393, 'CTTCCC': 168, 'GACA': 107, '<pad>': 510, 'AG': 97, 'TTCCA': 92, 'GCAGCC': 89, 'GCAG': 87, '▁A': 289, 'GGGGCG': 39, 'CGCGC': 30, 'GGCTC': 151, 'CGCG': 19, 'CTTT': 188, 'TTCAT': 396, 'TAGAT': 373, 'CCAA': 85, 'ACTT': 84, 'TGTTT': 305, 'ACTGA': 117, 'GGC': 37, 'TTCT': 71, 'GG': 13, 'CTCC': 91, 'CAGC': 98, 'ATAAA': 473, 'ACA': 133, 'GCGGCG': 55, 'CTGCC': 68, 'CGGCGC': 384, 'TCTC': 79, 'CCTCCC': 36, 'CCCGC': 146, 'AA': 194, 'CAAC': 490, 'TTTCA': 387, 'TGAAT': 327, 'CCGT': 323, 'TTTATT': 64, 'AGGC': 288, 'CGCAG': 38, 'TCCTT': 88, 'CAGAA': 449, 'GTT': 316, 'TGAAA': 274, 'GGGCGGG': 468, 'ACAG': 47, 'GCTGG': 96, 'AGGAA': 6, 'AAAAT': 61, 'GTTC': 59, 'CAC': 12, 'GAAC': 82, 'GCTGA': 466, 'TCTGT': 58, '<unk>': 0, 'TC': 57, 'ACCCA': 360, 'CA': 143, 'CTCT': 54, 'GCTCGG': 285, 'GAG': 99, 'AGAC': 73, 'CAGGC': 265, 'GGGAA': 21, 'GCTG': 165, 'CTTCT': 341, 'GAA': 4, 'ACT': 284, 'TGG': 49, 'TCTCC': 205, 'CTGT': 75, 'GATG': 408, 'AACC': 324, 'AAACT': 83, 'GTCAC': 161, 'ACCA': 66, 'GGGTG': 272, 'TGAT': 44, 'CCTGG': 189, 'CTCTG': 402, 'TCCCT': 69, 'GC': 15, 'ACG': 141, 'AGC': 250, 'AGGTG': 234, 'AGG': 410, 'AGGT': 140, 'CGGGGC': 42, 'CTC': 93, 'AAAGA': 76, 'CCCAG': 134, 'AGGG': 23, 'GGGGCGGGGC': 126, 'GTGG': 11, 'GCTCC': 258, 'CGGGCG': 52, 'AAGTG': 355, 'CACT': 5, 'TTCCT': 33, 'AGT': 382, 'GTAA': 371, 'CT': 28, 'GCA': 29, 'GTGTG': 474, 'TCA': 241, 'TGGCT': 45, 'GGCT': 352, 'TAACT': 401, 'TAT': 332, 'TCTT': 31, 'GCCC': 106, 'ACAA': 103, 'CTCCA': 338, 'GTCT': 507, 'CCTTC': 26, 'TTAAA': 232, 'TGT': 24, 'TTTG': 81, 'TTC': 245, 'CGGCG': 506, 'GCC': 130, 'CATCT': 32, 'GGGGA': 27, 'GCAC': 348, 'ACTC': 8, 'TAATTT': 370, 'CGT': 78, 'CCCT': 22, 'CATG': 358, 'TGC': 43, 'ATCTG': 290, 'TG': 127, 'AGTC': 295, 'AGAAA': 17, 'GAGAC': 48, 'CTG': 254, 'GA': 9, 'TAG': 10, 'TCCT': 7, 'ACCAT': 356, 'ATC': 3, 'GTA': 206, '▁': 1}\n"
     ]
    }
   ],
   "source": [
    "tokenizer = get_tokenizer(config['tokenizer'])\n",
    "tokenizer.train(train_dset=train_dset, vocab_size=VOCAB_SIZE, kmer=KMER)\n",
    "vocabulary = build_vocab(train_dset, tokenizer, use_padding=config[\"use_padding\"])\n",
    "\n",
    "print(\"vocab len:\" ,vocabulary.__len__())\n",
    "print(vocabulary.get_stoi())"
   ]
  },
  {
   "cell_type": "markdown",
   "id": "370792c1",
   "metadata": {
    "id": "3hGQpSJA5kdT",
    "papermill": {
     "duration": 0.045314,
     "end_time": "2022-01-07T12:44:43.377100",
     "exception": false,
     "start_time": "2022-01-07T12:44:43.331786",
     "status": "completed"
    },
    "tags": []
   },
   "source": [
    "## Dataloader and batch preparation"
   ]
  },
  {
   "cell_type": "code",
   "execution_count": 8,
   "id": "547f4e39",
   "metadata": {
    "colab": {
     "base_uri": "https://localhost:8080/"
    },
    "execution": {
     "iopub.execute_input": "2022-01-07T12:44:43.487385Z",
     "iopub.status.busy": "2022-01-07T12:44:43.485974Z",
     "iopub.status.idle": "2022-01-07T12:45:03.432620Z",
     "shell.execute_reply": "2022-01-07T12:45:03.433402Z"
    },
    "id": "gXUgPH6q5kdT",
    "outputId": "a1eb6ba2-9bcd-416d-8662-e3516121da96",
    "papermill": {
     "duration": 20.013358,
     "end_time": "2022-01-07T12:45:03.433688",
     "exception": false,
     "start_time": "2022-01-07T12:44:43.420330",
     "status": "completed"
    },
    "tags": []
   },
   "outputs": [
    {
     "name": "stdout",
     "output_type": "stream",
     "text": [
      "Using cpu device\n"
     ]
    },
    {
     "name": "stdout",
     "output_type": "stream",
     "text": [
      "max_tok_len  68\n"
     ]
    },
    {
     "name": "stdout",
     "output_type": "stream",
     "text": [
      "not all sequences are of the same length\n"
     ]
    }
   ],
   "source": [
    "# Run on GPU or CPU\n",
    "device = 'cuda' if config[\"run_on_gpu\"] and torch.cuda.is_available() else 'cpu'\n",
    "print('Using {} device'.format(device))\n",
    "\n",
    "max_tok_len = check_seq_lengths(dataset=train_dset, tokenizer=tokenizer)\n",
    "\n",
    "# Data Loader\n",
    "collate = coll_factory(vocabulary, tokenizer, device, pad_to_length = max_tok_len)\n",
    "\n",
    "train_loader = DataLoader(train_dset, batch_size=config[\"batch_size\"], shuffle=True, collate_fn=collate)"
   ]
  },
  {
   "cell_type": "code",
   "execution_count": 9,
   "id": "2f515fea",
   "metadata": {
    "execution": {
     "iopub.execute_input": "2022-01-07T12:45:03.530016Z",
     "iopub.status.busy": "2022-01-07T12:45:03.526626Z",
     "iopub.status.idle": "2022-01-07T12:45:03.549853Z",
     "shell.execute_reply": "2022-01-07T12:45:03.550506Z"
    },
    "papermill": {
     "duration": 0.076001,
     "end_time": "2022-01-07T12:45:03.550914",
     "exception": false,
     "start_time": "2022-01-07T12:45:03.474913",
     "status": "completed"
    },
    "tags": []
   },
   "outputs": [
    {
     "data": {
      "text/plain": [
       "['▁',\n",
       " 'CAC',\n",
       " 'TCTGT',\n",
       " 'GTTC',\n",
       " 'TTTT',\n",
       " 'AAAAT',\n",
       " 'CCCT',\n",
       " 'CAGG',\n",
       " 'TTTT',\n",
       " 'ATGT',\n",
       " 'TTTATT',\n",
       " 'GCT',\n",
       " 'ACCA',\n",
       " 'GAGT',\n",
       " 'CTGCC',\n",
       " 'TCCCT',\n",
       " 'GAGG',\n",
       " 'TTCT',\n",
       " 'TGTAT',\n",
       " 'AGAC',\n",
       " 'TAG',\n",
       " 'TTATTT',\n",
       " 'CCCT',\n",
       " 'CTGT',\n",
       " 'AAAGA',\n",
       " 'AGCTG',\n",
       " 'TTCT',\n",
       " 'ATT',\n",
       " 'CGT',\n",
       " 'TCTC',\n",
       " 'GCCTGG',\n",
       " 'TTTG',\n",
       " 'GAAC',\n",
       " 'AAACT',\n",
       " 'GAAC',\n",
       " 'ACTT',\n",
       " 'CCAA',\n",
       " 'AGGAG',\n",
       " 'GCAG',\n",
       " 'TCCTT',\n",
       " 'GCAGCC',\n",
       " 'TTGT',\n",
       " 'CTCC',\n",
       " 'TTCCA',\n",
       " 'CTC',\n",
       " 'CCCT',\n",
       " 'CCTCCC',\n",
       " 'CACAG',\n",
       " 'TCCTG',\n",
       " 'GCTGG',\n",
       " 'AG',\n",
       " 'CAGC',\n",
       " 'GAG',\n",
       " 'TCTGT',\n",
       " 'CGA',\n",
       " 'TCCCA',\n",
       " 'GGC',\n",
       " 'CAGAG',\n",
       " 'ACAA',\n",
       " 'GGC']"
      ]
     },
     "execution_count": 9,
     "metadata": {},
     "output_type": "execute_result"
    }
   ],
   "source": [
    "tokenizer(train_dset[1][0])"
   ]
  },
  {
   "cell_type": "markdown",
   "id": "72156e31",
   "metadata": {
    "id": "sTTomnnP5kdU",
    "papermill": {
     "duration": 0.035744,
     "end_time": "2022-01-07T12:45:03.633725",
     "exception": false,
     "start_time": "2022-01-07T12:45:03.597981",
     "status": "completed"
    },
    "tags": []
   },
   "source": [
    "## Model"
   ]
  },
  {
   "cell_type": "code",
   "execution_count": 10,
   "id": "cdb90300",
   "metadata": {
    "execution": {
     "iopub.execute_input": "2022-01-07T12:45:03.716565Z",
     "iopub.status.busy": "2022-01-07T12:45:03.715817Z",
     "iopub.status.idle": "2022-01-07T12:45:03.732533Z",
     "shell.execute_reply": "2022-01-07T12:45:03.733184Z"
    },
    "id": "ZNuXGIdD5kdU",
    "papermill": {
     "duration": 0.060873,
     "end_time": "2022-01-07T12:45:03.733390",
     "exception": false,
     "start_time": "2022-01-07T12:45:03.672517",
     "status": "completed"
    },
    "tags": []
   },
   "outputs": [],
   "source": [
    "model = CNN(\n",
    "    number_of_classes=config[\"number_of_classes\"],\n",
    "    vocab_size=vocabulary.__len__(),\n",
    "    embedding_dim=config[\"embedding_dim\"],\n",
    "    input_len=max_tok_len\n",
    ").to(device)"
   ]
  },
  {
   "cell_type": "markdown",
   "id": "237a64f3",
   "metadata": {
    "id": "1pqIm92h5kdV",
    "papermill": {
     "duration": 0.039152,
     "end_time": "2022-01-07T12:45:03.808494",
     "exception": false,
     "start_time": "2022-01-07T12:45:03.769342",
     "status": "completed"
    },
    "tags": []
   },
   "source": [
    "## Training"
   ]
  },
  {
   "cell_type": "code",
   "execution_count": 11,
   "id": "f5c88404",
   "metadata": {
    "colab": {
     "base_uri": "https://localhost:8080/"
    },
    "execution": {
     "iopub.execute_input": "2022-01-07T12:45:04.029142Z",
     "iopub.status.busy": "2022-01-07T12:45:04.028061Z",
     "iopub.status.idle": "2022-01-07T12:49:18.657785Z",
     "shell.execute_reply": "2022-01-07T12:49:18.659232Z"
    },
    "id": "uvO_-RFm5kdV",
    "outputId": "7799e5f9-78a7-4ef2-95e8-f06751912eda",
    "papermill": {
     "duration": 254.759989,
     "end_time": "2022-01-07T12:49:18.660963",
     "exception": false,
     "start_time": "2022-01-07T12:45:03.900974",
     "status": "completed"
    },
    "tags": []
   },
   "outputs": [
    {
     "name": "stdout",
     "output_type": "stream",
     "text": [
      "Epoch 0\n"
     ]
    },
    {
     "name": "stderr",
     "output_type": "stream",
     "text": [
      "/Users/katarina/Documents/repositories/GitHub/GLP/src/glp/tokenizers/utils.py:27: UserWarning: To copy construct from a tensor, it is recommended to use sourceTensor.clone().detach() or sourceTensor.clone().detach().requires_grad_(True), rather than torch.tensor(sourceTensor).\n",
      "  x = torch.tensor(pad(x), dtype=torch.long)\n"
     ]
    },
    {
     "name": "stdout",
     "output_type": "stream",
     "text": [
      "Train metrics: \n",
      " Accuracy: 81.2%, Avg loss: 0.610312 \n",
      "\n",
      "Epoch 1\n"
     ]
    },
    {
     "name": "stdout",
     "output_type": "stream",
     "text": [
      "Train metrics: \n",
      " Accuracy: 83.9%, Avg loss: 0.597607 \n",
      "\n",
      "Epoch 2\n"
     ]
    },
    {
     "name": "stdout",
     "output_type": "stream",
     "text": [
      "Train metrics: \n",
      " Accuracy: 85.3%, Avg loss: 0.590449 \n",
      "\n",
      "Epoch 3\n"
     ]
    },
    {
     "name": "stdout",
     "output_type": "stream",
     "text": [
      "Train metrics: \n",
      " Accuracy: 85.5%, Avg loss: 0.586315 \n",
      "\n",
      "Epoch 4\n"
     ]
    },
    {
     "name": "stdout",
     "output_type": "stream",
     "text": [
      "Train metrics: \n",
      " Accuracy: 87.6%, Avg loss: 0.579760 \n",
      "\n"
     ]
    }
   ],
   "source": [
    "model.train(train_loader, epochs=config[\"epochs\"])"
   ]
  },
  {
   "cell_type": "markdown",
   "id": "6a218533",
   "metadata": {
    "id": "bR2tamrc5kdV",
    "papermill": {
     "duration": 0.176955,
     "end_time": "2022-01-07T12:49:19.018483",
     "exception": false,
     "start_time": "2022-01-07T12:49:18.841528",
     "status": "completed"
    },
    "tags": []
   },
   "source": [
    "## Testing"
   ]
  },
  {
   "cell_type": "code",
   "execution_count": 12,
   "id": "8090e484",
   "metadata": {
    "colab": {
     "base_uri": "https://localhost:8080/"
    },
    "execution": {
     "iopub.execute_input": "2022-01-07T12:49:19.302468Z",
     "iopub.status.busy": "2022-01-07T12:49:19.299030Z",
     "iopub.status.idle": "2022-01-07T12:49:27.498134Z",
     "shell.execute_reply": "2022-01-07T12:49:27.498881Z"
    },
    "id": "wbnciyRK5kdW",
    "outputId": "d2592f9d-f074-465f-95f8-df3b759ae068",
    "papermill": {
     "duration": 8.339262,
     "end_time": "2022-01-07T12:49:27.499230",
     "exception": false,
     "start_time": "2022-01-07T12:49:19.159968",
     "status": "completed"
    },
    "tags": []
   },
   "outputs": [
    {
     "name": "stdout",
     "output_type": "stream",
     "text": [
      "p  4119 ; tp  3249.4982612133026 ; fp  735.1371777020712\n",
      "recall  0.7889046519090319 ; precision  0.8155070422447035\n",
      "num_batches 283\n",
      "correct 7443\n",
      "size 9034\n",
      "Test metrics: \n",
      " Accuracy: 0.823888, F1 score: 0.801985, Avg loss: 0.605444 \n",
      "\n"
     ]
    },
    {
     "data": {
      "text/plain": [
       "(0.8238875359752048, 0.8019853029440401)"
      ]
     },
     "execution_count": 12,
     "metadata": {},
     "output_type": "execute_result"
    }
   ],
   "source": [
    "test_dset = get_dataset(config[\"dataset\"], 'test')\n",
    "test_loader = DataLoader(test_dset, batch_size=config[\"batch_size\"], shuffle=True, collate_fn=collate)\n",
    "\n",
    "acc, f1 = model.test(test_loader)\n",
    "acc, f1"
   ]
  }
 ],
 "metadata": {
  "accelerator": "TPU",
  "colab": {
   "name": "torch_cnn_classifier.ipynb",
   "provenance": []
  },
  "environment": {
   "name": "pytorch-gpu.1-9.m75",
   "type": "gcloud",
   "uri": "gcr.io/deeplearning-platform-release/pytorch-gpu.1-9:m75"
  },
  "interpreter": {
   "hash": "9828b828580f1cac1b571b33de6cff8bacecc8916095e1bcbc967952ca7105b7"
  },
  "kernelspec": {
   "display_name": "Python 3",
   "name": "python3"
  },
  "language_info": {
   "codemirror_mode": {
    "name": "ipython",
    "version": 3
   },
   "file_extension": ".py",
   "mimetype": "text/x-python",
   "name": "python",
   "nbconvert_exporter": "python",
   "pygments_lexer": "ipython3",
   "version": "3.8.9"
  },
  "papermill": {
   "default_parameters": {},
   "duration": 697.743843,
   "end_time": "2022-01-07T12:49:28.597987",
   "environment_variables": {},
   "exception": null,
   "input_path": "torch_cnn.ipynb",
   "output_path": "../torch_cnn_experiments/human_nontata_promoters_subword_512.ipynb",
   "parameters": {
    "DATASET": "human_nontata_promoters",
    "TOKENIZER": "subword",
    "VOCAB_SIZE": 512
   },
   "start_time": "2022-01-07T12:37:50.854144",
   "version": "2.3.3"
  }
 },
 "nbformat": 4,
 "nbformat_minor": 5
}