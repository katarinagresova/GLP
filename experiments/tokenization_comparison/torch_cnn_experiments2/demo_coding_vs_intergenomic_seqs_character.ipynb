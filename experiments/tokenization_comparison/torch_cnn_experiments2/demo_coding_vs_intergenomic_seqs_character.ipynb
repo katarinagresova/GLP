{
 "cells": [
  {
   "cell_type": "markdown",
   "id": "6757bad6",
   "metadata": {
    "id": "SKOD9lvq5kdM",
    "papermill": {
     "duration": 0.019234,
     "end_time": "2022-01-06T17:17:58.928577",
     "exception": false,
     "start_time": "2022-01-06T17:17:58.909343",
     "status": "completed"
    },
    "tags": []
   },
   "source": [
    "# PYTORCH CNN Classifier"
   ]
  },
  {
   "cell_type": "code",
   "execution_count": 1,
   "id": "9ac6bce8",
   "metadata": {
    "execution": {
     "iopub.execute_input": "2022-01-06T17:17:58.969268Z",
     "iopub.status.busy": "2022-01-06T17:17:58.968063Z",
     "iopub.status.idle": "2022-01-06T17:17:58.972777Z",
     "shell.execute_reply": "2022-01-06T17:17:58.973605Z"
    },
    "id": "E8prt3AL5kdO",
    "papermill": {
     "duration": 0.030429,
     "end_time": "2022-01-06T17:17:58.973978",
     "exception": false,
     "start_time": "2022-01-06T17:17:58.943549",
     "status": "completed"
    },
    "tags": [
     "parameters"
    ]
   },
   "outputs": [],
   "source": [
    "DATASET = 'none'\n",
    "VOCAB_SIZE = 0\n",
    "TOKENIZER = 'none'\n",
    "KMER = 0"
   ]
  },
  {
   "cell_type": "code",
   "execution_count": 2,
   "id": "bf7b20be",
   "metadata": {
    "execution": {
     "iopub.execute_input": "2022-01-06T17:17:59.010134Z",
     "iopub.status.busy": "2022-01-06T17:17:59.009137Z",
     "iopub.status.idle": "2022-01-06T17:17:59.011631Z",
     "shell.execute_reply": "2022-01-06T17:17:59.012106Z"
    },
    "papermill": {
     "duration": 0.022908,
     "end_time": "2022-01-06T17:17:59.012367",
     "exception": false,
     "start_time": "2022-01-06T17:17:58.989459",
     "status": "completed"
    },
    "tags": [
     "injected-parameters"
    ]
   },
   "outputs": [],
   "source": [
    "# Parameters\n",
    "DATASET = \"demo_coding_vs_intergenomic_seqs\"\n",
    "TOKENIZER = \"character\"\n"
   ]
  },
  {
   "cell_type": "code",
   "execution_count": 3,
   "id": "a622d52f",
   "metadata": {
    "colab": {
     "base_uri": "https://localhost:8080/"
    },
    "execution": {
     "iopub.execute_input": "2022-01-06T17:17:59.044575Z",
     "iopub.status.busy": "2022-01-06T17:17:59.043673Z",
     "iopub.status.idle": "2022-01-06T17:17:59.047045Z",
     "shell.execute_reply": "2022-01-06T17:17:59.047508Z"
    },
    "id": "rohBItfR5kdP",
    "outputId": "7da7aafe-0858-48be-bf7d-f698784d88df",
    "papermill": {
     "duration": 0.021625,
     "end_time": "2022-01-06T17:17:59.047793",
     "exception": false,
     "start_time": "2022-01-06T17:17:59.026168",
     "status": "completed"
    },
    "tags": []
   },
   "outputs": [
    {
     "name": "stdout",
     "output_type": "stream",
     "text": [
      "demo_coding_vs_intergenomic_seqs 0 character 0\n"
     ]
    }
   ],
   "source": [
    "print(DATASET, VOCAB_SIZE, TOKENIZER, KMER)"
   ]
  },
  {
   "cell_type": "markdown",
   "id": "d1e8dbae",
   "metadata": {
    "id": "Y-YQrVyb5kdQ",
    "papermill": {
     "duration": 0.017046,
     "end_time": "2022-01-06T17:17:59.079179",
     "exception": false,
     "start_time": "2022-01-06T17:17:59.062133",
     "status": "completed"
    },
    "tags": []
   },
   "source": [
    "## Config"
   ]
  },
  {
   "cell_type": "code",
   "execution_count": 4,
   "id": "5062434e",
   "metadata": {
    "execution": {
     "iopub.execute_input": "2022-01-06T17:17:59.113257Z",
     "iopub.status.busy": "2022-01-06T17:17:59.112331Z",
     "iopub.status.idle": "2022-01-06T17:18:00.541402Z",
     "shell.execute_reply": "2022-01-06T17:18:00.541967Z"
    },
    "id": "FIunuyGk5kdR",
    "papermill": {
     "duration": 1.448411,
     "end_time": "2022-01-06T17:18:00.542204",
     "exception": false,
     "start_time": "2022-01-06T17:17:59.093793",
     "status": "completed"
    },
    "tags": []
   },
   "outputs": [],
   "source": [
    "import torch\n",
    "from torch.utils.data import DataLoader\n",
    "\n",
    "from genomic_benchmarks.dataset_getters.pytorch_datasets import get_dataset\n",
    "from glp.models import CNN\n",
    "from glp.tokenizers import get_tokenizer\n",
    "from glp.tokenizers.utils import build_vocab, coll_factory, check_config, check_seq_lengths"
   ]
  },
  {
   "cell_type": "code",
   "execution_count": 5,
   "id": "8818cc4b",
   "metadata": {
    "execution": {
     "iopub.execute_input": "2022-01-06T17:18:00.583688Z",
     "iopub.status.busy": "2022-01-06T17:18:00.582831Z",
     "iopub.status.idle": "2022-01-06T17:18:00.585433Z",
     "shell.execute_reply": "2022-01-06T17:18:00.586087Z"
    },
    "id": "UgXiF6Zz5kdR",
    "papermill": {
     "duration": 0.028802,
     "end_time": "2022-01-06T17:18:00.586323",
     "exception": false,
     "start_time": "2022-01-06T17:18:00.557521",
     "status": "completed"
    },
    "tags": []
   },
   "outputs": [],
   "source": [
    "config = {\n",
    "    \"dataset\": DATASET,\n",
    "    \"tokenizer\": TOKENIZER,\n",
    "    \"dataset_version\": 0,\n",
    "    \"epochs\": 5,\n",
    "    \"batch_size\": 32,\n",
    "    \"use_padding\": True,\n",
    "    \"force_download\": False,\n",
    "    \"run_on_gpu\": True,\n",
    "    \"number_of_classes\": 2,\n",
    "    \"embedding_dim\": 100,\n",
    "}\n",
    "check_config(config)"
   ]
  },
  {
   "cell_type": "markdown",
   "id": "ba04e43f",
   "metadata": {
    "id": "AUWF-avz5kdS",
    "papermill": {
     "duration": 0.014917,
     "end_time": "2022-01-06T17:18:00.616013",
     "exception": false,
     "start_time": "2022-01-06T17:18:00.601096",
     "status": "completed"
    },
    "tags": []
   },
   "source": [
    "## Choose the dataset"
   ]
  },
  {
   "cell_type": "code",
   "execution_count": 6,
   "id": "b7846316",
   "metadata": {
    "colab": {
     "base_uri": "https://localhost:8080/"
    },
    "execution": {
     "iopub.execute_input": "2022-01-06T17:18:00.651899Z",
     "iopub.status.busy": "2022-01-06T17:18:00.650634Z",
     "iopub.status.idle": "2022-01-06T17:18:01.392433Z",
     "shell.execute_reply": "2022-01-06T17:18:01.393335Z"
    },
    "id": "1oaryDJr5kdS",
    "outputId": "6a425df9-4092-4601-9cd9-f61d524b6278",
    "papermill": {
     "duration": 0.762626,
     "end_time": "2022-01-06T17:18:01.393657",
     "exception": false,
     "start_time": "2022-01-06T17:18:00.631031",
     "status": "completed"
    },
    "tags": []
   },
   "outputs": [],
   "source": [
    "train_dset = get_dataset(config[\"dataset\"], 'train')"
   ]
  },
  {
   "cell_type": "markdown",
   "id": "c4eb045a",
   "metadata": {
    "id": "B0lqmy935kdS",
    "papermill": {
     "duration": 0.018731,
     "end_time": "2022-01-06T17:18:01.427290",
     "exception": false,
     "start_time": "2022-01-06T17:18:01.408559",
     "status": "completed"
    },
    "tags": []
   },
   "source": [
    "## Tokenizer and vocab"
   ]
  },
  {
   "cell_type": "code",
   "execution_count": 7,
   "id": "d2a8a1f4",
   "metadata": {
    "colab": {
     "base_uri": "https://localhost:8080/"
    },
    "execution": {
     "iopub.execute_input": "2022-01-06T17:18:01.463533Z",
     "iopub.status.busy": "2022-01-06T17:18:01.462214Z",
     "iopub.status.idle": "2022-01-06T17:18:32.859454Z",
     "shell.execute_reply": "2022-01-06T17:18:32.859974Z"
    },
    "id": "NY_zualp5kdT",
    "outputId": "9034d65f-2f9a-4c83-a314-13d3b808fc65",
    "papermill": {
     "duration": 31.417658,
     "end_time": "2022-01-06T17:18:32.860187",
     "exception": false,
     "start_time": "2022-01-06T17:18:01.442529",
     "status": "completed"
    },
    "tags": []
   },
   "outputs": [
    {
     "name": "stdout",
     "output_type": "stream",
     "text": [
      "vocab len: 8\n",
      "{'<eos>': 6, 'G': 2, '<pad>': 7, '<unk>': 0, '<bos>': 1, 'T': 4, 'C': 5, 'A': 3}\n"
     ]
    }
   ],
   "source": [
    "tokenizer = get_tokenizer(config['tokenizer'])\n",
    "tokenizer.train(train_dset=train_dset, vocab_size=VOCAB_SIZE, kmer=KMER)\n",
    "vocabulary = build_vocab(train_dset, tokenizer, use_padding=config[\"use_padding\"])\n",
    "\n",
    "print(\"vocab len:\" ,vocabulary.__len__())\n",
    "print(vocabulary.get_stoi())"
   ]
  },
  {
   "cell_type": "markdown",
   "id": "1ab92a76",
   "metadata": {
    "id": "3hGQpSJA5kdT",
    "papermill": {
     "duration": 0.030935,
     "end_time": "2022-01-06T17:18:32.912691",
     "exception": false,
     "start_time": "2022-01-06T17:18:32.881756",
     "status": "completed"
    },
    "tags": []
   },
   "source": [
    "## Dataloader and batch preparation"
   ]
  },
  {
   "cell_type": "code",
   "execution_count": 8,
   "id": "04b0c56e",
   "metadata": {
    "colab": {
     "base_uri": "https://localhost:8080/"
    },
    "execution": {
     "iopub.execute_input": "2022-01-06T17:18:32.957465Z",
     "iopub.status.busy": "2022-01-06T17:18:32.953902Z",
     "iopub.status.idle": "2022-01-06T17:19:18.683296Z",
     "shell.execute_reply": "2022-01-06T17:19:18.711556Z"
    },
    "id": "gXUgPH6q5kdT",
    "outputId": "a1eb6ba2-9bcd-416d-8662-e3516121da96",
    "papermill": {
     "duration": 45.788047,
     "end_time": "2022-01-06T17:19:18.719451",
     "exception": false,
     "start_time": "2022-01-06T17:18:32.931404",
     "status": "completed"
    },
    "tags": []
   },
   "outputs": [
    {
     "name": "stdout",
     "output_type": "stream",
     "text": [
      "Using cpu device\n"
     ]
    },
    {
     "name": "stdout",
     "output_type": "stream",
     "text": [
      "max_tok_len  202\n"
     ]
    }
   ],
   "source": [
    "# Run on GPU or CPU\n",
    "device = 'cuda' if config[\"run_on_gpu\"] and torch.cuda.is_available() else 'cpu'\n",
    "print('Using {} device'.format(device))\n",
    "\n",
    "max_tok_len = check_seq_lengths(dataset=train_dset, tokenizer=tokenizer)\n",
    "\n",
    "# Data Loader\n",
    "collate = coll_factory(vocabulary, tokenizer, device, pad_to_length = max_tok_len)\n",
    "\n",
    "train_loader = DataLoader(train_dset, batch_size=config[\"batch_size\"], shuffle=True, collate_fn=collate)"
   ]
  },
  {
   "cell_type": "code",
   "execution_count": 9,
   "id": "9b49f2af",
   "metadata": {
    "execution": {
     "iopub.execute_input": "2022-01-06T17:19:18.842669Z",
     "iopub.status.busy": "2022-01-06T17:19:18.839296Z",
     "iopub.status.idle": "2022-01-06T17:19:18.867918Z",
     "shell.execute_reply": "2022-01-06T17:19:18.869134Z"
    },
    "papermill": {
     "duration": 0.124853,
     "end_time": "2022-01-06T17:19:18.870995",
     "exception": false,
     "start_time": "2022-01-06T17:19:18.746142",
     "status": "completed"
    },
    "tags": []
   },
   "outputs": [
    {
     "data": {
      "text/plain": [
       "['<bos>',\n",
       " 'C',\n",
       " 'C',\n",
       " 'A',\n",
       " 'T',\n",
       " 'C',\n",
       " 'C',\n",
       " 'G',\n",
       " 'A',\n",
       " 'G',\n",
       " 'T',\n",
       " 'G',\n",
       " 'T',\n",
       " 'C',\n",
       " 'C',\n",
       " 'T',\n",
       " 'A',\n",
       " 'G',\n",
       " 'T',\n",
       " 'G',\n",
       " 'A',\n",
       " 'A',\n",
       " 'T',\n",
       " 'C',\n",
       " 'T',\n",
       " 'G',\n",
       " 'C',\n",
       " 'A',\n",
       " 'G',\n",
       " 'C',\n",
       " 'C',\n",
       " 'C',\n",
       " 'A',\n",
       " 'G',\n",
       " 'A',\n",
       " 'T',\n",
       " 'G',\n",
       " 'G',\n",
       " 'G',\n",
       " 'C',\n",
       " 'T',\n",
       " 'C',\n",
       " 'A',\n",
       " 'C',\n",
       " 'G',\n",
       " 'T',\n",
       " 'T',\n",
       " 'T',\n",
       " 'C',\n",
       " 'C',\n",
       " 'C',\n",
       " 'T',\n",
       " 'G',\n",
       " 'T',\n",
       " 'G',\n",
       " 'T',\n",
       " 'A',\n",
       " 'C',\n",
       " 'C',\n",
       " 'C',\n",
       " 'C',\n",
       " 'A',\n",
       " 'C',\n",
       " 'A',\n",
       " 'T',\n",
       " 'G',\n",
       " 'C',\n",
       " 'C',\n",
       " 'C',\n",
       " 'A',\n",
       " 'C',\n",
       " 'T',\n",
       " 'G',\n",
       " 'A',\n",
       " 'G',\n",
       " 'C',\n",
       " 'C',\n",
       " 'C',\n",
       " 'C',\n",
       " 'G',\n",
       " 'A',\n",
       " 'A',\n",
       " 'G',\n",
       " 'T',\n",
       " 'G',\n",
       " 'G',\n",
       " 'T',\n",
       " 'T',\n",
       " 'G',\n",
       " 'C',\n",
       " 'C',\n",
       " 'C',\n",
       " 'A',\n",
       " 'G',\n",
       " 'A',\n",
       " 'C',\n",
       " 'C',\n",
       " 'C',\n",
       " 'C',\n",
       " 'T',\n",
       " 'T',\n",
       " 'A',\n",
       " 'C',\n",
       " 'C',\n",
       " 'C',\n",
       " 'A',\n",
       " 'G',\n",
       " 'A',\n",
       " 'C',\n",
       " 'C',\n",
       " 'C',\n",
       " 'C',\n",
       " 'G',\n",
       " 'G',\n",
       " 'G',\n",
       " 'C',\n",
       " 'T',\n",
       " 'G',\n",
       " 'A',\n",
       " 'A',\n",
       " 'A',\n",
       " 'G',\n",
       " 'A',\n",
       " 'A',\n",
       " 'C',\n",
       " 'C',\n",
       " 'T',\n",
       " 'T',\n",
       " 'G',\n",
       " 'T',\n",
       " 'G',\n",
       " 'T',\n",
       " 'G',\n",
       " 'G',\n",
       " 'T',\n",
       " 'T',\n",
       " 'T',\n",
       " 'A',\n",
       " 'A',\n",
       " 'T',\n",
       " 'C',\n",
       " 'T',\n",
       " 'C',\n",
       " 'A',\n",
       " 'G',\n",
       " 'A',\n",
       " 'G',\n",
       " 'C',\n",
       " 'A',\n",
       " 'G',\n",
       " 'A',\n",
       " 'G',\n",
       " 'T',\n",
       " 'C',\n",
       " 'C',\n",
       " 'T',\n",
       " 'C',\n",
       " 'T',\n",
       " 'G',\n",
       " 'A',\n",
       " 'G',\n",
       " 'C',\n",
       " 'T',\n",
       " 'G',\n",
       " 'G',\n",
       " 'A',\n",
       " 'G',\n",
       " 'A',\n",
       " 'T',\n",
       " 'G',\n",
       " 'T',\n",
       " 'T',\n",
       " 'T',\n",
       " 'G',\n",
       " 'A',\n",
       " 'T',\n",
       " 'T',\n",
       " 'G',\n",
       " 'A',\n",
       " 'G',\n",
       " 'A',\n",
       " 'G',\n",
       " 'A',\n",
       " 'C',\n",
       " 'T',\n",
       " 'G',\n",
       " 'C',\n",
       " 'C',\n",
       " 'G',\n",
       " 'G',\n",
       " 'A',\n",
       " 'G',\n",
       " 'G',\n",
       " 'G',\n",
       " 'G',\n",
       " 'C',\n",
       " 'C',\n",
       " 'T',\n",
       " 'C',\n",
       " 'C',\n",
       " 'C',\n",
       " '<eos>']"
      ]
     },
     "execution_count": 9,
     "metadata": {},
     "output_type": "execute_result"
    }
   ],
   "source": [
    "tokenizer(train_dset[1][0])"
   ]
  },
  {
   "cell_type": "markdown",
   "id": "2f43ff90",
   "metadata": {
    "id": "sTTomnnP5kdU",
    "papermill": {
     "duration": 0.038127,
     "end_time": "2022-01-06T17:19:18.948983",
     "exception": false,
     "start_time": "2022-01-06T17:19:18.910856",
     "status": "completed"
    },
    "tags": []
   },
   "source": [
    "## Model"
   ]
  },
  {
   "cell_type": "code",
   "execution_count": 10,
   "id": "1dbc21c9",
   "metadata": {
    "execution": {
     "iopub.execute_input": "2022-01-06T17:19:19.040082Z",
     "iopub.status.busy": "2022-01-06T17:19:19.035069Z",
     "iopub.status.idle": "2022-01-06T17:19:19.084978Z",
     "shell.execute_reply": "2022-01-06T17:19:19.085905Z"
    },
    "id": "ZNuXGIdD5kdU",
    "papermill": {
     "duration": 0.089839,
     "end_time": "2022-01-06T17:19:19.086344",
     "exception": false,
     "start_time": "2022-01-06T17:19:18.996505",
     "status": "completed"
    },
    "tags": []
   },
   "outputs": [],
   "source": [
    "model = CNN(\n",
    "    number_of_classes=config[\"number_of_classes\"],\n",
    "    vocab_size=vocabulary.__len__(),\n",
    "    embedding_dim=config[\"embedding_dim\"],\n",
    "    input_len=max_tok_len\n",
    ").to(device)"
   ]
  },
  {
   "cell_type": "markdown",
   "id": "8741e479",
   "metadata": {
    "id": "1pqIm92h5kdV",
    "papermill": {
     "duration": 0.032093,
     "end_time": "2022-01-06T17:19:19.163942",
     "exception": false,
     "start_time": "2022-01-06T17:19:19.131849",
     "status": "completed"
    },
    "tags": []
   },
   "source": [
    "## Training"
   ]
  },
  {
   "cell_type": "code",
   "execution_count": 11,
   "id": "58e2d0c3",
   "metadata": {
    "colab": {
     "base_uri": "https://localhost:8080/"
    },
    "execution": {
     "iopub.execute_input": "2022-01-06T17:19:19.360064Z",
     "iopub.status.busy": "2022-01-06T17:19:19.350988Z",
     "iopub.status.idle": "2022-01-06T17:34:41.468802Z",
     "shell.execute_reply": "2022-01-06T17:34:41.469381Z"
    },
    "id": "uvO_-RFm5kdV",
    "outputId": "7799e5f9-78a7-4ef2-95e8-f06751912eda",
    "papermill": {
     "duration": 922.287591,
     "end_time": "2022-01-06T17:34:41.469993",
     "exception": false,
     "start_time": "2022-01-06T17:19:19.182402",
     "status": "completed"
    },
    "tags": []
   },
   "outputs": [
    {
     "name": "stdout",
     "output_type": "stream",
     "text": [
      "Epoch 0\n"
     ]
    },
    {
     "name": "stderr",
     "output_type": "stream",
     "text": [
      "/Users/katarina/Documents/repositories/GitHub/GLP/src/glp/tokenizers/utils.py:27: UserWarning: To copy construct from a tensor, it is recommended to use sourceTensor.clone().detach() or sourceTensor.clone().detach().requires_grad_(True), rather than torch.tensor(sourceTensor).\n",
      "  x = torch.tensor(pad(x), dtype=torch.long)\n"
     ]
    },
    {
     "name": "stdout",
     "output_type": "stream",
     "text": [
      "Train metrics: \n",
      " Accuracy: 85.1%, Avg loss: 0.570226 \n",
      "\n",
      "Epoch 1\n"
     ]
    },
    {
     "name": "stdout",
     "output_type": "stream",
     "text": [
      "Train metrics: \n",
      " Accuracy: 86.0%, Avg loss: 0.566634 \n",
      "\n",
      "Epoch 2\n"
     ]
    },
    {
     "name": "stdout",
     "output_type": "stream",
     "text": [
      "Train metrics: \n",
      " Accuracy: 86.4%, Avg loss: 0.564500 \n",
      "\n",
      "Epoch 3\n"
     ]
    },
    {
     "name": "stdout",
     "output_type": "stream",
     "text": [
      "Train metrics: \n",
      " Accuracy: 86.0%, Avg loss: 0.564757 \n",
      "\n",
      "Epoch 4\n"
     ]
    },
    {
     "name": "stdout",
     "output_type": "stream",
     "text": [
      "Train metrics: \n",
      " Accuracy: 87.0%, Avg loss: 0.562938 \n",
      "\n"
     ]
    }
   ],
   "source": [
    "model.train(train_loader, epochs=config[\"epochs\"])"
   ]
  },
  {
   "cell_type": "markdown",
   "id": "949ba822",
   "metadata": {
    "id": "bR2tamrc5kdV",
    "papermill": {
     "duration": 0.039845,
     "end_time": "2022-01-06T17:34:41.535481",
     "exception": false,
     "start_time": "2022-01-06T17:34:41.495636",
     "status": "completed"
    },
    "tags": []
   },
   "source": [
    "## Testing"
   ]
  },
  {
   "cell_type": "code",
   "execution_count": 12,
   "id": "a7a0591c",
   "metadata": {
    "colab": {
     "base_uri": "https://localhost:8080/"
    },
    "execution": {
     "iopub.execute_input": "2022-01-06T17:34:41.629697Z",
     "iopub.status.busy": "2022-01-06T17:34:41.628116Z",
     "iopub.status.idle": "2022-01-06T17:35:10.683963Z",
     "shell.execute_reply": "2022-01-06T17:35:10.684469Z"
    },
    "id": "wbnciyRK5kdW",
    "outputId": "d2592f9d-f074-465f-95f8-df3b759ae068",
    "papermill": {
     "duration": 29.109545,
     "end_time": "2022-01-06T17:35:10.684746",
     "exception": false,
     "start_time": "2022-01-06T17:34:41.575201",
     "status": "completed"
    },
    "tags": []
   },
   "outputs": [
    {
     "name": "stdout",
     "output_type": "stream",
     "text": [
      "p  12500 ; tp  10339.36441707611 ; fp  1239.818584475852\n",
      "recall  0.8271491533660889 ; precision  0.892926937564621\n",
      "num_batches 782\n",
      "correct 21634\n",
      "size 25000\n",
      "Test metrics: \n",
      " Accuracy: 0.865360, F1 score: 0.858780, Avg loss: 0.565353 \n",
      "\n"
     ]
    },
    {
     "data": {
      "text/plain": [
       "(0.86536, 0.8587803345661449)"
      ]
     },
     "execution_count": 12,
     "metadata": {},
     "output_type": "execute_result"
    }
   ],
   "source": [
    "test_dset = get_dataset(config[\"dataset\"], 'test')\n",
    "test_loader = DataLoader(test_dset, batch_size=config[\"batch_size\"], shuffle=True, collate_fn=collate)\n",
    "\n",
    "acc, f1 = model.test(test_loader)\n",
    "acc, f1"
   ]
  }
 ],
 "metadata": {
  "accelerator": "TPU",
  "colab": {
   "name": "torch_cnn_classifier.ipynb",
   "provenance": []
  },
  "environment": {
   "name": "pytorch-gpu.1-9.m75",
   "type": "gcloud",
   "uri": "gcr.io/deeplearning-platform-release/pytorch-gpu.1-9:m75"
  },
  "interpreter": {
   "hash": "9828b828580f1cac1b571b33de6cff8bacecc8916095e1bcbc967952ca7105b7"
  },
  "kernelspec": {
   "display_name": "Python 3",
   "name": "python3"
  },
  "language_info": {
   "codemirror_mode": {
    "name": "ipython",
    "version": 3
   },
   "file_extension": ".py",
   "mimetype": "text/x-python",
   "name": "python",
   "nbconvert_exporter": "python",
   "pygments_lexer": "ipython3",
   "version": "3.8.9"
  },
  "papermill": {
   "default_parameters": {},
   "duration": 1034.705476,
   "end_time": "2022-01-06T17:35:11.331672",
   "environment_variables": {},
   "exception": null,
   "input_path": "torch_cnn.ipynb",
   "output_path": "../torch_cnn_experiments/demo_coding_vs_intergenomic_seqs_character.ipynb",
   "parameters": {
    "DATASET": "demo_coding_vs_intergenomic_seqs",
    "TOKENIZER": "character"
   },
   "start_time": "2022-01-06T17:17:56.626196",
   "version": "2.3.3"
  }
 },
 "nbformat": 4,
 "nbformat_minor": 5
}