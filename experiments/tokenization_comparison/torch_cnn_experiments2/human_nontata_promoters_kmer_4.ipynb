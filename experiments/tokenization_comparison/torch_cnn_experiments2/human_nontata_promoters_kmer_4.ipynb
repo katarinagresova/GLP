{
 "cells": [
  {
   "cell_type": "markdown",
   "id": "49260350",
   "metadata": {
    "id": "SKOD9lvq5kdM",
    "papermill": {
     "duration": 0.039032,
     "end_time": "2022-01-07T12:58:52.098408",
     "exception": false,
     "start_time": "2022-01-07T12:58:52.059376",
     "status": "completed"
    },
    "tags": []
   },
   "source": [
    "# PYTORCH CNN Classifier"
   ]
  },
  {
   "cell_type": "code",
   "execution_count": 1,
   "id": "ad3e1d45",
   "metadata": {
    "execution": {
     "iopub.execute_input": "2022-01-07T12:58:52.173980Z",
     "iopub.status.busy": "2022-01-07T12:58:52.173052Z",
     "iopub.status.idle": "2022-01-07T12:58:52.178072Z",
     "shell.execute_reply": "2022-01-07T12:58:52.177324Z"
    },
    "id": "E8prt3AL5kdO",
    "papermill": {
     "duration": 0.041891,
     "end_time": "2022-01-07T12:58:52.178595",
     "exception": false,
     "start_time": "2022-01-07T12:58:52.136704",
     "status": "completed"
    },
    "tags": [
     "parameters"
    ]
   },
   "outputs": [],
   "source": [
    "DATASET = 'none'\n",
    "VOCAB_SIZE = 0\n",
    "TOKENIZER = 'none'\n",
    "KMER = 0"
   ]
  },
  {
   "cell_type": "code",
   "execution_count": 2,
   "id": "ed2a72c3",
   "metadata": {
    "execution": {
     "iopub.execute_input": "2022-01-07T12:58:52.216550Z",
     "iopub.status.busy": "2022-01-07T12:58:52.215242Z",
     "iopub.status.idle": "2022-01-07T12:58:52.218184Z",
     "shell.execute_reply": "2022-01-07T12:58:52.218881Z"
    },
    "papermill": {
     "duration": 0.022593,
     "end_time": "2022-01-07T12:58:52.219132",
     "exception": false,
     "start_time": "2022-01-07T12:58:52.196539",
     "status": "completed"
    },
    "tags": [
     "injected-parameters"
    ]
   },
   "outputs": [],
   "source": [
    "# Parameters\n",
    "DATASET = \"human_nontata_promoters\"\n",
    "TOKENIZER = \"kmer\"\n",
    "KMER = 4\n"
   ]
  },
  {
   "cell_type": "code",
   "execution_count": 3,
   "id": "0a15d582",
   "metadata": {
    "colab": {
     "base_uri": "https://localhost:8080/"
    },
    "execution": {
     "iopub.execute_input": "2022-01-07T12:58:52.254410Z",
     "iopub.status.busy": "2022-01-07T12:58:52.253288Z",
     "iopub.status.idle": "2022-01-07T12:58:52.257109Z",
     "shell.execute_reply": "2022-01-07T12:58:52.256640Z"
    },
    "id": "rohBItfR5kdP",
    "outputId": "7da7aafe-0858-48be-bf7d-f698784d88df",
    "papermill": {
     "duration": 0.023861,
     "end_time": "2022-01-07T12:58:52.257276",
     "exception": false,
     "start_time": "2022-01-07T12:58:52.233415",
     "status": "completed"
    },
    "tags": []
   },
   "outputs": [
    {
     "name": "stdout",
     "output_type": "stream",
     "text": [
      "human_nontata_promoters 0 kmer 4\n"
     ]
    }
   ],
   "source": [
    "print(DATASET, VOCAB_SIZE, TOKENIZER, KMER)"
   ]
  },
  {
   "cell_type": "markdown",
   "id": "726b35e4",
   "metadata": {
    "id": "Y-YQrVyb5kdQ",
    "papermill": {
     "duration": 0.021879,
     "end_time": "2022-01-07T12:58:52.294847",
     "exception": false,
     "start_time": "2022-01-07T12:58:52.272968",
     "status": "completed"
    },
    "tags": []
   },
   "source": [
    "## Config"
   ]
  },
  {
   "cell_type": "code",
   "execution_count": 4,
   "id": "b674dc30",
   "metadata": {
    "execution": {
     "iopub.execute_input": "2022-01-07T12:58:52.334033Z",
     "iopub.status.busy": "2022-01-07T12:58:52.333045Z",
     "iopub.status.idle": "2022-01-07T12:58:54.451606Z",
     "shell.execute_reply": "2022-01-07T12:58:54.452386Z"
    },
    "id": "FIunuyGk5kdR",
    "papermill": {
     "duration": 2.141255,
     "end_time": "2022-01-07T12:58:54.452615",
     "exception": false,
     "start_time": "2022-01-07T12:58:52.311360",
     "status": "completed"
    },
    "tags": []
   },
   "outputs": [],
   "source": [
    "import torch\n",
    "from torch.utils.data import DataLoader\n",
    "\n",
    "from genomic_benchmarks.dataset_getters.pytorch_datasets import get_dataset\n",
    "from glp.models import CNN\n",
    "from glp.tokenizers import get_tokenizer\n",
    "from glp.tokenizers.utils import build_vocab, coll_factory, check_config, check_seq_lengths"
   ]
  },
  {
   "cell_type": "code",
   "execution_count": 5,
   "id": "ff796d13",
   "metadata": {
    "execution": {
     "iopub.execute_input": "2022-01-07T12:58:54.491424Z",
     "iopub.status.busy": "2022-01-07T12:58:54.490691Z",
     "iopub.status.idle": "2022-01-07T12:58:54.492909Z",
     "shell.execute_reply": "2022-01-07T12:58:54.493543Z"
    },
    "id": "UgXiF6Zz5kdR",
    "papermill": {
     "duration": 0.025916,
     "end_time": "2022-01-07T12:58:54.493745",
     "exception": false,
     "start_time": "2022-01-07T12:58:54.467829",
     "status": "completed"
    },
    "tags": []
   },
   "outputs": [],
   "source": [
    "config = {\n",
    "    \"dataset\": DATASET,\n",
    "    \"tokenizer\": TOKENIZER,\n",
    "    \"dataset_version\": 0,\n",
    "    \"epochs\": 5,\n",
    "    \"batch_size\": 32,\n",
    "    \"use_padding\": True,\n",
    "    \"force_download\": False,\n",
    "    \"run_on_gpu\": True,\n",
    "    \"number_of_classes\": 2,\n",
    "    \"embedding_dim\": 100,\n",
    "}\n",
    "check_config(config)"
   ]
  },
  {
   "cell_type": "markdown",
   "id": "3702e5af",
   "metadata": {
    "id": "AUWF-avz5kdS",
    "papermill": {
     "duration": 0.014949,
     "end_time": "2022-01-07T12:58:54.523624",
     "exception": false,
     "start_time": "2022-01-07T12:58:54.508675",
     "status": "completed"
    },
    "tags": []
   },
   "source": [
    "## Choose the dataset"
   ]
  },
  {
   "cell_type": "code",
   "execution_count": 6,
   "id": "2ff32482",
   "metadata": {
    "colab": {
     "base_uri": "https://localhost:8080/"
    },
    "execution": {
     "iopub.execute_input": "2022-01-07T12:58:54.561825Z",
     "iopub.status.busy": "2022-01-07T12:58:54.560925Z",
     "iopub.status.idle": "2022-01-07T12:58:54.808936Z",
     "shell.execute_reply": "2022-01-07T12:58:54.810746Z"
    },
    "id": "1oaryDJr5kdS",
    "outputId": "6a425df9-4092-4601-9cd9-f61d524b6278",
    "papermill": {
     "duration": 0.27198,
     "end_time": "2022-01-07T12:58:54.811017",
     "exception": false,
     "start_time": "2022-01-07T12:58:54.539037",
     "status": "completed"
    },
    "tags": []
   },
   "outputs": [],
   "source": [
    "train_dset = get_dataset(config[\"dataset\"], 'train')"
   ]
  },
  {
   "cell_type": "markdown",
   "id": "c549b315",
   "metadata": {
    "id": "B0lqmy935kdS",
    "papermill": {
     "duration": 0.017668,
     "end_time": "2022-01-07T12:58:54.845152",
     "exception": false,
     "start_time": "2022-01-07T12:58:54.827484",
     "status": "completed"
    },
    "tags": []
   },
   "source": [
    "## Tokenizer and vocab"
   ]
  },
  {
   "cell_type": "code",
   "execution_count": 7,
   "id": "5056cd93",
   "metadata": {
    "colab": {
     "base_uri": "https://localhost:8080/"
    },
    "execution": {
     "iopub.execute_input": "2022-01-07T12:58:54.885942Z",
     "iopub.status.busy": "2022-01-07T12:58:54.884805Z",
     "iopub.status.idle": "2022-01-07T12:59:05.561438Z",
     "shell.execute_reply": "2022-01-07T12:59:05.562269Z"
    },
    "id": "NY_zualp5kdT",
    "outputId": "9034d65f-2f9a-4c83-a314-13d3b808fc65",
    "papermill": {
     "duration": 10.70029,
     "end_time": "2022-01-07T12:59:05.562632",
     "exception": false,
     "start_time": "2022-01-07T12:58:54.862342",
     "status": "completed"
    },
    "tags": []
   },
   "outputs": [
    {
     "name": "stdout",
     "output_type": "stream",
     "text": [
      "vocab len: 258\n",
      "{'CGTT': 256, 'CCTA': 251, 'CGGA': 249, 'GCAT': 248, 'TAGT': 247, 'CGGT': 245, 'TACG': 244, 'CTCA': 243, 'CACA': 241, 'TACT': 238, 'GCGA': 237, '<pad>': 257, 'AGTA': 235, 'TGGT': 234, 'AACG': 232, 'ACAT': 230, 'TCAA': 229, 'ATGG': 228, 'TGCA': 227, 'AATT': 225, 'ATAC': 224, 'TAAT': 223, 'GTAT': 222, 'TATA': 231, 'CCTT': 221, 'TAGC': 219, 'ATCT': 217, 'ATTA': 216, 'ATCC': 215, 'TTAC': 213, 'CAAT': 252, 'ATCA': 212, 'ACCG': 218, 'AATA': 210, 'TTGC': 209, 'CGTC': 207, 'GTCA': 206, 'TGTG': 204, 'GAAG': 203, 'GACC': 202, 'TTTC': 201, 'ACGG': 200, 'GGAC': 208, 'ATTT': 199, 'TAAG': 198, 'TCAT': 197, 'AACC': 196, 'AGTC': 82, 'GTTA': 194, 'GGGT': 189, 'TCTA': 188, 'GGTC': 103, 'TTGG': 141, 'ACTG': 186, 'CGCT': 185, 'TGTC': 183, 'GTCG': 180, 'TTAG': 171, 'GTAG': 168, 'CAAC': 192, 'AGAG': 92, 'GTCC': 167, 'TTTA': 166, 'GATG': 110, 'GATT': 162, 'CTAC': 59, 'TTGA': 190, 'TGTT': 165, 'AATG': 161, 'TATT': 233, 'GATC': 159, 'CTTC': 15, 'CTGA': 157, 'TACC': 253, 'CAAG': 175, 'GACA': 193, 'ATAT': 173, 'TCGA': 156, 'GCCA': 154, 'TCGT': 176, 'AGCG': 153, 'GTAC': 150, 'GGTA': 120, 'GTGG': 145, 'AGTT': 144, 'TTAA': 143, 'CGAA': 142, 'CATC': 138, 'GAGG': 64, 'CTCG': 133, 'GGAA': 5, 'ATCG': 132, 'CTCC': 131, 'TCCG': 130, 'GGCA': 129, 'CATT': 254, 'CTTT': 149, 'GCGC': 126, 'TCAC': 124, 'TCGG': 121, 'TGAC': 119, 'TAAA': 170, 'GTTG': 116, 'GAAT': 174, 'ATGC': 246, 'AGCA': 118, 'TAAC': 115, 'AAAT': 191, 'GGGC': 113, 'GCAG': 112, 'AACT': 109, 'ATAG': 108, 'CCTG': 107, 'ACCC': 19, 'ACCT': 105, 'GGTT': 187, 'CCGA': 123, 'CCAG': 104, 'CGAG': 128, 'ACAC': 101, 'TGAG': 100, 'TGCT': 179, 'CGGG': 40, 'AGGA': 98, 'CGAC': 97, 'CTAT': 250, 'ACTT': 95, 'CATG': 220, 'CGCG': 122, 'GCTA': 136, 'CAGT': 94, 'GCAA': 148, 'CACG': 125, 'CATA': 255, 'CGCA': 114, 'GCCC': 106, 'CTAA': 99, 'ACTA': 4, 'GATA': 8, 'ACAA': 93, 'AAAG': 146, 'GGCC': 91, 'TGCG': 12, 'TCCA': 79, 'GCAC': 10, 'ACTC': 7, 'TCTC': 85, 'TGAA': 78, 'TCGC': 76, 'AAGG': 80, 'GCTG': 74, 'TAGA': 67, 'AGAA': 73, 'GACG': 137, 'GCTT': 134, 'ATTG': 58, 'GCCT': 62, 'ACGA': 205, 'GTAA': 72, '<unk>': 0, 'GTTT': 56, 'CGAT': 89, 'CTTA': 195, 'CGGC': 48, 'CCGT': 163, 'TTAT': 69, 'CTAG': 68, 'GGAT': 11, 'CTTG': 83, 'TTCT': 65, 'ATAA': 172, 'TCTT': 27, 'GGCT': 28, 'CCCT': 63, 'ATTC': 75, 'TACA': 242, 'CTCT': 71, 'CAGA': 60, 'CTGG': 35, 'CCTC': 30, 'GAGT': 88, 'TCCC': 54, 'AAGC': 182, 'AAAA': 53, 'TGCC': 96, 'GTGA': 152, 'ACAG': 87, 'TTTT': 52, 'ATGT': 169, 'CTGT': 50, 'CCAC': 117, 'ATGA': 239, 'CAAA': 211, 'GCTC': 25, 'TTCC': 70, 'TCTG': 47, 'AAGA': 181, 'CCGC': 32, 'TTTG': 77, 'GCGG': 45, 'CTGC': 23, 'TGGG': 44, 'AGAT': 184, 'CAGG': 1, 'CCGG': 31, 'CCAA': 240, 'CCAT': 155, 'AGAC': 42, 'AGTG': 178, 'GGGG': 17, 'AAAC': 41, 'TGAT': 38, 'GTTC': 51, 'AGCC': 139, 'ACGC': 24, 'GGCG': 34, 'CCCG': 127, 'AGGG': 33, 'GTCT': 61, 'CGCC': 46, 'AGGC': 81, 'GAGA': 13, 'TATG': 57, 'TGGC': 39, 'GAGC': 164, 'GTGC': 37, 'ACCA': 177, 'GCCG': 29, 'TTCG': 22, 'CCCC': 86, 'TGTA': 66, 'TGGA': 140, 'TCCT': 6, 'TCAG': 55, 'GACT': 151, 'GGGA': 18, 'CACT': 49, 'TAGG': 20, 'TATC': 214, 'TTGT': 111, 'CCCA': 90, 'AGGT': 102, 'CGTG': 226, 'GTGT': 21, 'CAGC': 84, 'CGTA': 147, 'AAGT': 158, 'CACC': 160, 'GGAG': 36, 'GCGT': 16, 'AACA': 236, 'TTCA': 26, 'GGTG': 9, 'AGCT': 135, 'GAAA': 14, 'ACGT': 43, 'GAAC': 3, 'AATC': 2}\n"
     ]
    }
   ],
   "source": [
    "tokenizer = get_tokenizer(config['tokenizer'])\n",
    "tokenizer.train(train_dset=train_dset, vocab_size=VOCAB_SIZE, kmer=KMER)\n",
    "vocabulary = build_vocab(train_dset, tokenizer, use_padding=config[\"use_padding\"])\n",
    "\n",
    "print(\"vocab len:\" ,vocabulary.__len__())\n",
    "print(vocabulary.get_stoi())"
   ]
  },
  {
   "cell_type": "markdown",
   "id": "e6bbcd9a",
   "metadata": {
    "id": "3hGQpSJA5kdT",
    "papermill": {
     "duration": 0.017836,
     "end_time": "2022-01-07T12:59:05.597810",
     "exception": false,
     "start_time": "2022-01-07T12:59:05.579974",
     "status": "completed"
    },
    "tags": []
   },
   "source": [
    "## Dataloader and batch preparation"
   ]
  },
  {
   "cell_type": "code",
   "execution_count": 8,
   "id": "3c2f34e6",
   "metadata": {
    "colab": {
     "base_uri": "https://localhost:8080/"
    },
    "execution": {
     "iopub.execute_input": "2022-01-07T12:59:05.640576Z",
     "iopub.status.busy": "2022-01-07T12:59:05.639596Z",
     "iopub.status.idle": "2022-01-07T12:59:16.040588Z",
     "shell.execute_reply": "2022-01-07T12:59:16.041160Z"
    },
    "id": "gXUgPH6q5kdT",
    "outputId": "a1eb6ba2-9bcd-416d-8662-e3516121da96",
    "papermill": {
     "duration": 10.422842,
     "end_time": "2022-01-07T12:59:16.041389",
     "exception": false,
     "start_time": "2022-01-07T12:59:05.618547",
     "status": "completed"
    },
    "tags": []
   },
   "outputs": [
    {
     "name": "stdout",
     "output_type": "stream",
     "text": [
      "Using cpu device\n"
     ]
    },
    {
     "name": "stdout",
     "output_type": "stream",
     "text": [
      "max_tok_len  62\n"
     ]
    }
   ],
   "source": [
    "# Run on GPU or CPU\n",
    "device = 'cuda' if config[\"run_on_gpu\"] and torch.cuda.is_available() else 'cpu'\n",
    "print('Using {} device'.format(device))\n",
    "\n",
    "max_tok_len = check_seq_lengths(dataset=train_dset, tokenizer=tokenizer)\n",
    "\n",
    "# Data Loader\n",
    "collate = coll_factory(vocabulary, tokenizer, device, pad_to_length = max_tok_len)\n",
    "\n",
    "train_loader = DataLoader(train_dset, batch_size=config[\"batch_size\"], shuffle=True, collate_fn=collate)"
   ]
  },
  {
   "cell_type": "code",
   "execution_count": 9,
   "id": "0fed6515",
   "metadata": {
    "execution": {
     "iopub.execute_input": "2022-01-07T12:59:16.088775Z",
     "iopub.status.busy": "2022-01-07T12:59:16.086923Z",
     "iopub.status.idle": "2022-01-07T12:59:16.102377Z",
     "shell.execute_reply": "2022-01-07T12:59:16.102841Z"
    },
    "papermill": {
     "duration": 0.044849,
     "end_time": "2022-01-07T12:59:16.103038",
     "exception": false,
     "start_time": "2022-01-07T12:59:16.058189",
     "status": "completed"
    },
    "tags": []
   },
   "outputs": [
    {
     "data": {
      "text/plain": [
       "['CACT',\n",
       " 'CTGT',\n",
       " 'GTTC',\n",
       " 'TTTT',\n",
       " 'AAAA',\n",
       " 'TCCC',\n",
       " 'TCAG',\n",
       " 'GTTT',\n",
       " 'TATG',\n",
       " 'TTTT',\n",
       " 'ATTG',\n",
       " 'CTAC',\n",
       " 'CAGA',\n",
       " 'GTCT',\n",
       " 'GCCT',\n",
       " 'CCCT',\n",
       " 'GAGG',\n",
       " 'TTCT',\n",
       " 'TGTA',\n",
       " 'TAGA',\n",
       " 'CTAG',\n",
       " 'TTAT',\n",
       " 'TTCC',\n",
       " 'CTCT',\n",
       " 'GTAA',\n",
       " 'AGAA',\n",
       " 'GCTG',\n",
       " 'TTCT',\n",
       " 'ATTC',\n",
       " 'GTTC',\n",
       " 'TCGC',\n",
       " 'CTGG',\n",
       " 'TTTG',\n",
       " 'GAAC',\n",
       " 'AAAC',\n",
       " 'TGAA',\n",
       " 'CACT',\n",
       " 'TCCA',\n",
       " 'AAGG',\n",
       " 'AGGC',\n",
       " 'AGTC',\n",
       " 'CTTG',\n",
       " 'CAGC',\n",
       " 'CTTG',\n",
       " 'TCTC',\n",
       " 'CTTC',\n",
       " 'CACT',\n",
       " 'CCCC',\n",
       " 'TCCT',\n",
       " 'CCCC',\n",
       " 'ACAG',\n",
       " 'TCCT',\n",
       " 'GGCT',\n",
       " 'GGAG',\n",
       " 'CAGC',\n",
       " 'GAGT',\n",
       " 'CTGT',\n",
       " 'CGAT',\n",
       " 'CCCA',\n",
       " 'GGCC',\n",
       " 'AGAG',\n",
       " 'ACAA']"
      ]
     },
     "execution_count": 9,
     "metadata": {},
     "output_type": "execute_result"
    }
   ],
   "source": [
    "tokenizer(train_dset[1][0])"
   ]
  },
  {
   "cell_type": "markdown",
   "id": "d9bbaa37",
   "metadata": {
    "id": "sTTomnnP5kdU",
    "papermill": {
     "duration": 0.016874,
     "end_time": "2022-01-07T12:59:16.137490",
     "exception": false,
     "start_time": "2022-01-07T12:59:16.120616",
     "status": "completed"
    },
    "tags": []
   },
   "source": [
    "## Model"
   ]
  },
  {
   "cell_type": "code",
   "execution_count": 10,
   "id": "b211bad0",
   "metadata": {
    "execution": {
     "iopub.execute_input": "2022-01-07T12:59:16.201950Z",
     "iopub.status.busy": "2022-01-07T12:59:16.200289Z",
     "iopub.status.idle": "2022-01-07T12:59:16.209693Z",
     "shell.execute_reply": "2022-01-07T12:59:16.210811Z"
    },
    "id": "ZNuXGIdD5kdU",
    "papermill": {
     "duration": 0.050005,
     "end_time": "2022-01-07T12:59:16.211057",
     "exception": false,
     "start_time": "2022-01-07T12:59:16.161052",
     "status": "completed"
    },
    "tags": []
   },
   "outputs": [],
   "source": [
    "model = CNN(\n",
    "    number_of_classes=config[\"number_of_classes\"],\n",
    "    vocab_size=vocabulary.__len__(),\n",
    "    embedding_dim=config[\"embedding_dim\"],\n",
    "    input_len=max_tok_len\n",
    ").to(device)"
   ]
  },
  {
   "cell_type": "markdown",
   "id": "ecac250b",
   "metadata": {
    "id": "1pqIm92h5kdV",
    "papermill": {
     "duration": 0.059841,
     "end_time": "2022-01-07T12:59:16.312494",
     "exception": false,
     "start_time": "2022-01-07T12:59:16.252653",
     "status": "completed"
    },
    "tags": []
   },
   "source": [
    "## Training"
   ]
  },
  {
   "cell_type": "code",
   "execution_count": 11,
   "id": "9014f91b",
   "metadata": {
    "colab": {
     "base_uri": "https://localhost:8080/"
    },
    "execution": {
     "iopub.execute_input": "2022-01-07T12:59:16.456835Z",
     "iopub.status.busy": "2022-01-07T12:59:16.455678Z",
     "iopub.status.idle": "2022-01-07T13:01:48.727047Z",
     "shell.execute_reply": "2022-01-07T13:01:48.727560Z"
    },
    "id": "uvO_-RFm5kdV",
    "outputId": "7799e5f9-78a7-4ef2-95e8-f06751912eda",
    "papermill": {
     "duration": 152.378797,
     "end_time": "2022-01-07T13:01:48.727772",
     "exception": false,
     "start_time": "2022-01-07T12:59:16.348975",
     "status": "completed"
    },
    "tags": []
   },
   "outputs": [
    {
     "name": "stdout",
     "output_type": "stream",
     "text": [
      "Epoch 0\n"
     ]
    },
    {
     "name": "stderr",
     "output_type": "stream",
     "text": [
      "/Users/katarina/Documents/repositories/GitHub/GLP/src/glp/tokenizers/utils.py:27: UserWarning: To copy construct from a tensor, it is recommended to use sourceTensor.clone().detach() or sourceTensor.clone().detach().requires_grad_(True), rather than torch.tensor(sourceTensor).\n",
      "  x = torch.tensor(pad(x), dtype=torch.long)\n"
     ]
    },
    {
     "name": "stdout",
     "output_type": "stream",
     "text": [
      "Train metrics: \n",
      " Accuracy: 79.4%, Avg loss: 0.623087 \n",
      "\n",
      "Epoch 1\n"
     ]
    },
    {
     "name": "stdout",
     "output_type": "stream",
     "text": [
      "Train metrics: \n",
      " Accuracy: 79.7%, Avg loss: 0.615126 \n",
      "\n",
      "Epoch 2\n"
     ]
    },
    {
     "name": "stdout",
     "output_type": "stream",
     "text": [
      "Train metrics: \n",
      " Accuracy: 81.9%, Avg loss: 0.608219 \n",
      "\n",
      "Epoch 3\n"
     ]
    },
    {
     "name": "stdout",
     "output_type": "stream",
     "text": [
      "Train metrics: \n",
      " Accuracy: 82.8%, Avg loss: 0.601781 \n",
      "\n",
      "Epoch 4\n"
     ]
    },
    {
     "name": "stdout",
     "output_type": "stream",
     "text": [
      "Train metrics: \n",
      " Accuracy: 84.2%, Avg loss: 0.599038 \n",
      "\n"
     ]
    }
   ],
   "source": [
    "model.train(train_loader, epochs=config[\"epochs\"])"
   ]
  },
  {
   "cell_type": "markdown",
   "id": "9627f5fc",
   "metadata": {
    "id": "bR2tamrc5kdV",
    "papermill": {
     "duration": 0.020166,
     "end_time": "2022-01-07T13:01:48.767879",
     "exception": false,
     "start_time": "2022-01-07T13:01:48.747713",
     "status": "completed"
    },
    "tags": []
   },
   "source": [
    "## Testing"
   ]
  },
  {
   "cell_type": "code",
   "execution_count": 12,
   "id": "ff0ff454",
   "metadata": {
    "colab": {
     "base_uri": "https://localhost:8080/"
    },
    "execution": {
     "iopub.execute_input": "2022-01-07T13:01:48.817902Z",
     "iopub.status.busy": "2022-01-07T13:01:48.816882Z",
     "iopub.status.idle": "2022-01-07T13:01:56.560123Z",
     "shell.execute_reply": "2022-01-07T13:01:56.560792Z"
    },
    "id": "wbnciyRK5kdW",
    "outputId": "d2592f9d-f074-465f-95f8-df3b759ae068",
    "papermill": {
     "duration": 7.770204,
     "end_time": "2022-01-07T13:01:56.561127",
     "exception": false,
     "start_time": "2022-01-07T13:01:48.790923",
     "status": "completed"
    },
    "tags": []
   },
   "outputs": [
    {
     "name": "stdout",
     "output_type": "stream",
     "text": [
      "p  4119 ; tp  3220.605858564377 ; fp  975.5388323804613\n",
      "recall  0.7818902302899676 ; precision  0.7675154447162782\n",
      "num_batches 283\n",
      "correct 7176\n",
      "size 9034\n",
      "Test metrics: \n",
      " Accuracy: 0.794333, F1 score: 0.774636, Avg loss: 0.622656 \n",
      "\n"
     ]
    },
    {
     "data": {
      "text/plain": [
       "(0.7943325215851229, 0.7746361556574247)"
      ]
     },
     "execution_count": 12,
     "metadata": {},
     "output_type": "execute_result"
    }
   ],
   "source": [
    "test_dset = get_dataset(config[\"dataset\"], 'test')\n",
    "test_loader = DataLoader(test_dset, batch_size=config[\"batch_size\"], shuffle=True, collate_fn=collate)\n",
    "\n",
    "acc, f1 = model.test(test_loader)\n",
    "acc, f1"
   ]
  }
 ],
 "metadata": {
  "accelerator": "TPU",
  "colab": {
   "name": "torch_cnn_classifier.ipynb",
   "provenance": []
  },
  "environment": {
   "name": "pytorch-gpu.1-9.m75",
   "type": "gcloud",
   "uri": "gcr.io/deeplearning-platform-release/pytorch-gpu.1-9:m75"
  },
  "interpreter": {
   "hash": "9828b828580f1cac1b571b33de6cff8bacecc8916095e1bcbc967952ca7105b7"
  },
  "kernelspec": {
   "display_name": "Python 3",
   "name": "python3"
  },
  "language_info": {
   "codemirror_mode": {
    "name": "ipython",
    "version": 3
   },
   "file_extension": ".py",
   "mimetype": "text/x-python",
   "name": "python",
   "nbconvert_exporter": "python",
   "pygments_lexer": "ipython3",
   "version": "3.8.9"
  },
  "papermill": {
   "default_parameters": {},
   "duration": 187.551082,
   "end_time": "2022-01-07T13:01:57.198785",
   "environment_variables": {},
   "exception": null,
   "input_path": "torch_cnn.ipynb",
   "output_path": "../torch_cnn_experiments/human_nontata_promoters_kmer_4.ipynb",
   "parameters": {
    "DATASET": "human_nontata_promoters",
    "KMER": 4,
    "TOKENIZER": "kmer"
   },
   "start_time": "2022-01-07T12:58:49.647703",
   "version": "2.3.3"
  }
 },
 "nbformat": 4,
 "nbformat_minor": 5
}