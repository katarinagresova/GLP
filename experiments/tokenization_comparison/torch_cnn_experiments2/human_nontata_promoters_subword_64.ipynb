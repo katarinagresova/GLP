{
 "cells": [
  {
   "cell_type": "markdown",
   "id": "c3945b70",
   "metadata": {
    "id": "SKOD9lvq5kdM",
    "papermill": {
     "duration": 0.020304,
     "end_time": "2022-01-07T12:01:11.753841",
     "exception": false,
     "start_time": "2022-01-07T12:01:11.733537",
     "status": "completed"
    },
    "tags": []
   },
   "source": [
    "# PYTORCH CNN Classifier"
   ]
  },
  {
   "cell_type": "code",
   "execution_count": 1,
   "id": "30b5b673",
   "metadata": {
    "execution": {
     "iopub.execute_input": "2022-01-07T12:01:11.796529Z",
     "iopub.status.busy": "2022-01-07T12:01:11.795383Z",
     "iopub.status.idle": "2022-01-07T12:01:11.799474Z",
     "shell.execute_reply": "2022-01-07T12:01:11.800083Z"
    },
    "id": "E8prt3AL5kdO",
    "papermill": {
     "duration": 0.030345,
     "end_time": "2022-01-07T12:01:11.800503",
     "exception": false,
     "start_time": "2022-01-07T12:01:11.770158",
     "status": "completed"
    },
    "tags": [
     "parameters"
    ]
   },
   "outputs": [],
   "source": [
    "DATASET = 'none'\n",
    "VOCAB_SIZE = 0\n",
    "TOKENIZER = 'none'\n",
    "KMER = 0"
   ]
  },
  {
   "cell_type": "code",
   "execution_count": 2,
   "id": "3d384746",
   "metadata": {
    "execution": {
     "iopub.execute_input": "2022-01-07T12:01:11.833683Z",
     "iopub.status.busy": "2022-01-07T12:01:11.832693Z",
     "iopub.status.idle": "2022-01-07T12:01:11.835527Z",
     "shell.execute_reply": "2022-01-07T12:01:11.835026Z"
    },
    "papermill": {
     "duration": 0.020978,
     "end_time": "2022-01-07T12:01:11.835699",
     "exception": false,
     "start_time": "2022-01-07T12:01:11.814721",
     "status": "completed"
    },
    "tags": [
     "injected-parameters"
    ]
   },
   "outputs": [],
   "source": [
    "# Parameters\n",
    "DATASET = \"human_nontata_promoters\"\n",
    "TOKENIZER = \"subword\"\n",
    "VOCAB_SIZE = 64\n"
   ]
  },
  {
   "cell_type": "code",
   "execution_count": 3,
   "id": "c58ab745",
   "metadata": {
    "colab": {
     "base_uri": "https://localhost:8080/"
    },
    "execution": {
     "iopub.execute_input": "2022-01-07T12:01:11.868216Z",
     "iopub.status.busy": "2022-01-07T12:01:11.867462Z",
     "iopub.status.idle": "2022-01-07T12:01:11.870495Z",
     "shell.execute_reply": "2022-01-07T12:01:11.870967Z"
    },
    "id": "rohBItfR5kdP",
    "outputId": "7da7aafe-0858-48be-bf7d-f698784d88df",
    "papermill": {
     "duration": 0.021477,
     "end_time": "2022-01-07T12:01:11.871199",
     "exception": false,
     "start_time": "2022-01-07T12:01:11.849722",
     "status": "completed"
    },
    "tags": []
   },
   "outputs": [
    {
     "name": "stdout",
     "output_type": "stream",
     "text": [
      "human_nontata_promoters 64 subword 0\n"
     ]
    }
   ],
   "source": [
    "print(DATASET, VOCAB_SIZE, TOKENIZER, KMER)"
   ]
  },
  {
   "cell_type": "markdown",
   "id": "c4a443b0",
   "metadata": {
    "id": "Y-YQrVyb5kdQ",
    "papermill": {
     "duration": 0.017564,
     "end_time": "2022-01-07T12:01:11.902734",
     "exception": false,
     "start_time": "2022-01-07T12:01:11.885170",
     "status": "completed"
    },
    "tags": []
   },
   "source": [
    "## Config"
   ]
  },
  {
   "cell_type": "code",
   "execution_count": 4,
   "id": "68b99d77",
   "metadata": {
    "execution": {
     "iopub.execute_input": "2022-01-07T12:01:11.938260Z",
     "iopub.status.busy": "2022-01-07T12:01:11.937255Z",
     "iopub.status.idle": "2022-01-07T12:01:13.684852Z",
     "shell.execute_reply": "2022-01-07T12:01:13.685625Z"
    },
    "id": "FIunuyGk5kdR",
    "papermill": {
     "duration": 1.767117,
     "end_time": "2022-01-07T12:01:13.685836",
     "exception": false,
     "start_time": "2022-01-07T12:01:11.918719",
     "status": "completed"
    },
    "tags": []
   },
   "outputs": [],
   "source": [
    "import torch\n",
    "from torch.utils.data import DataLoader\n",
    "\n",
    "from genomic_benchmarks.dataset_getters.pytorch_datasets import get_dataset\n",
    "from glp.models import CNN\n",
    "from glp.tokenizers import get_tokenizer\n",
    "from glp.tokenizers.utils import build_vocab, coll_factory, check_config, check_seq_lengths"
   ]
  },
  {
   "cell_type": "code",
   "execution_count": 5,
   "id": "585e015e",
   "metadata": {
    "execution": {
     "iopub.execute_input": "2022-01-07T12:01:13.727567Z",
     "iopub.status.busy": "2022-01-07T12:01:13.726082Z",
     "iopub.status.idle": "2022-01-07T12:01:13.730354Z",
     "shell.execute_reply": "2022-01-07T12:01:13.732445Z"
    },
    "id": "UgXiF6Zz5kdR",
    "papermill": {
     "duration": 0.030332,
     "end_time": "2022-01-07T12:01:13.733213",
     "exception": false,
     "start_time": "2022-01-07T12:01:13.702881",
     "status": "completed"
    },
    "tags": []
   },
   "outputs": [],
   "source": [
    "config = {\n",
    "    \"dataset\": DATASET,\n",
    "    \"tokenizer\": TOKENIZER,\n",
    "    \"dataset_version\": 0,\n",
    "    \"epochs\": 5,\n",
    "    \"batch_size\": 32,\n",
    "    \"use_padding\": True,\n",
    "    \"force_download\": False,\n",
    "    \"run_on_gpu\": True,\n",
    "    \"number_of_classes\": 2,\n",
    "    \"embedding_dim\": 100,\n",
    "}\n",
    "check_config(config)"
   ]
  },
  {
   "cell_type": "markdown",
   "id": "083d558d",
   "metadata": {
    "id": "AUWF-avz5kdS",
    "papermill": {
     "duration": 0.015454,
     "end_time": "2022-01-07T12:01:13.764895",
     "exception": false,
     "start_time": "2022-01-07T12:01:13.749441",
     "status": "completed"
    },
    "tags": []
   },
   "source": [
    "## Choose the dataset"
   ]
  },
  {
   "cell_type": "code",
   "execution_count": 6,
   "id": "5ba5e859",
   "metadata": {
    "colab": {
     "base_uri": "https://localhost:8080/"
    },
    "execution": {
     "iopub.execute_input": "2022-01-07T12:01:13.801300Z",
     "iopub.status.busy": "2022-01-07T12:01:13.800234Z",
     "iopub.status.idle": "2022-01-07T12:01:14.023690Z",
     "shell.execute_reply": "2022-01-07T12:01:14.024218Z"
    },
    "id": "1oaryDJr5kdS",
    "outputId": "6a425df9-4092-4601-9cd9-f61d524b6278",
    "papermill": {
     "duration": 0.244146,
     "end_time": "2022-01-07T12:01:14.024433",
     "exception": false,
     "start_time": "2022-01-07T12:01:13.780287",
     "status": "completed"
    },
    "tags": []
   },
   "outputs": [],
   "source": [
    "train_dset = get_dataset(config[\"dataset\"], 'train')"
   ]
  },
  {
   "cell_type": "markdown",
   "id": "ffa2ef19",
   "metadata": {
    "id": "B0lqmy935kdS",
    "papermill": {
     "duration": 0.018687,
     "end_time": "2022-01-07T12:01:14.058472",
     "exception": false,
     "start_time": "2022-01-07T12:01:14.039785",
     "status": "completed"
    },
    "tags": []
   },
   "source": [
    "## Tokenizer and vocab"
   ]
  },
  {
   "cell_type": "code",
   "execution_count": 7,
   "id": "363da043",
   "metadata": {
    "colab": {
     "base_uri": "https://localhost:8080/"
    },
    "execution": {
     "iopub.execute_input": "2022-01-07T12:01:14.100273Z",
     "iopub.status.busy": "2022-01-07T12:01:14.099260Z",
     "iopub.status.idle": "2022-01-07T12:08:15.020225Z",
     "shell.execute_reply": "2022-01-07T12:08:15.020731Z"
    },
    "id": "NY_zualp5kdT",
    "outputId": "9034d65f-2f9a-4c83-a314-13d3b808fc65",
    "papermill": {
     "duration": 420.943073,
     "end_time": "2022-01-07T12:08:15.020961",
     "exception": false,
     "start_time": "2022-01-07T12:01:14.077888",
     "status": "completed"
    },
    "tags": []
   },
   "outputs": [
    {
     "name": "stderr",
     "output_type": "stream",
     "text": [
      "sentencepiece_trainer.cc(177) LOG(INFO) Running command: --input=sample.csv --model_prefix=sample --vocab_size=64 --model_type=unigram\n",
      "sentencepiece_trainer.cc(77) LOG(INFO) Starts training with : \n",
      "trainer_spec {\n",
      "  input: sample.csv\n",
      "  input_format: \n",
      "  model_prefix: sample\n",
      "  model_type: UNIGRAM\n",
      "  vocab_size: 64\n",
      "  self_test_sample_size: 0\n",
      "  character_coverage: 0.9995\n",
      "  input_sentence_size: 0\n",
      "  shuffle_input_sentence: 1\n",
      "  seed_sentencepiece_size: 1000000\n",
      "  shrinking_factor: 0.75\n",
      "  max_sentence_length: 4192\n",
      "  num_threads: 16\n",
      "  num_sub_iterations: 2\n",
      "  max_sentencepiece_length: 16\n",
      "  split_by_unicode_script: 1\n",
      "  split_by_number: 1\n",
      "  split_by_whitespace: 1\n",
      "  split_digits: 0\n",
      "  treat_whitespace_as_suffix: 0\n",
      "  required_chars: \n",
      "  byte_fallback: 0\n",
      "  vocabulary_output_piece_score: 1\n",
      "  train_extremely_large_corpus: 0\n",
      "  hard_vocab_limit: 1\n",
      "  use_all_vocab: 0\n",
      "  unk_id: 0\n",
      "  bos_id: 1\n",
      "  eos_id: 2\n",
      "  pad_id: -1\n",
      "  unk_piece: <unk>\n",
      "  bos_piece: <s>\n",
      "  eos_piece: </s>\n",
      "  pad_piece: <pad>\n",
      "  unk_surface:  ⁇ \n",
      "}\n",
      "normalizer_spec {\n",
      "  name: nmt_nfkc\n",
      "  add_dummy_prefix: 1\n",
      "  remove_extra_whitespaces: 1\n",
      "  escape_whitespaces: 1\n",
      "  normalization_rule_tsv: \n",
      "}\n",
      "denormalizer_spec {}\n",
      "trainer_interface.cc(319) LOG(INFO) SentenceIterator is not specified. Using MultiFileSentenceIterator.\n",
      "trainer_interface.cc(174) LOG(INFO) Loading corpus: sample.csv\n",
      "trainer_interface.cc(375) LOG(INFO) Loaded all 27097 sentences\n",
      "trainer_interface.cc(390) LOG(INFO) Adding meta_piece: <unk>\n",
      "trainer_interface.cc(390) LOG(INFO) Adding meta_piece: <s>\n",
      "trainer_interface.cc(390) LOG(INFO) Adding meta_piece: </s>\n",
      "trainer_interface.cc(395) LOG(INFO) Normalizing sentences...\n"
     ]
    },
    {
     "name": "stderr",
     "output_type": "stream",
     "text": [
      "trainer_interface.cc(456) LOG(INFO) all chars count=6828444\n",
      "trainer_interface.cc(477) LOG(INFO) Alphabet size=5\n",
      "trainer_interface.cc(478) LOG(INFO) Final character coverage=1\n"
     ]
    },
    {
     "name": "stderr",
     "output_type": "stream",
     "text": [
      "trainer_interface.cc(510) LOG(INFO) Done! preprocessed 27097 sentences.\n"
     ]
    },
    {
     "name": "stderr",
     "output_type": "stream",
     "text": [
      "unigram_model_trainer.cc(138) LOG(INFO) Making suffix array...\n"
     ]
    },
    {
     "name": "stderr",
     "output_type": "stream",
     "text": [
      "unigram_model_trainer.cc(142) LOG(INFO) Extracting frequent sub strings...\n"
     ]
    },
    {
     "name": "stderr",
     "output_type": "stream",
     "text": [
      "unigram_model_trainer.cc(193) LOG(INFO) Initialized 1000000 seed sentencepieces\n"
     ]
    },
    {
     "name": "stderr",
     "output_type": "stream",
     "text": [
      "trainer_interface.cc(516) LOG(INFO) Tokenizing input sentences with whitespace: 27097\n",
      "trainer_interface.cc(526) LOG(INFO) Done! 27097\n",
      "unigram_model_trainer.cc(488) LOG(INFO) Using 27097 sentences for EM training\n"
     ]
    },
    {
     "name": "stderr",
     "output_type": "stream",
     "text": [
      "unigram_model_trainer.cc(504) LOG(INFO) EM sub_iter=0 size=273096 obj=318.82 num_tokens=676096 num_tokens/piece=2.47567\n"
     ]
    },
    {
     "name": "stderr",
     "output_type": "stream",
     "text": [
      "unigram_model_trainer.cc(504) LOG(INFO) EM sub_iter=1 size=202428 obj=310.236 num_tokens=730585 num_tokens/piece=3.60911\n"
     ]
    },
    {
     "name": "stderr",
     "output_type": "stream",
     "text": [
      "unigram_model_trainer.cc(504) LOG(INFO) EM sub_iter=0 size=141120 obj=305.255 num_tokens=743196 num_tokens/piece=5.26641\n"
     ]
    },
    {
     "name": "stderr",
     "output_type": "stream",
     "text": [
      "unigram_model_trainer.cc(504) LOG(INFO) EM sub_iter=1 size=131299 obj=301.221 num_tokens=751361 num_tokens/piece=5.72252\n"
     ]
    },
    {
     "name": "stderr",
     "output_type": "stream",
     "text": [
      "unigram_model_trainer.cc(504) LOG(INFO) EM sub_iter=0 size=98131 obj=302.387 num_tokens=769820 num_tokens/piece=7.84482\n"
     ]
    },
    {
     "name": "stderr",
     "output_type": "stream",
     "text": [
      "unigram_model_trainer.cc(504) LOG(INFO) EM sub_iter=1 size=97328 obj=300.027 num_tokens=771082 num_tokens/piece=7.92251\n"
     ]
    },
    {
     "name": "stderr",
     "output_type": "stream",
     "text": [
      "unigram_model_trainer.cc(504) LOG(INFO) EM sub_iter=0 size=72965 obj=302.771 num_tokens=793590 num_tokens/piece=10.8763\n"
     ]
    },
    {
     "name": "stderr",
     "output_type": "stream",
     "text": [
      "unigram_model_trainer.cc(504) LOG(INFO) EM sub_iter=1 size=72913 obj=300.566 num_tokens=793758 num_tokens/piece=10.8864\n"
     ]
    },
    {
     "name": "stderr",
     "output_type": "stream",
     "text": [
      "unigram_model_trainer.cc(504) LOG(INFO) EM sub_iter=0 size=54681 obj=304.899 num_tokens=824326 num_tokens/piece=15.0752\n"
     ]
    },
    {
     "name": "stderr",
     "output_type": "stream",
     "text": [
      "unigram_model_trainer.cc(504) LOG(INFO) EM sub_iter=1 size=54676 obj=302.02 num_tokens=824385 num_tokens/piece=15.0776\n"
     ]
    },
    {
     "name": "stderr",
     "output_type": "stream",
     "text": [
      "unigram_model_trainer.cc(504) LOG(INFO) EM sub_iter=0 size=41005 obj=308.659 num_tokens=865158 num_tokens/piece=21.0988\n"
     ]
    },
    {
     "name": "stderr",
     "output_type": "stream",
     "text": [
      "unigram_model_trainer.cc(504) LOG(INFO) EM sub_iter=1 size=41001 obj=305.092 num_tokens=865358 num_tokens/piece=21.1058\n"
     ]
    },
    {
     "name": "stderr",
     "output_type": "stream",
     "text": [
      "unigram_model_trainer.cc(504) LOG(INFO) EM sub_iter=0 size=30750 obj=313.56 num_tokens=913784 num_tokens/piece=29.7166\n"
     ]
    },
    {
     "name": "stderr",
     "output_type": "stream",
     "text": [
      "unigram_model_trainer.cc(504) LOG(INFO) EM sub_iter=1 size=30747 obj=309.962 num_tokens=914057 num_tokens/piece=29.7283\n"
     ]
    },
    {
     "name": "stderr",
     "output_type": "stream",
     "text": [
      "unigram_model_trainer.cc(504) LOG(INFO) EM sub_iter=0 size=23059 obj=318.774 num_tokens=963241 num_tokens/piece=41.7729\n"
     ]
    },
    {
     "name": "stderr",
     "output_type": "stream",
     "text": [
      "unigram_model_trainer.cc(504) LOG(INFO) EM sub_iter=1 size=23057 obj=315.697 num_tokens=963700 num_tokens/piece=41.7964\n"
     ]
    },
    {
     "name": "stderr",
     "output_type": "stream",
     "text": [
      "unigram_model_trainer.cc(504) LOG(INFO) EM sub_iter=0 size=17292 obj=323.884 num_tokens=1010068 num_tokens/piece=58.4124\n"
     ]
    },
    {
     "name": "stderr",
     "output_type": "stream",
     "text": [
      "unigram_model_trainer.cc(504) LOG(INFO) EM sub_iter=1 size=17291 obj=321.234 num_tokens=1010704 num_tokens/piece=58.4526\n"
     ]
    },
    {
     "name": "stderr",
     "output_type": "stream",
     "text": [
      "unigram_model_trainer.cc(504) LOG(INFO) EM sub_iter=0 size=12968 obj=328.69 num_tokens=1054028 num_tokens/piece=81.2791\n"
     ]
    },
    {
     "name": "stderr",
     "output_type": "stream",
     "text": [
      "unigram_model_trainer.cc(504) LOG(INFO) EM sub_iter=1 size=12968 obj=326.409 num_tokens=1054837 num_tokens/piece=81.3415\n"
     ]
    },
    {
     "name": "stderr",
     "output_type": "stream",
     "text": [
      "unigram_model_trainer.cc(504) LOG(INFO) EM sub_iter=0 size=9726 obj=333.01 num_tokens=1094672 num_tokens/piece=112.551\n"
     ]
    },
    {
     "name": "stderr",
     "output_type": "stream",
     "text": [
      "unigram_model_trainer.cc(504) LOG(INFO) EM sub_iter=1 size=9726 obj=330.859 num_tokens=1095614 num_tokens/piece=112.648\n"
     ]
    },
    {
     "name": "stderr",
     "output_type": "stream",
     "text": [
      "unigram_model_trainer.cc(504) LOG(INFO) EM sub_iter=0 size=7294 obj=336.415 num_tokens=1133128 num_tokens/piece=155.351\n"
     ]
    },
    {
     "name": "stderr",
     "output_type": "stream",
     "text": [
      "unigram_model_trainer.cc(504) LOG(INFO) EM sub_iter=1 size=7294 obj=334.243 num_tokens=1133961 num_tokens/piece=155.465\n"
     ]
    },
    {
     "name": "stderr",
     "output_type": "stream",
     "text": [
      "unigram_model_trainer.cc(504) LOG(INFO) EM sub_iter=0 size=5470 obj=338.81 num_tokens=1170083 num_tokens/piece=213.909\n"
     ]
    },
    {
     "name": "stderr",
     "output_type": "stream",
     "text": [
      "unigram_model_trainer.cc(504) LOG(INFO) EM sub_iter=1 size=5470 obj=335.967 num_tokens=1170771 num_tokens/piece=214.035\n"
     ]
    },
    {
     "name": "stderr",
     "output_type": "stream",
     "text": [
      "unigram_model_trainer.cc(504) LOG(INFO) EM sub_iter=0 size=4102 obj=340.284 num_tokens=1210338 num_tokens/piece=295.06\n"
     ]
    },
    {
     "name": "stderr",
     "output_type": "stream",
     "text": [
      "unigram_model_trainer.cc(504) LOG(INFO) EM sub_iter=1 size=4102 obj=336.901 num_tokens=1210947 num_tokens/piece=295.209\n"
     ]
    },
    {
     "name": "stderr",
     "output_type": "stream",
     "text": [
      "unigram_model_trainer.cc(504) LOG(INFO) EM sub_iter=0 size=3076 obj=341.655 num_tokens=1255820 num_tokens/piece=408.264\n"
     ]
    },
    {
     "name": "stderr",
     "output_type": "stream",
     "text": [
      "unigram_model_trainer.cc(504) LOG(INFO) EM sub_iter=1 size=3076 obj=337.882 num_tokens=1256352 num_tokens/piece=408.437\n"
     ]
    },
    {
     "name": "stderr",
     "output_type": "stream",
     "text": [
      "unigram_model_trainer.cc(504) LOG(INFO) EM sub_iter=0 size=2307 obj=343.05 num_tokens=1304395 num_tokens/piece=565.407\n"
     ]
    },
    {
     "name": "stderr",
     "output_type": "stream",
     "text": [
      "unigram_model_trainer.cc(504) LOG(INFO) EM sub_iter=1 size=2307 obj=338.929 num_tokens=1305034 num_tokens/piece=565.684\n"
     ]
    },
    {
     "name": "stderr",
     "output_type": "stream",
     "text": [
      "unigram_model_trainer.cc(504) LOG(INFO) EM sub_iter=0 size=1730 obj=344.656 num_tokens=1358350 num_tokens/piece=785.173\n"
     ]
    },
    {
     "name": "stderr",
     "output_type": "stream",
     "text": [
      "unigram_model_trainer.cc(504) LOG(INFO) EM sub_iter=1 size=1730 obj=340.109 num_tokens=1359067 num_tokens/piece=785.588\n"
     ]
    },
    {
     "name": "stderr",
     "output_type": "stream",
     "text": [
      "unigram_model_trainer.cc(504) LOG(INFO) EM sub_iter=0 size=1297 obj=345.476 num_tokens=1416700 num_tokens/piece=1092.29\n"
     ]
    },
    {
     "name": "stderr",
     "output_type": "stream",
     "text": [
      "unigram_model_trainer.cc(504) LOG(INFO) EM sub_iter=1 size=1297 obj=340.889 num_tokens=1417578 num_tokens/piece=1092.97\n"
     ]
    },
    {
     "name": "stderr",
     "output_type": "stream",
     "text": [
      "unigram_model_trainer.cc(504) LOG(INFO) EM sub_iter=0 size=972 obj=346.645 num_tokens=1478862 num_tokens/piece=1521.46\n"
     ]
    },
    {
     "name": "stderr",
     "output_type": "stream",
     "text": [
      "unigram_model_trainer.cc(504) LOG(INFO) EM sub_iter=1 size=972 obj=341.636 num_tokens=1479766 num_tokens/piece=1522.39\n"
     ]
    },
    {
     "name": "stderr",
     "output_type": "stream",
     "text": [
      "unigram_model_trainer.cc(504) LOG(INFO) EM sub_iter=0 size=729 obj=347.372 num_tokens=1545098 num_tokens/piece=2119.48\n"
     ]
    },
    {
     "name": "stderr",
     "output_type": "stream",
     "text": [
      "unigram_model_trainer.cc(504) LOG(INFO) EM sub_iter=1 size=729 obj=342.103 num_tokens=1546049 num_tokens/piece=2120.78\n"
     ]
    },
    {
     "name": "stderr",
     "output_type": "stream",
     "text": [
      "unigram_model_trainer.cc(504) LOG(INFO) EM sub_iter=0 size=546 obj=348.951 num_tokens=1616218 num_tokens/piece=2960.11\n"
     ]
    },
    {
     "name": "stderr",
     "output_type": "stream",
     "text": [
      "unigram_model_trainer.cc(504) LOG(INFO) EM sub_iter=1 size=546 obj=342.654 num_tokens=1617032 num_tokens/piece=2961.6\n"
     ]
    },
    {
     "name": "stderr",
     "output_type": "stream",
     "text": [
      "unigram_model_trainer.cc(504) LOG(INFO) EM sub_iter=0 size=409 obj=350.146 num_tokens=1701638 num_tokens/piece=4160.48\n"
     ]
    },
    {
     "name": "stderr",
     "output_type": "stream",
     "text": [
      "unigram_model_trainer.cc(504) LOG(INFO) EM sub_iter=1 size=409 obj=343.203 num_tokens=1702364 num_tokens/piece=4162.26\n"
     ]
    },
    {
     "name": "stderr",
     "output_type": "stream",
     "text": [
      "unigram_model_trainer.cc(504) LOG(INFO) EM sub_iter=0 size=306 obj=350.528 num_tokens=1795292 num_tokens/piece=5866.97\n"
     ]
    },
    {
     "name": "stderr",
     "output_type": "stream",
     "text": [
      "unigram_model_trainer.cc(504) LOG(INFO) EM sub_iter=1 size=306 obj=343.728 num_tokens=1796722 num_tokens/piece=5871.64\n"
     ]
    },
    {
     "name": "stderr",
     "output_type": "stream",
     "text": [
      "unigram_model_trainer.cc(504) LOG(INFO) EM sub_iter=0 size=229 obj=352.046 num_tokens=1895431 num_tokens/piece=8276.99\n"
     ]
    },
    {
     "name": "stderr",
     "output_type": "stream",
     "text": [
      "unigram_model_trainer.cc(504) LOG(INFO) EM sub_iter=1 size=229 obj=344.113 num_tokens=1896461 num_tokens/piece=8281.49\n"
     ]
    },
    {
     "name": "stderr",
     "output_type": "stream",
     "text": [
      "unigram_model_trainer.cc(504) LOG(INFO) EM sub_iter=0 size=171 obj=353.24 num_tokens=2001837 num_tokens/piece=11706.6\n"
     ]
    },
    {
     "name": "stderr",
     "output_type": "stream",
     "text": [
      "unigram_model_trainer.cc(504) LOG(INFO) EM sub_iter=1 size=171 obj=344.731 num_tokens=2004561 num_tokens/piece=11722.6\n"
     ]
    },
    {
     "name": "stderr",
     "output_type": "stream",
     "text": [
      "unigram_model_trainer.cc(504) LOG(INFO) EM sub_iter=0 size=128 obj=354.205 num_tokens=2135676 num_tokens/piece=16685\n"
     ]
    },
    {
     "name": "stderr",
     "output_type": "stream",
     "text": [
      "unigram_model_trainer.cc(504) LOG(INFO) EM sub_iter=1 size=128 obj=345.27 num_tokens=2138523 num_tokens/piece=16707.2\n"
     ]
    },
    {
     "name": "stderr",
     "output_type": "stream",
     "text": [
      "unigram_model_trainer.cc(504) LOG(INFO) EM sub_iter=0 size=96 obj=355.154 num_tokens=2281824 num_tokens/piece=23769\n"
     ]
    },
    {
     "name": "stderr",
     "output_type": "stream",
     "text": [
      "unigram_model_trainer.cc(504) LOG(INFO) EM sub_iter=1 size=96 obj=345.675 num_tokens=2285592 num_tokens/piece=23808.2\n"
     ]
    },
    {
     "name": "stderr",
     "output_type": "stream",
     "text": [
      "unigram_model_trainer.cc(504) LOG(INFO) EM sub_iter=0 size=72 obj=356.432 num_tokens=2466616 num_tokens/piece=34258.6\n"
     ]
    },
    {
     "name": "stderr",
     "output_type": "stream",
     "text": [
      "unigram_model_trainer.cc(504) LOG(INFO) EM sub_iter=1 size=72 obj=346.262 num_tokens=2475065 num_tokens/piece=34375.9\n"
     ]
    },
    {
     "name": "stderr",
     "output_type": "stream",
     "text": [
      "unigram_model_trainer.cc(504) LOG(INFO) EM sub_iter=0 size=70 obj=346.905 num_tokens=2502509 num_tokens/piece=35750.1\n"
     ]
    },
    {
     "name": "stderr",
     "output_type": "stream",
     "text": [
      "unigram_model_trainer.cc(504) LOG(INFO) EM sub_iter=1 size=70 obj=345.98 num_tokens=2511812 num_tokens/piece=35883\n",
      "trainer_interface.cc(604) LOG(INFO) Saving model: sample.model\n",
      "trainer_interface.cc(615) LOG(INFO) Saving vocabs: sample.vocab\n"
     ]
    },
    {
     "name": "stdout",
     "output_type": "stream",
     "text": [
      "vocab len: 63\n",
      "{'GCA': 59, 'AGC': 57, 'GAG': 55, 'ACT': 54, 'TTG': 52, 'AAC': 50, 'CAT': 58, 'AAG': 49, 'TTCT': 42, 'GAGG': 46, 'CA': 41, 'GCGG': 40, 'TG': 22, 'GCC': 35, 'GCT': 34, 'GGC': 33, 'TCCC': 31, 'AA': 5, 'CTCC': 30, 'ATT': 36, 'TCT': 27, '▁': 1, 'TTT': 43, 'CGGG': 24, 'CTG': 25, 'GCG': 20, 'A': 61, 'G': 29, 'TC': 19, 'ACA': 56, 'AAA': 17, 'AGA': 47, 'CAC': 6, '<unk>': 0, 'TGC': 14, 'AG': 16, 'TA': 7, 'AGT': 45, 'T': 23, 'GG': 8, 'CT': 18, 'AT': 13, '<pad>': 62, 'TTTT': 60, 'C': 53, 'CAG': 32, 'TCA': 26, 'TTA': 48, 'TGG': 12, 'TGGG': 21, 'GAC': 38, 'GGAG': 15, 'GT': 39, 'GA': 11, 'AAT': 3, 'AC': 37, 'CG': 4, 'CC': 9, 'GC': 51, 'TGT': 44, 'TTCC': 28, 'CTC': 10, 'CAGG': 2}\n"
     ]
    }
   ],
   "source": [
    "tokenizer = get_tokenizer(config['tokenizer'])\n",
    "tokenizer.train(train_dset=train_dset, vocab_size=VOCAB_SIZE, kmer=KMER)\n",
    "vocabulary = build_vocab(train_dset, tokenizer, use_padding=config[\"use_padding\"])\n",
    "\n",
    "print(\"vocab len:\" ,vocabulary.__len__())\n",
    "print(vocabulary.get_stoi())"
   ]
  },
  {
   "cell_type": "markdown",
   "id": "8294176c",
   "metadata": {
    "id": "3hGQpSJA5kdT",
    "papermill": {
     "duration": 0.042964,
     "end_time": "2022-01-07T12:08:15.100509",
     "exception": false,
     "start_time": "2022-01-07T12:08:15.057545",
     "status": "completed"
    },
    "tags": []
   },
   "source": [
    "## Dataloader and batch preparation"
   ]
  },
  {
   "cell_type": "code",
   "execution_count": 8,
   "id": "00788ca1",
   "metadata": {
    "colab": {
     "base_uri": "https://localhost:8080/"
    },
    "execution": {
     "iopub.execute_input": "2022-01-07T12:08:15.182345Z",
     "iopub.status.busy": "2022-01-07T12:08:15.181311Z",
     "iopub.status.idle": "2022-01-07T12:08:41.185931Z",
     "shell.execute_reply": "2022-01-07T12:08:41.186707Z"
    },
    "id": "gXUgPH6q5kdT",
    "outputId": "a1eb6ba2-9bcd-416d-8662-e3516121da96",
    "papermill": {
     "duration": 26.051208,
     "end_time": "2022-01-07T12:08:41.186917",
     "exception": false,
     "start_time": "2022-01-07T12:08:15.135709",
     "status": "completed"
    },
    "tags": []
   },
   "outputs": [
    {
     "name": "stdout",
     "output_type": "stream",
     "text": [
      "Using cpu device\n"
     ]
    },
    {
     "name": "stdout",
     "output_type": "stream",
     "text": [
      "max_tok_len  110\n"
     ]
    },
    {
     "name": "stdout",
     "output_type": "stream",
     "text": [
      "not all sequences are of the same length\n"
     ]
    }
   ],
   "source": [
    "# Run on GPU or CPU\n",
    "device = 'cuda' if config[\"run_on_gpu\"] and torch.cuda.is_available() else 'cpu'\n",
    "print('Using {} device'.format(device))\n",
    "\n",
    "max_tok_len = check_seq_lengths(dataset=train_dset, tokenizer=tokenizer)\n",
    "\n",
    "# Data Loader\n",
    "collate = coll_factory(vocabulary, tokenizer, device, pad_to_length = max_tok_len)\n",
    "\n",
    "train_loader = DataLoader(train_dset, batch_size=config[\"batch_size\"], shuffle=True, collate_fn=collate)"
   ]
  },
  {
   "cell_type": "code",
   "execution_count": 9,
   "id": "e78e8a64",
   "metadata": {
    "execution": {
     "iopub.execute_input": "2022-01-07T12:08:41.350598Z",
     "iopub.status.busy": "2022-01-07T12:08:41.349816Z",
     "iopub.status.idle": "2022-01-07T12:08:41.364186Z",
     "shell.execute_reply": "2022-01-07T12:08:41.364657Z"
    },
    "papermill": {
     "duration": 0.070394,
     "end_time": "2022-01-07T12:08:41.364853",
     "exception": false,
     "start_time": "2022-01-07T12:08:41.294459",
     "status": "completed"
    },
    "tags": []
   },
   "outputs": [
    {
     "data": {
      "text/plain": [
       "['▁',\n",
       " 'CA',\n",
       " 'CT',\n",
       " 'CTG',\n",
       " 'TG',\n",
       " 'TTCT',\n",
       " 'TTT',\n",
       " 'AAA',\n",
       " 'AT',\n",
       " 'CC',\n",
       " 'CT',\n",
       " 'CAGG',\n",
       " 'TTT',\n",
       " 'TA',\n",
       " 'TGT',\n",
       " 'TTT',\n",
       " 'ATT',\n",
       " 'GCT',\n",
       " 'AC',\n",
       " 'CAG',\n",
       " 'AGT',\n",
       " 'CTG',\n",
       " 'CC',\n",
       " 'TCCC',\n",
       " 'T',\n",
       " 'GAGG',\n",
       " 'TTCT',\n",
       " 'TGT',\n",
       " 'AT',\n",
       " 'AGA',\n",
       " 'CT',\n",
       " 'AG',\n",
       " 'TTA',\n",
       " 'TTT',\n",
       " 'CC',\n",
       " 'CT',\n",
       " 'CTG',\n",
       " 'TA',\n",
       " 'AAG',\n",
       " 'AAG',\n",
       " 'CTG',\n",
       " 'TTCT',\n",
       " 'ATT',\n",
       " 'CG',\n",
       " 'TTCT',\n",
       " 'CG',\n",
       " 'CC',\n",
       " 'TGG',\n",
       " 'TTT',\n",
       " 'GG',\n",
       " 'AAC',\n",
       " 'AAA',\n",
       " 'CTG',\n",
       " 'AA',\n",
       " 'CAC',\n",
       " 'TTCC',\n",
       " 'AAA',\n",
       " 'GGAG',\n",
       " 'GC',\n",
       " 'AGT',\n",
       " 'CC',\n",
       " 'TTG',\n",
       " 'CAG',\n",
       " 'CC',\n",
       " 'TTG',\n",
       " 'TCT',\n",
       " 'CC',\n",
       " 'TTCC',\n",
       " 'AC',\n",
       " 'TCCC',\n",
       " 'CTCC',\n",
       " 'TCCC',\n",
       " 'CAC',\n",
       " 'AGT',\n",
       " 'CC',\n",
       " 'TGG',\n",
       " 'CT',\n",
       " 'GGAG',\n",
       " 'CAG',\n",
       " 'CG',\n",
       " 'AGT',\n",
       " 'CTG',\n",
       " 'TC',\n",
       " 'GA',\n",
       " 'TCCC',\n",
       " 'AG',\n",
       " 'GCC',\n",
       " 'AGA',\n",
       " 'GAC',\n",
       " 'AA',\n",
       " 'GGC']"
      ]
     },
     "execution_count": 9,
     "metadata": {},
     "output_type": "execute_result"
    }
   ],
   "source": [
    "tokenizer(train_dset[1][0])"
   ]
  },
  {
   "cell_type": "markdown",
   "id": "1d26f4f2",
   "metadata": {
    "id": "sTTomnnP5kdU",
    "papermill": {
     "duration": 0.042358,
     "end_time": "2022-01-07T12:08:41.444037",
     "exception": false,
     "start_time": "2022-01-07T12:08:41.401679",
     "status": "completed"
    },
    "tags": []
   },
   "source": [
    "## Model"
   ]
  },
  {
   "cell_type": "code",
   "execution_count": 10,
   "id": "a63be951",
   "metadata": {
    "execution": {
     "iopub.execute_input": "2022-01-07T12:08:41.525315Z",
     "iopub.status.busy": "2022-01-07T12:08:41.524547Z",
     "iopub.status.idle": "2022-01-07T12:08:41.538191Z",
     "shell.execute_reply": "2022-01-07T12:08:41.538791Z"
    },
    "id": "ZNuXGIdD5kdU",
    "papermill": {
     "duration": 0.057265,
     "end_time": "2022-01-07T12:08:41.539094",
     "exception": false,
     "start_time": "2022-01-07T12:08:41.481829",
     "status": "completed"
    },
    "tags": []
   },
   "outputs": [],
   "source": [
    "model = CNN(\n",
    "    number_of_classes=config[\"number_of_classes\"],\n",
    "    vocab_size=vocabulary.__len__(),\n",
    "    embedding_dim=config[\"embedding_dim\"],\n",
    "    input_len=max_tok_len\n",
    ").to(device)"
   ]
  },
  {
   "cell_type": "markdown",
   "id": "b181eb31",
   "metadata": {
    "id": "1pqIm92h5kdV",
    "papermill": {
     "duration": 0.042457,
     "end_time": "2022-01-07T12:08:41.619731",
     "exception": false,
     "start_time": "2022-01-07T12:08:41.577274",
     "status": "completed"
    },
    "tags": []
   },
   "source": [
    "## Training"
   ]
  },
  {
   "cell_type": "code",
   "execution_count": 11,
   "id": "65a6e550",
   "metadata": {
    "colab": {
     "base_uri": "https://localhost:8080/"
    },
    "execution": {
     "iopub.execute_input": "2022-01-07T12:08:41.701807Z",
     "iopub.status.busy": "2022-01-07T12:08:41.701035Z",
     "iopub.status.idle": "2022-01-07T12:12:57.117907Z",
     "shell.execute_reply": "2022-01-07T12:12:57.118531Z"
    },
    "id": "uvO_-RFm5kdV",
    "outputId": "7799e5f9-78a7-4ef2-95e8-f06751912eda",
    "papermill": {
     "duration": 255.459542,
     "end_time": "2022-01-07T12:12:57.118803",
     "exception": false,
     "start_time": "2022-01-07T12:08:41.659261",
     "status": "completed"
    },
    "tags": []
   },
   "outputs": [
    {
     "name": "stdout",
     "output_type": "stream",
     "text": [
      "Epoch 0\n"
     ]
    },
    {
     "name": "stderr",
     "output_type": "stream",
     "text": [
      "/Users/katarina/Documents/repositories/GitHub/GLP/src/glp/tokenizers/utils.py:27: UserWarning: To copy construct from a tensor, it is recommended to use sourceTensor.clone().detach() or sourceTensor.clone().detach().requires_grad_(True), rather than torch.tensor(sourceTensor).\n",
      "  x = torch.tensor(pad(x), dtype=torch.long)\n"
     ]
    },
    {
     "name": "stdout",
     "output_type": "stream",
     "text": [
      "Train metrics: \n",
      " Accuracy: 79.4%, Avg loss: 0.617028 \n",
      "\n",
      "Epoch 1\n"
     ]
    },
    {
     "name": "stdout",
     "output_type": "stream",
     "text": [
      "Train metrics: \n",
      " Accuracy: 81.7%, Avg loss: 0.606524 \n",
      "\n",
      "Epoch 2\n"
     ]
    },
    {
     "name": "stdout",
     "output_type": "stream",
     "text": [
      "Train metrics: \n",
      " Accuracy: 82.7%, Avg loss: 0.600743 \n",
      "\n",
      "Epoch 3\n"
     ]
    },
    {
     "name": "stdout",
     "output_type": "stream",
     "text": [
      "Train metrics: \n",
      " Accuracy: 84.3%, Avg loss: 0.596395 \n",
      "\n",
      "Epoch 4\n"
     ]
    },
    {
     "name": "stdout",
     "output_type": "stream",
     "text": [
      "Train metrics: \n",
      " Accuracy: 85.1%, Avg loss: 0.593281 \n",
      "\n"
     ]
    }
   ],
   "source": [
    "model.train(train_loader, epochs=config[\"epochs\"])"
   ]
  },
  {
   "cell_type": "markdown",
   "id": "24ab6abb",
   "metadata": {
    "id": "bR2tamrc5kdV",
    "papermill": {
     "duration": 0.047871,
     "end_time": "2022-01-07T12:12:57.209667",
     "exception": false,
     "start_time": "2022-01-07T12:12:57.161796",
     "status": "completed"
    },
    "tags": []
   },
   "source": [
    "## Testing"
   ]
  },
  {
   "cell_type": "code",
   "execution_count": 12,
   "id": "a7d650e3",
   "metadata": {
    "colab": {
     "base_uri": "https://localhost:8080/"
    },
    "execution": {
     "iopub.execute_input": "2022-01-07T12:12:57.298315Z",
     "iopub.status.busy": "2022-01-07T12:12:57.296886Z",
     "iopub.status.idle": "2022-01-07T12:13:06.335521Z",
     "shell.execute_reply": "2022-01-07T12:13:06.336403Z"
    },
    "id": "wbnciyRK5kdW",
    "outputId": "d2592f9d-f074-465f-95f8-df3b759ae068",
    "papermill": {
     "duration": 9.084682,
     "end_time": "2022-01-07T12:13:06.336625",
     "exception": false,
     "start_time": "2022-01-07T12:12:57.251943",
     "status": "completed"
    },
    "tags": []
   },
   "outputs": [
    {
     "name": "stdout",
     "output_type": "stream",
     "text": [
      "p  4119 ; tp  3265.6597690582275 ; fp  864.3358636859126\n",
      "recall  0.7928283003297469 ; precision  0.7907174872454739\n",
      "num_batches 283\n",
      "correct 7336\n",
      "size 9034\n",
      "Test metrics: \n",
      " Accuracy: 0.812043, F1 score: 0.791771, Avg loss: 0.613264 \n",
      "\n"
     ]
    },
    {
     "data": {
      "text/plain": [
       "(0.8120433916316139, 0.7917714869663136)"
      ]
     },
     "execution_count": 12,
     "metadata": {},
     "output_type": "execute_result"
    }
   ],
   "source": [
    "test_dset = get_dataset(config[\"dataset\"], 'test')\n",
    "test_loader = DataLoader(test_dset, batch_size=config[\"batch_size\"], shuffle=True, collate_fn=collate)\n",
    "\n",
    "acc, f1 = model.test(test_loader)\n",
    "acc, f1"
   ]
  }
 ],
 "metadata": {
  "accelerator": "TPU",
  "colab": {
   "name": "torch_cnn_classifier.ipynb",
   "provenance": []
  },
  "environment": {
   "name": "pytorch-gpu.1-9.m75",
   "type": "gcloud",
   "uri": "gcr.io/deeplearning-platform-release/pytorch-gpu.1-9:m75"
  },
  "interpreter": {
   "hash": "9828b828580f1cac1b571b33de6cff8bacecc8916095e1bcbc967952ca7105b7"
  },
  "kernelspec": {
   "display_name": "Python 3",
   "name": "python3"
  },
  "language_info": {
   "codemirror_mode": {
    "name": "ipython",
    "version": 3
   },
   "file_extension": ".py",
   "mimetype": "text/x-python",
   "name": "python",
   "nbconvert_exporter": "python",
   "pygments_lexer": "ipython3",
   "version": "3.8.9"
  },
  "papermill": {
   "default_parameters": {},
   "duration": 717.239947,
   "end_time": "2022-01-07T12:13:07.009525",
   "environment_variables": {},
   "exception": null,
   "input_path": "torch_cnn.ipynb",
   "output_path": "../torch_cnn_experiments/human_nontata_promoters_subword_64.ipynb",
   "parameters": {
    "DATASET": "human_nontata_promoters",
    "TOKENIZER": "subword",
    "VOCAB_SIZE": 64
   },
   "start_time": "2022-01-07T12:01:09.769578",
   "version": "2.3.3"
  }
 },
 "nbformat": 4,
 "nbformat_minor": 5
}