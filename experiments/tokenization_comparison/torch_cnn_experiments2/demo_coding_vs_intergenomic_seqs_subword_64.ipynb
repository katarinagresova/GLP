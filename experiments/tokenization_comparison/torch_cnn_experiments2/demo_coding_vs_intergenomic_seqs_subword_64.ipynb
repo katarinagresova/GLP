{
 "cells": [
  {
   "cell_type": "markdown",
   "id": "16302fa1",
   "metadata": {
    "id": "SKOD9lvq5kdM",
    "papermill": {
     "duration": 0.029808,
     "end_time": "2022-01-06T17:35:14.561011",
     "exception": false,
     "start_time": "2022-01-06T17:35:14.531203",
     "status": "completed"
    },
    "tags": []
   },
   "source": [
    "# PYTORCH CNN Classifier"
   ]
  },
  {
   "cell_type": "code",
   "execution_count": 1,
   "id": "e4202b7e",
   "metadata": {
    "execution": {
     "iopub.execute_input": "2022-01-06T17:35:14.650260Z",
     "iopub.status.busy": "2022-01-06T17:35:14.648801Z",
     "iopub.status.idle": "2022-01-06T17:35:14.653518Z",
     "shell.execute_reply": "2022-01-06T17:35:14.654490Z"
    },
    "id": "E8prt3AL5kdO",
    "papermill": {
     "duration": 0.063905,
     "end_time": "2022-01-06T17:35:14.654946",
     "exception": false,
     "start_time": "2022-01-06T17:35:14.591041",
     "status": "completed"
    },
    "tags": [
     "parameters"
    ]
   },
   "outputs": [],
   "source": [
    "DATASET = 'none'\n",
    "VOCAB_SIZE = 0\n",
    "TOKENIZER = 'none'\n",
    "KMER = 0"
   ]
  },
  {
   "cell_type": "code",
   "execution_count": 2,
   "id": "f513e776",
   "metadata": {
    "execution": {
     "iopub.execute_input": "2022-01-06T17:35:14.705563Z",
     "iopub.status.busy": "2022-01-06T17:35:14.704566Z",
     "iopub.status.idle": "2022-01-06T17:35:14.708179Z",
     "shell.execute_reply": "2022-01-06T17:35:14.709009Z"
    },
    "papermill": {
     "duration": 0.03318,
     "end_time": "2022-01-06T17:35:14.709320",
     "exception": false,
     "start_time": "2022-01-06T17:35:14.676140",
     "status": "completed"
    },
    "tags": [
     "injected-parameters"
    ]
   },
   "outputs": [],
   "source": [
    "# Parameters\n",
    "DATASET = \"demo_coding_vs_intergenomic_seqs\"\n",
    "TOKENIZER = \"subword\"\n",
    "VOCAB_SIZE = 64\n"
   ]
  },
  {
   "cell_type": "code",
   "execution_count": 3,
   "id": "846a57f7",
   "metadata": {
    "colab": {
     "base_uri": "https://localhost:8080/"
    },
    "execution": {
     "iopub.execute_input": "2022-01-06T17:35:14.773759Z",
     "iopub.status.busy": "2022-01-06T17:35:14.772517Z",
     "iopub.status.idle": "2022-01-06T17:35:14.776884Z",
     "shell.execute_reply": "2022-01-06T17:35:14.777384Z"
    },
    "id": "rohBItfR5kdP",
    "outputId": "7da7aafe-0858-48be-bf7d-f698784d88df",
    "papermill": {
     "duration": 0.039494,
     "end_time": "2022-01-06T17:35:14.777588",
     "exception": false,
     "start_time": "2022-01-06T17:35:14.738094",
     "status": "completed"
    },
    "tags": []
   },
   "outputs": [
    {
     "name": "stdout",
     "output_type": "stream",
     "text": [
      "demo_coding_vs_intergenomic_seqs 64 subword 0\n"
     ]
    }
   ],
   "source": [
    "print(DATASET, VOCAB_SIZE, TOKENIZER, KMER)"
   ]
  },
  {
   "cell_type": "markdown",
   "id": "4dffb7c3",
   "metadata": {
    "id": "Y-YQrVyb5kdQ",
    "papermill": {
     "duration": 0.020605,
     "end_time": "2022-01-06T17:35:14.824649",
     "exception": false,
     "start_time": "2022-01-06T17:35:14.804044",
     "status": "completed"
    },
    "tags": []
   },
   "source": [
    "## Config"
   ]
  },
  {
   "cell_type": "code",
   "execution_count": 4,
   "id": "9429a5ae",
   "metadata": {
    "execution": {
     "iopub.execute_input": "2022-01-06T17:35:14.890985Z",
     "iopub.status.busy": "2022-01-06T17:35:14.888688Z",
     "iopub.status.idle": "2022-01-06T17:35:16.863931Z",
     "shell.execute_reply": "2022-01-06T17:35:16.864582Z"
    },
    "id": "FIunuyGk5kdR",
    "papermill": {
     "duration": 2.016365,
     "end_time": "2022-01-06T17:35:16.864800",
     "exception": false,
     "start_time": "2022-01-06T17:35:14.848435",
     "status": "completed"
    },
    "tags": []
   },
   "outputs": [],
   "source": [
    "import torch\n",
    "from torch.utils.data import DataLoader\n",
    "\n",
    "from genomic_benchmarks.dataset_getters.pytorch_datasets import get_dataset\n",
    "from glp.models import CNN\n",
    "from glp.tokenizers import get_tokenizer\n",
    "from glp.tokenizers.utils import build_vocab, coll_factory, check_config, check_seq_lengths"
   ]
  },
  {
   "cell_type": "code",
   "execution_count": 5,
   "id": "7969cd8a",
   "metadata": {
    "execution": {
     "iopub.execute_input": "2022-01-06T17:35:16.910465Z",
     "iopub.status.busy": "2022-01-06T17:35:16.907747Z",
     "iopub.status.idle": "2022-01-06T17:35:16.914658Z",
     "shell.execute_reply": "2022-01-06T17:35:16.915557Z"
    },
    "id": "UgXiF6Zz5kdR",
    "papermill": {
     "duration": 0.031006,
     "end_time": "2022-01-06T17:35:16.916015",
     "exception": false,
     "start_time": "2022-01-06T17:35:16.885009",
     "status": "completed"
    },
    "tags": []
   },
   "outputs": [],
   "source": [
    "config = {\n",
    "    \"dataset\": DATASET,\n",
    "    \"tokenizer\": TOKENIZER,\n",
    "    \"dataset_version\": 0,\n",
    "    \"epochs\": 5,\n",
    "    \"batch_size\": 32,\n",
    "    \"use_padding\": True,\n",
    "    \"force_download\": False,\n",
    "    \"run_on_gpu\": True,\n",
    "    \"number_of_classes\": 2,\n",
    "    \"embedding_dim\": 100,\n",
    "}\n",
    "check_config(config)"
   ]
  },
  {
   "cell_type": "markdown",
   "id": "60731522",
   "metadata": {
    "id": "AUWF-avz5kdS",
    "papermill": {
     "duration": 0.02375,
     "end_time": "2022-01-06T17:35:16.958712",
     "exception": false,
     "start_time": "2022-01-06T17:35:16.934962",
     "status": "completed"
    },
    "tags": []
   },
   "source": [
    "## Choose the dataset"
   ]
  },
  {
   "cell_type": "code",
   "execution_count": 6,
   "id": "0c0c6180",
   "metadata": {
    "colab": {
     "base_uri": "https://localhost:8080/"
    },
    "execution": {
     "iopub.execute_input": "2022-01-06T17:35:17.004806Z",
     "iopub.status.busy": "2022-01-06T17:35:17.003516Z",
     "iopub.status.idle": "2022-01-06T17:35:17.721301Z",
     "shell.execute_reply": "2022-01-06T17:35:17.721777Z"
    },
    "id": "1oaryDJr5kdS",
    "outputId": "6a425df9-4092-4601-9cd9-f61d524b6278",
    "papermill": {
     "duration": 0.742321,
     "end_time": "2022-01-06T17:35:17.722015",
     "exception": false,
     "start_time": "2022-01-06T17:35:16.979694",
     "status": "completed"
    },
    "tags": []
   },
   "outputs": [],
   "source": [
    "train_dset = get_dataset(config[\"dataset\"], 'train')"
   ]
  },
  {
   "cell_type": "markdown",
   "id": "14cf7eaf",
   "metadata": {
    "id": "B0lqmy935kdS",
    "papermill": {
     "duration": 0.01953,
     "end_time": "2022-01-06T17:35:17.762512",
     "exception": false,
     "start_time": "2022-01-06T17:35:17.742982",
     "status": "completed"
    },
    "tags": []
   },
   "source": [
    "## Tokenizer and vocab"
   ]
  },
  {
   "cell_type": "code",
   "execution_count": 7,
   "id": "341beb2f",
   "metadata": {
    "colab": {
     "base_uri": "https://localhost:8080/"
    },
    "execution": {
     "iopub.execute_input": "2022-01-06T17:35:17.808905Z",
     "iopub.status.busy": "2022-01-06T17:35:17.807466Z",
     "iopub.status.idle": "2022-01-06T17:55:40.506617Z",
     "shell.execute_reply": "2022-01-06T17:55:40.507132Z"
    },
    "id": "NY_zualp5kdT",
    "outputId": "9034d65f-2f9a-4c83-a314-13d3b808fc65",
    "papermill": {
     "duration": 1222.727075,
     "end_time": "2022-01-06T17:55:40.507343",
     "exception": false,
     "start_time": "2022-01-06T17:35:17.780268",
     "status": "completed"
    },
    "tags": []
   },
   "outputs": [
    {
     "name": "stderr",
     "output_type": "stream",
     "text": [
      "sentencepiece_trainer.cc(177) LOG(INFO) Running command: --input=sample.csv --model_prefix=sample --vocab_size=64 --model_type=unigram\n",
      "sentencepiece_trainer.cc(77) LOG(INFO) Starts training with : \n",
      "trainer_spec {\n",
      "  input: sample.csv\n",
      "  input_format: \n",
      "  model_prefix: sample\n",
      "  model_type: UNIGRAM\n",
      "  vocab_size: 64\n",
      "  self_test_sample_size: 0\n",
      "  character_coverage: 0.9995\n",
      "  input_sentence_size: 0\n",
      "  shuffle_input_sentence: 1\n",
      "  seed_sentencepiece_size: 1000000\n",
      "  shrinking_factor: 0.75\n",
      "  max_sentence_length: 4192\n",
      "  num_threads: 16\n",
      "  num_sub_iterations: 2\n",
      "  max_sentencepiece_length: 16\n",
      "  split_by_unicode_script: 1\n",
      "  split_by_number: 1\n",
      "  split_by_whitespace: 1\n",
      "  split_digits: 0\n",
      "  treat_whitespace_as_suffix: 0\n",
      "  required_chars: \n",
      "  byte_fallback: 0\n",
      "  vocabulary_output_piece_score: 1\n",
      "  train_extremely_large_corpus: 0\n",
      "  hard_vocab_limit: 1\n",
      "  use_all_vocab: 0\n",
      "  unk_id: 0\n",
      "  bos_id: 1\n",
      "  eos_id: 2\n",
      "  pad_id: -1\n",
      "  unk_piece: <unk>\n",
      "  bos_piece: <s>\n",
      "  eos_piece: </s>\n",
      "  pad_piece: <pad>\n",
      "  unk_surface:  ⁇ \n",
      "}\n",
      "normalizer_spec {\n",
      "  name: nmt_nfkc\n",
      "  add_dummy_prefix: 1\n",
      "  remove_extra_whitespaces: 1\n",
      "  escape_whitespaces: 1\n",
      "  normalization_rule_tsv: \n",
      "}\n",
      "denormalizer_spec {}\n",
      "trainer_interface.cc(319) LOG(INFO) SentenceIterator is not specified. Using MultiFileSentenceIterator.\n",
      "trainer_interface.cc(174) LOG(INFO) Loading corpus: sample.csv\n"
     ]
    },
    {
     "name": "stderr",
     "output_type": "stream",
     "text": [
      "trainer_interface.cc(375) LOG(INFO) Loaded all 75000 sentences\n",
      "trainer_interface.cc(390) LOG(INFO) Adding meta_piece: <unk>\n",
      "trainer_interface.cc(390) LOG(INFO) Adding meta_piece: <s>\n",
      "trainer_interface.cc(390) LOG(INFO) Adding meta_piece: </s>\n",
      "trainer_interface.cc(395) LOG(INFO) Normalizing sentences...\n"
     ]
    },
    {
     "name": "stderr",
     "output_type": "stream",
     "text": [
      "trainer_interface.cc(456) LOG(INFO) all chars count=15075000\n",
      "trainer_interface.cc(477) LOG(INFO) Alphabet size=5\n",
      "trainer_interface.cc(478) LOG(INFO) Final character coverage=1\n"
     ]
    },
    {
     "name": "stderr",
     "output_type": "stream",
     "text": [
      "trainer_interface.cc(510) LOG(INFO) Done! preprocessed 75000 sentences.\n"
     ]
    },
    {
     "name": "stderr",
     "output_type": "stream",
     "text": [
      "unigram_model_trainer.cc(138) LOG(INFO) Making suffix array...\n"
     ]
    },
    {
     "name": "stderr",
     "output_type": "stream",
     "text": [
      "unigram_model_trainer.cc(142) LOG(INFO) Extracting frequent sub strings...\n"
     ]
    },
    {
     "name": "stderr",
     "output_type": "stream",
     "text": [
      "unigram_model_trainer.cc(193) LOG(INFO) Initialized 1000000 seed sentencepieces\n"
     ]
    },
    {
     "name": "stderr",
     "output_type": "stream",
     "text": [
      "trainer_interface.cc(516) LOG(INFO) Tokenizing input sentences with whitespace: 75000\n"
     ]
    },
    {
     "name": "stderr",
     "output_type": "stream",
     "text": [
      "trainer_interface.cc(526) LOG(INFO) Done! 74956\n",
      "unigram_model_trainer.cc(488) LOG(INFO) Using 74956 sentences for EM training\n"
     ]
    },
    {
     "name": "stderr",
     "output_type": "stream",
     "text": [
      "unigram_model_trainer.cc(504) LOG(INFO) EM sub_iter=0 size=640665 obj=269.296 num_tokens=1575434 num_tokens/piece=2.45906\n"
     ]
    },
    {
     "name": "stderr",
     "output_type": "stream",
     "text": [
      "unigram_model_trainer.cc(504) LOG(INFO) EM sub_iter=1 size=448785 obj=270.09 num_tokens=1656049 num_tokens/piece=3.69007\n"
     ]
    },
    {
     "name": "stderr",
     "output_type": "stream",
     "text": [
      "unigram_model_trainer.cc(504) LOG(INFO) EM sub_iter=0 size=290798 obj=269 num_tokens=1709343 num_tokens/piece=5.87811\n"
     ]
    },
    {
     "name": "stderr",
     "output_type": "stream",
     "text": [
      "unigram_model_trainer.cc(504) LOG(INFO) EM sub_iter=1 size=266296 obj=266.04 num_tokens=1739892 num_tokens/piece=6.53368\n"
     ]
    },
    {
     "name": "stderr",
     "output_type": "stream",
     "text": [
      "unigram_model_trainer.cc(504) LOG(INFO) EM sub_iter=0 size=197154 obj=266.615 num_tokens=1776472 num_tokens/piece=9.01058\n"
     ]
    },
    {
     "name": "stderr",
     "output_type": "stream",
     "text": [
      "unigram_model_trainer.cc(504) LOG(INFO) EM sub_iter=1 size=192891 obj=264.835 num_tokens=1786068 num_tokens/piece=9.25947\n"
     ]
    },
    {
     "name": "stderr",
     "output_type": "stream",
     "text": [
      "unigram_model_trainer.cc(504) LOG(INFO) EM sub_iter=0 size=144624 obj=266.087 num_tokens=1825001 num_tokens/piece=12.6189\n"
     ]
    },
    {
     "name": "stderr",
     "output_type": "stream",
     "text": [
      "unigram_model_trainer.cc(504) LOG(INFO) EM sub_iter=1 size=144476 obj=264.389 num_tokens=1827290 num_tokens/piece=12.6477\n"
     ]
    },
    {
     "name": "stderr",
     "output_type": "stream",
     "text": [
      "unigram_model_trainer.cc(504) LOG(INFO) EM sub_iter=0 size=108355 obj=266.592 num_tokens=1880650 num_tokens/piece=17.3564\n"
     ]
    },
    {
     "name": "stderr",
     "output_type": "stream",
     "text": [
      "unigram_model_trainer.cc(504) LOG(INFO) EM sub_iter=1 size=108348 obj=264.445 num_tokens=1881172 num_tokens/piece=17.3623\n"
     ]
    },
    {
     "name": "stderr",
     "output_type": "stream",
     "text": [
      "unigram_model_trainer.cc(504) LOG(INFO) EM sub_iter=0 size=81261 obj=267.393 num_tokens=1943515 num_tokens/piece=23.9169\n"
     ]
    },
    {
     "name": "stderr",
     "output_type": "stream",
     "text": [
      "unigram_model_trainer.cc(504) LOG(INFO) EM sub_iter=1 size=81259 obj=264.966 num_tokens=1943880 num_tokens/piece=23.922\n"
     ]
    },
    {
     "name": "stderr",
     "output_type": "stream",
     "text": [
      "unigram_model_trainer.cc(504) LOG(INFO) EM sub_iter=0 size=60944 obj=268.163 num_tokens=2007662 num_tokens/piece=32.9427\n"
     ]
    },
    {
     "name": "stderr",
     "output_type": "stream",
     "text": [
      "unigram_model_trainer.cc(504) LOG(INFO) EM sub_iter=1 size=60944 obj=265.755 num_tokens=2008219 num_tokens/piece=32.9519\n"
     ]
    },
    {
     "name": "stderr",
     "output_type": "stream",
     "text": [
      "unigram_model_trainer.cc(504) LOG(INFO) EM sub_iter=0 size=45708 obj=268.928 num_tokens=2069680 num_tokens/piece=45.2805\n"
     ]
    },
    {
     "name": "stderr",
     "output_type": "stream",
     "text": [
      "unigram_model_trainer.cc(504) LOG(INFO) EM sub_iter=1 size=45708 obj=266.698 num_tokens=2070399 num_tokens/piece=45.2962\n"
     ]
    },
    {
     "name": "stderr",
     "output_type": "stream",
     "text": [
      "unigram_model_trainer.cc(504) LOG(INFO) EM sub_iter=0 size=34281 obj=269.678 num_tokens=2129608 num_tokens/piece=62.1221\n"
     ]
    },
    {
     "name": "stderr",
     "output_type": "stream",
     "text": [
      "unigram_model_trainer.cc(504) LOG(INFO) EM sub_iter=1 size=34281 obj=267.642 num_tokens=2130471 num_tokens/piece=62.1473\n"
     ]
    },
    {
     "name": "stderr",
     "output_type": "stream",
     "text": [
      "unigram_model_trainer.cc(504) LOG(INFO) EM sub_iter=0 size=25710 obj=270.462 num_tokens=2190661 num_tokens/piece=85.2066\n"
     ]
    },
    {
     "name": "stderr",
     "output_type": "stream",
     "text": [
      "unigram_model_trainer.cc(504) LOG(INFO) EM sub_iter=1 size=25710 obj=268.493 num_tokens=2191621 num_tokens/piece=85.2439\n"
     ]
    },
    {
     "name": "stderr",
     "output_type": "stream",
     "text": [
      "unigram_model_trainer.cc(504) LOG(INFO) EM sub_iter=0 size=19282 obj=271.422 num_tokens=2255871 num_tokens/piece=116.994\n"
     ]
    },
    {
     "name": "stderr",
     "output_type": "stream",
     "text": [
      "unigram_model_trainer.cc(504) LOG(INFO) EM sub_iter=1 size=19282 obj=269.316 num_tokens=2256802 num_tokens/piece=117.042\n"
     ]
    },
    {
     "name": "stderr",
     "output_type": "stream",
     "text": [
      "unigram_model_trainer.cc(504) LOG(INFO) EM sub_iter=0 size=14461 obj=272.266 num_tokens=2324545 num_tokens/piece=160.746\n"
     ]
    },
    {
     "name": "stderr",
     "output_type": "stream",
     "text": [
      "unigram_model_trainer.cc(504) LOG(INFO) EM sub_iter=1 size=14461 obj=270.06 num_tokens=2325473 num_tokens/piece=160.81\n"
     ]
    },
    {
     "name": "stderr",
     "output_type": "stream",
     "text": [
      "unigram_model_trainer.cc(504) LOG(INFO) EM sub_iter=0 size=10845 obj=273.156 num_tokens=2396682 num_tokens/piece=220.994\n"
     ]
    },
    {
     "name": "stderr",
     "output_type": "stream",
     "text": [
      "unigram_model_trainer.cc(504) LOG(INFO) EM sub_iter=1 size=10845 obj=270.743 num_tokens=2397539 num_tokens/piece=221.073\n"
     ]
    },
    {
     "name": "stderr",
     "output_type": "stream",
     "text": [
      "unigram_model_trainer.cc(504) LOG(INFO) EM sub_iter=0 size=8133 obj=273.938 num_tokens=2473327 num_tokens/piece=304.11\n"
     ]
    },
    {
     "name": "stderr",
     "output_type": "stream",
     "text": [
      "unigram_model_trainer.cc(504) LOG(INFO) EM sub_iter=1 size=8133 obj=271.313 num_tokens=2474339 num_tokens/piece=304.234\n"
     ]
    },
    {
     "name": "stderr",
     "output_type": "stream",
     "text": [
      "unigram_model_trainer.cc(504) LOG(INFO) EM sub_iter=0 size=6099 obj=274.717 num_tokens=2558137 num_tokens/piece=419.435\n"
     ]
    },
    {
     "name": "stderr",
     "output_type": "stream",
     "text": [
      "unigram_model_trainer.cc(504) LOG(INFO) EM sub_iter=1 size=6099 obj=271.845 num_tokens=2559170 num_tokens/piece=419.605\n"
     ]
    },
    {
     "name": "stderr",
     "output_type": "stream",
     "text": [
      "unigram_model_trainer.cc(504) LOG(INFO) EM sub_iter=0 size=4574 obj=275.53 num_tokens=2650791 num_tokens/piece=579.535\n"
     ]
    },
    {
     "name": "stderr",
     "output_type": "stream",
     "text": [
      "unigram_model_trainer.cc(504) LOG(INFO) EM sub_iter=1 size=4574 obj=272.41 num_tokens=2652229 num_tokens/piece=579.849\n"
     ]
    },
    {
     "name": "stderr",
     "output_type": "stream",
     "text": [
      "unigram_model_trainer.cc(504) LOG(INFO) EM sub_iter=0 size=3430 obj=276.272 num_tokens=2749755 num_tokens/piece=801.678\n"
     ]
    },
    {
     "name": "stderr",
     "output_type": "stream",
     "text": [
      "unigram_model_trainer.cc(504) LOG(INFO) EM sub_iter=1 size=3430 obj=272.984 num_tokens=2751155 num_tokens/piece=802.086\n"
     ]
    },
    {
     "name": "stderr",
     "output_type": "stream",
     "text": [
      "unigram_model_trainer.cc(504) LOG(INFO) EM sub_iter=0 size=2572 obj=277.005 num_tokens=2853916 num_tokens/piece=1109.61\n"
     ]
    },
    {
     "name": "stderr",
     "output_type": "stream",
     "text": [
      "unigram_model_trainer.cc(504) LOG(INFO) EM sub_iter=1 size=2572 obj=273.587 num_tokens=2855603 num_tokens/piece=1110.27\n"
     ]
    },
    {
     "name": "stderr",
     "output_type": "stream",
     "text": [
      "unigram_model_trainer.cc(504) LOG(INFO) EM sub_iter=0 size=1929 obj=277.534 num_tokens=2963878 num_tokens/piece=1536.48\n"
     ]
    },
    {
     "name": "stderr",
     "output_type": "stream",
     "text": [
      "unigram_model_trainer.cc(504) LOG(INFO) EM sub_iter=1 size=1929 obj=273.936 num_tokens=2964971 num_tokens/piece=1537.05\n"
     ]
    },
    {
     "name": "stderr",
     "output_type": "stream",
     "text": [
      "unigram_model_trainer.cc(504) LOG(INFO) EM sub_iter=0 size=1446 obj=278.252 num_tokens=3084607 num_tokens/piece=2133.2\n"
     ]
    },
    {
     "name": "stderr",
     "output_type": "stream",
     "text": [
      "unigram_model_trainer.cc(504) LOG(INFO) EM sub_iter=1 size=1446 obj=274.335 num_tokens=3085967 num_tokens/piece=2134.14\n"
     ]
    },
    {
     "name": "stderr",
     "output_type": "stream",
     "text": [
      "unigram_model_trainer.cc(504) LOG(INFO) EM sub_iter=0 size=1084 obj=278.915 num_tokens=3216248 num_tokens/piece=2967.02\n"
     ]
    },
    {
     "name": "stderr",
     "output_type": "stream",
     "text": [
      "unigram_model_trainer.cc(504) LOG(INFO) EM sub_iter=1 size=1084 obj=274.738 num_tokens=3218062 num_tokens/piece=2968.69\n"
     ]
    },
    {
     "name": "stderr",
     "output_type": "stream",
     "text": [
      "unigram_model_trainer.cc(504) LOG(INFO) EM sub_iter=0 size=813 obj=279.909 num_tokens=3362082 num_tokens/piece=4135.4\n"
     ]
    },
    {
     "name": "stderr",
     "output_type": "stream",
     "text": [
      "unigram_model_trainer.cc(504) LOG(INFO) EM sub_iter=1 size=813 obj=275.314 num_tokens=3363969 num_tokens/piece=4137.72\n"
     ]
    },
    {
     "name": "stderr",
     "output_type": "stream",
     "text": [
      "unigram_model_trainer.cc(504) LOG(INFO) EM sub_iter=0 size=609 obj=280.929 num_tokens=3513053 num_tokens/piece=5768.56\n"
     ]
    },
    {
     "name": "stderr",
     "output_type": "stream",
     "text": [
      "unigram_model_trainer.cc(504) LOG(INFO) EM sub_iter=1 size=609 obj=275.658 num_tokens=3514482 num_tokens/piece=5770.91\n"
     ]
    },
    {
     "name": "stderr",
     "output_type": "stream",
     "text": [
      "unigram_model_trainer.cc(504) LOG(INFO) EM sub_iter=0 size=456 obj=281.725 num_tokens=3685073 num_tokens/piece=8081.3\n"
     ]
    },
    {
     "name": "stderr",
     "output_type": "stream",
     "text": [
      "unigram_model_trainer.cc(504) LOG(INFO) EM sub_iter=1 size=456 obj=275.864 num_tokens=3686909 num_tokens/piece=8085.33\n"
     ]
    },
    {
     "name": "stderr",
     "output_type": "stream",
     "text": [
      "unigram_model_trainer.cc(504) LOG(INFO) EM sub_iter=0 size=342 obj=283.232 num_tokens=3874608 num_tokens/piece=11329.3\n"
     ]
    },
    {
     "name": "stderr",
     "output_type": "stream",
     "text": [
      "unigram_model_trainer.cc(504) LOG(INFO) EM sub_iter=1 size=342 obj=276.112 num_tokens=3876714 num_tokens/piece=11335.4\n"
     ]
    },
    {
     "name": "stderr",
     "output_type": "stream",
     "text": [
      "unigram_model_trainer.cc(504) LOG(INFO) EM sub_iter=0 size=256 obj=283.751 num_tokens=4075034 num_tokens/piece=15918.1\n"
     ]
    },
    {
     "name": "stderr",
     "output_type": "stream",
     "text": [
      "unigram_model_trainer.cc(504) LOG(INFO) EM sub_iter=1 size=256 obj=276.393 num_tokens=4077379 num_tokens/piece=15927.3\n"
     ]
    },
    {
     "name": "stderr",
     "output_type": "stream",
     "text": [
      "unigram_model_trainer.cc(504) LOG(INFO) EM sub_iter=0 size=192 obj=284.384 num_tokens=4297936 num_tokens/piece=22385.1\n"
     ]
    },
    {
     "name": "stderr",
     "output_type": "stream",
     "text": [
      "unigram_model_trainer.cc(504) LOG(INFO) EM sub_iter=1 size=192 obj=276.752 num_tokens=4299840 num_tokens/piece=22395\n"
     ]
    },
    {
     "name": "stderr",
     "output_type": "stream",
     "text": [
      "unigram_model_trainer.cc(504) LOG(INFO) EM sub_iter=0 size=144 obj=286.727 num_tokens=4539858 num_tokens/piece=31526.8\n"
     ]
    },
    {
     "name": "stderr",
     "output_type": "stream",
     "text": [
      "unigram_model_trainer.cc(504) LOG(INFO) EM sub_iter=1 size=144 obj=277.119 num_tokens=4543408 num_tokens/piece=31551.4\n"
     ]
    },
    {
     "name": "stderr",
     "output_type": "stream",
     "text": [
      "unigram_model_trainer.cc(504) LOG(INFO) EM sub_iter=0 size=108 obj=285.938 num_tokens=4818320 num_tokens/piece=44614.1\n"
     ]
    },
    {
     "name": "stderr",
     "output_type": "stream",
     "text": [
      "unigram_model_trainer.cc(504) LOG(INFO) EM sub_iter=1 size=108 obj=277.661 num_tokens=4821882 num_tokens/piece=44647.1\n"
     ]
    },
    {
     "name": "stderr",
     "output_type": "stream",
     "text": [
      "unigram_model_trainer.cc(504) LOG(INFO) EM sub_iter=0 size=81 obj=286.117 num_tokens=5092622 num_tokens/piece=62871.9\n"
     ]
    },
    {
     "name": "stderr",
     "output_type": "stream",
     "text": [
      "unigram_model_trainer.cc(504) LOG(INFO) EM sub_iter=1 size=81 obj=277.954 num_tokens=5098098 num_tokens/piece=62939.5\n"
     ]
    },
    {
     "name": "stderr",
     "output_type": "stream",
     "text": [
      "unigram_model_trainer.cc(504) LOG(INFO) EM sub_iter=0 size=70 obj=282.162 num_tokens=5248809 num_tokens/piece=74983\n"
     ]
    },
    {
     "name": "stderr",
     "output_type": "stream",
     "text": [
      "unigram_model_trainer.cc(504) LOG(INFO) EM sub_iter=1 size=70 obj=278.004 num_tokens=5258360 num_tokens/piece=75119.4\n",
      "trainer_interface.cc(604) LOG(INFO) Saving model: sample.model\n",
      "trainer_interface.cc(615) LOG(INFO) Saving vocabs: sample.vocab\n"
     ]
    },
    {
     "name": "stdout",
     "output_type": "stream",
     "text": [
      "vocab len: 63\n",
      "{'GCT': 59, 'AGG': 55, 'AAC': 54, 'CTC': 53, 'TTC': 52, 'GGAG': 51, 'GTG': 50, 'GGG': 48, 'GAC': 35, 'CCC': 43, '<pad>': 62, 'C': 60, 'TCA': 28, 'CAG': 42, 'TGT': 14, 'GC': 45, 'CG': 30, 'CCT': 39, 'TCC': 38, 'TCT': 9, 'TAA': 33, 'CTT': 29, 'GGC': 26, 'ATC': 34, 'TGG': 22, 'TTA': 25, 'CCA': 37, 'CAA': 24, 'AA': 17, 'ATT': 23, 'ACT': 21, 'CTG': 20, 'TGA': 18, 'GAG': 15, '▁': 1, 'TTT': 13, 'GTC': 57, 'GCC': 41, 'GAA': 49, 'ATG': 11, 'ATA': 31, 'ACA': 58, 'AAA': 5, 'AAG': 6, 'CAT': 10, 'T': 56, 'AGT': 32, 'AGC': 27, 'TAC': 7, 'CTA': 8, 'GA': 36, 'GT': 12, 'AT': 3, 'TTG': 46, 'ACC': 44, 'AC': 47, 'AAT': 16, 'A': 61, 'G': 2, 'AGA': 4, '<unk>': 0, 'CAC': 19, 'TGCA': 40}\n"
     ]
    }
   ],
   "source": [
    "tokenizer = get_tokenizer(config['tokenizer'])\n",
    "tokenizer.train(train_dset=train_dset, vocab_size=VOCAB_SIZE, kmer=KMER)\n",
    "vocabulary = build_vocab(train_dset, tokenizer, use_padding=config[\"use_padding\"])\n",
    "\n",
    "print(\"vocab len:\" ,vocabulary.__len__())\n",
    "print(vocabulary.get_stoi())"
   ]
  },
  {
   "cell_type": "markdown",
   "id": "15d9f224",
   "metadata": {
    "id": "3hGQpSJA5kdT",
    "papermill": {
     "duration": 0.046834,
     "end_time": "2022-01-06T17:55:40.590912",
     "exception": false,
     "start_time": "2022-01-06T17:55:40.544078",
     "status": "completed"
    },
    "tags": []
   },
   "source": [
    "## Dataloader and batch preparation"
   ]
  },
  {
   "cell_type": "code",
   "execution_count": 8,
   "id": "0ef0164d",
   "metadata": {
    "colab": {
     "base_uri": "https://localhost:8080/"
    },
    "execution": {
     "iopub.execute_input": "2022-01-06T17:55:40.671213Z",
     "iopub.status.busy": "2022-01-06T17:55:40.670243Z",
     "iopub.status.idle": "2022-01-06T17:56:37.940590Z",
     "shell.execute_reply": "2022-01-06T17:56:37.941069Z"
    },
    "id": "gXUgPH6q5kdT",
    "outputId": "a1eb6ba2-9bcd-416d-8662-e3516121da96",
    "papermill": {
     "duration": 57.312826,
     "end_time": "2022-01-06T17:56:37.941306",
     "exception": false,
     "start_time": "2022-01-06T17:55:40.628480",
     "status": "completed"
    },
    "tags": []
   },
   "outputs": [
    {
     "name": "stdout",
     "output_type": "stream",
     "text": [
      "Using cpu device\n"
     ]
    },
    {
     "name": "stdout",
     "output_type": "stream",
     "text": [
      "max_tok_len  87\n"
     ]
    },
    {
     "name": "stdout",
     "output_type": "stream",
     "text": [
      "not all sequences are of the same length\n"
     ]
    }
   ],
   "source": [
    "# Run on GPU or CPU\n",
    "device = 'cuda' if config[\"run_on_gpu\"] and torch.cuda.is_available() else 'cpu'\n",
    "print('Using {} device'.format(device))\n",
    "\n",
    "max_tok_len = check_seq_lengths(dataset=train_dset, tokenizer=tokenizer)\n",
    "\n",
    "# Data Loader\n",
    "collate = coll_factory(vocabulary, tokenizer, device, pad_to_length = max_tok_len)\n",
    "\n",
    "train_loader = DataLoader(train_dset, batch_size=config[\"batch_size\"], shuffle=True, collate_fn=collate)"
   ]
  },
  {
   "cell_type": "code",
   "execution_count": 9,
   "id": "89229b0a",
   "metadata": {
    "execution": {
     "iopub.execute_input": "2022-01-06T17:56:38.045280Z",
     "iopub.status.busy": "2022-01-06T17:56:38.044483Z",
     "iopub.status.idle": "2022-01-06T17:56:38.057206Z",
     "shell.execute_reply": "2022-01-06T17:56:38.057845Z"
    },
    "papermill": {
     "duration": 0.071392,
     "end_time": "2022-01-06T17:56:38.058144",
     "exception": false,
     "start_time": "2022-01-06T17:56:37.986752",
     "status": "completed"
    },
    "tags": []
   },
   "outputs": [
    {
     "data": {
      "text/plain": [
       "['▁',\n",
       " 'CCA',\n",
       " 'TCC',\n",
       " 'GAG',\n",
       " 'TGT',\n",
       " 'CCT',\n",
       " 'AGT',\n",
       " 'GA',\n",
       " 'ATC',\n",
       " 'TGCA',\n",
       " 'GCC',\n",
       " 'CAG',\n",
       " 'ATG',\n",
       " 'GGC',\n",
       " 'TCA',\n",
       " 'CG',\n",
       " 'TTT',\n",
       " 'CCC',\n",
       " 'TGT',\n",
       " 'GT',\n",
       " 'ACC',\n",
       " 'CCA',\n",
       " 'CAT',\n",
       " 'GC',\n",
       " 'CCA',\n",
       " 'CTG',\n",
       " 'AGC',\n",
       " 'CCC',\n",
       " 'G',\n",
       " 'AAG',\n",
       " 'TGG',\n",
       " 'TTG',\n",
       " 'CCC',\n",
       " 'AGA',\n",
       " 'CCC',\n",
       " 'CTT',\n",
       " 'ACC',\n",
       " 'CAG',\n",
       " 'AC',\n",
       " 'CCC',\n",
       " 'GGG',\n",
       " 'CTG',\n",
       " 'AAA',\n",
       " 'GAA',\n",
       " 'CCT',\n",
       " 'TGT',\n",
       " 'GTG',\n",
       " 'GT',\n",
       " 'TTA',\n",
       " 'ATC',\n",
       " 'TCA',\n",
       " 'GAG',\n",
       " 'CAG',\n",
       " 'AGT',\n",
       " 'CCT',\n",
       " 'CTG',\n",
       " 'AGC',\n",
       " 'TGG',\n",
       " 'AGA',\n",
       " 'TGT',\n",
       " 'TTG',\n",
       " 'AT',\n",
       " 'TGA',\n",
       " 'GAG',\n",
       " 'ACT',\n",
       " 'GCC',\n",
       " 'GGAG',\n",
       " 'GGG',\n",
       " 'CCT',\n",
       " 'CCC']"
      ]
     },
     "execution_count": 9,
     "metadata": {},
     "output_type": "execute_result"
    }
   ],
   "source": [
    "tokenizer(train_dset[1][0])"
   ]
  },
  {
   "cell_type": "markdown",
   "id": "2bd3816b",
   "metadata": {
    "id": "sTTomnnP5kdU",
    "papermill": {
     "duration": 0.095677,
     "end_time": "2022-01-06T17:56:38.219684",
     "exception": false,
     "start_time": "2022-01-06T17:56:38.124007",
     "status": "completed"
    },
    "tags": []
   },
   "source": [
    "## Model"
   ]
  },
  {
   "cell_type": "code",
   "execution_count": 10,
   "id": "3859814a",
   "metadata": {
    "execution": {
     "iopub.execute_input": "2022-01-06T17:56:38.631047Z",
     "iopub.status.busy": "2022-01-06T17:56:38.627593Z",
     "iopub.status.idle": "2022-01-06T17:56:38.639872Z",
     "shell.execute_reply": "2022-01-06T17:56:38.640704Z"
    },
    "id": "ZNuXGIdD5kdU",
    "papermill": {
     "duration": 0.17941,
     "end_time": "2022-01-06T17:56:38.641137",
     "exception": false,
     "start_time": "2022-01-06T17:56:38.461727",
     "status": "completed"
    },
    "tags": []
   },
   "outputs": [],
   "source": [
    "model = CNN(\n",
    "    number_of_classes=config[\"number_of_classes\"],\n",
    "    vocab_size=vocabulary.__len__(),\n",
    "    embedding_dim=config[\"embedding_dim\"],\n",
    "    input_len=max_tok_len\n",
    ").to(device)"
   ]
  },
  {
   "cell_type": "markdown",
   "id": "60eb3f4f",
   "metadata": {
    "id": "1pqIm92h5kdV",
    "papermill": {
     "duration": 0.09601,
     "end_time": "2022-01-06T17:56:38.826794",
     "exception": false,
     "start_time": "2022-01-06T17:56:38.730784",
     "status": "completed"
    },
    "tags": []
   },
   "source": [
    "## Training"
   ]
  },
  {
   "cell_type": "code",
   "execution_count": 11,
   "id": "a0d5500a",
   "metadata": {
    "colab": {
     "base_uri": "https://localhost:8080/"
    },
    "execution": {
     "iopub.execute_input": "2022-01-06T17:56:39.095466Z",
     "iopub.status.busy": "2022-01-06T17:56:39.093341Z",
     "iopub.status.idle": "2022-01-06T18:11:26.702199Z",
     "shell.execute_reply": "2022-01-06T18:11:26.702773Z"
    },
    "id": "uvO_-RFm5kdV",
    "outputId": "7799e5f9-78a7-4ef2-95e8-f06751912eda",
    "papermill": {
     "duration": 887.740054,
     "end_time": "2022-01-06T18:11:26.703073",
     "exception": false,
     "start_time": "2022-01-06T17:56:38.963019",
     "status": "completed"
    },
    "tags": []
   },
   "outputs": [
    {
     "name": "stdout",
     "output_type": "stream",
     "text": [
      "Epoch 0\n"
     ]
    },
    {
     "name": "stderr",
     "output_type": "stream",
     "text": [
      "/Users/katarina/Documents/repositories/GitHub/GLP/src/glp/tokenizers/utils.py:27: UserWarning: To copy construct from a tensor, it is recommended to use sourceTensor.clone().detach() or sourceTensor.clone().detach().requires_grad_(True), rather than torch.tensor(sourceTensor).\n",
      "  x = torch.tensor(pad(x), dtype=torch.long)\n"
     ]
    },
    {
     "name": "stdout",
     "output_type": "stream",
     "text": [
      "Train metrics: \n",
      " Accuracy: 81.6%, Avg loss: 0.580822 \n",
      "\n",
      "Epoch 1\n"
     ]
    },
    {
     "name": "stdout",
     "output_type": "stream",
     "text": [
      "Train metrics: \n",
      " Accuracy: 83.9%, Avg loss: 0.574282 \n",
      "\n",
      "Epoch 2\n"
     ]
    },
    {
     "name": "stdout",
     "output_type": "stream",
     "text": [
      "Train metrics: \n",
      " Accuracy: 84.4%, Avg loss: 0.571927 \n",
      "\n",
      "Epoch 3\n"
     ]
    },
    {
     "name": "stdout",
     "output_type": "stream",
     "text": [
      "Train metrics: \n",
      " Accuracy: 85.8%, Avg loss: 0.567871 \n",
      "\n",
      "Epoch 4\n"
     ]
    },
    {
     "name": "stdout",
     "output_type": "stream",
     "text": [
      "Train metrics: \n",
      " Accuracy: 86.4%, Avg loss: 0.567416 \n",
      "\n"
     ]
    }
   ],
   "source": [
    "model.train(train_loader, epochs=config[\"epochs\"])"
   ]
  },
  {
   "cell_type": "markdown",
   "id": "7a493460",
   "metadata": {
    "id": "bR2tamrc5kdV",
    "papermill": {
     "duration": 0.047516,
     "end_time": "2022-01-06T18:11:26.793687",
     "exception": false,
     "start_time": "2022-01-06T18:11:26.746171",
     "status": "completed"
    },
    "tags": []
   },
   "source": [
    "## Testing"
   ]
  },
  {
   "cell_type": "code",
   "execution_count": 12,
   "id": "0c6d9f26",
   "metadata": {
    "colab": {
     "base_uri": "https://localhost:8080/"
    },
    "execution": {
     "iopub.execute_input": "2022-01-06T18:11:26.887702Z",
     "iopub.status.busy": "2022-01-06T18:11:26.886613Z",
     "iopub.status.idle": "2022-01-06T18:11:49.182138Z",
     "shell.execute_reply": "2022-01-06T18:11:49.182748Z"
    },
    "id": "wbnciyRK5kdW",
    "outputId": "d2592f9d-f074-465f-95f8-df3b759ae068",
    "papermill": {
     "duration": 22.342626,
     "end_time": "2022-01-06T18:11:49.183000",
     "exception": false,
     "start_time": "2022-01-06T18:11:26.840374",
     "status": "completed"
    },
    "tags": []
   },
   "outputs": [
    {
     "name": "stdout",
     "output_type": "stream",
     "text": [
      "p  12500 ; tp  10284.03145980835 ; fp  1640.6526031171518\n",
      "recall  0.822722516784668 ; precision  0.8624154237999452\n",
      "num_batches 782\n",
      "correct 21163\n",
      "size 25000\n",
      "Test metrics: \n",
      " Accuracy: 0.846520, F1 score: 0.842101, Avg loss: 0.576331 \n",
      "\n"
     ]
    },
    {
     "data": {
      "text/plain": [
       "(0.84652, 0.8421014931708857)"
      ]
     },
     "execution_count": 12,
     "metadata": {},
     "output_type": "execute_result"
    }
   ],
   "source": [
    "test_dset = get_dataset(config[\"dataset\"], 'test')\n",
    "test_loader = DataLoader(test_dset, batch_size=config[\"batch_size\"], shuffle=True, collate_fn=collate)\n",
    "\n",
    "acc, f1 = model.test(test_loader)\n",
    "acc, f1"
   ]
  }
 ],
 "metadata": {
  "accelerator": "TPU",
  "colab": {
   "name": "torch_cnn_classifier.ipynb",
   "provenance": []
  },
  "environment": {
   "name": "pytorch-gpu.1-9.m75",
   "type": "gcloud",
   "uri": "gcr.io/deeplearning-platform-release/pytorch-gpu.1-9:m75"
  },
  "interpreter": {
   "hash": "9828b828580f1cac1b571b33de6cff8bacecc8916095e1bcbc967952ca7105b7"
  },
  "kernelspec": {
   "display_name": "Python 3",
   "name": "python3"
  },
  "language_info": {
   "codemirror_mode": {
    "name": "ipython",
    "version": 3
   },
   "file_extension": ".py",
   "mimetype": "text/x-python",
   "name": "python",
   "nbconvert_exporter": "python",
   "pygments_lexer": "ipython3",
   "version": "3.8.9"
  },
  "papermill": {
   "default_parameters": {},
   "duration": 2198.242735,
   "end_time": "2022-01-06T18:11:49.756496",
   "environment_variables": {},
   "exception": null,
   "input_path": "torch_cnn.ipynb",
   "output_path": "../torch_cnn_experiments/demo_coding_vs_intergenomic_seqs_subword_64.ipynb",
   "parameters": {
    "DATASET": "demo_coding_vs_intergenomic_seqs",
    "TOKENIZER": "subword",
    "VOCAB_SIZE": 64
   },
   "start_time": "2022-01-06T17:35:11.513761",
   "version": "2.3.3"
  }
 },
 "nbformat": 4,
 "nbformat_minor": 5
}