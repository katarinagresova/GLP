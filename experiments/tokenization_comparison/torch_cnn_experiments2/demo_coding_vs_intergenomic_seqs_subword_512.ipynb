{
 "cells": [
  {
   "cell_type": "markdown",
   "id": "8634477f",
   "metadata": {
    "id": "SKOD9lvq5kdM",
    "papermill": {
     "duration": 0.019599,
     "end_time": "2022-01-07T03:36:07.739290",
     "exception": false,
     "start_time": "2022-01-07T03:36:07.719691",
     "status": "completed"
    },
    "tags": []
   },
   "source": [
    "# PYTORCH CNN Classifier"
   ]
  },
  {
   "cell_type": "code",
   "execution_count": 1,
   "id": "444b45dd",
   "metadata": {
    "execution": {
     "iopub.execute_input": "2022-01-07T03:36:07.777722Z",
     "iopub.status.busy": "2022-01-07T03:36:07.776842Z",
     "iopub.status.idle": "2022-01-07T03:36:07.781565Z",
     "shell.execute_reply": "2022-01-07T03:36:07.782132Z"
    },
    "id": "E8prt3AL5kdO",
    "papermill": {
     "duration": 0.027729,
     "end_time": "2022-01-07T03:36:07.782389",
     "exception": false,
     "start_time": "2022-01-07T03:36:07.754660",
     "status": "completed"
    },
    "tags": [
     "parameters"
    ]
   },
   "outputs": [],
   "source": [
    "DATASET = 'none'\n",
    "VOCAB_SIZE = 0\n",
    "TOKENIZER = 'none'\n",
    "KMER = 0"
   ]
  },
  {
   "cell_type": "code",
   "execution_count": 2,
   "id": "a5696e43",
   "metadata": {
    "execution": {
     "iopub.execute_input": "2022-01-07T03:36:07.815975Z",
     "iopub.status.busy": "2022-01-07T03:36:07.814870Z",
     "iopub.status.idle": "2022-01-07T03:36:07.817715Z",
     "shell.execute_reply": "2022-01-07T03:36:07.818471Z"
    },
    "papermill": {
     "duration": 0.023719,
     "end_time": "2022-01-07T03:36:07.818792",
     "exception": false,
     "start_time": "2022-01-07T03:36:07.795073",
     "status": "completed"
    },
    "tags": [
     "injected-parameters"
    ]
   },
   "outputs": [],
   "source": [
    "# Parameters\n",
    "DATASET = \"demo_coding_vs_intergenomic_seqs\"\n",
    "TOKENIZER = \"subword\"\n",
    "VOCAB_SIZE = 512\n"
   ]
  },
  {
   "cell_type": "code",
   "execution_count": 3,
   "id": "b592b239",
   "metadata": {
    "colab": {
     "base_uri": "https://localhost:8080/"
    },
    "execution": {
     "iopub.execute_input": "2022-01-07T03:36:07.852570Z",
     "iopub.status.busy": "2022-01-07T03:36:07.851808Z",
     "iopub.status.idle": "2022-01-07T03:36:07.854890Z",
     "shell.execute_reply": "2022-01-07T03:36:07.855381Z"
    },
    "id": "rohBItfR5kdP",
    "outputId": "7da7aafe-0858-48be-bf7d-f698784d88df",
    "papermill": {
     "duration": 0.021412,
     "end_time": "2022-01-07T03:36:07.855583",
     "exception": false,
     "start_time": "2022-01-07T03:36:07.834171",
     "status": "completed"
    },
    "tags": []
   },
   "outputs": [
    {
     "name": "stdout",
     "output_type": "stream",
     "text": [
      "demo_coding_vs_intergenomic_seqs 512 subword 0\n"
     ]
    }
   ],
   "source": [
    "print(DATASET, VOCAB_SIZE, TOKENIZER, KMER)"
   ]
  },
  {
   "cell_type": "markdown",
   "id": "7f7e062c",
   "metadata": {
    "id": "Y-YQrVyb5kdQ",
    "papermill": {
     "duration": 0.014804,
     "end_time": "2022-01-07T03:36:07.885181",
     "exception": false,
     "start_time": "2022-01-07T03:36:07.870377",
     "status": "completed"
    },
    "tags": []
   },
   "source": [
    "## Config"
   ]
  },
  {
   "cell_type": "code",
   "execution_count": 4,
   "id": "7d67d1ac",
   "metadata": {
    "execution": {
     "iopub.execute_input": "2022-01-07T03:36:07.920652Z",
     "iopub.status.busy": "2022-01-07T03:36:07.919587Z",
     "iopub.status.idle": "2022-01-07T03:36:09.601685Z",
     "shell.execute_reply": "2022-01-07T03:36:09.602212Z"
    },
    "id": "FIunuyGk5kdR",
    "papermill": {
     "duration": 1.702533,
     "end_time": "2022-01-07T03:36:09.602432",
     "exception": false,
     "start_time": "2022-01-07T03:36:07.899899",
     "status": "completed"
    },
    "tags": []
   },
   "outputs": [],
   "source": [
    "import torch\n",
    "from torch.utils.data import DataLoader\n",
    "\n",
    "from genomic_benchmarks.dataset_getters.pytorch_datasets import get_dataset\n",
    "from glp.models import CNN\n",
    "from glp.tokenizers import get_tokenizer\n",
    "from glp.tokenizers.utils import build_vocab, coll_factory, check_config, check_seq_lengths"
   ]
  },
  {
   "cell_type": "code",
   "execution_count": 5,
   "id": "a88c7fba",
   "metadata": {
    "execution": {
     "iopub.execute_input": "2022-01-07T03:36:09.640243Z",
     "iopub.status.busy": "2022-01-07T03:36:09.639477Z",
     "iopub.status.idle": "2022-01-07T03:36:09.641718Z",
     "shell.execute_reply": "2022-01-07T03:36:09.642434Z"
    },
    "id": "UgXiF6Zz5kdR",
    "papermill": {
     "duration": 0.023386,
     "end_time": "2022-01-07T03:36:09.642639",
     "exception": false,
     "start_time": "2022-01-07T03:36:09.619253",
     "status": "completed"
    },
    "tags": []
   },
   "outputs": [],
   "source": [
    "config = {\n",
    "    \"dataset\": DATASET,\n",
    "    \"tokenizer\": TOKENIZER,\n",
    "    \"dataset_version\": 0,\n",
    "    \"epochs\": 5,\n",
    "    \"batch_size\": 32,\n",
    "    \"use_padding\": True,\n",
    "    \"force_download\": False,\n",
    "    \"run_on_gpu\": True,\n",
    "    \"number_of_classes\": 2,\n",
    "    \"embedding_dim\": 100,\n",
    "}\n",
    "check_config(config)"
   ]
  },
  {
   "cell_type": "markdown",
   "id": "5d878063",
   "metadata": {
    "id": "AUWF-avz5kdS",
    "papermill": {
     "duration": 0.014967,
     "end_time": "2022-01-07T03:36:09.672253",
     "exception": false,
     "start_time": "2022-01-07T03:36:09.657286",
     "status": "completed"
    },
    "tags": []
   },
   "source": [
    "## Choose the dataset"
   ]
  },
  {
   "cell_type": "code",
   "execution_count": 6,
   "id": "8257beb2",
   "metadata": {
    "colab": {
     "base_uri": "https://localhost:8080/"
    },
    "execution": {
     "iopub.execute_input": "2022-01-07T03:36:09.706218Z",
     "iopub.status.busy": "2022-01-07T03:36:09.705258Z",
     "iopub.status.idle": "2022-01-07T03:36:10.459434Z",
     "shell.execute_reply": "2022-01-07T03:36:10.460007Z"
    },
    "id": "1oaryDJr5kdS",
    "outputId": "6a425df9-4092-4601-9cd9-f61d524b6278",
    "papermill": {
     "duration": 0.773235,
     "end_time": "2022-01-07T03:36:10.460239",
     "exception": false,
     "start_time": "2022-01-07T03:36:09.687004",
     "status": "completed"
    },
    "tags": []
   },
   "outputs": [],
   "source": [
    "train_dset = get_dataset(config[\"dataset\"], 'train')"
   ]
  },
  {
   "cell_type": "markdown",
   "id": "0d6e7613",
   "metadata": {
    "id": "B0lqmy935kdS",
    "papermill": {
     "duration": 0.01454,
     "end_time": "2022-01-07T03:36:10.488914",
     "exception": false,
     "start_time": "2022-01-07T03:36:10.474374",
     "status": "completed"
    },
    "tags": []
   },
   "source": [
    "## Tokenizer and vocab"
   ]
  },
  {
   "cell_type": "code",
   "execution_count": 7,
   "id": "891380cb",
   "metadata": {
    "colab": {
     "base_uri": "https://localhost:8080/"
    },
    "execution": {
     "iopub.execute_input": "2022-01-07T03:36:10.523304Z",
     "iopub.status.busy": "2022-01-07T03:36:10.522162Z",
     "iopub.status.idle": "2022-01-07T03:59:12.968222Z",
     "shell.execute_reply": "2022-01-07T03:59:12.968727Z"
    },
    "id": "NY_zualp5kdT",
    "outputId": "9034d65f-2f9a-4c83-a314-13d3b808fc65",
    "papermill": {
     "duration": 1382.465684,
     "end_time": "2022-01-07T03:59:12.968935",
     "exception": false,
     "start_time": "2022-01-07T03:36:10.503251",
     "status": "completed"
    },
    "tags": []
   },
   "outputs": [
    {
     "name": "stderr",
     "output_type": "stream",
     "text": [
      "sentencepiece_trainer.cc(177) LOG(INFO) Running command: --input=sample.csv --model_prefix=sample --vocab_size=512 --model_type=unigram\n",
      "sentencepiece_trainer.cc(77) LOG(INFO) Starts training with : \n",
      "trainer_spec {\n",
      "  input: sample.csv\n",
      "  input_format: \n",
      "  model_prefix: sample\n",
      "  model_type: UNIGRAM\n",
      "  vocab_size: 512\n",
      "  self_test_sample_size: 0\n",
      "  character_coverage: 0.9995\n",
      "  input_sentence_size: 0\n",
      "  shuffle_input_sentence: 1\n",
      "  seed_sentencepiece_size: 1000000\n",
      "  shrinking_factor: 0.75\n",
      "  max_sentence_length: 4192\n",
      "  num_threads: 16\n",
      "  num_sub_iterations: 2\n",
      "  max_sentencepiece_length: 16\n",
      "  split_by_unicode_script: 1\n",
      "  split_by_number: 1\n",
      "  split_by_whitespace: 1\n",
      "  split_digits: 0\n",
      "  treat_whitespace_as_suffix: 0\n",
      "  required_chars: \n",
      "  byte_fallback: 0\n",
      "  vocabulary_output_piece_score: 1\n",
      "  train_extremely_large_corpus: 0\n",
      "  hard_vocab_limit: 1\n",
      "  use_all_vocab: 0\n",
      "  unk_id: 0\n",
      "  bos_id: 1\n",
      "  eos_id: 2\n",
      "  pad_id: -1\n",
      "  unk_piece: <unk>\n",
      "  bos_piece: <s>\n",
      "  eos_piece: </s>\n",
      "  pad_piece: <pad>\n",
      "  unk_surface:  ⁇ \n",
      "}\n",
      "normalizer_spec {\n",
      "  name: nmt_nfkc\n",
      "  add_dummy_prefix: 1\n",
      "  remove_extra_whitespaces: 1\n",
      "  escape_whitespaces: 1\n",
      "  normalization_rule_tsv: \n",
      "}\n",
      "denormalizer_spec {}\n",
      "trainer_interface.cc(319) LOG(INFO) SentenceIterator is not specified. Using MultiFileSentenceIterator.\n",
      "trainer_interface.cc(174) LOG(INFO) Loading corpus: sample.csv\n",
      "trainer_interface.cc(375) LOG(INFO) Loaded all 75000 sentences\n",
      "trainer_interface.cc(390) LOG(INFO) Adding meta_piece: <unk>\n",
      "trainer_interface.cc(390) LOG(INFO) Adding meta_piece: <s>\n",
      "trainer_interface.cc(390) LOG(INFO) Adding meta_piece: </s>\n",
      "trainer_interface.cc(395) LOG(INFO) Normalizing sentences...\n"
     ]
    },
    {
     "name": "stderr",
     "output_type": "stream",
     "text": [
      "trainer_interface.cc(456) LOG(INFO) all chars count=15075000\n",
      "trainer_interface.cc(477) LOG(INFO) Alphabet size=5\n",
      "trainer_interface.cc(478) LOG(INFO) Final character coverage=1\n"
     ]
    },
    {
     "name": "stderr",
     "output_type": "stream",
     "text": [
      "trainer_interface.cc(510) LOG(INFO) Done! preprocessed 75000 sentences.\n"
     ]
    },
    {
     "name": "stderr",
     "output_type": "stream",
     "text": [
      "unigram_model_trainer.cc(138) LOG(INFO) Making suffix array...\n"
     ]
    },
    {
     "name": "stderr",
     "output_type": "stream",
     "text": [
      "unigram_model_trainer.cc(142) LOG(INFO) Extracting frequent sub strings...\n"
     ]
    },
    {
     "name": "stderr",
     "output_type": "stream",
     "text": [
      "unigram_model_trainer.cc(193) LOG(INFO) Initialized 1000000 seed sentencepieces\n"
     ]
    },
    {
     "name": "stderr",
     "output_type": "stream",
     "text": [
      "trainer_interface.cc(516) LOG(INFO) Tokenizing input sentences with whitespace: 75000\n"
     ]
    },
    {
     "name": "stderr",
     "output_type": "stream",
     "text": [
      "trainer_interface.cc(526) LOG(INFO) Done! 74956\n",
      "unigram_model_trainer.cc(488) LOG(INFO) Using 74956 sentences for EM training\n"
     ]
    },
    {
     "name": "stderr",
     "output_type": "stream",
     "text": [
      "unigram_model_trainer.cc(504) LOG(INFO) EM sub_iter=0 size=640665 obj=269.296 num_tokens=1575434 num_tokens/piece=2.45906\n"
     ]
    },
    {
     "name": "stderr",
     "output_type": "stream",
     "text": [
      "unigram_model_trainer.cc(504) LOG(INFO) EM sub_iter=1 size=448785 obj=270.09 num_tokens=1656049 num_tokens/piece=3.69007\n"
     ]
    },
    {
     "name": "stderr",
     "output_type": "stream",
     "text": [
      "unigram_model_trainer.cc(504) LOG(INFO) EM sub_iter=0 size=290798 obj=269 num_tokens=1709343 num_tokens/piece=5.87811\n"
     ]
    },
    {
     "name": "stderr",
     "output_type": "stream",
     "text": [
      "unigram_model_trainer.cc(504) LOG(INFO) EM sub_iter=1 size=266296 obj=266.04 num_tokens=1739892 num_tokens/piece=6.53368\n"
     ]
    },
    {
     "name": "stderr",
     "output_type": "stream",
     "text": [
      "unigram_model_trainer.cc(504) LOG(INFO) EM sub_iter=0 size=197154 obj=266.615 num_tokens=1776472 num_tokens/piece=9.01058\n"
     ]
    },
    {
     "name": "stderr",
     "output_type": "stream",
     "text": [
      "unigram_model_trainer.cc(504) LOG(INFO) EM sub_iter=1 size=192891 obj=264.835 num_tokens=1786068 num_tokens/piece=9.25947\n"
     ]
    },
    {
     "name": "stderr",
     "output_type": "stream",
     "text": [
      "unigram_model_trainer.cc(504) LOG(INFO) EM sub_iter=0 size=144624 obj=266.087 num_tokens=1825001 num_tokens/piece=12.6189\n"
     ]
    },
    {
     "name": "stderr",
     "output_type": "stream",
     "text": [
      "unigram_model_trainer.cc(504) LOG(INFO) EM sub_iter=1 size=144476 obj=264.389 num_tokens=1827290 num_tokens/piece=12.6477\n"
     ]
    },
    {
     "name": "stderr",
     "output_type": "stream",
     "text": [
      "unigram_model_trainer.cc(504) LOG(INFO) EM sub_iter=0 size=108355 obj=266.592 num_tokens=1880650 num_tokens/piece=17.3564\n"
     ]
    },
    {
     "name": "stderr",
     "output_type": "stream",
     "text": [
      "unigram_model_trainer.cc(504) LOG(INFO) EM sub_iter=1 size=108348 obj=264.445 num_tokens=1881172 num_tokens/piece=17.3623\n"
     ]
    },
    {
     "name": "stderr",
     "output_type": "stream",
     "text": [
      "unigram_model_trainer.cc(504) LOG(INFO) EM sub_iter=0 size=81261 obj=267.393 num_tokens=1943515 num_tokens/piece=23.9169\n"
     ]
    },
    {
     "name": "stderr",
     "output_type": "stream",
     "text": [
      "unigram_model_trainer.cc(504) LOG(INFO) EM sub_iter=1 size=81259 obj=264.966 num_tokens=1943880 num_tokens/piece=23.922\n"
     ]
    },
    {
     "name": "stderr",
     "output_type": "stream",
     "text": [
      "unigram_model_trainer.cc(504) LOG(INFO) EM sub_iter=0 size=60944 obj=268.163 num_tokens=2007662 num_tokens/piece=32.9427\n"
     ]
    },
    {
     "name": "stderr",
     "output_type": "stream",
     "text": [
      "unigram_model_trainer.cc(504) LOG(INFO) EM sub_iter=1 size=60944 obj=265.755 num_tokens=2008219 num_tokens/piece=32.9519\n"
     ]
    },
    {
     "name": "stderr",
     "output_type": "stream",
     "text": [
      "unigram_model_trainer.cc(504) LOG(INFO) EM sub_iter=0 size=45708 obj=268.928 num_tokens=2069680 num_tokens/piece=45.2805\n"
     ]
    },
    {
     "name": "stderr",
     "output_type": "stream",
     "text": [
      "unigram_model_trainer.cc(504) LOG(INFO) EM sub_iter=1 size=45708 obj=266.698 num_tokens=2070399 num_tokens/piece=45.2962\n"
     ]
    },
    {
     "name": "stderr",
     "output_type": "stream",
     "text": [
      "unigram_model_trainer.cc(504) LOG(INFO) EM sub_iter=0 size=34281 obj=269.678 num_tokens=2129608 num_tokens/piece=62.1221\n"
     ]
    },
    {
     "name": "stderr",
     "output_type": "stream",
     "text": [
      "unigram_model_trainer.cc(504) LOG(INFO) EM sub_iter=1 size=34281 obj=267.642 num_tokens=2130471 num_tokens/piece=62.1473\n"
     ]
    },
    {
     "name": "stderr",
     "output_type": "stream",
     "text": [
      "unigram_model_trainer.cc(504) LOG(INFO) EM sub_iter=0 size=25710 obj=270.462 num_tokens=2190661 num_tokens/piece=85.2066\n"
     ]
    },
    {
     "name": "stderr",
     "output_type": "stream",
     "text": [
      "unigram_model_trainer.cc(504) LOG(INFO) EM sub_iter=1 size=25710 obj=268.493 num_tokens=2191621 num_tokens/piece=85.2439\n"
     ]
    },
    {
     "name": "stderr",
     "output_type": "stream",
     "text": [
      "unigram_model_trainer.cc(504) LOG(INFO) EM sub_iter=0 size=19282 obj=271.422 num_tokens=2255871 num_tokens/piece=116.994\n"
     ]
    },
    {
     "name": "stderr",
     "output_type": "stream",
     "text": [
      "unigram_model_trainer.cc(504) LOG(INFO) EM sub_iter=1 size=19282 obj=269.316 num_tokens=2256802 num_tokens/piece=117.042\n"
     ]
    },
    {
     "name": "stderr",
     "output_type": "stream",
     "text": [
      "unigram_model_trainer.cc(504) LOG(INFO) EM sub_iter=0 size=14461 obj=272.266 num_tokens=2324545 num_tokens/piece=160.746\n"
     ]
    },
    {
     "name": "stderr",
     "output_type": "stream",
     "text": [
      "unigram_model_trainer.cc(504) LOG(INFO) EM sub_iter=1 size=14461 obj=270.06 num_tokens=2325473 num_tokens/piece=160.81\n"
     ]
    },
    {
     "name": "stderr",
     "output_type": "stream",
     "text": [
      "unigram_model_trainer.cc(504) LOG(INFO) EM sub_iter=0 size=10845 obj=273.156 num_tokens=2396682 num_tokens/piece=220.994\n"
     ]
    },
    {
     "name": "stderr",
     "output_type": "stream",
     "text": [
      "unigram_model_trainer.cc(504) LOG(INFO) EM sub_iter=1 size=10845 obj=270.743 num_tokens=2397539 num_tokens/piece=221.073\n"
     ]
    },
    {
     "name": "stderr",
     "output_type": "stream",
     "text": [
      "unigram_model_trainer.cc(504) LOG(INFO) EM sub_iter=0 size=8133 obj=273.938 num_tokens=2473327 num_tokens/piece=304.11\n"
     ]
    },
    {
     "name": "stderr",
     "output_type": "stream",
     "text": [
      "unigram_model_trainer.cc(504) LOG(INFO) EM sub_iter=1 size=8133 obj=271.313 num_tokens=2474339 num_tokens/piece=304.234\n"
     ]
    },
    {
     "name": "stderr",
     "output_type": "stream",
     "text": [
      "unigram_model_trainer.cc(504) LOG(INFO) EM sub_iter=0 size=6099 obj=274.717 num_tokens=2558137 num_tokens/piece=419.435\n"
     ]
    },
    {
     "name": "stderr",
     "output_type": "stream",
     "text": [
      "unigram_model_trainer.cc(504) LOG(INFO) EM sub_iter=1 size=6099 obj=271.845 num_tokens=2559170 num_tokens/piece=419.605\n"
     ]
    },
    {
     "name": "stderr",
     "output_type": "stream",
     "text": [
      "unigram_model_trainer.cc(504) LOG(INFO) EM sub_iter=0 size=4574 obj=275.53 num_tokens=2650791 num_tokens/piece=579.535\n"
     ]
    },
    {
     "name": "stderr",
     "output_type": "stream",
     "text": [
      "unigram_model_trainer.cc(504) LOG(INFO) EM sub_iter=1 size=4574 obj=272.41 num_tokens=2652229 num_tokens/piece=579.849\n"
     ]
    },
    {
     "name": "stderr",
     "output_type": "stream",
     "text": [
      "unigram_model_trainer.cc(504) LOG(INFO) EM sub_iter=0 size=3430 obj=276.272 num_tokens=2749755 num_tokens/piece=801.678\n"
     ]
    },
    {
     "name": "stderr",
     "output_type": "stream",
     "text": [
      "unigram_model_trainer.cc(504) LOG(INFO) EM sub_iter=1 size=3430 obj=272.984 num_tokens=2751155 num_tokens/piece=802.086\n"
     ]
    },
    {
     "name": "stderr",
     "output_type": "stream",
     "text": [
      "unigram_model_trainer.cc(504) LOG(INFO) EM sub_iter=0 size=2572 obj=277.005 num_tokens=2853916 num_tokens/piece=1109.61\n"
     ]
    },
    {
     "name": "stderr",
     "output_type": "stream",
     "text": [
      "unigram_model_trainer.cc(504) LOG(INFO) EM sub_iter=1 size=2572 obj=273.587 num_tokens=2855603 num_tokens/piece=1110.27\n"
     ]
    },
    {
     "name": "stderr",
     "output_type": "stream",
     "text": [
      "unigram_model_trainer.cc(504) LOG(INFO) EM sub_iter=0 size=1929 obj=277.534 num_tokens=2963878 num_tokens/piece=1536.48\n"
     ]
    },
    {
     "name": "stderr",
     "output_type": "stream",
     "text": [
      "unigram_model_trainer.cc(504) LOG(INFO) EM sub_iter=1 size=1929 obj=273.936 num_tokens=2964971 num_tokens/piece=1537.05\n"
     ]
    },
    {
     "name": "stderr",
     "output_type": "stream",
     "text": [
      "unigram_model_trainer.cc(504) LOG(INFO) EM sub_iter=0 size=1446 obj=278.252 num_tokens=3084607 num_tokens/piece=2133.2\n"
     ]
    },
    {
     "name": "stderr",
     "output_type": "stream",
     "text": [
      "unigram_model_trainer.cc(504) LOG(INFO) EM sub_iter=1 size=1446 obj=274.335 num_tokens=3085967 num_tokens/piece=2134.14\n"
     ]
    },
    {
     "name": "stderr",
     "output_type": "stream",
     "text": [
      "unigram_model_trainer.cc(504) LOG(INFO) EM sub_iter=0 size=1084 obj=278.915 num_tokens=3216248 num_tokens/piece=2967.02\n"
     ]
    },
    {
     "name": "stderr",
     "output_type": "stream",
     "text": [
      "unigram_model_trainer.cc(504) LOG(INFO) EM sub_iter=1 size=1084 obj=274.738 num_tokens=3218062 num_tokens/piece=2968.69\n"
     ]
    },
    {
     "name": "stderr",
     "output_type": "stream",
     "text": [
      "unigram_model_trainer.cc(504) LOG(INFO) EM sub_iter=0 size=813 obj=279.909 num_tokens=3362082 num_tokens/piece=4135.4\n"
     ]
    },
    {
     "name": "stderr",
     "output_type": "stream",
     "text": [
      "unigram_model_trainer.cc(504) LOG(INFO) EM sub_iter=1 size=813 obj=275.314 num_tokens=3363969 num_tokens/piece=4137.72\n"
     ]
    },
    {
     "name": "stderr",
     "output_type": "stream",
     "text": [
      "unigram_model_trainer.cc(504) LOG(INFO) EM sub_iter=0 size=609 obj=280.929 num_tokens=3513053 num_tokens/piece=5768.56\n"
     ]
    },
    {
     "name": "stderr",
     "output_type": "stream",
     "text": [
      "unigram_model_trainer.cc(504) LOG(INFO) EM sub_iter=1 size=609 obj=275.658 num_tokens=3514482 num_tokens/piece=5770.91\n"
     ]
    },
    {
     "name": "stderr",
     "output_type": "stream",
     "text": [
      "unigram_model_trainer.cc(504) LOG(INFO) EM sub_iter=0 size=563 obj=276.912 num_tokens=3559440 num_tokens/piece=6322.27\n"
     ]
    },
    {
     "name": "stderr",
     "output_type": "stream",
     "text": [
      "unigram_model_trainer.cc(504) LOG(INFO) EM sub_iter=1 size=563 obj=275.62 num_tokens=3562468 num_tokens/piece=6327.65\n",
      "trainer_interface.cc(604) LOG(INFO) Saving model: sample.model\n",
      "trainer_interface.cc(615) LOG(INFO) Saving vocabs: sample.vocab\n"
     ]
    },
    {
     "name": "stdout",
     "output_type": "stream",
     "text": [
      "vocab len: 511\n",
      "{'T': 509, 'G': 508, 'CAAGA': 505, 'AAGAT': 503, 'TCCAC': 502, 'GGA': 501, 'CCCCG': 500, 'GACG': 498, 'GGGG': 497, 'CCTCA': 496, 'C': 495, 'GCAC': 491, 'GTGC': 487, 'GCCC': 486, 'CTCTC': 484, 'GAAAT': 480, 'TACC': 479, 'TGG': 478, 'CGTG': 477, 'CAA': 476, 'TACAA': 475, 'CCCG': 472, 'CTTCT': 469, 'A': 467, 'AGATG': 465, 'TG': 463, 'GAAC': 462, 'TGTCA': 461, 'TGCCA': 460, 'TAT': 457, 'GCCT': 456, 'AGACA': 455, 'ATGAG': 452, 'CTGAA': 451, 'GGCG': 458, 'GGAAG': 449, 'GAGAAG': 448, 'CCGC': 447, 'GAGGAG': 443, 'GGGAG': 440, 'AACCT': 439, '▁T': 437, 'TCCTT': 436, 'AACA': 434, 'GAGGA': 433, 'GGCT': 431, 'AAGAC': 490, 'GCTTC': 430, 'TTCAT': 429, 'CCAAA': 428, 'GACAG': 424, 'CAGCAG': 423, 'CCAAG': 422, 'GCGG': 421, 'ATGGC': 419, 'GCAGG': 417, 'TCCAT': 416, 'CCTCC': 468, 'CCT': 415, 'GC': 414, 'ATCAC': 413, 'AGCC': 409, 'CTGTC': 408, 'TAGT': 405, 'CGGC': 400, 'CGGG': 399, 'CGT': 398, 'TCTGT': 397, 'GACC': 396, 'AACAA': 395, 'ATCAT': 158, 'GGAGG': 393, 'CCGGG': 67, 'CGAC': 389, 'CCTTT': 388, 'TTTA': 386, '<unk>': 0, 'TC': 383, 'TCCTG': 382, 'TTCCA': 377, 'AGTG': 48, 'TGGC': 372, 'TGTGA': 442, 'TGTTG': 335, 'GGGC': 371, 'TTCTT': 370, 'GATA': 369, 'AAA': 267, 'TGGGG': 367, 'TCCAG': 366, 'AGAT': 200, 'GTTC': 365, 'CAC': 363, 'AGG': 24, 'AGGT': 361, 'AATA': 360, 'TGGAAA': 358, 'AAAAT': 12, 'ATGGT': 8, 'AGGAA': 355, 'AAGC': 354, 'AAGT': 353, 'GG': 384, 'ATTC': 356, 'CTCC': 349, 'CATC': 224, 'TCAA': 347, 'CGAG': 420, '▁A': 346, 'AGTTT': 172, 'CAGCT': 343, 'ATCCA': 411, 'ACCAC': 342, 'CGCC': 341, 'ACAAA': 22, 'CTAGA': 252, 'CATTT': 275, 'GCCTC': 339, 'AC': 337, 'TGGA': 464, 'CCCAGG': 336, 'CA': 330, 'CACCA': 329, 'ACAA': 326, 'ATGCT': 378, 'CTGTG': 208, 'TAAT': 323, 'TTTG': 76, 'ACAC': 322, 'TCG': 435, 'TTG': 321, 'AGGAT': 312, 'TGACT': 277, 'CTA': 320, 'AA': 171, 'CAGCA': 319, 'GCTG': 186, 'AAGGA': 317, 'CTGCA': 170, 'AAT': 314, 'GT': 316, 'ACCAG': 313, 'CCTCT': 391, 'TGGGA': 309, 'CAAG': 159, 'TCTA': 307, 'ACATT': 300, 'CCTG': 304, 'TCCTC': 403, 'ACAGT': 380, 'AATGT': 368, 'CCAG': 303, 'CTCTG': 178, 'TCCCT': 301, 'TTCTC': 299, '▁C': 294, 'CACT': 290, 'AGGCA': 286, 'TGA': 387, 'AAGAA': 285, 'TTCC': 282, 'CTGGG': 120, 'AGAA': 281, 'CGG': 279, 'TGTAT': 345, 'AAGAAA': 466, 'TCATC': 296, 'TGCCT': 276, 'GTGGA': 274, 'TGCA': 272, 'AAACT': 270, 'CTCTT': 295, 'GGCA': 268, 'CACA': 20, 'GCTGG': 266, 'CCTT': 404, 'TCCCA': 114, 'TTTGG': 264, 'CT': 485, 'CCA': 263, 'GGTG': 287, 'ATTCT': 364, 'CAGTG': 220, 'TTTAT': 247, 'TTGAA': 261, 'TGGAG': 259, 'AT': 298, 'TGAA': 258, 'GCA': 257, 'GAAAC': 251, 'CTAG': 332, 'GAA': 410, 'ACT': 248, 'AGGAAA': 381, 'TACA': 245, 'ATATT': 244, 'AAAG': 269, 'CCCTC': 432, 'CAGCC': 135, 'GGCC': 243, 'CAGGA': 118, 'CGA': 242, 'ATAAAT': 318, 'TCTC': 241, 'TTCAA': 310, 'CACTG': 308, 'ATAGA': 174, 'CTGT': 240, 'ATTA': 205, 'CATT': 239, 'CCTTC': 338, 'TCTG': 238, 'TGTGT': 236, 'TACAT': 234, 'GAGA': 292, 'TATG': 233, 'GTC': 232, 'CAT': 229, 'GGGA': 227, 'TTGAT': 226, 'AGCA': 222, 'GCCCC': 221, 'CAGGAG': 352, 'CTGGA': 219, 'CCAGA': 218, 'ATCTT': 482, 'GAGGT': 481, 'ACTTT': 211, 'TATT': 214, 'CACAG': 210, 'CCAGC': 407, 'CAGT': 206, 'TTCTG': 412, 'TGTGG': 283, 'CCTGGC': 209, 'GAC': 203, 'TGGAA': 92, 'ACCC': 180, 'TTAG': 202, 'TCT': 72, 'ATTT': 201, 'GTAG': 199, 'GGTT': 328, 'CACG': 474, 'CTTTT': 444, 'TTTTA': 198, 'CTCCC': 441, 'TTTTG': 197, 'TAATT': 196, 'CCCAGC': 195, 'AAGCA': 402, 'AATG': 82, 'TTTGT': 254, 'TTGT': 165, 'TATC': 160, 'TGC': 194, 'CTC': 193, 'ACA': 190, 'GTGGG': 453, 'CTCAG': 188, 'GAT': 2, 'TGTCT': 351, 'ATGAT': 425, 'CAAGG': 230, 'TATAA': 173, 'GTT': 291, 'CAGAA': 191, 'AAATG': 187, 'AAGTA': 499, 'AAGG': 98, 'AAACA': 96, 'CTAC': 184, 'CTGG': 140, 'ATT': 181, 'CCTGA': 401, 'AATTT': 344, 'TCTTC': 163, 'ATA': 223, 'CCAC': 39, 'GAGG': 164, 'TGCAT': 101, 'CTCAC': 489, 'ACTG': 177, 'GGTC': 112, 'TTGG': 168, '<pad>': 510, 'AG': 153, 'CAAT': 152, 'CG': 470, 'CTCCT': 151, 'AGTT': 225, 'TGTAA': 426, 'AGA': 19, 'GGTGG': 492, 'TCTCT': 150, 'TTT': 215, 'TGGG': 130, 'CTGC': 147, 'AGTGA': 50, 'ACTT': 87, 'GGG': 80, 'CTAT': 145, 'CCAGG': 142, 'ATTAT': 183, 'TGAT': 141, 'CCTC': 116, 'CCG': 47, 'TAA': 91, 'CTCCA': 473, 'TATA': 166, 'AAAAAT': 427, 'GGGAA': 297, 'CAGGC': 139, 'TTCTTT': 333, 'TAAA': 33, 'GTTG': 137, 'GGGT': 134, 'AGAGA': 133, 'AAAGA': 69, 'ATGAA': 131, 'TCATT': 185, 'CCCA': 128, 'CGCG': 507, 'TTAT': 373, 'GAGT': 32, 'AGGA': 216, 'TTTTTTT': 162, 'CAGGG': 450, '▁G': 1, 'CGC': 212, 'CAGG': 127, 'TGCAA': 262, 'TCTTT': 136, 'GAG': 90, 'AGCAA': 126, 'GATG': 255, 'ACAGA': 124, 'ACG': 235, 'AGC': 302, 'ATAAT': 179, 'CAGC': 122, 'CTTCC': 119, 'CCGCC': 506, 'TCAG': 293, 'AATTA': 86, 'GCTC': 146, 'GCTGGG': 117, 'GCAG': 231, 'GCT': 132, 'AAC': 265, 'ATTTT': 115, 'TATGT': 111, 'TGTG': 192, 'CAAAT': 110, 'GGAGA': 357, 'CAAC': 256, 'CTTC': 250, 'GTCC': 125, 'AGAG': 106, 'TATAT': 105, 'AAAA': 327, 'AAG': 104, 'CAGAAG': 253, 'AACT': 102, 'TCTT': 154, 'GCTTT': 217, 'AATAT': 100, 'TGGAT': 289, 'ATGTG': 324, 'AAATA': 155, 'TGGCT': 305, 'AAAAG': 459, 'GTGTG': 237, 'TCA': 99, 'TTC': 348, 'CGGCG': 418, 'GCC': 167, 'CCCAC': 59, 'TTTGA': 148, 'TAG': 97, 'GCGC': 504, 'GGT': 385, 'CCGG': 359, 'AAAAC': 260, 'CCAT': 46, 'AGGGA': 94, 'CATG': 58, 'AAGAAG': 89, 'CTTA': 88, 'TTCCT': 84, 'CACC': 123, 'GAGGC': 249, 'GTTT': 55, 'GGAG': 79, 'AGAAT': 11, 'CAGAT': 182, 'ATCT': 161, 'ACCT': 5, 'AAGA': 37, 'CCTA': 278, 'CATA': 454, 'CCCT': 213, 'CTGAG': 74, 'CC': 494, 'ACC': 66, 'TGTTT': 156, 'GA': 340, 'CTG': 68, 'TTA': 65, 'GAAG': 62, 'GAGC': 392, 'GTCTC': 121, 'TT': 42, 'ACCA': 44, 'CCCC': 61, 'TGAG': 60, 'CTGGAG': 75, 'GCCG': 30, 'TGCT': 445, 'CAGAG': 73, 'CCCCA': 57, 'CTT': 157, 'ACCAT': 103, 'CCCTG': 56, 'ATG': 53, 'AAATT': 43, 'ATTTA': 379, 'ATTG': 93, 'CAGA': 64, 'ATCAA': 175, 'CCTCCC': 81, 'CCCAG': 52, 'TGCAG': 51, 'AGCT': 26, 'ATGGA': 334, 'TATTT': 108, 'CCAA': 375, 'GTA': 376, 'ATGTT': 350, '▁': 45, 'AGTCA': 273, 'TTGCT': 189, 'CTAA': 374, 'GAGGG': 288, 'GTGA': 271, 'TGCC': 63, 'CTCA': 169, 'ATATA': 228, 'AATGA': 113, 'TCC': 284, 'AACAT': 40, 'ATGG': 41, 'CTGA': 36, 'TCCT': 49, 'CAG': 107, 'TGTA': 35, 'TTCT': 176, 'GGC': 25, 'TCAAA': 34, 'ATGT': 483, 'AGCCA': 207, 'TGCTG': 143, 'TCCC': 446, 'TAC': 129, 'ATAAAA': 31, 'GGAA': 144, 'CATCA': 27, 'GTGG': 70, 'TGTT': 23, 'CGTC': 488, 'ACAT': 18, 'TGGCA': 29, 'AATAA': 325, 'ACTCT': 246, 'AGT': 394, 'TTCA': 21, 'ATAT': 109, 'CAAAA': 83, 'CCC': 315, 'TGT': 38, 'TGGT': 17, 'CCTGC': 471, 'ATTGA': 77, 'GGAGC': 493, 'TGATG': 311, 'TACAG': 362, 'ATC': 6, 'TCAC': 54, 'CCTGG': 15, 'ATGAC': 306, 'TGACA': 14, 'GTG': 10, 'ATTAA': 390, 'AAAGT': 4, 'TGAAA': 280, 'TTTT': 9, 'TCAT': 7, 'TTTC': 331, 'AGAAA': 3, 'TGCTT': 406, 'CTTG': 95, 'AGTA': 149, 'TACT': 16, 'TTTAA': 71, 'AAAAA': 13, 'TTTCT': 138, 'GAGAC': 78, 'GGAC': 438, 'CTGCT': 28, 'CTTGG': 204, 'CATGG': 85}\n"
     ]
    }
   ],
   "source": [
    "tokenizer = get_tokenizer(config['tokenizer'])\n",
    "tokenizer.train(train_dset=train_dset, vocab_size=VOCAB_SIZE, kmer=KMER)\n",
    "vocabulary = build_vocab(train_dset, tokenizer, use_padding=config[\"use_padding\"])\n",
    "\n",
    "print(\"vocab len:\" ,vocabulary.__len__())\n",
    "print(vocabulary.get_stoi())"
   ]
  },
  {
   "cell_type": "markdown",
   "id": "f7e699af",
   "metadata": {
    "id": "3hGQpSJA5kdT",
    "papermill": {
     "duration": 0.035198,
     "end_time": "2022-01-07T03:59:13.038078",
     "exception": false,
     "start_time": "2022-01-07T03:59:13.002880",
     "status": "completed"
    },
    "tags": []
   },
   "source": [
    "## Dataloader and batch preparation"
   ]
  },
  {
   "cell_type": "code",
   "execution_count": 8,
   "id": "27806419",
   "metadata": {
    "colab": {
     "base_uri": "https://localhost:8080/"
    },
    "execution": {
     "iopub.execute_input": "2022-01-07T03:59:13.110090Z",
     "iopub.status.busy": "2022-01-07T03:59:13.108958Z",
     "iopub.status.idle": "2022-01-07T04:00:32.883962Z",
     "shell.execute_reply": "2022-01-07T04:00:32.884462Z"
    },
    "id": "gXUgPH6q5kdT",
    "outputId": "a1eb6ba2-9bcd-416d-8662-e3516121da96",
    "papermill": {
     "duration": 79.812897,
     "end_time": "2022-01-07T04:00:32.884855",
     "exception": false,
     "start_time": "2022-01-07T03:59:13.071958",
     "status": "completed"
    },
    "tags": []
   },
   "outputs": [
    {
     "name": "stdout",
     "output_type": "stream",
     "text": [
      "Using cpu device\n"
     ]
    },
    {
     "name": "stdout",
     "output_type": "stream",
     "text": [
      "max_tok_len  63\n"
     ]
    },
    {
     "name": "stdout",
     "output_type": "stream",
     "text": [
      "not all sequences are of the same length\n"
     ]
    }
   ],
   "source": [
    "# Run on GPU or CPU\n",
    "device = 'cuda' if config[\"run_on_gpu\"] and torch.cuda.is_available() else 'cpu'\n",
    "print('Using {} device'.format(device))\n",
    "\n",
    "max_tok_len = check_seq_lengths(dataset=train_dset, tokenizer=tokenizer)\n",
    "\n",
    "# Data Loader\n",
    "collate = coll_factory(vocabulary, tokenizer, device, pad_to_length = max_tok_len)\n",
    "\n",
    "train_loader = DataLoader(train_dset, batch_size=config[\"batch_size\"], shuffle=True, collate_fn=collate)"
   ]
  },
  {
   "cell_type": "code",
   "execution_count": 9,
   "id": "686c4525",
   "metadata": {
    "execution": {
     "iopub.execute_input": "2022-01-07T04:00:32.959501Z",
     "iopub.status.busy": "2022-01-07T04:00:32.958762Z",
     "iopub.status.idle": "2022-01-07T04:00:32.970470Z",
     "shell.execute_reply": "2022-01-07T04:00:32.969846Z"
    },
    "papermill": {
     "duration": 0.050561,
     "end_time": "2022-01-07T04:00:32.970652",
     "exception": false,
     "start_time": "2022-01-07T04:00:32.920091",
     "status": "completed"
    },
    "tags": []
   },
   "outputs": [
    {
     "data": {
      "text/plain": [
       "['▁',\n",
       " 'CCAT',\n",
       " 'CCG',\n",
       " 'AGTG',\n",
       " 'TCCT',\n",
       " 'AGTGA',\n",
       " 'ATC',\n",
       " 'TGCAG',\n",
       " 'CCCAG',\n",
       " 'ATG',\n",
       " 'GGC',\n",
       " 'TCAC',\n",
       " 'GTTT',\n",
       " 'CCCTG',\n",
       " 'TGTA',\n",
       " 'CCCCA',\n",
       " 'CATG',\n",
       " 'CCCAC',\n",
       " 'TGAG',\n",
       " 'CCCC',\n",
       " 'GAAG',\n",
       " 'TGGT',\n",
       " 'TGCC',\n",
       " 'CAGA',\n",
       " 'CCCC',\n",
       " 'TTA',\n",
       " 'CCCAG',\n",
       " 'ACC',\n",
       " 'CCGGG',\n",
       " 'CTG',\n",
       " 'AAAGA',\n",
       " 'ACCT',\n",
       " 'TGT',\n",
       " 'GTGG',\n",
       " 'TTTAA',\n",
       " 'TCT',\n",
       " 'CAGAG',\n",
       " 'CAGAG',\n",
       " 'TCCT',\n",
       " 'CTGAG',\n",
       " 'CTGGAG',\n",
       " 'ATG',\n",
       " 'TTTG',\n",
       " 'ATTGA',\n",
       " 'GAGAC',\n",
       " 'TGCC',\n",
       " 'GGAG',\n",
       " 'GGG',\n",
       " 'CCTCCC']"
      ]
     },
     "execution_count": 9,
     "metadata": {},
     "output_type": "execute_result"
    }
   ],
   "source": [
    "tokenizer(train_dset[1][0])"
   ]
  },
  {
   "cell_type": "markdown",
   "id": "c8805a47",
   "metadata": {
    "id": "sTTomnnP5kdU",
    "papermill": {
     "duration": 0.034431,
     "end_time": "2022-01-07T04:00:33.038835",
     "exception": false,
     "start_time": "2022-01-07T04:00:33.004404",
     "status": "completed"
    },
    "tags": []
   },
   "source": [
    "## Model"
   ]
  },
  {
   "cell_type": "code",
   "execution_count": 10,
   "id": "b30f23db",
   "metadata": {
    "execution": {
     "iopub.execute_input": "2022-01-07T04:00:33.112078Z",
     "iopub.status.busy": "2022-01-07T04:00:33.111346Z",
     "iopub.status.idle": "2022-01-07T04:00:33.124011Z",
     "shell.execute_reply": "2022-01-07T04:00:33.124482Z"
    },
    "id": "ZNuXGIdD5kdU",
    "papermill": {
     "duration": 0.052083,
     "end_time": "2022-01-07T04:00:33.124679",
     "exception": false,
     "start_time": "2022-01-07T04:00:33.072596",
     "status": "completed"
    },
    "tags": []
   },
   "outputs": [],
   "source": [
    "model = CNN(\n",
    "    number_of_classes=config[\"number_of_classes\"],\n",
    "    vocab_size=vocabulary.__len__(),\n",
    "    embedding_dim=config[\"embedding_dim\"],\n",
    "    input_len=max_tok_len\n",
    ").to(device)"
   ]
  },
  {
   "cell_type": "markdown",
   "id": "fe6441f6",
   "metadata": {
    "id": "1pqIm92h5kdV",
    "papermill": {
     "duration": 0.034195,
     "end_time": "2022-01-07T04:00:33.192012",
     "exception": false,
     "start_time": "2022-01-07T04:00:33.157817",
     "status": "completed"
    },
    "tags": []
   },
   "source": [
    "## Training"
   ]
  },
  {
   "cell_type": "code",
   "execution_count": 11,
   "id": "24653c77",
   "metadata": {
    "colab": {
     "base_uri": "https://localhost:8080/"
    },
    "execution": {
     "iopub.execute_input": "2022-01-07T04:00:33.264911Z",
     "iopub.status.busy": "2022-01-07T04:00:33.264118Z",
     "iopub.status.idle": "2022-01-07T04:07:02.337495Z",
     "shell.execute_reply": "2022-01-07T04:07:02.338557Z"
    },
    "id": "uvO_-RFm5kdV",
    "outputId": "7799e5f9-78a7-4ef2-95e8-f06751912eda",
    "papermill": {
     "duration": 389.113192,
     "end_time": "2022-01-07T04:07:02.338831",
     "exception": false,
     "start_time": "2022-01-07T04:00:33.225639",
     "status": "completed"
    },
    "tags": []
   },
   "outputs": [
    {
     "name": "stdout",
     "output_type": "stream",
     "text": [
      "Epoch 0\n"
     ]
    },
    {
     "name": "stderr",
     "output_type": "stream",
     "text": [
      "/Users/katarina/Documents/repositories/GitHub/GLP/src/glp/tokenizers/utils.py:27: UserWarning: To copy construct from a tensor, it is recommended to use sourceTensor.clone().detach() or sourceTensor.clone().detach().requires_grad_(True), rather than torch.tensor(sourceTensor).\n",
      "  x = torch.tensor(pad(x), dtype=torch.long)\n"
     ]
    },
    {
     "name": "stdout",
     "output_type": "stream",
     "text": [
      "Train metrics: \n",
      " Accuracy: 83.5%, Avg loss: 0.577181 \n",
      "\n",
      "Epoch 1\n"
     ]
    },
    {
     "name": "stdout",
     "output_type": "stream",
     "text": [
      "Train metrics: \n",
      " Accuracy: 84.5%, Avg loss: 0.572242 \n",
      "\n",
      "Epoch 2\n"
     ]
    },
    {
     "name": "stdout",
     "output_type": "stream",
     "text": [
      "Train metrics: \n",
      " Accuracy: 85.4%, Avg loss: 0.570037 \n",
      "\n",
      "Epoch 3\n"
     ]
    },
    {
     "name": "stdout",
     "output_type": "stream",
     "text": [
      "Train metrics: \n",
      " Accuracy: 86.2%, Avg loss: 0.568128 \n",
      "\n",
      "Epoch 4\n"
     ]
    },
    {
     "name": "stdout",
     "output_type": "stream",
     "text": [
      "Train metrics: \n",
      " Accuracy: 86.3%, Avg loss: 0.565804 \n",
      "\n"
     ]
    }
   ],
   "source": [
    "model.train(train_loader, epochs=config[\"epochs\"])"
   ]
  },
  {
   "cell_type": "markdown",
   "id": "e5ca06a0",
   "metadata": {
    "id": "bR2tamrc5kdV",
    "papermill": {
     "duration": 0.04928,
     "end_time": "2022-01-07T04:07:02.436343",
     "exception": false,
     "start_time": "2022-01-07T04:07:02.387063",
     "status": "completed"
    },
    "tags": []
   },
   "source": [
    "## Testing"
   ]
  },
  {
   "cell_type": "code",
   "execution_count": 12,
   "id": "891ea9fa",
   "metadata": {
    "colab": {
     "base_uri": "https://localhost:8080/"
    },
    "execution": {
     "iopub.execute_input": "2022-01-07T04:07:02.538872Z",
     "iopub.status.busy": "2022-01-07T04:07:02.537724Z",
     "iopub.status.idle": "2022-01-07T04:07:26.437654Z",
     "shell.execute_reply": "2022-01-07T04:07:26.438276Z"
    },
    "id": "wbnciyRK5kdW",
    "outputId": "d2592f9d-f074-465f-95f8-df3b759ae068",
    "papermill": {
     "duration": 23.954044,
     "end_time": "2022-01-07T04:07:26.438497",
     "exception": false,
     "start_time": "2022-01-07T04:07:02.484453",
     "status": "completed"
    },
    "tags": []
   },
   "outputs": [
    {
     "name": "stdout",
     "output_type": "stream",
     "text": [
      "p  12500 ; tp  9934.863082647324 ; fp  1428.8447136201376\n",
      "recall  0.7947890466117858 ; precision  0.8742624555966269\n",
      "num_batches 782\n",
      "correct 21031\n",
      "size 25000\n",
      "Test metrics: \n",
      " Accuracy: 0.841240, F1 score: 0.832634, Avg loss: 0.576374 \n",
      "\n"
     ]
    },
    {
     "data": {
      "text/plain": [
       "(0.84124, 0.8326336516910622)"
      ]
     },
     "execution_count": 12,
     "metadata": {},
     "output_type": "execute_result"
    }
   ],
   "source": [
    "test_dset = get_dataset(config[\"dataset\"], 'test')\n",
    "test_loader = DataLoader(test_dset, batch_size=config[\"batch_size\"], shuffle=True, collate_fn=collate)\n",
    "\n",
    "acc, f1 = model.test(test_loader)\n",
    "acc, f1"
   ]
  }
 ],
 "metadata": {
  "accelerator": "TPU",
  "colab": {
   "name": "torch_cnn_classifier.ipynb",
   "provenance": []
  },
  "environment": {
   "name": "pytorch-gpu.1-9.m75",
   "type": "gcloud",
   "uri": "gcr.io/deeplearning-platform-release/pytorch-gpu.1-9:m75"
  },
  "interpreter": {
   "hash": "9828b828580f1cac1b571b33de6cff8bacecc8916095e1bcbc967952ca7105b7"
  },
  "kernelspec": {
   "display_name": "Python 3",
   "name": "python3"
  },
  "language_info": {
   "codemirror_mode": {
    "name": "ipython",
    "version": 3
   },
   "file_extension": ".py",
   "mimetype": "text/x-python",
   "name": "python",
   "nbconvert_exporter": "python",
   "pygments_lexer": "ipython3",
   "version": "3.8.9"
  },
  "papermill": {
   "default_parameters": {},
   "duration": 1881.043358,
   "end_time": "2022-01-07T04:07:27.004936",
   "environment_variables": {},
   "exception": null,
   "input_path": "torch_cnn.ipynb",
   "output_path": "../torch_cnn_experiments/demo_coding_vs_intergenomic_seqs_subword_512.ipynb",
   "parameters": {
    "DATASET": "demo_coding_vs_intergenomic_seqs",
    "TOKENIZER": "subword",
    "VOCAB_SIZE": 512
   },
   "start_time": "2022-01-07T03:36:05.961578",
   "version": "2.3.3"
  }
 },
 "nbformat": 4,
 "nbformat_minor": 5
}