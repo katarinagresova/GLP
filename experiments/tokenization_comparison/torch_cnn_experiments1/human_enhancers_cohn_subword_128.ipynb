{
 "cells": [
  {
   "cell_type": "markdown",
   "id": "ce233a3d",
   "metadata": {
    "id": "SKOD9lvq5kdM",
    "papermill": {
     "duration": 0.025869,
     "end_time": "2022-01-11T09:00:09.841726",
     "exception": false,
     "start_time": "2022-01-11T09:00:09.815857",
     "status": "completed"
    },
    "tags": []
   },
   "source": [
    "# PYTORCH CNN Classifier"
   ]
  },
  {
   "cell_type": "code",
   "execution_count": 1,
   "id": "227a94e2",
   "metadata": {
    "execution": {
     "iopub.execute_input": "2022-01-11T09:00:09.894288Z",
     "iopub.status.busy": "2022-01-11T09:00:09.887538Z",
     "iopub.status.idle": "2022-01-11T09:00:09.900856Z",
     "shell.execute_reply": "2022-01-11T09:00:09.901551Z"
    },
    "id": "E8prt3AL5kdO",
    "papermill": {
     "duration": 0.040306,
     "end_time": "2022-01-11T09:00:09.901881",
     "exception": false,
     "start_time": "2022-01-11T09:00:09.861575",
     "status": "completed"
    },
    "tags": [
     "parameters"
    ]
   },
   "outputs": [],
   "source": [
    "DATASET = 'none'\n",
    "VOCAB_SIZE = 0\n",
    "TOKENIZER = 'none'\n",
    "KMER = 0"
   ]
  },
  {
   "cell_type": "code",
   "execution_count": 2,
   "id": "377d7f0f",
   "metadata": {
    "execution": {
     "iopub.execute_input": "2022-01-11T09:00:09.946379Z",
     "iopub.status.busy": "2022-01-11T09:00:09.942659Z",
     "iopub.status.idle": "2022-01-11T09:00:09.947652Z",
     "shell.execute_reply": "2022-01-11T09:00:09.948120Z"
    },
    "papermill": {
     "duration": 0.025426,
     "end_time": "2022-01-11T09:00:09.948309",
     "exception": false,
     "start_time": "2022-01-11T09:00:09.922883",
     "status": "completed"
    },
    "tags": [
     "injected-parameters"
    ]
   },
   "outputs": [],
   "source": [
    "# Parameters\n",
    "DATASET = \"human_enhancers_cohn\"\n",
    "TOKENIZER = \"subword\"\n",
    "VOCAB_SIZE = 128\n"
   ]
  },
  {
   "cell_type": "code",
   "execution_count": 3,
   "id": "5b38a64b",
   "metadata": {
    "colab": {
     "base_uri": "https://localhost:8080/"
    },
    "execution": {
     "iopub.execute_input": "2022-01-11T09:00:09.986221Z",
     "iopub.status.busy": "2022-01-11T09:00:09.985226Z",
     "iopub.status.idle": "2022-01-11T09:00:09.988595Z",
     "shell.execute_reply": "2022-01-11T09:00:09.989167Z"
    },
    "id": "rohBItfR5kdP",
    "outputId": "7da7aafe-0858-48be-bf7d-f698784d88df",
    "papermill": {
     "duration": 0.024459,
     "end_time": "2022-01-11T09:00:09.989392",
     "exception": false,
     "start_time": "2022-01-11T09:00:09.964933",
     "status": "completed"
    },
    "tags": []
   },
   "outputs": [
    {
     "name": "stdout",
     "output_type": "stream",
     "text": [
      "human_enhancers_cohn 128 subword 0\n"
     ]
    }
   ],
   "source": [
    "print(DATASET, VOCAB_SIZE, TOKENIZER, KMER)"
   ]
  },
  {
   "cell_type": "markdown",
   "id": "344ddf19",
   "metadata": {
    "id": "Y-YQrVyb5kdQ",
    "papermill": {
     "duration": 0.014742,
     "end_time": "2022-01-11T09:00:10.020022",
     "exception": false,
     "start_time": "2022-01-11T09:00:10.005280",
     "status": "completed"
    },
    "tags": []
   },
   "source": [
    "## Config"
   ]
  },
  {
   "cell_type": "code",
   "execution_count": 4,
   "id": "33224217",
   "metadata": {
    "execution": {
     "iopub.execute_input": "2022-01-11T09:00:10.054859Z",
     "iopub.status.busy": "2022-01-11T09:00:10.053904Z",
     "iopub.status.idle": "2022-01-11T09:00:12.414520Z",
     "shell.execute_reply": "2022-01-11T09:00:12.415050Z"
    },
    "id": "FIunuyGk5kdR",
    "papermill": {
     "duration": 2.380266,
     "end_time": "2022-01-11T09:00:12.415307",
     "exception": false,
     "start_time": "2022-01-11T09:00:10.035041",
     "status": "completed"
    },
    "tags": []
   },
   "outputs": [],
   "source": [
    "import torch\n",
    "from torch.utils.data import DataLoader\n",
    "\n",
    "from genomic_benchmarks.dataset_getters.pytorch_datasets import get_dataset\n",
    "from glp.models import CNN\n",
    "from glp.tokenizers import get_tokenizer\n",
    "from glp.tokenizers.utils import build_vocab, coll_factory, check_config, check_seq_lengths"
   ]
  },
  {
   "cell_type": "code",
   "execution_count": 5,
   "id": "deba850f",
   "metadata": {
    "execution": {
     "iopub.execute_input": "2022-01-11T09:00:12.469479Z",
     "iopub.status.busy": "2022-01-11T09:00:12.468726Z",
     "iopub.status.idle": "2022-01-11T09:00:12.471415Z",
     "shell.execute_reply": "2022-01-11T09:00:12.471939Z"
    },
    "id": "UgXiF6Zz5kdR",
    "papermill": {
     "duration": 0.033858,
     "end_time": "2022-01-11T09:00:12.472236",
     "exception": false,
     "start_time": "2022-01-11T09:00:12.438378",
     "status": "completed"
    },
    "tags": []
   },
   "outputs": [],
   "source": [
    "config = {\n",
    "    \"dataset\": DATASET,\n",
    "    \"tokenizer\": TOKENIZER,\n",
    "    \"dataset_version\": 0,\n",
    "    \"epochs\": 5,\n",
    "    \"batch_size\": 32,\n",
    "    \"use_padding\": True,\n",
    "    \"force_download\": False,\n",
    "    \"run_on_gpu\": True,\n",
    "    \"number_of_classes\": 2,\n",
    "    \"embedding_dim\": 100,\n",
    "}\n",
    "check_config(config)"
   ]
  },
  {
   "cell_type": "markdown",
   "id": "7e553111",
   "metadata": {
    "id": "AUWF-avz5kdS",
    "papermill": {
     "duration": 0.024692,
     "end_time": "2022-01-11T09:00:12.517703",
     "exception": false,
     "start_time": "2022-01-11T09:00:12.493011",
     "status": "completed"
    },
    "tags": []
   },
   "source": [
    "## Choose the dataset"
   ]
  },
  {
   "cell_type": "code",
   "execution_count": 6,
   "id": "7c5f5510",
   "metadata": {
    "colab": {
     "base_uri": "https://localhost:8080/"
    },
    "execution": {
     "iopub.execute_input": "2022-01-11T09:00:12.562417Z",
     "iopub.status.busy": "2022-01-11T09:00:12.561163Z",
     "iopub.status.idle": "2022-01-11T09:00:12.789706Z",
     "shell.execute_reply": "2022-01-11T09:00:12.791248Z"
    },
    "id": "1oaryDJr5kdS",
    "outputId": "6a425df9-4092-4601-9cd9-f61d524b6278",
    "papermill": {
     "duration": 0.254943,
     "end_time": "2022-01-11T09:00:12.791761",
     "exception": false,
     "start_time": "2022-01-11T09:00:12.536818",
     "status": "completed"
    },
    "tags": []
   },
   "outputs": [],
   "source": [
    "train_dset = get_dataset(config[\"dataset\"], 'train')"
   ]
  },
  {
   "cell_type": "markdown",
   "id": "7889c726",
   "metadata": {
    "id": "B0lqmy935kdS",
    "papermill": {
     "duration": 0.101605,
     "end_time": "2022-01-11T09:00:12.934654",
     "exception": false,
     "start_time": "2022-01-11T09:00:12.833049",
     "status": "completed"
    },
    "tags": []
   },
   "source": [
    "## Tokenizer and vocab"
   ]
  },
  {
   "cell_type": "code",
   "execution_count": 7,
   "id": "85b4db9a",
   "metadata": {
    "colab": {
     "base_uri": "https://localhost:8080/"
    },
    "execution": {
     "iopub.execute_input": "2022-01-11T09:00:13.022423Z",
     "iopub.status.busy": "2022-01-11T09:00:13.020887Z",
     "iopub.status.idle": "2022-01-11T09:16:01.168577Z",
     "shell.execute_reply": "2022-01-11T09:16:01.169332Z"
    },
    "id": "NY_zualp5kdT",
    "outputId": "9034d65f-2f9a-4c83-a314-13d3b808fc65",
    "papermill": {
     "duration": 948.209134,
     "end_time": "2022-01-11T09:16:01.170046",
     "exception": false,
     "start_time": "2022-01-11T09:00:12.960912",
     "status": "completed"
    },
    "tags": []
   },
   "outputs": [
    {
     "name": "stderr",
     "output_type": "stream",
     "text": [
      "sentencepiece_trainer.cc(177) LOG(INFO) Running command: --input=sample.csv --model_prefix=sample --vocab_size=128 --model_type=unigram\n",
      "sentencepiece_trainer.cc(77) LOG(INFO) Starts training with : \n",
      "trainer_spec {\n",
      "  input: sample.csv\n",
      "  input_format: \n",
      "  model_prefix: sample\n",
      "  model_type: UNIGRAM\n",
      "  vocab_size: 128\n",
      "  self_test_sample_size: 0\n",
      "  character_coverage: 0.9995\n",
      "  input_sentence_size: 0\n",
      "  shuffle_input_sentence: 1\n",
      "  seed_sentencepiece_size: 1000000\n",
      "  shrinking_factor: 0.75\n",
      "  max_sentence_length: 4192\n",
      "  num_threads: 16\n",
      "  num_sub_iterations: 2\n",
      "  max_sentencepiece_length: 16\n",
      "  split_by_unicode_script: 1\n",
      "  split_by_number: 1\n",
      "  split_by_whitespace: 1\n",
      "  split_digits: 0\n",
      "  treat_whitespace_as_suffix: 0\n",
      "  required_chars: \n",
      "  byte_fallback: 0\n",
      "  vocabulary_output_piece_score: 1\n",
      "  train_extremely_large_corpus: 0\n",
      "  hard_vocab_limit: 1\n",
      "  use_all_vocab: 0\n",
      "  unk_id: 0\n",
      "  bos_id: 1\n",
      "  eos_id: 2\n",
      "  pad_id: -1\n",
      "  unk_piece: <unk>\n",
      "  bos_piece: <s>\n",
      "  eos_piece: </s>\n",
      "  pad_piece: <pad>\n",
      "  unk_surface:  ⁇ \n",
      "}\n",
      "normalizer_spec {\n",
      "  name: nmt_nfkc\n",
      "  add_dummy_prefix: 1\n",
      "  remove_extra_whitespaces: 1\n",
      "  escape_whitespaces: 1\n",
      "  normalization_rule_tsv: \n",
      "}\n",
      "denormalizer_spec {}\n",
      "trainer_interface.cc(319) LOG(INFO) SentenceIterator is not specified. Using MultiFileSentenceIterator.\n",
      "trainer_interface.cc(174) LOG(INFO) Loading corpus: sample.csv\n",
      "trainer_interface.cc(375) LOG(INFO) Loaded all 20843 sentences\n",
      "trainer_interface.cc(390) LOG(INFO) Adding meta_piece: <unk>\n",
      "trainer_interface.cc(390) LOG(INFO) Adding meta_piece: <s>\n",
      "trainer_interface.cc(390) LOG(INFO) Adding meta_piece: </s>\n",
      "trainer_interface.cc(395) LOG(INFO) Normalizing sentences...\n"
     ]
    },
    {
     "name": "stderr",
     "output_type": "stream",
     "text": [
      "trainer_interface.cc(456) LOG(INFO) all chars count=10442343\n",
      "trainer_interface.cc(477) LOG(INFO) Alphabet size=5\n",
      "trainer_interface.cc(478) LOG(INFO) Final character coverage=1\n"
     ]
    },
    {
     "name": "stderr",
     "output_type": "stream",
     "text": [
      "trainer_interface.cc(510) LOG(INFO) Done! preprocessed 20843 sentences.\n"
     ]
    },
    {
     "name": "stderr",
     "output_type": "stream",
     "text": [
      "unigram_model_trainer.cc(138) LOG(INFO) Making suffix array...\n"
     ]
    },
    {
     "name": "stderr",
     "output_type": "stream",
     "text": [
      "unigram_model_trainer.cc(142) LOG(INFO) Extracting frequent sub strings...\n"
     ]
    },
    {
     "name": "stderr",
     "output_type": "stream",
     "text": [
      "unigram_model_trainer.cc(193) LOG(INFO) Initialized 1000000 seed sentencepieces\n"
     ]
    },
    {
     "name": "stderr",
     "output_type": "stream",
     "text": [
      "trainer_interface.cc(516) LOG(INFO) Tokenizing input sentences with whitespace: 20843\n",
      "trainer_interface.cc(526) LOG(INFO) Done! 20843\n",
      "unigram_model_trainer.cc(488) LOG(INFO) Using 20843 sentences for EM training\n"
     ]
    },
    {
     "name": "stderr",
     "output_type": "stream",
     "text": [
      "unigram_model_trainer.cc(504) LOG(INFO) EM sub_iter=0 size=451960 obj=656.396 num_tokens=1062834 num_tokens/piece=2.35161\n"
     ]
    },
    {
     "name": "stderr",
     "output_type": "stream",
     "text": [
      "unigram_model_trainer.cc(504) LOG(INFO) EM sub_iter=1 size=328755 obj=662.576 num_tokens=1151170 num_tokens/piece=3.5016\n"
     ]
    },
    {
     "name": "stderr",
     "output_type": "stream",
     "text": [
      "unigram_model_trainer.cc(504) LOG(INFO) EM sub_iter=0 size=214788 obj=659.085 num_tokens=1189558 num_tokens/piece=5.53829\n"
     ]
    },
    {
     "name": "stderr",
     "output_type": "stream",
     "text": [
      "unigram_model_trainer.cc(504) LOG(INFO) EM sub_iter=1 size=195654 obj=651.89 num_tokens=1212596 num_tokens/piece=6.19766\n"
     ]
    },
    {
     "name": "stderr",
     "output_type": "stream",
     "text": [
      "unigram_model_trainer.cc(504) LOG(INFO) EM sub_iter=0 size=144886 obj=653.472 num_tokens=1240509 num_tokens/piece=8.56197\n"
     ]
    },
    {
     "name": "stderr",
     "output_type": "stream",
     "text": [
      "unigram_model_trainer.cc(504) LOG(INFO) EM sub_iter=1 size=141860 obj=649.031 num_tokens=1247362 num_tokens/piece=8.79291\n"
     ]
    },
    {
     "name": "stderr",
     "output_type": "stream",
     "text": [
      "unigram_model_trainer.cc(504) LOG(INFO) EM sub_iter=0 size=106361 obj=652.395 num_tokens=1276529 num_tokens/piece=12.0019\n"
     ]
    },
    {
     "name": "stderr",
     "output_type": "stream",
     "text": [
      "unigram_model_trainer.cc(504) LOG(INFO) EM sub_iter=1 size=106221 obj=648.169 num_tokens=1278410 num_tokens/piece=12.0354\n"
     ]
    },
    {
     "name": "stderr",
     "output_type": "stream",
     "text": [
      "unigram_model_trainer.cc(504) LOG(INFO) EM sub_iter=0 size=79663 obj=653.869 num_tokens=1316403 num_tokens/piece=16.5246\n"
     ]
    },
    {
     "name": "stderr",
     "output_type": "stream",
     "text": [
      "unigram_model_trainer.cc(504) LOG(INFO) EM sub_iter=1 size=79658 obj=648.559 num_tokens=1316903 num_tokens/piece=16.532\n"
     ]
    },
    {
     "name": "stderr",
     "output_type": "stream",
     "text": [
      "unigram_model_trainer.cc(504) LOG(INFO) EM sub_iter=0 size=59743 obj=655.848 num_tokens=1359053 num_tokens/piece=22.7483\n"
     ]
    },
    {
     "name": "stderr",
     "output_type": "stream",
     "text": [
      "unigram_model_trainer.cc(504) LOG(INFO) EM sub_iter=1 size=59742 obj=650.015 num_tokens=1359467 num_tokens/piece=22.7556\n"
     ]
    },
    {
     "name": "stderr",
     "output_type": "stream",
     "text": [
      "unigram_model_trainer.cc(504) LOG(INFO) EM sub_iter=0 size=44806 obj=657.667 num_tokens=1400371 num_tokens/piece=31.2541\n"
     ]
    },
    {
     "name": "stderr",
     "output_type": "stream",
     "text": [
      "unigram_model_trainer.cc(504) LOG(INFO) EM sub_iter=1 size=44806 obj=652.073 num_tokens=1400851 num_tokens/piece=31.2648\n"
     ]
    },
    {
     "name": "stderr",
     "output_type": "stream",
     "text": [
      "unigram_model_trainer.cc(504) LOG(INFO) EM sub_iter=0 size=33604 obj=659.381 num_tokens=1441209 num_tokens/piece=42.888\n"
     ]
    },
    {
     "name": "stderr",
     "output_type": "stream",
     "text": [
      "unigram_model_trainer.cc(504) LOG(INFO) EM sub_iter=1 size=33603 obj=654.176 num_tokens=1441766 num_tokens/piece=42.9059\n"
     ]
    },
    {
     "name": "stderr",
     "output_type": "stream",
     "text": [
      "unigram_model_trainer.cc(504) LOG(INFO) EM sub_iter=0 size=25202 obj=661.335 num_tokens=1482972 num_tokens/piece=58.8434\n"
     ]
    },
    {
     "name": "stderr",
     "output_type": "stream",
     "text": [
      "unigram_model_trainer.cc(504) LOG(INFO) EM sub_iter=1 size=25202 obj=656.203 num_tokens=1483424 num_tokens/piece=58.8614\n"
     ]
    },
    {
     "name": "stderr",
     "output_type": "stream",
     "text": [
      "unigram_model_trainer.cc(504) LOG(INFO) EM sub_iter=0 size=18901 obj=663.245 num_tokens=1526444 num_tokens/piece=80.76\n"
     ]
    },
    {
     "name": "stderr",
     "output_type": "stream",
     "text": [
      "unigram_model_trainer.cc(504) LOG(INFO) EM sub_iter=1 size=18901 obj=658.003 num_tokens=1527069 num_tokens/piece=80.793\n"
     ]
    },
    {
     "name": "stderr",
     "output_type": "stream",
     "text": [
      "unigram_model_trainer.cc(504) LOG(INFO) EM sub_iter=0 size=14175 obj=665.311 num_tokens=1573592 num_tokens/piece=111.012\n"
     ]
    },
    {
     "name": "stderr",
     "output_type": "stream",
     "text": [
      "unigram_model_trainer.cc(504) LOG(INFO) EM sub_iter=1 size=14175 obj=659.734 num_tokens=1574133 num_tokens/piece=111.05\n"
     ]
    },
    {
     "name": "stderr",
     "output_type": "stream",
     "text": [
      "unigram_model_trainer.cc(504) LOG(INFO) EM sub_iter=0 size=10631 obj=667.497 num_tokens=1623310 num_tokens/piece=152.696\n"
     ]
    },
    {
     "name": "stderr",
     "output_type": "stream",
     "text": [
      "unigram_model_trainer.cc(504) LOG(INFO) EM sub_iter=1 size=10631 obj=661.529 num_tokens=1623986 num_tokens/piece=152.759\n"
     ]
    },
    {
     "name": "stderr",
     "output_type": "stream",
     "text": [
      "unigram_model_trainer.cc(504) LOG(INFO) EM sub_iter=0 size=7973 obj=669.647 num_tokens=1677995 num_tokens/piece=210.46\n"
     ]
    },
    {
     "name": "stderr",
     "output_type": "stream",
     "text": [
      "unigram_model_trainer.cc(504) LOG(INFO) EM sub_iter=1 size=7973 obj=663.05 num_tokens=1678566 num_tokens/piece=210.531\n"
     ]
    },
    {
     "name": "stderr",
     "output_type": "stream",
     "text": [
      "unigram_model_trainer.cc(504) LOG(INFO) EM sub_iter=0 size=5979 obj=671.319 num_tokens=1734023 num_tokens/piece=290.019\n"
     ]
    },
    {
     "name": "stderr",
     "output_type": "stream",
     "text": [
      "unigram_model_trainer.cc(504) LOG(INFO) EM sub_iter=1 size=5979 obj=664.29 num_tokens=1734616 num_tokens/piece=290.118\n"
     ]
    },
    {
     "name": "stderr",
     "output_type": "stream",
     "text": [
      "unigram_model_trainer.cc(504) LOG(INFO) EM sub_iter=0 size=4484 obj=672.797 num_tokens=1794114 num_tokens/piece=400.115\n"
     ]
    },
    {
     "name": "stderr",
     "output_type": "stream",
     "text": [
      "unigram_model_trainer.cc(504) LOG(INFO) EM sub_iter=1 size=4484 obj=665.366 num_tokens=1794882 num_tokens/piece=400.286\n"
     ]
    },
    {
     "name": "stderr",
     "output_type": "stream",
     "text": [
      "unigram_model_trainer.cc(504) LOG(INFO) EM sub_iter=0 size=3363 obj=674.688 num_tokens=1858954 num_tokens/piece=552.767\n"
     ]
    },
    {
     "name": "stderr",
     "output_type": "stream",
     "text": [
      "unigram_model_trainer.cc(504) LOG(INFO) EM sub_iter=1 size=3363 obj=666.505 num_tokens=1859784 num_tokens/piece=553.013\n"
     ]
    },
    {
     "name": "stderr",
     "output_type": "stream",
     "text": [
      "unigram_model_trainer.cc(504) LOG(INFO) EM sub_iter=0 size=2522 obj=676.667 num_tokens=1931142 num_tokens/piece=765.718\n"
     ]
    },
    {
     "name": "stderr",
     "output_type": "stream",
     "text": [
      "unigram_model_trainer.cc(504) LOG(INFO) EM sub_iter=1 size=2522 obj=667.926 num_tokens=1931879 num_tokens/piece=766.011\n"
     ]
    },
    {
     "name": "stderr",
     "output_type": "stream",
     "text": [
      "unigram_model_trainer.cc(504) LOG(INFO) EM sub_iter=0 size=1891 obj=679.206 num_tokens=2007806 num_tokens/piece=1061.77\n"
     ]
    },
    {
     "name": "stderr",
     "output_type": "stream",
     "text": [
      "unigram_model_trainer.cc(504) LOG(INFO) EM sub_iter=1 size=1891 obj=669.539 num_tokens=2008799 num_tokens/piece=1062.29\n"
     ]
    },
    {
     "name": "stderr",
     "output_type": "stream",
     "text": [
      "unigram_model_trainer.cc(504) LOG(INFO) EM sub_iter=0 size=1418 obj=680.388 num_tokens=2088648 num_tokens/piece=1472.95\n"
     ]
    },
    {
     "name": "stderr",
     "output_type": "stream",
     "text": [
      "unigram_model_trainer.cc(504) LOG(INFO) EM sub_iter=1 size=1418 obj=670.701 num_tokens=2089565 num_tokens/piece=1473.6\n"
     ]
    },
    {
     "name": "stderr",
     "output_type": "stream",
     "text": [
      "unigram_model_trainer.cc(504) LOG(INFO) EM sub_iter=0 size=1063 obj=684.877 num_tokens=2178168 num_tokens/piece=2049.08\n"
     ]
    },
    {
     "name": "stderr",
     "output_type": "stream",
     "text": [
      "unigram_model_trainer.cc(504) LOG(INFO) EM sub_iter=1 size=1063 obj=671.698 num_tokens=2179396 num_tokens/piece=2050.23\n"
     ]
    },
    {
     "name": "stderr",
     "output_type": "stream",
     "text": [
      "unigram_model_trainer.cc(504) LOG(INFO) EM sub_iter=0 size=797 obj=685.058 num_tokens=2275812 num_tokens/piece=2855.47\n"
     ]
    },
    {
     "name": "stderr",
     "output_type": "stream",
     "text": [
      "unigram_model_trainer.cc(504) LOG(INFO) EM sub_iter=1 size=797 obj=672.737 num_tokens=2277467 num_tokens/piece=2857.55\n"
     ]
    },
    {
     "name": "stderr",
     "output_type": "stream",
     "text": [
      "unigram_model_trainer.cc(504) LOG(INFO) EM sub_iter=0 size=597 obj=687.794 num_tokens=2381618 num_tokens/piece=3989.31\n"
     ]
    },
    {
     "name": "stderr",
     "output_type": "stream",
     "text": [
      "unigram_model_trainer.cc(504) LOG(INFO) EM sub_iter=1 size=597 obj=673.614 num_tokens=2382788 num_tokens/piece=3991.27\n"
     ]
    },
    {
     "name": "stderr",
     "output_type": "stream",
     "text": [
      "unigram_model_trainer.cc(504) LOG(INFO) EM sub_iter=0 size=447 obj=693.326 num_tokens=2498111 num_tokens/piece=5588.62\n"
     ]
    },
    {
     "name": "stderr",
     "output_type": "stream",
     "text": [
      "unigram_model_trainer.cc(504) LOG(INFO) EM sub_iter=1 size=447 obj=674.31 num_tokens=2498693 num_tokens/piece=5589.92\n"
     ]
    },
    {
     "name": "stderr",
     "output_type": "stream",
     "text": [
      "unigram_model_trainer.cc(504) LOG(INFO) EM sub_iter=0 size=335 obj=690.79 num_tokens=2613085 num_tokens/piece=7800.25\n"
     ]
    },
    {
     "name": "stderr",
     "output_type": "stream",
     "text": [
      "unigram_model_trainer.cc(504) LOG(INFO) EM sub_iter=1 size=335 obj=674.858 num_tokens=2614424 num_tokens/piece=7804.25\n"
     ]
    },
    {
     "name": "stderr",
     "output_type": "stream",
     "text": [
      "unigram_model_trainer.cc(504) LOG(INFO) EM sub_iter=0 size=251 obj=694.936 num_tokens=2752494 num_tokens/piece=10966.1\n"
     ]
    },
    {
     "name": "stderr",
     "output_type": "stream",
     "text": [
      "unigram_model_trainer.cc(504) LOG(INFO) EM sub_iter=1 size=251 obj=676.08 num_tokens=2754941 num_tokens/piece=10975.9\n"
     ]
    },
    {
     "name": "stderr",
     "output_type": "stream",
     "text": [
      "unigram_model_trainer.cc(504) LOG(INFO) EM sub_iter=0 size=188 obj=696.701 num_tokens=2907905 num_tokens/piece=15467.6\n"
     ]
    },
    {
     "name": "stderr",
     "output_type": "stream",
     "text": [
      "unigram_model_trainer.cc(504) LOG(INFO) EM sub_iter=1 size=188 obj=677.004 num_tokens=2910538 num_tokens/piece=15481.6\n"
     ]
    },
    {
     "name": "stderr",
     "output_type": "stream",
     "text": [
      "unigram_model_trainer.cc(504) LOG(INFO) EM sub_iter=0 size=141 obj=699.839 num_tokens=3075471 num_tokens/piece=21811.9\n"
     ]
    },
    {
     "name": "stderr",
     "output_type": "stream",
     "text": [
      "unigram_model_trainer.cc(504) LOG(INFO) EM sub_iter=1 size=141 obj=677.844 num_tokens=3078159 num_tokens/piece=21830.9\n"
     ]
    },
    {
     "name": "stderr",
     "output_type": "stream",
     "text": [
      "unigram_model_trainer.cc(504) LOG(INFO) EM sub_iter=0 size=140 obj=677.835 num_tokens=3088370 num_tokens/piece=22059.8\n"
     ]
    },
    {
     "name": "stderr",
     "output_type": "stream",
     "text": [
      "unigram_model_trainer.cc(504) LOG(INFO) EM sub_iter=1 size=140 obj=677.091 num_tokens=3096875 num_tokens/piece=22120.5\n",
      "trainer_interface.cc(604) LOG(INFO) Saving model: sample.model\n",
      "trainer_interface.cc(615) LOG(INFO) Saving vocabs: sample.vocab\n"
     ]
    },
    {
     "name": "stdout",
     "output_type": "stream",
     "text": [
      "vocab len: 127\n",
      "{'CTTG': 125, 'TCCA': 124, 'GCTG': 123, 'T': 122, 'CATG': 121, 'ATTA': 120, 'AAAAA': 119, 'A': 116, 'AAC': 115, 'G': 114, 'C': 112, 'CAGC': 111, 'GGAG': 110, 'AGTG': 109, 'AC': 107, 'AATT': 106, 'ATC': 104, 'GTA': 102, 'TTA': 98, 'CATT': 100, 'ATT': 97, 'ATTT': 92, 'TACA': 91, 'GCT': 90, 'CAAA': 105, 'TTCC': 67, 'CCAC': 89, 'GTGG': 23, 'TGTT': 87, 'TGGA': 10, 'TCCT': 85, 'ATGG': 82, 'AAGA': 58, 'TTTG': 80, 'CTT': 34, 'TAT': 96, 'CTGT': 113, 'CACA': 75, 'GTG': 74, 'TAA': 49, 'ACC': 72, 'CTCA': 70, 'GAG': 68, 'CCAT': 83, 'AGG': 101, 'AGAA': 61, 'CAGG': 60, 'TGGT': 59, 'AAAT': 56, 'CAGT': 55, 'TGGG': 54, 'AGCA': 52, 'AAAA': 51, 'CAGA': 31, 'AAT': 50, 'TATT': 118, 'TCT': 73, 'TTTTT': 84, 'TGA': 32, 'TAG': 46, 'TAAT': 94, 'TTTT': 81, 'CAG': 12, 'CCC': 5, 'TCA': 24, 'TGCT': 117, 'AGGA': 43, 'ATGT': 27, 'ACAG': 47, 'TGAG': 42, 'AGC': 108, 'TTCA': 41, 'AAAG': 44, 'TTC': 39, 'CTGG': 25, 'GGT': 9, 'GCC': 33, 'AAGG': 19, 'AAG': 76, 'CTTT': 36, 'CAAG': 63, 'AGAG': 69, 'CG': 65, 'TTCT': 17, 'CCT': 38, 'TTGG': 35, 'CTCT': 26, 'CCA': 95, 'CAA': 30, 'ACA': 64, 'CTA': 45, 'CAT': 79, 'GAGA': 29, 'ACT': 22, 'CTCC': 21, 'TCTG': 37, 'AGA': 86, 'ATA': 20, 'GAGG': 7, 'AAA': 4, '<unk>': 0, 'AGT': 16, '<pad>': 126, 'CCAG': 13, 'TCTT': 66, 'GAT': 78, 'TCCC': 53, 'GAC': 62, 'GGG': 15, '▁': 1, 'TTT': 40, 'TTG': 93, 'GTT': 99, 'TGTG': 14, 'ATG': 3, 'GGA': 11, 'GC': 103, 'GGC': 6, 'AACA': 48, 'CTG': 2, 'CTC': 18, 'TGT': 8, 'GTC': 57, 'GAA': 71, 'TGCA': 28, 'CAC': 88, 'AGCT': 77}\n"
     ]
    }
   ],
   "source": [
    "tokenizer = get_tokenizer(config['tokenizer'])\n",
    "tokenizer.train(train_dset=train_dset, vocab_size=VOCAB_SIZE, kmer=KMER)\n",
    "vocabulary = build_vocab(train_dset, tokenizer, use_padding=config[\"use_padding\"])\n",
    "\n",
    "print(\"vocab len:\" ,vocabulary.__len__())\n",
    "print(vocabulary.get_stoi())"
   ]
  },
  {
   "cell_type": "markdown",
   "id": "b45b5c80",
   "metadata": {
    "id": "3hGQpSJA5kdT",
    "papermill": {
     "duration": 0.058956,
     "end_time": "2022-01-11T09:16:01.287921",
     "exception": false,
     "start_time": "2022-01-11T09:16:01.228965",
     "status": "completed"
    },
    "tags": []
   },
   "source": [
    "## Dataloader and batch preparation"
   ]
  },
  {
   "cell_type": "code",
   "execution_count": 8,
   "id": "bd425a35",
   "metadata": {
    "colab": {
     "base_uri": "https://localhost:8080/"
    },
    "execution": {
     "iopub.execute_input": "2022-01-11T09:16:01.441969Z",
     "iopub.status.busy": "2022-01-11T09:16:01.435122Z",
     "iopub.status.idle": "2022-01-11T09:16:28.356723Z",
     "shell.execute_reply": "2022-01-11T09:16:28.357428Z"
    },
    "id": "gXUgPH6q5kdT",
    "outputId": "a1eb6ba2-9bcd-416d-8662-e3516121da96",
    "papermill": {
     "duration": 27.015236,
     "end_time": "2022-01-11T09:16:28.357637",
     "exception": false,
     "start_time": "2022-01-11T09:16:01.342401",
     "status": "completed"
    },
    "tags": []
   },
   "outputs": [
    {
     "name": "stdout",
     "output_type": "stream",
     "text": [
      "Using cpu device\n"
     ]
    },
    {
     "name": "stdout",
     "output_type": "stream",
     "text": [
      "max_tok_len  188\n"
     ]
    },
    {
     "name": "stdout",
     "output_type": "stream",
     "text": [
      "not all sequences are of the same length\n"
     ]
    }
   ],
   "source": [
    "# Run on GPU or CPU\n",
    "device = 'cuda' if config[\"run_on_gpu\"] and torch.cuda.is_available() else 'cpu'\n",
    "print('Using {} device'.format(device))\n",
    "\n",
    "max_tok_len = check_seq_lengths(dataset=train_dset, tokenizer=tokenizer)\n",
    "\n",
    "# Data Loader\n",
    "collate = coll_factory(vocabulary, tokenizer, device, pad_to_length = max_tok_len)\n",
    "\n",
    "train_loader = DataLoader(train_dset, batch_size=config[\"batch_size\"], shuffle=True, collate_fn=collate)"
   ]
  },
  {
   "cell_type": "code",
   "execution_count": 9,
   "id": "b29d40fd",
   "metadata": {
    "execution": {
     "iopub.execute_input": "2022-01-11T09:16:28.449022Z",
     "iopub.status.busy": "2022-01-11T09:16:28.448303Z",
     "iopub.status.idle": "2022-01-11T09:16:28.466954Z",
     "shell.execute_reply": "2022-01-11T09:16:28.467453Z"
    },
    "papermill": {
     "duration": 0.070596,
     "end_time": "2022-01-11T09:16:28.467655",
     "exception": false,
     "start_time": "2022-01-11T09:16:28.397059",
     "status": "completed"
    },
    "tags": []
   },
   "outputs": [
    {
     "data": {
      "text/plain": [
       "['▁',\n",
       " 'CCAT',\n",
       " 'CTA',\n",
       " 'TTTTT',\n",
       " 'GAA',\n",
       " 'TCCT',\n",
       " 'TTT',\n",
       " 'AACA',\n",
       " 'CTTT',\n",
       " 'ATG',\n",
       " 'AGAG',\n",
       " 'AGA',\n",
       " 'AAG',\n",
       " 'AACA',\n",
       " 'GAA',\n",
       " 'CAGG',\n",
       " 'CAGG',\n",
       " 'CAGG',\n",
       " 'CTG',\n",
       " 'TGTT',\n",
       " 'TAA',\n",
       " 'CCC',\n",
       " 'CAC',\n",
       " 'AACA',\n",
       " 'CCAC',\n",
       " 'CAT',\n",
       " 'AGAG',\n",
       " 'CCT',\n",
       " 'AAAA',\n",
       " 'GCT',\n",
       " 'TGGG',\n",
       " 'AGT',\n",
       " 'AAA',\n",
       " 'TACA',\n",
       " 'ATTT',\n",
       " 'CTTT',\n",
       " 'GGC',\n",
       " 'ACC',\n",
       " 'TTG',\n",
       " 'TAAT',\n",
       " 'AAAA',\n",
       " 'CAT',\n",
       " 'GAA',\n",
       " 'CAA',\n",
       " 'TGAG',\n",
       " 'TTT',\n",
       " 'CTCA',\n",
       " 'CCA',\n",
       " 'TGT',\n",
       " 'TAT',\n",
       " 'TAG',\n",
       " 'TCT',\n",
       " 'CTGG',\n",
       " 'ATT',\n",
       " 'CCA',\n",
       " 'CG',\n",
       " 'CTCC',\n",
       " 'GGC',\n",
       " 'ATA',\n",
       " 'CTT',\n",
       " 'ACA',\n",
       " 'CAT',\n",
       " 'TTA',\n",
       " 'CAG',\n",
       " 'AAA',\n",
       " 'AGAG',\n",
       " 'AGA',\n",
       " 'CAGA',\n",
       " 'CAA',\n",
       " 'AGAG',\n",
       " 'AGT',\n",
       " 'ACT',\n",
       " 'GTG',\n",
       " 'CTG',\n",
       " 'AAAG',\n",
       " 'GTT',\n",
       " 'CAGA',\n",
       " 'CAGA',\n",
       " 'AGAA',\n",
       " 'TTC',\n",
       " 'GGG',\n",
       " 'ACT',\n",
       " 'CAAG',\n",
       " 'CCA',\n",
       " 'CAA',\n",
       " 'CAA',\n",
       " 'CATT',\n",
       " 'AAT',\n",
       " 'GAGG',\n",
       " 'AAA',\n",
       " 'GGG',\n",
       " 'AGG',\n",
       " 'GTA',\n",
       " 'GGG',\n",
       " 'CAG',\n",
       " 'CCC',\n",
       " 'AGT',\n",
       " 'GAA',\n",
       " 'CAA',\n",
       " 'TGAG',\n",
       " 'CTG',\n",
       " 'CTC',\n",
       " 'GC',\n",
       " 'ATC',\n",
       " 'AGT',\n",
       " 'TTTG',\n",
       " 'AAA',\n",
       " 'GAGA',\n",
       " 'CAGT',\n",
       " 'AGAG',\n",
       " 'AAGA',\n",
       " 'CACA',\n",
       " 'CAAA',\n",
       " 'CAT',\n",
       " 'TCCT',\n",
       " 'AATT',\n",
       " 'TCTT',\n",
       " 'GC',\n",
       " 'CTT',\n",
       " 'GGC',\n",
       " 'TGGA',\n",
       " 'TAA',\n",
       " 'CTC',\n",
       " 'GGC',\n",
       " 'TGCA',\n",
       " 'AAA',\n",
       " 'GGT',\n",
       " 'AAGA',\n",
       " 'TTCT',\n",
       " 'TTG',\n",
       " 'CTC',\n",
       " 'TTCC',\n",
       " 'GGT',\n",
       " 'TTT',\n",
       " 'CG',\n",
       " 'GGA',\n",
       " 'TCA',\n",
       " 'GAGG',\n",
       " 'TAA',\n",
       " 'CCC',\n",
       " 'GGG',\n",
       " 'GGC',\n",
       " 'CTA',\n",
       " 'GC',\n",
       " 'ACAG',\n",
       " 'GTG',\n",
       " 'GTC',\n",
       " 'TCA',\n",
       " 'CAT',\n",
       " 'CTGG',\n",
       " 'GAA']"
      ]
     },
     "execution_count": 9,
     "metadata": {},
     "output_type": "execute_result"
    }
   ],
   "source": [
    "tokenizer(train_dset[1][0])"
   ]
  },
  {
   "cell_type": "markdown",
   "id": "4d036366",
   "metadata": {
    "id": "sTTomnnP5kdU",
    "papermill": {
     "duration": 0.045062,
     "end_time": "2022-01-11T09:16:28.553308",
     "exception": false,
     "start_time": "2022-01-11T09:16:28.508246",
     "status": "completed"
    },
    "tags": []
   },
   "source": [
    "## Model"
   ]
  },
  {
   "cell_type": "code",
   "execution_count": 10,
   "id": "7d2124a6",
   "metadata": {
    "execution": {
     "iopub.execute_input": "2022-01-11T09:16:28.650556Z",
     "iopub.status.busy": "2022-01-11T09:16:28.649217Z",
     "iopub.status.idle": "2022-01-11T09:16:28.672157Z",
     "shell.execute_reply": "2022-01-11T09:16:28.672842Z"
    },
    "id": "ZNuXGIdD5kdU",
    "papermill": {
     "duration": 0.074779,
     "end_time": "2022-01-11T09:16:28.673094",
     "exception": false,
     "start_time": "2022-01-11T09:16:28.598315",
     "status": "completed"
    },
    "tags": []
   },
   "outputs": [],
   "source": [
    "model = CNN(\n",
    "    number_of_classes=config[\"number_of_classes\"],\n",
    "    vocab_size=vocabulary.__len__(),\n",
    "    embedding_dim=config[\"embedding_dim\"],\n",
    "    input_len=max_tok_len\n",
    ").to(device)"
   ]
  },
  {
   "cell_type": "markdown",
   "id": "b5f39842",
   "metadata": {
    "id": "1pqIm92h5kdV",
    "papermill": {
     "duration": 0.049694,
     "end_time": "2022-01-11T09:16:28.766669",
     "exception": false,
     "start_time": "2022-01-11T09:16:28.716975",
     "status": "completed"
    },
    "tags": []
   },
   "source": [
    "## Training"
   ]
  },
  {
   "cell_type": "code",
   "execution_count": 11,
   "id": "5efd1ac0",
   "metadata": {
    "colab": {
     "base_uri": "https://localhost:8080/"
    },
    "execution": {
     "iopub.execute_input": "2022-01-11T09:16:28.863093Z",
     "iopub.status.busy": "2022-01-11T09:16:28.862150Z",
     "iopub.status.idle": "2022-01-11T09:22:26.868679Z",
     "shell.execute_reply": "2022-01-11T09:22:26.869389Z"
    },
    "id": "uvO_-RFm5kdV",
    "outputId": "7799e5f9-78a7-4ef2-95e8-f06751912eda",
    "papermill": {
     "duration": 358.058291,
     "end_time": "2022-01-11T09:22:26.870107",
     "exception": false,
     "start_time": "2022-01-11T09:16:28.811816",
     "status": "completed"
    },
    "tags": []
   },
   "outputs": [
    {
     "name": "stdout",
     "output_type": "stream",
     "text": [
      "Epoch 0\n"
     ]
    },
    {
     "name": "stderr",
     "output_type": "stream",
     "text": [
      "/Users/katarina/Documents/repositories/GitHub/GLP/src/glp/tokenizers/utils.py:27: UserWarning: To copy construct from a tensor, it is recommended to use sourceTensor.clone().detach() or sourceTensor.clone().detach().requires_grad_(True), rather than torch.tensor(sourceTensor).\n",
      "  x = torch.tensor(pad(x), dtype=torch.long)\n"
     ]
    },
    {
     "name": "stdout",
     "output_type": "stream",
     "text": [
      "Train metrics: \n",
      " Accuracy: 67.8%, Avg loss: 0.639029 \n",
      "\n",
      "Epoch 1\n"
     ]
    },
    {
     "name": "stdout",
     "output_type": "stream",
     "text": [
      "Train metrics: \n",
      " Accuracy: 68.0%, Avg loss: 0.634062 \n",
      "\n",
      "Epoch 2\n"
     ]
    },
    {
     "name": "stdout",
     "output_type": "stream",
     "text": [
      "Train metrics: \n",
      " Accuracy: 68.9%, Avg loss: 0.630115 \n",
      "\n",
      "Epoch 3\n"
     ]
    },
    {
     "name": "stdout",
     "output_type": "stream",
     "text": [
      "Train metrics: \n",
      " Accuracy: 73.2%, Avg loss: 0.618496 \n",
      "\n",
      "Epoch 4\n"
     ]
    },
    {
     "name": "stdout",
     "output_type": "stream",
     "text": [
      "Train metrics: \n",
      " Accuracy: 75.4%, Avg loss: 0.616339 \n",
      "\n"
     ]
    }
   ],
   "source": [
    "model.train(train_loader, epochs=config[\"epochs\"])"
   ]
  },
  {
   "cell_type": "markdown",
   "id": "d52f8cd7",
   "metadata": {
    "id": "bR2tamrc5kdV",
    "papermill": {
     "duration": 0.052233,
     "end_time": "2022-01-11T09:22:26.968635",
     "exception": false,
     "start_time": "2022-01-11T09:22:26.916402",
     "status": "completed"
    },
    "tags": []
   },
   "source": [
    "## Testing"
   ]
  },
  {
   "cell_type": "code",
   "execution_count": 12,
   "id": "5cc2c6cf",
   "metadata": {
    "colab": {
     "base_uri": "https://localhost:8080/"
    },
    "execution": {
     "iopub.execute_input": "2022-01-11T09:22:27.074887Z",
     "iopub.status.busy": "2022-01-11T09:22:27.073415Z",
     "iopub.status.idle": "2022-01-11T09:22:36.985912Z",
     "shell.execute_reply": "2022-01-11T09:22:36.985064Z"
    },
    "id": "wbnciyRK5kdW",
    "outputId": "d2592f9d-f074-465f-95f8-df3b759ae068",
    "papermill": {
     "duration": 9.970544,
     "end_time": "2022-01-11T09:22:36.986125",
     "exception": false,
     "start_time": "2022-01-11T09:22:27.015581",
     "status": "completed"
    },
    "tags": []
   },
   "outputs": [
    {
     "name": "stdout",
     "output_type": "stream",
     "text": [
      "p  3474 ; tp  2104.2328075170517 ; fp  902.8944049580023\n",
      "recall  0.6057089255950062 ; precision  0.6997485170523053\n",
      "num_batches 218\n",
      "correct 4676\n",
      "size 6948\n",
      "Test metrics: \n",
      " Accuracy: 0.672999, F1 score: 0.649342, Avg loss: 0.655398 \n",
      "\n"
     ]
    },
    {
     "data": {
      "text/plain": [
       "(0.6729994242947611, 0.6493416155963629)"
      ]
     },
     "execution_count": 12,
     "metadata": {},
     "output_type": "execute_result"
    }
   ],
   "source": [
    "test_dset = get_dataset(config[\"dataset\"], 'test')\n",
    "test_loader = DataLoader(test_dset, batch_size=config[\"batch_size\"], shuffle=True, collate_fn=collate)\n",
    "\n",
    "acc, f1 = model.test(test_loader)\n",
    "acc, f1"
   ]
  }
 ],
 "metadata": {
  "accelerator": "TPU",
  "colab": {
   "name": "torch_cnn_classifier.ipynb",
   "provenance": []
  },
  "environment": {
   "name": "pytorch-gpu.1-9.m75",
   "type": "gcloud",
   "uri": "gcr.io/deeplearning-platform-release/pytorch-gpu.1-9:m75"
  },
  "interpreter": {
   "hash": "9828b828580f1cac1b571b33de6cff8bacecc8916095e1bcbc967952ca7105b7"
  },
  "kernelspec": {
   "display_name": "Python 3",
   "name": "python3"
  },
  "language_info": {
   "codemirror_mode": {
    "name": "ipython",
    "version": 3
   },
   "file_extension": ".py",
   "mimetype": "text/x-python",
   "name": "python",
   "nbconvert_exporter": "python",
   "pygments_lexer": "ipython3",
   "version": "3.8.9"
  },
  "papermill": {
   "default_parameters": {},
   "duration": 1350.277194,
   "end_time": "2022-01-11T09:22:37.777919",
   "environment_variables": {},
   "exception": null,
   "input_path": "torch_cnn.ipynb",
   "output_path": "../torch_cnn_experiments/human_enhancers_cohn_subword_128.ipynb",
   "parameters": {
    "DATASET": "human_enhancers_cohn",
    "TOKENIZER": "subword",
    "VOCAB_SIZE": 128
   },
   "start_time": "2022-01-11T09:00:07.500725",
   "version": "2.3.3"
  }
 },
 "nbformat": 4,
 "nbformat_minor": 5
}