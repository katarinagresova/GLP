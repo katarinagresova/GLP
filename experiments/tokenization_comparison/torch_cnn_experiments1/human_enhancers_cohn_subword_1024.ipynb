{
 "cells": [
  {
   "cell_type": "markdown",
   "id": "513ff86d",
   "metadata": {
    "id": "SKOD9lvq5kdM",
    "papermill": {
     "duration": 0.021787,
     "end_time": "2022-01-11T09:58:17.146914",
     "exception": false,
     "start_time": "2022-01-11T09:58:17.125127",
     "status": "completed"
    },
    "tags": []
   },
   "source": [
    "# PYTORCH CNN Classifier"
   ]
  },
  {
   "cell_type": "code",
   "execution_count": 1,
   "id": "74d3a4a4",
   "metadata": {
    "execution": {
     "iopub.execute_input": "2022-01-11T09:58:17.192565Z",
     "iopub.status.busy": "2022-01-11T09:58:17.191295Z",
     "iopub.status.idle": "2022-01-11T09:58:17.197288Z",
     "shell.execute_reply": "2022-01-11T09:58:17.197885Z"
    },
    "id": "E8prt3AL5kdO",
    "papermill": {
     "duration": 0.035889,
     "end_time": "2022-01-11T09:58:17.198333",
     "exception": false,
     "start_time": "2022-01-11T09:58:17.162444",
     "status": "completed"
    },
    "tags": [
     "parameters"
    ]
   },
   "outputs": [],
   "source": [
    "DATASET = 'none'\n",
    "VOCAB_SIZE = 0\n",
    "TOKENIZER = 'none'\n",
    "KMER = 0"
   ]
  },
  {
   "cell_type": "code",
   "execution_count": 2,
   "id": "14e21d6c",
   "metadata": {
    "execution": {
     "iopub.execute_input": "2022-01-11T09:58:17.235141Z",
     "iopub.status.busy": "2022-01-11T09:58:17.233621Z",
     "iopub.status.idle": "2022-01-11T09:58:17.237795Z",
     "shell.execute_reply": "2022-01-11T09:58:17.238419Z"
    },
    "papermill": {
     "duration": 0.024321,
     "end_time": "2022-01-11T09:58:17.238733",
     "exception": false,
     "start_time": "2022-01-11T09:58:17.214412",
     "status": "completed"
    },
    "tags": [
     "injected-parameters"
    ]
   },
   "outputs": [],
   "source": [
    "# Parameters\n",
    "DATASET = \"human_enhancers_cohn\"\n",
    "TOKENIZER = \"subword\"\n",
    "VOCAB_SIZE = 1024\n"
   ]
  },
  {
   "cell_type": "code",
   "execution_count": 3,
   "id": "81571838",
   "metadata": {
    "colab": {
     "base_uri": "https://localhost:8080/"
    },
    "execution": {
     "iopub.execute_input": "2022-01-11T09:58:17.275884Z",
     "iopub.status.busy": "2022-01-11T09:58:17.274686Z",
     "iopub.status.idle": "2022-01-11T09:58:17.278739Z",
     "shell.execute_reply": "2022-01-11T09:58:17.279564Z"
    },
    "id": "rohBItfR5kdP",
    "outputId": "7da7aafe-0858-48be-bf7d-f698784d88df",
    "papermill": {
     "duration": 0.025487,
     "end_time": "2022-01-11T09:58:17.279776",
     "exception": false,
     "start_time": "2022-01-11T09:58:17.254289",
     "status": "completed"
    },
    "tags": []
   },
   "outputs": [
    {
     "name": "stdout",
     "output_type": "stream",
     "text": [
      "human_enhancers_cohn 1024 subword 0\n"
     ]
    }
   ],
   "source": [
    "print(DATASET, VOCAB_SIZE, TOKENIZER, KMER)"
   ]
  },
  {
   "cell_type": "markdown",
   "id": "e84ffb16",
   "metadata": {
    "id": "Y-YQrVyb5kdQ",
    "papermill": {
     "duration": 0.016679,
     "end_time": "2022-01-11T09:58:17.311174",
     "exception": false,
     "start_time": "2022-01-11T09:58:17.294495",
     "status": "completed"
    },
    "tags": []
   },
   "source": [
    "## Config"
   ]
  },
  {
   "cell_type": "code",
   "execution_count": 4,
   "id": "1c50e947",
   "metadata": {
    "execution": {
     "iopub.execute_input": "2022-01-11T09:58:17.346818Z",
     "iopub.status.busy": "2022-01-11T09:58:17.345801Z",
     "iopub.status.idle": "2022-01-11T09:58:19.091996Z",
     "shell.execute_reply": "2022-01-11T09:58:19.092460Z"
    },
    "id": "FIunuyGk5kdR",
    "papermill": {
     "duration": 1.766375,
     "end_time": "2022-01-11T09:58:19.092675",
     "exception": false,
     "start_time": "2022-01-11T09:58:17.326300",
     "status": "completed"
    },
    "tags": []
   },
   "outputs": [],
   "source": [
    "import torch\n",
    "from torch.utils.data import DataLoader\n",
    "\n",
    "from genomic_benchmarks.dataset_getters.pytorch_datasets import get_dataset\n",
    "from glp.models import CNN\n",
    "from glp.tokenizers import get_tokenizer\n",
    "from glp.tokenizers.utils import build_vocab, coll_factory, check_config, check_seq_lengths"
   ]
  },
  {
   "cell_type": "code",
   "execution_count": 5,
   "id": "b476ca27",
   "metadata": {
    "execution": {
     "iopub.execute_input": "2022-01-11T09:58:19.136218Z",
     "iopub.status.busy": "2022-01-11T09:58:19.133539Z",
     "iopub.status.idle": "2022-01-11T09:58:19.137767Z",
     "shell.execute_reply": "2022-01-11T09:58:19.138268Z"
    },
    "id": "UgXiF6Zz5kdR",
    "papermill": {
     "duration": 0.030726,
     "end_time": "2022-01-11T09:58:19.138478",
     "exception": false,
     "start_time": "2022-01-11T09:58:19.107752",
     "status": "completed"
    },
    "tags": []
   },
   "outputs": [],
   "source": [
    "config = {\n",
    "    \"dataset\": DATASET,\n",
    "    \"tokenizer\": TOKENIZER,\n",
    "    \"dataset_version\": 0,\n",
    "    \"epochs\": 5,\n",
    "    \"batch_size\": 32,\n",
    "    \"use_padding\": True,\n",
    "    \"force_download\": False,\n",
    "    \"run_on_gpu\": True,\n",
    "    \"number_of_classes\": 2,\n",
    "    \"embedding_dim\": 100,\n",
    "}\n",
    "check_config(config)"
   ]
  },
  {
   "cell_type": "markdown",
   "id": "5d7ff274",
   "metadata": {
    "id": "AUWF-avz5kdS",
    "papermill": {
     "duration": 0.014717,
     "end_time": "2022-01-11T09:58:19.168320",
     "exception": false,
     "start_time": "2022-01-11T09:58:19.153603",
     "status": "completed"
    },
    "tags": []
   },
   "source": [
    "## Choose the dataset"
   ]
  },
  {
   "cell_type": "code",
   "execution_count": 6,
   "id": "ae902e35",
   "metadata": {
    "colab": {
     "base_uri": "https://localhost:8080/"
    },
    "execution": {
     "iopub.execute_input": "2022-01-11T09:58:19.204357Z",
     "iopub.status.busy": "2022-01-11T09:58:19.203078Z",
     "iopub.status.idle": "2022-01-11T09:58:19.377662Z",
     "shell.execute_reply": "2022-01-11T09:58:19.378165Z"
    },
    "id": "1oaryDJr5kdS",
    "outputId": "6a425df9-4092-4601-9cd9-f61d524b6278",
    "papermill": {
     "duration": 0.19523,
     "end_time": "2022-01-11T09:58:19.378374",
     "exception": false,
     "start_time": "2022-01-11T09:58:19.183144",
     "status": "completed"
    },
    "tags": []
   },
   "outputs": [],
   "source": [
    "train_dset = get_dataset(config[\"dataset\"], 'train')"
   ]
  },
  {
   "cell_type": "markdown",
   "id": "0495286d",
   "metadata": {
    "id": "B0lqmy935kdS",
    "papermill": {
     "duration": 0.017298,
     "end_time": "2022-01-11T09:58:19.411089",
     "exception": false,
     "start_time": "2022-01-11T09:58:19.393791",
     "status": "completed"
    },
    "tags": []
   },
   "source": [
    "## Tokenizer and vocab"
   ]
  },
  {
   "cell_type": "code",
   "execution_count": 7,
   "id": "44fc0d6e",
   "metadata": {
    "colab": {
     "base_uri": "https://localhost:8080/"
    },
    "execution": {
     "iopub.execute_input": "2022-01-11T09:58:19.449574Z",
     "iopub.status.busy": "2022-01-11T09:58:19.448686Z",
     "iopub.status.idle": "2022-01-11T10:09:45.954069Z",
     "shell.execute_reply": "2022-01-11T10:09:45.954806Z"
    },
    "id": "NY_zualp5kdT",
    "outputId": "9034d65f-2f9a-4c83-a314-13d3b808fc65",
    "papermill": {
     "duration": 686.527047,
     "end_time": "2022-01-11T10:09:45.955476",
     "exception": false,
     "start_time": "2022-01-11T09:58:19.428429",
     "status": "completed"
    },
    "tags": []
   },
   "outputs": [
    {
     "name": "stderr",
     "output_type": "stream",
     "text": [
      "sentencepiece_trainer.cc(177) LOG(INFO) Running command: --input=sample.csv --model_prefix=sample --vocab_size=1024 --model_type=unigram\n",
      "sentencepiece_trainer.cc(77) LOG(INFO) Starts training with : \n",
      "trainer_spec {\n",
      "  input: sample.csv\n",
      "  input_format: \n",
      "  model_prefix: sample\n",
      "  model_type: UNIGRAM\n",
      "  vocab_size: 1024\n",
      "  self_test_sample_size: 0\n",
      "  character_coverage: 0.9995\n",
      "  input_sentence_size: 0\n",
      "  shuffle_input_sentence: 1\n",
      "  seed_sentencepiece_size: 1000000\n",
      "  shrinking_factor: 0.75\n",
      "  max_sentence_length: 4192\n",
      "  num_threads: 16\n",
      "  num_sub_iterations: 2\n",
      "  max_sentencepiece_length: 16\n",
      "  split_by_unicode_script: 1\n",
      "  split_by_number: 1\n",
      "  split_by_whitespace: 1\n",
      "  split_digits: 0\n",
      "  treat_whitespace_as_suffix: 0\n",
      "  required_chars: \n",
      "  byte_fallback: 0\n",
      "  vocabulary_output_piece_score: 1\n",
      "  train_extremely_large_corpus: 0\n",
      "  hard_vocab_limit: 1\n",
      "  use_all_vocab: 0\n",
      "  unk_id: 0\n",
      "  bos_id: 1\n",
      "  eos_id: 2\n",
      "  pad_id: -1\n",
      "  unk_piece: <unk>\n",
      "  bos_piece: <s>\n",
      "  eos_piece: </s>\n",
      "  pad_piece: <pad>\n",
      "  unk_surface:  ⁇ \n",
      "}\n",
      "normalizer_spec {\n",
      "  name: nmt_nfkc\n",
      "  add_dummy_prefix: 1\n",
      "  remove_extra_whitespaces: 1\n",
      "  escape_whitespaces: 1\n",
      "  normalization_rule_tsv: \n",
      "}\n",
      "denormalizer_spec {}\n",
      "trainer_interface.cc(319) LOG(INFO) SentenceIterator is not specified. Using MultiFileSentenceIterator.\n",
      "trainer_interface.cc(174) LOG(INFO) Loading corpus: sample.csv\n",
      "trainer_interface.cc(375) LOG(INFO) Loaded all 20843 sentences\n",
      "trainer_interface.cc(390) LOG(INFO) Adding meta_piece: <unk>\n",
      "trainer_interface.cc(390) LOG(INFO) Adding meta_piece: <s>\n",
      "trainer_interface.cc(390) LOG(INFO) Adding meta_piece: </s>\n",
      "trainer_interface.cc(395) LOG(INFO) Normalizing sentences...\n"
     ]
    },
    {
     "name": "stderr",
     "output_type": "stream",
     "text": [
      "trainer_interface.cc(456) LOG(INFO) all chars count=10442343\n",
      "trainer_interface.cc(477) LOG(INFO) Alphabet size=5\n",
      "trainer_interface.cc(478) LOG(INFO) Final character coverage=1\n"
     ]
    },
    {
     "name": "stderr",
     "output_type": "stream",
     "text": [
      "trainer_interface.cc(510) LOG(INFO) Done! preprocessed 20843 sentences.\n"
     ]
    },
    {
     "name": "stderr",
     "output_type": "stream",
     "text": [
      "unigram_model_trainer.cc(138) LOG(INFO) Making suffix array...\n"
     ]
    },
    {
     "name": "stderr",
     "output_type": "stream",
     "text": [
      "unigram_model_trainer.cc(142) LOG(INFO) Extracting frequent sub strings...\n"
     ]
    },
    {
     "name": "stderr",
     "output_type": "stream",
     "text": [
      "unigram_model_trainer.cc(193) LOG(INFO) Initialized 1000000 seed sentencepieces\n"
     ]
    },
    {
     "name": "stderr",
     "output_type": "stream",
     "text": [
      "trainer_interface.cc(516) LOG(INFO) Tokenizing input sentences with whitespace: 20843\n",
      "trainer_interface.cc(526) LOG(INFO) Done! 20843\n",
      "unigram_model_trainer.cc(488) LOG(INFO) Using 20843 sentences for EM training\n"
     ]
    },
    {
     "name": "stderr",
     "output_type": "stream",
     "text": [
      "unigram_model_trainer.cc(504) LOG(INFO) EM sub_iter=0 size=451960 obj=656.396 num_tokens=1062834 num_tokens/piece=2.35161\n"
     ]
    },
    {
     "name": "stderr",
     "output_type": "stream",
     "text": [
      "unigram_model_trainer.cc(504) LOG(INFO) EM sub_iter=1 size=328755 obj=662.576 num_tokens=1151170 num_tokens/piece=3.5016\n"
     ]
    },
    {
     "name": "stderr",
     "output_type": "stream",
     "text": [
      "unigram_model_trainer.cc(504) LOG(INFO) EM sub_iter=0 size=214788 obj=659.085 num_tokens=1189558 num_tokens/piece=5.53829\n"
     ]
    },
    {
     "name": "stderr",
     "output_type": "stream",
     "text": [
      "unigram_model_trainer.cc(504) LOG(INFO) EM sub_iter=1 size=195654 obj=651.89 num_tokens=1212596 num_tokens/piece=6.19766\n"
     ]
    },
    {
     "name": "stderr",
     "output_type": "stream",
     "text": [
      "unigram_model_trainer.cc(504) LOG(INFO) EM sub_iter=0 size=144886 obj=653.472 num_tokens=1240509 num_tokens/piece=8.56197\n"
     ]
    },
    {
     "name": "stderr",
     "output_type": "stream",
     "text": [
      "unigram_model_trainer.cc(504) LOG(INFO) EM sub_iter=1 size=141860 obj=649.031 num_tokens=1247362 num_tokens/piece=8.79291\n"
     ]
    },
    {
     "name": "stderr",
     "output_type": "stream",
     "text": [
      "unigram_model_trainer.cc(504) LOG(INFO) EM sub_iter=0 size=106361 obj=652.395 num_tokens=1276529 num_tokens/piece=12.0019\n"
     ]
    },
    {
     "name": "stderr",
     "output_type": "stream",
     "text": [
      "unigram_model_trainer.cc(504) LOG(INFO) EM sub_iter=1 size=106221 obj=648.169 num_tokens=1278410 num_tokens/piece=12.0354\n"
     ]
    },
    {
     "name": "stderr",
     "output_type": "stream",
     "text": [
      "unigram_model_trainer.cc(504) LOG(INFO) EM sub_iter=0 size=79663 obj=653.869 num_tokens=1316403 num_tokens/piece=16.5246\n"
     ]
    },
    {
     "name": "stderr",
     "output_type": "stream",
     "text": [
      "unigram_model_trainer.cc(504) LOG(INFO) EM sub_iter=1 size=79658 obj=648.559 num_tokens=1316903 num_tokens/piece=16.532\n"
     ]
    },
    {
     "name": "stderr",
     "output_type": "stream",
     "text": [
      "unigram_model_trainer.cc(504) LOG(INFO) EM sub_iter=0 size=59743 obj=655.848 num_tokens=1359053 num_tokens/piece=22.7483\n"
     ]
    },
    {
     "name": "stderr",
     "output_type": "stream",
     "text": [
      "unigram_model_trainer.cc(504) LOG(INFO) EM sub_iter=1 size=59742 obj=650.015 num_tokens=1359467 num_tokens/piece=22.7556\n"
     ]
    },
    {
     "name": "stderr",
     "output_type": "stream",
     "text": [
      "unigram_model_trainer.cc(504) LOG(INFO) EM sub_iter=0 size=44806 obj=657.667 num_tokens=1400371 num_tokens/piece=31.2541\n"
     ]
    },
    {
     "name": "stderr",
     "output_type": "stream",
     "text": [
      "unigram_model_trainer.cc(504) LOG(INFO) EM sub_iter=1 size=44806 obj=652.073 num_tokens=1400851 num_tokens/piece=31.2648\n"
     ]
    },
    {
     "name": "stderr",
     "output_type": "stream",
     "text": [
      "unigram_model_trainer.cc(504) LOG(INFO) EM sub_iter=0 size=33604 obj=659.381 num_tokens=1441209 num_tokens/piece=42.888\n"
     ]
    },
    {
     "name": "stderr",
     "output_type": "stream",
     "text": [
      "unigram_model_trainer.cc(504) LOG(INFO) EM sub_iter=1 size=33603 obj=654.176 num_tokens=1441766 num_tokens/piece=42.9059\n"
     ]
    },
    {
     "name": "stderr",
     "output_type": "stream",
     "text": [
      "unigram_model_trainer.cc(504) LOG(INFO) EM sub_iter=0 size=25202 obj=661.335 num_tokens=1482972 num_tokens/piece=58.8434\n"
     ]
    },
    {
     "name": "stderr",
     "output_type": "stream",
     "text": [
      "unigram_model_trainer.cc(504) LOG(INFO) EM sub_iter=1 size=25202 obj=656.203 num_tokens=1483424 num_tokens/piece=58.8614\n"
     ]
    },
    {
     "name": "stderr",
     "output_type": "stream",
     "text": [
      "unigram_model_trainer.cc(504) LOG(INFO) EM sub_iter=0 size=18901 obj=663.245 num_tokens=1526444 num_tokens/piece=80.76\n"
     ]
    },
    {
     "name": "stderr",
     "output_type": "stream",
     "text": [
      "unigram_model_trainer.cc(504) LOG(INFO) EM sub_iter=1 size=18901 obj=658.003 num_tokens=1527069 num_tokens/piece=80.793\n"
     ]
    },
    {
     "name": "stderr",
     "output_type": "stream",
     "text": [
      "unigram_model_trainer.cc(504) LOG(INFO) EM sub_iter=0 size=14175 obj=665.311 num_tokens=1573592 num_tokens/piece=111.012\n"
     ]
    },
    {
     "name": "stderr",
     "output_type": "stream",
     "text": [
      "unigram_model_trainer.cc(504) LOG(INFO) EM sub_iter=1 size=14175 obj=659.734 num_tokens=1574133 num_tokens/piece=111.05\n"
     ]
    },
    {
     "name": "stderr",
     "output_type": "stream",
     "text": [
      "unigram_model_trainer.cc(504) LOG(INFO) EM sub_iter=0 size=10631 obj=667.497 num_tokens=1623310 num_tokens/piece=152.696\n"
     ]
    },
    {
     "name": "stderr",
     "output_type": "stream",
     "text": [
      "unigram_model_trainer.cc(504) LOG(INFO) EM sub_iter=1 size=10631 obj=661.529 num_tokens=1623986 num_tokens/piece=152.759\n"
     ]
    },
    {
     "name": "stderr",
     "output_type": "stream",
     "text": [
      "unigram_model_trainer.cc(504) LOG(INFO) EM sub_iter=0 size=7973 obj=669.647 num_tokens=1677995 num_tokens/piece=210.46\n"
     ]
    },
    {
     "name": "stderr",
     "output_type": "stream",
     "text": [
      "unigram_model_trainer.cc(504) LOG(INFO) EM sub_iter=1 size=7973 obj=663.05 num_tokens=1678566 num_tokens/piece=210.531\n"
     ]
    },
    {
     "name": "stderr",
     "output_type": "stream",
     "text": [
      "unigram_model_trainer.cc(504) LOG(INFO) EM sub_iter=0 size=5979 obj=671.319 num_tokens=1734023 num_tokens/piece=290.019\n"
     ]
    },
    {
     "name": "stderr",
     "output_type": "stream",
     "text": [
      "unigram_model_trainer.cc(504) LOG(INFO) EM sub_iter=1 size=5979 obj=664.29 num_tokens=1734616 num_tokens/piece=290.118\n"
     ]
    },
    {
     "name": "stderr",
     "output_type": "stream",
     "text": [
      "unigram_model_trainer.cc(504) LOG(INFO) EM sub_iter=0 size=4484 obj=672.797 num_tokens=1794114 num_tokens/piece=400.115\n"
     ]
    },
    {
     "name": "stderr",
     "output_type": "stream",
     "text": [
      "unigram_model_trainer.cc(504) LOG(INFO) EM sub_iter=1 size=4484 obj=665.366 num_tokens=1794882 num_tokens/piece=400.286\n"
     ]
    },
    {
     "name": "stderr",
     "output_type": "stream",
     "text": [
      "unigram_model_trainer.cc(504) LOG(INFO) EM sub_iter=0 size=3363 obj=674.688 num_tokens=1858954 num_tokens/piece=552.767\n"
     ]
    },
    {
     "name": "stderr",
     "output_type": "stream",
     "text": [
      "unigram_model_trainer.cc(504) LOG(INFO) EM sub_iter=1 size=3363 obj=666.505 num_tokens=1859784 num_tokens/piece=553.013\n"
     ]
    },
    {
     "name": "stderr",
     "output_type": "stream",
     "text": [
      "unigram_model_trainer.cc(504) LOG(INFO) EM sub_iter=0 size=2522 obj=676.667 num_tokens=1931142 num_tokens/piece=765.718\n"
     ]
    },
    {
     "name": "stderr",
     "output_type": "stream",
     "text": [
      "unigram_model_trainer.cc(504) LOG(INFO) EM sub_iter=1 size=2522 obj=667.926 num_tokens=1931879 num_tokens/piece=766.011\n"
     ]
    },
    {
     "name": "stderr",
     "output_type": "stream",
     "text": [
      "unigram_model_trainer.cc(504) LOG(INFO) EM sub_iter=0 size=1891 obj=679.206 num_tokens=2007806 num_tokens/piece=1061.77\n"
     ]
    },
    {
     "name": "stderr",
     "output_type": "stream",
     "text": [
      "unigram_model_trainer.cc(504) LOG(INFO) EM sub_iter=1 size=1891 obj=669.539 num_tokens=2008799 num_tokens/piece=1062.29\n"
     ]
    },
    {
     "name": "stderr",
     "output_type": "stream",
     "text": [
      "unigram_model_trainer.cc(504) LOG(INFO) EM sub_iter=0 size=1418 obj=680.388 num_tokens=2088648 num_tokens/piece=1472.95\n"
     ]
    },
    {
     "name": "stderr",
     "output_type": "stream",
     "text": [
      "unigram_model_trainer.cc(504) LOG(INFO) EM sub_iter=1 size=1418 obj=670.701 num_tokens=2089565 num_tokens/piece=1473.6\n"
     ]
    },
    {
     "name": "stderr",
     "output_type": "stream",
     "text": [
      "unigram_model_trainer.cc(504) LOG(INFO) EM sub_iter=0 size=1126 obj=681.045 num_tokens=2159293 num_tokens/piece=1917.67\n"
     ]
    },
    {
     "name": "stderr",
     "output_type": "stream",
     "text": [
      "unigram_model_trainer.cc(504) LOG(INFO) EM sub_iter=1 size=1126 obj=671.482 num_tokens=2160548 num_tokens/piece=1918.78\n",
      "trainer_interface.cc(604) LOG(INFO) Saving model: sample.model\n",
      "trainer_interface.cc(615) LOG(INFO) Saving vocabs: sample.vocab\n"
     ]
    },
    {
     "name": "stdout",
     "output_type": "stream",
     "text": [
      "vocab len: 1023\n",
      "{'A': 1021, 'TAATA': 1020, 'CTCTTT': 1019, 'AAATCA': 1018, 'CACTGC': 1017, 'GTTTT': 1016, 'AAATGT': 1014, 'TACC': 1013, 'CTATG': 1011, 'TAGCA': 1010, 'TAATTT': 1007, 'ATTATTA': 1006, 'GAAGT': 1005, 'ATAAAT': 1015, 'AGATC': 1004, 'AGAACA': 1002, 'ATATATA': 998, 'CAGGAA': 997, 'AAACTA': 996, 'CAAAC': 995, 'TCCAGG': 993, 'AGTC': 992, 'C': 990, 'CCAGC': 989, 'AAAAAA': 988, 'TAAAA': 986, 'GCCCTG': 984, 'CATGTG': 982, 'TGGCTT': 981, 'GTTTC': 980, 'ATATTT': 979, 'CCATT': 978, 'CGAT': 975, 'TTATA': 974, 'CTCTA': 973, 'ATCAT': 971, 'AATAAT': 968, 'CTTTA': 963, 'TTGCA': 960, 'TCTTCT': 959, 'TCTCTG': 955, 'AATTTA': 954, 'TT': 951, 'ACCAC': 948, 'AATA': 946, 'TAATT': 943, 'TTTGTA': 941, 'TTCAT': 940, 'TATTTCT': 939, 'ACCCT': 969, 'ATAG': 938, 'CCC': 937, '▁C': 936, 'AGGTTG': 991, 'ATCG': 935, 'AAGTCA': 932, 'TGCTA': 931, 'GCATG': 928, 'GGCCC': 926, 'TAGAAA': 925, 'CTGGGG': 924, 'TGACTT': 919, 'AAGACA': 918, 'TATCTA': 916, 'AATTG': 915, 'CTGCTT': 913, 'CTGCAG': 911, 'ATTTG': 909, 'GGCCTC': 907, 'AGCTGG': 905, 'ATTTTG': 904, 'CTCAGG': 903, 'TAC': 899, 'TGAAAA': 897, 'GGGAAG': 896, 'CCCAA': 895, 'GTAAG': 891, 'ATAGA': 889, 'AGATAA': 888, 'TTCCAG': 887, 'AGGGA': 886, 'TGTCTT': 884, 'TTCATT': 883, 'TGGAAG': 882, 'GCGCG': 881, 'AGTTA': 880, 'GGTT': 878, 'ATAT': 876, 'CCGGG': 871, 'ACG': 870, 'AAAC': 869, 'GAGAG': 867, 'ATTTCA': 864, 'TTCTA': 985, 'TTAT': 862, 'TACTA': 859, 'ATTCAA': 857, 'TATAA': 855, 'CACAA': 854, 'CCACAG': 853, 'TGGGGA': 852, 'CCCAT': 851, 'TTCCCA': 848, 'TGATTT': 847, 'TAGTA': 846, 'ATTATA': 842, 'GTGTGTGTG': 840, 'AATCCCAGC': 945, 'TATAT': 839, 'TGG': 838, 'TTTGCT': 835, 'AATCA': 833, 'TTTATT': 830, 'CATCA': 829, 'CCATG': 826, 'CCCAGC': 824, 'CTTTTT': 821, 'TATCT': 820, 'TGCCTG': 818, 'CTGGC': 815, 'CATGT': 814, 'GGAA': 813, 'TGCAAT': 811, 'ACT': 810, 'TTTTTTTTTT': 809, 'ACAAAA': 808, 'AGTGG': 807, 'CACT': 806, 'ATTTGA': 805, 'TTCC': 802, 'CTAT': 798, 'AGGCTG': 795, 'TGAT': 780, 'TGGCTCA': 779, 'TAA': 178, 'CAGTGG': 774, 'TGTT': 598, 'GACT': 773, 'GTCCC': 772, 'ATC': 452, 'TGGTA': 771, 'CCTGT': 403, 'CATTC': 770, 'TAAAAG': 958, 'GTG': 769, 'GTCT': 983, 'ACTTC': 768, 'CTGCCC': 1009, 'TTATGT': 767, 'AGAAAT': 765, 'AAGTG': 763, 'GACA': 762, 'AGACA': 761, 'TTTCTA': 757, 'ACAAG': 977, 'ACTTG': 964, 'AGACT': 949, 'CTCCA': 22, 'CCGAG': 731, 'CATCC': 753, 'CCCTG': 750, 'CAGCAG': 223, 'CTCAGC': 747, 'CT': 812, 'GGTTT': 744, 'GACAG': 743, 'GAAC': 792, 'TACT': 874, 'ATATG': 742, 'TGTTT': 739, 'GCG': 736, 'CACCA': 729, 'GGGCAG': 717, 'CCCCG': 457, 'CCCAGA': 716, 'CTCGG': 169, 'CTATT': 732, 'TCCCC': 669, 'ACTGA': 712, 'CATGC': 711, 'ACCC': 4, 'AGGCA': 710, 'GGGCGG': 865, 'GGCCAGG': 709, 'CTCAT': 707, 'AGAC': 704, 'AAAAATTA': 702, 'CTTTTG': 929, 'GTA': 90, 'ACTA': 700, 'ATTA': 127, 'TCAAT': 697, 'ATTCAT': 837, 'TTTGAGA': 696, 'GGCTGG': 690, 'GGGAGGC': 781, 'TACTC': 667, 'AATCT': 689, 'TCTCTT': 933, 'AAATTA': 252, 'TGTTA': 687, 'AAAT': 686, 'AACAAA': 611, 'ATGTA': 685, 'CCTCCCA': 682, 'TGACCT': 681, 'ATATTA': 738, 'ATGTTG': 678, 'TAATTTTT': 676, 'AGAAT': 962, 'GCCTGGC': 675, 'TCTCC': 668, 'CACAGA': 790, 'CATTTT': 665, 'TGTAA': 51, 'GTCAGG': 783, 'AAAACAA': 661, 'ATTAT': 660, 'ACCTT': 658, 'CAGGC': 656, 'ACATAA': 834, 'CTTAT': 832, 'AGCAAT': 654, 'ACAT': 512, 'TTG': 653, 'TTCTTT': 259, 'GGGATTACA': 652, 'CAGAAG': 144, 'ACATT': 148, 'CAGCT': 760, 'AGTTT': 650, 'ATCCT': 647, 'GCTG': 645, 'TCTT': 349, 'TGCAGT': 643, 'TTGTTG': 640, 'AGATT': 827, 'TCCAA': 639, 'TCTC': 636, 'CTTTC': 635, 'CTTCCA': 634, 'GACAGAG': 785, 'TAG': 868, 'AAGTA': 495, 'TGTA': 633, 'CACTG': 631, 'AGC': 629, 'CAGAGC': 627, 'CTCA': 95, 'AGGGG': 625, 'AAGGA': 849, 'AACC': 784, 'CTGCC': 552, 'GATG': 623, 'TATGG': 778, 'ACCTA': 845, 'TGACT': 391, 'ACTCT': 730, 'TCACTT': 618, 'TGATT': 354, 'AAAGT': 616, 'TTTCTG': 614, 'CCAGA': 612, 'GGAAA': 624, 'CGCC': 609, 'AGAAA': 607, 'CACC': 125, 'TGAAG': 604, 'TTTGTT': 601, 'AAGAT': 596, 'GTGGTGG': 594, 'GCCTT': 877, 'CTCCTG': 484, 'AGTCA': 238, 'CAACT': 460, 'CAGAT': 590, 'TAGC': 972, 'ACCCC': 803, 'CAGA': 615, 'CG': 756, 'GGGTGG': 589, 'TGAGA': 588, 'TACA': 586, 'TGGG': 585, 'ACACT': 651, 'ATAAAA': 289, '▁': 1, 'CTGT': 581, 'GGGCA': 579, 'TGGCT': 578, 'TGCT': 141, 'AATAA': 575, 'TGCTG': 574, 'GAGGCC': 797, 'CAGTA': 746, 'GAAAG': 860, 'CATTTG': 572, 'TTAGT': 476, 'AAGTGCT': 683, 'TCCT': 570, 'TG': 569, 'GA': 464, 'GAAGG': 568, 'TAAATG': 944, 'CAC': 567, 'TTTGTTT': 1001, 'AAGCAG': 193, 'CAAGA': 565, 'TTC': 947, 'TTGG': 571, 'AGAATT': 564, 'CAGCA': 587, 'AA': 562, 'GCTC': 733, 'ACATG': 122, 'CATGA': 595, 'AAAGG': 170, 'TCATT': 561, 'TGATA': 560, 'TATTTATT': 843, 'CAACAG': 32, 'CTTCT': 558, 'TGGAAT': 861, 'AATGG': 482, 'AAAGAA': 557, 'ACCCA': 555, 'AATCC': 355, 'ATCAG': 553, 'TCATG': 548, '▁T': 547, 'TTCA': 378, 'GAC': 546, 'ACAAT': 554, 'TGGAAA': 203, 'TTTCCT': 545, 'TATTC': 863, 'CTACT': 544, 'TGTG': 543, 'AAAAC': 641, 'CAACA': 113, 'CTGGAG': 719, 'CACTC': 542, 'GGCA': 540, 'TCTGG': 804, 'CATAA': 796, 'CATAT': 539, 'TACCA': 538, 'TTACT': 537, 'TCTAG': 856, 'TGGGT': 751, 'TTCCTG': 477, 'AATT': 533, 'CCA': 197, 'TCCTT': 531, 'GCAGA': 383, 'TTGGG': 749, 'CCTCAG': 351, 'ATTTT': 529, 'TTTTATT': 600, 'AAAAGA': 528, 'TCTTCA': 705, 'CCAGCC': 970, 'TTTATA': 367, 'AGTAA': 398, 'CTTCA': 405, 'TTTT': 526, 'ACAG': 525, 'AATTA': 524, 'AAGCCA': 314, 'AGATG': 573, 'AATAG': 523, 'TTTTCTTT': 817, 'GCCTG': 693, 'AATAT': 522, 'GAGG': 6, 'ACTG': 520, 'TTTTT': 725, 'TTTCCA': 519, 'TTCTC': 516, 'TGGT': 515, 'TGACA': 510, 'TACAAA': 507, 'CGCCC': 789, 'TTCAA': 505, 'TCCAT': 504, 'TTCAC': 503, 'TGTGT': 502, 'AAAGC': 873, 'TCTTTT': 759, 'TGAGCCA': 511, 'TAAG': 498, 'TATTAA': 496, 'CAGTGA': 497, 'TAAAAT': 950, 'ATA': 912, 'AAC': 836, 'ATACA': 492, 'TTTAAAAA': 490, 'AAATATT': 755, 'ATGT': 663, 'TCTTT': 480, 'CCTGGGC': 706, 'CAT': 478, 'GGGAA': 185, 'AAG': 473, 'AGCCC': 471, 'CTCTC': 369, 'CTCT': 470, 'AGCTA': 45, 'TGTCT': 541, 'GAT': 494, 'TCCCCA': 469, 'ATAGT': 775, 'GGGGA': 264, 'CCCTA': 468, 'GGGA': 146, 'CACAC': 467, 'ACCT': 613, 'CTTCTG': 923, 'AGAGT': 819, 'ATCT': 463, 'AACCA': 462, 'TCAT': 927, 'TCCTG': 459, 'GCCAC': 458, 'GT': 309, 'AGGTT': 776, 'GTCAC': 597, 'AAACT': 451, 'CTCCC': 450, 'CC': 695, 'ACC': 448, 'AAGGGA': 994, 'CCTGGCC': 444, 'GGAC': 664, 'CCCTT': 206, 'CTGCT': 443, 'TCCC': 442, 'TTTAA': 111, 'CTCCAG': 438, 'CCTGC': 437, 'CCAGG': 435, 'CCAA': 363, 'TGCC': 434, 'CTTTT': 576, 'TTTTA': 483, 'TTGCT': 357, 'CACG': 432, 'AATGT': 59, 'T': 429, 'GCCCAGG': 428, 'CCCAC': 427, 'CAAATA': 1008, 'AACCC': 723, 'TTCT': 424, 'CCTCCC': 423, 'TATTTT': 499, 'CATTA': 577, 'AGCAT': 422, 'CCAAA': 421, 'GGGAGGG': 150, 'CACACACA': 420, 'GCCCC': 419, 'GGGGC': 453, 'CTGGG': 754, '<pad>': 1022, 'AGAA': 509, 'CTTAG': 418, 'GTGT': 602, 'TGCCA': 58, 'TGTTTG': 417, 'CTCCT': 416, 'TGT': 752, 'CCACTG': 415, 'CTTGCT': 591, 'CAAA': 414, 'AGAATG': 580, 'ATTCCA': 465, 'ACAA': 324, 'GGTG': 237, 'CTTCCC': 441, 'CTGAC': 308, 'CTAAG': 410, 'CCACA': 408, 'ATG': 407, 'CAAATG': 406, 'GAGA': 275, 'CTGC': 401, 'ATCA': 400, 'ATAAA': 248, 'TTTCAT': 399, 'TTTTCA': 396, 'AGCT': 395, 'AAAA': 274, 'TAGAG': 393, 'CAAACA': 163, 'TTAAT': 258, 'ACTTT': 107, 'AGGC': 392, 'CTGAT': 389, 'TTTCT': 96, 'CCTTC': 637, 'CAGGGA': 387, 'TGGATT': 98, 'ATTCT': 228, 'TTTAG': 858, 'TACCT': 385, 'CTGAAG': 966, 'ACTT': 549, 'TGGGGT': 961, 'AGTGA': 384, 'GCTTC': 300, 'TTTCTT': 81, 'CTGCTG': 381, 'CAA': 377, 'CAGG': 518, 'CTAAA': 487, 'CGC': 454, 'CTTCAG': 251, '▁G': 430, 'ACTGCA': 246, 'CAGGG': 375, 'TC': 823, 'CCCCA': 112, 'CGGGG': 677, 'CCCA': 18, 'TAGG': 151, 'ATAAAG': 372, 'CCAT': 646, 'AAGCT': 551, 'CTGTG': 75, 'GGGTG': 28, 'TAAT': 365, 'TCT': 16, 'ATTT': 361, 'TGGAA': 409, 'TCCA': 411, 'GCTGC': 294, 'CTTAA': 976, 'CTAA': 254, 'TTAG': 360, 'CAAGT': 622, 'CAGTG': 12, 'ATTAAA': 269, 'CTGA': 380, 'GTGAT': 283, 'CTGTGG': 23, 'TATAG': 655, 'AAGTT': 758, 'GTCC': 71, 'CTTC': 358, 'CAAAG': 138, 'TTGA': 352, 'TCC': 674, 'AAAATT': 261, 'AAAATG': 291, 'AGGGT': 376, 'CCGC': 348, 'CATC': 30, 'TCAA': 347, 'TCTTG': 486, 'CAG': 831, 'CCT': 346, 'ATCC': 344, 'ACCAG': 1000, 'CTAGG': 648, 'TCTCT': 699, 'AAACCA': 684, 'GGTGG': 692, 'TACTG': 140, 'CAAAGG': 362, 'TCCAG': 343, 'TCTA': 850, 'ATCTT': 342, 'GCTGTG': 341, 'AAAGCA': 404, 'AGGG': 19, 'AGGT': 142, 'TGTC': 229, 'CTGTC': 799, 'CAAAT': 338, 'TCCTC': 297, 'AGTT': 225, 'CATAG': 336, 'GGCAGG': 110, 'AGTA': 329, 'AGCAG': 566, 'TAATTTT': 337, 'AGGTCA': 412, 'ATATA': 325, 'TTGTT': 508, 'GTGC': 322, 'GGAGC': 321, 'TGAAT': 386, 'CAAC': 606, 'TTTCA': 318, 'TGTAG': 315, 'CTTTGT': 777, 'TATT': 953, 'CCAG': 312, 'GCCG': 311, 'CTCAC': 892, 'CAGC': 310, 'GCCAG': 307, 'GGTC': 306, 'ATAC': 132, 'GC': 305, 'TGC': 304, 'AAACAA': 728, 'TTGT': 413, 'AAGCA': 53, 'AATG': 149, 'AAACA': 800, 'TTTGT': 302, 'TGGCCA': 657, 'CTCAG': 73, 'GTGGG': 301, 'TAGT': 316, 'ACTACA': 298, 'ACAGT': 527, 'TGTTTA': 330, 'ATCAC': 825, 'TATTGT': 734, 'TAAGT': 610, 'TCACA': 649, 'CAGCCA': 295, 'AATCAA': 893, 'CCCG': 215, 'AGCAA': 332, 'GGCG': 791, 'CAGAAA': 135, 'GAG': 292, 'AGAAAG': 323, 'GCTCTG': 906, 'TTAC': 290, 'TGCA': 288, 'TGTGA': 236, 'GGGC': 287, 'TTTTTTT': 766, 'AGGAAG': 285, 'AGCCA': 147, 'AAA': 582, 'TTAA': 282, 'CCTAG': 715, 'GGG': 281, 'GACC': 280, 'GCCTC': 39, 'CAGGA': 793, 'CGA': 279, 'TACAT': 764, 'TATTGA': 999, 'ATGC': 698, 'GTTGG': 359, 'TTGCTT': 278, 'TTGTG': 366, 'ATGA': 33, 'AAGT': 277, 'TTTTAAAA': 345, 'TGGAG': 632, 'GAAA': 666, 'GGCTG': 433, 'TGTGG': 7, 'TTCTG': 276, 'AAAAT': 532, 'ATGGT': 61, 'AGGAA': 272, 'AAAAA': 741, 'AATC': 270, 'TTTTCC': 69, 'TCCCTG': 521, 'GGCT': 382, 'TATATT': 273, 'CAGT': 268, 'CTTCCT': 250, 'TATTT': 474, 'TGAGT': 894, 'TTAAG': 263, 'ATGAT': 500, 'CACCAC': 1003, 'TAT': 426, 'CAAGG': 394, 'CACAT': 320, 'CGT': 257, 'GGAGG': 253, 'AAGAAA': 828, 'GAA': 87, 'TTACA': 133, 'GCAC': 119, 'ACCAT': 335, 'TTTTCT': 38, 'ATTCAG': 688, 'TGCCC': 233, 'CTT': 249, 'GTTG': 271, 'ACA': 530, 'CCG': 247, 'GTAT': 626, 'TTCAG': 245, 'CTGGGT': 608, 'GTCTG': 244, 'TGCAG': 243, 'CAAG': 60, 'TTGAT': 242, 'CTGTTT': 239, 'ATCTG': 235, 'AAATT': 232, 'GCC': 230, 'AACTG': 328, 'AGTCT': 224, 'AGCCT': 439, 'CATGG': 364, 'TAAAT': 266, 'CCCAGG': 436, 'TGGA': 220, 'AAGCC': 745, 'CCTTT': 219, 'GGGAG': 218, 'GGCTC': 25, 'CCTT': 718, 'TCCCA': 630, 'GATGG': 212, 'CCAC': 129, 'TTTGG': 217, 'CTGGA': 216, 'CCCTGG': 82, 'GTTT': 493, 'GGAG': 213, 'CCAAG': 66, 'GTGA': 194, 'CTGTGT': 211, 'TGTCA': 209, 'GTTTTG': 241, 'ACCA': 202, 'TTTTAA': 644, 'AGTG': 479, 'CCCT': 35, 'TGGC': 37, 'AAATAAA': 967, 'ATCTC': 199, 'CTAG': 180, 'CTGTA': 198, 'GCCT': 115, 'CTGAGGC': 190, 'AAAG': 340, 'CCCTC': 368, 'GGCC': 189, 'CAGGCA': 109, 'TGCAAA': 188, '▁A': 186, 'CAGAA': 48, 'CATCT': 184, 'AGCA': 76, 'TCTCA': 183, 'CACAGC': 917, 'GTGG': 182, 'CTTTCT': 41, 'TGAA': 153, 'AGTTC': 54, 'AAAATAT': 701, 'CAGAGG': 177, 'CAGGAG': 930, 'AGCTT': 78, 'TTTC': 175, 'CGTG': 204, 'ACAGG': 63, 'AGAGA': 31, 'AATAAA': 121, 'CTTCC': 173, 'CGG': 195, 'TCAGA': 143, 'TAAGA': 171, 'TGGAT': 501, 'ATGTG': 339, 'AGGAGG': 583, 'AAATA': 117, 'GGTAG': 841, 'AAGAA': 108, 'CCTGA': 196, 'AATTT': 165, 'CTAAT': 1012, 'CCACCA': 114, 'ACTCA': 556, 'GCTGG': 210, 'TAAA': 517, 'CTGTTG': 987, 'TTCCT': 164, 'TGAAAT': 722, 'TGTAT': 62, 'CCCTGC': 445, 'TGAAA': 159, 'GCA': 156, 'CA': 901, 'GCGGC': 461, 'CAATG': 49, 'CTC': 155, 'ACACA': 162, 'TGTTTT': 99, 'TCTGT': 748, 'AATTC': 145, 'ATAAT': 485, 'AGGTG': 317, 'TTTTGT': 231, 'GGAAG': 207, 'AGG': 592, 'TAGAT': 787, 'CCACT': 327, 'CCTCA': 908, 'TATTTG': 371, 'AGAGAG': 136, 'ACAGA': 137, 'CTACC': 721, 'TGGGA': 374, 'CCTCT': 221, 'TTTTGA': 506, 'CATTTA': 134, 'AAAAAAAAA': 786, 'TATG': 26, 'CCGGC': 131, 'AGATA': 536, 'TGCAT': 265, 'AACAG': 94, 'GTCTC': 128, 'TACTT': 356, 'GATT': 844, 'AACAC': 621, 'CAGCCTC': 619, 'AACA': 234, 'CCCCCA': 708, 'CAGAC': 620, 'TTTGCA': 617, 'CTTGT': 120, 'ATAAG': 822, 'TGCCT': 267, 'CACAG': 181, 'TTTAT': 56, 'TTGAA': 214, 'CCTGAG': 782, 'CTAC': 472, 'CAATTT': 118, 'TCA': 534, 'GTGTG': 83, 'AAAAG': 116, 'TGCTT': 638, 'ATT': 900, 'CAAAA': 603, 'CTTG': 166, 'TTTAAA': 659, 'CAAT': 353, 'ATTG': 456, 'AGTAG': 161, 'AAAGA': 333, 'TCTGA': 550, 'ATGAA': 3, 'CCACCC': 200, 'CCCCTC': 735, 'TCTGGG': 921, 'AGAAAA': 191, 'TGGGGG': 914, 'GGGAT': 176, 'CACCT': 481, 'CCCCC': 240, 'TTA': 788, 'TAAC': 106, 'CCTTCC': 446, 'TCCTTT': 105, 'CTTGG': 100, 'CCATC': 103, 'CCTG': 713, 'ACTAT': 491, 'CTG': 2, 'AAGAG': 397, 'GGGT': 101, 'AAT': 703, 'CTGCA': 85, 'GAGGA': 920, 'GGA': 92, 'CCACCT': 724, 'CCTA': 898, 'AGGAT': 872, 'ATTTAA': 563, 'CATA': 187, 'AAATAA': 952, 'ATGTT': 126, 'ATCCA': 331, 'TATTTTT': 104, 'CATTG': 934, 'CCCCAG': 79, 'TGGCA': 93, 'GCTGGG': 89, 'TAGA': 47, 'CCCAG': 152, 'AGA': 720, 'GAGCC': 431, 'GCT': 130, 'CCTCCT': 425, 'CACTT': 662, 'AGCC': 84, 'CTGAA': 303, 'ACCTC': 80, 'CCCGGG': 179, 'GG': 286, 'AACCT': 296, 'CTCC': 86, 'CCTTGG': 167, 'TTGAG': 205, 'CTTTG': 77, 'TACAG': 21, 'GCTGAG': 299, 'AACT': 74, 'CCCTCC': 440, 'CAGTT': 40, 'ATTTTTA': 673, 'GTGTT': 816, 'TTTG': 447, 'ACAC': 67, 'TTATT': 885, 'GAGAC': 160, 'GAGC': 691, 'AAGGCA': 379, 'TCTG': 293, 'ACGT': 65, 'TGAG': 124, 'CTA': 449, 'GCAG': 57, 'GCTTG': 260, 'AAAATA': 256, 'TAACT': 192, 'AGGA': 20, 'GAGT': 70, 'AC': 466, 'GCAGG': 284, 'TCAG': 157, 'TCACT': 24, 'TAAAAAT': 52, 'TTAAA': 50, 'AGGACA': 10, 'GTGGT': 922, 'TTATTT': 488, 'CTGG': 46, 'CTGTT': 727, 'CATT': 489, 'GGT': 174, 'TCACC': 370, 'AACAA': 123, 'CACA': 97, 'CAAGC': 714, 'AGGAAA': 44, 'GCCA': 642, 'CTCTGT': 17, 'CAGAG': 72, 'TGA': 350, 'AACAT': 262, 'AATAC': 91, 'TCAGT': 36, 'TGAACT': 726, 'AAGG': 319, 'CCCAGT': 672, 'AGGAG': 559, 'GTC': 68, 'ATGAG': 43, '<unk>': 0, 'CATTT': 584, 'TATC': 910, 'ACAAA': 513, 'ACTTTGG': 942, 'AACTC': 455, 'TGAC': 957, 'TGGGG': 13, 'ATAA': 168, 'AGAG': 139, 'TATA': 956, 'TCTAT': 866, 'ATATGT': 388, 'TCCCT': 15, 'CTCTG': 226, 'GCCAGGC': 679, 'GAGGG': 34, 'CTGAG': 201, 'TTCTT': 172, 'ATGG': 102, 'GCAGC': 11, 'TTTATTT': 671, 'TTCCC': 326, 'CTTGA': 680, 'AAGA': 88, 'CTTA': 599, 'CCTGGG': 55, 'AATGA': 514, 'GGATG': 313, 'CCTTG': 628, 'AGT': 208, 'CCTGG': 9, 'CTCACTG': 965, 'CATG': 29, 'TTT': 158, 'AAACAAA': 402, 'CTCTT': 670, 'GAAGA': 390, 'AAAACA': 879, 'GGCAG': 14, 'G': 902, 'AGAGG': 334, 'AAATG': 605, 'GTT': 535, 'TGGTT': 740, 'TGGGAGG': 694, 'TGAGG': 27, 'GGGG': 875, 'TCAAA': 373, 'CTGGT': 222, 'GGC': 5, 'AGAAG': 64, 'AG': 801, 'AGCTG': 154, 'CTTT': 255, 'ACTGG': 890, 'TAATG': 794, 'TAGCT': 475, 'TGGTG': 227, 'AACTT': 593, 'TCTGC': 8, 'AGAT': 737, 'GTTC': 42}\n"
     ]
    }
   ],
   "source": [
    "tokenizer = get_tokenizer(config['tokenizer'])\n",
    "tokenizer.train(train_dset=train_dset, vocab_size=VOCAB_SIZE, kmer=KMER)\n",
    "vocabulary = build_vocab(train_dset, tokenizer, use_padding=config[\"use_padding\"])\n",
    "\n",
    "print(\"vocab len:\" ,vocabulary.__len__())\n",
    "print(vocabulary.get_stoi())"
   ]
  },
  {
   "cell_type": "markdown",
   "id": "dd3b6b77",
   "metadata": {
    "id": "3hGQpSJA5kdT",
    "papermill": {
     "duration": 0.045558,
     "end_time": "2022-01-11T10:09:46.035230",
     "exception": false,
     "start_time": "2022-01-11T10:09:45.989672",
     "status": "completed"
    },
    "tags": []
   },
   "source": [
    "## Dataloader and batch preparation"
   ]
  },
  {
   "cell_type": "code",
   "execution_count": 8,
   "id": "6d8d1976",
   "metadata": {
    "colab": {
     "base_uri": "https://localhost:8080/"
    },
    "execution": {
     "iopub.execute_input": "2022-01-11T10:09:46.110761Z",
     "iopub.status.busy": "2022-01-11T10:09:46.109805Z",
     "iopub.status.idle": "2022-01-11T10:10:07.991060Z",
     "shell.execute_reply": "2022-01-11T10:10:07.991570Z"
    },
    "id": "gXUgPH6q5kdT",
    "outputId": "a1eb6ba2-9bcd-416d-8662-e3516121da96",
    "papermill": {
     "duration": 21.924012,
     "end_time": "2022-01-11T10:10:07.991780",
     "exception": false,
     "start_time": "2022-01-11T10:09:46.067768",
     "status": "completed"
    },
    "tags": []
   },
   "outputs": [
    {
     "name": "stdout",
     "output_type": "stream",
     "text": [
      "Using cpu device\n"
     ]
    },
    {
     "name": "stdout",
     "output_type": "stream",
     "text": [
      "max_tok_len  123\n"
     ]
    },
    {
     "name": "stdout",
     "output_type": "stream",
     "text": [
      "not all sequences are of the same length\n"
     ]
    }
   ],
   "source": [
    "# Run on GPU or CPU\n",
    "device = 'cuda' if config[\"run_on_gpu\"] and torch.cuda.is_available() else 'cpu'\n",
    "print('Using {} device'.format(device))\n",
    "\n",
    "max_tok_len = check_seq_lengths(dataset=train_dset, tokenizer=tokenizer)\n",
    "\n",
    "# Data Loader\n",
    "collate = coll_factory(vocabulary, tokenizer, device, pad_to_length = max_tok_len)\n",
    "\n",
    "train_loader = DataLoader(train_dset, batch_size=config[\"batch_size\"], shuffle=True, collate_fn=collate)"
   ]
  },
  {
   "cell_type": "code",
   "execution_count": 9,
   "id": "7260d3d7",
   "metadata": {
    "execution": {
     "iopub.execute_input": "2022-01-11T10:10:08.073928Z",
     "iopub.status.busy": "2022-01-11T10:10:08.073182Z",
     "iopub.status.idle": "2022-01-11T10:10:08.090185Z",
     "shell.execute_reply": "2022-01-11T10:10:08.090685Z"
    },
    "papermill": {
     "duration": 0.064058,
     "end_time": "2022-01-11T10:10:08.090896",
     "exception": false,
     "start_time": "2022-01-11T10:10:08.026838",
     "status": "completed"
    },
    "tags": []
   },
   "outputs": [
    {
     "data": {
      "text/plain": [
       "['▁',\n",
       " 'CCATC',\n",
       " 'TATTTTT',\n",
       " 'GAA',\n",
       " 'TCCTTT',\n",
       " 'TAAC',\n",
       " 'ACTTT',\n",
       " 'ATGAG',\n",
       " 'AGAGA',\n",
       " 'AAGAA',\n",
       " 'CAGAA',\n",
       " 'CAGGCA',\n",
       " 'GGCAGG',\n",
       " 'CTGTG',\n",
       " 'TTTAA',\n",
       " 'CCCCA',\n",
       " 'CAACA',\n",
       " 'CCACCA',\n",
       " 'TAGA',\n",
       " 'GCCT',\n",
       " 'AAAAG',\n",
       " 'CTTGG',\n",
       " 'GAGT',\n",
       " 'AAATA',\n",
       " 'CAATTT',\n",
       " 'CTTTG',\n",
       " 'GCAC',\n",
       " 'CTTGT',\n",
       " 'AATAAA',\n",
       " 'ACATG',\n",
       " 'AACAA',\n",
       " 'TGAG',\n",
       " 'TTTCT',\n",
       " 'CACC',\n",
       " 'ATGTT',\n",
       " 'ATTA',\n",
       " 'GTCTC',\n",
       " 'TGGATT',\n",
       " 'CCAC',\n",
       " 'GCT',\n",
       " 'CCGGC',\n",
       " 'ATAC',\n",
       " 'TTACA',\n",
       " 'CATTTA',\n",
       " 'CAGAAA',\n",
       " 'AGAGAG',\n",
       " 'ACAGA',\n",
       " 'CAAAG',\n",
       " 'AGAG',\n",
       " 'TACTG',\n",
       " 'TGCT',\n",
       " 'GAA',\n",
       " 'AGGT',\n",
       " 'TCAGA',\n",
       " 'CAGAAG',\n",
       " 'AATTC',\n",
       " 'GGGA',\n",
       " 'CTCA',\n",
       " 'AGCCA',\n",
       " 'CAACA',\n",
       " 'ACATT',\n",
       " 'AATG',\n",
       " 'AGGAAA',\n",
       " 'GGGAGGG',\n",
       " 'TAGG',\n",
       " 'GCAG',\n",
       " 'CCCAG',\n",
       " 'TGAA',\n",
       " 'CAATG',\n",
       " 'AGCTG',\n",
       " 'CTC',\n",
       " 'GCA',\n",
       " 'TCAG',\n",
       " 'TTT',\n",
       " 'TGAAA',\n",
       " 'GAGAC',\n",
       " 'AGTAG',\n",
       " 'AGAAG',\n",
       " 'ACACA',\n",
       " 'CAAACA',\n",
       " 'TTCCT',\n",
       " 'AATTT',\n",
       " 'CTTG',\n",
       " 'CCTTGG',\n",
       " 'CTGG',\n",
       " 'ATAA',\n",
       " 'CTCGG',\n",
       " 'CTGCA',\n",
       " 'AAAGG',\n",
       " 'TAAGA',\n",
       " 'TTCTT',\n",
       " 'TGCT',\n",
       " 'CTTCC',\n",
       " 'GGT',\n",
       " 'TTTC',\n",
       " 'GGGAT',\n",
       " 'CAGAGG',\n",
       " 'TAA',\n",
       " 'CCCGGG',\n",
       " 'GGC',\n",
       " 'CTAG',\n",
       " 'CACAG',\n",
       " 'GTGG',\n",
       " 'TCTCA',\n",
       " 'CATCT',\n",
       " 'GGGAA']"
      ]
     },
     "execution_count": 9,
     "metadata": {},
     "output_type": "execute_result"
    }
   ],
   "source": [
    "tokenizer(train_dset[1][0])"
   ]
  },
  {
   "cell_type": "markdown",
   "id": "8d3ef7f6",
   "metadata": {
    "id": "sTTomnnP5kdU",
    "papermill": {
     "duration": 0.033555,
     "end_time": "2022-01-11T10:10:08.157522",
     "exception": false,
     "start_time": "2022-01-11T10:10:08.123967",
     "status": "completed"
    },
    "tags": []
   },
   "source": [
    "## Model"
   ]
  },
  {
   "cell_type": "code",
   "execution_count": 10,
   "id": "f8d22e8c",
   "metadata": {
    "execution": {
     "iopub.execute_input": "2022-01-11T10:10:08.240256Z",
     "iopub.status.busy": "2022-01-11T10:10:08.239143Z",
     "iopub.status.idle": "2022-01-11T10:10:08.417977Z",
     "shell.execute_reply": "2022-01-11T10:10:08.417358Z"
    },
    "id": "ZNuXGIdD5kdU",
    "papermill": {
     "duration": 0.227545,
     "end_time": "2022-01-11T10:10:08.418214",
     "exception": false,
     "start_time": "2022-01-11T10:10:08.190669",
     "status": "completed"
    },
    "tags": []
   },
   "outputs": [],
   "source": [
    "model = CNN(\n",
    "    number_of_classes=config[\"number_of_classes\"],\n",
    "    vocab_size=vocabulary.__len__(),\n",
    "    embedding_dim=config[\"embedding_dim\"],\n",
    "    input_len=max_tok_len\n",
    ").to(device)"
   ]
  },
  {
   "cell_type": "markdown",
   "id": "c494fdb0",
   "metadata": {
    "id": "1pqIm92h5kdV",
    "papermill": {
     "duration": 0.033348,
     "end_time": "2022-01-11T10:10:08.488177",
     "exception": false,
     "start_time": "2022-01-11T10:10:08.454829",
     "status": "completed"
    },
    "tags": []
   },
   "source": [
    "## Training"
   ]
  },
  {
   "cell_type": "code",
   "execution_count": 11,
   "id": "f3e25dec",
   "metadata": {
    "colab": {
     "base_uri": "https://localhost:8080/"
    },
    "execution": {
     "iopub.execute_input": "2022-01-11T10:10:08.568666Z",
     "iopub.status.busy": "2022-01-11T10:10:08.567459Z",
     "iopub.status.idle": "2022-01-11T10:13:02.164262Z",
     "shell.execute_reply": "2022-01-11T10:13:02.164766Z"
    },
    "id": "uvO_-RFm5kdV",
    "outputId": "7799e5f9-78a7-4ef2-95e8-f06751912eda",
    "papermill": {
     "duration": 173.643213,
     "end_time": "2022-01-11T10:13:02.164972",
     "exception": false,
     "start_time": "2022-01-11T10:10:08.521759",
     "status": "completed"
    },
    "tags": []
   },
   "outputs": [
    {
     "name": "stdout",
     "output_type": "stream",
     "text": [
      "Epoch 0\n"
     ]
    },
    {
     "name": "stderr",
     "output_type": "stream",
     "text": [
      "/Users/katarina/Documents/repositories/GitHub/GLP/src/glp/tokenizers/utils.py:27: UserWarning: To copy construct from a tensor, it is recommended to use sourceTensor.clone().detach() or sourceTensor.clone().detach().requires_grad_(True), rather than torch.tensor(sourceTensor).\n",
      "  x = torch.tensor(pad(x), dtype=torch.long)\n"
     ]
    },
    {
     "name": "stdout",
     "output_type": "stream",
     "text": [
      "Train metrics: \n",
      " Accuracy: 68.7%, Avg loss: 0.637218 \n",
      "\n",
      "Epoch 1\n"
     ]
    },
    {
     "name": "stdout",
     "output_type": "stream",
     "text": [
      "Train metrics: \n",
      " Accuracy: 69.2%, Avg loss: 0.629006 \n",
      "\n",
      "Epoch 2\n"
     ]
    },
    {
     "name": "stdout",
     "output_type": "stream",
     "text": [
      "Train metrics: \n",
      " Accuracy: 73.8%, Avg loss: 0.618788 \n",
      "\n",
      "Epoch 3\n"
     ]
    },
    {
     "name": "stdout",
     "output_type": "stream",
     "text": [
      "Train metrics: \n",
      " Accuracy: 74.7%, Avg loss: 0.609122 \n",
      "\n",
      "Epoch 4\n"
     ]
    },
    {
     "name": "stdout",
     "output_type": "stream",
     "text": [
      "Train metrics: \n",
      " Accuracy: 77.2%, Avg loss: 0.603530 \n",
      "\n"
     ]
    }
   ],
   "source": [
    "model.train(train_loader, epochs=config[\"epochs\"])"
   ]
  },
  {
   "cell_type": "markdown",
   "id": "aaca5f65",
   "metadata": {
    "id": "bR2tamrc5kdV",
    "papermill": {
     "duration": 0.044212,
     "end_time": "2022-01-11T10:13:02.247337",
     "exception": false,
     "start_time": "2022-01-11T10:13:02.203125",
     "status": "completed"
    },
    "tags": []
   },
   "source": [
    "## Testing"
   ]
  },
  {
   "cell_type": "code",
   "execution_count": 12,
   "id": "de21514b",
   "metadata": {
    "colab": {
     "base_uri": "https://localhost:8080/"
    },
    "execution": {
     "iopub.execute_input": "2022-01-11T10:13:02.321200Z",
     "iopub.status.busy": "2022-01-11T10:13:02.320023Z",
     "iopub.status.idle": "2022-01-11T10:13:10.304514Z",
     "shell.execute_reply": "2022-01-11T10:13:10.305025Z"
    },
    "id": "wbnciyRK5kdW",
    "outputId": "d2592f9d-f074-465f-95f8-df3b759ae068",
    "papermill": {
     "duration": 8.024107,
     "end_time": "2022-01-11T10:13:10.305239",
     "exception": false,
     "start_time": "2022-01-11T10:13:02.281132",
     "status": "completed"
    },
    "tags": []
   },
   "outputs": [
    {
     "name": "stdout",
     "output_type": "stream",
     "text": [
      "p  3474 ; tp  1943.6315364837646 ; fp  790.6761640751656\n",
      "recall  0.5594794290396559 ; precision  0.7108313142981163\n",
      "num_batches 218\n",
      "correct 4621\n",
      "size 6948\n",
      "Test metrics: \n",
      " Accuracy: 0.665083, F1 score: 0.626139, Avg loss: 0.656635 \n",
      "\n"
     ]
    },
    {
     "data": {
      "text/plain": [
       "(0.665083477259643, 0.6261389190837886)"
      ]
     },
     "execution_count": 12,
     "metadata": {},
     "output_type": "execute_result"
    }
   ],
   "source": [
    "test_dset = get_dataset(config[\"dataset\"], 'test')\n",
    "test_loader = DataLoader(test_dset, batch_size=config[\"batch_size\"], shuffle=True, collate_fn=collate)\n",
    "\n",
    "acc, f1 = model.test(test_loader)\n",
    "acc, f1"
   ]
  }
 ],
 "metadata": {
  "accelerator": "TPU",
  "colab": {
   "name": "torch_cnn_classifier.ipynb",
   "provenance": []
  },
  "environment": {
   "name": "pytorch-gpu.1-9.m75",
   "type": "gcloud",
   "uri": "gcr.io/deeplearning-platform-release/pytorch-gpu.1-9:m75"
  },
  "interpreter": {
   "hash": "9828b828580f1cac1b571b33de6cff8bacecc8916095e1bcbc967952ca7105b7"
  },
  "kernelspec": {
   "display_name": "Python 3",
   "name": "python3"
  },
  "language_info": {
   "codemirror_mode": {
    "name": "ipython",
    "version": 3
   },
   "file_extension": ".py",
   "mimetype": "text/x-python",
   "name": "python",
   "nbconvert_exporter": "python",
   "pygments_lexer": "ipython3",
   "version": "3.8.9"
  },
  "papermill": {
   "default_parameters": {},
   "duration": 896.185717,
   "end_time": "2022-01-11T10:13:11.278728",
   "environment_variables": {},
   "exception": null,
   "input_path": "torch_cnn.ipynb",
   "output_path": "../torch_cnn_experiments/human_enhancers_cohn_subword_1024.ipynb",
   "parameters": {
    "DATASET": "human_enhancers_cohn",
    "TOKENIZER": "subword",
    "VOCAB_SIZE": 1024
   },
   "start_time": "2022-01-11T09:58:15.093011",
   "version": "2.3.3"
  }
 },
 "nbformat": 4,
 "nbformat_minor": 5
}