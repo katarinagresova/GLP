{
 "cells": [
  {
   "cell_type": "markdown",
   "id": "d33abd51",
   "metadata": {
    "id": "SKOD9lvq5kdM",
    "papermill": {
     "duration": 0.020275,
     "end_time": "2022-01-11T10:25:08.046909",
     "exception": false,
     "start_time": "2022-01-11T10:25:08.026634",
     "status": "completed"
    },
    "tags": []
   },
   "source": [
    "# PYTORCH CNN Classifier"
   ]
  },
  {
   "cell_type": "code",
   "execution_count": 1,
   "id": "91792666",
   "metadata": {
    "execution": {
     "iopub.execute_input": "2022-01-11T10:25:08.090899Z",
     "iopub.status.busy": "2022-01-11T10:25:08.089421Z",
     "iopub.status.idle": "2022-01-11T10:25:08.094973Z",
     "shell.execute_reply": "2022-01-11T10:25:08.095497Z"
    },
    "id": "E8prt3AL5kdO",
    "papermill": {
     "duration": 0.032717,
     "end_time": "2022-01-11T10:25:08.095774",
     "exception": false,
     "start_time": "2022-01-11T10:25:08.063057",
     "status": "completed"
    },
    "tags": [
     "parameters"
    ]
   },
   "outputs": [],
   "source": [
    "DATASET = 'none'\n",
    "VOCAB_SIZE = 0\n",
    "TOKENIZER = 'none'\n",
    "KMER = 0"
   ]
  },
  {
   "cell_type": "code",
   "execution_count": 2,
   "id": "c275349c",
   "metadata": {
    "execution": {
     "iopub.execute_input": "2022-01-11T10:25:08.135695Z",
     "iopub.status.busy": "2022-01-11T10:25:08.134902Z",
     "iopub.status.idle": "2022-01-11T10:25:08.137077Z",
     "shell.execute_reply": "2022-01-11T10:25:08.137547Z"
    },
    "papermill": {
     "duration": 0.025838,
     "end_time": "2022-01-11T10:25:08.137806",
     "exception": false,
     "start_time": "2022-01-11T10:25:08.111968",
     "status": "completed"
    },
    "tags": [
     "injected-parameters"
    ]
   },
   "outputs": [],
   "source": [
    "# Parameters\n",
    "DATASET = \"human_enhancers_cohn\"\n",
    "TOKENIZER = \"kmer\"\n",
    "KMER = 4\n"
   ]
  },
  {
   "cell_type": "code",
   "execution_count": 3,
   "id": "e3a30f29",
   "metadata": {
    "colab": {
     "base_uri": "https://localhost:8080/"
    },
    "execution": {
     "iopub.execute_input": "2022-01-11T10:25:08.171416Z",
     "iopub.status.busy": "2022-01-11T10:25:08.170585Z",
     "iopub.status.idle": "2022-01-11T10:25:08.174042Z",
     "shell.execute_reply": "2022-01-11T10:25:08.174720Z"
    },
    "id": "rohBItfR5kdP",
    "outputId": "7da7aafe-0858-48be-bf7d-f698784d88df",
    "papermill": {
     "duration": 0.022408,
     "end_time": "2022-01-11T10:25:08.175050",
     "exception": false,
     "start_time": "2022-01-11T10:25:08.152642",
     "status": "completed"
    },
    "tags": []
   },
   "outputs": [
    {
     "name": "stdout",
     "output_type": "stream",
     "text": [
      "human_enhancers_cohn 0 kmer 4\n"
     ]
    }
   ],
   "source": [
    "print(DATASET, VOCAB_SIZE, TOKENIZER, KMER)"
   ]
  },
  {
   "cell_type": "markdown",
   "id": "ff56f8f0",
   "metadata": {
    "id": "Y-YQrVyb5kdQ",
    "papermill": {
     "duration": 0.015311,
     "end_time": "2022-01-11T10:25:08.206937",
     "exception": false,
     "start_time": "2022-01-11T10:25:08.191626",
     "status": "completed"
    },
    "tags": []
   },
   "source": [
    "## Config"
   ]
  },
  {
   "cell_type": "code",
   "execution_count": 4,
   "id": "89250980",
   "metadata": {
    "execution": {
     "iopub.execute_input": "2022-01-11T10:25:08.242017Z",
     "iopub.status.busy": "2022-01-11T10:25:08.240940Z",
     "iopub.status.idle": "2022-01-11T10:25:10.023237Z",
     "shell.execute_reply": "2022-01-11T10:25:10.023789Z"
    },
    "id": "FIunuyGk5kdR",
    "papermill": {
     "duration": 1.802962,
     "end_time": "2022-01-11T10:25:10.024010",
     "exception": false,
     "start_time": "2022-01-11T10:25:08.221048",
     "status": "completed"
    },
    "tags": []
   },
   "outputs": [],
   "source": [
    "import torch\n",
    "from torch.utils.data import DataLoader\n",
    "\n",
    "from genomic_benchmarks.dataset_getters.pytorch_datasets import get_dataset\n",
    "from glp.models import CNN\n",
    "from glp.tokenizers import get_tokenizer\n",
    "from glp.tokenizers.utils import build_vocab, coll_factory, check_config, check_seq_lengths"
   ]
  },
  {
   "cell_type": "code",
   "execution_count": 5,
   "id": "875fffc1",
   "metadata": {
    "execution": {
     "iopub.execute_input": "2022-01-11T10:25:10.060186Z",
     "iopub.status.busy": "2022-01-11T10:25:10.058996Z",
     "iopub.status.idle": "2022-01-11T10:25:10.061934Z",
     "shell.execute_reply": "2022-01-11T10:25:10.062441Z"
    },
    "id": "UgXiF6Zz5kdR",
    "papermill": {
     "duration": 0.02342,
     "end_time": "2022-01-11T10:25:10.062653",
     "exception": false,
     "start_time": "2022-01-11T10:25:10.039233",
     "status": "completed"
    },
    "tags": []
   },
   "outputs": [],
   "source": [
    "config = {\n",
    "    \"dataset\": DATASET,\n",
    "    \"tokenizer\": TOKENIZER,\n",
    "    \"dataset_version\": 0,\n",
    "    \"epochs\": 5,\n",
    "    \"batch_size\": 32,\n",
    "    \"use_padding\": True,\n",
    "    \"force_download\": False,\n",
    "    \"run_on_gpu\": True,\n",
    "    \"number_of_classes\": 2,\n",
    "    \"embedding_dim\": 100,\n",
    "}\n",
    "check_config(config)"
   ]
  },
  {
   "cell_type": "markdown",
   "id": "a726a5d6",
   "metadata": {
    "id": "AUWF-avz5kdS",
    "papermill": {
     "duration": 0.014895,
     "end_time": "2022-01-11T10:25:10.094410",
     "exception": false,
     "start_time": "2022-01-11T10:25:10.079515",
     "status": "completed"
    },
    "tags": []
   },
   "source": [
    "## Choose the dataset"
   ]
  },
  {
   "cell_type": "code",
   "execution_count": 6,
   "id": "6142afc5",
   "metadata": {
    "colab": {
     "base_uri": "https://localhost:8080/"
    },
    "execution": {
     "iopub.execute_input": "2022-01-11T10:25:10.129245Z",
     "iopub.status.busy": "2022-01-11T10:25:10.128327Z",
     "iopub.status.idle": "2022-01-11T10:25:10.287569Z",
     "shell.execute_reply": "2022-01-11T10:25:10.288239Z"
    },
    "id": "1oaryDJr5kdS",
    "outputId": "6a425df9-4092-4601-9cd9-f61d524b6278",
    "papermill": {
     "duration": 0.179093,
     "end_time": "2022-01-11T10:25:10.288614",
     "exception": false,
     "start_time": "2022-01-11T10:25:10.109521",
     "status": "completed"
    },
    "tags": []
   },
   "outputs": [],
   "source": [
    "train_dset = get_dataset(config[\"dataset\"], 'train')"
   ]
  },
  {
   "cell_type": "markdown",
   "id": "626479e0",
   "metadata": {
    "id": "B0lqmy935kdS",
    "papermill": {
     "duration": 0.016929,
     "end_time": "2022-01-11T10:25:10.320898",
     "exception": false,
     "start_time": "2022-01-11T10:25:10.303969",
     "status": "completed"
    },
    "tags": []
   },
   "source": [
    "## Tokenizer and vocab"
   ]
  },
  {
   "cell_type": "code",
   "execution_count": 7,
   "id": "2318bf81",
   "metadata": {
    "colab": {
     "base_uri": "https://localhost:8080/"
    },
    "execution": {
     "iopub.execute_input": "2022-01-11T10:25:10.362990Z",
     "iopub.status.busy": "2022-01-11T10:25:10.361288Z",
     "iopub.status.idle": "2022-01-11T10:25:23.177415Z",
     "shell.execute_reply": "2022-01-11T10:25:23.178841Z"
    },
    "id": "NY_zualp5kdT",
    "outputId": "9034d65f-2f9a-4c83-a314-13d3b808fc65",
    "papermill": {
     "duration": 12.840194,
     "end_time": "2022-01-11T10:25:23.179176",
     "exception": false,
     "start_time": "2022-01-11T10:25:10.338982",
     "status": "completed"
    },
    "tags": []
   },
   "outputs": [
    {
     "name": "stdout",
     "output_type": "stream",
     "text": [
      "vocab len: 258\n",
      "{'TCGA': 255, 'CGCT': 254, 'CGTT': 253, 'AACG': 251, 'TCCG': 250, 'GACG': 249, 'GAAC': 248, 'ACGT': 246, 'GCCG': 245, 'CGGT': 242, 'TAGC': 240, 'GCGT': 239, 'CACG': 237, 'AGCG': 244, 'TCGT': 236, 'CGAC': 233, 'GCAT': 232, 'ATAG': 230, 'AGAT': 229, 'TACT': 228, '<pad>': 257, 'AGTA': 227, 'GCGA': 226, 'CTAA': 225, 'GTAT': 224, 'TCTA': 223, 'TCGG': 221, 'ATAT': 218, 'ATCC': 217, 'TCCT': 216, 'ATTC': 215, 'CTTA': 214, 'TCAT': 211, 'AATC': 210, 'TAGG': 209, 'TCAA': 205, 'TTCG': 204, 'ATCT': 202, 'ACTA': 200, 'CCTA': 199, 'CTCA': 198, 'CGCC': 195, 'TGAC': 193, 'GGGT': 185, 'CAGG': 184, 'CCGA': 243, 'GGTT': 183, 'GACC': 182, 'CGAA': 181, 'AACT': 172, 'CCCA': 189, 'TATC': 152, 'TTGT': 168, 'GTCG': 167, 'TGAT': 166, 'TGGA': 164, 'GTCA': 162, 'AGGG': 174, 'CCCG': 160, 'AACC': 159, 'GGAT': 161, 'CTTG': 156, 'CAGT': 177, 'TAAA': 49, 'GAAT': 94, 'GTTG': 154, 'CTAT': 92, 'ACTT': 151, 'AGCA': 69, 'ATGC': 148, 'CTAG': 146, 'TAAC': 144, 'CAAT': 113, 'ATCA': 143, 'CCGG': 142, 'TTGC': 141, 'ACTG': 25, 'GGTC': 24, 'TTGG': 140, 'CATC': 137, 'GAGG': 132, 'CTCG': 136, 'TCGC': 192, 'AAGG': 124, 'GCTG': 135, 'TGCT': 176, 'CGGG': 127, 'AGGA': 131, 'CTAC': 234, 'TTGA': 138, 'TGTT': 42, 'AATG': 130, 'CTTT': 70, 'CATT': 129, 'AACA': 32, 'TTCA': 125, 'ATTA': 179, 'GTAC': 123, 'ACAT': 121, 'GATG': 33, 'GATT': 117, 'GAGT': 114, 'AATT': 112, 'GCCA': 196, 'ATAC': 111, 'ATTG': 171, 'ACGA': 247, 'GTAA': 110, 'GCTT': 108, 'GCCT': 106, 'AGAA': 122, 'TTAC': 120, 'TAGA': 105, 'ACCA': 104, 'TAAT': 139, 'CCCC': 102, 'CGTG': 197, 'GTGT': 101, 'GGCA': 100, 'CGGC': 119, 'CCGT': 153, 'TTAT': 98, 'GACT': 157, 'GGGA': 109, 'CACT': 97, 'TAGT': 165, 'TTAG': 178, 'GGAC': 208, 'ATTT': 88, 'CAAA': 58, 'GCTC': 26, 'ATGA': 134, 'ATGG': 87, 'GGGG': 14, 'AGTG': 77, 'AAAC': 84, 'TACG': 175, 'GGAG': 9, 'CACC': 85, 'AAGT': 54, 'CGTA': 80, 'CCTC': 203, 'CTGG': 79, 'CTCC': 78, 'TGCA': 29, 'ACTC': 68, 'GCAC': 76, 'CGAT': 238, 'GTTT': 89, 'GGTG': 75, 'CCTG': 74, 'AGAC': 31, 'CCAA': 180, 'CCAT': 91, 'CCAC': 118, 'TTCC': 72, 'GTTA': 235, 'AGTC': 116, 'GATC': 212, 'TATT': 115, 'GAGC': 71, 'ACAC': 64, 'CGAG': 66, 'ACGC': 220, 'AGCC': 155, 'TGGT': 61, 'TGTC': 59, 'TCAC': 86, 'TGGG': 55, 'CTGC': 188, 'AAAA': 107, 'AAGC': 53, 'GGGC': 145, 'AAAT': 52, 'TCTT': 90, 'GGCT': 38, 'TACC': 222, 'GACA': 10, 'CAAG': 19, 'CAAC': 206, 'GTCC': 18, 'AGAG': 34, 'ATAA': 51, 'TGTA': 50, 'TTTT': 93, 'ACAG': 47, 'ATGT': 48, 'TTTC': 39, 'TCTC': 163, 'TGAA': 2, 'CTGA': 1, 'CTTC': 36, 'CCCT': 8, 'TTTA': 56, 'GCGG': 191, 'TATA': 207, 'CCTT': 95, 'GTCT': 65, 'AAAG': 149, 'GGCC': 35, 'CGTC': 63, 'TCAG': 30, 'TGGC': 83, 'AGGC': 170, 'GAGA': 99, 'TATG': 27, 'TGAG': 28, 'CATA': 201, 'GCCC': 133, 'CGCA': 173, 'CACA': 128, 'CTGT': 23, 'AGTT': 37, 'GCAG': 11, 'CTCT': 17, 'TACA': 62, 'GAAG': 126, 'TGCG': 219, 'TCCA': 22, 'ACCG': 231, 'AATA': 81, 'GCAA': 187, 'ACAA': 103, 'GATA': 20, 'GGTA': 213, 'GTGG': 6, 'TTAA': 96, 'TCTG': 7, 'TTCT': 16, 'TCCC': 15, 'GTGC': 57, 'TTTG': 190, 'CCGC': 169, 'ACCT': 73, 'ACCC': 3, 'AAGA': 60, 'CAGC': 21, '<unk>': 0, 'ATCG': 252, 'GGAA': 147, 'GAAA': 44, 'AGCT': 45, 'AGGT': 5, 'CCAG': 12, 'CGGA': 82, 'GCGC': 194, 'TAAG': 186, 'CGCG': 256, 'GCTA': 241, 'CATG': 43, 'ACGG': 150, 'GTAG': 46, 'TGCC': 40, 'GTGA': 158, 'GTTC': 41, 'GGCG': 4, 'TGTG': 13, 'CAGA': 67}\n"
     ]
    }
   ],
   "source": [
    "tokenizer = get_tokenizer(config['tokenizer'])\n",
    "tokenizer.train(train_dset=train_dset, vocab_size=VOCAB_SIZE, kmer=KMER)\n",
    "vocabulary = build_vocab(train_dset, tokenizer, use_padding=config[\"use_padding\"])\n",
    "\n",
    "print(\"vocab len:\" ,vocabulary.__len__())\n",
    "print(vocabulary.get_stoi())"
   ]
  },
  {
   "cell_type": "markdown",
   "id": "04313f2f",
   "metadata": {
    "id": "3hGQpSJA5kdT",
    "papermill": {
     "duration": 0.016616,
     "end_time": "2022-01-11T10:25:23.213976",
     "exception": false,
     "start_time": "2022-01-11T10:25:23.197360",
     "status": "completed"
    },
    "tags": []
   },
   "source": [
    "## Dataloader and batch preparation"
   ]
  },
  {
   "cell_type": "code",
   "execution_count": 8,
   "id": "3a719345",
   "metadata": {
    "colab": {
     "base_uri": "https://localhost:8080/"
    },
    "execution": {
     "iopub.execute_input": "2022-01-11T10:25:23.270767Z",
     "iopub.status.busy": "2022-01-11T10:25:23.269280Z",
     "iopub.status.idle": "2022-01-11T10:25:38.576473Z",
     "shell.execute_reply": "2022-01-11T10:25:38.577082Z"
    },
    "id": "gXUgPH6q5kdT",
    "outputId": "a1eb6ba2-9bcd-416d-8662-e3516121da96",
    "papermill": {
     "duration": 15.340441,
     "end_time": "2022-01-11T10:25:38.577300",
     "exception": false,
     "start_time": "2022-01-11T10:25:23.236859",
     "status": "completed"
    },
    "tags": []
   },
   "outputs": [
    {
     "name": "stdout",
     "output_type": "stream",
     "text": [
      "Using cpu device\n"
     ]
    },
    {
     "name": "stdout",
     "output_type": "stream",
     "text": [
      "max_tok_len  125\n"
     ]
    }
   ],
   "source": [
    "# Run on GPU or CPU\n",
    "device = 'cuda' if config[\"run_on_gpu\"] and torch.cuda.is_available() else 'cpu'\n",
    "print('Using {} device'.format(device))\n",
    "\n",
    "max_tok_len = check_seq_lengths(dataset=train_dset, tokenizer=tokenizer)\n",
    "\n",
    "# Data Loader\n",
    "collate = coll_factory(vocabulary, tokenizer, device, pad_to_length = max_tok_len)\n",
    "\n",
    "train_loader = DataLoader(train_dset, batch_size=config[\"batch_size\"], shuffle=True, collate_fn=collate)"
   ]
  },
  {
   "cell_type": "code",
   "execution_count": 9,
   "id": "f5fd4967",
   "metadata": {
    "execution": {
     "iopub.execute_input": "2022-01-11T10:25:38.617777Z",
     "iopub.status.busy": "2022-01-11T10:25:38.616863Z",
     "iopub.status.idle": "2022-01-11T10:25:38.631790Z",
     "shell.execute_reply": "2022-01-11T10:25:38.632537Z"
    },
    "papermill": {
     "duration": 0.037873,
     "end_time": "2022-01-11T10:25:38.632833",
     "exception": false,
     "start_time": "2022-01-11T10:25:38.594960",
     "status": "completed"
    },
    "tags": []
   },
   "outputs": [
    {
     "data": {
      "text/plain": [
       "['CCAT',\n",
       " 'CTAT',\n",
       " 'TTTT',\n",
       " 'GAAT',\n",
       " 'CCTT',\n",
       " 'TTAA',\n",
       " 'CACT',\n",
       " 'TTAT',\n",
       " 'GAGA',\n",
       " 'GAGA',\n",
       " 'AAGA',\n",
       " 'ACAG',\n",
       " 'AACA',\n",
       " 'GGCA',\n",
       " 'GGCA',\n",
       " 'GGCT',\n",
       " 'GTGT',\n",
       " 'TTAA',\n",
       " 'CCCC',\n",
       " 'ACAA',\n",
       " 'CACC',\n",
       " 'ACCA',\n",
       " 'TAGA',\n",
       " 'GCCT',\n",
       " 'AAAA',\n",
       " 'GCTT',\n",
       " 'GGGA',\n",
       " 'GTAA',\n",
       " 'ATAC',\n",
       " 'AATT',\n",
       " 'TCTT',\n",
       " 'TGGC',\n",
       " 'ACCT',\n",
       " 'TGTA',\n",
       " 'ATAA',\n",
       " 'AACA',\n",
       " 'TGAA',\n",
       " 'CAAT',\n",
       " 'GAGT',\n",
       " 'TTCT',\n",
       " 'CACC',\n",
       " 'ATGT',\n",
       " 'TATT',\n",
       " 'AGTC',\n",
       " 'TCTG',\n",
       " 'GATT',\n",
       " 'CCAC',\n",
       " 'GCTC',\n",
       " 'CGGC',\n",
       " 'ATAC',\n",
       " 'TTAC',\n",
       " 'ACAT',\n",
       " 'TTAC',\n",
       " 'AGAA',\n",
       " 'AAGA',\n",
       " 'GAGA',\n",
       " 'CAGA',\n",
       " 'CAAA',\n",
       " 'GAGA',\n",
       " 'GTAC',\n",
       " 'TGTG',\n",
       " 'CTGA',\n",
       " 'AAGG',\n",
       " 'TTCA',\n",
       " 'GACA',\n",
       " 'GAAG',\n",
       " 'AATT',\n",
       " 'CGGG',\n",
       " 'ACTC',\n",
       " 'AAGC',\n",
       " 'CACA',\n",
       " 'ACAA',\n",
       " 'CATT',\n",
       " 'AATG',\n",
       " 'AGGA',\n",
       " 'AAGG',\n",
       " 'GAGG',\n",
       " 'GTAG',\n",
       " 'GGCA',\n",
       " 'GCCC',\n",
       " 'AGTG',\n",
       " 'AACA',\n",
       " 'ATGA',\n",
       " 'GCTG',\n",
       " 'CTCG',\n",
       " 'CATC',\n",
       " 'AGTT',\n",
       " 'TTGA',\n",
       " 'AAGA',\n",
       " 'GACA',\n",
       " 'GTAG',\n",
       " 'AGAA',\n",
       " 'GACA',\n",
       " 'CACA',\n",
       " 'AACA',\n",
       " 'TTCC',\n",
       " 'TAAT',\n",
       " 'TTCT',\n",
       " 'TGCC',\n",
       " 'TTGG',\n",
       " 'CTGG',\n",
       " 'ATAA',\n",
       " 'CTCG',\n",
       " 'GCTG',\n",
       " 'CAAA',\n",
       " 'AGGT',\n",
       " 'AAGA',\n",
       " 'TTCT',\n",
       " 'TTGC',\n",
       " 'TCTT',\n",
       " 'CCGG',\n",
       " 'TTTT',\n",
       " 'CGGG',\n",
       " 'ATCA',\n",
       " 'GAGG',\n",
       " 'TAAC',\n",
       " 'CCGG',\n",
       " 'GGGC',\n",
       " 'CTAG',\n",
       " 'CACA',\n",
       " 'GGTG',\n",
       " 'GTCT',\n",
       " 'CACA',\n",
       " 'TCTG',\n",
       " 'GGAA']"
      ]
     },
     "execution_count": 9,
     "metadata": {},
     "output_type": "execute_result"
    }
   ],
   "source": [
    "tokenizer(train_dset[1][0])"
   ]
  },
  {
   "cell_type": "markdown",
   "id": "1c2e6f81",
   "metadata": {
    "id": "sTTomnnP5kdU",
    "papermill": {
     "duration": 0.01692,
     "end_time": "2022-01-11T10:25:38.666941",
     "exception": false,
     "start_time": "2022-01-11T10:25:38.650021",
     "status": "completed"
    },
    "tags": []
   },
   "source": [
    "## Model"
   ]
  },
  {
   "cell_type": "code",
   "execution_count": 10,
   "id": "3f035a87",
   "metadata": {
    "execution": {
     "iopub.execute_input": "2022-01-11T10:25:38.705844Z",
     "iopub.status.busy": "2022-01-11T10:25:38.705037Z",
     "iopub.status.idle": "2022-01-11T10:25:38.720780Z",
     "shell.execute_reply": "2022-01-11T10:25:38.721415Z"
    },
    "id": "ZNuXGIdD5kdU",
    "papermill": {
     "duration": 0.038035,
     "end_time": "2022-01-11T10:25:38.721664",
     "exception": false,
     "start_time": "2022-01-11T10:25:38.683629",
     "status": "completed"
    },
    "tags": []
   },
   "outputs": [],
   "source": [
    "model = CNN(\n",
    "    number_of_classes=config[\"number_of_classes\"],\n",
    "    vocab_size=vocabulary.__len__(),\n",
    "    embedding_dim=config[\"embedding_dim\"],\n",
    "    input_len=max_tok_len\n",
    ").to(device)"
   ]
  },
  {
   "cell_type": "markdown",
   "id": "e2bd7979",
   "metadata": {
    "id": "1pqIm92h5kdV",
    "papermill": {
     "duration": 0.02394,
     "end_time": "2022-01-11T10:25:38.769186",
     "exception": false,
     "start_time": "2022-01-11T10:25:38.745246",
     "status": "completed"
    },
    "tags": []
   },
   "source": [
    "## Training"
   ]
  },
  {
   "cell_type": "code",
   "execution_count": 11,
   "id": "f7c22ded",
   "metadata": {
    "colab": {
     "base_uri": "https://localhost:8080/"
    },
    "execution": {
     "iopub.execute_input": "2022-01-11T10:25:38.813056Z",
     "iopub.status.busy": "2022-01-11T10:25:38.812211Z",
     "iopub.status.idle": "2022-01-11T10:29:35.769179Z",
     "shell.execute_reply": "2022-01-11T10:29:35.769757Z"
    },
    "id": "uvO_-RFm5kdV",
    "outputId": "7799e5f9-78a7-4ef2-95e8-f06751912eda",
    "papermill": {
     "duration": 236.980715,
     "end_time": "2022-01-11T10:29:35.770023",
     "exception": false,
     "start_time": "2022-01-11T10:25:38.789308",
     "status": "completed"
    },
    "tags": []
   },
   "outputs": [
    {
     "name": "stdout",
     "output_type": "stream",
     "text": [
      "Epoch 0\n"
     ]
    },
    {
     "name": "stderr",
     "output_type": "stream",
     "text": [
      "/Users/katarina/Documents/repositories/GitHub/GLP/src/glp/tokenizers/utils.py:27: UserWarning: To copy construct from a tensor, it is recommended to use sourceTensor.clone().detach() or sourceTensor.clone().detach().requires_grad_(True), rather than torch.tensor(sourceTensor).\n",
      "  x = torch.tensor(pad(x), dtype=torch.long)\n"
     ]
    },
    {
     "name": "stdout",
     "output_type": "stream",
     "text": [
      "Train metrics: \n",
      " Accuracy: 66.5%, Avg loss: 0.640658 \n",
      "\n",
      "Epoch 1\n"
     ]
    },
    {
     "name": "stdout",
     "output_type": "stream",
     "text": [
      "Train metrics: \n",
      " Accuracy: 72.5%, Avg loss: 0.627891 \n",
      "\n",
      "Epoch 2\n"
     ]
    },
    {
     "name": "stdout",
     "output_type": "stream",
     "text": [
      "Train metrics: \n",
      " Accuracy: 73.8%, Avg loss: 0.616994 \n",
      "\n",
      "Epoch 3\n"
     ]
    },
    {
     "name": "stdout",
     "output_type": "stream",
     "text": [
      "Train metrics: \n",
      " Accuracy: 74.6%, Avg loss: 0.610680 \n",
      "\n",
      "Epoch 4\n"
     ]
    },
    {
     "name": "stdout",
     "output_type": "stream",
     "text": [
      "Train metrics: \n",
      " Accuracy: 76.3%, Avg loss: 0.610392 \n",
      "\n"
     ]
    }
   ],
   "source": [
    "model.train(train_loader, epochs=config[\"epochs\"])"
   ]
  },
  {
   "cell_type": "markdown",
   "id": "c9cd1383",
   "metadata": {
    "id": "bR2tamrc5kdV",
    "papermill": {
     "duration": 0.032894,
     "end_time": "2022-01-11T10:29:35.846137",
     "exception": false,
     "start_time": "2022-01-11T10:29:35.813243",
     "status": "completed"
    },
    "tags": []
   },
   "source": [
    "## Testing"
   ]
  },
  {
   "cell_type": "code",
   "execution_count": 12,
   "id": "9b43200b",
   "metadata": {
    "colab": {
     "base_uri": "https://localhost:8080/"
    },
    "execution": {
     "iopub.execute_input": "2022-01-11T10:29:35.894992Z",
     "iopub.status.busy": "2022-01-11T10:29:35.893662Z",
     "iopub.status.idle": "2022-01-11T10:29:47.016793Z",
     "shell.execute_reply": "2022-01-11T10:29:47.018686Z"
    },
    "id": "wbnciyRK5kdW",
    "outputId": "d2592f9d-f074-465f-95f8-df3b759ae068",
    "papermill": {
     "duration": 11.153656,
     "end_time": "2022-01-11T10:29:47.019029",
     "exception": false,
     "start_time": "2022-01-11T10:29:35.865373",
     "status": "completed"
    },
    "tags": []
   },
   "outputs": [
    {
     "name": "stdout",
     "output_type": "stream",
     "text": [
      "p  3474 ; tp  2045.6479489803314 ; fp  892.8125833951271\n",
      "recall  0.5888451206045859 ; precision  0.6961631529304988\n",
      "num_batches 218\n",
      "correct 4631\n",
      "size 6948\n",
      "Test metrics: \n",
      " Accuracy: 0.666523, F1 score: 0.638023, Avg loss: 0.658182 \n",
      "\n"
     ]
    },
    {
     "data": {
      "text/plain": [
       "(0.6665227403569373, 0.6380227803827224)"
      ]
     },
     "execution_count": 12,
     "metadata": {},
     "output_type": "execute_result"
    }
   ],
   "source": [
    "test_dset = get_dataset(config[\"dataset\"], 'test')\n",
    "test_loader = DataLoader(test_dset, batch_size=config[\"batch_size\"], shuffle=True, collate_fn=collate)\n",
    "\n",
    "acc, f1 = model.test(test_loader)\n",
    "acc, f1"
   ]
  }
 ],
 "metadata": {
  "accelerator": "TPU",
  "colab": {
   "name": "torch_cnn_classifier.ipynb",
   "provenance": []
  },
  "environment": {
   "name": "pytorch-gpu.1-9.m75",
   "type": "gcloud",
   "uri": "gcr.io/deeplearning-platform-release/pytorch-gpu.1-9:m75"
  },
  "interpreter": {
   "hash": "9828b828580f1cac1b571b33de6cff8bacecc8916095e1bcbc967952ca7105b7"
  },
  "kernelspec": {
   "display_name": "Python 3",
   "name": "python3"
  },
  "language_info": {
   "codemirror_mode": {
    "name": "ipython",
    "version": 3
   },
   "file_extension": ".py",
   "mimetype": "text/x-python",
   "name": "python",
   "nbconvert_exporter": "python",
   "pygments_lexer": "ipython3",
   "version": "3.8.9"
  },
  "papermill": {
   "default_parameters": {},
   "duration": 281.710621,
   "end_time": "2022-01-11T10:29:47.572192",
   "environment_variables": {},
   "exception": null,
   "input_path": "torch_cnn.ipynb",
   "output_path": "../torch_cnn_experiments/human_enhancers_cohn_kmer_4.ipynb",
   "parameters": {
    "DATASET": "human_enhancers_cohn",
    "KMER": 4,
    "TOKENIZER": "kmer"
   },
   "start_time": "2022-01-11T10:25:05.861571",
   "version": "2.3.3"
  }
 },
 "nbformat": 4,
 "nbformat_minor": 5
}