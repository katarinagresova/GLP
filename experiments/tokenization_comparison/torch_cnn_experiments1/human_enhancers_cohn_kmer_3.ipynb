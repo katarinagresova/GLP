{
 "cells": [
  {
   "cell_type": "markdown",
   "id": "3ee72a02",
   "metadata": {
    "id": "SKOD9lvq5kdM",
    "papermill": {
     "duration": 0.017889,
     "end_time": "2022-01-11T10:19:46.655261",
     "exception": false,
     "start_time": "2022-01-11T10:19:46.637372",
     "status": "completed"
    },
    "tags": []
   },
   "source": [
    "# PYTORCH CNN Classifier"
   ]
  },
  {
   "cell_type": "code",
   "execution_count": 1,
   "id": "6f2ae847",
   "metadata": {
    "execution": {
     "iopub.execute_input": "2022-01-11T10:19:46.692990Z",
     "iopub.status.busy": "2022-01-11T10:19:46.692142Z",
     "iopub.status.idle": "2022-01-11T10:19:46.695743Z",
     "shell.execute_reply": "2022-01-11T10:19:46.696277Z"
    },
    "id": "E8prt3AL5kdO",
    "papermill": {
     "duration": 0.026572,
     "end_time": "2022-01-11T10:19:46.696592",
     "exception": false,
     "start_time": "2022-01-11T10:19:46.670020",
     "status": "completed"
    },
    "tags": [
     "parameters"
    ]
   },
   "outputs": [],
   "source": [
    "DATASET = 'none'\n",
    "VOCAB_SIZE = 0\n",
    "TOKENIZER = 'none'\n",
    "KMER = 0"
   ]
  },
  {
   "cell_type": "code",
   "execution_count": 2,
   "id": "77f8c9c3",
   "metadata": {
    "execution": {
     "iopub.execute_input": "2022-01-11T10:19:46.728942Z",
     "iopub.status.busy": "2022-01-11T10:19:46.728121Z",
     "iopub.status.idle": "2022-01-11T10:19:46.730616Z",
     "shell.execute_reply": "2022-01-11T10:19:46.731405Z"
    },
    "papermill": {
     "duration": 0.021178,
     "end_time": "2022-01-11T10:19:46.731599",
     "exception": false,
     "start_time": "2022-01-11T10:19:46.710421",
     "status": "completed"
    },
    "tags": [
     "injected-parameters"
    ]
   },
   "outputs": [],
   "source": [
    "# Parameters\n",
    "DATASET = \"human_enhancers_cohn\"\n",
    "TOKENIZER = \"kmer\"\n",
    "KMER = 3\n"
   ]
  },
  {
   "cell_type": "code",
   "execution_count": 3,
   "id": "0d5d61ee",
   "metadata": {
    "colab": {
     "base_uri": "https://localhost:8080/"
    },
    "execution": {
     "iopub.execute_input": "2022-01-11T10:19:46.763847Z",
     "iopub.status.busy": "2022-01-11T10:19:46.763071Z",
     "iopub.status.idle": "2022-01-11T10:19:46.766283Z",
     "shell.execute_reply": "2022-01-11T10:19:46.766874Z"
    },
    "id": "rohBItfR5kdP",
    "outputId": "7da7aafe-0858-48be-bf7d-f698784d88df",
    "papermill": {
     "duration": 0.021941,
     "end_time": "2022-01-11T10:19:46.767109",
     "exception": false,
     "start_time": "2022-01-11T10:19:46.745168",
     "status": "completed"
    },
    "tags": []
   },
   "outputs": [
    {
     "name": "stdout",
     "output_type": "stream",
     "text": [
      "human_enhancers_cohn 0 kmer 3\n"
     ]
    }
   ],
   "source": [
    "print(DATASET, VOCAB_SIZE, TOKENIZER, KMER)"
   ]
  },
  {
   "cell_type": "markdown",
   "id": "0f3713a8",
   "metadata": {
    "id": "Y-YQrVyb5kdQ",
    "papermill": {
     "duration": 0.014676,
     "end_time": "2022-01-11T10:19:46.795970",
     "exception": false,
     "start_time": "2022-01-11T10:19:46.781294",
     "status": "completed"
    },
    "tags": []
   },
   "source": [
    "## Config"
   ]
  },
  {
   "cell_type": "code",
   "execution_count": 4,
   "id": "c41d927f",
   "metadata": {
    "execution": {
     "iopub.execute_input": "2022-01-11T10:19:46.829675Z",
     "iopub.status.busy": "2022-01-11T10:19:46.828774Z",
     "iopub.status.idle": "2022-01-11T10:19:48.456837Z",
     "shell.execute_reply": "2022-01-11T10:19:48.457374Z"
    },
    "id": "FIunuyGk5kdR",
    "papermill": {
     "duration": 1.647761,
     "end_time": "2022-01-11T10:19:48.457588",
     "exception": false,
     "start_time": "2022-01-11T10:19:46.809827",
     "status": "completed"
    },
    "tags": []
   },
   "outputs": [],
   "source": [
    "import torch\n",
    "from torch.utils.data import DataLoader\n",
    "\n",
    "from genomic_benchmarks.dataset_getters.pytorch_datasets import get_dataset\n",
    "from glp.models import CNN\n",
    "from glp.tokenizers import get_tokenizer\n",
    "from glp.tokenizers.utils import build_vocab, coll_factory, check_config, check_seq_lengths"
   ]
  },
  {
   "cell_type": "code",
   "execution_count": 5,
   "id": "736c4fd4",
   "metadata": {
    "execution": {
     "iopub.execute_input": "2022-01-11T10:19:48.492825Z",
     "iopub.status.busy": "2022-01-11T10:19:48.491975Z",
     "iopub.status.idle": "2022-01-11T10:19:48.494497Z",
     "shell.execute_reply": "2022-01-11T10:19:48.495087Z"
    },
    "id": "UgXiF6Zz5kdR",
    "papermill": {
     "duration": 0.02307,
     "end_time": "2022-01-11T10:19:48.495374",
     "exception": false,
     "start_time": "2022-01-11T10:19:48.472304",
     "status": "completed"
    },
    "tags": []
   },
   "outputs": [],
   "source": [
    "config = {\n",
    "    \"dataset\": DATASET,\n",
    "    \"tokenizer\": TOKENIZER,\n",
    "    \"dataset_version\": 0,\n",
    "    \"epochs\": 5,\n",
    "    \"batch_size\": 32,\n",
    "    \"use_padding\": True,\n",
    "    \"force_download\": False,\n",
    "    \"run_on_gpu\": True,\n",
    "    \"number_of_classes\": 2,\n",
    "    \"embedding_dim\": 100,\n",
    "}\n",
    "check_config(config)"
   ]
  },
  {
   "cell_type": "markdown",
   "id": "3b576f0d",
   "metadata": {
    "id": "AUWF-avz5kdS",
    "papermill": {
     "duration": 0.015119,
     "end_time": "2022-01-11T10:19:48.525719",
     "exception": false,
     "start_time": "2022-01-11T10:19:48.510600",
     "status": "completed"
    },
    "tags": []
   },
   "source": [
    "## Choose the dataset"
   ]
  },
  {
   "cell_type": "code",
   "execution_count": 6,
   "id": "756557e1",
   "metadata": {
    "colab": {
     "base_uri": "https://localhost:8080/"
    },
    "execution": {
     "iopub.execute_input": "2022-01-11T10:19:48.561366Z",
     "iopub.status.busy": "2022-01-11T10:19:48.560409Z",
     "iopub.status.idle": "2022-01-11T10:19:48.773060Z",
     "shell.execute_reply": "2022-01-11T10:19:48.773562Z"
    },
    "id": "1oaryDJr5kdS",
    "outputId": "6a425df9-4092-4601-9cd9-f61d524b6278",
    "papermill": {
     "duration": 0.233003,
     "end_time": "2022-01-11T10:19:48.773764",
     "exception": false,
     "start_time": "2022-01-11T10:19:48.540761",
     "status": "completed"
    },
    "tags": []
   },
   "outputs": [],
   "source": [
    "train_dset = get_dataset(config[\"dataset\"], 'train')"
   ]
  },
  {
   "cell_type": "markdown",
   "id": "90abd4bd",
   "metadata": {
    "id": "B0lqmy935kdS",
    "papermill": {
     "duration": 0.014895,
     "end_time": "2022-01-11T10:19:48.804953",
     "exception": false,
     "start_time": "2022-01-11T10:19:48.790058",
     "status": "completed"
    },
    "tags": []
   },
   "source": [
    "## Tokenizer and vocab"
   ]
  },
  {
   "cell_type": "code",
   "execution_count": 7,
   "id": "23fb2270",
   "metadata": {
    "colab": {
     "base_uri": "https://localhost:8080/"
    },
    "execution": {
     "iopub.execute_input": "2022-01-11T10:19:48.841197Z",
     "iopub.status.busy": "2022-01-11T10:19:48.840179Z",
     "iopub.status.idle": "2022-01-11T10:19:58.170998Z",
     "shell.execute_reply": "2022-01-11T10:19:58.171516Z"
    },
    "id": "NY_zualp5kdT",
    "outputId": "9034d65f-2f9a-4c83-a314-13d3b808fc65",
    "papermill": {
     "duration": 9.351673,
     "end_time": "2022-01-11T10:19:58.171737",
     "exception": false,
     "start_time": "2022-01-11T10:19:48.820064",
     "status": "completed"
    },
    "tags": []
   },
   "outputs": [
    {
     "name": "stdout",
     "output_type": "stream",
     "text": [
      "vocab len: 66\n",
      "{'GCG': 64, 'CGC': 62, 'CCG': 61, 'TCG': 60, 'ACT': 59, 'GGA': 56, 'AAC': 55, 'ATT': 53, 'ATC': 63, 'TAT': 52, 'AAT': 51, 'ACC': 49, 'TTC': 46, 'GTA': 50, 'ATA': 42, 'CGT': 45, 'ACG': 44, 'TGG': 8, 'TTA': 40, 'GGT': 39, 'CCA': 20, 'CAA': 36, 'TGA': 57, 'GAG': 6, 'TAG': 34, 'CAT': 27, 'AAG': 43, 'TAC': 33, 'CCT': 31, 'TTT': 30, 'TTG': 29, 'GTT': 32, 'CTA': 26, 'GCT': 24, 'GCA': 28, 'AAA': 3, 'ACA': 23, 'GAC': 11, 'CCC': 4, 'AGG': 21, 'GAT': 22, 'GGG': 15, '<pad>': 65, 'TCA': 25, 'CAG': 13, 'TCT': 9, 'TAA': 37, 'ATG': 2, 'GAA': 35, 'TGC': 41, 'AGA': 54, 'CAC': 48, '<unk>': 0, 'CGG': 58, 'CTT': 17, 'CGA': 47, 'GTC': 19, 'GCC': 10, 'AGT': 38, 'AGC': 12, 'GTG': 7, 'GGC': 5, 'CTG': 1, 'TCC': 16, 'TGT': 14, 'CTC': 18}\n"
     ]
    }
   ],
   "source": [
    "tokenizer = get_tokenizer(config['tokenizer'])\n",
    "tokenizer.train(train_dset=train_dset, vocab_size=VOCAB_SIZE, kmer=KMER)\n",
    "vocabulary = build_vocab(train_dset, tokenizer, use_padding=config[\"use_padding\"])\n",
    "\n",
    "print(\"vocab len:\" ,vocabulary.__len__())\n",
    "print(vocabulary.get_stoi())"
   ]
  },
  {
   "cell_type": "markdown",
   "id": "e0c0f934",
   "metadata": {
    "id": "3hGQpSJA5kdT",
    "papermill": {
     "duration": 0.016479,
     "end_time": "2022-01-11T10:19:58.208961",
     "exception": false,
     "start_time": "2022-01-11T10:19:58.192482",
     "status": "completed"
    },
    "tags": []
   },
   "source": [
    "## Dataloader and batch preparation"
   ]
  },
  {
   "cell_type": "code",
   "execution_count": 8,
   "id": "199c495b",
   "metadata": {
    "colab": {
     "base_uri": "https://localhost:8080/"
    },
    "execution": {
     "iopub.execute_input": "2022-01-11T10:19:58.254314Z",
     "iopub.status.busy": "2022-01-11T10:19:58.252112Z",
     "iopub.status.idle": "2022-01-11T10:20:12.089591Z",
     "shell.execute_reply": "2022-01-11T10:20:12.090089Z"
    },
    "id": "gXUgPH6q5kdT",
    "outputId": "a1eb6ba2-9bcd-416d-8662-e3516121da96",
    "papermill": {
     "duration": 13.863498,
     "end_time": "2022-01-11T10:20:12.090409",
     "exception": false,
     "start_time": "2022-01-11T10:19:58.226911",
     "status": "completed"
    },
    "tags": []
   },
   "outputs": [
    {
     "name": "stdout",
     "output_type": "stream",
     "text": [
      "Using cpu device\n"
     ]
    },
    {
     "name": "stdout",
     "output_type": "stream",
     "text": [
      "max_tok_len  166\n"
     ]
    }
   ],
   "source": [
    "# Run on GPU or CPU\n",
    "device = 'cuda' if config[\"run_on_gpu\"] and torch.cuda.is_available() else 'cpu'\n",
    "print('Using {} device'.format(device))\n",
    "\n",
    "max_tok_len = check_seq_lengths(dataset=train_dset, tokenizer=tokenizer)\n",
    "\n",
    "# Data Loader\n",
    "collate = coll_factory(vocabulary, tokenizer, device, pad_to_length = max_tok_len)\n",
    "\n",
    "train_loader = DataLoader(train_dset, batch_size=config[\"batch_size\"], shuffle=True, collate_fn=collate)"
   ]
  },
  {
   "cell_type": "code",
   "execution_count": 9,
   "id": "85b22b2a",
   "metadata": {
    "execution": {
     "iopub.execute_input": "2022-01-11T10:20:12.128339Z",
     "iopub.status.busy": "2022-01-11T10:20:12.127531Z",
     "iopub.status.idle": "2022-01-11T10:20:12.140535Z",
     "shell.execute_reply": "2022-01-11T10:20:12.141125Z"
    },
    "papermill": {
     "duration": 0.034222,
     "end_time": "2022-01-11T10:20:12.141333",
     "exception": false,
     "start_time": "2022-01-11T10:20:12.107111",
     "status": "completed"
    },
    "tags": []
   },
   "outputs": [
    {
     "data": {
      "text/plain": [
       "['CCA',\n",
       " 'TCT',\n",
       " 'ATT',\n",
       " 'TTT',\n",
       " 'GAA',\n",
       " 'TCC',\n",
       " 'TTT',\n",
       " 'TAA',\n",
       " 'CAC',\n",
       " 'TTT',\n",
       " 'ATG',\n",
       " 'AGA',\n",
       " 'GAG',\n",
       " 'AAA',\n",
       " 'GAA',\n",
       " 'CAG',\n",
       " 'AAC',\n",
       " 'AGG',\n",
       " 'CAG',\n",
       " 'GCA',\n",
       " 'GGC',\n",
       " 'TGT',\n",
       " 'GTT',\n",
       " 'TAA',\n",
       " 'CCC',\n",
       " 'CAC',\n",
       " 'AAC',\n",
       " 'ACC',\n",
       " 'ACC',\n",
       " 'ATA',\n",
       " 'GAG',\n",
       " 'CCT',\n",
       " 'AAA',\n",
       " 'AGC',\n",
       " 'TTG',\n",
       " 'GGA',\n",
       " 'GTA',\n",
       " 'AAT',\n",
       " 'ACA',\n",
       " 'ATT',\n",
       " 'TCT',\n",
       " 'TTG',\n",
       " 'GCA',\n",
       " 'CCT',\n",
       " 'TGT',\n",
       " 'AAT',\n",
       " 'AAA',\n",
       " 'ACA',\n",
       " 'TGA',\n",
       " 'ACA',\n",
       " 'ATG',\n",
       " 'AGT',\n",
       " 'TTC',\n",
       " 'TCA',\n",
       " 'CCA',\n",
       " 'TGT',\n",
       " 'TAT',\n",
       " 'TAG',\n",
       " 'TCT',\n",
       " 'CTG',\n",
       " 'GAT',\n",
       " 'TCC',\n",
       " 'ACG',\n",
       " 'CTC',\n",
       " 'CGG',\n",
       " 'CAT',\n",
       " 'ACT',\n",
       " 'TAC',\n",
       " 'ACA',\n",
       " 'TTT',\n",
       " 'ACA',\n",
       " 'GAA',\n",
       " 'AAG',\n",
       " 'AGA',\n",
       " 'GAC',\n",
       " 'AGA',\n",
       " 'CAA',\n",
       " 'AGA',\n",
       " 'GAG',\n",
       " 'TAC',\n",
       " 'TGT',\n",
       " 'GCT',\n",
       " 'GAA',\n",
       " 'AGG',\n",
       " 'TTC',\n",
       " 'AGA',\n",
       " 'CAG',\n",
       " 'AAG',\n",
       " 'AAT',\n",
       " 'TCG',\n",
       " 'GGA',\n",
       " 'CTC',\n",
       " 'AAG',\n",
       " 'CCA',\n",
       " 'CAA',\n",
       " 'CAA',\n",
       " 'CAT',\n",
       " 'TAA',\n",
       " 'TGA',\n",
       " 'GGA',\n",
       " 'AAG',\n",
       " 'GGA',\n",
       " 'GGG',\n",
       " 'TAG',\n",
       " 'GGC',\n",
       " 'AGC',\n",
       " 'CCA',\n",
       " 'GTG',\n",
       " 'AAC',\n",
       " 'AAT',\n",
       " 'GAG',\n",
       " 'CTG',\n",
       " 'CTC',\n",
       " 'GCA',\n",
       " 'TCA',\n",
       " 'GTT',\n",
       " 'TTG',\n",
       " 'AAA',\n",
       " 'GAG',\n",
       " 'ACA',\n",
       " 'GTA',\n",
       " 'GAG',\n",
       " 'AAG',\n",
       " 'ACA',\n",
       " 'CAC',\n",
       " 'AAA',\n",
       " 'CAT',\n",
       " 'TCC',\n",
       " 'TAA',\n",
       " 'TTT',\n",
       " 'CTT',\n",
       " 'GCC',\n",
       " 'TTG',\n",
       " 'GCT',\n",
       " 'GGA',\n",
       " 'TAA',\n",
       " 'CTC',\n",
       " 'GGC',\n",
       " 'TGC',\n",
       " 'AAA',\n",
       " 'AGG',\n",
       " 'TAA',\n",
       " 'GAT',\n",
       " 'TCT',\n",
       " 'TTG',\n",
       " 'CTC',\n",
       " 'TTC',\n",
       " 'CGG',\n",
       " 'TTT',\n",
       " 'TCG',\n",
       " 'GGA',\n",
       " 'TCA',\n",
       " 'GAG',\n",
       " 'GTA',\n",
       " 'ACC',\n",
       " 'CGG',\n",
       " 'GGG',\n",
       " 'CCT',\n",
       " 'AGC',\n",
       " 'ACA',\n",
       " 'GGT',\n",
       " 'GGT',\n",
       " 'CTC',\n",
       " 'ACA',\n",
       " 'TCT',\n",
       " 'GGG']"
      ]
     },
     "execution_count": 9,
     "metadata": {},
     "output_type": "execute_result"
    }
   ],
   "source": [
    "tokenizer(train_dset[1][0])"
   ]
  },
  {
   "cell_type": "markdown",
   "id": "628ccbf6",
   "metadata": {
    "id": "sTTomnnP5kdU",
    "papermill": {
     "duration": 0.016909,
     "end_time": "2022-01-11T10:20:12.177042",
     "exception": false,
     "start_time": "2022-01-11T10:20:12.160133",
     "status": "completed"
    },
    "tags": []
   },
   "source": [
    "## Model"
   ]
  },
  {
   "cell_type": "code",
   "execution_count": 10,
   "id": "73d38343",
   "metadata": {
    "execution": {
     "iopub.execute_input": "2022-01-11T10:20:12.216037Z",
     "iopub.status.busy": "2022-01-11T10:20:12.215226Z",
     "iopub.status.idle": "2022-01-11T10:20:12.226284Z",
     "shell.execute_reply": "2022-01-11T10:20:12.226741Z"
    },
    "id": "ZNuXGIdD5kdU",
    "papermill": {
     "duration": 0.032942,
     "end_time": "2022-01-11T10:20:12.226954",
     "exception": false,
     "start_time": "2022-01-11T10:20:12.194012",
     "status": "completed"
    },
    "tags": []
   },
   "outputs": [],
   "source": [
    "model = CNN(\n",
    "    number_of_classes=config[\"number_of_classes\"],\n",
    "    vocab_size=vocabulary.__len__(),\n",
    "    embedding_dim=config[\"embedding_dim\"],\n",
    "    input_len=max_tok_len\n",
    ").to(device)"
   ]
  },
  {
   "cell_type": "markdown",
   "id": "40d61148",
   "metadata": {
    "id": "1pqIm92h5kdV",
    "papermill": {
     "duration": 0.020145,
     "end_time": "2022-01-11T10:20:12.270702",
     "exception": false,
     "start_time": "2022-01-11T10:20:12.250557",
     "status": "completed"
    },
    "tags": []
   },
   "source": [
    "## Training"
   ]
  },
  {
   "cell_type": "code",
   "execution_count": 11,
   "id": "031c841f",
   "metadata": {
    "colab": {
     "base_uri": "https://localhost:8080/"
    },
    "execution": {
     "iopub.execute_input": "2022-01-11T10:20:12.322167Z",
     "iopub.status.busy": "2022-01-11T10:20:12.320327Z",
     "iopub.status.idle": "2022-01-11T10:24:57.368580Z",
     "shell.execute_reply": "2022-01-11T10:24:57.369122Z"
    },
    "id": "uvO_-RFm5kdV",
    "outputId": "7799e5f9-78a7-4ef2-95e8-f06751912eda",
    "papermill": {
     "duration": 285.072687,
     "end_time": "2022-01-11T10:24:57.369979",
     "exception": false,
     "start_time": "2022-01-11T10:20:12.297292",
     "status": "completed"
    },
    "tags": []
   },
   "outputs": [
    {
     "name": "stdout",
     "output_type": "stream",
     "text": [
      "Epoch 0\n"
     ]
    },
    {
     "name": "stderr",
     "output_type": "stream",
     "text": [
      "/Users/katarina/Documents/repositories/GitHub/GLP/src/glp/tokenizers/utils.py:27: UserWarning: To copy construct from a tensor, it is recommended to use sourceTensor.clone().detach() or sourceTensor.clone().detach().requires_grad_(True), rather than torch.tensor(sourceTensor).\n",
      "  x = torch.tensor(pad(x), dtype=torch.long)\n"
     ]
    },
    {
     "name": "stdout",
     "output_type": "stream",
     "text": [
      "Train metrics: \n",
      " Accuracy: 66.9%, Avg loss: 0.642733 \n",
      "\n",
      "Epoch 1\n"
     ]
    },
    {
     "name": "stdout",
     "output_type": "stream",
     "text": [
      "Train metrics: \n",
      " Accuracy: 69.9%, Avg loss: 0.635220 \n",
      "\n",
      "Epoch 2\n"
     ]
    },
    {
     "name": "stdout",
     "output_type": "stream",
     "text": [
      "Train metrics: \n",
      " Accuracy: 71.1%, Avg loss: 0.627893 \n",
      "\n",
      "Epoch 3\n"
     ]
    },
    {
     "name": "stdout",
     "output_type": "stream",
     "text": [
      "Train metrics: \n",
      " Accuracy: 71.1%, Avg loss: 0.626039 \n",
      "\n",
      "Epoch 4\n"
     ]
    },
    {
     "name": "stdout",
     "output_type": "stream",
     "text": [
      "Train metrics: \n",
      " Accuracy: 74.1%, Avg loss: 0.620532 \n",
      "\n"
     ]
    }
   ],
   "source": [
    "model.train(train_loader, epochs=config[\"epochs\"])"
   ]
  },
  {
   "cell_type": "markdown",
   "id": "e1d74878",
   "metadata": {
    "id": "bR2tamrc5kdV",
    "papermill": {
     "duration": 0.02267,
     "end_time": "2022-01-11T10:24:57.414642",
     "exception": false,
     "start_time": "2022-01-11T10:24:57.391972",
     "status": "completed"
    },
    "tags": []
   },
   "source": [
    "## Testing"
   ]
  },
  {
   "cell_type": "code",
   "execution_count": 12,
   "id": "d3415ea2",
   "metadata": {
    "colab": {
     "base_uri": "https://localhost:8080/"
    },
    "execution": {
     "iopub.execute_input": "2022-01-11T10:24:57.466887Z",
     "iopub.status.busy": "2022-01-11T10:24:57.465649Z",
     "iopub.status.idle": "2022-01-11T10:25:05.049044Z",
     "shell.execute_reply": "2022-01-11T10:25:05.049619Z"
    },
    "id": "wbnciyRK5kdW",
    "outputId": "d2592f9d-f074-465f-95f8-df3b759ae068",
    "papermill": {
     "duration": 7.616114,
     "end_time": "2022-01-11T10:25:05.049897",
     "exception": false,
     "start_time": "2022-01-11T10:24:57.433783",
     "status": "completed"
    },
    "tags": []
   },
   "outputs": [
    {
     "name": "stdout",
     "output_type": "stream",
     "text": [
      "p  3474 ; tp  2065.9900700449944 ; fp  840.5472082160413\n",
      "recall  0.594700653438398 ; precision  0.7108080414096957\n",
      "num_batches 218\n",
      "correct 4708\n",
      "size 6948\n",
      "Test metrics: \n",
      " Accuracy: 0.677605, F1 score: 0.647591, Avg loss: 0.653015 \n",
      "\n"
     ]
    },
    {
     "data": {
      "text/plain": [
       "(0.6776050662061025, 0.647591254449363)"
      ]
     },
     "execution_count": 12,
     "metadata": {},
     "output_type": "execute_result"
    }
   ],
   "source": [
    "test_dset = get_dataset(config[\"dataset\"], 'test')\n",
    "test_loader = DataLoader(test_dset, batch_size=config[\"batch_size\"], shuffle=True, collate_fn=collate)\n",
    "\n",
    "acc, f1 = model.test(test_loader)\n",
    "acc, f1"
   ]
  }
 ],
 "metadata": {
  "accelerator": "TPU",
  "colab": {
   "name": "torch_cnn_classifier.ipynb",
   "provenance": []
  },
  "environment": {
   "name": "pytorch-gpu.1-9.m75",
   "type": "gcloud",
   "uri": "gcr.io/deeplearning-platform-release/pytorch-gpu.1-9:m75"
  },
  "interpreter": {
   "hash": "9828b828580f1cac1b571b33de6cff8bacecc8916095e1bcbc967952ca7105b7"
  },
  "kernelspec": {
   "display_name": "Python 3",
   "name": "python3"
  },
  "language_info": {
   "codemirror_mode": {
    "name": "ipython",
    "version": 3
   },
   "file_extension": ".py",
   "mimetype": "text/x-python",
   "name": "python",
   "nbconvert_exporter": "python",
   "pygments_lexer": "ipython3",
   "version": "3.8.9"
  },
  "papermill": {
   "default_parameters": {},
   "duration": 321.125261,
   "end_time": "2022-01-11T10:25:05.789657",
   "environment_variables": {},
   "exception": null,
   "input_path": "torch_cnn.ipynb",
   "output_path": "../torch_cnn_experiments/human_enhancers_cohn_kmer_3.ipynb",
   "parameters": {
    "DATASET": "human_enhancers_cohn",
    "KMER": 3,
    "TOKENIZER": "kmer"
   },
   "start_time": "2022-01-11T10:19:44.664396",
   "version": "2.3.3"
  }
 },
 "nbformat": 4,
 "nbformat_minor": 5
}