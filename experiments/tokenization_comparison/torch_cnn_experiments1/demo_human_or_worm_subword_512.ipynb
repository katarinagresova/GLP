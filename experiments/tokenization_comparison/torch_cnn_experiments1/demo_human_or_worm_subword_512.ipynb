{
 "cells": [
  {
   "cell_type": "markdown",
   "id": "dc33854b",
   "metadata": {
    "id": "SKOD9lvq5kdM",
    "papermill": {
     "duration": 0.018119,
     "end_time": "2022-01-11T15:48:26.745334",
     "exception": false,
     "start_time": "2022-01-11T15:48:26.727215",
     "status": "completed"
    },
    "tags": []
   },
   "source": [
    "# PYTORCH CNN Classifier"
   ]
  },
  {
   "cell_type": "code",
   "execution_count": 1,
   "id": "41d73a87",
   "metadata": {
    "execution": {
     "iopub.execute_input": "2022-01-11T15:48:26.784374Z",
     "iopub.status.busy": "2022-01-11T15:48:26.783612Z",
     "iopub.status.idle": "2022-01-11T15:48:26.787415Z",
     "shell.execute_reply": "2022-01-11T15:48:26.787928Z"
    },
    "id": "E8prt3AL5kdO",
    "papermill": {
     "duration": 0.027983,
     "end_time": "2022-01-11T15:48:26.788362",
     "exception": false,
     "start_time": "2022-01-11T15:48:26.760379",
     "status": "completed"
    },
    "tags": [
     "parameters"
    ]
   },
   "outputs": [],
   "source": [
    "DATASET = 'none'\n",
    "VOCAB_SIZE = 0\n",
    "TOKENIZER = 'none'\n",
    "KMER = 0"
   ]
  },
  {
   "cell_type": "code",
   "execution_count": 2,
   "id": "ed631f90",
   "metadata": {
    "execution": {
     "iopub.execute_input": "2022-01-11T15:48:26.821178Z",
     "iopub.status.busy": "2022-01-11T15:48:26.820302Z",
     "iopub.status.idle": "2022-01-11T15:48:26.822883Z",
     "shell.execute_reply": "2022-01-11T15:48:26.823344Z"
    },
    "papermill": {
     "duration": 0.020524,
     "end_time": "2022-01-11T15:48:26.823600",
     "exception": false,
     "start_time": "2022-01-11T15:48:26.803076",
     "status": "completed"
    },
    "tags": [
     "injected-parameters"
    ]
   },
   "outputs": [],
   "source": [
    "# Parameters\n",
    "DATASET = \"demo_human_or_worm\"\n",
    "TOKENIZER = \"subword\"\n",
    "VOCAB_SIZE = 512\n"
   ]
  },
  {
   "cell_type": "code",
   "execution_count": 3,
   "id": "3ea3c4f8",
   "metadata": {
    "colab": {
     "base_uri": "https://localhost:8080/"
    },
    "execution": {
     "iopub.execute_input": "2022-01-11T15:48:26.854684Z",
     "iopub.status.busy": "2022-01-11T15:48:26.853789Z",
     "iopub.status.idle": "2022-01-11T15:48:26.857000Z",
     "shell.execute_reply": "2022-01-11T15:48:26.857461Z"
    },
    "id": "rohBItfR5kdP",
    "outputId": "7da7aafe-0858-48be-bf7d-f698784d88df",
    "papermill": {
     "duration": 0.020985,
     "end_time": "2022-01-11T15:48:26.857665",
     "exception": false,
     "start_time": "2022-01-11T15:48:26.836680",
     "status": "completed"
    },
    "tags": []
   },
   "outputs": [
    {
     "name": "stdout",
     "output_type": "stream",
     "text": [
      "demo_human_or_worm 512 subword 0\n"
     ]
    }
   ],
   "source": [
    "print(DATASET, VOCAB_SIZE, TOKENIZER, KMER)"
   ]
  },
  {
   "cell_type": "markdown",
   "id": "b76d18dc",
   "metadata": {
    "id": "Y-YQrVyb5kdQ",
    "papermill": {
     "duration": 0.015588,
     "end_time": "2022-01-11T15:48:26.887458",
     "exception": false,
     "start_time": "2022-01-11T15:48:26.871870",
     "status": "completed"
    },
    "tags": []
   },
   "source": [
    "## Config"
   ]
  },
  {
   "cell_type": "code",
   "execution_count": 4,
   "id": "7c703307",
   "metadata": {
    "execution": {
     "iopub.execute_input": "2022-01-11T15:48:26.922322Z",
     "iopub.status.busy": "2022-01-11T15:48:26.921484Z",
     "iopub.status.idle": "2022-01-11T15:48:28.672448Z",
     "shell.execute_reply": "2022-01-11T15:48:28.672966Z"
    },
    "id": "FIunuyGk5kdR",
    "papermill": {
     "duration": 1.770415,
     "end_time": "2022-01-11T15:48:28.673182",
     "exception": false,
     "start_time": "2022-01-11T15:48:26.902767",
     "status": "completed"
    },
    "tags": []
   },
   "outputs": [],
   "source": [
    "import torch\n",
    "from torch.utils.data import DataLoader\n",
    "\n",
    "from genomic_benchmarks.dataset_getters.pytorch_datasets import get_dataset\n",
    "from glp.models import CNN\n",
    "from glp.tokenizers import get_tokenizer\n",
    "from glp.tokenizers.utils import build_vocab, coll_factory, check_config, check_seq_lengths"
   ]
  },
  {
   "cell_type": "code",
   "execution_count": 5,
   "id": "d61e8ddd",
   "metadata": {
    "execution": {
     "iopub.execute_input": "2022-01-11T15:48:28.716988Z",
     "iopub.status.busy": "2022-01-11T15:48:28.716144Z",
     "iopub.status.idle": "2022-01-11T15:48:28.718730Z",
     "shell.execute_reply": "2022-01-11T15:48:28.718011Z"
    },
    "id": "UgXiF6Zz5kdR",
    "papermill": {
     "duration": 0.029995,
     "end_time": "2022-01-11T15:48:28.718912",
     "exception": false,
     "start_time": "2022-01-11T15:48:28.688917",
     "status": "completed"
    },
    "tags": []
   },
   "outputs": [],
   "source": [
    "config = {\n",
    "    \"dataset\": DATASET,\n",
    "    \"tokenizer\": TOKENIZER,\n",
    "    \"dataset_version\": 0,\n",
    "    \"epochs\": 5,\n",
    "    \"batch_size\": 32,\n",
    "    \"use_padding\": True,\n",
    "    \"force_download\": False,\n",
    "    \"run_on_gpu\": True,\n",
    "    \"number_of_classes\": 2,\n",
    "    \"embedding_dim\": 100,\n",
    "}\n",
    "check_config(config)"
   ]
  },
  {
   "cell_type": "markdown",
   "id": "6f14c55c",
   "metadata": {
    "id": "AUWF-avz5kdS",
    "papermill": {
     "duration": 0.017126,
     "end_time": "2022-01-11T15:48:28.753039",
     "exception": false,
     "start_time": "2022-01-11T15:48:28.735913",
     "status": "completed"
    },
    "tags": []
   },
   "source": [
    "## Choose the dataset"
   ]
  },
  {
   "cell_type": "code",
   "execution_count": 6,
   "id": "5f83b21b",
   "metadata": {
    "colab": {
     "base_uri": "https://localhost:8080/"
    },
    "execution": {
     "iopub.execute_input": "2022-01-11T15:48:28.789160Z",
     "iopub.status.busy": "2022-01-11T15:48:28.788189Z",
     "iopub.status.idle": "2022-01-11T15:48:29.283809Z",
     "shell.execute_reply": "2022-01-11T15:48:29.284276Z"
    },
    "id": "1oaryDJr5kdS",
    "outputId": "6a425df9-4092-4601-9cd9-f61d524b6278",
    "papermill": {
     "duration": 0.516696,
     "end_time": "2022-01-11T15:48:29.284471",
     "exception": false,
     "start_time": "2022-01-11T15:48:28.767775",
     "status": "completed"
    },
    "tags": []
   },
   "outputs": [],
   "source": [
    "train_dset = get_dataset(config[\"dataset\"], 'train')"
   ]
  },
  {
   "cell_type": "markdown",
   "id": "97f57f97",
   "metadata": {
    "id": "B0lqmy935kdS",
    "papermill": {
     "duration": 0.01727,
     "end_time": "2022-01-11T15:48:29.316090",
     "exception": false,
     "start_time": "2022-01-11T15:48:29.298820",
     "status": "completed"
    },
    "tags": []
   },
   "source": [
    "## Tokenizer and vocab"
   ]
  },
  {
   "cell_type": "code",
   "execution_count": 7,
   "id": "685fafb3",
   "metadata": {
    "colab": {
     "base_uri": "https://localhost:8080/"
    },
    "execution": {
     "iopub.execute_input": "2022-01-11T15:48:29.353682Z",
     "iopub.status.busy": "2022-01-11T15:48:29.352557Z",
     "iopub.status.idle": "2022-01-11T17:17:35.981106Z",
     "shell.execute_reply": "2022-01-11T17:17:35.981853Z"
    },
    "id": "NY_zualp5kdT",
    "outputId": "9034d65f-2f9a-4c83-a314-13d3b808fc65",
    "papermill": {
     "duration": 5346.649606,
     "end_time": "2022-01-11T17:17:35.982571",
     "exception": false,
     "start_time": "2022-01-11T15:48:29.332965",
     "status": "completed"
    },
    "tags": []
   },
   "outputs": [
    {
     "name": "stderr",
     "output_type": "stream",
     "text": [
      "sentencepiece_trainer.cc(177) LOG(INFO) Running command: --input=sample.csv --model_prefix=sample --vocab_size=512 --model_type=unigram\n",
      "sentencepiece_trainer.cc(77) LOG(INFO) Starts training with : \n",
      "trainer_spec {\n",
      "  input: sample.csv\n",
      "  input_format: \n",
      "  model_prefix: sample\n",
      "  model_type: UNIGRAM\n",
      "  vocab_size: 512\n",
      "  self_test_sample_size: 0\n",
      "  character_coverage: 0.9995\n",
      "  input_sentence_size: 0\n",
      "  shuffle_input_sentence: 1\n",
      "  seed_sentencepiece_size: 1000000\n",
      "  shrinking_factor: 0.75\n",
      "  max_sentence_length: 4192\n",
      "  num_threads: 16\n",
      "  num_sub_iterations: 2\n",
      "  max_sentencepiece_length: 16\n",
      "  split_by_unicode_script: 1\n",
      "  split_by_number: 1\n",
      "  split_by_whitespace: 1\n",
      "  split_digits: 0\n",
      "  treat_whitespace_as_suffix: 0\n",
      "  required_chars: \n",
      "  byte_fallback: 0\n",
      "  vocabulary_output_piece_score: 1\n",
      "  train_extremely_large_corpus: 0\n",
      "  hard_vocab_limit: 1\n",
      "  use_all_vocab: 0\n",
      "  unk_id: 0\n",
      "  bos_id: 1\n",
      "  eos_id: 2\n",
      "  pad_id: -1\n",
      "  unk_piece: <unk>\n",
      "  bos_piece: <s>\n",
      "  eos_piece: </s>\n",
      "  pad_piece: <pad>\n",
      "  unk_surface:  ⁇ \n",
      "}\n",
      "normalizer_spec {\n",
      "  name: nmt_nfkc\n",
      "  add_dummy_prefix: 1\n",
      "  remove_extra_whitespaces: 1\n",
      "  escape_whitespaces: 1\n",
      "  normalization_rule_tsv: \n",
      "}\n",
      "denormalizer_spec {}\n",
      "trainer_interface.cc(319) LOG(INFO) SentenceIterator is not specified. Using MultiFileSentenceIterator.\n",
      "trainer_interface.cc(174) LOG(INFO) Loading corpus: sample.csv\n",
      "trainer_interface.cc(375) LOG(INFO) Loaded all 75000 sentences\n",
      "trainer_interface.cc(390) LOG(INFO) Adding meta_piece: <unk>\n",
      "trainer_interface.cc(390) LOG(INFO) Adding meta_piece: <s>\n",
      "trainer_interface.cc(390) LOG(INFO) Adding meta_piece: </s>\n",
      "trainer_interface.cc(395) LOG(INFO) Normalizing sentences...\n"
     ]
    },
    {
     "name": "stderr",
     "output_type": "stream",
     "text": [
      "trainer_interface.cc(456) LOG(INFO) all chars count=15074802\n",
      "trainer_interface.cc(467) LOG(INFO) Done: 100% characters are covered.\n",
      "trainer_interface.cc(477) LOG(INFO) Alphabet size=6\n",
      "trainer_interface.cc(478) LOG(INFO) Final character coverage=1\n"
     ]
    },
    {
     "name": "stderr",
     "output_type": "stream",
     "text": [
      "trainer_interface.cc(510) LOG(INFO) Done! preprocessed 75000 sentences.\n"
     ]
    },
    {
     "name": "stderr",
     "output_type": "stream",
     "text": [
      "unigram_model_trainer.cc(138) LOG(INFO) Making suffix array...\n"
     ]
    },
    {
     "name": "stderr",
     "output_type": "stream",
     "text": [
      "unigram_model_trainer.cc(142) LOG(INFO) Extracting frequent sub strings...\n"
     ]
    },
    {
     "name": "stderr",
     "output_type": "stream",
     "text": [
      "unigram_model_trainer.cc(193) LOG(INFO) Initialized 1000000 seed sentencepieces\n"
     ]
    },
    {
     "name": "stderr",
     "output_type": "stream",
     "text": [
      "trainer_interface.cc(516) LOG(INFO) Tokenizing input sentences with whitespace: 75000\n"
     ]
    },
    {
     "name": "stderr",
     "output_type": "stream",
     "text": [
      "trainer_interface.cc(526) LOG(INFO) Done! 73109\n",
      "unigram_model_trainer.cc(488) LOG(INFO) Using 73109 sentences for EM training\n"
     ]
    },
    {
     "name": "stderr",
     "output_type": "stream",
     "text": [
      "unigram_model_trainer.cc(504) LOG(INFO) EM sub_iter=0 size=615634 obj=263.975 num_tokens=1523674 num_tokens/piece=2.47497\n"
     ]
    },
    {
     "name": "stderr",
     "output_type": "stream",
     "text": [
      "unigram_model_trainer.cc(504) LOG(INFO) EM sub_iter=1 size=432903 obj=264.111 num_tokens=1607807 num_tokens/piece=3.71401\n"
     ]
    },
    {
     "name": "stderr",
     "output_type": "stream",
     "text": [
      "unigram_model_trainer.cc(504) LOG(INFO) EM sub_iter=0 size=280345 obj=263.272 num_tokens=1662269 num_tokens/piece=5.92937\n"
     ]
    },
    {
     "name": "stderr",
     "output_type": "stream",
     "text": [
      "unigram_model_trainer.cc(504) LOG(INFO) EM sub_iter=1 size=255347 obj=260.477 num_tokens=1694304 num_tokens/piece=6.6353\n"
     ]
    },
    {
     "name": "stderr",
     "output_type": "stream",
     "text": [
      "unigram_model_trainer.cc(504) LOG(INFO) EM sub_iter=0 size=188520 obj=261.101 num_tokens=1730663 num_tokens/piece=9.18026\n"
     ]
    },
    {
     "name": "stderr",
     "output_type": "stream",
     "text": [
      "unigram_model_trainer.cc(504) LOG(INFO) EM sub_iter=1 size=183877 obj=259.479 num_tokens=1741958 num_tokens/piece=9.4735\n"
     ]
    },
    {
     "name": "stderr",
     "output_type": "stream",
     "text": [
      "unigram_model_trainer.cc(504) LOG(INFO) EM sub_iter=0 size=137880 obj=260.582 num_tokens=1779032 num_tokens/piece=12.9028\n"
     ]
    },
    {
     "name": "stderr",
     "output_type": "stream",
     "text": [
      "unigram_model_trainer.cc(504) LOG(INFO) EM sub_iter=1 size=137706 obj=259.09 num_tokens=1782251 num_tokens/piece=12.9424\n"
     ]
    },
    {
     "name": "stderr",
     "output_type": "stream",
     "text": [
      "unigram_model_trainer.cc(504) LOG(INFO) EM sub_iter=0 size=103277 obj=261.112 num_tokens=1830635 num_tokens/piece=17.7255\n"
     ]
    },
    {
     "name": "stderr",
     "output_type": "stream",
     "text": [
      "unigram_model_trainer.cc(504) LOG(INFO) EM sub_iter=1 size=103270 obj=259.064 num_tokens=1831554 num_tokens/piece=17.7356\n"
     ]
    },
    {
     "name": "stderr",
     "output_type": "stream",
     "text": [
      "unigram_model_trainer.cc(504) LOG(INFO) EM sub_iter=0 size=77451 obj=261.748 num_tokens=1888857 num_tokens/piece=24.3878\n"
     ]
    },
    {
     "name": "stderr",
     "output_type": "stream",
     "text": [
      "unigram_model_trainer.cc(504) LOG(INFO) EM sub_iter=1 size=77449 obj=259.449 num_tokens=1889327 num_tokens/piece=24.3945\n"
     ]
    },
    {
     "name": "stderr",
     "output_type": "stream",
     "text": [
      "unigram_model_trainer.cc(504) LOG(INFO) EM sub_iter=0 size=58086 obj=262.394 num_tokens=1948317 num_tokens/piece=33.5419\n"
     ]
    },
    {
     "name": "stderr",
     "output_type": "stream",
     "text": [
      "unigram_model_trainer.cc(504) LOG(INFO) EM sub_iter=1 size=58085 obj=260.069 num_tokens=1948788 num_tokens/piece=33.5506\n"
     ]
    },
    {
     "name": "stderr",
     "output_type": "stream",
     "text": [
      "unigram_model_trainer.cc(504) LOG(INFO) EM sub_iter=0 size=43563 obj=263.026 num_tokens=2006108 num_tokens/piece=46.0507\n"
     ]
    },
    {
     "name": "stderr",
     "output_type": "stream",
     "text": [
      "unigram_model_trainer.cc(504) LOG(INFO) EM sub_iter=1 size=43563 obj=260.849 num_tokens=2006704 num_tokens/piece=46.0644\n"
     ]
    },
    {
     "name": "stderr",
     "output_type": "stream",
     "text": [
      "unigram_model_trainer.cc(504) LOG(INFO) EM sub_iter=0 size=32672 obj=263.668 num_tokens=2062112 num_tokens/piece=63.1156\n"
     ]
    },
    {
     "name": "stderr",
     "output_type": "stream",
     "text": [
      "unigram_model_trainer.cc(504) LOG(INFO) EM sub_iter=1 size=32672 obj=261.603 num_tokens=2062878 num_tokens/piece=63.139\n"
     ]
    },
    {
     "name": "stderr",
     "output_type": "stream",
     "text": [
      "unigram_model_trainer.cc(504) LOG(INFO) EM sub_iter=0 size=24504 obj=264.388 num_tokens=2120186 num_tokens/piece=86.5241\n"
     ]
    },
    {
     "name": "stderr",
     "output_type": "stream",
     "text": [
      "unigram_model_trainer.cc(504) LOG(INFO) EM sub_iter=1 size=24504 obj=262.356 num_tokens=2120966 num_tokens/piece=86.5559\n"
     ]
    },
    {
     "name": "stderr",
     "output_type": "stream",
     "text": [
      "unigram_model_trainer.cc(504) LOG(INFO) EM sub_iter=0 size=18378 obj=265.228 num_tokens=2182532 num_tokens/piece=118.758\n"
     ]
    },
    {
     "name": "stderr",
     "output_type": "stream",
     "text": [
      "unigram_model_trainer.cc(504) LOG(INFO) EM sub_iter=1 size=18378 obj=263.091 num_tokens=2183241 num_tokens/piece=118.796\n"
     ]
    },
    {
     "name": "stderr",
     "output_type": "stream",
     "text": [
      "unigram_model_trainer.cc(504) LOG(INFO) EM sub_iter=0 size=13783 obj=266.021 num_tokens=2247574 num_tokens/piece=163.069\n"
     ]
    },
    {
     "name": "stderr",
     "output_type": "stream",
     "text": [
      "unigram_model_trainer.cc(504) LOG(INFO) EM sub_iter=1 size=13783 obj=263.682 num_tokens=2248379 num_tokens/piece=163.127\n"
     ]
    },
    {
     "name": "stderr",
     "output_type": "stream",
     "text": [
      "unigram_model_trainer.cc(504) LOG(INFO) EM sub_iter=0 size=10337 obj=266.68 num_tokens=2317782 num_tokens/piece=224.222\n"
     ]
    },
    {
     "name": "stderr",
     "output_type": "stream",
     "text": [
      "unigram_model_trainer.cc(504) LOG(INFO) EM sub_iter=1 size=10337 obj=264.216 num_tokens=2318537 num_tokens/piece=224.295\n"
     ]
    },
    {
     "name": "stderr",
     "output_type": "stream",
     "text": [
      "unigram_model_trainer.cc(504) LOG(INFO) EM sub_iter=0 size=7752 obj=267.335 num_tokens=2392945 num_tokens/piece=308.687\n"
     ]
    },
    {
     "name": "stderr",
     "output_type": "stream",
     "text": [
      "unigram_model_trainer.cc(504) LOG(INFO) EM sub_iter=1 size=7752 obj=264.662 num_tokens=2393924 num_tokens/piece=308.814\n"
     ]
    },
    {
     "name": "stderr",
     "output_type": "stream",
     "text": [
      "unigram_model_trainer.cc(504) LOG(INFO) EM sub_iter=0 size=5814 obj=268.043 num_tokens=2472700 num_tokens/piece=425.301\n"
     ]
    },
    {
     "name": "stderr",
     "output_type": "stream",
     "text": [
      "unigram_model_trainer.cc(504) LOG(INFO) EM sub_iter=1 size=5814 obj=265.154 num_tokens=2473779 num_tokens/piece=425.487\n"
     ]
    },
    {
     "name": "stderr",
     "output_type": "stream",
     "text": [
      "unigram_model_trainer.cc(504) LOG(INFO) EM sub_iter=0 size=4360 obj=268.791 num_tokens=2557988 num_tokens/piece=586.694\n"
     ]
    },
    {
     "name": "stderr",
     "output_type": "stream",
     "text": [
      "unigram_model_trainer.cc(504) LOG(INFO) EM sub_iter=1 size=4360 obj=265.678 num_tokens=2558917 num_tokens/piece=586.908\n"
     ]
    },
    {
     "name": "stderr",
     "output_type": "stream",
     "text": [
      "unigram_model_trainer.cc(504) LOG(INFO) EM sub_iter=0 size=3270 obj=269.693 num_tokens=2650996 num_tokens/piece=810.702\n"
     ]
    },
    {
     "name": "stderr",
     "output_type": "stream",
     "text": [
      "unigram_model_trainer.cc(504) LOG(INFO) EM sub_iter=1 size=3270 obj=266.096 num_tokens=2652193 num_tokens/piece=811.068\n"
     ]
    },
    {
     "name": "stderr",
     "output_type": "stream",
     "text": [
      "unigram_model_trainer.cc(504) LOG(INFO) EM sub_iter=0 size=2452 obj=270.515 num_tokens=2751192 num_tokens/piece=1122.02\n"
     ]
    },
    {
     "name": "stderr",
     "output_type": "stream",
     "text": [
      "unigram_model_trainer.cc(504) LOG(INFO) EM sub_iter=1 size=2452 obj=266.522 num_tokens=2752409 num_tokens/piece=1122.52\n"
     ]
    },
    {
     "name": "stderr",
     "output_type": "stream",
     "text": [
      "unigram_model_trainer.cc(504) LOG(INFO) EM sub_iter=0 size=1839 obj=270.958 num_tokens=2854434 num_tokens/piece=1552.17\n"
     ]
    },
    {
     "name": "stderr",
     "output_type": "stream",
     "text": [
      "unigram_model_trainer.cc(504) LOG(INFO) EM sub_iter=1 size=1839 obj=266.785 num_tokens=2855582 num_tokens/piece=1552.79\n"
     ]
    },
    {
     "name": "stderr",
     "output_type": "stream",
     "text": [
      "unigram_model_trainer.cc(504) LOG(INFO) EM sub_iter=0 size=1379 obj=272.786 num_tokens=2964765 num_tokens/piece=2149.94\n"
     ]
    },
    {
     "name": "stderr",
     "output_type": "stream",
     "text": [
      "unigram_model_trainer.cc(504) LOG(INFO) EM sub_iter=1 size=1379 obj=267.191 num_tokens=2965693 num_tokens/piece=2150.61\n"
     ]
    },
    {
     "name": "stderr",
     "output_type": "stream",
     "text": [
      "unigram_model_trainer.cc(504) LOG(INFO) EM sub_iter=0 size=1034 obj=273.21 num_tokens=3085015 num_tokens/piece=2983.57\n"
     ]
    },
    {
     "name": "stderr",
     "output_type": "stream",
     "text": [
      "unigram_model_trainer.cc(504) LOG(INFO) EM sub_iter=1 size=1034 obj=267.494 num_tokens=3086021 num_tokens/piece=2984.55\n"
     ]
    },
    {
     "name": "stderr",
     "output_type": "stream",
     "text": [
      "unigram_model_trainer.cc(504) LOG(INFO) EM sub_iter=0 size=775 obj=274.61 num_tokens=3215223 num_tokens/piece=4148.67\n"
     ]
    },
    {
     "name": "stderr",
     "output_type": "stream",
     "text": [
      "unigram_model_trainer.cc(504) LOG(INFO) EM sub_iter=1 size=775 obj=267.869 num_tokens=3216378 num_tokens/piece=4150.17\n"
     ]
    },
    {
     "name": "stderr",
     "output_type": "stream",
     "text": [
      "unigram_model_trainer.cc(504) LOG(INFO) EM sub_iter=0 size=581 obj=274.127 num_tokens=3366989 num_tokens/piece=5795.16\n"
     ]
    },
    {
     "name": "stderr",
     "output_type": "stream",
     "text": [
      "unigram_model_trainer.cc(504) LOG(INFO) EM sub_iter=1 size=581 obj=268.052 num_tokens=3368462 num_tokens/piece=5797.7\n"
     ]
    },
    {
     "name": "stderr",
     "output_type": "stream",
     "text": [
      "unigram_model_trainer.cc(504) LOG(INFO) EM sub_iter=0 size=563 obj=268.552 num_tokens=3385538 num_tokens/piece=6013.39\n"
     ]
    },
    {
     "name": "stderr",
     "output_type": "stream",
     "text": [
      "unigram_model_trainer.cc(504) LOG(INFO) EM sub_iter=1 size=563 obj=267.906 num_tokens=3388941 num_tokens/piece=6019.43\n",
      "trainer_interface.cc(604) LOG(INFO) Saving model: sample.model\n",
      "trainer_interface.cc(615) LOG(INFO) Saving vocabs: sample.vocab\n"
     ]
    },
    {
     "name": "stdout",
     "output_type": "stream",
     "text": [
      "vocab len: 511\n",
      "{'<pad>': 510, 'NNNNNNNNNNNNNNNN': 509, 'N': 508, 'T': 507, 'C': 505, 'CCTGG': 504, 'CCTCCC': 503, 'CTCCTG': 502, 'GCAAT': 501, 'CAGCA': 500, 'TCTTT': 499, 'GGCC': 498, 'TACC': 497, 'ACAGT': 493, 'CTGAG': 492, 'GTTGG': 490, 'TTGAT': 488, 'CCAGG': 487, 'TTCCT': 486, 'AAC': 485, 'AAT': 483, 'GGCAA': 481, 'A': 480, 'TCCAG': 479, 'TCTCA': 478, 'CAG': 477, 'CTCTC': 474, 'ATA': 475, 'CTTTG': 471, 'CTACT': 470, 'CTCAA': 468, 'AGAGA': 465, 'CTCCA': 463, 'CTTGG': 460, 'ACATG': 459, 'AAGAA': 457, 'ATCCA': 455, 'CCGG': 454, 'AACTT': 453, 'GCACA': 448, 'TATTTT': 445, 'TGATG': 444, 'AAAGA': 443, 'AATT': 441, 'GCCG': 439, 'TGTAT': 438, 'TTTTGT': 489, 'GGAAG': 437, 'GAGAA': 436, 'AATGG': 434, 'ATCA': 433, 'TCTG': 432, 'TCATC': 431, 'GGAC': 430, 'TGCAA': 427, 'GTG': 426, 'TTCAT': 425, 'CTGC': 423, 'GCAAA': 422, 'CGAC': 421, 'AATTC': 420, 'ACTTG': 418, 'TGAAT': 417, 'G': 506, 'ATTTTC': 414, 'TATC': 413, 'GCAC': 412, 'TGTGT': 411, 'CGGC': 410, 'GAGTT': 409, 'ATTAT': 407, 'CATGA': 452, 'TCATT': 406, 'CAAAAA': 405, 'TTT': 402, 'CTATT': 401, 'TCAAA': 400, 'TCAC': 399, 'TTAC': 398, 'CTCAG': 397, 'GTTC': 395, 'AGCCA': 310, 'ATGT': 394, 'CAATT': 428, 'AGAAAA': 393, 'CATGC': 386, 'ATTTA': 380, 'GAAGA': 12, 'CTCTT': 379, 'GCTTC': 377, 'TTTTT': 3, 'TTTA': 374, 'GAAAG': 370, 'AAAC': 47, 'GTGTG': 106, 'TCA': 307, 'AAAAG': 363, 'CCCA': 360, 'ACGT': 251, 'GTCG': 96, 'ACAT': 356, 'TTTTC': 355, 'CTTGA': 122, 'AAGA': 351, 'TATG': 429, 'AAAAAAAAA': 353, 'CACG': 216, 'CTTTT': 146, 'TTTTTG': 349, 'GGTA': 388, 'ATTTT': 348, 'CCTA': 337, 'TGTT': 335, 'ACAAT': 482, 'TGGGA': 333, 'CCCC': 332, 'AGGCA': 329, 'AGGA': 25, 'GAGT': 325, 'GT': 328, 'GTCT': 101, 'ATTTG': 258, 'CCTTC': 323, 'GGATG': 476, 'CACAA': 232, 'TCTAT': 318, 'CTCTG': 316, 'GGA': 313, 'ATATAT': 312, 'GATC': 305, 'GAAA': 408, 'TTCTG': 302, 'TTCT': 391, 'GAAT': 155, 'GGC': 300, 'AACAA': 299, 'TGCCT': 298, 'TTTCT': 297, '▁A': 287, 'CGAG': 294, 'CAAG': 38, 'TCTA': 289, 'AAAACA': 286, 'ATTC': 63, 'CTCC': 285, 'CAAAT': 148, 'TGTC': 284, 'GTTTC': 217, 'CCTTG': 281, 'CCAAA': 330, 'GGT': 280, 'CCAGC': 94, 'CAGT': 278, 'GCCC': 361, 'CCCT': 449, 'CATA': 319, 'CCA': 277, 'CTT': 66, 'TTTTCT': 272, 'AACC': 271, 'AAAAA': 270, 'CACTT': 450, 'ACT': 327, 'GAA': 276, 'AATCA': 269, 'ACCA': 268, 'CTCAC': 265, 'ACTG': 365, 'GCTA': 462, 'GGTC': 267, 'CACAC': 382, 'TTATT': 72, 'TCTC': 266, 'GTGG': 263, 'AAATC': 464, 'AAGTA': 145, 'AAGG': 392, 'TGCTT': 275, 'GCTG': 262, 'GGAG': 99, 'GTTT': 261, 'AAATG': 92, 'CAGAA': 354, 'ACTGT': 424, 'TTTTTA': 259, 'AGGT': 301, 'AAAAATT': 11, 'AGG': 250, 'GCC': 308, 'TTC': 249, 'CACAT': 290, 'CCG': 222, 'TAA': 247, 'TCCT': 246, 'CCCAG': 358, 'ATAAT': 415, 'ACG': 57, 'GAATG': 311, 'AGC': 243, 'GACT': 331, 'CTA': 242, 'GTAG': 241, 'TTTTGA': 350, 'GGGA': 239, 'TTTGA': 238, 'CAC': 237, 'CACAG': 236, 'TTTTCA': 384, 'ATATT': 230, 'TTCC': 229, 'CAAAG': 228, 'GAGA': 245, 'CATTG': 226, 'ATGAA': 225, 'GTTTT': 224, 'AGAAT': 223, 'GATGG': 315, 'TTTGG': 218, 'CTTCA': 369, 'TTTGC': 213, 'ATTCT': 338, 'GGTG': 212, 'CAGA': 231, 'ATTCA': 209, 'TTAAA': 15, 'TCGAT': 387, 'TTGGT': 208, 'TTG': 107, 'TCG': 204, 'AAATTT': 45, 'CAA': 282, 'ACC': 419, 'GTAAA': 203, 'GCAG': 202, 'GTCC': 447, 'AAGTT': 201, 'TGTGA': 141, 'TTGTT': 161, 'GGGC': 200, 'CAGC': 199, 'TAAG': 253, 'CAGG': 491, 'CGC': 110, '▁G': 198, 'TTTT': 9, 'ACAG': 54, 'TGAAA': 196, 'GACG': 389, 'AATAG': 326, 'AGATG': 193, 'CAGAT': 458, 'GTAAT': 75, 'AACA': 79, 'TTCA': 192, 'CGTG': 180, 'ACAGG': 304, 'CTTCC': 191, 'GAAAC': 336, 'AGGC': 188, 'CTCAT': 113, 'GATTT': 40, 'CCTC': 62, 'ATT': 133, 'CTGG': 177, 'AACAT': 309, 'AAAATT': 119, 'TCC': 127, 'TTA': 93, 'TAAC': 314, 'GAAGC': 176, 'GGTGG': 364, 'TGAC': 362, 'TCTCT': 383, 'AGA': 154, 'CATAG': 469, 'AGTT': 175, 'TGAG': 174, 'GAT': 173, 'CATCA': 172, 'CGGA': 295, 'GTCA': 167, 'ATTGC': 166, 'AAATT': 27, 'GCG': 165, 'CACTG': 396, 'CCT': 260, 'TCTTG': 144, 'ATAGA': 2, 'CTGT': 164, 'TATTA': 357, 'TGC': 162, 'AGCCT': 252, 'CATGG': 168, 'ATGG': 159, 'ATTGT': 158, 'GTGT': 240, 'AGAAG': 153, 'ACTCT': 346, 'CATTT': 23, 'ACAAA': 152, 'AAAT': 90, 'AAAAT': 151, 'TATGT': 21, 'AAATAT': 147, 'ACACA': 18, 'TGGAG': 292, 'GGGT': 484, 'CGAA': 385, 'GGCA': 435, 'ACTAA': 293, 'AGTTT': 142, 'CAGCT': 143, 'GTTTG': 367, 'GCCTG': 494, 'AATAT': 36, 'GCTTT': 344, 'TGCT': 97, 'CAGAG': 244, 'TGGAT': 163, 'CAGTG': 390, 'TTTAT': 71, 'TTGAA': 95, 'AAGAT': 140, 'TGAT': 156, 'AATCT': 137, 'TGAGA': 288, 'CTGAA': 181, 'ATAC': 134, 'GGAA': 49, 'TCGG': 375, 'ATTAA': 42, 'AAAGT': 132, 'CATC': 109, 'TCAA': 131, 'TCTT': 211, 'GAAAAA': 130, 'TGTG': 115, 'AAAAAC': 129, 'GTAT': 183, 'CATCT': 128, 'CGA': 125, 'TAATT': 179, 'AAACT': 340, 'AGTC': 221, 'GTTA': 124, 'CTG': 123, 'ACAC': 359, 'TCACA': 283, 'GAAAAT': 186, 'ATGAT': 157, 'GAGG': 73, 'ATG': 78, 'CTCG': 121, 'ACCT': 100, 'ATCT': 138, 'AAAAAT': 10, 'GATT': 118, 'AGAA': 120, 'GAAC': 114, 'TTCCA': 111, 'TTTAA': 185, 'AATTTT': 19, 'GGAAA': 257, 'GAAAT': 139, 'TGCC': 371, 'AGTGA': 442, 'ACTT': 65, 'GGG': 105, 'AGTG': 82, 'TGGC': 104, 'TCTTC': 87, 'TAGAT': 496, 'GAAAA': 102, 'CAAGT': 416, 'CTGA': 274, '▁T': 83, 'GACC': 112, 'TGAA': 178, 'AAGT': 195, 'ATGA': 347, 'GCTGGG': 403, 'TTATA': 33, 'GCTC': 85, 'CAAA': 32, 'ATCAT': 296, 'CCAC': 91, 'TATTG': 324, 'GCCAC': 279, 'TATTT': 194, 'GAG': 103, 'AGAC': 60, 'CCAA': 291, 'TTTGT': 51, 'CCAT': 81, 'AATTT': 61, 'TTTC': 14, 'AGAAA': 70, 'ACCC': 373, 'TTAG': 135, 'TCT': 446, 'ATTT': 67, 'AGAG': 376, 'TTTCA': 205, 'CAAC': 77, 'AATTA': 352, 'TCAG': 108, 'CCAG': 227, 'AATGT': 6, '▁': 1, 'ATGTT': 64, 'TGCA': 30, 'TATAG': 372, 'ATTTTG': 171, 'AATGC': 88, 'TAATTT': 215, 'ATTTTT': 55, 'CGT': 89, 'CTAC': 59, 'GGGAGG': 495, 'AATA': 58, 'CAGTT': 472, 'GCT': 404, 'ATTTTA': 53, 'TGT': 264, 'CCC': 50, 'AGCT': 170, 'GTTGT': 440, 'ACATT': 339, 'ACTAT': 74, 'TACA': 48, 'GGGG': 149, 'ACAA': 41, 'AAGC': 254, 'TTCTT': 233, 'AAAATA': 39, 'TAT': 117, 'GGCT': 184, 'GACA': 381, 'TGA': 52, 'CTTT': 44, 'TTAT': 334, 'CCGT': 189, 'GTCTC': 220, 'GAGC': 56, 'AAAAAA': 187, 'CTGTG': 451, 'TAAT': 76, 'CCCTG': 473, 'GCAT': 150, 'GCCAA': 37, 'TAC': 255, 'TCCC': 46, 'ATTGA': 80, 'ATAA': 273, 'AAA': 368, 'ATC': 69, 'AACT': 26, 'AGGG': 13, 'TAAA': 219, 'ATAAA': 206, 'GTTG': 182, 'AGCA': 43, 'AAAACT': 322, 'TAGT': 22, 'ATATTT': 235, 'ACTTT': 31, 'ATTTC': 29, 'GTGAT': 345, 'CATGT': 466, 'CAAT': 24, 'CCTTT': 303, 'GAATT': 234, 'GGTT': 256, 'CCGA': 98, 'ATCC': 378, 'TACT': 5, 'AGTA': 17, 'AAGTG': 210, 'CACT': 169, 'CAAAA': 321, 'ATAT': 214, 'CTGGA': 461, 'ACATA': 84, 'AAAA': 366, 'GAAGT': 342, 'AAG': 126, 'ATTA': 7, 'CATT': 317, 'GAAGG': 467, 'TTTTTTTTT': 197, 'CAATG': 456, 'CTC': 35, '<unk>': 0, 'TAAAAT': 320, 'ATATA': 306, 'AATGA': 20, 'TGGA': 34, 'TTCAAA': 248, 'TTTTTT': 28, 'AAATAA': 207, 'AAAG': 68, 'CAAGA': 190, 'AATTG': 86, 'CTTCT': 8, 'TGTA': 136, 'TGG': 341, 'CTAG': 160, 'CGG': 116, 'GATA': 343, 'CACC': 4, 'CAT': 16}\n"
     ]
    }
   ],
   "source": [
    "tokenizer = get_tokenizer(config['tokenizer'])\n",
    "tokenizer.train(train_dset=train_dset, vocab_size=VOCAB_SIZE, kmer=KMER)\n",
    "vocabulary = build_vocab(train_dset, tokenizer, use_padding=config[\"use_padding\"])\n",
    "\n",
    "print(\"vocab len:\" ,vocabulary.__len__())\n",
    "print(vocabulary.get_stoi())"
   ]
  },
  {
   "cell_type": "markdown",
   "id": "bab6b425",
   "metadata": {
    "id": "3hGQpSJA5kdT",
    "papermill": {
     "duration": 0.064126,
     "end_time": "2022-01-11T17:17:36.087638",
     "exception": false,
     "start_time": "2022-01-11T17:17:36.023512",
     "status": "completed"
    },
    "tags": []
   },
   "source": [
    "## Dataloader and batch preparation"
   ]
  },
  {
   "cell_type": "code",
   "execution_count": 8,
   "id": "8822c58f",
   "metadata": {
    "colab": {
     "base_uri": "https://localhost:8080/"
    },
    "execution": {
     "iopub.execute_input": "2022-01-11T17:17:36.280424Z",
     "iopub.status.busy": "2022-01-11T17:17:36.277415Z",
     "iopub.status.idle": "2022-01-11T17:18:39.329706Z",
     "shell.execute_reply": "2022-01-11T17:18:39.330263Z"
    },
    "id": "gXUgPH6q5kdT",
    "outputId": "a1eb6ba2-9bcd-416d-8662-e3516121da96",
    "papermill": {
     "duration": 63.180168,
     "end_time": "2022-01-11T17:18:39.330484",
     "exception": false,
     "start_time": "2022-01-11T17:17:36.150316",
     "status": "completed"
    },
    "tags": []
   },
   "outputs": [
    {
     "name": "stdout",
     "output_type": "stream",
     "text": [
      "Using cpu device\n"
     ]
    },
    {
     "name": "stdout",
     "output_type": "stream",
     "text": [
      "max_tok_len  65\n"
     ]
    },
    {
     "name": "stdout",
     "output_type": "stream",
     "text": [
      "not all sequences are of the same length\n"
     ]
    }
   ],
   "source": [
    "# Run on GPU or CPU\n",
    "device = 'cuda' if config[\"run_on_gpu\"] and torch.cuda.is_available() else 'cpu'\n",
    "print('Using {} device'.format(device))\n",
    "\n",
    "max_tok_len = check_seq_lengths(dataset=train_dset, tokenizer=tokenizer)\n",
    "\n",
    "# Data Loader\n",
    "collate = coll_factory(vocabulary, tokenizer, device, pad_to_length = max_tok_len)\n",
    "\n",
    "train_loader = DataLoader(train_dset, batch_size=config[\"batch_size\"], shuffle=True, collate_fn=collate)"
   ]
  },
  {
   "cell_type": "code",
   "execution_count": 9,
   "id": "c655b779",
   "metadata": {
    "execution": {
     "iopub.execute_input": "2022-01-11T17:18:39.417805Z",
     "iopub.status.busy": "2022-01-11T17:18:39.417040Z",
     "iopub.status.idle": "2022-01-11T17:18:39.436428Z",
     "shell.execute_reply": "2022-01-11T17:18:39.436936Z"
    },
    "papermill": {
     "duration": 0.060943,
     "end_time": "2022-01-11T17:18:39.437152",
     "exception": false,
     "start_time": "2022-01-11T17:18:39.376209",
     "status": "completed"
    },
    "tags": []
   },
   "outputs": [
    {
     "data": {
      "text/plain": [
       "['▁',\n",
       " 'TTAAA',\n",
       " 'CTTT',\n",
       " 'AAATTT',\n",
       " 'TCCC',\n",
       " 'AAAC',\n",
       " 'TACA',\n",
       " 'GGAA',\n",
       " 'CCC',\n",
       " 'TTTGT',\n",
       " 'TGA',\n",
       " 'ATTTTA',\n",
       " 'ACAG',\n",
       " 'ATTTTT',\n",
       " 'GAGC',\n",
       " 'ACG',\n",
       " 'AATA',\n",
       " 'CTAC',\n",
       " 'ATTTTA',\n",
       " 'AGAC',\n",
       " 'AATTT',\n",
       " 'CCTC',\n",
       " 'ATTC',\n",
       " 'ATGTT',\n",
       " 'ACTT',\n",
       " 'CTT',\n",
       " 'ATTT',\n",
       " 'AAAG',\n",
       " 'AAATTT',\n",
       " 'ATC',\n",
       " 'AGAAA',\n",
       " 'TTTAT',\n",
       " 'TTATT',\n",
       " 'GAGG',\n",
       " 'ACTAT',\n",
       " 'GTAAT',\n",
       " 'AAAC',\n",
       " 'ATTTTT',\n",
       " 'TAAT',\n",
       " 'CAAC',\n",
       " 'ATC',\n",
       " 'TTTTT',\n",
       " 'ATG',\n",
       " 'AACA',\n",
       " 'ATTGA',\n",
       " 'CCAT',\n",
       " 'AGTG']"
      ]
     },
     "execution_count": 9,
     "metadata": {},
     "output_type": "execute_result"
    }
   ],
   "source": [
    "tokenizer(train_dset[1][0])"
   ]
  },
  {
   "cell_type": "markdown",
   "id": "9028cee1",
   "metadata": {
    "id": "sTTomnnP5kdU",
    "papermill": {
     "duration": 0.049045,
     "end_time": "2022-01-11T17:18:39.523381",
     "exception": false,
     "start_time": "2022-01-11T17:18:39.474336",
     "status": "completed"
    },
    "tags": []
   },
   "source": [
    "## Model"
   ]
  },
  {
   "cell_type": "code",
   "execution_count": 10,
   "id": "13a026c9",
   "metadata": {
    "execution": {
     "iopub.execute_input": "2022-01-11T17:18:39.717630Z",
     "iopub.status.busy": "2022-01-11T17:18:39.713605Z",
     "iopub.status.idle": "2022-01-11T17:18:39.733045Z",
     "shell.execute_reply": "2022-01-11T17:18:39.738252Z"
    },
    "id": "ZNuXGIdD5kdU",
    "papermill": {
     "duration": 0.157809,
     "end_time": "2022-01-11T17:18:39.738794",
     "exception": false,
     "start_time": "2022-01-11T17:18:39.580985",
     "status": "completed"
    },
    "tags": []
   },
   "outputs": [],
   "source": [
    "model = CNN(\n",
    "    number_of_classes=config[\"number_of_classes\"],\n",
    "    vocab_size=vocabulary.__len__(),\n",
    "    embedding_dim=config[\"embedding_dim\"],\n",
    "    input_len=max_tok_len\n",
    ").to(device)"
   ]
  },
  {
   "cell_type": "markdown",
   "id": "9510f30b",
   "metadata": {
    "id": "1pqIm92h5kdV",
    "papermill": {
     "duration": 0.070719,
     "end_time": "2022-01-11T17:18:39.881316",
     "exception": false,
     "start_time": "2022-01-11T17:18:39.810597",
     "status": "completed"
    },
    "tags": []
   },
   "source": [
    "## Training"
   ]
  },
  {
   "cell_type": "code",
   "execution_count": 11,
   "id": "5de7da07",
   "metadata": {
    "colab": {
     "base_uri": "https://localhost:8080/"
    },
    "execution": {
     "iopub.execute_input": "2022-01-11T17:18:40.059251Z",
     "iopub.status.busy": "2022-01-11T17:18:40.056644Z",
     "iopub.status.idle": "2022-01-11T17:31:12.642345Z",
     "shell.execute_reply": "2022-01-11T17:31:12.643044Z"
    },
    "id": "uvO_-RFm5kdV",
    "outputId": "7799e5f9-78a7-4ef2-95e8-f06751912eda",
    "papermill": {
     "duration": 752.685624,
     "end_time": "2022-01-11T17:31:12.643303",
     "exception": false,
     "start_time": "2022-01-11T17:18:39.957679",
     "status": "completed"
    },
    "tags": []
   },
   "outputs": [
    {
     "name": "stdout",
     "output_type": "stream",
     "text": [
      "Epoch 0\n"
     ]
    },
    {
     "name": "stderr",
     "output_type": "stream",
     "text": [
      "/Users/katarina/Documents/repositories/GitHub/GLP/src/glp/tokenizers/utils.py:27: UserWarning: To copy construct from a tensor, it is recommended to use sourceTensor.clone().detach() or sourceTensor.clone().detach().requires_grad_(True), rather than torch.tensor(sourceTensor).\n",
      "  x = torch.tensor(pad(x), dtype=torch.long)\n"
     ]
    },
    {
     "name": "stdout",
     "output_type": "stream",
     "text": [
      "Train metrics: \n",
      " Accuracy: 87.8%, Avg loss: 0.557070 \n",
      "\n",
      "Epoch 1\n"
     ]
    },
    {
     "name": "stdout",
     "output_type": "stream",
     "text": [
      "Train metrics: \n",
      " Accuracy: 89.3%, Avg loss: 0.553020 \n",
      "\n",
      "Epoch 2\n"
     ]
    },
    {
     "name": "stdout",
     "output_type": "stream",
     "text": [
      "Train metrics: \n",
      " Accuracy: 89.5%, Avg loss: 0.551408 \n",
      "\n",
      "Epoch 3\n"
     ]
    },
    {
     "name": "stdout",
     "output_type": "stream",
     "text": [
      "Train metrics: \n",
      " Accuracy: 89.2%, Avg loss: 0.550980 \n",
      "\n",
      "Epoch 4\n"
     ]
    },
    {
     "name": "stdout",
     "output_type": "stream",
     "text": [
      "Train metrics: \n",
      " Accuracy: 89.8%, Avg loss: 0.548645 \n",
      "\n"
     ]
    }
   ],
   "source": [
    "model.train(train_loader, epochs=config[\"epochs\"])"
   ]
  },
  {
   "cell_type": "markdown",
   "id": "e845263a",
   "metadata": {
    "id": "bR2tamrc5kdV",
    "papermill": {
     "duration": 0.047864,
     "end_time": "2022-01-11T17:31:12.730783",
     "exception": false,
     "start_time": "2022-01-11T17:31:12.682919",
     "status": "completed"
    },
    "tags": []
   },
   "source": [
    "## Testing"
   ]
  },
  {
   "cell_type": "code",
   "execution_count": 12,
   "id": "285d8954",
   "metadata": {
    "colab": {
     "base_uri": "https://localhost:8080/"
    },
    "execution": {
     "iopub.execute_input": "2022-01-11T17:31:12.811155Z",
     "iopub.status.busy": "2022-01-11T17:31:12.809743Z",
     "iopub.status.idle": "2022-01-11T17:31:36.629623Z",
     "shell.execute_reply": "2022-01-11T17:31:36.630285Z"
    },
    "id": "wbnciyRK5kdW",
    "outputId": "d2592f9d-f074-465f-95f8-df3b759ae068",
    "papermill": {
     "duration": 23.863213,
     "end_time": "2022-01-11T17:31:36.630602",
     "exception": false,
     "start_time": "2022-01-11T17:31:12.767389",
     "status": "completed"
    },
    "tags": []
   },
   "outputs": [
    {
     "name": "stdout",
     "output_type": "stream",
     "text": [
      "p  12500 ; tp  10482.591577529907 ; fp  876.6480111803252\n",
      "recall  0.8386073262023925 ; precision  0.9228251148033173\n",
      "num_batches 782\n",
      "correct 22125\n",
      "size 25000\n",
      "Test metrics: \n",
      " Accuracy: 0.885000, F1 score: 0.878703, Avg loss: 0.554625 \n",
      "\n"
     ]
    },
    {
     "data": {
      "text/plain": [
       "(0.885, 0.8787029057279833)"
      ]
     },
     "execution_count": 12,
     "metadata": {},
     "output_type": "execute_result"
    }
   ],
   "source": [
    "test_dset = get_dataset(config[\"dataset\"], 'test')\n",
    "test_loader = DataLoader(test_dset, batch_size=config[\"batch_size\"], shuffle=True, collate_fn=collate)\n",
    "\n",
    "acc, f1 = model.test(test_loader)\n",
    "acc, f1"
   ]
  }
 ],
 "metadata": {
  "accelerator": "TPU",
  "colab": {
   "name": "torch_cnn_classifier.ipynb",
   "provenance": []
  },
  "environment": {
   "name": "pytorch-gpu.1-9.m75",
   "type": "gcloud",
   "uri": "gcr.io/deeplearning-platform-release/pytorch-gpu.1-9:m75"
  },
  "interpreter": {
   "hash": "9828b828580f1cac1b571b33de6cff8bacecc8916095e1bcbc967952ca7105b7"
  },
  "kernelspec": {
   "display_name": "Python 3",
   "name": "python3"
  },
  "language_info": {
   "codemirror_mode": {
    "name": "ipython",
    "version": 3
   },
   "file_extension": ".py",
   "mimetype": "text/x-python",
   "name": "python",
   "nbconvert_exporter": "python",
   "pygments_lexer": "ipython3",
   "version": "3.8.9"
  },
  "papermill": {
   "default_parameters": {},
   "duration": 6192.627208,
   "end_time": "2022-01-11T17:31:37.509805",
   "environment_variables": {},
   "exception": null,
   "input_path": "torch_cnn.ipynb",
   "output_path": "../torch_cnn_experiments/demo_human_or_worm_subword_512.ipynb",
   "parameters": {
    "DATASET": "demo_human_or_worm",
    "TOKENIZER": "subword",
    "VOCAB_SIZE": 512
   },
   "start_time": "2022-01-11T15:48:24.882597",
   "version": "2.3.3"
  }
 },
 "nbformat": 4,
 "nbformat_minor": 5
}