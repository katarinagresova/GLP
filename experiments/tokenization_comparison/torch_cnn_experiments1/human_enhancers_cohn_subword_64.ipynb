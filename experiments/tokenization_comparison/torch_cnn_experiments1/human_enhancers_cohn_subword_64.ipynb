{
 "cells": [
  {
   "cell_type": "markdown",
   "id": "c0565d18",
   "metadata": {
    "id": "SKOD9lvq5kdM",
    "papermill": {
     "duration": 0.018854,
     "end_time": "2022-01-11T08:36:54.083039",
     "exception": false,
     "start_time": "2022-01-11T08:36:54.064185",
     "status": "completed"
    },
    "tags": []
   },
   "source": [
    "# PYTORCH CNN Classifier"
   ]
  },
  {
   "cell_type": "code",
   "execution_count": 1,
   "id": "bbad4c1e",
   "metadata": {
    "execution": {
     "iopub.execute_input": "2022-01-11T08:36:54.135431Z",
     "iopub.status.busy": "2022-01-11T08:36:54.131164Z",
     "iopub.status.idle": "2022-01-11T08:36:54.137863Z",
     "shell.execute_reply": "2022-01-11T08:36:54.138367Z"
    },
    "id": "E8prt3AL5kdO",
    "papermill": {
     "duration": 0.040235,
     "end_time": "2022-01-11T08:36:54.138639",
     "exception": false,
     "start_time": "2022-01-11T08:36:54.098404",
     "status": "completed"
    },
    "tags": [
     "parameters"
    ]
   },
   "outputs": [],
   "source": [
    "DATASET = 'none'\n",
    "VOCAB_SIZE = 0\n",
    "TOKENIZER = 'none'\n",
    "KMER = 0"
   ]
  },
  {
   "cell_type": "code",
   "execution_count": 2,
   "id": "49354078",
   "metadata": {
    "execution": {
     "iopub.execute_input": "2022-01-11T08:36:54.177617Z",
     "iopub.status.busy": "2022-01-11T08:36:54.176667Z",
     "iopub.status.idle": "2022-01-11T08:36:54.179003Z",
     "shell.execute_reply": "2022-01-11T08:36:54.179476Z"
    },
    "papermill": {
     "duration": 0.026629,
     "end_time": "2022-01-11T08:36:54.179715",
     "exception": false,
     "start_time": "2022-01-11T08:36:54.153086",
     "status": "completed"
    },
    "tags": [
     "injected-parameters"
    ]
   },
   "outputs": [],
   "source": [
    "# Parameters\n",
    "DATASET = \"human_enhancers_cohn\"\n",
    "TOKENIZER = \"subword\"\n",
    "VOCAB_SIZE = 64\n"
   ]
  },
  {
   "cell_type": "code",
   "execution_count": 3,
   "id": "69082e76",
   "metadata": {
    "colab": {
     "base_uri": "https://localhost:8080/"
    },
    "execution": {
     "iopub.execute_input": "2022-01-11T08:36:54.215540Z",
     "iopub.status.busy": "2022-01-11T08:36:54.214599Z",
     "iopub.status.idle": "2022-01-11T08:36:54.219275Z",
     "shell.execute_reply": "2022-01-11T08:36:54.219862Z"
    },
    "id": "rohBItfR5kdP",
    "outputId": "7da7aafe-0858-48be-bf7d-f698784d88df",
    "papermill": {
     "duration": 0.025141,
     "end_time": "2022-01-11T08:36:54.220185",
     "exception": false,
     "start_time": "2022-01-11T08:36:54.195044",
     "status": "completed"
    },
    "tags": []
   },
   "outputs": [
    {
     "name": "stdout",
     "output_type": "stream",
     "text": [
      "human_enhancers_cohn 64 subword 0\n"
     ]
    }
   ],
   "source": [
    "print(DATASET, VOCAB_SIZE, TOKENIZER, KMER)"
   ]
  },
  {
   "cell_type": "markdown",
   "id": "79e4eef2",
   "metadata": {
    "id": "Y-YQrVyb5kdQ",
    "papermill": {
     "duration": 0.019952,
     "end_time": "2022-01-11T08:36:54.256051",
     "exception": false,
     "start_time": "2022-01-11T08:36:54.236099",
     "status": "completed"
    },
    "tags": []
   },
   "source": [
    "## Config"
   ]
  },
  {
   "cell_type": "code",
   "execution_count": 4,
   "id": "31bb09f7",
   "metadata": {
    "execution": {
     "iopub.execute_input": "2022-01-11T08:36:54.296395Z",
     "iopub.status.busy": "2022-01-11T08:36:54.295370Z",
     "iopub.status.idle": "2022-01-11T08:36:56.222687Z",
     "shell.execute_reply": "2022-01-11T08:36:56.223285Z"
    },
    "id": "FIunuyGk5kdR",
    "papermill": {
     "duration": 1.948062,
     "end_time": "2022-01-11T08:36:56.223501",
     "exception": false,
     "start_time": "2022-01-11T08:36:54.275439",
     "status": "completed"
    },
    "tags": []
   },
   "outputs": [],
   "source": [
    "import torch\n",
    "from torch.utils.data import DataLoader\n",
    "\n",
    "from genomic_benchmarks.dataset_getters.pytorch_datasets import get_dataset\n",
    "from glp.models import CNN\n",
    "from glp.tokenizers import get_tokenizer\n",
    "from glp.tokenizers.utils import build_vocab, coll_factory, check_config, check_seq_lengths"
   ]
  },
  {
   "cell_type": "code",
   "execution_count": 5,
   "id": "92e6b73e",
   "metadata": {
    "execution": {
     "iopub.execute_input": "2022-01-11T08:36:56.269235Z",
     "iopub.status.busy": "2022-01-11T08:36:56.267537Z",
     "iopub.status.idle": "2022-01-11T08:36:56.270374Z",
     "shell.execute_reply": "2022-01-11T08:36:56.271107Z"
    },
    "id": "UgXiF6Zz5kdR",
    "papermill": {
     "duration": 0.03209,
     "end_time": "2022-01-11T08:36:56.271323",
     "exception": false,
     "start_time": "2022-01-11T08:36:56.239233",
     "status": "completed"
    },
    "tags": []
   },
   "outputs": [],
   "source": [
    "config = {\n",
    "    \"dataset\": DATASET,\n",
    "    \"tokenizer\": TOKENIZER,\n",
    "    \"dataset_version\": 0,\n",
    "    \"epochs\": 5,\n",
    "    \"batch_size\": 32,\n",
    "    \"use_padding\": True,\n",
    "    \"force_download\": False,\n",
    "    \"run_on_gpu\": True,\n",
    "    \"number_of_classes\": 2,\n",
    "    \"embedding_dim\": 100,\n",
    "}\n",
    "check_config(config)"
   ]
  },
  {
   "cell_type": "markdown",
   "id": "3eff2d8d",
   "metadata": {
    "id": "AUWF-avz5kdS",
    "papermill": {
     "duration": 0.019341,
     "end_time": "2022-01-11T08:36:56.315801",
     "exception": false,
     "start_time": "2022-01-11T08:36:56.296460",
     "status": "completed"
    },
    "tags": []
   },
   "source": [
    "## Choose the dataset"
   ]
  },
  {
   "cell_type": "code",
   "execution_count": 6,
   "id": "4943f2e4",
   "metadata": {
    "colab": {
     "base_uri": "https://localhost:8080/"
    },
    "execution": {
     "iopub.execute_input": "2022-01-11T08:36:56.357500Z",
     "iopub.status.busy": "2022-01-11T08:36:56.356485Z",
     "iopub.status.idle": "2022-01-11T08:36:56.538170Z",
     "shell.execute_reply": "2022-01-11T08:36:56.538695Z"
    },
    "id": "1oaryDJr5kdS",
    "outputId": "6a425df9-4092-4601-9cd9-f61d524b6278",
    "papermill": {
     "duration": 0.203641,
     "end_time": "2022-01-11T08:36:56.538909",
     "exception": false,
     "start_time": "2022-01-11T08:36:56.335268",
     "status": "completed"
    },
    "tags": []
   },
   "outputs": [],
   "source": [
    "train_dset = get_dataset(config[\"dataset\"], 'train')"
   ]
  },
  {
   "cell_type": "markdown",
   "id": "335b2a6b",
   "metadata": {
    "id": "B0lqmy935kdS",
    "papermill": {
     "duration": 0.034418,
     "end_time": "2022-01-11T08:36:56.589745",
     "exception": false,
     "start_time": "2022-01-11T08:36:56.555327",
     "status": "completed"
    },
    "tags": []
   },
   "source": [
    "## Tokenizer and vocab"
   ]
  },
  {
   "cell_type": "code",
   "execution_count": 7,
   "id": "7c07d0f5",
   "metadata": {
    "colab": {
     "base_uri": "https://localhost:8080/"
    },
    "execution": {
     "iopub.execute_input": "2022-01-11T08:36:56.630865Z",
     "iopub.status.busy": "2022-01-11T08:36:56.629552Z",
     "iopub.status.idle": "2022-01-11T08:53:22.636264Z",
     "shell.execute_reply": "2022-01-11T08:53:22.637141Z"
    },
    "id": "NY_zualp5kdT",
    "outputId": "9034d65f-2f9a-4c83-a314-13d3b808fc65",
    "papermill": {
     "duration": 986.029793,
     "end_time": "2022-01-11T08:53:22.637792",
     "exception": false,
     "start_time": "2022-01-11T08:36:56.607999",
     "status": "completed"
    },
    "tags": []
   },
   "outputs": [
    {
     "name": "stderr",
     "output_type": "stream",
     "text": [
      "sentencepiece_trainer.cc(177) LOG(INFO) Running command: --input=sample.csv --model_prefix=sample --vocab_size=64 --model_type=unigram\n",
      "sentencepiece_trainer.cc(77) LOG(INFO) Starts training with : \n",
      "trainer_spec {\n",
      "  input: sample.csv\n",
      "  input_format: \n",
      "  model_prefix: sample\n",
      "  model_type: UNIGRAM\n",
      "  vocab_size: 64\n",
      "  self_test_sample_size: 0\n",
      "  character_coverage: 0.9995\n",
      "  input_sentence_size: 0\n",
      "  shuffle_input_sentence: 1\n",
      "  seed_sentencepiece_size: 1000000\n",
      "  shrinking_factor: 0.75\n",
      "  max_sentence_length: 4192\n",
      "  num_threads: 16\n",
      "  num_sub_iterations: 2\n",
      "  max_sentencepiece_length: 16\n",
      "  split_by_unicode_script: 1\n",
      "  split_by_number: 1\n",
      "  split_by_whitespace: 1\n",
      "  split_digits: 0\n",
      "  treat_whitespace_as_suffix: 0\n",
      "  required_chars: \n",
      "  byte_fallback: 0\n",
      "  vocabulary_output_piece_score: 1\n",
      "  train_extremely_large_corpus: 0\n",
      "  hard_vocab_limit: 1\n",
      "  use_all_vocab: 0\n",
      "  unk_id: 0\n",
      "  bos_id: 1\n",
      "  eos_id: 2\n",
      "  pad_id: -1\n",
      "  unk_piece: <unk>\n",
      "  bos_piece: <s>\n",
      "  eos_piece: </s>\n",
      "  pad_piece: <pad>\n",
      "  unk_surface:  ⁇ \n",
      "}\n",
      "normalizer_spec {\n",
      "  name: nmt_nfkc\n",
      "  add_dummy_prefix: 1\n",
      "  remove_extra_whitespaces: 1\n",
      "  escape_whitespaces: 1\n",
      "  normalization_rule_tsv: \n",
      "}\n",
      "denormalizer_spec {}\n",
      "trainer_interface.cc(319) LOG(INFO) SentenceIterator is not specified. Using MultiFileSentenceIterator.\n",
      "trainer_interface.cc(174) LOG(INFO) Loading corpus: sample.csv\n"
     ]
    },
    {
     "name": "stderr",
     "output_type": "stream",
     "text": [
      "trainer_interface.cc(375) LOG(INFO) Loaded all 20843 sentences\n",
      "trainer_interface.cc(390) LOG(INFO) Adding meta_piece: <unk>\n",
      "trainer_interface.cc(390) LOG(INFO) Adding meta_piece: <s>\n",
      "trainer_interface.cc(390) LOG(INFO) Adding meta_piece: </s>\n",
      "trainer_interface.cc(395) LOG(INFO) Normalizing sentences...\n"
     ]
    },
    {
     "name": "stderr",
     "output_type": "stream",
     "text": [
      "trainer_interface.cc(456) LOG(INFO) all chars count=10442343\n",
      "trainer_interface.cc(477) LOG(INFO) Alphabet size=5\n",
      "trainer_interface.cc(478) LOG(INFO) Final character coverage=1\n"
     ]
    },
    {
     "name": "stderr",
     "output_type": "stream",
     "text": [
      "trainer_interface.cc(510) LOG(INFO) Done! preprocessed 20843 sentences.\n"
     ]
    },
    {
     "name": "stderr",
     "output_type": "stream",
     "text": [
      "unigram_model_trainer.cc(138) LOG(INFO) Making suffix array...\n"
     ]
    },
    {
     "name": "stderr",
     "output_type": "stream",
     "text": [
      "unigram_model_trainer.cc(142) LOG(INFO) Extracting frequent sub strings...\n"
     ]
    },
    {
     "name": "stderr",
     "output_type": "stream",
     "text": [
      "unigram_model_trainer.cc(193) LOG(INFO) Initialized 1000000 seed sentencepieces\n"
     ]
    },
    {
     "name": "stderr",
     "output_type": "stream",
     "text": [
      "trainer_interface.cc(516) LOG(INFO) Tokenizing input sentences with whitespace: 20843\n",
      "trainer_interface.cc(526) LOG(INFO) Done! 20843\n"
     ]
    },
    {
     "name": "stderr",
     "output_type": "stream",
     "text": [
      "unigram_model_trainer.cc(488) LOG(INFO) Using 20843 sentences for EM training\n"
     ]
    },
    {
     "name": "stderr",
     "output_type": "stream",
     "text": [
      "unigram_model_trainer.cc(504) LOG(INFO) EM sub_iter=0 size=451960 obj=656.396 num_tokens=1062834 num_tokens/piece=2.35161\n"
     ]
    },
    {
     "name": "stderr",
     "output_type": "stream",
     "text": [
      "unigram_model_trainer.cc(504) LOG(INFO) EM sub_iter=1 size=328755 obj=662.576 num_tokens=1151170 num_tokens/piece=3.5016\n"
     ]
    },
    {
     "name": "stderr",
     "output_type": "stream",
     "text": [
      "unigram_model_trainer.cc(504) LOG(INFO) EM sub_iter=0 size=214788 obj=659.085 num_tokens=1189558 num_tokens/piece=5.53829\n"
     ]
    },
    {
     "name": "stderr",
     "output_type": "stream",
     "text": [
      "unigram_model_trainer.cc(504) LOG(INFO) EM sub_iter=1 size=195654 obj=651.89 num_tokens=1212596 num_tokens/piece=6.19766\n"
     ]
    },
    {
     "name": "stderr",
     "output_type": "stream",
     "text": [
      "unigram_model_trainer.cc(504) LOG(INFO) EM sub_iter=0 size=144886 obj=653.472 num_tokens=1240509 num_tokens/piece=8.56197\n"
     ]
    },
    {
     "name": "stderr",
     "output_type": "stream",
     "text": [
      "unigram_model_trainer.cc(504) LOG(INFO) EM sub_iter=1 size=141860 obj=649.031 num_tokens=1247362 num_tokens/piece=8.79291\n"
     ]
    },
    {
     "name": "stderr",
     "output_type": "stream",
     "text": [
      "unigram_model_trainer.cc(504) LOG(INFO) EM sub_iter=0 size=106361 obj=652.395 num_tokens=1276529 num_tokens/piece=12.0019\n"
     ]
    },
    {
     "name": "stderr",
     "output_type": "stream",
     "text": [
      "unigram_model_trainer.cc(504) LOG(INFO) EM sub_iter=1 size=106221 obj=648.169 num_tokens=1278410 num_tokens/piece=12.0354\n"
     ]
    },
    {
     "name": "stderr",
     "output_type": "stream",
     "text": [
      "unigram_model_trainer.cc(504) LOG(INFO) EM sub_iter=0 size=79663 obj=653.869 num_tokens=1316403 num_tokens/piece=16.5246\n"
     ]
    },
    {
     "name": "stderr",
     "output_type": "stream",
     "text": [
      "unigram_model_trainer.cc(504) LOG(INFO) EM sub_iter=1 size=79658 obj=648.559 num_tokens=1316903 num_tokens/piece=16.532\n"
     ]
    },
    {
     "name": "stderr",
     "output_type": "stream",
     "text": [
      "unigram_model_trainer.cc(504) LOG(INFO) EM sub_iter=0 size=59743 obj=655.848 num_tokens=1359053 num_tokens/piece=22.7483\n"
     ]
    },
    {
     "name": "stderr",
     "output_type": "stream",
     "text": [
      "unigram_model_trainer.cc(504) LOG(INFO) EM sub_iter=1 size=59742 obj=650.015 num_tokens=1359467 num_tokens/piece=22.7556\n"
     ]
    },
    {
     "name": "stderr",
     "output_type": "stream",
     "text": [
      "unigram_model_trainer.cc(504) LOG(INFO) EM sub_iter=0 size=44806 obj=657.667 num_tokens=1400371 num_tokens/piece=31.2541\n"
     ]
    },
    {
     "name": "stderr",
     "output_type": "stream",
     "text": [
      "unigram_model_trainer.cc(504) LOG(INFO) EM sub_iter=1 size=44806 obj=652.073 num_tokens=1400851 num_tokens/piece=31.2648\n"
     ]
    },
    {
     "name": "stderr",
     "output_type": "stream",
     "text": [
      "unigram_model_trainer.cc(504) LOG(INFO) EM sub_iter=0 size=33604 obj=659.381 num_tokens=1441209 num_tokens/piece=42.888\n"
     ]
    },
    {
     "name": "stderr",
     "output_type": "stream",
     "text": [
      "unigram_model_trainer.cc(504) LOG(INFO) EM sub_iter=1 size=33603 obj=654.176 num_tokens=1441766 num_tokens/piece=42.9059\n"
     ]
    },
    {
     "name": "stderr",
     "output_type": "stream",
     "text": [
      "unigram_model_trainer.cc(504) LOG(INFO) EM sub_iter=0 size=25202 obj=661.335 num_tokens=1482972 num_tokens/piece=58.8434\n"
     ]
    },
    {
     "name": "stderr",
     "output_type": "stream",
     "text": [
      "unigram_model_trainer.cc(504) LOG(INFO) EM sub_iter=1 size=25202 obj=656.203 num_tokens=1483424 num_tokens/piece=58.8614\n"
     ]
    },
    {
     "name": "stderr",
     "output_type": "stream",
     "text": [
      "unigram_model_trainer.cc(504) LOG(INFO) EM sub_iter=0 size=18901 obj=663.245 num_tokens=1526444 num_tokens/piece=80.76\n"
     ]
    },
    {
     "name": "stderr",
     "output_type": "stream",
     "text": [
      "unigram_model_trainer.cc(504) LOG(INFO) EM sub_iter=1 size=18901 obj=658.003 num_tokens=1527069 num_tokens/piece=80.793\n"
     ]
    },
    {
     "name": "stderr",
     "output_type": "stream",
     "text": [
      "unigram_model_trainer.cc(504) LOG(INFO) EM sub_iter=0 size=14175 obj=665.311 num_tokens=1573592 num_tokens/piece=111.012\n"
     ]
    },
    {
     "name": "stderr",
     "output_type": "stream",
     "text": [
      "unigram_model_trainer.cc(504) LOG(INFO) EM sub_iter=1 size=14175 obj=659.734 num_tokens=1574133 num_tokens/piece=111.05\n"
     ]
    },
    {
     "name": "stderr",
     "output_type": "stream",
     "text": [
      "unigram_model_trainer.cc(504) LOG(INFO) EM sub_iter=0 size=10631 obj=667.497 num_tokens=1623310 num_tokens/piece=152.696\n"
     ]
    },
    {
     "name": "stderr",
     "output_type": "stream",
     "text": [
      "unigram_model_trainer.cc(504) LOG(INFO) EM sub_iter=1 size=10631 obj=661.529 num_tokens=1623986 num_tokens/piece=152.759\n"
     ]
    },
    {
     "name": "stderr",
     "output_type": "stream",
     "text": [
      "unigram_model_trainer.cc(504) LOG(INFO) EM sub_iter=0 size=7973 obj=669.647 num_tokens=1677995 num_tokens/piece=210.46\n"
     ]
    },
    {
     "name": "stderr",
     "output_type": "stream",
     "text": [
      "unigram_model_trainer.cc(504) LOG(INFO) EM sub_iter=1 size=7973 obj=663.05 num_tokens=1678566 num_tokens/piece=210.531\n"
     ]
    },
    {
     "name": "stderr",
     "output_type": "stream",
     "text": [
      "unigram_model_trainer.cc(504) LOG(INFO) EM sub_iter=0 size=5979 obj=671.319 num_tokens=1734023 num_tokens/piece=290.019\n"
     ]
    },
    {
     "name": "stderr",
     "output_type": "stream",
     "text": [
      "unigram_model_trainer.cc(504) LOG(INFO) EM sub_iter=1 size=5979 obj=664.29 num_tokens=1734616 num_tokens/piece=290.118\n"
     ]
    },
    {
     "name": "stderr",
     "output_type": "stream",
     "text": [
      "unigram_model_trainer.cc(504) LOG(INFO) EM sub_iter=0 size=4484 obj=672.797 num_tokens=1794114 num_tokens/piece=400.115\n"
     ]
    },
    {
     "name": "stderr",
     "output_type": "stream",
     "text": [
      "unigram_model_trainer.cc(504) LOG(INFO) EM sub_iter=1 size=4484 obj=665.366 num_tokens=1794882 num_tokens/piece=400.286\n"
     ]
    },
    {
     "name": "stderr",
     "output_type": "stream",
     "text": [
      "unigram_model_trainer.cc(504) LOG(INFO) EM sub_iter=0 size=3363 obj=674.688 num_tokens=1858954 num_tokens/piece=552.767\n"
     ]
    },
    {
     "name": "stderr",
     "output_type": "stream",
     "text": [
      "unigram_model_trainer.cc(504) LOG(INFO) EM sub_iter=1 size=3363 obj=666.505 num_tokens=1859784 num_tokens/piece=553.013\n"
     ]
    },
    {
     "name": "stderr",
     "output_type": "stream",
     "text": [
      "unigram_model_trainer.cc(504) LOG(INFO) EM sub_iter=0 size=2522 obj=676.667 num_tokens=1931142 num_tokens/piece=765.718\n"
     ]
    },
    {
     "name": "stderr",
     "output_type": "stream",
     "text": [
      "unigram_model_trainer.cc(504) LOG(INFO) EM sub_iter=1 size=2522 obj=667.926 num_tokens=1931879 num_tokens/piece=766.011\n"
     ]
    },
    {
     "name": "stderr",
     "output_type": "stream",
     "text": [
      "unigram_model_trainer.cc(504) LOG(INFO) EM sub_iter=0 size=1891 obj=679.206 num_tokens=2007806 num_tokens/piece=1061.77\n"
     ]
    },
    {
     "name": "stderr",
     "output_type": "stream",
     "text": [
      "unigram_model_trainer.cc(504) LOG(INFO) EM sub_iter=1 size=1891 obj=669.539 num_tokens=2008799 num_tokens/piece=1062.29\n"
     ]
    },
    {
     "name": "stderr",
     "output_type": "stream",
     "text": [
      "unigram_model_trainer.cc(504) LOG(INFO) EM sub_iter=0 size=1418 obj=680.388 num_tokens=2088648 num_tokens/piece=1472.95\n"
     ]
    },
    {
     "name": "stderr",
     "output_type": "stream",
     "text": [
      "unigram_model_trainer.cc(504) LOG(INFO) EM sub_iter=1 size=1418 obj=670.701 num_tokens=2089565 num_tokens/piece=1473.6\n"
     ]
    },
    {
     "name": "stderr",
     "output_type": "stream",
     "text": [
      "unigram_model_trainer.cc(504) LOG(INFO) EM sub_iter=0 size=1063 obj=684.877 num_tokens=2178168 num_tokens/piece=2049.08\n"
     ]
    },
    {
     "name": "stderr",
     "output_type": "stream",
     "text": [
      "unigram_model_trainer.cc(504) LOG(INFO) EM sub_iter=1 size=1063 obj=671.698 num_tokens=2179396 num_tokens/piece=2050.23\n"
     ]
    },
    {
     "name": "stderr",
     "output_type": "stream",
     "text": [
      "unigram_model_trainer.cc(504) LOG(INFO) EM sub_iter=0 size=797 obj=685.058 num_tokens=2275812 num_tokens/piece=2855.47\n"
     ]
    },
    {
     "name": "stderr",
     "output_type": "stream",
     "text": [
      "unigram_model_trainer.cc(504) LOG(INFO) EM sub_iter=1 size=797 obj=672.737 num_tokens=2277467 num_tokens/piece=2857.55\n"
     ]
    },
    {
     "name": "stderr",
     "output_type": "stream",
     "text": [
      "unigram_model_trainer.cc(504) LOG(INFO) EM sub_iter=0 size=597 obj=687.794 num_tokens=2381618 num_tokens/piece=3989.31\n"
     ]
    },
    {
     "name": "stderr",
     "output_type": "stream",
     "text": [
      "unigram_model_trainer.cc(504) LOG(INFO) EM sub_iter=1 size=597 obj=673.614 num_tokens=2382788 num_tokens/piece=3991.27\n"
     ]
    },
    {
     "name": "stderr",
     "output_type": "stream",
     "text": [
      "unigram_model_trainer.cc(504) LOG(INFO) EM sub_iter=0 size=447 obj=693.326 num_tokens=2498111 num_tokens/piece=5588.62\n"
     ]
    },
    {
     "name": "stderr",
     "output_type": "stream",
     "text": [
      "unigram_model_trainer.cc(504) LOG(INFO) EM sub_iter=1 size=447 obj=674.31 num_tokens=2498693 num_tokens/piece=5589.92\n"
     ]
    },
    {
     "name": "stderr",
     "output_type": "stream",
     "text": [
      "unigram_model_trainer.cc(504) LOG(INFO) EM sub_iter=0 size=335 obj=690.79 num_tokens=2613085 num_tokens/piece=7800.25\n"
     ]
    },
    {
     "name": "stderr",
     "output_type": "stream",
     "text": [
      "unigram_model_trainer.cc(504) LOG(INFO) EM sub_iter=1 size=335 obj=674.858 num_tokens=2614424 num_tokens/piece=7804.25\n"
     ]
    },
    {
     "name": "stderr",
     "output_type": "stream",
     "text": [
      "unigram_model_trainer.cc(504) LOG(INFO) EM sub_iter=0 size=251 obj=694.936 num_tokens=2752494 num_tokens/piece=10966.1\n"
     ]
    },
    {
     "name": "stderr",
     "output_type": "stream",
     "text": [
      "unigram_model_trainer.cc(504) LOG(INFO) EM sub_iter=1 size=251 obj=676.08 num_tokens=2754941 num_tokens/piece=10975.9\n"
     ]
    },
    {
     "name": "stderr",
     "output_type": "stream",
     "text": [
      "unigram_model_trainer.cc(504) LOG(INFO) EM sub_iter=0 size=188 obj=696.701 num_tokens=2907905 num_tokens/piece=15467.6\n"
     ]
    },
    {
     "name": "stderr",
     "output_type": "stream",
     "text": [
      "unigram_model_trainer.cc(504) LOG(INFO) EM sub_iter=1 size=188 obj=677.004 num_tokens=2910538 num_tokens/piece=15481.6\n"
     ]
    },
    {
     "name": "stderr",
     "output_type": "stream",
     "text": [
      "unigram_model_trainer.cc(504) LOG(INFO) EM sub_iter=0 size=141 obj=699.839 num_tokens=3075471 num_tokens/piece=21811.9\n"
     ]
    },
    {
     "name": "stderr",
     "output_type": "stream",
     "text": [
      "unigram_model_trainer.cc(504) LOG(INFO) EM sub_iter=1 size=141 obj=677.844 num_tokens=3078159 num_tokens/piece=21830.9\n"
     ]
    },
    {
     "name": "stderr",
     "output_type": "stream",
     "text": [
      "unigram_model_trainer.cc(504) LOG(INFO) EM sub_iter=0 size=105 obj=700.033 num_tokens=3261090 num_tokens/piece=31058\n"
     ]
    },
    {
     "name": "stderr",
     "output_type": "stream",
     "text": [
      "unigram_model_trainer.cc(504) LOG(INFO) EM sub_iter=1 size=105 obj=678.538 num_tokens=3267682 num_tokens/piece=31120.8\n"
     ]
    },
    {
     "name": "stderr",
     "output_type": "stream",
     "text": [
      "unigram_model_trainer.cc(504) LOG(INFO) EM sub_iter=0 size=78 obj=699.142 num_tokens=3458552 num_tokens/piece=44340.4\n"
     ]
    },
    {
     "name": "stderr",
     "output_type": "stream",
     "text": [
      "unigram_model_trainer.cc(504) LOG(INFO) EM sub_iter=1 size=78 obj=679.572 num_tokens=3464854 num_tokens/piece=44421.2\n"
     ]
    },
    {
     "name": "stderr",
     "output_type": "stream",
     "text": [
      "unigram_model_trainer.cc(504) LOG(INFO) EM sub_iter=0 size=70 obj=686.474 num_tokens=3535468 num_tokens/piece=50506.7\n"
     ]
    },
    {
     "name": "stderr",
     "output_type": "stream",
     "text": [
      "unigram_model_trainer.cc(504) LOG(INFO) EM sub_iter=1 size=70 obj=679.207 num_tokens=3543513 num_tokens/piece=50621.6\n",
      "trainer_interface.cc(604) LOG(INFO) Saving model: sample.model\n",
      "trainer_interface.cc(615) LOG(INFO) Saving vocabs: sample.vocab\n"
     ]
    },
    {
     "name": "stdout",
     "output_type": "stream",
     "text": [
      "vocab len: 63\n",
      "{'CTA': 60, 'ATC': 61, 'TAT': 58, 'ATT': 56, 'ATTT': 53, 'TTG': 52, 'GTG': 48, 'ATG': 3, 'GAA': 45, 'AAT': 36, 'AC': 42, '▁': 1, 'TTT': 39, 'CAT': 25, 'AAG': 38, 'TTA': 54, 'AAAA': 37, 'AAC': 35, 'TAG': 59, 'TGA': 23, 'GAG': 32, 'GTT': 30, 'CTT': 31, '<pad>': 62, 'CAG': 14, 'C': 11, 'TTTT': 29, 'TCA': 44, 'AGC': 33, 'CTGG': 50, 'T': 16, 'AGT': 28, 'CCA': 19, 'CAA': 27, 'GCC': 40, 'GTC': 43, 'ACT': 34, 'TAA': 55, 'TCT': 18, 'TTC': 17, 'ACC': 46, 'A': 57, 'G': 7, 'GGA': 13, 'CAC': 22, '<unk>': 0, 'AGA': 26, 'GGT': 10, 'ACA': 47, 'AAA': 4, 'GTA': 51, 'ATA': 20, 'CCC': 5, 'AGG': 8, 'GGC': 6, 'CTG': 2, 'GAT': 41, 'GGG': 15, 'CTC': 21, 'TGT': 9, 'GC': 24, 'CG': 49, 'CCT': 12}\n"
     ]
    }
   ],
   "source": [
    "tokenizer = get_tokenizer(config['tokenizer'])\n",
    "tokenizer.train(train_dset=train_dset, vocab_size=VOCAB_SIZE, kmer=KMER)\n",
    "vocabulary = build_vocab(train_dset, tokenizer, use_padding=config[\"use_padding\"])\n",
    "\n",
    "print(\"vocab len:\" ,vocabulary.__len__())\n",
    "print(vocabulary.get_stoi())"
   ]
  },
  {
   "cell_type": "markdown",
   "id": "84ef96da",
   "metadata": {
    "id": "3hGQpSJA5kdT",
    "papermill": {
     "duration": 0.052826,
     "end_time": "2022-01-11T08:53:22.738025",
     "exception": false,
     "start_time": "2022-01-11T08:53:22.685199",
     "status": "completed"
    },
    "tags": []
   },
   "source": [
    "## Dataloader and batch preparation"
   ]
  },
  {
   "cell_type": "code",
   "execution_count": 8,
   "id": "b3350841",
   "metadata": {
    "colab": {
     "base_uri": "https://localhost:8080/"
    },
    "execution": {
     "iopub.execute_input": "2022-01-11T08:53:22.856294Z",
     "iopub.status.busy": "2022-01-11T08:53:22.854811Z",
     "iopub.status.idle": "2022-01-11T08:53:44.275293Z",
     "shell.execute_reply": "2022-01-11T08:53:44.275893Z"
    },
    "id": "gXUgPH6q5kdT",
    "outputId": "a1eb6ba2-9bcd-416d-8662-e3516121da96",
    "papermill": {
     "duration": 21.492067,
     "end_time": "2022-01-11T08:53:44.276101",
     "exception": false,
     "start_time": "2022-01-11T08:53:22.784034",
     "status": "completed"
    },
    "tags": []
   },
   "outputs": [
    {
     "name": "stdout",
     "output_type": "stream",
     "text": [
      "Using cpu device\n"
     ]
    },
    {
     "name": "stdout",
     "output_type": "stream",
     "text": [
      "max_tok_len  211\n"
     ]
    },
    {
     "name": "stdout",
     "output_type": "stream",
     "text": [
      "not all sequences are of the same length\n"
     ]
    }
   ],
   "source": [
    "# Run on GPU or CPU\n",
    "device = 'cuda' if config[\"run_on_gpu\"] and torch.cuda.is_available() else 'cpu'\n",
    "print('Using {} device'.format(device))\n",
    "\n",
    "max_tok_len = check_seq_lengths(dataset=train_dset, tokenizer=tokenizer)\n",
    "\n",
    "# Data Loader\n",
    "collate = coll_factory(vocabulary, tokenizer, device, pad_to_length = max_tok_len)\n",
    "\n",
    "train_loader = DataLoader(train_dset, batch_size=config[\"batch_size\"], shuffle=True, collate_fn=collate)"
   ]
  },
  {
   "cell_type": "code",
   "execution_count": 9,
   "id": "2bb3b4e8",
   "metadata": {
    "execution": {
     "iopub.execute_input": "2022-01-11T08:53:44.376226Z",
     "iopub.status.busy": "2022-01-11T08:53:44.375333Z",
     "iopub.status.idle": "2022-01-11T08:53:44.393586Z",
     "shell.execute_reply": "2022-01-11T08:53:44.394200Z"
    },
    "papermill": {
     "duration": 0.073307,
     "end_time": "2022-01-11T08:53:44.394441",
     "exception": false,
     "start_time": "2022-01-11T08:53:44.321134",
     "status": "completed"
    },
    "tags": []
   },
   "outputs": [
    {
     "data": {
      "text/plain": [
       "['▁',\n",
       " 'CCA',\n",
       " 'TCT',\n",
       " 'ATTT',\n",
       " 'TTG',\n",
       " 'AAT',\n",
       " 'CCT',\n",
       " 'TTT',\n",
       " 'AAC',\n",
       " 'AC',\n",
       " 'TTT',\n",
       " 'ATG',\n",
       " 'AGA',\n",
       " 'GAG',\n",
       " 'AAA',\n",
       " 'GAA',\n",
       " 'CAG',\n",
       " 'AAC',\n",
       " 'AGG',\n",
       " 'CAG',\n",
       " 'GC',\n",
       " 'AGG',\n",
       " 'CTG',\n",
       " 'TGT',\n",
       " 'TTA',\n",
       " 'ACC',\n",
       " 'CCA',\n",
       " 'CAA',\n",
       " 'CAC',\n",
       " 'CAC',\n",
       " 'CAT',\n",
       " 'AGA',\n",
       " 'GCC',\n",
       " 'TAA',\n",
       " 'AAG',\n",
       " 'CTT',\n",
       " 'GGG',\n",
       " 'AGT',\n",
       " 'AAA',\n",
       " 'T',\n",
       " 'ACA',\n",
       " 'ATT',\n",
       " 'TCT',\n",
       " 'TTG',\n",
       " 'GC',\n",
       " 'A',\n",
       " 'CCT',\n",
       " 'TGT',\n",
       " 'AAT',\n",
       " 'AAA',\n",
       " 'ACA',\n",
       " 'TGA',\n",
       " 'ACA',\n",
       " 'ATG',\n",
       " 'AGT',\n",
       " 'TTC',\n",
       " 'TCA',\n",
       " 'CCA',\n",
       " 'TGT',\n",
       " 'TAT',\n",
       " 'TAG',\n",
       " 'TCT',\n",
       " 'CTGG',\n",
       " 'ATT',\n",
       " 'CCA',\n",
       " 'CG',\n",
       " 'CTC',\n",
       " 'C',\n",
       " 'GGC',\n",
       " 'ATA',\n",
       " 'CTT',\n",
       " 'ACA',\n",
       " 'CAT',\n",
       " 'TTA',\n",
       " 'CAG',\n",
       " 'AAAA',\n",
       " 'GAG',\n",
       " 'AGA',\n",
       " 'CAG',\n",
       " 'AC',\n",
       " 'AAA',\n",
       " 'GAG',\n",
       " 'AGT',\n",
       " 'ACT',\n",
       " 'GTG',\n",
       " 'CTG',\n",
       " 'AAA',\n",
       " 'GGT',\n",
       " 'T',\n",
       " 'CAG',\n",
       " 'ACA',\n",
       " 'GAA',\n",
       " 'GAA',\n",
       " 'TTC',\n",
       " 'GGG',\n",
       " 'ACT',\n",
       " 'CAA',\n",
       " 'GCC',\n",
       " 'ACA',\n",
       " 'ACA',\n",
       " 'ACA',\n",
       " 'TTA',\n",
       " 'ATG',\n",
       " 'AGG',\n",
       " 'AAA',\n",
       " 'GGG',\n",
       " 'AGG',\n",
       " 'GTA',\n",
       " 'GGG',\n",
       " 'CAG',\n",
       " 'CCC',\n",
       " 'AGT',\n",
       " 'GAA',\n",
       " 'C',\n",
       " 'AAT',\n",
       " 'GAG',\n",
       " 'CTG',\n",
       " 'CTC',\n",
       " 'G',\n",
       " 'CAT',\n",
       " 'CAG',\n",
       " 'TTT',\n",
       " 'TGA',\n",
       " 'AAG',\n",
       " 'AGA',\n",
       " 'CAG',\n",
       " 'TAG',\n",
       " 'AGA',\n",
       " 'AGA',\n",
       " 'CAC',\n",
       " 'ACA',\n",
       " 'AAC',\n",
       " 'ATT',\n",
       " 'CCT',\n",
       " 'AAT',\n",
       " 'TTC',\n",
       " 'TTG',\n",
       " 'CCT',\n",
       " 'T',\n",
       " 'GGC',\n",
       " 'T',\n",
       " 'GGA',\n",
       " 'TAA',\n",
       " 'CTC',\n",
       " 'GGC',\n",
       " 'T',\n",
       " 'GC',\n",
       " 'AAA',\n",
       " 'AGG',\n",
       " 'TAA',\n",
       " 'GAT',\n",
       " 'TCT',\n",
       " 'TTG',\n",
       " 'CTC',\n",
       " 'TTC',\n",
       " 'C',\n",
       " 'GGT',\n",
       " 'TTT',\n",
       " 'CG',\n",
       " 'GGA',\n",
       " 'T',\n",
       " 'CAG',\n",
       " 'AGG',\n",
       " 'TAA',\n",
       " 'CCC',\n",
       " 'GGG',\n",
       " 'GGC',\n",
       " 'CTA',\n",
       " 'GC',\n",
       " 'A',\n",
       " 'CAG',\n",
       " 'GTG',\n",
       " 'GTC',\n",
       " 'TCA',\n",
       " 'CAT',\n",
       " 'CTGG',\n",
       " 'GAA']"
      ]
     },
     "execution_count": 9,
     "metadata": {},
     "output_type": "execute_result"
    }
   ],
   "source": [
    "tokenizer(train_dset[1][0])"
   ]
  },
  {
   "cell_type": "markdown",
   "id": "417f1a5e",
   "metadata": {
    "id": "sTTomnnP5kdU",
    "papermill": {
     "duration": 0.055508,
     "end_time": "2022-01-11T08:53:44.496492",
     "exception": false,
     "start_time": "2022-01-11T08:53:44.440984",
     "status": "completed"
    },
    "tags": []
   },
   "source": [
    "## Model"
   ]
  },
  {
   "cell_type": "code",
   "execution_count": 10,
   "id": "b83c54f5",
   "metadata": {
    "execution": {
     "iopub.execute_input": "2022-01-11T08:53:44.600298Z",
     "iopub.status.busy": "2022-01-11T08:53:44.599073Z",
     "iopub.status.idle": "2022-01-11T08:53:44.624332Z",
     "shell.execute_reply": "2022-01-11T08:53:44.624929Z"
    },
    "id": "ZNuXGIdD5kdU",
    "papermill": {
     "duration": 0.082646,
     "end_time": "2022-01-11T08:53:44.625187",
     "exception": false,
     "start_time": "2022-01-11T08:53:44.542541",
     "status": "completed"
    },
    "tags": []
   },
   "outputs": [],
   "source": [
    "model = CNN(\n",
    "    number_of_classes=config[\"number_of_classes\"],\n",
    "    vocab_size=vocabulary.__len__(),\n",
    "    embedding_dim=config[\"embedding_dim\"],\n",
    "    input_len=max_tok_len\n",
    ").to(device)"
   ]
  },
  {
   "cell_type": "markdown",
   "id": "78003777",
   "metadata": {
    "id": "1pqIm92h5kdV",
    "papermill": {
     "duration": 0.053344,
     "end_time": "2022-01-11T08:53:44.723643",
     "exception": false,
     "start_time": "2022-01-11T08:53:44.670299",
     "status": "completed"
    },
    "tags": []
   },
   "source": [
    "## Training"
   ]
  },
  {
   "cell_type": "code",
   "execution_count": 11,
   "id": "548b02c3",
   "metadata": {
    "colab": {
     "base_uri": "https://localhost:8080/"
    },
    "execution": {
     "iopub.execute_input": "2022-01-11T08:53:44.819507Z",
     "iopub.status.busy": "2022-01-11T08:53:44.818420Z",
     "iopub.status.idle": "2022-01-11T08:59:57.284881Z",
     "shell.execute_reply": "2022-01-11T08:59:57.285588Z"
    },
    "id": "uvO_-RFm5kdV",
    "outputId": "7799e5f9-78a7-4ef2-95e8-f06751912eda",
    "papermill": {
     "duration": 372.517384,
     "end_time": "2022-01-11T08:59:57.286328",
     "exception": false,
     "start_time": "2022-01-11T08:53:44.768944",
     "status": "completed"
    },
    "tags": []
   },
   "outputs": [
    {
     "name": "stdout",
     "output_type": "stream",
     "text": [
      "Epoch 0\n"
     ]
    },
    {
     "name": "stderr",
     "output_type": "stream",
     "text": [
      "/Users/katarina/Documents/repositories/GitHub/GLP/src/glp/tokenizers/utils.py:27: UserWarning: To copy construct from a tensor, it is recommended to use sourceTensor.clone().detach() or sourceTensor.clone().detach().requires_grad_(True), rather than torch.tensor(sourceTensor).\n",
      "  x = torch.tensor(pad(x), dtype=torch.long)\n"
     ]
    },
    {
     "name": "stdout",
     "output_type": "stream",
     "text": [
      "Train metrics: \n",
      " Accuracy: 69.2%, Avg loss: 0.638108 \n",
      "\n",
      "Epoch 1\n"
     ]
    },
    {
     "name": "stdout",
     "output_type": "stream",
     "text": [
      "Train metrics: \n",
      " Accuracy: 70.0%, Avg loss: 0.633585 \n",
      "\n",
      "Epoch 2\n"
     ]
    },
    {
     "name": "stdout",
     "output_type": "stream",
     "text": [
      "Train metrics: \n",
      " Accuracy: 71.2%, Avg loss: 0.630337 \n",
      "\n",
      "Epoch 3\n"
     ]
    },
    {
     "name": "stdout",
     "output_type": "stream",
     "text": [
      "Train metrics: \n",
      " Accuracy: 73.4%, Avg loss: 0.625814 \n",
      "\n",
      "Epoch 4\n"
     ]
    },
    {
     "name": "stdout",
     "output_type": "stream",
     "text": [
      "Train metrics: \n",
      " Accuracy: 72.0%, Avg loss: 0.621407 \n",
      "\n"
     ]
    }
   ],
   "source": [
    "model.train(train_loader, epochs=config[\"epochs\"])"
   ]
  },
  {
   "cell_type": "markdown",
   "id": "5164d9e4",
   "metadata": {
    "id": "bR2tamrc5kdV",
    "papermill": {
     "duration": 0.059632,
     "end_time": "2022-01-11T08:59:57.395149",
     "exception": false,
     "start_time": "2022-01-11T08:59:57.335517",
     "status": "completed"
    },
    "tags": []
   },
   "source": [
    "## Testing"
   ]
  },
  {
   "cell_type": "code",
   "execution_count": 12,
   "id": "7d2a97d7",
   "metadata": {
    "colab": {
     "base_uri": "https://localhost:8080/"
    },
    "execution": {
     "iopub.execute_input": "2022-01-11T08:59:57.588931Z",
     "iopub.status.busy": "2022-01-11T08:59:57.571278Z",
     "iopub.status.idle": "2022-01-11T09:00:06.596868Z",
     "shell.execute_reply": "2022-01-11T09:00:06.597670Z"
    },
    "id": "wbnciyRK5kdW",
    "outputId": "d2592f9d-f074-465f-95f8-df3b759ae068",
    "papermill": {
     "duration": 9.126519,
     "end_time": "2022-01-11T09:00:06.597885",
     "exception": false,
     "start_time": "2022-01-11T08:59:57.471366",
     "status": "completed"
    },
    "tags": []
   },
   "outputs": [
    {
     "name": "stdout",
     "output_type": "stream",
     "text": [
      "p  3474 ; tp  1683.739341020584 ; fp  580.1565756274522\n",
      "recall  0.4846687797986713 ; precision  0.7437353142601882\n",
      "num_batches 218\n",
      "correct 4600\n",
      "size 6948\n",
      "Test metrics: \n",
      " Accuracy: 0.662061, F1 score: 0.586884, Avg loss: 0.648841 \n",
      "\n"
     ]
    },
    {
     "data": {
      "text/plain": [
       "(0.6620610247553252, 0.5868838910567729)"
      ]
     },
     "execution_count": 12,
     "metadata": {},
     "output_type": "execute_result"
    }
   ],
   "source": [
    "test_dset = get_dataset(config[\"dataset\"], 'test')\n",
    "test_loader = DataLoader(test_dset, batch_size=config[\"batch_size\"], shuffle=True, collate_fn=collate)\n",
    "\n",
    "acc, f1 = model.test(test_loader)\n",
    "acc, f1"
   ]
  }
 ],
 "metadata": {
  "accelerator": "TPU",
  "colab": {
   "name": "torch_cnn_classifier.ipynb",
   "provenance": []
  },
  "environment": {
   "name": "pytorch-gpu.1-9.m75",
   "type": "gcloud",
   "uri": "gcr.io/deeplearning-platform-release/pytorch-gpu.1-9:m75"
  },
  "interpreter": {
   "hash": "9828b828580f1cac1b571b33de6cff8bacecc8916095e1bcbc967952ca7105b7"
  },
  "kernelspec": {
   "display_name": "Python 3",
   "name": "python3"
  },
  "language_info": {
   "codemirror_mode": {
    "name": "ipython",
    "version": 3
   },
   "file_extension": ".py",
   "mimetype": "text/x-python",
   "name": "python",
   "nbconvert_exporter": "python",
   "pygments_lexer": "ipython3",
   "version": "3.8.9"
  },
  "papermill": {
   "default_parameters": {},
   "duration": 1395.924646,
   "end_time": "2022-01-11T09:00:07.369730",
   "environment_variables": {},
   "exception": null,
   "input_path": "torch_cnn.ipynb",
   "output_path": "../torch_cnn_experiments/human_enhancers_cohn_subword_64.ipynb",
   "parameters": {
    "DATASET": "human_enhancers_cohn",
    "TOKENIZER": "subword",
    "VOCAB_SIZE": 64
   },
   "start_time": "2022-01-11T08:36:51.445084",
   "version": "2.3.3"
  }
 },
 "nbformat": 4,
 "nbformat_minor": 5
}