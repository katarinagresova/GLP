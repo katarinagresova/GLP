{
 "cells": [
  {
   "cell_type": "markdown",
   "id": "269b947f",
   "metadata": {
    "id": "SKOD9lvq5kdM",
    "papermill": {
     "duration": 0.019646,
     "end_time": "2022-01-11T10:13:13.417135",
     "exception": false,
     "start_time": "2022-01-11T10:13:13.397489",
     "status": "completed"
    },
    "tags": []
   },
   "source": [
    "# PYTORCH CNN Classifier"
   ]
  },
  {
   "cell_type": "code",
   "execution_count": 1,
   "id": "af4d6ee3",
   "metadata": {
    "execution": {
     "iopub.execute_input": "2022-01-11T10:13:13.459655Z",
     "iopub.status.busy": "2022-01-11T10:13:13.458688Z",
     "iopub.status.idle": "2022-01-11T10:13:13.464133Z",
     "shell.execute_reply": "2022-01-11T10:13:13.464648Z"
    },
    "id": "E8prt3AL5kdO",
    "papermill": {
     "duration": 0.03209,
     "end_time": "2022-01-11T10:13:13.464917",
     "exception": false,
     "start_time": "2022-01-11T10:13:13.432827",
     "status": "completed"
    },
    "tags": [
     "parameters"
    ]
   },
   "outputs": [],
   "source": [
    "DATASET = 'none'\n",
    "VOCAB_SIZE = 0\n",
    "TOKENIZER = 'none'\n",
    "KMER = 0"
   ]
  },
  {
   "cell_type": "code",
   "execution_count": 2,
   "id": "de294f95",
   "metadata": {
    "execution": {
     "iopub.execute_input": "2022-01-11T10:13:13.499126Z",
     "iopub.status.busy": "2022-01-11T10:13:13.498331Z",
     "iopub.status.idle": "2022-01-11T10:13:13.500740Z",
     "shell.execute_reply": "2022-01-11T10:13:13.501206Z"
    },
    "papermill": {
     "duration": 0.021555,
     "end_time": "2022-01-11T10:13:13.501438",
     "exception": false,
     "start_time": "2022-01-11T10:13:13.479883",
     "status": "completed"
    },
    "tags": [
     "injected-parameters"
    ]
   },
   "outputs": [],
   "source": [
    "# Parameters\n",
    "DATASET = \"human_enhancers_cohn\"\n",
    "TOKENIZER = \"kmer\"\n",
    "KMER = 2\n"
   ]
  },
  {
   "cell_type": "code",
   "execution_count": 3,
   "id": "44bc19df",
   "metadata": {
    "colab": {
     "base_uri": "https://localhost:8080/"
    },
    "execution": {
     "iopub.execute_input": "2022-01-11T10:13:13.534144Z",
     "iopub.status.busy": "2022-01-11T10:13:13.532907Z",
     "iopub.status.idle": "2022-01-11T10:13:13.537036Z",
     "shell.execute_reply": "2022-01-11T10:13:13.538076Z"
    },
    "id": "rohBItfR5kdP",
    "outputId": "7da7aafe-0858-48be-bf7d-f698784d88df",
    "papermill": {
     "duration": 0.023678,
     "end_time": "2022-01-11T10:13:13.538528",
     "exception": false,
     "start_time": "2022-01-11T10:13:13.514850",
     "status": "completed"
    },
    "tags": []
   },
   "outputs": [
    {
     "name": "stdout",
     "output_type": "stream",
     "text": [
      "human_enhancers_cohn 0 kmer 2\n"
     ]
    }
   ],
   "source": [
    "print(DATASET, VOCAB_SIZE, TOKENIZER, KMER)"
   ]
  },
  {
   "cell_type": "markdown",
   "id": "5ebeb2b0",
   "metadata": {
    "id": "Y-YQrVyb5kdQ",
    "papermill": {
     "duration": 0.01708,
     "end_time": "2022-01-11T10:13:13.574110",
     "exception": false,
     "start_time": "2022-01-11T10:13:13.557030",
     "status": "completed"
    },
    "tags": []
   },
   "source": [
    "## Config"
   ]
  },
  {
   "cell_type": "code",
   "execution_count": 4,
   "id": "4763aa56",
   "metadata": {
    "execution": {
     "iopub.execute_input": "2022-01-11T10:13:13.627844Z",
     "iopub.status.busy": "2022-01-11T10:13:13.626651Z",
     "iopub.status.idle": "2022-01-11T10:13:15.800862Z",
     "shell.execute_reply": "2022-01-11T10:13:15.801409Z"
    },
    "id": "FIunuyGk5kdR",
    "papermill": {
     "duration": 2.20366,
     "end_time": "2022-01-11T10:13:15.801626",
     "exception": false,
     "start_time": "2022-01-11T10:13:13.597966",
     "status": "completed"
    },
    "tags": []
   },
   "outputs": [],
   "source": [
    "import torch\n",
    "from torch.utils.data import DataLoader\n",
    "\n",
    "from genomic_benchmarks.dataset_getters.pytorch_datasets import get_dataset\n",
    "from glp.models import CNN\n",
    "from glp.tokenizers import get_tokenizer\n",
    "from glp.tokenizers.utils import build_vocab, coll_factory, check_config, check_seq_lengths"
   ]
  },
  {
   "cell_type": "code",
   "execution_count": 5,
   "id": "a42b1381",
   "metadata": {
    "execution": {
     "iopub.execute_input": "2022-01-11T10:13:15.846144Z",
     "iopub.status.busy": "2022-01-11T10:13:15.845265Z",
     "iopub.status.idle": "2022-01-11T10:13:15.847551Z",
     "shell.execute_reply": "2022-01-11T10:13:15.848049Z"
    },
    "id": "UgXiF6Zz5kdR",
    "papermill": {
     "duration": 0.030167,
     "end_time": "2022-01-11T10:13:15.848255",
     "exception": false,
     "start_time": "2022-01-11T10:13:15.818088",
     "status": "completed"
    },
    "tags": []
   },
   "outputs": [],
   "source": [
    "config = {\n",
    "    \"dataset\": DATASET,\n",
    "    \"tokenizer\": TOKENIZER,\n",
    "    \"dataset_version\": 0,\n",
    "    \"epochs\": 5,\n",
    "    \"batch_size\": 32,\n",
    "    \"use_padding\": True,\n",
    "    \"force_download\": False,\n",
    "    \"run_on_gpu\": True,\n",
    "    \"number_of_classes\": 2,\n",
    "    \"embedding_dim\": 100,\n",
    "}\n",
    "check_config(config)"
   ]
  },
  {
   "cell_type": "markdown",
   "id": "b17d2812",
   "metadata": {
    "id": "AUWF-avz5kdS",
    "papermill": {
     "duration": 0.014715,
     "end_time": "2022-01-11T10:13:15.877673",
     "exception": false,
     "start_time": "2022-01-11T10:13:15.862958",
     "status": "completed"
    },
    "tags": []
   },
   "source": [
    "## Choose the dataset"
   ]
  },
  {
   "cell_type": "code",
   "execution_count": 6,
   "id": "87f82746",
   "metadata": {
    "colab": {
     "base_uri": "https://localhost:8080/"
    },
    "execution": {
     "iopub.execute_input": "2022-01-11T10:13:15.913243Z",
     "iopub.status.busy": "2022-01-11T10:13:15.912068Z",
     "iopub.status.idle": "2022-01-11T10:13:16.089733Z",
     "shell.execute_reply": "2022-01-11T10:13:16.090232Z"
    },
    "id": "1oaryDJr5kdS",
    "outputId": "6a425df9-4092-4601-9cd9-f61d524b6278",
    "papermill": {
     "duration": 0.197652,
     "end_time": "2022-01-11T10:13:16.090438",
     "exception": false,
     "start_time": "2022-01-11T10:13:15.892786",
     "status": "completed"
    },
    "tags": []
   },
   "outputs": [],
   "source": [
    "train_dset = get_dataset(config[\"dataset\"], 'train')"
   ]
  },
  {
   "cell_type": "markdown",
   "id": "0a420494",
   "metadata": {
    "id": "B0lqmy935kdS",
    "papermill": {
     "duration": 0.019911,
     "end_time": "2022-01-11T10:13:16.125855",
     "exception": false,
     "start_time": "2022-01-11T10:13:16.105944",
     "status": "completed"
    },
    "tags": []
   },
   "source": [
    "## Tokenizer and vocab"
   ]
  },
  {
   "cell_type": "code",
   "execution_count": 7,
   "id": "a6fe926b",
   "metadata": {
    "colab": {
     "base_uri": "https://localhost:8080/"
    },
    "execution": {
     "iopub.execute_input": "2022-01-11T10:13:16.163388Z",
     "iopub.status.busy": "2022-01-11T10:13:16.162534Z",
     "iopub.status.idle": "2022-01-11T10:13:25.014349Z",
     "shell.execute_reply": "2022-01-11T10:13:25.014948Z"
    },
    "id": "NY_zualp5kdT",
    "outputId": "9034d65f-2f9a-4c83-a314-13d3b808fc65",
    "papermill": {
     "duration": 8.872928,
     "end_time": "2022-01-11T10:13:25.015153",
     "exception": false,
     "start_time": "2022-01-11T10:13:16.142225",
     "status": "completed"
    },
    "tags": []
   },
   "outputs": [
    {
     "name": "stdout",
     "output_type": "stream",
     "text": [
      "vocab len: 18\n",
      "{'TA': 15, 'TT': 14, 'GC': 13, 'TC': 11, 'AA': 4, 'AG': 9, 'CC': 6, 'CG': 8, 'GG': 7, 'GA': 2, 'TG': 3, '<pad>': 17, 'CT': 1, 'AT': 16, 'GT': 10, 'CA': 12, 'AC': 5, '<unk>': 0}\n"
     ]
    }
   ],
   "source": [
    "tokenizer = get_tokenizer(config['tokenizer'])\n",
    "tokenizer.train(train_dset=train_dset, vocab_size=VOCAB_SIZE, kmer=KMER)\n",
    "vocabulary = build_vocab(train_dset, tokenizer, use_padding=config[\"use_padding\"])\n",
    "\n",
    "print(\"vocab len:\" ,vocabulary.__len__())\n",
    "print(vocabulary.get_stoi())"
   ]
  },
  {
   "cell_type": "markdown",
   "id": "f5fbd41a",
   "metadata": {
    "id": "3hGQpSJA5kdT",
    "papermill": {
     "duration": 0.018083,
     "end_time": "2022-01-11T10:13:25.048811",
     "exception": false,
     "start_time": "2022-01-11T10:13:25.030728",
     "status": "completed"
    },
    "tags": []
   },
   "source": [
    "## Dataloader and batch preparation"
   ]
  },
  {
   "cell_type": "code",
   "execution_count": 8,
   "id": "f19e7620",
   "metadata": {
    "colab": {
     "base_uri": "https://localhost:8080/"
    },
    "execution": {
     "iopub.execute_input": "2022-01-11T10:13:25.091943Z",
     "iopub.status.busy": "2022-01-11T10:13:25.091193Z",
     "iopub.status.idle": "2022-01-11T10:13:31.008863Z",
     "shell.execute_reply": "2022-01-11T10:13:31.009335Z"
    },
    "id": "gXUgPH6q5kdT",
    "outputId": "a1eb6ba2-9bcd-416d-8662-e3516121da96",
    "papermill": {
     "duration": 5.939018,
     "end_time": "2022-01-11T10:13:31.009570",
     "exception": false,
     "start_time": "2022-01-11T10:13:25.070552",
     "status": "completed"
    },
    "tags": []
   },
   "outputs": [
    {
     "name": "stdout",
     "output_type": "stream",
     "text": [
      "Using cpu device\n"
     ]
    },
    {
     "name": "stdout",
     "output_type": "stream",
     "text": [
      "max_tok_len  250\n"
     ]
    }
   ],
   "source": [
    "# Run on GPU or CPU\n",
    "device = 'cuda' if config[\"run_on_gpu\"] and torch.cuda.is_available() else 'cpu'\n",
    "print('Using {} device'.format(device))\n",
    "\n",
    "max_tok_len = check_seq_lengths(dataset=train_dset, tokenizer=tokenizer)\n",
    "\n",
    "# Data Loader\n",
    "collate = coll_factory(vocabulary, tokenizer, device, pad_to_length = max_tok_len)\n",
    "\n",
    "train_loader = DataLoader(train_dset, batch_size=config[\"batch_size\"], shuffle=True, collate_fn=collate)"
   ]
  },
  {
   "cell_type": "code",
   "execution_count": 9,
   "id": "679b4c7d",
   "metadata": {
    "execution": {
     "iopub.execute_input": "2022-01-11T10:13:31.064968Z",
     "iopub.status.busy": "2022-01-11T10:13:31.060193Z",
     "iopub.status.idle": "2022-01-11T10:13:31.068376Z",
     "shell.execute_reply": "2022-01-11T10:13:31.068977Z"
    },
    "papermill": {
     "duration": 0.043385,
     "end_time": "2022-01-11T10:13:31.069242",
     "exception": false,
     "start_time": "2022-01-11T10:13:31.025857",
     "status": "completed"
    },
    "tags": []
   },
   "outputs": [
    {
     "data": {
      "text/plain": [
       "['CC',\n",
       " 'AT',\n",
       " 'CT',\n",
       " 'AT',\n",
       " 'TT',\n",
       " 'TT',\n",
       " 'GA',\n",
       " 'AT',\n",
       " 'CC',\n",
       " 'TT',\n",
       " 'TT',\n",
       " 'AA',\n",
       " 'CA',\n",
       " 'CT',\n",
       " 'TT',\n",
       " 'AT',\n",
       " 'GA',\n",
       " 'GA',\n",
       " 'GA',\n",
       " 'GA',\n",
       " 'AA',\n",
       " 'GA',\n",
       " 'AC',\n",
       " 'AG',\n",
       " 'AA',\n",
       " 'CA',\n",
       " 'GG',\n",
       " 'CA',\n",
       " 'GG',\n",
       " 'CA',\n",
       " 'GG',\n",
       " 'CT',\n",
       " 'GT',\n",
       " 'GT',\n",
       " 'TT',\n",
       " 'AA',\n",
       " 'CC',\n",
       " 'CC',\n",
       " 'AC',\n",
       " 'AA',\n",
       " 'CA',\n",
       " 'CC',\n",
       " 'AC',\n",
       " 'CA',\n",
       " 'TA',\n",
       " 'GA',\n",
       " 'GC',\n",
       " 'CT',\n",
       " 'AA',\n",
       " 'AA',\n",
       " 'GC',\n",
       " 'TT',\n",
       " 'GG',\n",
       " 'GA',\n",
       " 'GT',\n",
       " 'AA',\n",
       " 'AT',\n",
       " 'AC',\n",
       " 'AA',\n",
       " 'TT',\n",
       " 'TC',\n",
       " 'TT',\n",
       " 'TG',\n",
       " 'GC',\n",
       " 'AC',\n",
       " 'CT',\n",
       " 'TG',\n",
       " 'TA',\n",
       " 'AT',\n",
       " 'AA',\n",
       " 'AA',\n",
       " 'CA',\n",
       " 'TG',\n",
       " 'AA',\n",
       " 'CA',\n",
       " 'AT',\n",
       " 'GA',\n",
       " 'GT',\n",
       " 'TT',\n",
       " 'CT',\n",
       " 'CA',\n",
       " 'CC',\n",
       " 'AT',\n",
       " 'GT',\n",
       " 'TA',\n",
       " 'TT',\n",
       " 'AG',\n",
       " 'TC',\n",
       " 'TC',\n",
       " 'TG',\n",
       " 'GA',\n",
       " 'TT',\n",
       " 'CC',\n",
       " 'AC',\n",
       " 'GC',\n",
       " 'TC',\n",
       " 'CG',\n",
       " 'GC',\n",
       " 'AT',\n",
       " 'AC',\n",
       " 'TT',\n",
       " 'AC',\n",
       " 'AC',\n",
       " 'AT',\n",
       " 'TT',\n",
       " 'AC',\n",
       " 'AG',\n",
       " 'AA',\n",
       " 'AA',\n",
       " 'GA',\n",
       " 'GA',\n",
       " 'GA',\n",
       " 'CA',\n",
       " 'GA',\n",
       " 'CA',\n",
       " 'AA',\n",
       " 'GA',\n",
       " 'GA',\n",
       " 'GT',\n",
       " 'AC',\n",
       " 'TG',\n",
       " 'TG',\n",
       " 'CT',\n",
       " 'GA',\n",
       " 'AA',\n",
       " 'GG',\n",
       " 'TT',\n",
       " 'CA',\n",
       " 'GA',\n",
       " 'CA',\n",
       " 'GA',\n",
       " 'AG',\n",
       " 'AA',\n",
       " 'TT',\n",
       " 'CG',\n",
       " 'GG',\n",
       " 'AC',\n",
       " 'TC',\n",
       " 'AA',\n",
       " 'GC',\n",
       " 'CA',\n",
       " 'CA',\n",
       " 'AC',\n",
       " 'AA',\n",
       " 'CA',\n",
       " 'TT',\n",
       " 'AA',\n",
       " 'TG',\n",
       " 'AG',\n",
       " 'GA',\n",
       " 'AA',\n",
       " 'GG',\n",
       " 'GA',\n",
       " 'GG',\n",
       " 'GT',\n",
       " 'AG',\n",
       " 'GG',\n",
       " 'CA',\n",
       " 'GC',\n",
       " 'CC',\n",
       " 'AG',\n",
       " 'TG',\n",
       " 'AA',\n",
       " 'CA',\n",
       " 'AT',\n",
       " 'GA',\n",
       " 'GC',\n",
       " 'TG',\n",
       " 'CT',\n",
       " 'CG',\n",
       " 'CA',\n",
       " 'TC',\n",
       " 'AG',\n",
       " 'TT',\n",
       " 'TT',\n",
       " 'GA',\n",
       " 'AA',\n",
       " 'GA',\n",
       " 'GA',\n",
       " 'CA',\n",
       " 'GT',\n",
       " 'AG',\n",
       " 'AG',\n",
       " 'AA',\n",
       " 'GA',\n",
       " 'CA',\n",
       " 'CA',\n",
       " 'CA',\n",
       " 'AA',\n",
       " 'CA',\n",
       " 'TT',\n",
       " 'CC',\n",
       " 'TA',\n",
       " 'AT',\n",
       " 'TT',\n",
       " 'CT',\n",
       " 'TG',\n",
       " 'CC',\n",
       " 'TT',\n",
       " 'GG',\n",
       " 'CT',\n",
       " 'GG',\n",
       " 'AT',\n",
       " 'AA',\n",
       " 'CT',\n",
       " 'CG',\n",
       " 'GC',\n",
       " 'TG',\n",
       " 'CA',\n",
       " 'AA',\n",
       " 'AG',\n",
       " 'GT',\n",
       " 'AA',\n",
       " 'GA',\n",
       " 'TT',\n",
       " 'CT',\n",
       " 'TT',\n",
       " 'GC',\n",
       " 'TC',\n",
       " 'TT',\n",
       " 'CC',\n",
       " 'GG',\n",
       " 'TT',\n",
       " 'TT',\n",
       " 'CG',\n",
       " 'GG',\n",
       " 'AT',\n",
       " 'CA',\n",
       " 'GA',\n",
       " 'GG',\n",
       " 'TA',\n",
       " 'AC',\n",
       " 'CC',\n",
       " 'GG',\n",
       " 'GG',\n",
       " 'GC',\n",
       " 'CT',\n",
       " 'AG',\n",
       " 'CA',\n",
       " 'CA',\n",
       " 'GG',\n",
       " 'TG',\n",
       " 'GT',\n",
       " 'CT',\n",
       " 'CA',\n",
       " 'CA',\n",
       " 'TC',\n",
       " 'TG',\n",
       " 'GG',\n",
       " 'AA']"
      ]
     },
     "execution_count": 9,
     "metadata": {},
     "output_type": "execute_result"
    }
   ],
   "source": [
    "tokenizer(train_dset[1][0])"
   ]
  },
  {
   "cell_type": "markdown",
   "id": "df6464a3",
   "metadata": {
    "id": "sTTomnnP5kdU",
    "papermill": {
     "duration": 0.01613,
     "end_time": "2022-01-11T10:13:31.102281",
     "exception": false,
     "start_time": "2022-01-11T10:13:31.086151",
     "status": "completed"
    },
    "tags": []
   },
   "source": [
    "## Model"
   ]
  },
  {
   "cell_type": "code",
   "execution_count": 10,
   "id": "64b29db1",
   "metadata": {
    "execution": {
     "iopub.execute_input": "2022-01-11T10:13:31.141736Z",
     "iopub.status.busy": "2022-01-11T10:13:31.140974Z",
     "iopub.status.idle": "2022-01-11T10:13:31.152693Z",
     "shell.execute_reply": "2022-01-11T10:13:31.153164Z"
    },
    "id": "ZNuXGIdD5kdU",
    "papermill": {
     "duration": 0.033471,
     "end_time": "2022-01-11T10:13:31.153438",
     "exception": false,
     "start_time": "2022-01-11T10:13:31.119967",
     "status": "completed"
    },
    "tags": []
   },
   "outputs": [],
   "source": [
    "model = CNN(\n",
    "    number_of_classes=config[\"number_of_classes\"],\n",
    "    vocab_size=vocabulary.__len__(),\n",
    "    embedding_dim=config[\"embedding_dim\"],\n",
    "    input_len=max_tok_len\n",
    ").to(device)"
   ]
  },
  {
   "cell_type": "markdown",
   "id": "f5e21dea",
   "metadata": {
    "id": "1pqIm92h5kdV",
    "papermill": {
     "duration": 0.022332,
     "end_time": "2022-01-11T10:13:31.192573",
     "exception": false,
     "start_time": "2022-01-11T10:13:31.170241",
     "status": "completed"
    },
    "tags": []
   },
   "source": [
    "## Training"
   ]
  },
  {
   "cell_type": "code",
   "execution_count": 11,
   "id": "8c34a5dc",
   "metadata": {
    "colab": {
     "base_uri": "https://localhost:8080/"
    },
    "execution": {
     "iopub.execute_input": "2022-01-11T10:13:31.230811Z",
     "iopub.status.busy": "2022-01-11T10:13:31.230087Z",
     "iopub.status.idle": "2022-01-11T10:19:34.804782Z",
     "shell.execute_reply": "2022-01-11T10:19:34.805325Z"
    },
    "id": "uvO_-RFm5kdV",
    "outputId": "7799e5f9-78a7-4ef2-95e8-f06751912eda",
    "papermill": {
     "duration": 363.596794,
     "end_time": "2022-01-11T10:19:34.805946",
     "exception": false,
     "start_time": "2022-01-11T10:13:31.209152",
     "status": "completed"
    },
    "tags": []
   },
   "outputs": [
    {
     "name": "stdout",
     "output_type": "stream",
     "text": [
      "Epoch 0\n"
     ]
    },
    {
     "name": "stderr",
     "output_type": "stream",
     "text": [
      "/Users/katarina/Documents/repositories/GitHub/GLP/src/glp/tokenizers/utils.py:27: UserWarning: To copy construct from a tensor, it is recommended to use sourceTensor.clone().detach() or sourceTensor.clone().detach().requires_grad_(True), rather than torch.tensor(sourceTensor).\n",
      "  x = torch.tensor(pad(x), dtype=torch.long)\n"
     ]
    },
    {
     "name": "stdout",
     "output_type": "stream",
     "text": [
      "Train metrics: \n",
      " Accuracy: 62.9%, Avg loss: 0.653756 \n",
      "\n",
      "Epoch 1\n"
     ]
    },
    {
     "name": "stdout",
     "output_type": "stream",
     "text": [
      "Train metrics: \n",
      " Accuracy: 67.0%, Avg loss: 0.648485 \n",
      "\n",
      "Epoch 2\n"
     ]
    },
    {
     "name": "stdout",
     "output_type": "stream",
     "text": [
      "Train metrics: \n",
      " Accuracy: 67.3%, Avg loss: 0.640385 \n",
      "\n",
      "Epoch 3\n"
     ]
    },
    {
     "name": "stdout",
     "output_type": "stream",
     "text": [
      "Train metrics: \n",
      " Accuracy: 68.6%, Avg loss: 0.638475 \n",
      "\n",
      "Epoch 4\n"
     ]
    },
    {
     "name": "stdout",
     "output_type": "stream",
     "text": [
      "Train metrics: \n",
      " Accuracy: 70.8%, Avg loss: 0.632267 \n",
      "\n"
     ]
    }
   ],
   "source": [
    "model.train(train_loader, epochs=config[\"epochs\"])"
   ]
  },
  {
   "cell_type": "markdown",
   "id": "981bc1ab",
   "metadata": {
    "id": "bR2tamrc5kdV",
    "papermill": {
     "duration": 0.024882,
     "end_time": "2022-01-11T10:19:34.859645",
     "exception": false,
     "start_time": "2022-01-11T10:19:34.834763",
     "status": "completed"
    },
    "tags": []
   },
   "source": [
    "## Testing"
   ]
  },
  {
   "cell_type": "code",
   "execution_count": 12,
   "id": "17b2cc68",
   "metadata": {
    "colab": {
     "base_uri": "https://localhost:8080/"
    },
    "execution": {
     "iopub.execute_input": "2022-01-11T10:19:34.914266Z",
     "iopub.status.busy": "2022-01-11T10:19:34.913128Z",
     "iopub.status.idle": "2022-01-11T10:19:43.950314Z",
     "shell.execute_reply": "2022-01-11T10:19:43.950823Z"
    },
    "id": "wbnciyRK5kdW",
    "outputId": "d2592f9d-f074-465f-95f8-df3b759ae068",
    "papermill": {
     "duration": 9.071648,
     "end_time": "2022-01-11T10:19:43.951030",
     "exception": false,
     "start_time": "2022-01-11T10:19:34.879382",
     "status": "completed"
    },
    "tags": []
   },
   "outputs": [
    {
     "name": "stdout",
     "output_type": "stream",
     "text": [
      "p  3474 ; tp  1866.2110809087753 ; fp  682.9774398999361\n",
      "recall  0.5371937481026987 ; precision  0.7320804505728488\n",
      "num_batches 218\n",
      "correct 4701\n",
      "size 6948\n",
      "Test metrics: \n",
      " Accuracy: 0.676598, F1 score: 0.619675, Avg loss: 0.647931 \n",
      "\n"
     ]
    },
    {
     "data": {
      "text/plain": [
       "(0.6765975820379966, 0.6196754673912169)"
      ]
     },
     "execution_count": 12,
     "metadata": {},
     "output_type": "execute_result"
    }
   ],
   "source": [
    "test_dset = get_dataset(config[\"dataset\"], 'test')\n",
    "test_loader = DataLoader(test_dset, batch_size=config[\"batch_size\"], shuffle=True, collate_fn=collate)\n",
    "\n",
    "acc, f1 = model.test(test_loader)\n",
    "acc, f1"
   ]
  }
 ],
 "metadata": {
  "accelerator": "TPU",
  "colab": {
   "name": "torch_cnn_classifier.ipynb",
   "provenance": []
  },
  "environment": {
   "name": "pytorch-gpu.1-9.m75",
   "type": "gcloud",
   "uri": "gcr.io/deeplearning-platform-release/pytorch-gpu.1-9:m75"
  },
  "interpreter": {
   "hash": "9828b828580f1cac1b571b33de6cff8bacecc8916095e1bcbc967952ca7105b7"
  },
  "kernelspec": {
   "display_name": "Python 3",
   "name": "python3"
  },
  "language_info": {
   "codemirror_mode": {
    "name": "ipython",
    "version": 3
   },
   "file_extension": ".py",
   "mimetype": "text/x-python",
   "name": "python",
   "nbconvert_exporter": "python",
   "pygments_lexer": "ipython3",
   "version": "3.8.9"
  },
  "papermill": {
   "default_parameters": {},
   "duration": 393.197282,
   "end_time": "2022-01-11T10:19:44.593889",
   "environment_variables": {},
   "exception": null,
   "input_path": "torch_cnn.ipynb",
   "output_path": "../torch_cnn_experiments/human_enhancers_cohn_kmer_2.ipynb",
   "parameters": {
    "DATASET": "human_enhancers_cohn",
    "KMER": 2,
    "TOKENIZER": "kmer"
   },
   "start_time": "2022-01-11T10:13:11.396607",
   "version": "2.3.3"
  }
 },
 "nbformat": 4,
 "nbformat_minor": 5
}