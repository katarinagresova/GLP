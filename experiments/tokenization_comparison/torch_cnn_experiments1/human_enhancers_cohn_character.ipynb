{
 "cells": [
  {
   "cell_type": "markdown",
   "id": "6bcd2de2",
   "metadata": {
    "id": "SKOD9lvq5kdM",
    "papermill": {
     "duration": 0.016295,
     "end_time": "2022-01-11T08:26:08.806484",
     "exception": false,
     "start_time": "2022-01-11T08:26:08.790189",
     "status": "completed"
    },
    "tags": []
   },
   "source": [
    "# PYTORCH CNN Classifier"
   ]
  },
  {
   "cell_type": "code",
   "execution_count": 1,
   "id": "e81a1f1f",
   "metadata": {
    "execution": {
     "iopub.execute_input": "2022-01-11T08:26:08.856114Z",
     "iopub.status.busy": "2022-01-11T08:26:08.855113Z",
     "iopub.status.idle": "2022-01-11T08:26:08.860350Z",
     "shell.execute_reply": "2022-01-11T08:26:08.860871Z"
    },
    "id": "E8prt3AL5kdO",
    "papermill": {
     "duration": 0.038946,
     "end_time": "2022-01-11T08:26:08.861160",
     "exception": false,
     "start_time": "2022-01-11T08:26:08.822214",
     "status": "completed"
    },
    "tags": [
     "parameters"
    ]
   },
   "outputs": [],
   "source": [
    "DATASET = 'none'\n",
    "VOCAB_SIZE = 0\n",
    "TOKENIZER = 'none'\n",
    "KMER = 0"
   ]
  },
  {
   "cell_type": "code",
   "execution_count": 2,
   "id": "60ebd0b4",
   "metadata": {
    "execution": {
     "iopub.execute_input": "2022-01-11T08:26:08.894338Z",
     "iopub.status.busy": "2022-01-11T08:26:08.893476Z",
     "iopub.status.idle": "2022-01-11T08:26:08.895424Z",
     "shell.execute_reply": "2022-01-11T08:26:08.896210Z"
    },
    "papermill": {
     "duration": 0.021118,
     "end_time": "2022-01-11T08:26:08.896474",
     "exception": false,
     "start_time": "2022-01-11T08:26:08.875356",
     "status": "completed"
    },
    "tags": [
     "injected-parameters"
    ]
   },
   "outputs": [],
   "source": [
    "# Parameters\n",
    "DATASET = \"human_enhancers_cohn\"\n",
    "TOKENIZER = \"character\"\n"
   ]
  },
  {
   "cell_type": "code",
   "execution_count": 3,
   "id": "093c75cf",
   "metadata": {
    "colab": {
     "base_uri": "https://localhost:8080/"
    },
    "execution": {
     "iopub.execute_input": "2022-01-11T08:26:08.931721Z",
     "iopub.status.busy": "2022-01-11T08:26:08.930939Z",
     "iopub.status.idle": "2022-01-11T08:26:08.934436Z",
     "shell.execute_reply": "2022-01-11T08:26:08.934943Z"
    },
    "id": "rohBItfR5kdP",
    "outputId": "7da7aafe-0858-48be-bf7d-f698784d88df",
    "papermill": {
     "duration": 0.022993,
     "end_time": "2022-01-11T08:26:08.935174",
     "exception": false,
     "start_time": "2022-01-11T08:26:08.912181",
     "status": "completed"
    },
    "tags": []
   },
   "outputs": [
    {
     "name": "stdout",
     "output_type": "stream",
     "text": [
      "human_enhancers_cohn 0 character 0\n"
     ]
    }
   ],
   "source": [
    "print(DATASET, VOCAB_SIZE, TOKENIZER, KMER)"
   ]
  },
  {
   "cell_type": "markdown",
   "id": "c4afba85",
   "metadata": {
    "id": "Y-YQrVyb5kdQ",
    "papermill": {
     "duration": 0.016125,
     "end_time": "2022-01-11T08:26:08.966106",
     "exception": false,
     "start_time": "2022-01-11T08:26:08.949981",
     "status": "completed"
    },
    "tags": []
   },
   "source": [
    "## Config"
   ]
  },
  {
   "cell_type": "code",
   "execution_count": 4,
   "id": "33cc95a4",
   "metadata": {
    "execution": {
     "iopub.execute_input": "2022-01-11T08:26:09.004891Z",
     "iopub.status.busy": "2022-01-11T08:26:09.003823Z",
     "iopub.status.idle": "2022-01-11T08:26:11.035417Z",
     "shell.execute_reply": "2022-01-11T08:26:11.035946Z"
    },
    "id": "FIunuyGk5kdR",
    "papermill": {
     "duration": 2.053145,
     "end_time": "2022-01-11T08:26:11.036152",
     "exception": false,
     "start_time": "2022-01-11T08:26:08.983007",
     "status": "completed"
    },
    "tags": []
   },
   "outputs": [],
   "source": [
    "import torch\n",
    "from torch.utils.data import DataLoader\n",
    "\n",
    "from genomic_benchmarks.dataset_getters.pytorch_datasets import get_dataset\n",
    "from glp.models import CNN\n",
    "from glp.tokenizers import get_tokenizer\n",
    "from glp.tokenizers.utils import build_vocab, coll_factory, check_config, check_seq_lengths"
   ]
  },
  {
   "cell_type": "code",
   "execution_count": 5,
   "id": "6bfaec93",
   "metadata": {
    "execution": {
     "iopub.execute_input": "2022-01-11T08:26:11.076318Z",
     "iopub.status.busy": "2022-01-11T08:26:11.075465Z",
     "iopub.status.idle": "2022-01-11T08:26:11.077610Z",
     "shell.execute_reply": "2022-01-11T08:26:11.078340Z"
    },
    "id": "UgXiF6Zz5kdR",
    "papermill": {
     "duration": 0.027062,
     "end_time": "2022-01-11T08:26:11.078543",
     "exception": false,
     "start_time": "2022-01-11T08:26:11.051481",
     "status": "completed"
    },
    "tags": []
   },
   "outputs": [],
   "source": [
    "config = {\n",
    "    \"dataset\": DATASET,\n",
    "    \"tokenizer\": TOKENIZER,\n",
    "    \"dataset_version\": 0,\n",
    "    \"epochs\": 5,\n",
    "    \"batch_size\": 32,\n",
    "    \"use_padding\": True,\n",
    "    \"force_download\": False,\n",
    "    \"run_on_gpu\": True,\n",
    "    \"number_of_classes\": 2,\n",
    "    \"embedding_dim\": 100,\n",
    "}\n",
    "check_config(config)"
   ]
  },
  {
   "cell_type": "markdown",
   "id": "e996aa8a",
   "metadata": {
    "id": "AUWF-avz5kdS",
    "papermill": {
     "duration": 0.015165,
     "end_time": "2022-01-11T08:26:11.109361",
     "exception": false,
     "start_time": "2022-01-11T08:26:11.094196",
     "status": "completed"
    },
    "tags": []
   },
   "source": [
    "## Choose the dataset"
   ]
  },
  {
   "cell_type": "code",
   "execution_count": 6,
   "id": "837f563b",
   "metadata": {
    "colab": {
     "base_uri": "https://localhost:8080/"
    },
    "execution": {
     "iopub.execute_input": "2022-01-11T08:26:11.145071Z",
     "iopub.status.busy": "2022-01-11T08:26:11.143637Z",
     "iopub.status.idle": "2022-01-11T08:26:11.334445Z",
     "shell.execute_reply": "2022-01-11T08:26:11.334965Z"
    },
    "id": "1oaryDJr5kdS",
    "outputId": "6a425df9-4092-4601-9cd9-f61d524b6278",
    "papermill": {
     "duration": 0.210983,
     "end_time": "2022-01-11T08:26:11.335175",
     "exception": false,
     "start_time": "2022-01-11T08:26:11.124192",
     "status": "completed"
    },
    "tags": []
   },
   "outputs": [],
   "source": [
    "train_dset = get_dataset(config[\"dataset\"], 'train')"
   ]
  },
  {
   "cell_type": "markdown",
   "id": "d33ba49d",
   "metadata": {
    "id": "B0lqmy935kdS",
    "papermill": {
     "duration": 0.017511,
     "end_time": "2022-01-11T08:26:11.367624",
     "exception": false,
     "start_time": "2022-01-11T08:26:11.350113",
     "status": "completed"
    },
    "tags": []
   },
   "source": [
    "## Tokenizer and vocab"
   ]
  },
  {
   "cell_type": "code",
   "execution_count": 7,
   "id": "e5cfa69a",
   "metadata": {
    "colab": {
     "base_uri": "https://localhost:8080/"
    },
    "execution": {
     "iopub.execute_input": "2022-01-11T08:26:11.408130Z",
     "iopub.status.busy": "2022-01-11T08:26:11.407102Z",
     "iopub.status.idle": "2022-01-11T08:26:19.976802Z",
     "shell.execute_reply": "2022-01-11T08:26:19.977405Z"
    },
    "id": "NY_zualp5kdT",
    "outputId": "9034d65f-2f9a-4c83-a314-13d3b808fc65",
    "papermill": {
     "duration": 8.590798,
     "end_time": "2022-01-11T08:26:19.977651",
     "exception": false,
     "start_time": "2022-01-11T08:26:11.386853",
     "status": "completed"
    },
    "tags": []
   },
   "outputs": [
    {
     "name": "stdout",
     "output_type": "stream",
     "text": [
      "vocab len: 8\n",
      "{'<eos>': 6, 'G': 4, 'A': 5, 'C': 2, '<pad>': 7, '<bos>': 1, 'T': 3, '<unk>': 0}\n"
     ]
    }
   ],
   "source": [
    "tokenizer = get_tokenizer(config['tokenizer'])\n",
    "tokenizer.train(train_dset=train_dset, vocab_size=VOCAB_SIZE, kmer=KMER)\n",
    "vocabulary = build_vocab(train_dset, tokenizer, use_padding=config[\"use_padding\"])\n",
    "\n",
    "print(\"vocab len:\" ,vocabulary.__len__())\n",
    "print(vocabulary.get_stoi())"
   ]
  },
  {
   "cell_type": "markdown",
   "id": "2bad1801",
   "metadata": {
    "id": "3hGQpSJA5kdT",
    "papermill": {
     "duration": 0.022143,
     "end_time": "2022-01-11T08:26:20.015690",
     "exception": false,
     "start_time": "2022-01-11T08:26:19.993547",
     "status": "completed"
    },
    "tags": []
   },
   "source": [
    "## Dataloader and batch preparation"
   ]
  },
  {
   "cell_type": "code",
   "execution_count": 8,
   "id": "ffdab11d",
   "metadata": {
    "colab": {
     "base_uri": "https://localhost:8080/"
    },
    "execution": {
     "iopub.execute_input": "2022-01-11T08:26:20.055683Z",
     "iopub.status.busy": "2022-01-11T08:26:20.054763Z",
     "iopub.status.idle": "2022-01-11T08:26:25.057560Z",
     "shell.execute_reply": "2022-01-11T08:26:25.058037Z"
    },
    "id": "gXUgPH6q5kdT",
    "outputId": "a1eb6ba2-9bcd-416d-8662-e3516121da96",
    "papermill": {
     "duration": 5.026269,
     "end_time": "2022-01-11T08:26:25.058239",
     "exception": false,
     "start_time": "2022-01-11T08:26:20.031970",
     "status": "completed"
    },
    "tags": []
   },
   "outputs": [
    {
     "name": "stdout",
     "output_type": "stream",
     "text": [
      "Using cpu device\n"
     ]
    },
    {
     "name": "stdout",
     "output_type": "stream",
     "text": [
      "max_tok_len  502\n"
     ]
    }
   ],
   "source": [
    "# Run on GPU or CPU\n",
    "device = 'cuda' if config[\"run_on_gpu\"] and torch.cuda.is_available() else 'cpu'\n",
    "print('Using {} device'.format(device))\n",
    "\n",
    "max_tok_len = check_seq_lengths(dataset=train_dset, tokenizer=tokenizer)\n",
    "\n",
    "# Data Loader\n",
    "collate = coll_factory(vocabulary, tokenizer, device, pad_to_length = max_tok_len)\n",
    "\n",
    "train_loader = DataLoader(train_dset, batch_size=config[\"batch_size\"], shuffle=True, collate_fn=collate)"
   ]
  },
  {
   "cell_type": "code",
   "execution_count": 9,
   "id": "1eec770f",
   "metadata": {
    "execution": {
     "iopub.execute_input": "2022-01-11T08:26:25.102319Z",
     "iopub.status.busy": "2022-01-11T08:26:25.101550Z",
     "iopub.status.idle": "2022-01-11T08:26:25.120296Z",
     "shell.execute_reply": "2022-01-11T08:26:25.121001Z"
    },
    "papermill": {
     "duration": 0.046371,
     "end_time": "2022-01-11T08:26:25.121204",
     "exception": false,
     "start_time": "2022-01-11T08:26:25.074833",
     "status": "completed"
    },
    "tags": []
   },
   "outputs": [
    {
     "data": {
      "text/plain": [
       "['<bos>',\n",
       " 'C',\n",
       " 'C',\n",
       " 'A',\n",
       " 'T',\n",
       " 'C',\n",
       " 'T',\n",
       " 'A',\n",
       " 'T',\n",
       " 'T',\n",
       " 'T',\n",
       " 'T',\n",
       " 'T',\n",
       " 'G',\n",
       " 'A',\n",
       " 'A',\n",
       " 'T',\n",
       " 'C',\n",
       " 'C',\n",
       " 'T',\n",
       " 'T',\n",
       " 'T',\n",
       " 'T',\n",
       " 'A',\n",
       " 'A',\n",
       " 'C',\n",
       " 'A',\n",
       " 'C',\n",
       " 'T',\n",
       " 'T',\n",
       " 'T',\n",
       " 'A',\n",
       " 'T',\n",
       " 'G',\n",
       " 'A',\n",
       " 'G',\n",
       " 'A',\n",
       " 'G',\n",
       " 'A',\n",
       " 'G',\n",
       " 'A',\n",
       " 'A',\n",
       " 'A',\n",
       " 'G',\n",
       " 'A',\n",
       " 'A',\n",
       " 'C',\n",
       " 'A',\n",
       " 'G',\n",
       " 'A',\n",
       " 'A',\n",
       " 'C',\n",
       " 'A',\n",
       " 'G',\n",
       " 'G',\n",
       " 'C',\n",
       " 'A',\n",
       " 'G',\n",
       " 'G',\n",
       " 'C',\n",
       " 'A',\n",
       " 'G',\n",
       " 'G',\n",
       " 'C',\n",
       " 'T',\n",
       " 'G',\n",
       " 'T',\n",
       " 'G',\n",
       " 'T',\n",
       " 'T',\n",
       " 'T',\n",
       " 'A',\n",
       " 'A',\n",
       " 'C',\n",
       " 'C',\n",
       " 'C',\n",
       " 'C',\n",
       " 'A',\n",
       " 'C',\n",
       " 'A',\n",
       " 'A',\n",
       " 'C',\n",
       " 'A',\n",
       " 'C',\n",
       " 'C',\n",
       " 'A',\n",
       " 'C',\n",
       " 'C',\n",
       " 'A',\n",
       " 'T',\n",
       " 'A',\n",
       " 'G',\n",
       " 'A',\n",
       " 'G',\n",
       " 'C',\n",
       " 'C',\n",
       " 'T',\n",
       " 'A',\n",
       " 'A',\n",
       " 'A',\n",
       " 'A',\n",
       " 'G',\n",
       " 'C',\n",
       " 'T',\n",
       " 'T',\n",
       " 'G',\n",
       " 'G',\n",
       " 'G',\n",
       " 'A',\n",
       " 'G',\n",
       " 'T',\n",
       " 'A',\n",
       " 'A',\n",
       " 'A',\n",
       " 'T',\n",
       " 'A',\n",
       " 'C',\n",
       " 'A',\n",
       " 'A',\n",
       " 'T',\n",
       " 'T',\n",
       " 'T',\n",
       " 'C',\n",
       " 'T',\n",
       " 'T',\n",
       " 'T',\n",
       " 'G',\n",
       " 'G',\n",
       " 'C',\n",
       " 'A',\n",
       " 'C',\n",
       " 'C',\n",
       " 'T',\n",
       " 'T',\n",
       " 'G',\n",
       " 'T',\n",
       " 'A',\n",
       " 'A',\n",
       " 'T',\n",
       " 'A',\n",
       " 'A',\n",
       " 'A',\n",
       " 'A',\n",
       " 'C',\n",
       " 'A',\n",
       " 'T',\n",
       " 'G',\n",
       " 'A',\n",
       " 'A',\n",
       " 'C',\n",
       " 'A',\n",
       " 'A',\n",
       " 'T',\n",
       " 'G',\n",
       " 'A',\n",
       " 'G',\n",
       " 'T',\n",
       " 'T',\n",
       " 'T',\n",
       " 'C',\n",
       " 'T',\n",
       " 'C',\n",
       " 'A',\n",
       " 'C',\n",
       " 'C',\n",
       " 'A',\n",
       " 'T',\n",
       " 'G',\n",
       " 'T',\n",
       " 'T',\n",
       " 'A',\n",
       " 'T',\n",
       " 'T',\n",
       " 'A',\n",
       " 'G',\n",
       " 'T',\n",
       " 'C',\n",
       " 'T',\n",
       " 'C',\n",
       " 'T',\n",
       " 'G',\n",
       " 'G',\n",
       " 'A',\n",
       " 'T',\n",
       " 'T',\n",
       " 'C',\n",
       " 'C',\n",
       " 'A',\n",
       " 'C',\n",
       " 'G',\n",
       " 'C',\n",
       " 'T',\n",
       " 'C',\n",
       " 'C',\n",
       " 'G',\n",
       " 'G',\n",
       " 'C',\n",
       " 'A',\n",
       " 'T',\n",
       " 'A',\n",
       " 'C',\n",
       " 'T',\n",
       " 'T',\n",
       " 'A',\n",
       " 'C',\n",
       " 'A',\n",
       " 'C',\n",
       " 'A',\n",
       " 'T',\n",
       " 'T',\n",
       " 'T',\n",
       " 'A',\n",
       " 'C',\n",
       " 'A',\n",
       " 'G',\n",
       " 'A',\n",
       " 'A',\n",
       " 'A',\n",
       " 'A',\n",
       " 'G',\n",
       " 'A',\n",
       " 'G',\n",
       " 'A',\n",
       " 'G',\n",
       " 'A',\n",
       " 'C',\n",
       " 'A',\n",
       " 'G',\n",
       " 'A',\n",
       " 'C',\n",
       " 'A',\n",
       " 'A',\n",
       " 'A',\n",
       " 'G',\n",
       " 'A',\n",
       " 'G',\n",
       " 'A',\n",
       " 'G',\n",
       " 'T',\n",
       " 'A',\n",
       " 'C',\n",
       " 'T',\n",
       " 'G',\n",
       " 'T',\n",
       " 'G',\n",
       " 'C',\n",
       " 'T',\n",
       " 'G',\n",
       " 'A',\n",
       " 'A',\n",
       " 'A',\n",
       " 'G',\n",
       " 'G',\n",
       " 'T',\n",
       " 'T',\n",
       " 'C',\n",
       " 'A',\n",
       " 'G',\n",
       " 'A',\n",
       " 'C',\n",
       " 'A',\n",
       " 'G',\n",
       " 'A',\n",
       " 'A',\n",
       " 'G',\n",
       " 'A',\n",
       " 'A',\n",
       " 'T',\n",
       " 'T',\n",
       " 'C',\n",
       " 'G',\n",
       " 'G',\n",
       " 'G',\n",
       " 'A',\n",
       " 'C',\n",
       " 'T',\n",
       " 'C',\n",
       " 'A',\n",
       " 'A',\n",
       " 'G',\n",
       " 'C',\n",
       " 'C',\n",
       " 'A',\n",
       " 'C',\n",
       " 'A',\n",
       " 'A',\n",
       " 'C',\n",
       " 'A',\n",
       " 'A',\n",
       " 'C',\n",
       " 'A',\n",
       " 'T',\n",
       " 'T',\n",
       " 'A',\n",
       " 'A',\n",
       " 'T',\n",
       " 'G',\n",
       " 'A',\n",
       " 'G',\n",
       " 'G',\n",
       " 'A',\n",
       " 'A',\n",
       " 'A',\n",
       " 'G',\n",
       " 'G',\n",
       " 'G',\n",
       " 'A',\n",
       " 'G',\n",
       " 'G',\n",
       " 'G',\n",
       " 'T',\n",
       " 'A',\n",
       " 'G',\n",
       " 'G',\n",
       " 'G',\n",
       " 'C',\n",
       " 'A',\n",
       " 'G',\n",
       " 'C',\n",
       " 'C',\n",
       " 'C',\n",
       " 'A',\n",
       " 'G',\n",
       " 'T',\n",
       " 'G',\n",
       " 'A',\n",
       " 'A',\n",
       " 'C',\n",
       " 'A',\n",
       " 'A',\n",
       " 'T',\n",
       " 'G',\n",
       " 'A',\n",
       " 'G',\n",
       " 'C',\n",
       " 'T',\n",
       " 'G',\n",
       " 'C',\n",
       " 'T',\n",
       " 'C',\n",
       " 'G',\n",
       " 'C',\n",
       " 'A',\n",
       " 'T',\n",
       " 'C',\n",
       " 'A',\n",
       " 'G',\n",
       " 'T',\n",
       " 'T',\n",
       " 'T',\n",
       " 'T',\n",
       " 'G',\n",
       " 'A',\n",
       " 'A',\n",
       " 'A',\n",
       " 'G',\n",
       " 'A',\n",
       " 'G',\n",
       " 'A',\n",
       " 'C',\n",
       " 'A',\n",
       " 'G',\n",
       " 'T',\n",
       " 'A',\n",
       " 'G',\n",
       " 'A',\n",
       " 'G',\n",
       " 'A',\n",
       " 'A',\n",
       " 'G',\n",
       " 'A',\n",
       " 'C',\n",
       " 'A',\n",
       " 'C',\n",
       " 'A',\n",
       " 'C',\n",
       " 'A',\n",
       " 'A',\n",
       " 'A',\n",
       " 'C',\n",
       " 'A',\n",
       " 'T',\n",
       " 'T',\n",
       " 'C',\n",
       " 'C',\n",
       " 'T',\n",
       " 'A',\n",
       " 'A',\n",
       " 'T',\n",
       " 'T',\n",
       " 'T',\n",
       " 'C',\n",
       " 'T',\n",
       " 'T',\n",
       " 'G',\n",
       " 'C',\n",
       " 'C',\n",
       " 'T',\n",
       " 'T',\n",
       " 'G',\n",
       " 'G',\n",
       " 'C',\n",
       " 'T',\n",
       " 'G',\n",
       " 'G',\n",
       " 'A',\n",
       " 'T',\n",
       " 'A',\n",
       " 'A',\n",
       " 'C',\n",
       " 'T',\n",
       " 'C',\n",
       " 'G',\n",
       " 'G',\n",
       " 'C',\n",
       " 'T',\n",
       " 'G',\n",
       " 'C',\n",
       " 'A',\n",
       " 'A',\n",
       " 'A',\n",
       " 'A',\n",
       " 'G',\n",
       " 'G',\n",
       " 'T',\n",
       " 'A',\n",
       " 'A',\n",
       " 'G',\n",
       " 'A',\n",
       " 'T',\n",
       " 'T',\n",
       " 'C',\n",
       " 'T',\n",
       " 'T',\n",
       " 'T',\n",
       " 'G',\n",
       " 'C',\n",
       " 'T',\n",
       " 'C',\n",
       " 'T',\n",
       " 'T',\n",
       " 'C',\n",
       " 'C',\n",
       " 'G',\n",
       " 'G',\n",
       " 'T',\n",
       " 'T',\n",
       " 'T',\n",
       " 'T',\n",
       " 'C',\n",
       " 'G',\n",
       " 'G',\n",
       " 'G',\n",
       " 'A',\n",
       " 'T',\n",
       " 'C',\n",
       " 'A',\n",
       " 'G',\n",
       " 'A',\n",
       " 'G',\n",
       " 'G',\n",
       " 'T',\n",
       " 'A',\n",
       " 'A',\n",
       " 'C',\n",
       " 'C',\n",
       " 'C',\n",
       " 'G',\n",
       " 'G',\n",
       " 'G',\n",
       " 'G',\n",
       " 'G',\n",
       " 'C',\n",
       " 'C',\n",
       " 'T',\n",
       " 'A',\n",
       " 'G',\n",
       " 'C',\n",
       " 'A',\n",
       " 'C',\n",
       " 'A',\n",
       " 'G',\n",
       " 'G',\n",
       " 'T',\n",
       " 'G',\n",
       " 'G',\n",
       " 'T',\n",
       " 'C',\n",
       " 'T',\n",
       " 'C',\n",
       " 'A',\n",
       " 'C',\n",
       " 'A',\n",
       " 'T',\n",
       " 'C',\n",
       " 'T',\n",
       " 'G',\n",
       " 'G',\n",
       " 'G',\n",
       " 'A',\n",
       " 'A',\n",
       " '<eos>']"
      ]
     },
     "execution_count": 9,
     "metadata": {},
     "output_type": "execute_result"
    }
   ],
   "source": [
    "tokenizer(train_dset[1][0])"
   ]
  },
  {
   "cell_type": "markdown",
   "id": "cbe2bd4b",
   "metadata": {
    "id": "sTTomnnP5kdU",
    "papermill": {
     "duration": 0.016214,
     "end_time": "2022-01-11T08:26:25.153704",
     "exception": false,
     "start_time": "2022-01-11T08:26:25.137490",
     "status": "completed"
    },
    "tags": []
   },
   "source": [
    "## Model"
   ]
  },
  {
   "cell_type": "code",
   "execution_count": 10,
   "id": "21cfd990",
   "metadata": {
    "execution": {
     "iopub.execute_input": "2022-01-11T08:26:25.199190Z",
     "iopub.status.busy": "2022-01-11T08:26:25.198144Z",
     "iopub.status.idle": "2022-01-11T08:26:25.291341Z",
     "shell.execute_reply": "2022-01-11T08:26:25.291906Z"
    },
    "id": "ZNuXGIdD5kdU",
    "papermill": {
     "duration": 0.120791,
     "end_time": "2022-01-11T08:26:25.292111",
     "exception": false,
     "start_time": "2022-01-11T08:26:25.171320",
     "status": "completed"
    },
    "tags": []
   },
   "outputs": [],
   "source": [
    "model = CNN(\n",
    "    number_of_classes=config[\"number_of_classes\"],\n",
    "    vocab_size=vocabulary.__len__(),\n",
    "    embedding_dim=config[\"embedding_dim\"],\n",
    "    input_len=max_tok_len\n",
    ").to(device)"
   ]
  },
  {
   "cell_type": "markdown",
   "id": "ee4a6dc0",
   "metadata": {
    "id": "1pqIm92h5kdV",
    "papermill": {
     "duration": 0.021326,
     "end_time": "2022-01-11T08:26:25.331044",
     "exception": false,
     "start_time": "2022-01-11T08:26:25.309718",
     "status": "completed"
    },
    "tags": []
   },
   "source": [
    "## Training"
   ]
  },
  {
   "cell_type": "code",
   "execution_count": 11,
   "id": "7bb0b5a2",
   "metadata": {
    "colab": {
     "base_uri": "https://localhost:8080/"
    },
    "execution": {
     "iopub.execute_input": "2022-01-11T08:26:25.372228Z",
     "iopub.status.busy": "2022-01-11T08:26:25.371465Z",
     "iopub.status.idle": "2022-01-11T08:36:27.008745Z",
     "shell.execute_reply": "2022-01-11T08:36:27.011509Z"
    },
    "id": "uvO_-RFm5kdV",
    "outputId": "7799e5f9-78a7-4ef2-95e8-f06751912eda",
    "papermill": {
     "duration": 601.663662,
     "end_time": "2022-01-11T08:36:27.012655",
     "exception": false,
     "start_time": "2022-01-11T08:26:25.348993",
     "status": "completed"
    },
    "tags": []
   },
   "outputs": [
    {
     "name": "stdout",
     "output_type": "stream",
     "text": [
      "Epoch 0\n"
     ]
    },
    {
     "name": "stderr",
     "output_type": "stream",
     "text": [
      "/Users/katarina/Documents/repositories/GitHub/GLP/src/glp/tokenizers/utils.py:27: UserWarning: To copy construct from a tensor, it is recommended to use sourceTensor.clone().detach() or sourceTensor.clone().detach().requires_grad_(True), rather than torch.tensor(sourceTensor).\n",
      "  x = torch.tensor(pad(x), dtype=torch.long)\n"
     ]
    },
    {
     "name": "stdout",
     "output_type": "stream",
     "text": [
      "Train metrics: \n",
      " Accuracy: 64.0%, Avg loss: 0.655092 \n",
      "\n",
      "Epoch 1\n"
     ]
    },
    {
     "name": "stdout",
     "output_type": "stream",
     "text": [
      "Train metrics: \n",
      " Accuracy: 64.2%, Avg loss: 0.652506 \n",
      "\n",
      "Epoch 2\n"
     ]
    },
    {
     "name": "stdout",
     "output_type": "stream",
     "text": [
      "Train metrics: \n",
      " Accuracy: 65.5%, Avg loss: 0.650462 \n",
      "\n",
      "Epoch 3\n"
     ]
    },
    {
     "name": "stdout",
     "output_type": "stream",
     "text": [
      "Train metrics: \n",
      " Accuracy: 66.5%, Avg loss: 0.645009 \n",
      "\n",
      "Epoch 4\n"
     ]
    },
    {
     "name": "stdout",
     "output_type": "stream",
     "text": [
      "Train metrics: \n",
      " Accuracy: 67.7%, Avg loss: 0.638954 \n",
      "\n"
     ]
    }
   ],
   "source": [
    "model.train(train_loader, epochs=config[\"epochs\"])"
   ]
  },
  {
   "cell_type": "markdown",
   "id": "d3ef323f",
   "metadata": {
    "id": "bR2tamrc5kdV",
    "papermill": {
     "duration": 0.032511,
     "end_time": "2022-01-11T08:36:27.078985",
     "exception": false,
     "start_time": "2022-01-11T08:36:27.046474",
     "status": "completed"
    },
    "tags": []
   },
   "source": [
    "## Testing"
   ]
  },
  {
   "cell_type": "code",
   "execution_count": 12,
   "id": "b1454d77",
   "metadata": {
    "colab": {
     "base_uri": "https://localhost:8080/"
    },
    "execution": {
     "iopub.execute_input": "2022-01-11T08:36:27.214745Z",
     "iopub.status.busy": "2022-01-11T08:36:27.211032Z",
     "iopub.status.idle": "2022-01-11T08:36:49.188034Z",
     "shell.execute_reply": "2022-01-11T08:36:49.189178Z"
    },
    "id": "wbnciyRK5kdW",
    "outputId": "d2592f9d-f074-465f-95f8-df3b759ae068",
    "papermill": {
     "duration": 22.060291,
     "end_time": "2022-01-11T08:36:49.189570",
     "exception": false,
     "start_time": "2022-01-11T08:36:27.129279",
     "status": "completed"
    },
    "tags": []
   },
   "outputs": [
    {
     "name": "stdout",
     "output_type": "stream",
     "text": [
      "p  3474 ; tp  1515.9505222439766 ; fp  480.3436289012551\n",
      "recall  0.4363703287979207 ; precision  0.7593823392080309\n",
      "num_batches 218\n",
      "correct 4572\n",
      "size 6948\n",
      "Test metrics: \n",
      " Accuracy: 0.658031, F1 score: 0.554248, Avg loss: 0.646865 \n",
      "\n"
     ]
    },
    {
     "data": {
      "text/plain": [
       "(0.6580310880829016, 0.5542482653977958)"
      ]
     },
     "execution_count": 12,
     "metadata": {},
     "output_type": "execute_result"
    }
   ],
   "source": [
    "test_dset = get_dataset(config[\"dataset\"], 'test')\n",
    "test_loader = DataLoader(test_dset, batch_size=config[\"batch_size\"], shuffle=True, collate_fn=collate)\n",
    "\n",
    "acc, f1 = model.test(test_loader)\n",
    "acc, f1"
   ]
  }
 ],
 "metadata": {
  "accelerator": "TPU",
  "colab": {
   "name": "torch_cnn_classifier.ipynb",
   "provenance": []
  },
  "environment": {
   "name": "pytorch-gpu.1-9.m75",
   "type": "gcloud",
   "uri": "gcr.io/deeplearning-platform-release/pytorch-gpu.1-9:m75"
  },
  "interpreter": {
   "hash": "9828b828580f1cac1b571b33de6cff8bacecc8916095e1bcbc967952ca7105b7"
  },
  "kernelspec": {
   "display_name": "Python 3",
   "name": "python3"
  },
  "language_info": {
   "codemirror_mode": {
    "name": "ipython",
    "version": 3
   },
   "file_extension": ".py",
   "mimetype": "text/x-python",
   "name": "python",
   "nbconvert_exporter": "python",
   "pygments_lexer": "ipython3",
   "version": "3.8.9"
  },
  "papermill": {
   "default_parameters": {},
   "duration": 644.801179,
   "end_time": "2022-01-11T08:36:51.219788",
   "environment_variables": {},
   "exception": null,
   "input_path": "torch_cnn.ipynb",
   "output_path": "../torch_cnn_experiments/human_enhancers_cohn_character.ipynb",
   "parameters": {
    "DATASET": "human_enhancers_cohn",
    "TOKENIZER": "character"
   },
   "start_time": "2022-01-11T08:26:06.418609",
   "version": "2.3.3"
  }
 },
 "nbformat": 4,
 "nbformat_minor": 5
}