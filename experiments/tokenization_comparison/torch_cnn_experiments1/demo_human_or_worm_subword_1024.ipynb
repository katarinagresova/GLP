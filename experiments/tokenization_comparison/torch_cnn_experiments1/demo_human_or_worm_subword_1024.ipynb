{
 "cells": [
  {
   "cell_type": "markdown",
   "id": "a0d419ab",
   "metadata": {
    "id": "SKOD9lvq5kdM",
    "papermill": {
     "duration": 0.019006,
     "end_time": "2022-01-11T17:31:40.269147",
     "exception": false,
     "start_time": "2022-01-11T17:31:40.250141",
     "status": "completed"
    },
    "tags": []
   },
   "source": [
    "# PYTORCH CNN Classifier"
   ]
  },
  {
   "cell_type": "code",
   "execution_count": 1,
   "id": "28a63373",
   "metadata": {
    "execution": {
     "iopub.execute_input": "2022-01-11T17:31:40.310315Z",
     "iopub.status.busy": "2022-01-11T17:31:40.309034Z",
     "iopub.status.idle": "2022-01-11T17:31:40.313814Z",
     "shell.execute_reply": "2022-01-11T17:31:40.314350Z"
    },
    "id": "E8prt3AL5kdO",
    "papermill": {
     "duration": 0.03122,
     "end_time": "2022-01-11T17:31:40.314650",
     "exception": false,
     "start_time": "2022-01-11T17:31:40.283430",
     "status": "completed"
    },
    "tags": [
     "parameters"
    ]
   },
   "outputs": [],
   "source": [
    "DATASET = 'none'\n",
    "VOCAB_SIZE = 0\n",
    "TOKENIZER = 'none'\n",
    "KMER = 0"
   ]
  },
  {
   "cell_type": "code",
   "execution_count": 2,
   "id": "ee158bec",
   "metadata": {
    "execution": {
     "iopub.execute_input": "2022-01-11T17:31:40.346492Z",
     "iopub.status.busy": "2022-01-11T17:31:40.345662Z",
     "iopub.status.idle": "2022-01-11T17:31:40.347727Z",
     "shell.execute_reply": "2022-01-11T17:31:40.348558Z"
    },
    "papermill": {
     "duration": 0.020696,
     "end_time": "2022-01-11T17:31:40.348754",
     "exception": false,
     "start_time": "2022-01-11T17:31:40.328058",
     "status": "completed"
    },
    "tags": [
     "injected-parameters"
    ]
   },
   "outputs": [],
   "source": [
    "# Parameters\n",
    "DATASET = \"demo_human_or_worm\"\n",
    "TOKENIZER = \"subword\"\n",
    "VOCAB_SIZE = 1024\n"
   ]
  },
  {
   "cell_type": "code",
   "execution_count": 3,
   "id": "65b0e5d1",
   "metadata": {
    "colab": {
     "base_uri": "https://localhost:8080/"
    },
    "execution": {
     "iopub.execute_input": "2022-01-11T17:31:40.380444Z",
     "iopub.status.busy": "2022-01-11T17:31:40.379594Z",
     "iopub.status.idle": "2022-01-11T17:31:40.382826Z",
     "shell.execute_reply": "2022-01-11T17:31:40.383297Z"
    },
    "id": "rohBItfR5kdP",
    "outputId": "7da7aafe-0858-48be-bf7d-f698784d88df",
    "papermill": {
     "duration": 0.021516,
     "end_time": "2022-01-11T17:31:40.383530",
     "exception": false,
     "start_time": "2022-01-11T17:31:40.362014",
     "status": "completed"
    },
    "tags": []
   },
   "outputs": [
    {
     "name": "stdout",
     "output_type": "stream",
     "text": [
      "demo_human_or_worm 1024 subword 0\n"
     ]
    }
   ],
   "source": [
    "print(DATASET, VOCAB_SIZE, TOKENIZER, KMER)"
   ]
  },
  {
   "cell_type": "markdown",
   "id": "3bbd8073",
   "metadata": {
    "id": "Y-YQrVyb5kdQ",
    "papermill": {
     "duration": 0.016202,
     "end_time": "2022-01-11T17:31:40.413496",
     "exception": false,
     "start_time": "2022-01-11T17:31:40.397294",
     "status": "completed"
    },
    "tags": []
   },
   "source": [
    "## Config"
   ]
  },
  {
   "cell_type": "code",
   "execution_count": 4,
   "id": "20209fc5",
   "metadata": {
    "execution": {
     "iopub.execute_input": "2022-01-11T17:31:40.448696Z",
     "iopub.status.busy": "2022-01-11T17:31:40.447785Z",
     "iopub.status.idle": "2022-01-11T17:31:42.394279Z",
     "shell.execute_reply": "2022-01-11T17:31:42.394825Z"
    },
    "id": "FIunuyGk5kdR",
    "papermill": {
     "duration": 1.966422,
     "end_time": "2022-01-11T17:31:42.395030",
     "exception": false,
     "start_time": "2022-01-11T17:31:40.428608",
     "status": "completed"
    },
    "tags": []
   },
   "outputs": [],
   "source": [
    "import torch\n",
    "from torch.utils.data import DataLoader\n",
    "\n",
    "from genomic_benchmarks.dataset_getters.pytorch_datasets import get_dataset\n",
    "from glp.models import CNN\n",
    "from glp.tokenizers import get_tokenizer\n",
    "from glp.tokenizers.utils import build_vocab, coll_factory, check_config, check_seq_lengths"
   ]
  },
  {
   "cell_type": "code",
   "execution_count": 5,
   "id": "f8942e11",
   "metadata": {
    "execution": {
     "iopub.execute_input": "2022-01-11T17:31:42.438708Z",
     "iopub.status.busy": "2022-01-11T17:31:42.437903Z",
     "iopub.status.idle": "2022-01-11T17:31:42.440041Z",
     "shell.execute_reply": "2022-01-11T17:31:42.440626Z"
    },
    "id": "UgXiF6Zz5kdR",
    "papermill": {
     "duration": 0.030271,
     "end_time": "2022-01-11T17:31:42.440834",
     "exception": false,
     "start_time": "2022-01-11T17:31:42.410563",
     "status": "completed"
    },
    "tags": []
   },
   "outputs": [],
   "source": [
    "config = {\n",
    "    \"dataset\": DATASET,\n",
    "    \"tokenizer\": TOKENIZER,\n",
    "    \"dataset_version\": 0,\n",
    "    \"epochs\": 5,\n",
    "    \"batch_size\": 32,\n",
    "    \"use_padding\": True,\n",
    "    \"force_download\": False,\n",
    "    \"run_on_gpu\": True,\n",
    "    \"number_of_classes\": 2,\n",
    "    \"embedding_dim\": 100,\n",
    "}\n",
    "check_config(config)"
   ]
  },
  {
   "cell_type": "markdown",
   "id": "69ca7dea",
   "metadata": {
    "id": "AUWF-avz5kdS",
    "papermill": {
     "duration": 0.014728,
     "end_time": "2022-01-11T17:31:42.471315",
     "exception": false,
     "start_time": "2022-01-11T17:31:42.456587",
     "status": "completed"
    },
    "tags": []
   },
   "source": [
    "## Choose the dataset"
   ]
  },
  {
   "cell_type": "code",
   "execution_count": 6,
   "id": "dc30a2d4",
   "metadata": {
    "colab": {
     "base_uri": "https://localhost:8080/"
    },
    "execution": {
     "iopub.execute_input": "2022-01-11T17:31:42.506192Z",
     "iopub.status.busy": "2022-01-11T17:31:42.505272Z",
     "iopub.status.idle": "2022-01-11T17:31:43.091924Z",
     "shell.execute_reply": "2022-01-11T17:31:43.092394Z"
    },
    "id": "1oaryDJr5kdS",
    "outputId": "6a425df9-4092-4601-9cd9-f61d524b6278",
    "papermill": {
     "duration": 0.60635,
     "end_time": "2022-01-11T17:31:43.092587",
     "exception": false,
     "start_time": "2022-01-11T17:31:42.486237",
     "status": "completed"
    },
    "tags": []
   },
   "outputs": [],
   "source": [
    "train_dset = get_dataset(config[\"dataset\"], 'train')"
   ]
  },
  {
   "cell_type": "markdown",
   "id": "92ce983e",
   "metadata": {
    "id": "B0lqmy935kdS",
    "papermill": {
     "duration": 0.019291,
     "end_time": "2022-01-11T17:31:43.125897",
     "exception": false,
     "start_time": "2022-01-11T17:31:43.106606",
     "status": "completed"
    },
    "tags": []
   },
   "source": [
    "## Tokenizer and vocab"
   ]
  },
  {
   "cell_type": "code",
   "execution_count": 7,
   "id": "908ba9f0",
   "metadata": {
    "colab": {
     "base_uri": "https://localhost:8080/"
    },
    "execution": {
     "iopub.execute_input": "2022-01-11T17:31:43.164270Z",
     "iopub.status.busy": "2022-01-11T17:31:43.163180Z",
     "iopub.status.idle": "2022-01-11T21:52:23.225517Z",
     "shell.execute_reply": "2022-01-11T21:52:23.226030Z"
    },
    "id": "NY_zualp5kdT",
    "outputId": "9034d65f-2f9a-4c83-a314-13d3b808fc65",
    "papermill": {
     "duration": 15640.085129,
     "end_time": "2022-01-11T21:52:23.226615",
     "exception": false,
     "start_time": "2022-01-11T17:31:43.141486",
     "status": "completed"
    },
    "tags": []
   },
   "outputs": [
    {
     "name": "stderr",
     "output_type": "stream",
     "text": [
      "sentencepiece_trainer.cc(177) LOG(INFO) Running command: --input=sample.csv --model_prefix=sample --vocab_size=1024 --model_type=unigram\n",
      "sentencepiece_trainer.cc(77) LOG(INFO) Starts training with : \n",
      "trainer_spec {\n",
      "  input: sample.csv\n",
      "  input_format: \n",
      "  model_prefix: sample\n",
      "  model_type: UNIGRAM\n",
      "  vocab_size: 1024\n",
      "  self_test_sample_size: 0\n",
      "  character_coverage: 0.9995\n",
      "  input_sentence_size: 0\n",
      "  shuffle_input_sentence: 1\n",
      "  seed_sentencepiece_size: 1000000\n",
      "  shrinking_factor: 0.75\n",
      "  max_sentence_length: 4192\n",
      "  num_threads: 16\n",
      "  num_sub_iterations: 2\n",
      "  max_sentencepiece_length: 16\n",
      "  split_by_unicode_script: 1\n",
      "  split_by_number: 1\n",
      "  split_by_whitespace: 1\n",
      "  split_digits: 0\n",
      "  treat_whitespace_as_suffix: 0\n",
      "  required_chars: \n",
      "  byte_fallback: 0\n",
      "  vocabulary_output_piece_score: 1\n",
      "  train_extremely_large_corpus: 0\n",
      "  hard_vocab_limit: 1\n",
      "  use_all_vocab: 0\n",
      "  unk_id: 0\n",
      "  bos_id: 1\n",
      "  eos_id: 2\n",
      "  pad_id: -1\n",
      "  unk_piece: <unk>\n",
      "  bos_piece: <s>\n",
      "  eos_piece: </s>\n",
      "  pad_piece: <pad>\n",
      "  unk_surface:  ⁇ \n",
      "}\n",
      "normalizer_spec {\n",
      "  name: nmt_nfkc\n",
      "  add_dummy_prefix: 1\n",
      "  remove_extra_whitespaces: 1\n",
      "  escape_whitespaces: 1\n",
      "  normalization_rule_tsv: \n",
      "}\n",
      "denormalizer_spec {}\n",
      "trainer_interface.cc(319) LOG(INFO) SentenceIterator is not specified. Using MultiFileSentenceIterator.\n",
      "trainer_interface.cc(174) LOG(INFO) Loading corpus: sample.csv\n",
      "trainer_interface.cc(375) LOG(INFO) Loaded all 75000 sentences\n",
      "trainer_interface.cc"
     ]
    },
    {
     "name": "stderr",
     "output_type": "stream",
     "text": [
      "(390) LOG(INFO) Adding meta_piece: <unk>\n",
      "trainer_interface.cc(390) LOG(INFO) Adding meta_piece: <s>\n",
      "trainer_interface.cc(390) LOG(INFO) Adding meta_piece: </s>\n",
      "trainer_interface.cc(395) LOG(INFO) Normalizing sentences...\n"
     ]
    },
    {
     "name": "stderr",
     "output_type": "stream",
     "text": [
      "trainer_interface.cc(456) LOG(INFO) all chars count=15074802\n",
      "trainer_interface.cc(467) LOG(INFO) Done: 100% characters are covered.\n",
      "trainer_interface.cc(477) LOG(INFO) Alphabet size=6\n",
      "trainer_interface.cc(478) LOG(INFO) Final character coverage=1\n"
     ]
    },
    {
     "name": "stderr",
     "output_type": "stream",
     "text": [
      "trainer_interface.cc(510) LOG(INFO) Done! preprocessed 75000 sentences.\n"
     ]
    },
    {
     "name": "stderr",
     "output_type": "stream",
     "text": [
      "unigram_model_trainer.cc(138) LOG(INFO) Making suffix array...\n"
     ]
    },
    {
     "name": "stderr",
     "output_type": "stream",
     "text": [
      "unigram_model_trainer.cc(142) LOG(INFO) Extracting frequent sub strings...\n"
     ]
    },
    {
     "name": "stderr",
     "output_type": "stream",
     "text": [
      "unigram_model_trainer.cc(193) LOG(INFO) Initialized 1000000 seed sentencepieces\n"
     ]
    },
    {
     "name": "stderr",
     "output_type": "stream",
     "text": [
      "trainer_interface.cc(516) LOG(INFO) Tokenizing input sentences with whitespace: 75000\n"
     ]
    },
    {
     "name": "stderr",
     "output_type": "stream",
     "text": [
      "trainer_interface.cc(526) LOG(INFO) Done! 73109\n",
      "unigram_model_trainer.cc(488) LOG(INFO) Using 73109 sentences for EM training\n"
     ]
    },
    {
     "name": "stderr",
     "output_type": "stream",
     "text": [
      "unigram_model_trainer.cc(504) LOG(INFO) EM sub_iter=0 size=615634 obj=263.975 num_tokens=1523674 num_tokens/piece=2.47497\n"
     ]
    },
    {
     "name": "stderr",
     "output_type": "stream",
     "text": [
      "unigram_model_trainer.cc(504) LOG(INFO) EM sub_iter=1 size=432903 obj=264.111 num_tokens=1607807 num_tokens/piece=3.71401\n"
     ]
    },
    {
     "name": "stderr",
     "output_type": "stream",
     "text": [
      "unigram_model_trainer.cc(504) LOG(INFO) EM sub_iter=0 size=280345 obj=263.272 num_tokens=1662269 num_tokens/piece=5.92937\n"
     ]
    },
    {
     "name": "stderr",
     "output_type": "stream",
     "text": [
      "unigram_model_trainer.cc(504) LOG(INFO) EM sub_iter=1 size=255347 obj=260.477 num_tokens=1694304 num_tokens/piece=6.6353\n"
     ]
    },
    {
     "name": "stderr",
     "output_type": "stream",
     "text": [
      "unigram_model_trainer.cc(504) LOG(INFO) EM sub_iter=0 size=188520 obj=261.101 num_tokens=1730663 num_tokens/piece=9.18026\n"
     ]
    },
    {
     "name": "stderr",
     "output_type": "stream",
     "text": [
      "unigram_model_trainer.cc(504) LOG(INFO) EM sub_iter=1 size=183877 obj=259.479 num_tokens=1741958 num_tokens/piece=9.4735\n"
     ]
    },
    {
     "name": "stderr",
     "output_type": "stream",
     "text": [
      "unigram_model_trainer.cc(504) LOG(INFO) EM sub_iter=0 size=137880 obj=260.582 num_tokens=1779032 num_tokens/piece=12.9028\n"
     ]
    },
    {
     "name": "stderr",
     "output_type": "stream",
     "text": [
      "unigram_model_trainer.cc(504) LOG(INFO) EM sub_iter=1 size=137706 obj=259.09 num_tokens=1782251 num_tokens/piece=12.9424\n"
     ]
    },
    {
     "name": "stderr",
     "output_type": "stream",
     "text": [
      "unigram_model_trainer.cc(504) LOG(INFO) EM sub_iter=0 size=103277 obj=261.112 num_tokens=1830635 num_tokens/piece=17.7255\n"
     ]
    },
    {
     "name": "stderr",
     "output_type": "stream",
     "text": [
      "unigram_model_trainer.cc(504) LOG(INFO) EM sub_iter=1 size=103270 obj=259.064 num_tokens=1831554 num_tokens/piece=17.7356\n"
     ]
    },
    {
     "name": "stderr",
     "output_type": "stream",
     "text": [
      "unigram_model_trainer.cc(504) LOG(INFO) EM sub_iter=0 size=77451 obj=261.748 num_tokens=1888857 num_tokens/piece=24.3878\n"
     ]
    },
    {
     "name": "stderr",
     "output_type": "stream",
     "text": [
      "unigram_model_trainer.cc(504) LOG(INFO) EM sub_iter=1 size=77449 obj=259.449 num_tokens=1889327 num_tokens/piece=24.3945\n"
     ]
    },
    {
     "name": "stderr",
     "output_type": "stream",
     "text": [
      "unigram_model_trainer.cc(504) LOG(INFO) EM sub_iter=0 size=58086 obj=262.394 num_tokens=1948317 num_tokens/piece=33.5419\n"
     ]
    },
    {
     "name": "stderr",
     "output_type": "stream",
     "text": [
      "unigram_model_trainer.cc(504) LOG(INFO) EM sub_iter=1 size=58085 obj=260.069 num_tokens=1948788 num_tokens/piece=33.5506\n"
     ]
    },
    {
     "name": "stderr",
     "output_type": "stream",
     "text": [
      "unigram_model_trainer.cc(504) LOG(INFO) EM sub_iter=0 size=43563 obj=263.026 num_tokens=2006108 num_tokens/piece=46.0507\n"
     ]
    },
    {
     "name": "stderr",
     "output_type": "stream",
     "text": [
      "unigram_model_trainer.cc(504) LOG(INFO) EM sub_iter=1 size=43563 obj=260.849 num_tokens=2006704 num_tokens/piece=46.0644\n"
     ]
    },
    {
     "name": "stderr",
     "output_type": "stream",
     "text": [
      "unigram_model_trainer.cc(504) LOG(INFO) EM sub_iter=0 size=32672 obj=263.668 num_tokens=2062112 num_tokens/piece=63.1156\n"
     ]
    },
    {
     "name": "stderr",
     "output_type": "stream",
     "text": [
      "unigram_model_trainer.cc(504) LOG(INFO) EM sub_iter=1 size=32672 obj=261.603 num_tokens=2062878 num_tokens/piece=63.139\n"
     ]
    },
    {
     "name": "stderr",
     "output_type": "stream",
     "text": [
      "unigram_model_trainer.cc(504) LOG(INFO) EM sub_iter=0 size=24504 obj=264.388 num_tokens=2120186 num_tokens/piece=86.5241\n"
     ]
    },
    {
     "name": "stderr",
     "output_type": "stream",
     "text": [
      "unigram_model_trainer.cc(504) LOG(INFO) EM sub_iter=1 size=24504 obj=262.356 num_tokens=2120966 num_tokens/piece=86.5559\n"
     ]
    },
    {
     "name": "stderr",
     "output_type": "stream",
     "text": [
      "unigram_model_trainer.cc(504) LOG(INFO) EM sub_iter=0 size=18378 obj=265.228 num_tokens=2182532 num_tokens/piece=118.758\n"
     ]
    },
    {
     "name": "stderr",
     "output_type": "stream",
     "text": [
      "unigram_model_trainer.cc(504) LOG(INFO) EM sub_iter=1 size=18378 obj=263.091 num_tokens=2183241 num_tokens/piece=118.796\n"
     ]
    },
    {
     "name": "stderr",
     "output_type": "stream",
     "text": [
      "unigram_model_trainer.cc(504) LOG(INFO) EM sub_iter=0 size=13783 obj=266.021 num_tokens=2247574 num_tokens/piece=163.069\n"
     ]
    },
    {
     "name": "stderr",
     "output_type": "stream",
     "text": [
      "unigram_model_trainer.cc(504) LOG(INFO) EM sub_iter=1 size=13783 obj=263.682 num_tokens=2248379 num_tokens/piece=163.127\n"
     ]
    },
    {
     "name": "stderr",
     "output_type": "stream",
     "text": [
      "unigram_model_trainer.cc(504) LOG(INFO) EM sub_iter=0 size=10337 obj=266.68 num_tokens=2317782 num_tokens/piece=224.222\n"
     ]
    },
    {
     "name": "stderr",
     "output_type": "stream",
     "text": [
      "unigram_model_trainer.cc(504) LOG(INFO) EM sub_iter=1 size=10337 obj=264.216 num_tokens=2318537 num_tokens/piece=224.295\n"
     ]
    },
    {
     "name": "stderr",
     "output_type": "stream",
     "text": [
      "unigram_model_trainer.cc(504) LOG(INFO) EM sub_iter=0 size=7752 obj=267.335 num_tokens=2392945 num_tokens/piece=308.687\n"
     ]
    },
    {
     "name": "stderr",
     "output_type": "stream",
     "text": [
      "unigram_model_trainer.cc(504) LOG(INFO) EM sub_iter=1 size=7752 obj=264.662 num_tokens=2393924 num_tokens/piece=308.814\n"
     ]
    },
    {
     "name": "stderr",
     "output_type": "stream",
     "text": [
      "unigram_model_trainer.cc(504) LOG(INFO) EM sub_iter=0 size=5814 obj=268.043 num_tokens=2472700 num_tokens/piece=425.301\n"
     ]
    },
    {
     "name": "stderr",
     "output_type": "stream",
     "text": [
      "unigram_model_trainer.cc(504) LOG(INFO) EM sub_iter=1 size=5814 obj=265.154 num_tokens=2473779 num_tokens/piece=425.487\n"
     ]
    },
    {
     "name": "stderr",
     "output_type": "stream",
     "text": [
      "unigram_model_trainer.cc(504) LOG(INFO) EM sub_iter=0 size=4360 obj=268.791 num_tokens=2557988 num_tokens/piece=586.694\n"
     ]
    },
    {
     "name": "stderr",
     "output_type": "stream",
     "text": [
      "unigram_model_trainer.cc(504) LOG(INFO) EM sub_iter=1 size=4360 obj=265.678 num_tokens=2558917 num_tokens/piece=586.908\n"
     ]
    },
    {
     "name": "stderr",
     "output_type": "stream",
     "text": [
      "unigram_model_trainer.cc(504) LOG(INFO) EM sub_iter=0 size=3270 obj=269.693 num_tokens=2650996 num_tokens/piece=810.702\n"
     ]
    },
    {
     "name": "stderr",
     "output_type": "stream",
     "text": [
      "unigram_model_trainer.cc(504) LOG(INFO) EM sub_iter=1 size=3270 obj=266.096 num_tokens=2652193 num_tokens/piece=811.068\n"
     ]
    },
    {
     "name": "stderr",
     "output_type": "stream",
     "text": [
      "unigram_model_trainer.cc(504) LOG(INFO) EM sub_iter=0 size=2452 obj=270.515 num_tokens=2751192 num_tokens/piece=1122.02\n"
     ]
    },
    {
     "name": "stderr",
     "output_type": "stream",
     "text": [
      "unigram_model_trainer.cc(504) LOG(INFO) EM sub_iter=1 size=2452 obj=266.522 num_tokens=2752409 num_tokens/piece=1122.52\n"
     ]
    },
    {
     "name": "stderr",
     "output_type": "stream",
     "text": [
      "unigram_model_trainer.cc(504) LOG(INFO) EM sub_iter=0 size=1839 obj=270.958 num_tokens=2854434 num_tokens/piece=1552.17\n"
     ]
    },
    {
     "name": "stderr",
     "output_type": "stream",
     "text": [
      "unigram_model_trainer.cc(504) LOG(INFO) EM sub_iter=1 size=1839 obj=266.785 num_tokens=2855582 num_tokens/piece=1552.79\n"
     ]
    },
    {
     "name": "stderr",
     "output_type": "stream",
     "text": [
      "unigram_model_trainer.cc(504) LOG(INFO) EM sub_iter=0 size=1379 obj=272.786 num_tokens=2964765 num_tokens/piece=2149.94\n"
     ]
    },
    {
     "name": "stderr",
     "output_type": "stream",
     "text": [
      "unigram_model_trainer.cc(504) LOG(INFO) EM sub_iter=1 size=1379 obj=267.191 num_tokens=2965693 num_tokens/piece=2150.61\n"
     ]
    },
    {
     "name": "stderr",
     "output_type": "stream",
     "text": [
      "unigram_model_trainer.cc(504) LOG(INFO) EM sub_iter=0 size=1126 obj=271.353 num_tokens=3048728 num_tokens/piece=2707.57\n"
     ]
    },
    {
     "name": "stderr",
     "output_type": "stream",
     "text": [
      "unigram_model_trainer.cc(504) LOG(INFO) EM sub_iter=1 size=1126 obj=267.397 num_tokens=3050449 num_tokens/piece=2709.1\n",
      "trainer_interface.cc(604) LOG(INFO) Saving model: sample.model\n",
      "trainer_interface.cc(615) LOG(INFO) Saving vocabs: sample.vocab\n"
     ]
    },
    {
     "name": "stdout",
     "output_type": "stream",
     "text": [
      "vocab len: 1023\n",
      "{'N': 1021, 'NNNNNNNNNNNNNNNN': 1019, 'C': 1018, 'GGGGG': 1016, 'GTC': 1015, 'TCTGG': 1012, 'CAAAGT': 1011, 'TGCACT': 1010, 'GCAAG': 1008, 'CAGGG': 1005, 'G': 1004, 'TGCCTG': 999, 'AATG': 997, 'ATCTG': 995, 'GTTTTC': 994, 'CCTG': 993, 'TGGTT': 991, 'A': 988, 'GGGAGG': 985, 'CAGGA': 1006, 'GCCTC': 983, 'AGTGG': 982, 'TAATG': 981, 'TATATA': 979, 'TGTCA': 976, 'TCTC': 974, 'AACAAA': 992, 'ATGTA': 971, 'ATTCCA': 970, 'TCCAT': 968, 'TCTCAAA': 965, 'ACTCA': 978, 'CTAAT': 964, 'GCATG': 963, 'CCCTG': 962, 'GAAAAC': 961, 'ATCTC': 959, 'TGGGC': 957, 'GAAAG': 955, 'CTCAG': 954, 'TTCTC': 953, 'CCTGG': 952, 'TCC': 951, 'TCAAG': 950, 'TCCCT': 949, 'CACT': 947, 'TCCTG': 943, 'TACTG': 939, 'CCCCT': 938, 'TTT': 937, 'CCAGCCTG': 936, 'GATGG': 933, 'CCTGC': 931, 'TTGAG': 929, 'AGCTG': 928, 'ATGC': 926, 'ATGCA': 923, 'AATATT': 922, 'CTTCTC': 921, 'AATCC': 924, 'ATCAG': 919, 'TCATG': 918, 'GTCC': 916, 'TCTAA': 914, 'GGG': 912, 'TAATA': 911, 'AAATGT': 910, 'TTCTTC': 906, 'GATAT': 902, 'GTCAG': 901, 'AGTTA': 900, 'GTCTG': 899, 'AGAAAG': 898, 'TAGTA': 897, 'CCAGG': 895, 'GAT': 894, 'CTTAG': 891, 'GAGAT': 889, 'GAGTA': 888, 'ATCCT': 886, 'GTAGG': 883, 'CCA': 881, 'CATTA': 967, 'TATTTT': 880, 'TAAATT': 879, 'TTAAA': 878, 'CCCAT': 877, 'GCTA': 986, 'ATAAA': 876, 'GGATG': 874, 'AACC': 873, 'CATTTC': 871, 'CTTTTC': 867, 'GTAAG': 863, 'CATTCT': 862, 'GATG': 972, 'CTGCC': 860, 'TAATTTTT': 858, 'CTATG': 854, 'GCAGG': 852, 'CCAGT': 851, 'AAAGA': 849, 'CCTCT': 847, 'AAGG': 845, 'TGG': 844, 'GTTTTG': 843, 'ACAAAA': 841, 'ACT': 838, 'AGGAA': 834, 'AGTC': 833, 'GGACA': 831, 'TGTAA': 830, 'ATCAAT': 829, 'CCTGGG': 934, 'TGAGC': 827, 'TCATTT': 826, 'CCGG': 824, 'GGAAT': 823, 'CTGTAA': 820, 'CCCAGG': 987, 'TTGAAA': 819, 'CCTCCC': 975, 'AAACG': 817, 'CGTGA': 865, 'CATCA': 816, 'ACCAC': 815, 'ATGTTT': 814, 'TGGT': 812, 'GATAG': 875, 'AAACTT': 811, 'CCCAG': 810, 'GTGGG': 809, 'CTAGA': 806, 'CTCCT': 804, 'GAGAAG': 802, 'GAGG': 942, 'ACTG': 801, 'ACAG': 800, 'CCACA': 799, 'CACTT': 798, 'ATGT': 658, 'TCTTT': 796, 'AATGTT': 792, 'TGATG': 718, 'CATAG': 787, '▁T': 786, 'ATGGAA': 785, 'ACAAT': 216, 'TGGAAA': 783, 'TCTAT': 311, 'GATA': 482, 'GTTTG': 781, 'TGTTC': 631, 'TTC': 532, 'TTGG': 778, 'ACAAA': 152, 'TATC': 755, 'GAGTG': 776, 'TTAC': 775, 'CAGC': 320, 'CTCAC': 772, 'AGGAAG': 770, 'TTACT': 769, 'CGCC': 768, 'TAAAG': 767, 'AGCTT': 595, 'TTTC': 493, 'CAGGAG': 766, 'GAGAAA': 764, 'AGTAA': 857, 'CTTCA': 822, 'TTTT': 759, 'TGAGG': 756, 'ACGAA': 753, 'TCAGG': 502, 'TTTATT': 752, 'ATTCA': 629, 'CTACT': 747, 'TATTC': 750, 'TCCAG': 749, 'CTTCTT': 59, 'AAAAAA': 748, 'TAAC': 803, 'CGGG': 754, 'AAGTA': 147, 'GCAAA': 198, 'TGTA': 744, 'CAGCA': 741, 'GTCAC': 305, 'TGCATT': 475, 'GCACA': 738, 'GACA': 736, 'TCAGC': 507, 'TTTTAG': 763, 'ACATAT': 734, 'TTGTTT': 296, 'CATGT': 746, 'CAAT': 742, 'AGTAG': 716, 'TCACA': 896, 'ATCAC': 715, 'CACCAC': 908, 'CAAGG': 333, 'TAT': 760, 'AAAATA': 245, 'TAACT': 713, 'CTCTA': 438, 'CGCGC': 708, 'AGCC': 707, 'GAATG': 243, 'CCGGC': 704, 'TTCCA': 426, 'CTCTC': 703, 'GACTG': 696, 'GGGA': 103, 'GTCTT': 225, 'CACAC': 543, 'GAAAC': 694, 'AAGAC': 685, 'TTTG': 700, 'GTGTT': 693, 'GAGA': 97, 'CTGC': 691, 'AAAG': 677, 'GCAC': 172, 'AAGAAA': 386, 'GAA': 452, 'TTACA': 676, 'ATAC': 136, 'TTTTTTTTT': 209, 'GC': 674, 'GTTGG': 670, 'TGTTT': 669, 'ACAGG': 505, 'AATTAT': 668, 'TTCAATT': 667, 'ACAC': 664, 'TAGGT': 745, 'TGA': 663, 'CCAGA': 661, 'TCACT': 687, 'GGA': 695, 'GAGGA': 660, 'TTTTTA': 727, 'ACTGT': 655, 'GAGGG': 649, 'AAAA': 648, 'TTAAAA': 842, 'TCAGA': 647, 'GCCAG': 779, 'ATCAAA': 645, 'CCCG': 83, 'AGCAA': 639, 'GGT': 771, 'ACCT': 416, 'ATAATT': 637, 'TATGT': 19, 'TTTGG': 591, 'CCAC': 635, 'CCGT': 634, 'GTCT': 201, 'ACTTC': 633, 'TGGGT': 672, 'TCTAG': 790, 'TACAA': 456, 'ACTTG': 457, 'CTCCA': 486, 'AGACT': 624, 'TGGCA': 620, 'TTCT': 350, 'TATTA': 617, 'TAATTT': 615, 'GCAAT': 614, 'TTGGA': 612, 'GCG': 610, 'CGGT': 609, 'AACAA': 33, 'CACA': 730, 'TAATT': 533, 'TCGAA': 607, 'AATAAA': 67, 'CTTCC': 205, 'AGAGA': 602, 'ATCC': 601, 'CAAAAAA': 599, 'GAGAA': 598, 'AATA': 592, 'TGAGA': 588, 'ATTAT': 584, 'TTCCT': 583, 'ATTTTTT': 582, 'AAAAC': 640, 'CAACA': 335, 'CACTC': 581, 'GACAC': 499, 'TTTGTT': 580, 'CTT': 733, 'TTTTCT': 578, 'ATTTT': 104, 'TTCG': 577, 'TGTGC': 794, 'AAAAATA': 575, 'AGATA': 574, 'TCAAA': 489, 'GGGG': 573, 'CTCCC': 571, 'CACTG': 570, 'GAAGAG': 567, 'TTAAAAA': 732, 'GTCAA': 565, 'ACGAT': 561, 'TCTG': 560, 'ATCA': 859, 'ATGAAG': 740, 'ACA': 559, 'GGGAA': 839, 'AAG': 558, 'TAGA': 557, 'CCT': 973, 'CAG': 556, 'GAAAAG': 564, 'CCATT': 551, 'CATGC': 548, 'CG': 547, 'ATATC': 797, 'ACATG': 171, 'GCTC': 404, 'CATGA': 761, 'AAAGG': 925, 'TCATT': 546, 'ACCTT': 544, 'CGGAG': 542, 'TCTTA': 472, 'TTCC': 541, 'CAAAC': 606, 'AAGGT': 1009, 'TCTCC': 540, 'AATGC': 81, 'TAC': 791, 'CGAGA': 555, 'TCCC': 539, 'AAAGAA': 990, 'AATGG': 530, 'TTTCCA': 600, 'ACCAA': 529, 'AGGAG': 526, 'GTTCT': 630, 'AATTC': 618, 'AAAATTA': 120, 'GCTGA': 525, 'ATTAG': 524, 'TACTA': 856, 'TCAC': 522, 'TATAT': 521, 'TTCATT': 519, 'AAAACT': 517, 'TTTTCA': 515, 'GGGAGGC': 913, 'TACTC': 485, 'GAAAA': 375, 'AATCT': 510, 'AAAAATG': 447, 'CTTTG': 506, 'CGTG': 758, 'CCCA': 500, 'CCAAG': 678, 'TCTCT': 537, 'CTAGG': 498, 'TAGTT': 495, 'TTAA': 890, 'AAA': 213, 'GTATA': 494, 'CCCAA': 511, 'AATTA': 491, 'TGGA': 490, 'AAAAAAAAA': 492, 'TATG': 487, 'AGAAAT': 61, 'AAGTG': 484, 'GTTG': 481, 'GAAGT': 479, 'GAGC': 477, 'AGCCA': 476, 'TTTTGG': 236, 'ATTAA': 474, 'CACC': 470, 'GCAT': 469, 'AGGA': 681, 'GAGT': 467, 'TACCA': 465, 'TTTTATT': 473, 'ATTGC': 464, 'ATTTAA': 60, 'AGGAT': 318, 'CCTA': 461, 'ACC': 527, 'GGTG': 226, 'ACAA': 409, 'GTAAA': 455, 'TTCGA': 453, 'ATGAG': 451, 'GTTTT': 449, 'TACTGTA': 686, 'TCCCA': 448, 'GGAAAA': 196, 'GCTTG': 446, 'CATC': 180, 'TTTTTTG': 445, 'CCCC': 442, 'GAGTT': 356, 'ACAGA': 440, 'CAAA': 437, 'ACCC': 111, 'AGGCA': 436, 'CTTT': 653, 'TTCTA': 945, 'TTAT': 434, 'CCAAC': 433, 'CGAAAA': 432, '▁C': 428, 'AAGAG': 176, 'CTG': 531, 'TGAGT': 427, 'TATTG': 425, 'AGCA': 424, 'AATAT': 304, 'TTGGC': 370, 'AAATTT': 454, 'ACATTTT': 53, 'CAA': 423, 'TAGAA': 701, 'CTCAA': 421, 'GTTC': 420, 'TTGTT': 646, 'GTGC': 419, 'TTCCAA': 868, 'CTTCTG': 400, 'ATCT': 480, 'GGCTCA': 699, 'AATTTC': 38, 'AAAAAAAA': 414, 'CTTA': 413, 'TTA': 90, 'ATTTA': 411, 'TGCTT': 520, 'CAAAA': 946, 'ATT': 656, 'CTTG': 408, 'TCCAC': 737, 'ACATTT': 406, 'TACCT': 905, 'TTTAG': 628, 'CTTGG': 405, 'TCTCG': 840, 'TGTCT': 302, 'TGAGCC': 777, 'TTATA': 604, 'GCTGGG': 594, 'ATTCT': 468, 'GTAGA': 403, 'CTGAG': 402, 'TAGAG': 870, 'GATAA': 401, 'GAAATG': 362, 'TGT': 399, 'CTATT': 463, 'ACTGA': 398, 'GTGGA': 397, 'ACATA': 751, 'CTGGA': 395, '<pad>': 1022, 'AGAA': 743, 'AACAC': 496, 'GATT': 393, 'CACCT': 4, 'ATCGT': 932, 'CCCCC': 392, 'ATCAT': 387, 'GATC': 382, 'AATCA': 260, 'AAAGTT': 380, 'TACG': 528, 'ATTTAT': 379, 'TTTTAAA': 377, 'CAAAAC': 512, '▁G': 150, 'AATATTT': 545, 'CGC': 123, 'CTAAA': 24, 'CAGG': 376, 'TGGAG': 625, 'GAAA': 23, 'CGTA': 284, 'GGCTG': 351, 'TTCTG': 374, 'GGCG': 202, 'CAGAAA': 369, 'CAATA': 31, 'ATATT': 367, 'CACAG': 257, 'TGCCT': 366, 'AGCCT': 774, 'CATGG': 654, 'GTTGC': 330, 'CGGAT': 360, '▁A': 711, 'CGAG': 358, 'AGACA': 586, 'AGAAT': 353, 'AGAAA': 349, 'CAAGA': 396, 'AGC': 688, 'ACG': 435, 'ATAAT': 295, 'AGGTG': 346, 'TGCTG': 188, 'TTAAT': 516, 'CAAACA': 652, 'TGTAT': 6, 'TGAAAT': 343, 'GGGT': 12, 'CTGGC': 989, 'CGAA': 51, 'GCCTG': 977, 'CAAAAT': 342, 'TTCA': 206, 'GAC': 341, 'GGCAG': 301, 'AAAACA': 338, 'TCGTC': 621, 'CCTTT': 310, 'TAAACA': 259, 'ATTC': 270, 'AACCT': 825, 'CTCC': 337, 'GTGTC': 336, 'TGTAG': 331, 'GCC': 329, 'CGTT': 444, 'ATTTGA': 412, 'TATAG': 805, 'GTGAT': 268, 'GTGGC': 102, 'AAGTT': 189, 'CTTC': 328, 'ATTAC': 941, 'TGCAG': 327, 'TCAA': 322, 'TCATC': 632, 'AAAT': 325, 'TGCAA': 323, 'AACAG': 48, 'GTCTC': 321, 'AGGCAGG': 1000, 'ACCA': 319, 'ACTCT': 998, 'TGACT': 782, 'CTA': 712, 'GCA': 316, 'CTAC': 281, 'CCTAA': 956, 'TTATCA': 62, 'AACATT': 917, 'CAATTT': 55, 'TTTCAAAA': 315, 'TAGTC': 20, 'TTGTTG': 47, 'TCTT': 729, 'TTTTC': 314, 'CAGCC': 885, 'CACAA': 726, 'AAAAA': 308, 'AAACT': 122, 'TGTAC': 354, 'TCTCA': 303, 'TTGCT': 882, 'CACG': 460, 'AGGCTT': 275, 'AAGC': 347, 'TTTAAAA': 192, 'AAATT': 299, 'GCTG': 297, 'CAGTT': 717, 'GCTTA': 589, 'GCT': 690, 'ATTTTA': 306, 'ATCAA': 292, 'TGC': 290, 'GGAAAT': 960, 'TTTGT': 373, 'GACG': 611, 'AAAATTT': 288, 'ACTTT': 27, 'AGGC': 596, 'TTAGG': 283, 'GCCAT': 784, 'CCTTA': 279, 'AGAC': 278, 'GCTTC': 277, 'GTAG': 273, 'TGTTTT': 247, 'CCATG': 269, 'TAGC': 265, 'CAGA': 266, 'TGTGT': 263, 'ACTAC': 585, 'GGGAG': 262, 'CAGAAG': 818, 'ACATT': 466, 'CAGCT': 145, 'GAAGAA': 11, 'GTTTTT': 289, 'CCAT': 154, 'GTCAT': 935, 'AAGCT': 285, 'CCTTC': 422, 'TTTCT': 258, 'CAC': 276, 'AGGTA': 892, 'ATTATT': 255, 'CAT': 254, 'TCCT': 253, 'ATATAT': 252, 'TTGA': 124, 'CAAAG': 250, 'TCCAA': 864, 'AGATT': 155, 'GAAGG': 340, 'TCTGA': 682, 'ATGAA': 248, 'AATT': 641, 'AATAAAA': 246, 'AGAATC': 904, 'ATTTTG': 179, 'AAAAAG': 244, 'AACT': 368, 'CGTCG': 242, 'AACAT': 390, 'GTGAC': 903, 'TCAGT': 241, 'GGTC': 240, 'AAAGC': 37, 'TGAG': 235, 'TAGT': 361, 'AGAAG': 153, 'ACGG': 233, 'TTTTTTTT': 25, 'CAAC': 70, 'TTTCA': 234, 'GAAATT': 63, 'TGAAT': 232, 'AACTG': 312, 'TCTTC': 80, 'ATACAT': 231, 'TTTCTC': 724, 'CGAC': 230, 'CTCTT': 538, 'GAAGA': 229, 'ATAT': 228, 'GAGGT': 762, 'TCTA': 554, 'ATCTT': 71, 'AAAAGT': 224, 'AGTGT': 138, 'GTTCAA': 673, 'CTTCT': 365, 'TTG': 813, 'ACAT': 626, 'GTCG': 93, 'ACGT': 222, 'GTAT': 788, 'AGAGC': 709, 'TTCAG': 221, 'AACTC': 608, 'TTGGT': 220, 'GGCC': 294, 'TACC': 643, 'TTCAC': 217, 'TGGGA': 429, 'GCAG': 214, 'TTTTTCA': 714, 'ATC': 317, 'TGAC': 671, 'TGGGG': 721, 'GAATTT': 616, 'ATAA': 514, 'AAAAAT': 9, 'CTGTT': 415, 'GATTG': 394, 'CATT': 391, 'AATAG': 22, 'AGATG': 207, 'CGG': 597, 'CCCAC': 497, 'AGTTGA': 208, 'AAATA': 204, 'CTGAC': 662, 'CAAG': 203, 'TTTGA': 261, 'AGT': 534, 'GTTTC': 518, 'CCTTG': 332, 'GGAAG': 702, 'TTTTGT': 587, 'ATTTG': 613, 'ATGG': 160, 'CTTGC': 293, 'ACACACA': 872, 'GCCC': 200, 'TTTCAG': 199, 'CAACAA': 523, 'GAGCA': 50, 'TGCC': 32, 'CCAA': 642, 'AAACAA': 197, 'CATA': 723, 'TGGC': 706, 'CCCT': 46, 'TTATT': 137, 'ATA': 846, 'ATACA': 127, 'AAC': 389, 'TAAAAT': 139, 'AATGA': 18, 'CCC': 1001, 'CAAAAA': 134, 'ATATA': 193, 'AAAAG': 501, 'AAAC': 40, 'GTGTG': 105, 'TCA': 112, 'TTTGAA': 722, 'TGGCT': 191, 'AGTAT': 765, 'TATGA': 553, 'TTTGC': 227, 'ATTA': 996, 'TCAAT': 944, 'AGTTTT': 504, 'TTCCG': 251, 'GAAGC': 184, 'TCCA': 725, 'AGAG': 183, 'TGAT': 181, 'GAG': 884, 'CAGGT': 739, 'CTCG': 96, 'TTGAAC': 385, 'ATGAT': 157, 'ATG': 178, 'CCCTT': 907, 'CTGCT': 665, 'ATTGA': 65, 'GCGG': 552, 'GGAC': 66, 'AACTA': 357, 'AATCG': 175, 'GGCAA': 698, 'TACTT': 7, 'CTCCG': 441, 'TCTTG': 146, 'TTCAAA': 272, 'TTTTTT': 130, 'ACTAA': 5, 'CAAATG': 170, 'GGAA': 45, 'TCGG': 287, 'CTTAC': 471, 'TGATT': 119, 'AAAGT': 166, 'TTCTTT': 109, 'GCTGG': 920, 'TAAA': 237, 'GGC': 735, 'GAAAAA': 132, 'GAAT': 162, 'AGTGA': 627, 'ACTT': 158, 'AACCA': 100, 'TAGAT': 286, 'GAAGGA': 186, 'CTCTG': 85, 'TCTGC': 679, 'AACTT': 177, 'AGGTT': 1007, 'GT': 940, 'TAACA': 869, 'ATTGT': 159, 'GTGT': 309, 'CATTT': 223, 'GGAGAG': 267, 'TTTTTG': 488, 'CTTTT': 148, 'AGTGCT': 563, 'AAATC': 84, 'GTATT': 135, 'GGCA': 757, 'AGTTT': 144, 'CAGTG': 344, 'TTTAT': 72, 'TTGAA': 92, 'AAGAT': 142, 'CTC': 605, 'CAATG': 355, 'GTTA': 58, 'GCCG': 439, 'CAAGT': 719, 'CTGA': 568, 'ATAGT': 169, 'CGGAA': 680, 'CAAATT': 28, 'CTGG': 692, 'GTGGT': 1002, 'TTATTT': 133, 'CCAAAA': 638, 'TGTG': 163, 'TGAA': 113, 'AAAAAC': 131, 'CTGAT': 129, 'ACTA': 710, 'GTA': 215, 'TTATAA': 915, 'CTGT': 861, '▁': 1, 'AAATAA': 219, 'TTTA': 36, 'ATGTT': 126, 'AAT': 697, 'CTGCA': 125, 'GTGG': 298, 'GCAGA': 958, 'TTGGG': 450, 'AAATTG': 194, 'GGTA': 190, 'CGGC': 115, 'TTGAT': 156, 'AAAATC': 675, 'NNNNNNNN': 1020, 'AAACC': 650, 'GAATT': 121, 'T': 1017, 'AATGT': 666, 'TATT': 1014, 'CCAG': 110, 'GTTGT': 789, 'ACTAT': 117, 'CCTC': 728, 'GATTT': 603, 'CTCAT': 536, 'ATGA': 566, 'AAGT': 128, 'TTGTG': 114, 'TTTTT': 3, 'CAGT': 579, 'CCAGC': 91, 'AGGG': 828, 'AGGT': 807, 'TGTC': 550, 'CTGTC': 821, 'CAAAT': 88, 'AAATAT': 149, 'AAAAAAT': 855, 'TCAG': 462, 'CCGCC': 108, 'ATAAAT': 239, 'AAATTA': 218, 'AGCAT': 107, 'TATTTTTA': 853, 'GGTGG': 508, 'TTGTC': 106, 'GAAAT': 141, 'AGAAAA': 720, 'ATCGA': 684, 'TCATA': 459, 'CAATT': 79, 'CCTGT': 98, 'ATTGG': 887, 'AAAAATC': 619, 'GCCA': 116, 'GGCCT': 795, 'CTGAA': 99, 'AATTT': 659, 'CTGGAA': 909, 'GTGGTG': 622, 'AAGAA': 927, 'GTGCA': 89, 'CCTGA': 291, 'CATTG': 249, 'CTGGT': 185, 'CCG': 503, 'TAA': 371, 'AC': 689, 'CGT': 274, 'CACAT': 352, 'TGACA': 835, 'GCCAA': 418, 'GCAAC': 969, 'CAGTA': 164, 'TTTTTCT': 576, 'ATTTC': 21, 'TATCT': 140, 'AAAAT': 430, 'ATGGT': 339, 'CTTGT': 683, 'TTTGCA': 151, 'TAGCT': 78, '▁TT': 39, 'TACA': 77, 'GACAA': 623, 'TTTCTG': 378, 'ACACT': 513, 'ATAGA': 2, 'CATCT': 866, 'CTACA': 44, 'CAGAA': 535, 'TTGAAT': 381, 'GTT': 348, 'AAATG': 212, 'AGTG': 76, 'ACCAT': 75, 'AATTG': 74, 'TACT': 52, 'ATATG': 29, 'GAAC': 73, 'TTCAT': 57, 'GCCAC': 324, 'TATTT': 64, 'GGGC': 211, 'TGTGA': 143, 'ATGTG': 572, 'CATTTTT': 68, 'TGGAT': 165, 'CCTCA': 56, 'AGCT': 264, 'CTTTTT': 8, 'CTTAA': 271, 'TTAG': 593, 'CTTGA': 174, 'AAGA': 54, 'TCG': 118, 'GCATTT': 383, 'ACCTG': 182, 'AGG': 773, 'AAAAATT': 10, 'ATGGC': 980, 'GACC': 86, 'CGA': 101, 'ATTTTTG': 984, 'GTCA': 334, 'TAAG': 280, 'TTTTCC': 417, 'GGCT': 364, 'CCATC': 832, 'GCTTT': 483, 'GATTA': 836, 'AAACAT': 14, 'TGCA': 26, 'AGA': 35, 'CTAAAA': 345, 'AATTTG': 780, 'TTTTTCG': 443, 'CCGC': 388, 'CCAAA': 43, 'ATATTT': 256, 'ATAGG': 808, 'CTTTC': 300, 'TTTTGA': 238, 'ATTTTC': 42, 'TGTT': 893, 'GACT': 30, 'GTG': 384, 'CAGAG': 657, 'CCCCA': 82, 'AATAA': 431, 'TGCT': 94, 'GGAG': 407, 'GTTT': 307, 'CATG': 731, 'CGAT': 168, '<unk>': 0, 'GAAAAT': 34, 'ATCCA': 87, 'CGGA': 930, 'GGTT': 282, 'CCGA': 95, 'TCGAT': 549, 'ATGCT': 313, 'CTGTG': 167, 'TAAT': 69, 'AATAAT': 793, 'GCAGC': 210, 'TTGTA': 837, 'AAAATT': 195, 'GGATT': 590, 'GGTTT': 326, 'ATTTTT': 49, 'AAAATG': 569, 'TGAAA': 359, 'TCT': 509, 'ATTT': 363, 'GCTCT': 705, 'TTTAA': 41, 'CTAG': 161, 'CAAATA': 644, 'TAAATA': 948, 'AGTA': 15, 'CTATA': 410, 'ACACA': 16, 'GTGTA': 1013, 'TGAAAA': 173, 'ACCG': 848, 'AACA': 372, 'GCCTT': 1003, 'CTCCTG': 966, 'CAGAT': 458, 'GTAAT': 187, 'TTCTT': 13, 'AAGAAG': 651, 'ACAGT': 636, 'AGTT': 850, 'TCCTC': 478, 'GGAAA': 562, 'AATTTT': 17}\n"
     ]
    }
   ],
   "source": [
    "tokenizer = get_tokenizer(config['tokenizer'])\n",
    "tokenizer.train(train_dset=train_dset, vocab_size=VOCAB_SIZE, kmer=KMER)\n",
    "vocabulary = build_vocab(train_dset, tokenizer, use_padding=config[\"use_padding\"])\n",
    "\n",
    "print(\"vocab len:\" ,vocabulary.__len__())\n",
    "print(vocabulary.get_stoi())"
   ]
  },
  {
   "cell_type": "markdown",
   "id": "39c120f2",
   "metadata": {
    "id": "3hGQpSJA5kdT",
    "papermill": {
     "duration": 0.047362,
     "end_time": "2022-01-11T21:52:23.318367",
     "exception": false,
     "start_time": "2022-01-11T21:52:23.271005",
     "status": "completed"
    },
    "tags": []
   },
   "source": [
    "## Dataloader and batch preparation"
   ]
  },
  {
   "cell_type": "code",
   "execution_count": 8,
   "id": "97574bb8",
   "metadata": {
    "colab": {
     "base_uri": "https://localhost:8080/"
    },
    "execution": {
     "iopub.execute_input": "2022-01-11T21:52:23.406731Z",
     "iopub.status.busy": "2022-01-11T21:52:23.405678Z",
     "iopub.status.idle": "2022-01-11T21:53:10.253064Z",
     "shell.execute_reply": "2022-01-11T21:53:10.253624Z"
    },
    "id": "gXUgPH6q5kdT",
    "outputId": "a1eb6ba2-9bcd-416d-8662-e3516121da96",
    "papermill": {
     "duration": 46.901713,
     "end_time": "2022-01-11T21:53:10.253858",
     "exception": false,
     "start_time": "2022-01-11T21:52:23.352145",
     "status": "completed"
    },
    "tags": []
   },
   "outputs": [
    {
     "name": "stdout",
     "output_type": "stream",
     "text": [
      "Using cpu device\n"
     ]
    },
    {
     "name": "stdout",
     "output_type": "stream",
     "text": [
      "max_tok_len  57\n"
     ]
    },
    {
     "name": "stdout",
     "output_type": "stream",
     "text": [
      "not all sequences are of the same length\n"
     ]
    }
   ],
   "source": [
    "# Run on GPU or CPU\n",
    "device = 'cuda' if config[\"run_on_gpu\"] and torch.cuda.is_available() else 'cpu'\n",
    "print('Using {} device'.format(device))\n",
    "\n",
    "max_tok_len = check_seq_lengths(dataset=train_dset, tokenizer=tokenizer)\n",
    "\n",
    "# Data Loader\n",
    "collate = coll_factory(vocabulary, tokenizer, device, pad_to_length = max_tok_len)\n",
    "\n",
    "train_loader = DataLoader(train_dset, batch_size=config[\"batch_size\"], shuffle=True, collate_fn=collate)"
   ]
  },
  {
   "cell_type": "code",
   "execution_count": 9,
   "id": "5a5498eb",
   "metadata": {
    "execution": {
     "iopub.execute_input": "2022-01-11T21:53:10.440889Z",
     "iopub.status.busy": "2022-01-11T21:53:10.410370Z",
     "iopub.status.idle": "2022-01-11T21:53:10.455862Z",
     "shell.execute_reply": "2022-01-11T21:53:10.454020Z"
    },
    "papermill": {
     "duration": 0.139678,
     "end_time": "2022-01-11T21:53:10.456643",
     "exception": false,
     "start_time": "2022-01-11T21:53:10.316965",
     "status": "completed"
    },
    "tags": []
   },
   "outputs": [
    {
     "data": {
      "text/plain": [
       "['▁TT',\n",
       " 'AAAC',\n",
       " 'TTTAA',\n",
       " 'ATTTTC',\n",
       " 'CCAAA',\n",
       " 'CTACA',\n",
       " 'GGAA',\n",
       " 'CCCT',\n",
       " 'TTGTTG',\n",
       " 'AATTTT',\n",
       " 'AACAG',\n",
       " 'ATTTTT',\n",
       " 'GAGCA',\n",
       " 'CGAA',\n",
       " 'TACT',\n",
       " 'ACATTTT',\n",
       " 'AAGA',\n",
       " 'CAATTT',\n",
       " 'CCTCA',\n",
       " 'TTCAT',\n",
       " 'GTTA',\n",
       " 'CTTCTT',\n",
       " 'ATTTAA',\n",
       " 'AGAAAT',\n",
       " 'TTATCA',\n",
       " 'GAAATT',\n",
       " 'TATTT',\n",
       " 'ATTGA',\n",
       " 'GGAC',\n",
       " 'TATGT',\n",
       " 'AATAAA',\n",
       " 'CATTTTT',\n",
       " 'TAAT',\n",
       " 'CAAC',\n",
       " 'ATCTT',\n",
       " 'TTTAT',\n",
       " 'GAAC',\n",
       " 'AATTG',\n",
       " 'ACCAT',\n",
       " 'AGTG']"
      ]
     },
     "execution_count": 9,
     "metadata": {},
     "output_type": "execute_result"
    }
   ],
   "source": [
    "tokenizer(train_dset[1][0])"
   ]
  },
  {
   "cell_type": "markdown",
   "id": "5beaf3a3",
   "metadata": {
    "id": "sTTomnnP5kdU",
    "papermill": {
     "duration": 0.084607,
     "end_time": "2022-01-11T21:53:10.650336",
     "exception": false,
     "start_time": "2022-01-11T21:53:10.565729",
     "status": "completed"
    },
    "tags": []
   },
   "source": [
    "## Model"
   ]
  },
  {
   "cell_type": "code",
   "execution_count": 10,
   "id": "09ffca0a",
   "metadata": {
    "execution": {
     "iopub.execute_input": "2022-01-11T21:53:10.890878Z",
     "iopub.status.busy": "2022-01-11T21:53:10.882978Z",
     "iopub.status.idle": "2022-01-11T21:53:10.909908Z",
     "shell.execute_reply": "2022-01-11T21:53:10.910692Z"
    },
    "id": "ZNuXGIdD5kdU",
    "papermill": {
     "duration": 0.195712,
     "end_time": "2022-01-11T21:53:10.916287",
     "exception": false,
     "start_time": "2022-01-11T21:53:10.720575",
     "status": "completed"
    },
    "tags": []
   },
   "outputs": [],
   "source": [
    "model = CNN(\n",
    "    number_of_classes=config[\"number_of_classes\"],\n",
    "    vocab_size=vocabulary.__len__(),\n",
    "    embedding_dim=config[\"embedding_dim\"],\n",
    "    input_len=max_tok_len\n",
    ").to(device)"
   ]
  },
  {
   "cell_type": "markdown",
   "id": "ab7e3fbb",
   "metadata": {
    "id": "1pqIm92h5kdV",
    "papermill": {
     "duration": 0.115094,
     "end_time": "2022-01-11T21:53:11.103879",
     "exception": false,
     "start_time": "2022-01-11T21:53:10.988785",
     "status": "completed"
    },
    "tags": []
   },
   "source": [
    "## Training"
   ]
  },
  {
   "cell_type": "code",
   "execution_count": 11,
   "id": "53aea0c1",
   "metadata": {
    "colab": {
     "base_uri": "https://localhost:8080/"
    },
    "execution": {
     "iopub.execute_input": "2022-01-11T21:53:11.424304Z",
     "iopub.status.busy": "2022-01-11T21:53:11.420968Z",
     "iopub.status.idle": "2022-01-12T02:10:08.179444Z",
     "shell.execute_reply": "2022-01-12T02:10:08.180087Z"
    },
    "id": "uvO_-RFm5kdV",
    "outputId": "7799e5f9-78a7-4ef2-95e8-f06751912eda",
    "papermill": {
     "duration": 15416.962586,
     "end_time": "2022-01-12T02:10:08.180728",
     "exception": false,
     "start_time": "2022-01-11T21:53:11.218142",
     "status": "completed"
    },
    "tags": []
   },
   "outputs": [
    {
     "name": "stdout",
     "output_type": "stream",
     "text": [
      "Epoch 0\n"
     ]
    },
    {
     "name": "stderr",
     "output_type": "stream",
     "text": [
      "/Users/katarina/Documents/repositories/GitHub/GLP/src/glp/tokenizers/utils.py:27: UserWarning: To copy construct from a tensor, it is recommended to use sourceTensor.clone().detach() or sourceTensor.clone().detach().requires_grad_(True), rather than torch.tensor(sourceTensor).\n",
      "  x = torch.tensor(pad(x), dtype=torch.long)\n"
     ]
    },
    {
     "name": "stdout",
     "output_type": "stream",
     "text": [
      "Train metrics: \n",
      " Accuracy: 88.2%, Avg loss: 0.557570 \n",
      "\n",
      "Epoch 1\n"
     ]
    },
    {
     "name": "stdout",
     "output_type": "stream",
     "text": [
      "Train metrics: \n",
      " Accuracy: 90.1%, Avg loss: 0.550477 \n",
      "\n",
      "Epoch 2\n"
     ]
    },
    {
     "name": "stdout",
     "output_type": "stream",
     "text": [
      "Train metrics: \n",
      " Accuracy: 90.6%, Avg loss: 0.548435 \n",
      "\n",
      "Epoch 3\n"
     ]
    },
    {
     "name": "stdout",
     "output_type": "stream",
     "text": [
      "Train metrics: \n",
      " Accuracy: 90.6%, Avg loss: 0.546487 \n",
      "\n",
      "Epoch 4\n"
     ]
    },
    {
     "name": "stdout",
     "output_type": "stream",
     "text": [
      "Train metrics: \n",
      " Accuracy: 91.2%, Avg loss: 0.546215 \n",
      "\n"
     ]
    }
   ],
   "source": [
    "model.train(train_loader, epochs=config[\"epochs\"])"
   ]
  },
  {
   "cell_type": "markdown",
   "id": "2482f7b2",
   "metadata": {
    "id": "bR2tamrc5kdV",
    "papermill": {
     "duration": 0.038427,
     "end_time": "2022-01-12T02:10:08.257741",
     "exception": false,
     "start_time": "2022-01-12T02:10:08.219314",
     "status": "completed"
    },
    "tags": []
   },
   "source": [
    "## Testing"
   ]
  },
  {
   "cell_type": "code",
   "execution_count": 12,
   "id": "0850540d",
   "metadata": {
    "colab": {
     "base_uri": "https://localhost:8080/"
    },
    "execution": {
     "iopub.execute_input": "2022-01-12T02:10:08.349189Z",
     "iopub.status.busy": "2022-01-12T02:10:08.348302Z",
     "iopub.status.idle": "2022-01-12T02:10:38.258103Z",
     "shell.execute_reply": "2022-01-12T02:10:38.259302Z"
    },
    "id": "wbnciyRK5kdW",
    "outputId": "d2592f9d-f074-465f-95f8-df3b759ae068",
    "papermill": {
     "duration": 29.963029,
     "end_time": "2022-01-12T02:10:38.259636",
     "exception": false,
     "start_time": "2022-01-12T02:10:08.296607",
     "status": "completed"
    },
    "tags": []
   },
   "outputs": [
    {
     "name": "stdout",
     "output_type": "stream",
     "text": [
      "p  12500 ; tp  11152.565193891525 ; fp  1280.1847468295384\n",
      "recall  0.892205215511322 ; precision  0.8970312478789153\n",
      "num_batches 782\n",
      "correct 22384\n",
      "size 25000\n",
      "Test metrics: \n",
      " Accuracy: 0.895360, F1 score: 0.894612, Avg loss: 0.554701 \n",
      "\n"
     ]
    },
    {
     "data": {
      "text/plain": [
       "(0.89536, 0.8946117231679089)"
      ]
     },
     "execution_count": 12,
     "metadata": {},
     "output_type": "execute_result"
    }
   ],
   "source": [
    "test_dset = get_dataset(config[\"dataset\"], 'test')\n",
    "test_loader = DataLoader(test_dset, batch_size=config[\"batch_size\"], shuffle=True, collate_fn=collate)\n",
    "\n",
    "acc, f1 = model.test(test_loader)\n",
    "acc, f1"
   ]
  }
 ],
 "metadata": {
  "accelerator": "TPU",
  "colab": {
   "name": "torch_cnn_classifier.ipynb",
   "provenance": []
  },
  "environment": {
   "name": "pytorch-gpu.1-9.m75",
   "type": "gcloud",
   "uri": "gcr.io/deeplearning-platform-release/pytorch-gpu.1-9:m75"
  },
  "interpreter": {
   "hash": "9828b828580f1cac1b571b33de6cff8bacecc8916095e1bcbc967952ca7105b7"
  },
  "kernelspec": {
   "display_name": "Python 3",
   "name": "python3"
  },
  "language_info": {
   "codemirror_mode": {
    "name": "ipython",
    "version": 3
   },
   "file_extension": ".py",
   "mimetype": "text/x-python",
   "name": "python",
   "nbconvert_exporter": "python",
   "pygments_lexer": "ipython3",
   "version": "3.8.9"
  },
  "papermill": {
   "default_parameters": {},
   "duration": 31141.885189,
   "end_time": "2022-01-12T02:10:39.534260",
   "environment_variables": {},
   "exception": null,
   "input_path": "torch_cnn.ipynb",
   "output_path": "../torch_cnn_experiments/demo_human_or_worm_subword_1024.ipynb",
   "parameters": {
    "DATASET": "demo_human_or_worm",
    "TOKENIZER": "subword",
    "VOCAB_SIZE": 1024
   },
   "start_time": "2022-01-11T17:31:37.649071",
   "version": "2.3.3"
  }
 },
 "nbformat": 4,
 "nbformat_minor": 5
}