{
 "cells": [
  {
   "cell_type": "markdown",
   "id": "0bc681f3",
   "metadata": {
    "id": "SKOD9lvq5kdM",
    "papermill": {
     "duration": 0.018915,
     "end_time": "2022-01-11T09:42:39.479343",
     "exception": false,
     "start_time": "2022-01-11T09:42:39.460428",
     "status": "completed"
    },
    "tags": []
   },
   "source": [
    "# PYTORCH CNN Classifier"
   ]
  },
  {
   "cell_type": "code",
   "execution_count": 1,
   "id": "19cef875",
   "metadata": {
    "execution": {
     "iopub.execute_input": "2022-01-11T09:42:39.524006Z",
     "iopub.status.busy": "2022-01-11T09:42:39.521987Z",
     "iopub.status.idle": "2022-01-11T09:42:39.527169Z",
     "shell.execute_reply": "2022-01-11T09:42:39.526558Z"
    },
    "id": "E8prt3AL5kdO",
    "papermill": {
     "duration": 0.03222,
     "end_time": "2022-01-11T09:42:39.527364",
     "exception": false,
     "start_time": "2022-01-11T09:42:39.495144",
     "status": "completed"
    },
    "tags": [
     "parameters"
    ]
   },
   "outputs": [],
   "source": [
    "DATASET = 'none'\n",
    "VOCAB_SIZE = 0\n",
    "TOKENIZER = 'none'\n",
    "KMER = 0"
   ]
  },
  {
   "cell_type": "code",
   "execution_count": 2,
   "id": "d79fb607",
   "metadata": {
    "execution": {
     "iopub.execute_input": "2022-01-11T09:42:39.562670Z",
     "iopub.status.busy": "2022-01-11T09:42:39.561823Z",
     "iopub.status.idle": "2022-01-11T09:42:39.564590Z",
     "shell.execute_reply": "2022-01-11T09:42:39.565275Z"
    },
    "papermill": {
     "duration": 0.023022,
     "end_time": "2022-01-11T09:42:39.565478",
     "exception": false,
     "start_time": "2022-01-11T09:42:39.542456",
     "status": "completed"
    },
    "tags": [
     "injected-parameters"
    ]
   },
   "outputs": [],
   "source": [
    "# Parameters\n",
    "DATASET = \"human_enhancers_cohn\"\n",
    "TOKENIZER = \"subword\"\n",
    "VOCAB_SIZE = 512\n"
   ]
  },
  {
   "cell_type": "code",
   "execution_count": 3,
   "id": "5bc64349",
   "metadata": {
    "colab": {
     "base_uri": "https://localhost:8080/"
    },
    "execution": {
     "iopub.execute_input": "2022-01-11T09:42:39.600873Z",
     "iopub.status.busy": "2022-01-11T09:42:39.599981Z",
     "iopub.status.idle": "2022-01-11T09:42:39.603461Z",
     "shell.execute_reply": "2022-01-11T09:42:39.604044Z"
    },
    "id": "rohBItfR5kdP",
    "outputId": "7da7aafe-0858-48be-bf7d-f698784d88df",
    "papermill": {
     "duration": 0.024161,
     "end_time": "2022-01-11T09:42:39.604390",
     "exception": false,
     "start_time": "2022-01-11T09:42:39.580229",
     "status": "completed"
    },
    "tags": []
   },
   "outputs": [
    {
     "name": "stdout",
     "output_type": "stream",
     "text": [
      "human_enhancers_cohn 512 subword 0\n"
     ]
    }
   ],
   "source": [
    "print(DATASET, VOCAB_SIZE, TOKENIZER, KMER)"
   ]
  },
  {
   "cell_type": "markdown",
   "id": "b96a6f55",
   "metadata": {
    "id": "Y-YQrVyb5kdQ",
    "papermill": {
     "duration": 0.015354,
     "end_time": "2022-01-11T09:42:39.634865",
     "exception": false,
     "start_time": "2022-01-11T09:42:39.619511",
     "status": "completed"
    },
    "tags": []
   },
   "source": [
    "## Config"
   ]
  },
  {
   "cell_type": "code",
   "execution_count": 4,
   "id": "ccfc483e",
   "metadata": {
    "execution": {
     "iopub.execute_input": "2022-01-11T09:42:39.676099Z",
     "iopub.status.busy": "2022-01-11T09:42:39.675129Z",
     "iopub.status.idle": "2022-01-11T09:42:41.450244Z",
     "shell.execute_reply": "2022-01-11T09:42:41.450814Z"
    },
    "id": "FIunuyGk5kdR",
    "papermill": {
     "duration": 1.799745,
     "end_time": "2022-01-11T09:42:41.451121",
     "exception": false,
     "start_time": "2022-01-11T09:42:39.651376",
     "status": "completed"
    },
    "tags": []
   },
   "outputs": [],
   "source": [
    "import torch\n",
    "from torch.utils.data import DataLoader\n",
    "\n",
    "from genomic_benchmarks.dataset_getters.pytorch_datasets import get_dataset\n",
    "from glp.models import CNN\n",
    "from glp.tokenizers import get_tokenizer\n",
    "from glp.tokenizers.utils import build_vocab, coll_factory, check_config, check_seq_lengths"
   ]
  },
  {
   "cell_type": "code",
   "execution_count": 5,
   "id": "87edb50a",
   "metadata": {
    "execution": {
     "iopub.execute_input": "2022-01-11T09:42:41.498598Z",
     "iopub.status.busy": "2022-01-11T09:42:41.497512Z",
     "iopub.status.idle": "2022-01-11T09:42:41.500195Z",
     "shell.execute_reply": "2022-01-11T09:42:41.500697Z"
    },
    "id": "UgXiF6Zz5kdR",
    "papermill": {
     "duration": 0.033148,
     "end_time": "2022-01-11T09:42:41.500904",
     "exception": false,
     "start_time": "2022-01-11T09:42:41.467756",
     "status": "completed"
    },
    "tags": []
   },
   "outputs": [],
   "source": [
    "config = {\n",
    "    \"dataset\": DATASET,\n",
    "    \"tokenizer\": TOKENIZER,\n",
    "    \"dataset_version\": 0,\n",
    "    \"epochs\": 5,\n",
    "    \"batch_size\": 32,\n",
    "    \"use_padding\": True,\n",
    "    \"force_download\": False,\n",
    "    \"run_on_gpu\": True,\n",
    "    \"number_of_classes\": 2,\n",
    "    \"embedding_dim\": 100,\n",
    "}\n",
    "check_config(config)"
   ]
  },
  {
   "cell_type": "markdown",
   "id": "288de832",
   "metadata": {
    "id": "AUWF-avz5kdS",
    "papermill": {
     "duration": 0.014518,
     "end_time": "2022-01-11T09:42:41.530323",
     "exception": false,
     "start_time": "2022-01-11T09:42:41.515805",
     "status": "completed"
    },
    "tags": []
   },
   "source": [
    "## Choose the dataset"
   ]
  },
  {
   "cell_type": "code",
   "execution_count": 6,
   "id": "253e1df2",
   "metadata": {
    "colab": {
     "base_uri": "https://localhost:8080/"
    },
    "execution": {
     "iopub.execute_input": "2022-01-11T09:42:41.565660Z",
     "iopub.status.busy": "2022-01-11T09:42:41.564285Z",
     "iopub.status.idle": "2022-01-11T09:42:41.793880Z",
     "shell.execute_reply": "2022-01-11T09:42:41.794738Z"
    },
    "id": "1oaryDJr5kdS",
    "outputId": "6a425df9-4092-4601-9cd9-f61d524b6278",
    "papermill": {
     "duration": 0.249641,
     "end_time": "2022-01-11T09:42:41.795083",
     "exception": false,
     "start_time": "2022-01-11T09:42:41.545442",
     "status": "completed"
    },
    "tags": []
   },
   "outputs": [],
   "source": [
    "train_dset = get_dataset(config[\"dataset\"], 'train')"
   ]
  },
  {
   "cell_type": "markdown",
   "id": "19be386e",
   "metadata": {
    "id": "B0lqmy935kdS",
    "papermill": {
     "duration": 0.019054,
     "end_time": "2022-01-11T09:42:41.829575",
     "exception": false,
     "start_time": "2022-01-11T09:42:41.810521",
     "status": "completed"
    },
    "tags": []
   },
   "source": [
    "## Tokenizer and vocab"
   ]
  },
  {
   "cell_type": "code",
   "execution_count": 7,
   "id": "b4ea5bd6",
   "metadata": {
    "colab": {
     "base_uri": "https://localhost:8080/"
    },
    "execution": {
     "iopub.execute_input": "2022-01-11T09:42:41.866599Z",
     "iopub.status.busy": "2022-01-11T09:42:41.865362Z",
     "iopub.status.idle": "2022-01-11T09:54:35.016006Z",
     "shell.execute_reply": "2022-01-11T09:54:35.017017Z"
    },
    "id": "NY_zualp5kdT",
    "outputId": "9034d65f-2f9a-4c83-a314-13d3b808fc65",
    "papermill": {
     "duration": 713.172379,
     "end_time": "2022-01-11T09:54:35.017587",
     "exception": false,
     "start_time": "2022-01-11T09:42:41.845208",
     "status": "completed"
    },
    "tags": []
   },
   "outputs": [
    {
     "name": "stderr",
     "output_type": "stream",
     "text": [
      "sentencepiece_trainer.cc(177) LOG(INFO) Running command: --input=sample.csv --model_prefix=sample --vocab_size=512 --model_type=unigram\n",
      "sentencepiece_trainer.cc(77) LOG(INFO) Starts training with : \n",
      "trainer_spec {\n",
      "  input: sample.csv\n",
      "  input_format: \n",
      "  model_prefix: sample\n",
      "  model_type: UNIGRAM\n",
      "  vocab_size: 512\n",
      "  self_test_sample_size: 0\n",
      "  character_coverage: 0.9995\n",
      "  input_sentence_size: 0\n",
      "  shuffle_input_sentence: 1\n",
      "  seed_sentencepiece_size: 1000000\n",
      "  shrinking_factor: 0.75\n",
      "  max_sentence_length: 4192\n",
      "  num_threads: 16\n",
      "  num_sub_iterations: 2\n",
      "  max_sentencepiece_length: 16\n",
      "  split_by_unicode_script: 1\n",
      "  split_by_number: 1\n",
      "  split_by_whitespace: 1\n",
      "  split_digits: 0\n",
      "  treat_whitespace_as_suffix: 0\n",
      "  required_chars: \n",
      "  byte_fallback: 0\n",
      "  vocabulary_output_piece_score: 1\n",
      "  train_extremely_large_corpus: 0\n",
      "  hard_vocab_limit: 1\n",
      "  use_all_vocab: 0\n",
      "  unk_id: 0\n",
      "  bos_id: 1\n",
      "  eos_id: 2\n",
      "  pad_id: -1\n",
      "  unk_piece: <unk>\n",
      "  bos_piece: <s>\n",
      "  eos_piece: </s>\n",
      "  pad_piece: <pad>\n",
      "  unk_surface:  ⁇ \n",
      "}\n",
      "normalizer_spec {\n",
      "  name: nmt_nfkc\n",
      "  add_dummy_prefix: 1\n",
      "  remove_extra_whitespaces: 1\n",
      "  escape_whitespaces: 1\n",
      "  normalization_rule_tsv: \n",
      "}\n",
      "denormalizer_spec {}\n",
      "trainer_interface.cc(319) LOG(INFO) SentenceIterator is not specified. Using MultiFileSentenceIterator.\n",
      "trainer_interface.cc(174) LOG(INFO) Loading corpus: sample.csv\n",
      "trainer_interface.cc(375) LOG(INFO) Loaded all 20843 sentences\n",
      "trainer_interface.cc(390) LOG(INFO) Adding meta_piece: <unk>\n",
      "trainer_interface.cc(390) LOG(INFO) Adding meta_piece: <s>\n",
      "trainer_interface.cc(390) LOG(INFO) Adding meta_piece: </s>\n",
      "trainer_interface.cc(395) LOG(INFO) Normalizing sentences...\n"
     ]
    },
    {
     "name": "stderr",
     "output_type": "stream",
     "text": [
      "trainer_interface.cc(456) LOG(INFO) all chars count=10442343\n",
      "trainer_interface.cc(477) LOG(INFO) Alphabet size=5\n",
      "trainer_interface.cc(478) LOG(INFO) Final character coverage=1\n"
     ]
    },
    {
     "name": "stderr",
     "output_type": "stream",
     "text": [
      "trainer_interface.cc(510) LOG(INFO) Done! preprocessed 20843 sentences.\n"
     ]
    },
    {
     "name": "stderr",
     "output_type": "stream",
     "text": [
      "unigram_model_trainer.cc(138) LOG(INFO) Making suffix array...\n"
     ]
    },
    {
     "name": "stderr",
     "output_type": "stream",
     "text": [
      "unigram_model_trainer.cc(142) LOG(INFO) Extracting frequent sub strings...\n"
     ]
    },
    {
     "name": "stderr",
     "output_type": "stream",
     "text": [
      "unigram_model_trainer.cc(193) LOG(INFO) Initialized 1000000 seed sentencepieces\n"
     ]
    },
    {
     "name": "stderr",
     "output_type": "stream",
     "text": [
      "trainer_interface.cc(516) LOG(INFO) Tokenizing input sentences with whitespace: 20843\n",
      "trainer_interface.cc(526) LOG(INFO) Done! 20843\n",
      "unigram_model_trainer.cc(488) LOG(INFO) Using 20843 sentences for EM training\n"
     ]
    },
    {
     "name": "stderr",
     "output_type": "stream",
     "text": [
      "unigram_model_trainer.cc(504) LOG(INFO) EM sub_iter=0 size=451960 obj=656.396 num_tokens=1062834 num_tokens/piece=2.35161\n"
     ]
    },
    {
     "name": "stderr",
     "output_type": "stream",
     "text": [
      "unigram_model_trainer.cc(504) LOG(INFO) EM sub_iter=1 size=328755 obj=662.576 num_tokens=1151170 num_tokens/piece=3.5016\n"
     ]
    },
    {
     "name": "stderr",
     "output_type": "stream",
     "text": [
      "unigram_model_trainer.cc(504) LOG(INFO) EM sub_iter=0 size=214788 obj=659.085 num_tokens=1189558 num_tokens/piece=5.53829\n"
     ]
    },
    {
     "name": "stderr",
     "output_type": "stream",
     "text": [
      "unigram_model_trainer.cc(504) LOG(INFO) EM sub_iter=1 size=195654 obj=651.89 num_tokens=1212596 num_tokens/piece=6.19766\n"
     ]
    },
    {
     "name": "stderr",
     "output_type": "stream",
     "text": [
      "unigram_model_trainer.cc(504) LOG(INFO) EM sub_iter=0 size=144886 obj=653.472 num_tokens=1240509 num_tokens/piece=8.56197\n"
     ]
    },
    {
     "name": "stderr",
     "output_type": "stream",
     "text": [
      "unigram_model_trainer.cc(504) LOG(INFO) EM sub_iter=1 size=141860 obj=649.031 num_tokens=1247362 num_tokens/piece=8.79291\n"
     ]
    },
    {
     "name": "stderr",
     "output_type": "stream",
     "text": [
      "unigram_model_trainer.cc(504) LOG(INFO) EM sub_iter=0 size=106361 obj=652.395 num_tokens=1276529 num_tokens/piece=12.0019\n"
     ]
    },
    {
     "name": "stderr",
     "output_type": "stream",
     "text": [
      "unigram_model_trainer.cc(504) LOG(INFO) EM sub_iter=1 size=106221 obj=648.169 num_tokens=1278410 num_tokens/piece=12.0354\n"
     ]
    },
    {
     "name": "stderr",
     "output_type": "stream",
     "text": [
      "unigram_model_trainer.cc(504) LOG(INFO) EM sub_iter=0 size=79663 obj=653.869 num_tokens=1316403 num_tokens/piece=16.5246\n"
     ]
    },
    {
     "name": "stderr",
     "output_type": "stream",
     "text": [
      "unigram_model_trainer.cc(504) LOG(INFO) EM sub_iter=1 size=79658 obj=648.559 num_tokens=1316903 num_tokens/piece=16.532\n"
     ]
    },
    {
     "name": "stderr",
     "output_type": "stream",
     "text": [
      "unigram_model_trainer.cc(504) LOG(INFO) EM sub_iter=0 size=59743 obj=655.848 num_tokens=1359053 num_tokens/piece=22.7483\n"
     ]
    },
    {
     "name": "stderr",
     "output_type": "stream",
     "text": [
      "unigram_model_trainer.cc(504) LOG(INFO) EM sub_iter=1 size=59742 obj=650.015 num_tokens=1359467 num_tokens/piece=22.7556\n"
     ]
    },
    {
     "name": "stderr",
     "output_type": "stream",
     "text": [
      "unigram_model_trainer.cc(504) LOG(INFO) EM sub_iter=0 size=44806 obj=657.667 num_tokens=1400371 num_tokens/piece=31.2541\n"
     ]
    },
    {
     "name": "stderr",
     "output_type": "stream",
     "text": [
      "unigram_model_trainer.cc(504) LOG(INFO) EM sub_iter=1 size=44806 obj=652.073 num_tokens=1400851 num_tokens/piece=31.2648\n"
     ]
    },
    {
     "name": "stderr",
     "output_type": "stream",
     "text": [
      "unigram_model_trainer.cc(504) LOG(INFO) EM sub_iter=0 size=33604 obj=659.381 num_tokens=1441209 num_tokens/piece=42.888\n"
     ]
    },
    {
     "name": "stderr",
     "output_type": "stream",
     "text": [
      "unigram_model_trainer.cc(504) LOG(INFO) EM sub_iter=1 size=33603 obj=654.176 num_tokens=1441766 num_tokens/piece=42.9059\n"
     ]
    },
    {
     "name": "stderr",
     "output_type": "stream",
     "text": [
      "unigram_model_trainer.cc(504) LOG(INFO) EM sub_iter=0 size=25202 obj=661.335 num_tokens=1482972 num_tokens/piece=58.8434\n"
     ]
    },
    {
     "name": "stderr",
     "output_type": "stream",
     "text": [
      "unigram_model_trainer.cc(504) LOG(INFO) EM sub_iter=1 size=25202 obj=656.203 num_tokens=1483424 num_tokens/piece=58.8614\n"
     ]
    },
    {
     "name": "stderr",
     "output_type": "stream",
     "text": [
      "unigram_model_trainer.cc(504) LOG(INFO) EM sub_iter=0 size=18901 obj=663.245 num_tokens=1526444 num_tokens/piece=80.76\n"
     ]
    },
    {
     "name": "stderr",
     "output_type": "stream",
     "text": [
      "unigram_model_trainer.cc(504) LOG(INFO) EM sub_iter=1 size=18901 obj=658.003 num_tokens=1527069 num_tokens/piece=80.793\n"
     ]
    },
    {
     "name": "stderr",
     "output_type": "stream",
     "text": [
      "unigram_model_trainer.cc(504) LOG(INFO) EM sub_iter=0 size=14175 obj=665.311 num_tokens=1573592 num_tokens/piece=111.012\n"
     ]
    },
    {
     "name": "stderr",
     "output_type": "stream",
     "text": [
      "unigram_model_trainer.cc(504) LOG(INFO) EM sub_iter=1 size=14175 obj=659.734 num_tokens=1574133 num_tokens/piece=111.05\n"
     ]
    },
    {
     "name": "stderr",
     "output_type": "stream",
     "text": [
      "unigram_model_trainer.cc(504) LOG(INFO) EM sub_iter=0 size=10631 obj=667.497 num_tokens=1623310 num_tokens/piece=152.696\n"
     ]
    },
    {
     "name": "stderr",
     "output_type": "stream",
     "text": [
      "unigram_model_trainer.cc(504) LOG(INFO) EM sub_iter=1 size=10631 obj=661.529 num_tokens=1623986 num_tokens/piece=152.759\n"
     ]
    },
    {
     "name": "stderr",
     "output_type": "stream",
     "text": [
      "unigram_model_trainer.cc(504) LOG(INFO) EM sub_iter=0 size=7973 obj=669.647 num_tokens=1677995 num_tokens/piece=210.46\n"
     ]
    },
    {
     "name": "stderr",
     "output_type": "stream",
     "text": [
      "unigram_model_trainer.cc(504) LOG(INFO) EM sub_iter=1 size=7973 obj=663.05 num_tokens=1678566 num_tokens/piece=210.531\n"
     ]
    },
    {
     "name": "stderr",
     "output_type": "stream",
     "text": [
      "unigram_model_trainer.cc(504) LOG(INFO) EM sub_iter=0 size=5979 obj=671.319 num_tokens=1734023 num_tokens/piece=290.019\n"
     ]
    },
    {
     "name": "stderr",
     "output_type": "stream",
     "text": [
      "unigram_model_trainer.cc(504) LOG(INFO) EM sub_iter=1 size=5979 obj=664.29 num_tokens=1734616 num_tokens/piece=290.118\n"
     ]
    },
    {
     "name": "stderr",
     "output_type": "stream",
     "text": [
      "unigram_model_trainer.cc(504) LOG(INFO) EM sub_iter=0 size=4484 obj=672.797 num_tokens=1794114 num_tokens/piece=400.115\n"
     ]
    },
    {
     "name": "stderr",
     "output_type": "stream",
     "text": [
      "unigram_model_trainer.cc(504) LOG(INFO) EM sub_iter=1 size=4484 obj=665.366 num_tokens=1794882 num_tokens/piece=400.286\n"
     ]
    },
    {
     "name": "stderr",
     "output_type": "stream",
     "text": [
      "unigram_model_trainer.cc(504) LOG(INFO) EM sub_iter=0 size=3363 obj=674.688 num_tokens=1858954 num_tokens/piece=552.767\n"
     ]
    },
    {
     "name": "stderr",
     "output_type": "stream",
     "text": [
      "unigram_model_trainer.cc(504) LOG(INFO) EM sub_iter=1 size=3363 obj=666.505 num_tokens=1859784 num_tokens/piece=553.013\n"
     ]
    },
    {
     "name": "stderr",
     "output_type": "stream",
     "text": [
      "unigram_model_trainer.cc(504) LOG(INFO) EM sub_iter=0 size=2522 obj=676.667 num_tokens=1931142 num_tokens/piece=765.718\n"
     ]
    },
    {
     "name": "stderr",
     "output_type": "stream",
     "text": [
      "unigram_model_trainer.cc(504) LOG(INFO) EM sub_iter=1 size=2522 obj=667.926 num_tokens=1931879 num_tokens/piece=766.011\n"
     ]
    },
    {
     "name": "stderr",
     "output_type": "stream",
     "text": [
      "unigram_model_trainer.cc(504) LOG(INFO) EM sub_iter=0 size=1891 obj=679.206 num_tokens=2007806 num_tokens/piece=1061.77\n"
     ]
    },
    {
     "name": "stderr",
     "output_type": "stream",
     "text": [
      "unigram_model_trainer.cc(504) LOG(INFO) EM sub_iter=1 size=1891 obj=669.539 num_tokens=2008799 num_tokens/piece=1062.29\n"
     ]
    },
    {
     "name": "stderr",
     "output_type": "stream",
     "text": [
      "unigram_model_trainer.cc(504) LOG(INFO) EM sub_iter=0 size=1418 obj=680.388 num_tokens=2088648 num_tokens/piece=1472.95\n"
     ]
    },
    {
     "name": "stderr",
     "output_type": "stream",
     "text": [
      "unigram_model_trainer.cc(504) LOG(INFO) EM sub_iter=1 size=1418 obj=670.701 num_tokens=2089565 num_tokens/piece=1473.6\n"
     ]
    },
    {
     "name": "stderr",
     "output_type": "stream",
     "text": [
      "unigram_model_trainer.cc(504) LOG(INFO) EM sub_iter=0 size=1063 obj=684.877 num_tokens=2178168 num_tokens/piece=2049.08\n"
     ]
    },
    {
     "name": "stderr",
     "output_type": "stream",
     "text": [
      "unigram_model_trainer.cc(504) LOG(INFO) EM sub_iter=1 size=1063 obj=671.698 num_tokens=2179396 num_tokens/piece=2050.23\n"
     ]
    },
    {
     "name": "stderr",
     "output_type": "stream",
     "text": [
      "unigram_model_trainer.cc(504) LOG(INFO) EM sub_iter=0 size=797 obj=685.058 num_tokens=2275812 num_tokens/piece=2855.47\n"
     ]
    },
    {
     "name": "stderr",
     "output_type": "stream",
     "text": [
      "unigram_model_trainer.cc(504) LOG(INFO) EM sub_iter=1 size=797 obj=672.737 num_tokens=2277467 num_tokens/piece=2857.55\n"
     ]
    },
    {
     "name": "stderr",
     "output_type": "stream",
     "text": [
      "unigram_model_trainer.cc(504) LOG(INFO) EM sub_iter=0 size=597 obj=687.794 num_tokens=2381618 num_tokens/piece=3989.31\n"
     ]
    },
    {
     "name": "stderr",
     "output_type": "stream",
     "text": [
      "unigram_model_trainer.cc(504) LOG(INFO) EM sub_iter=1 size=597 obj=673.614 num_tokens=2382788 num_tokens/piece=3991.27\n"
     ]
    },
    {
     "name": "stderr",
     "output_type": "stream",
     "text": [
      "unigram_model_trainer.cc(504) LOG(INFO) EM sub_iter=0 size=563 obj=675.84 num_tokens=2405285 num_tokens/piece=4272.26\n"
     ]
    },
    {
     "name": "stderr",
     "output_type": "stream",
     "text": [
      "unigram_model_trainer.cc(504) LOG(INFO) EM sub_iter=1 size=563 obj=673.439 num_tokens=2406953 num_tokens/piece=4275.23\n",
      "trainer_interface.cc(604) LOG(INFO) Saving model: sample.model\n",
      "trainer_interface.cc(615) LOG(INFO) Saving vocabs: sample.vocab\n"
     ]
    },
    {
     "name": "stdout",
     "output_type": "stream",
     "text": [
      "vocab len: 511\n",
      "{'G': 509, 'TAATT': 508, 'A': 507, 'T': 505, 'TTCAC': 504, 'ATATG': 503, 'CTCCC': 502, 'TGGGA': 500, 'C': 496, 'ATAC': 494, 'ATACA': 493, 'GAAAG': 487, 'ATTAT': 483, 'CAAAT': 482, 'CAGCA': 481, 'CATAT': 480, 'AATCT': 478, 'CTTA': 475, 'CCAAA': 474, 'AGAAT': 472, 'TGAAG': 470, '<pad>': 510, 'AG': 467, 'CCATT': 465, 'ATCAC': 464, 'TAGT': 462, 'TTG': 461, 'TGTGT': 460, 'AAGAAA': 459, 'TCCAG': 458, 'GTG': 457, 'AATCA': 455, 'CTAG': 454, 'CTGGAG': 456, 'GCCG': 453, 'ATCTG': 448, 'ATATTT': 447, 'CCATG': 443, 'GAAGA': 498, 'CTCTT': 441, 'TGACA': 438, 'TTGAT': 437, 'AGCA': 435, 'TTATT': 492, 'TCTC': 434, 'TCTGG': 433, 'AGAAAA': 431, 'GGAA': 429, 'CCAGA': 427, 'CATC': 450, 'TCAA': 426, 'GCAC': 424, 'AGATG': 422, 'CTGT': 420, 'AATTA': 418, 'GAAGG': 415, 'AACAG': 412, 'ACAAAA': 446, 'TCATT': 411, 'TAGG': 410, 'AGCAG': 407, 'TCCTC': 405, 'AAAG': 404, 'AGTGA': 421, 'ACTT': 403, 'TACA': 401, 'ATAG': 400, 'TACCA': 399, 'TCACT': 398, 'TTCAA': 397, 'TTCAG': 138, 'GTAT': 395, 'TGGC': 118, 'AGTG': 391, 'TACT': 383, 'ACTA': 380, 'TCT': 199, 'ATTT': 378, 'CTCCTG': 373, 'AATGG': 372, 'AAAGT': 371, 'ACCC': 349, 'TTAG': 370, 'TGACT': 328, 'CTA': 368, 'TCCTG': 361, 'TATTT': 375, 'TCCCC': 440, 'GCCAC': 360, 'CCCAGC': 356, 'CCTA': 355, 'CA': 353, 'CCGC': 352, 'CCTCT': 351, 'GC': 345, 'ATCCA': 341, 'CG': 250, 'CTCCT': 338, 'CAC': 337, 'ATGA': 416, 'AAGT': 336, 'AACT': 335, 'CCTGT': 333, 'AAC': 267, 'AGCTG': 330, 'CTTCT': 321, 'GA': 362, 'TGAGT': 207, 'CTG': 320, 'AGGCA': 319, 'CAA': 316, 'AGTTA': 491, 'AGAT': 331, 'TATT': 242, 'ACTTT': 315, 'TGGA': 96, 'CCCAGG': 313, 'GTC': 67, 'AGGAG': 332, 'GGCC': 165, 'CCCTC': 308, 'TGAAT': 324, 'CAAC': 402, 'TTTCA': 305, 'ATA': 20, 'CTTTG': 298, 'CC': 84, 'ACC': 297, 'CACG': 68, 'CTTTT': 203, 'TTTTA': 294, 'TCTTT': 292, 'AGTA': 290, 'TTTC': 163, 'TCAT': 289, 'CCCAC': 343, 'ACCA': 287, 'CTGGA': 284, 'AAAGG': 137, 'AATGA': 334, 'ATATA': 283, 'AATA': 325, 'AATG': 142, 'TTTGT': 381, 'TTGT': 243, 'AAGCA': 281, 'GTTT': 149, 'GGAG': 278, 'CCAGG': 275, 'CATGT': 477, 'CAAT': 307, 'AGTAG': 274, 'GCCAG': 270, 'TTTTT': 329, 'TGAA': 317, 'CAGT': 36, 'CCAGC': 260, 'CTTG': 155, 'TGCTT': 310, 'AAGTA': 486, 'AAGG': 276, 'AAGGA': 254, 'GCTG': 259, 'TTACA': 257, 'TGTGG': 7, 'GGCTG': 160, 'TTCTG': 249, 'CTGAG': 258, 'CATA': 466, 'CCCT': 247, 'AGCCA': 140, 'TTAA': 104, 'ATGT': 392, 'TATAT': 246, 'AGGAA': 245, 'AAAAT': 374, 'ATGTA': 445, 'AAAT': 244, 'TGC': 268, 'AACA': 282, 'TTCA': 241, 'GCCTC': 39, 'CATTT': 239, 'CCTCA': 318, 'TTTCCT': 390, 'CACT': 262, 'AAGTG': 238, 'GGTG': 81, 'ATTCT': 202, 'TACCT': 323, 'AGGGG': 236, 'ATC': 389, 'AGTCA': 296, 'TGGGG': 13, 'ATAA': 158, 'AAA': 234, 'AGGT': 161, 'AGG': 233, 'TGTTT': 230, 'CGT': 229, 'CTGTT': 42, 'ATTA': 124, 'CATT': 376, 'TTAT': 471, 'CTTT': 227, 'AAGAG': 497, 'GGGT': 226, 'ATTG': 300, 'GCG': 269, 'AAATT': 224, 'GCA': 223, 'TGTG': 221, 'TATCT': 463, 'GGA': 220, 'TGCCT': 219, 'CCAAG': 248, 'GTCAC': 23, 'AAACT': 218, 'TGTCT': 326, 'GAT': 217, 'TTGG': 309, 'CTCAC': 303, 'ACTG': 216, 'TCTGT': 214, 'ATAAA': 311, 'ACA': 213, 'TGCAG': 212, 'TGAT': 211, 'AGCC': 365, 'GGAAG': 183, 'TTTTGT': 210, 'CCCCG': 209, 'CACTG': 208, 'CCCA': 430, 'CGGGG': 358, 'CCAA': 306, 'AGGGA': 188, 'CCAT': 206, 'CCTGG': 359, 'CAGTG': 12, 'TTTAT': 58, 'TTGAA': 344, 'CCCG': 201, 'TCCT': 197, 'AACTT': 385, 'CTAA': 205, 'TCCCT': 442, 'CTCTG': 17, 'GAGGG': 195, 'AACCA': 190, 'CAAGA': 62, 'CTGGC': 452, 'GGTGG': 423, 'TCTCT': 366, 'TACTG': 135, 'TGAC': 176, 'AGGAAG': 175, 'AATAA': 174, 'TCTCA': 168, 'TACAT': 506, 'ATGC': 172, 'GGGAG': 115, 'ACAT': 171, 'CAGGG': 314, 'CAGG': 107, 'CGC': 147, 'TAG': 166, 'AGAAA': 204, 'CTCA': 94, 'CTC': 159, 'CACA': 95, 'GCTGG': 157, 'AGT': 184, 'CCTTG': 156, 'CAGCT': 409, 'AGTTT': 235, 'CCTGA': 215, 'AATTT': 154, 'TAAA': 489, 'TTCTTT': 41, 'TTCCT': 153, 'CTAC': 46, 'AAACA': 152, 'ATCA': 148, 'GGAC': 499, 'CTGCT': 146, 'TGA': 145, 'GGT': 144, 'CTCT': 25, 'ACT': 302, 'GAA': 85, 'CACTT': 76, 'AGGAAA': 143, 'TCTA': 485, 'CAAG': 55, 'ACATT': 141, 'GGGA': 139, 'GTGA': 252, 'AATAT': 501, 'GCCTG': 193, 'TAA': 164, 'CCG': 272, 'CAAAG': 134, 'CAGA': 133, 'AAAAAAAAA': 473, 'TATG': 105, 'GAGA': 132, 'ATGAA': 225, 'CAACA': 110, 'AAAGA': 131, 'TGTT': 50, 'TTTCTT': 80, 'GGGAGGC': 449, 'TGGAG': 432, 'ACACA': 129, 'CTGCA': 425, 'AAT': 394, 'CATCT': 169, 'TACTT': 128, 'GGCA': 127, 'GG': 346, 'CTCC': 126, 'TTTGG': 417, 'CCTT': 261, 'TCCCA': 265, 'ATAAT': 439, 'AGC': 256, 'ACG': 125, 'CACC': 122, 'AGA': 48, 'TGTAA': 120, 'GAG': 71, 'CTTTA': 379, 'TAAAA': 121, 'CATGG': 181, 'TAAAT': 116, 'TGCCC': 192, 'TTTTCT': 98, 'CTT': 114, 'CAT': 112, 'AATT': 240, 'TTTAA': 108, 'CAGGC': 273, 'GGGAA': 170, 'TTAAT': 479, 'AGGC': 173, '<unk>': 0, 'TC': 101, 'CT': 476, 'CCA': 100, 'GAGC': 237, 'GTCTC': 99, 'CTCCAG': 354, 'ATCT': 178, 'ACCT': 119, 'CCAC': 111, 'TTCC': 70, 'CAAA': 93, 'AGACA': 31, 'CGG': 91, 'CCCTG': 9, 'TCCA': 21, 'AGAG': 106, 'GTCC': 88, 'CTTGG': 222, 'ATTTT': 291, 'CCTGGG': 57, 'GAC': 66, 'TCC': 293, 'AACAT': 285, 'TTTTTTT': 468, 'AGGA': 186, 'TGAGG': 27, 'TGGTT': 304, 'AGAGA': 150, 'CAGAG': 198, 'CCCCA': 109, 'TGCT': 83, 'CACAC': 151, 'CTGAA': 396, 'CCTGC': 350, 'TGAGA': 347, 'ACCTC': 79, 'GCTGGG': 87, 'AATGT': 61, 'CCAG': 78, 'CCCTT': 35, 'AAAAA': 53, 'AGAC': 180, 'AGCAA': 288, 'TGCTG': 136, 'CTGGG': 191, 'GATT': 194, 'AGAA': 65, 'CTTCC': 77, 'CGTG': 279, 'ACAGG': 64, 'GATG': 327, 'ACAGA': 32, 'GTGGG': 488, 'CTCAG': 179, 'TGTAT': 63, 'GCT': 264, 'GCAG': 59, 'GCAGG': 382, 'AC': 419, 'CACAT': 277, 'CAGGA': 251, 'TCAG': 30, 'GCC': 271, 'TTC': 56, 'TAAC': 428, 'TTA': 232, 'CATG': 43, 'TAAG': 54, 'AACAA': 49, 'TGGT': 47, 'TGCCA': 60, 'TGGTG': 187, 'CTGC': 339, 'TGGG': 266, 'TTT': 130, 'TAT': 342, 'GGCT': 263, 'TCTT': 69, 'GGCAG': 14, 'AGAAG': 322, 'GTGT': 182, 'GTA': 253, '▁': 1, 'ATGTT': 123, 'CCTCCC': 340, 'TAGA': 280, 'CCCAG': 73, 'CAG': 40, 'TATAA': 484, 'CAAGG': 451, 'ATGAT': 386, 'AGATA': 490, 'GAGG': 6, 'ATG': 26, 'CTGTG': 22, 'TAAT': 52, 'TGTA': 177, 'TTGTT': 408, 'TGTGA': 406, 'GGGC': 255, 'TCCTT': 103, 'GTGTG': 436, 'TCA': 312, 'AAAAG': 45, 'AAAC': 295, 'CAGAA': 75, 'GTT': 369, 'AAATG': 51, 'TGG': 24, 'CAAAA': 377, 'AGAGG': 44, 'TTTCT': 38, 'AAAATA': 228, 'TTCTT': 162, 'ATGG': 92, 'ACAA': 117, 'TATTTTT': 102, 'ATTTG': 495, 'CCTTC': 367, 'CTCCA': 299, 'TCTG': 8, 'GT': 89, 'AGGG': 34, 'TTTT': 384, 'TGAAA': 3, 'ACAG': 10, 'TGAG': 33, 'TTCT': 16, 'GGC': 5, 'TGCA': 29, 'TCCC': 15, 'ATCCT': 301, 'CTAT': 286, 'GGG': 28, 'GTGG': 167, 'GCCCC': 348, 'CTGCC': 357, 'GGAGG': 19, 'AGTT': 200, 'CACAG': 82, 'CCACA': 364, 'CAGC': 11, 'TGGCT': 37, 'TCTTG': 469, 'CCT': 113, 'ATAT': 393, 'CCC': 4, 'TGT': 72, 'ACAC': 414, 'TTTG': 97, 'AAGA': 86, 'CCTTT': 196, 'TGGAT': 387, 'ATGTG': 388, 'AAATA': 90, 'TTATTT': 444, 'CTGG': 413, 'ATT': 363, 'TGTCA': 185, 'AAAA': 231, 'AAG': 18, 'GTTG': 189, 'CTGA': 2, 'AGCT': 74}\n"
     ]
    }
   ],
   "source": [
    "tokenizer = get_tokenizer(config['tokenizer'])\n",
    "tokenizer.train(train_dset=train_dset, vocab_size=VOCAB_SIZE, kmer=KMER)\n",
    "vocabulary = build_vocab(train_dset, tokenizer, use_padding=config[\"use_padding\"])\n",
    "\n",
    "print(\"vocab len:\" ,vocabulary.__len__())\n",
    "print(vocabulary.get_stoi())"
   ]
  },
  {
   "cell_type": "markdown",
   "id": "6fca154c",
   "metadata": {
    "id": "3hGQpSJA5kdT",
    "papermill": {
     "duration": 0.05708,
     "end_time": "2022-01-11T09:54:35.120571",
     "exception": false,
     "start_time": "2022-01-11T09:54:35.063491",
     "status": "completed"
    },
    "tags": []
   },
   "source": [
    "## Dataloader and batch preparation"
   ]
  },
  {
   "cell_type": "code",
   "execution_count": 8,
   "id": "207e9359",
   "metadata": {
    "colab": {
     "base_uri": "https://localhost:8080/"
    },
    "execution": {
     "iopub.execute_input": "2022-01-11T09:54:35.210645Z",
     "iopub.status.busy": "2022-01-11T09:54:35.209704Z",
     "iopub.status.idle": "2022-01-11T09:54:58.254020Z",
     "shell.execute_reply": "2022-01-11T09:54:58.254875Z"
    },
    "id": "gXUgPH6q5kdT",
    "outputId": "a1eb6ba2-9bcd-416d-8662-e3516121da96",
    "papermill": {
     "duration": 23.088997,
     "end_time": "2022-01-11T09:54:58.255257",
     "exception": false,
     "start_time": "2022-01-11T09:54:35.166260",
     "status": "completed"
    },
    "tags": []
   },
   "outputs": [
    {
     "name": "stdout",
     "output_type": "stream",
     "text": [
      "Using cpu device\n"
     ]
    },
    {
     "name": "stdout",
     "output_type": "stream",
     "text": [
      "max_tok_len  140\n"
     ]
    },
    {
     "name": "stdout",
     "output_type": "stream",
     "text": [
      "not all sequences are of the same length\n"
     ]
    }
   ],
   "source": [
    "# Run on GPU or CPU\n",
    "device = 'cuda' if config[\"run_on_gpu\"] and torch.cuda.is_available() else 'cpu'\n",
    "print('Using {} device'.format(device))\n",
    "\n",
    "max_tok_len = check_seq_lengths(dataset=train_dset, tokenizer=tokenizer)\n",
    "\n",
    "# Data Loader\n",
    "collate = coll_factory(vocabulary, tokenizer, device, pad_to_length = max_tok_len)\n",
    "\n",
    "train_loader = DataLoader(train_dset, batch_size=config[\"batch_size\"], shuffle=True, collate_fn=collate)"
   ]
  },
  {
   "cell_type": "code",
   "execution_count": 9,
   "id": "075f974b",
   "metadata": {
    "execution": {
     "iopub.execute_input": "2022-01-11T09:54:58.424380Z",
     "iopub.status.busy": "2022-01-11T09:54:58.422562Z",
     "iopub.status.idle": "2022-01-11T09:54:58.427744Z",
     "shell.execute_reply": "2022-01-11T09:54:58.428817Z"
    },
    "papermill": {
     "duration": 0.116392,
     "end_time": "2022-01-11T09:54:58.429208",
     "exception": false,
     "start_time": "2022-01-11T09:54:58.312816",
     "status": "completed"
    },
    "tags": []
   },
   "outputs": [
    {
     "data": {
      "text/plain": [
       "['▁',\n",
       " 'CCA',\n",
       " 'TC',\n",
       " 'TATTTTT',\n",
       " 'GAA',\n",
       " 'TCCTT',\n",
       " 'TTAA',\n",
       " 'CACTT',\n",
       " 'TATG',\n",
       " 'AGAG',\n",
       " 'AGAA',\n",
       " 'AGAA',\n",
       " 'CAGAA',\n",
       " 'CAGG',\n",
       " 'CAGG',\n",
       " 'CAGG',\n",
       " 'CTGTG',\n",
       " 'TTTAA',\n",
       " 'CCCCA',\n",
       " 'CAACA',\n",
       " 'CCAC',\n",
       " 'CAT',\n",
       " 'AGAG',\n",
       " 'CCT',\n",
       " 'AAAAG',\n",
       " 'CTT',\n",
       " 'GGGAG',\n",
       " 'TAAAT',\n",
       " 'ACAA',\n",
       " 'TTTCTT',\n",
       " 'TGGC',\n",
       " 'ACCT',\n",
       " 'TGTAA',\n",
       " 'TAAAA',\n",
       " 'CATG',\n",
       " 'AACAA',\n",
       " 'TGAG',\n",
       " 'TTTCT',\n",
       " 'CACC',\n",
       " 'ATGTT',\n",
       " 'ATTA',\n",
       " 'GTCTC',\n",
       " 'TGGA',\n",
       " 'TTCC',\n",
       " 'ACG',\n",
       " 'CTCC',\n",
       " 'GGCA',\n",
       " 'TACTT',\n",
       " 'ACACA',\n",
       " 'TTT',\n",
       " 'ACAGA',\n",
       " 'AAAGA',\n",
       " 'GAGA',\n",
       " 'CAGA',\n",
       " 'CAAAG',\n",
       " 'AGAG',\n",
       " 'TACTG',\n",
       " 'TGCTG',\n",
       " 'AAAGG',\n",
       " 'TTCAG',\n",
       " 'ACAGA',\n",
       " 'AGAA',\n",
       " 'TTC',\n",
       " 'GGGA',\n",
       " 'CTCA',\n",
       " 'AGCCA',\n",
       " 'CAACA',\n",
       " 'ACATT',\n",
       " 'AATG',\n",
       " 'AGGAAA',\n",
       " 'GGGAG',\n",
       " 'GGT',\n",
       " 'AGGG',\n",
       " 'CAG',\n",
       " 'CCCAG',\n",
       " 'TGA',\n",
       " 'ACAA',\n",
       " 'TGAG',\n",
       " 'CTGCT',\n",
       " 'CGC',\n",
       " 'ATCA',\n",
       " 'GTTT',\n",
       " 'TGAAA',\n",
       " 'GAGA',\n",
       " 'CAGT',\n",
       " 'AGAGA',\n",
       " 'AGA',\n",
       " 'CACAC',\n",
       " 'AAACA',\n",
       " 'TTCCT',\n",
       " 'AATTT',\n",
       " 'CTTG',\n",
       " 'CCTTG',\n",
       " 'GCTGG',\n",
       " 'ATAA',\n",
       " 'CTC',\n",
       " 'GGCTG',\n",
       " 'CAAA',\n",
       " 'AGGT',\n",
       " 'AAGA',\n",
       " 'TTCTT',\n",
       " 'TGCT',\n",
       " 'CTTCC',\n",
       " 'GGT',\n",
       " 'TTTC',\n",
       " 'GGG',\n",
       " 'ATCA',\n",
       " 'GAGG',\n",
       " 'TAA',\n",
       " 'CCC',\n",
       " 'GGG',\n",
       " 'GGCC',\n",
       " 'TAG',\n",
       " 'CACAG',\n",
       " 'GTGG',\n",
       " 'TCTCA',\n",
       " 'CATCT',\n",
       " 'GGGAA']"
      ]
     },
     "execution_count": 9,
     "metadata": {},
     "output_type": "execute_result"
    }
   ],
   "source": [
    "tokenizer(train_dset[1][0])"
   ]
  },
  {
   "cell_type": "markdown",
   "id": "3805a8cf",
   "metadata": {
    "id": "sTTomnnP5kdU",
    "papermill": {
     "duration": 0.071914,
     "end_time": "2022-01-11T09:54:58.573027",
     "exception": false,
     "start_time": "2022-01-11T09:54:58.501113",
     "status": "completed"
    },
    "tags": []
   },
   "source": [
    "## Model"
   ]
  },
  {
   "cell_type": "code",
   "execution_count": 10,
   "id": "e6e09bfc",
   "metadata": {
    "execution": {
     "iopub.execute_input": "2022-01-11T09:54:58.731429Z",
     "iopub.status.busy": "2022-01-11T09:54:58.730101Z",
     "iopub.status.idle": "2022-01-11T09:54:58.750288Z",
     "shell.execute_reply": "2022-01-11T09:54:58.749437Z"
    },
    "id": "ZNuXGIdD5kdU",
    "papermill": {
     "duration": 0.089213,
     "end_time": "2022-01-11T09:54:58.750560",
     "exception": false,
     "start_time": "2022-01-11T09:54:58.661347",
     "status": "completed"
    },
    "tags": []
   },
   "outputs": [],
   "source": [
    "model = CNN(\n",
    "    number_of_classes=config[\"number_of_classes\"],\n",
    "    vocab_size=vocabulary.__len__(),\n",
    "    embedding_dim=config[\"embedding_dim\"],\n",
    "    input_len=max_tok_len\n",
    ").to(device)"
   ]
  },
  {
   "cell_type": "markdown",
   "id": "c6b6913a",
   "metadata": {
    "id": "1pqIm92h5kdV",
    "papermill": {
     "duration": 0.088211,
     "end_time": "2022-01-11T09:54:58.890041",
     "exception": false,
     "start_time": "2022-01-11T09:54:58.801830",
     "status": "completed"
    },
    "tags": []
   },
   "source": [
    "## Training"
   ]
  },
  {
   "cell_type": "code",
   "execution_count": 11,
   "id": "4d909b20",
   "metadata": {
    "colab": {
     "base_uri": "https://localhost:8080/"
    },
    "execution": {
     "iopub.execute_input": "2022-01-11T09:54:59.032107Z",
     "iopub.status.busy": "2022-01-11T09:54:59.030864Z",
     "iopub.status.idle": "2022-01-11T09:58:06.055440Z",
     "shell.execute_reply": "2022-01-11T09:58:06.056124Z"
    },
    "id": "uvO_-RFm5kdV",
    "outputId": "7799e5f9-78a7-4ef2-95e8-f06751912eda",
    "papermill": {
     "duration": 187.086921,
     "end_time": "2022-01-11T09:58:06.056340",
     "exception": false,
     "start_time": "2022-01-11T09:54:58.969419",
     "status": "completed"
    },
    "tags": []
   },
   "outputs": [
    {
     "name": "stdout",
     "output_type": "stream",
     "text": [
      "Epoch 0\n"
     ]
    },
    {
     "name": "stderr",
     "output_type": "stream",
     "text": [
      "/Users/katarina/Documents/repositories/GitHub/GLP/src/glp/tokenizers/utils.py:27: UserWarning: To copy construct from a tensor, it is recommended to use sourceTensor.clone().detach() or sourceTensor.clone().detach().requires_grad_(True), rather than torch.tensor(sourceTensor).\n",
      "  x = torch.tensor(pad(x), dtype=torch.long)\n"
     ]
    },
    {
     "name": "stdout",
     "output_type": "stream",
     "text": [
      "Train metrics: \n",
      " Accuracy: 67.5%, Avg loss: 0.639016 \n",
      "\n",
      "Epoch 1\n"
     ]
    },
    {
     "name": "stdout",
     "output_type": "stream",
     "text": [
      "Train metrics: \n",
      " Accuracy: 69.5%, Avg loss: 0.629466 \n",
      "\n",
      "Epoch 2\n"
     ]
    },
    {
     "name": "stdout",
     "output_type": "stream",
     "text": [
      "Train metrics: \n",
      " Accuracy: 74.0%, Avg loss: 0.618836 \n",
      "\n",
      "Epoch 3\n"
     ]
    },
    {
     "name": "stdout",
     "output_type": "stream",
     "text": [
      "Train metrics: \n",
      " Accuracy: 75.7%, Avg loss: 0.608580 \n",
      "\n",
      "Epoch 4\n"
     ]
    },
    {
     "name": "stdout",
     "output_type": "stream",
     "text": [
      "Train metrics: \n",
      " Accuracy: 76.0%, Avg loss: 0.604421 \n",
      "\n"
     ]
    }
   ],
   "source": [
    "model.train(train_loader, epochs=config[\"epochs\"])"
   ]
  },
  {
   "cell_type": "markdown",
   "id": "2f229246",
   "metadata": {
    "id": "bR2tamrc5kdV",
    "papermill": {
     "duration": 0.047037,
     "end_time": "2022-01-11T09:58:06.142085",
     "exception": false,
     "start_time": "2022-01-11T09:58:06.095048",
     "status": "completed"
    },
    "tags": []
   },
   "source": [
    "## Testing"
   ]
  },
  {
   "cell_type": "code",
   "execution_count": 12,
   "id": "968168e9",
   "metadata": {
    "colab": {
     "base_uri": "https://localhost:8080/"
    },
    "execution": {
     "iopub.execute_input": "2022-01-11T09:58:06.221265Z",
     "iopub.status.busy": "2022-01-11T09:58:06.219958Z",
     "iopub.status.idle": "2022-01-11T09:58:14.252483Z",
     "shell.execute_reply": "2022-01-11T09:58:14.252948Z"
    },
    "id": "wbnciyRK5kdW",
    "outputId": "d2592f9d-f074-465f-95f8-df3b759ae068",
    "papermill": {
     "duration": 8.074711,
     "end_time": "2022-01-11T09:58:14.253164",
     "exception": false,
     "start_time": "2022-01-11T09:58:06.178453",
     "status": "completed"
    },
    "tags": []
   },
   "outputs": [
    {
     "name": "stdout",
     "output_type": "stream",
     "text": [
      "p  3474 ; tp  1743.1109844446182 ; fp  618.267173863047\n",
      "recall  0.5017590628798556 ; precision  0.7381752805293406\n",
      "num_batches 218\n",
      "correct 4606\n",
      "size 6948\n",
      "Test metrics: \n",
      " Accuracy: 0.662925, F1 score: 0.597429, Avg loss: 0.650315 \n",
      "\n"
     ]
    },
    {
     "data": {
      "text/plain": [
       "(0.6629245826137018, 0.597428628327369)"
      ]
     },
     "execution_count": 12,
     "metadata": {},
     "output_type": "execute_result"
    }
   ],
   "source": [
    "test_dset = get_dataset(config[\"dataset\"], 'test')\n",
    "test_loader = DataLoader(test_dset, batch_size=config[\"batch_size\"], shuffle=True, collate_fn=collate)\n",
    "\n",
    "acc, f1 = model.test(test_loader)\n",
    "acc, f1"
   ]
  }
 ],
 "metadata": {
  "accelerator": "TPU",
  "colab": {
   "name": "torch_cnn_classifier.ipynb",
   "provenance": []
  },
  "environment": {
   "name": "pytorch-gpu.1-9.m75",
   "type": "gcloud",
   "uri": "gcr.io/deeplearning-platform-release/pytorch-gpu.1-9:m75"
  },
  "interpreter": {
   "hash": "9828b828580f1cac1b571b33de6cff8bacecc8916095e1bcbc967952ca7105b7"
  },
  "kernelspec": {
   "display_name": "Python 3",
   "name": "python3"
  },
  "language_info": {
   "codemirror_mode": {
    "name": "ipython",
    "version": 3
   },
   "file_extension": ".py",
   "mimetype": "text/x-python",
   "name": "python",
   "nbconvert_exporter": "python",
   "pygments_lexer": "ipython3",
   "version": "3.8.9"
  },
  "papermill": {
   "default_parameters": {},
   "duration": 937.268736,
   "end_time": "2022-01-11T09:58:14.915759",
   "environment_variables": {},
   "exception": null,
   "input_path": "torch_cnn.ipynb",
   "output_path": "../torch_cnn_experiments/human_enhancers_cohn_subword_512.ipynb",
   "parameters": {
    "DATASET": "human_enhancers_cohn",
    "TOKENIZER": "subword",
    "VOCAB_SIZE": 512
   },
   "start_time": "2022-01-11T09:42:37.647023",
   "version": "2.3.3"
  }
 },
 "nbformat": 4,
 "nbformat_minor": 5
}