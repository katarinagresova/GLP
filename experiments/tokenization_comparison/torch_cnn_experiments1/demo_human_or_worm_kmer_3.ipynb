{
 "cells": [
  {
   "cell_type": "markdown",
   "id": "2d80f15b",
   "metadata": {
    "id": "SKOD9lvq5kdM",
    "papermill": {
     "duration": 0.016917,
     "end_time": "2022-01-12T08:05:19.846681",
     "exception": false,
     "start_time": "2022-01-12T08:05:19.829764",
     "status": "completed"
    },
    "tags": []
   },
   "source": [
    "# PYTORCH CNN Classifier"
   ]
  },
  {
   "cell_type": "code",
   "execution_count": 1,
   "id": "12ba6821",
   "metadata": {
    "execution": {
     "iopub.execute_input": "2022-01-12T08:05:19.885417Z",
     "iopub.status.busy": "2022-01-12T08:05:19.884187Z",
     "iopub.status.idle": "2022-01-12T08:05:19.889291Z",
     "shell.execute_reply": "2022-01-12T08:05:19.889978Z"
    },
    "id": "E8prt3AL5kdO",
    "papermill": {
     "duration": 0.030035,
     "end_time": "2022-01-12T08:05:19.890483",
     "exception": false,
     "start_time": "2022-01-12T08:05:19.860448",
     "status": "completed"
    },
    "tags": [
     "parameters"
    ]
   },
   "outputs": [],
   "source": [
    "DATASET = 'none'\n",
    "VOCAB_SIZE = 0\n",
    "TOKENIZER = 'none'\n",
    "KMER = 0"
   ]
  },
  {
   "cell_type": "code",
   "execution_count": 2,
   "id": "1781ed44",
   "metadata": {
    "execution": {
     "iopub.execute_input": "2022-01-12T08:05:19.926016Z",
     "iopub.status.busy": "2022-01-12T08:05:19.925170Z",
     "iopub.status.idle": "2022-01-12T08:05:19.927208Z",
     "shell.execute_reply": "2022-01-12T08:05:19.927882Z"
    },
    "papermill": {
     "duration": 0.021151,
     "end_time": "2022-01-12T08:05:19.928170",
     "exception": false,
     "start_time": "2022-01-12T08:05:19.907019",
     "status": "completed"
    },
    "tags": [
     "injected-parameters"
    ]
   },
   "outputs": [],
   "source": [
    "# Parameters\n",
    "DATASET = \"demo_human_or_worm\"\n",
    "TOKENIZER = \"kmer\"\n",
    "KMER = 3\n"
   ]
  },
  {
   "cell_type": "code",
   "execution_count": 3,
   "id": "a6e3bf8c",
   "metadata": {
    "colab": {
     "base_uri": "https://localhost:8080/"
    },
    "execution": {
     "iopub.execute_input": "2022-01-12T08:05:19.958873Z",
     "iopub.status.busy": "2022-01-12T08:05:19.958129Z",
     "iopub.status.idle": "2022-01-12T08:05:19.961084Z",
     "shell.execute_reply": "2022-01-12T08:05:19.961551Z"
    },
    "id": "rohBItfR5kdP",
    "outputId": "7da7aafe-0858-48be-bf7d-f698784d88df",
    "papermill": {
     "duration": 0.02065,
     "end_time": "2022-01-12T08:05:19.961744",
     "exception": false,
     "start_time": "2022-01-12T08:05:19.941094",
     "status": "completed"
    },
    "tags": []
   },
   "outputs": [
    {
     "name": "stdout",
     "output_type": "stream",
     "text": [
      "demo_human_or_worm 0 kmer 3\n"
     ]
    }
   ],
   "source": [
    "print(DATASET, VOCAB_SIZE, TOKENIZER, KMER)"
   ]
  },
  {
   "cell_type": "markdown",
   "id": "e4892550",
   "metadata": {
    "id": "Y-YQrVyb5kdQ",
    "papermill": {
     "duration": 0.015439,
     "end_time": "2022-01-12T08:05:19.991034",
     "exception": false,
     "start_time": "2022-01-12T08:05:19.975595",
     "status": "completed"
    },
    "tags": []
   },
   "source": [
    "## Config"
   ]
  },
  {
   "cell_type": "code",
   "execution_count": 4,
   "id": "a00a068b",
   "metadata": {
    "execution": {
     "iopub.execute_input": "2022-01-12T08:05:20.024949Z",
     "iopub.status.busy": "2022-01-12T08:05:20.024058Z",
     "iopub.status.idle": "2022-01-12T08:05:21.769236Z",
     "shell.execute_reply": "2022-01-12T08:05:21.769733Z"
    },
    "id": "FIunuyGk5kdR",
    "papermill": {
     "duration": 1.764577,
     "end_time": "2022-01-12T08:05:21.769937",
     "exception": false,
     "start_time": "2022-01-12T08:05:20.005360",
     "status": "completed"
    },
    "tags": []
   },
   "outputs": [],
   "source": [
    "import torch\n",
    "from torch.utils.data import DataLoader\n",
    "\n",
    "from genomic_benchmarks.dataset_getters.pytorch_datasets import get_dataset\n",
    "from glp.models import CNN\n",
    "from glp.tokenizers import get_tokenizer\n",
    "from glp.tokenizers.utils import build_vocab, coll_factory, check_config, check_seq_lengths"
   ]
  },
  {
   "cell_type": "code",
   "execution_count": 5,
   "id": "624d6776",
   "metadata": {
    "execution": {
     "iopub.execute_input": "2022-01-12T08:05:21.804405Z",
     "iopub.status.busy": "2022-01-12T08:05:21.803472Z",
     "iopub.status.idle": "2022-01-12T08:05:21.805988Z",
     "shell.execute_reply": "2022-01-12T08:05:21.806526Z"
    },
    "id": "UgXiF6Zz5kdR",
    "papermill": {
     "duration": 0.02238,
     "end_time": "2022-01-12T08:05:21.806733",
     "exception": false,
     "start_time": "2022-01-12T08:05:21.784353",
     "status": "completed"
    },
    "tags": []
   },
   "outputs": [],
   "source": [
    "config = {\n",
    "    \"dataset\": DATASET,\n",
    "    \"tokenizer\": TOKENIZER,\n",
    "    \"dataset_version\": 0,\n",
    "    \"epochs\": 5,\n",
    "    \"batch_size\": 32,\n",
    "    \"use_padding\": True,\n",
    "    \"force_download\": False,\n",
    "    \"run_on_gpu\": True,\n",
    "    \"number_of_classes\": 2,\n",
    "    \"embedding_dim\": 100,\n",
    "}\n",
    "check_config(config)"
   ]
  },
  {
   "cell_type": "markdown",
   "id": "7ffdc77e",
   "metadata": {
    "id": "AUWF-avz5kdS",
    "papermill": {
     "duration": 0.014358,
     "end_time": "2022-01-12T08:05:21.835652",
     "exception": false,
     "start_time": "2022-01-12T08:05:21.821294",
     "status": "completed"
    },
    "tags": []
   },
   "source": [
    "## Choose the dataset"
   ]
  },
  {
   "cell_type": "code",
   "execution_count": 6,
   "id": "ec0549ae",
   "metadata": {
    "colab": {
     "base_uri": "https://localhost:8080/"
    },
    "execution": {
     "iopub.execute_input": "2022-01-12T08:05:21.869350Z",
     "iopub.status.busy": "2022-01-12T08:05:21.868344Z",
     "iopub.status.idle": "2022-01-12T08:05:22.341819Z",
     "shell.execute_reply": "2022-01-12T08:05:22.342511Z"
    },
    "id": "1oaryDJr5kdS",
    "outputId": "6a425df9-4092-4601-9cd9-f61d524b6278",
    "papermill": {
     "duration": 0.492551,
     "end_time": "2022-01-12T08:05:22.342729",
     "exception": false,
     "start_time": "2022-01-12T08:05:21.850178",
     "status": "completed"
    },
    "tags": []
   },
   "outputs": [],
   "source": [
    "train_dset = get_dataset(config[\"dataset\"], 'train')"
   ]
  },
  {
   "cell_type": "markdown",
   "id": "389778eb",
   "metadata": {
    "id": "B0lqmy935kdS",
    "papermill": {
     "duration": 0.014189,
     "end_time": "2022-01-12T08:05:22.372102",
     "exception": false,
     "start_time": "2022-01-12T08:05:22.357913",
     "status": "completed"
    },
    "tags": []
   },
   "source": [
    "## Tokenizer and vocab"
   ]
  },
  {
   "cell_type": "code",
   "execution_count": 7,
   "id": "c3b68ffd",
   "metadata": {
    "colab": {
     "base_uri": "https://localhost:8080/"
    },
    "execution": {
     "iopub.execute_input": "2022-01-12T08:05:22.408185Z",
     "iopub.status.busy": "2022-01-12T08:05:22.407116Z",
     "iopub.status.idle": "2022-01-12T08:05:46.125750Z",
     "shell.execute_reply": "2022-01-12T08:05:46.126839Z"
    },
    "id": "NY_zualp5kdT",
    "outputId": "9034d65f-2f9a-4c83-a314-13d3b808fc65",
    "papermill": {
     "duration": 23.739902,
     "end_time": "2022-01-12T08:05:46.127098",
     "exception": false,
     "start_time": "2022-01-12T08:05:22.387196",
     "status": "completed"
    },
    "tags": []
   },
   "outputs": [
    {
     "name": "stdout",
     "output_type": "stream",
     "text": [
      "vocab len: 71\n",
      "{'NAG': 69, 'NNT': 66, 'NNN': 65, 'ACG': 62, 'GGC': 61, 'GGT': 60, 'CTG': 59, 'TCG': 56, 'CGC': 55, 'GCG': 54, 'GTG': 53, 'CCG': 50, 'CTC': 49, 'GAC': 57, 'CCC': 47, 'GCT': 44, 'CAA': 28, 'CCA': 42, 'GTC': 52, 'GCC': 31, 'CGA': 38, 'GAA': 40, 'ATG': 39, 'TCC': 34, 'AAC': 27, 'TTC': 24, 'AAG': 32, 'CAT': 23, 'TGC': 26, 'AGA': 13, 'CAC': 20, '<unk>': 0, 'GGG': 58, 'GAT': 2, 'ATT': 29, 'ACT': 6, 'TAA': 17, 'TCT': 16, 'CTA': 25, 'GTT': 15, 'TAC': 43, 'ATC': 46, 'TAT': 21, 'CGT': 48, 'GTA': 8, 'ATA': 1, 'ACA': 18, 'AAA': 11, 'GCA': 33, 'GAG': 63, 'TAG': 19, 'TGA': 12, 'CGG': 51, 'CTT': 10, 'TGG': 30, 'TTA': 9, 'TTG': 41, 'ACC': 36, 'GGA': 35, 'AAT': 7, 'ANN': 67, 'CCT': 5, 'TTT': 3, 'AGC': 45, '<pad>': 70, 'CAG': 64, 'TCA': 4, 'AGT': 22, 'AGG': 14, 'NNG': 68, 'TGT': 37}\n"
     ]
    }
   ],
   "source": [
    "tokenizer = get_tokenizer(config['tokenizer'])\n",
    "tokenizer.train(train_dset=train_dset, vocab_size=VOCAB_SIZE, kmer=KMER)\n",
    "vocabulary = build_vocab(train_dset, tokenizer, use_padding=config[\"use_padding\"])\n",
    "\n",
    "print(\"vocab len:\" ,vocabulary.__len__())\n",
    "print(vocabulary.get_stoi())"
   ]
  },
  {
   "cell_type": "markdown",
   "id": "ddafcbba",
   "metadata": {
    "id": "3hGQpSJA5kdT",
    "papermill": {
     "duration": 0.015681,
     "end_time": "2022-01-12T08:05:46.158823",
     "exception": false,
     "start_time": "2022-01-12T08:05:46.143142",
     "status": "completed"
    },
    "tags": []
   },
   "source": [
    "## Dataloader and batch preparation"
   ]
  },
  {
   "cell_type": "code",
   "execution_count": 8,
   "id": "fadfb33b",
   "metadata": {
    "colab": {
     "base_uri": "https://localhost:8080/"
    },
    "execution": {
     "iopub.execute_input": "2022-01-12T08:05:46.228176Z",
     "iopub.status.busy": "2022-01-12T08:05:46.227110Z",
     "iopub.status.idle": "2022-01-12T08:06:22.709317Z",
     "shell.execute_reply": "2022-01-12T08:06:22.709787Z"
    },
    "id": "gXUgPH6q5kdT",
    "outputId": "a1eb6ba2-9bcd-416d-8662-e3516121da96",
    "papermill": {
     "duration": 36.535979,
     "end_time": "2022-01-12T08:06:22.709981",
     "exception": false,
     "start_time": "2022-01-12T08:05:46.174002",
     "status": "completed"
    },
    "tags": []
   },
   "outputs": [
    {
     "name": "stdout",
     "output_type": "stream",
     "text": [
      "Using cpu device\n"
     ]
    },
    {
     "name": "stdout",
     "output_type": "stream",
     "text": [
      "max_tok_len  66\n"
     ]
    },
    {
     "name": "stdout",
     "output_type": "stream",
     "text": [
      "not all sequences are of the same length\n"
     ]
    }
   ],
   "source": [
    "# Run on GPU or CPU\n",
    "device = 'cuda' if config[\"run_on_gpu\"] and torch.cuda.is_available() else 'cpu'\n",
    "print('Using {} device'.format(device))\n",
    "\n",
    "max_tok_len = check_seq_lengths(dataset=train_dset, tokenizer=tokenizer)\n",
    "\n",
    "# Data Loader\n",
    "collate = coll_factory(vocabulary, tokenizer, device, pad_to_length = max_tok_len)\n",
    "\n",
    "train_loader = DataLoader(train_dset, batch_size=config[\"batch_size\"], shuffle=True, collate_fn=collate)"
   ]
  },
  {
   "cell_type": "code",
   "execution_count": 9,
   "id": "11968d8f",
   "metadata": {
    "execution": {
     "iopub.execute_input": "2022-01-12T08:06:22.750756Z",
     "iopub.status.busy": "2022-01-12T08:06:22.749891Z",
     "iopub.status.idle": "2022-01-12T08:06:22.794326Z",
     "shell.execute_reply": "2022-01-12T08:06:22.793582Z"
    },
    "papermill": {
     "duration": 0.068798,
     "end_time": "2022-01-12T08:06:22.794505",
     "exception": false,
     "start_time": "2022-01-12T08:06:22.725707",
     "status": "completed"
    },
    "tags": []
   },
   "outputs": [
    {
     "data": {
      "text/plain": [
       "['TTA',\n",
       " 'AAC',\n",
       " 'TTT',\n",
       " 'AAA',\n",
       " 'TTT',\n",
       " 'TCC',\n",
       " 'CAA',\n",
       " 'ACT',\n",
       " 'ACA',\n",
       " 'GGA',\n",
       " 'ACC',\n",
       " 'CTT',\n",
       " 'TGT',\n",
       " 'TGA',\n",
       " 'ATT',\n",
       " 'TTA',\n",
       " 'ACA',\n",
       " 'GAT',\n",
       " 'TTT',\n",
       " 'TGA',\n",
       " 'GCA',\n",
       " 'CGA',\n",
       " 'ATA',\n",
       " 'CTA',\n",
       " 'CAT',\n",
       " 'TTT',\n",
       " 'AAG',\n",
       " 'ACA',\n",
       " 'ATT',\n",
       " 'TCC',\n",
       " 'TCA',\n",
       " 'TTC',\n",
       " 'ATG',\n",
       " 'TTA',\n",
       " 'CTT',\n",
       " 'CTT',\n",
       " 'ATT',\n",
       " 'TAA',\n",
       " 'AGA',\n",
       " 'AAT',\n",
       " 'TTA',\n",
       " 'TCA',\n",
       " 'GAA',\n",
       " 'ATT',\n",
       " 'TAT',\n",
       " 'TTA',\n",
       " 'TTG',\n",
       " 'AGG',\n",
       " 'ACT',\n",
       " 'ATG',\n",
       " 'TAA',\n",
       " 'TAA',\n",
       " 'ACA',\n",
       " 'TTT',\n",
       " 'TTT',\n",
       " 'AAT',\n",
       " 'CAA',\n",
       " 'CAT',\n",
       " 'CTT',\n",
       " 'TTT',\n",
       " 'ATG',\n",
       " 'AAC',\n",
       " 'AAT',\n",
       " 'TGA',\n",
       " 'CCA',\n",
       " 'TAG']"
      ]
     },
     "execution_count": 9,
     "metadata": {},
     "output_type": "execute_result"
    }
   ],
   "source": [
    "tokenizer(train_dset[1][0])"
   ]
  },
  {
   "cell_type": "markdown",
   "id": "0922217c",
   "metadata": {
    "id": "sTTomnnP5kdU",
    "papermill": {
     "duration": 0.016946,
     "end_time": "2022-01-12T08:06:22.828689",
     "exception": false,
     "start_time": "2022-01-12T08:06:22.811743",
     "status": "completed"
    },
    "tags": []
   },
   "source": [
    "## Model"
   ]
  },
  {
   "cell_type": "code",
   "execution_count": 10,
   "id": "3060a0ac",
   "metadata": {
    "execution": {
     "iopub.execute_input": "2022-01-12T08:06:22.878479Z",
     "iopub.status.busy": "2022-01-12T08:06:22.877618Z",
     "iopub.status.idle": "2022-01-12T08:06:22.932513Z",
     "shell.execute_reply": "2022-01-12T08:06:22.933521Z"
    },
    "id": "ZNuXGIdD5kdU",
    "papermill": {
     "duration": 0.088312,
     "end_time": "2022-01-12T08:06:22.933808",
     "exception": false,
     "start_time": "2022-01-12T08:06:22.845496",
     "status": "completed"
    },
    "tags": []
   },
   "outputs": [],
   "source": [
    "model = CNN(\n",
    "    number_of_classes=config[\"number_of_classes\"],\n",
    "    vocab_size=vocabulary.__len__(),\n",
    "    embedding_dim=config[\"embedding_dim\"],\n",
    "    input_len=max_tok_len\n",
    ").to(device)"
   ]
  },
  {
   "cell_type": "markdown",
   "id": "2f13a170",
   "metadata": {
    "id": "1pqIm92h5kdV",
    "papermill": {
     "duration": 0.016804,
     "end_time": "2022-01-12T08:06:22.967853",
     "exception": false,
     "start_time": "2022-01-12T08:06:22.951049",
     "status": "completed"
    },
    "tags": []
   },
   "source": [
    "## Training"
   ]
  },
  {
   "cell_type": "code",
   "execution_count": 11,
   "id": "7f1b1487",
   "metadata": {
    "colab": {
     "base_uri": "https://localhost:8080/"
    },
    "execution": {
     "iopub.execute_input": "2022-01-12T08:06:23.009532Z",
     "iopub.status.busy": "2022-01-12T08:06:23.008701Z",
     "iopub.status.idle": "2022-01-12T08:18:30.511686Z",
     "shell.execute_reply": "2022-01-12T08:18:30.512259Z"
    },
    "id": "uvO_-RFm5kdV",
    "outputId": "7799e5f9-78a7-4ef2-95e8-f06751912eda",
    "papermill": {
     "duration": 727.527467,
     "end_time": "2022-01-12T08:18:30.512533",
     "exception": false,
     "start_time": "2022-01-12T08:06:22.985066",
     "status": "completed"
    },
    "tags": []
   },
   "outputs": [
    {
     "name": "stdout",
     "output_type": "stream",
     "text": [
      "Epoch 0\n"
     ]
    },
    {
     "name": "stderr",
     "output_type": "stream",
     "text": [
      "/Users/katarina/Documents/repositories/GitHub/GLP/src/glp/tokenizers/utils.py:27: UserWarning: To copy construct from a tensor, it is recommended to use sourceTensor.clone().detach() or sourceTensor.clone().detach().requires_grad_(True), rather than torch.tensor(sourceTensor).\n",
      "  x = torch.tensor(pad(x), dtype=torch.long)\n"
     ]
    },
    {
     "name": "stdout",
     "output_type": "stream",
     "text": [
      "Train metrics: \n",
      " Accuracy: 88.2%, Avg loss: 0.561180 \n",
      "\n",
      "Epoch 1\n"
     ]
    },
    {
     "name": "stdout",
     "output_type": "stream",
     "text": [
      "Train metrics: \n",
      " Accuracy: 88.6%, Avg loss: 0.556692 \n",
      "\n",
      "Epoch 2\n"
     ]
    },
    {
     "name": "stdout",
     "output_type": "stream",
     "text": [
      "Train metrics: \n",
      " Accuracy: 89.1%, Avg loss: 0.555791 \n",
      "\n",
      "Epoch 3\n"
     ]
    },
    {
     "name": "stdout",
     "output_type": "stream",
     "text": [
      "Train metrics: \n",
      " Accuracy: 90.6%, Avg loss: 0.548647 \n",
      "\n",
      "Epoch 4\n"
     ]
    },
    {
     "name": "stdout",
     "output_type": "stream",
     "text": [
      "Train metrics: \n",
      " Accuracy: 90.6%, Avg loss: 0.546241 \n",
      "\n"
     ]
    }
   ],
   "source": [
    "model.train(train_loader, epochs=config[\"epochs\"])"
   ]
  },
  {
   "cell_type": "markdown",
   "id": "0da022e9",
   "metadata": {
    "id": "bR2tamrc5kdV",
    "papermill": {
     "duration": 0.019565,
     "end_time": "2022-01-12T08:18:30.552213",
     "exception": false,
     "start_time": "2022-01-12T08:18:30.532648",
     "status": "completed"
    },
    "tags": []
   },
   "source": [
    "## Testing"
   ]
  },
  {
   "cell_type": "code",
   "execution_count": 12,
   "id": "36da44c0",
   "metadata": {
    "colab": {
     "base_uri": "https://localhost:8080/"
    },
    "execution": {
     "iopub.execute_input": "2022-01-12T08:18:30.612398Z",
     "iopub.status.busy": "2022-01-12T08:18:30.607490Z",
     "iopub.status.idle": "2022-01-12T08:18:52.469983Z",
     "shell.execute_reply": "2022-01-12T08:18:52.470584Z"
    },
    "id": "wbnciyRK5kdW",
    "outputId": "d2592f9d-f074-465f-95f8-df3b759ae068",
    "papermill": {
     "duration": 21.899084,
     "end_time": "2022-01-12T08:18:52.470829",
     "exception": false,
     "start_time": "2022-01-12T08:18:30.571745",
     "status": "completed"
    },
    "tags": []
   },
   "outputs": [
    {
     "name": "stdout",
     "output_type": "stream",
     "text": [
      "p  12500 ; tp  10796.045638561249 ; fp  909.520876654783\n",
      "recall  0.8636836510848999 ; precision  0.9223001402390478\n",
      "num_batches 782\n",
      "correct 22396\n",
      "size 25000\n",
      "Test metrics: \n",
      " Accuracy: 0.895840, F1 score: 0.892030, Avg loss: 0.550661 \n",
      "\n"
     ]
    },
    {
     "data": {
      "text/plain": [
       "(0.89584, 0.8920299908514573)"
      ]
     },
     "execution_count": 12,
     "metadata": {},
     "output_type": "execute_result"
    }
   ],
   "source": [
    "test_dset = get_dataset(config[\"dataset\"], 'test')\n",
    "test_loader = DataLoader(test_dset, batch_size=config[\"batch_size\"], shuffle=True, collate_fn=collate)\n",
    "\n",
    "acc, f1 = model.test(test_loader)\n",
    "acc, f1"
   ]
  }
 ],
 "metadata": {
  "accelerator": "TPU",
  "colab": {
   "name": "torch_cnn_classifier.ipynb",
   "provenance": []
  },
  "environment": {
   "name": "pytorch-gpu.1-9.m75",
   "type": "gcloud",
   "uri": "gcr.io/deeplearning-platform-release/pytorch-gpu.1-9:m75"
  },
  "interpreter": {
   "hash": "9828b828580f1cac1b571b33de6cff8bacecc8916095e1bcbc967952ca7105b7"
  },
  "kernelspec": {
   "display_name": "Python 3",
   "name": "python3"
  },
  "language_info": {
   "codemirror_mode": {
    "name": "ipython",
    "version": 3
   },
   "file_extension": ".py",
   "mimetype": "text/x-python",
   "name": "python",
   "nbconvert_exporter": "python",
   "pygments_lexer": "ipython3",
   "version": "3.8.9"
  },
  "papermill": {
   "default_parameters": {},
   "duration": 817.040255,
   "end_time": "2022-01-12T08:18:54.942578",
   "environment_variables": {},
   "exception": null,
   "input_path": "torch_cnn.ipynb",
   "output_path": "../torch_cnn_experiments/demo_human_or_worm_kmer_3.ipynb",
   "parameters": {
    "DATASET": "demo_human_or_worm",
    "KMER": 3,
    "TOKENIZER": "kmer"
   },
   "start_time": "2022-01-12T08:05:17.902323",
   "version": "2.3.3"
  }
 },
 "nbformat": 4,
 "nbformat_minor": 5
}