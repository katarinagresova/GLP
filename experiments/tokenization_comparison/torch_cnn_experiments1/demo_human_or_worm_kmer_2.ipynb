{
 "cells": [
  {
   "cell_type": "markdown",
   "id": "94824d26",
   "metadata": {
    "id": "SKOD9lvq5kdM",
    "papermill": {
     "duration": 0.017587,
     "end_time": "2022-01-12T02:10:43.236026",
     "exception": false,
     "start_time": "2022-01-12T02:10:43.218439",
     "status": "completed"
    },
    "tags": []
   },
   "source": [
    "# PYTORCH CNN Classifier"
   ]
  },
  {
   "cell_type": "code",
   "execution_count": 1,
   "id": "3f322ddb",
   "metadata": {
    "execution": {
     "iopub.execute_input": "2022-01-12T02:10:43.283480Z",
     "iopub.status.busy": "2022-01-12T02:10:43.282425Z",
     "iopub.status.idle": "2022-01-12T02:10:43.287626Z",
     "shell.execute_reply": "2022-01-12T02:10:43.288842Z"
    },
    "id": "E8prt3AL5kdO",
    "papermill": {
     "duration": 0.031266,
     "end_time": "2022-01-12T02:10:43.289340",
     "exception": false,
     "start_time": "2022-01-12T02:10:43.258074",
     "status": "completed"
    },
    "tags": [
     "parameters"
    ]
   },
   "outputs": [],
   "source": [
    "DATASET = 'none'\n",
    "VOCAB_SIZE = 0\n",
    "TOKENIZER = 'none'\n",
    "KMER = 0"
   ]
  },
  {
   "cell_type": "code",
   "execution_count": 2,
   "id": "c28a162a",
   "metadata": {
    "execution": {
     "iopub.execute_input": "2022-01-12T02:10:43.333587Z",
     "iopub.status.busy": "2022-01-12T02:10:43.332163Z",
     "iopub.status.idle": "2022-01-12T02:10:43.334616Z",
     "shell.execute_reply": "2022-01-12T02:10:43.335104Z"
    },
    "papermill": {
     "duration": 0.026574,
     "end_time": "2022-01-12T02:10:43.335452",
     "exception": false,
     "start_time": "2022-01-12T02:10:43.308878",
     "status": "completed"
    },
    "tags": [
     "injected-parameters"
    ]
   },
   "outputs": [],
   "source": [
    "# Parameters\n",
    "DATASET = \"demo_human_or_worm\"\n",
    "TOKENIZER = \"kmer\"\n",
    "KMER = 2\n"
   ]
  },
  {
   "cell_type": "code",
   "execution_count": 3,
   "id": "0785de88",
   "metadata": {
    "colab": {
     "base_uri": "https://localhost:8080/"
    },
    "execution": {
     "iopub.execute_input": "2022-01-12T02:10:43.372102Z",
     "iopub.status.busy": "2022-01-12T02:10:43.371118Z",
     "iopub.status.idle": "2022-01-12T02:10:43.374502Z",
     "shell.execute_reply": "2022-01-12T02:10:43.374997Z"
    },
    "id": "rohBItfR5kdP",
    "outputId": "7da7aafe-0858-48be-bf7d-f698784d88df",
    "papermill": {
     "duration": 0.023947,
     "end_time": "2022-01-12T02:10:43.375199",
     "exception": false,
     "start_time": "2022-01-12T02:10:43.351252",
     "status": "completed"
    },
    "tags": []
   },
   "outputs": [
    {
     "name": "stdout",
     "output_type": "stream",
     "text": [
      "demo_human_or_worm 0 kmer 2\n"
     ]
    }
   ],
   "source": [
    "print(DATASET, VOCAB_SIZE, TOKENIZER, KMER)"
   ]
  },
  {
   "cell_type": "markdown",
   "id": "43f817cb",
   "metadata": {
    "id": "Y-YQrVyb5kdQ",
    "papermill": {
     "duration": 0.019186,
     "end_time": "2022-01-12T02:10:43.410860",
     "exception": false,
     "start_time": "2022-01-12T02:10:43.391674",
     "status": "completed"
    },
    "tags": []
   },
   "source": [
    "## Config"
   ]
  },
  {
   "cell_type": "code",
   "execution_count": 4,
   "id": "c0528f42",
   "metadata": {
    "execution": {
     "iopub.execute_input": "2022-01-12T02:10:43.452177Z",
     "iopub.status.busy": "2022-01-12T02:10:43.450779Z",
     "iopub.status.idle": "2022-01-12T02:10:46.156915Z",
     "shell.execute_reply": "2022-01-12T02:10:46.157831Z"
    },
    "id": "FIunuyGk5kdR",
    "papermill": {
     "duration": 2.728716,
     "end_time": "2022-01-12T02:10:46.158236",
     "exception": false,
     "start_time": "2022-01-12T02:10:43.429520",
     "status": "completed"
    },
    "tags": []
   },
   "outputs": [],
   "source": [
    "import torch\n",
    "from torch.utils.data import DataLoader\n",
    "\n",
    "from genomic_benchmarks.dataset_getters.pytorch_datasets import get_dataset\n",
    "from glp.models import CNN\n",
    "from glp.tokenizers import get_tokenizer\n",
    "from glp.tokenizers.utils import build_vocab, coll_factory, check_config, check_seq_lengths"
   ]
  },
  {
   "cell_type": "code",
   "execution_count": 5,
   "id": "0892077b",
   "metadata": {
    "execution": {
     "iopub.execute_input": "2022-01-12T02:10:46.205945Z",
     "iopub.status.busy": "2022-01-12T02:10:46.204481Z",
     "iopub.status.idle": "2022-01-12T02:10:46.207587Z",
     "shell.execute_reply": "2022-01-12T02:10:46.208086Z"
    },
    "id": "UgXiF6Zz5kdR",
    "papermill": {
     "duration": 0.033851,
     "end_time": "2022-01-12T02:10:46.208311",
     "exception": false,
     "start_time": "2022-01-12T02:10:46.174460",
     "status": "completed"
    },
    "tags": []
   },
   "outputs": [],
   "source": [
    "config = {\n",
    "    \"dataset\": DATASET,\n",
    "    \"tokenizer\": TOKENIZER,\n",
    "    \"dataset_version\": 0,\n",
    "    \"epochs\": 5,\n",
    "    \"batch_size\": 32,\n",
    "    \"use_padding\": True,\n",
    "    \"force_download\": False,\n",
    "    \"run_on_gpu\": True,\n",
    "    \"number_of_classes\": 2,\n",
    "    \"embedding_dim\": 100,\n",
    "}\n",
    "check_config(config)"
   ]
  },
  {
   "cell_type": "markdown",
   "id": "fc8bf393",
   "metadata": {
    "id": "AUWF-avz5kdS",
    "papermill": {
     "duration": 0.018421,
     "end_time": "2022-01-12T02:10:46.242709",
     "exception": false,
     "start_time": "2022-01-12T02:10:46.224288",
     "status": "completed"
    },
    "tags": []
   },
   "source": [
    "## Choose the dataset"
   ]
  },
  {
   "cell_type": "code",
   "execution_count": 6,
   "id": "7fca9a79",
   "metadata": {
    "colab": {
     "base_uri": "https://localhost:8080/"
    },
    "execution": {
     "iopub.execute_input": "2022-01-12T02:10:46.289620Z",
     "iopub.status.busy": "2022-01-12T02:10:46.288743Z",
     "iopub.status.idle": "2022-01-12T02:10:48.537539Z",
     "shell.execute_reply": "2022-01-12T02:10:48.538270Z"
    },
    "id": "1oaryDJr5kdS",
    "outputId": "6a425df9-4092-4601-9cd9-f61d524b6278",
    "papermill": {
     "duration": 2.274872,
     "end_time": "2022-01-12T02:10:48.538655",
     "exception": false,
     "start_time": "2022-01-12T02:10:46.263783",
     "status": "completed"
    },
    "tags": []
   },
   "outputs": [],
   "source": [
    "train_dset = get_dataset(config[\"dataset\"], 'train')"
   ]
  },
  {
   "cell_type": "markdown",
   "id": "7ae77dff",
   "metadata": {
    "id": "B0lqmy935kdS",
    "papermill": {
     "duration": 0.023293,
     "end_time": "2022-01-12T02:10:48.583972",
     "exception": false,
     "start_time": "2022-01-12T02:10:48.560679",
     "status": "completed"
    },
    "tags": []
   },
   "source": [
    "## Tokenizer and vocab"
   ]
  },
  {
   "cell_type": "code",
   "execution_count": 7,
   "id": "101d9a00",
   "metadata": {
    "colab": {
     "base_uri": "https://localhost:8080/"
    },
    "execution": {
     "iopub.execute_input": "2022-01-12T02:10:48.760604Z",
     "iopub.status.busy": "2022-01-12T02:10:48.757171Z",
     "iopub.status.idle": "2022-01-12T02:29:09.672979Z",
     "shell.execute_reply": "2022-01-12T02:29:09.674372Z"
    },
    "id": "NY_zualp5kdT",
    "outputId": "9034d65f-2f9a-4c83-a314-13d3b808fc65",
    "papermill": {
     "duration": 1101.064825,
     "end_time": "2022-01-12T02:29:09.674786",
     "exception": false,
     "start_time": "2022-01-12T02:10:48.609961",
     "status": "completed"
    },
    "tags": []
   },
   "outputs": [
    {
     "name": "stdout",
     "output_type": "stream",
     "text": [
      "vocab len: 22\n",
      "{'NG': 20, 'AN': 19, 'NT': 18, 'GC': 14, 'TC': 13, 'NN': 17, 'GG': 12, 'GA': 11, 'TG': 9, 'AG': 2, 'AA': 8, 'TA': 6, '<pad>': 21, 'CT': 7, 'CG': 16, 'CC': 5, 'GT': 15, 'AT': 1, 'AC': 10, 'CA': 4, 'TT': 3, '<unk>': 0}\n"
     ]
    }
   ],
   "source": [
    "tokenizer = get_tokenizer(config['tokenizer'])\n",
    "tokenizer.train(train_dset=train_dset, vocab_size=VOCAB_SIZE, kmer=KMER)\n",
    "vocabulary = build_vocab(train_dset, tokenizer, use_padding=config[\"use_padding\"])\n",
    "\n",
    "print(\"vocab len:\" ,vocabulary.__len__())\n",
    "print(vocabulary.get_stoi())"
   ]
  },
  {
   "cell_type": "markdown",
   "id": "967d20aa",
   "metadata": {
    "id": "3hGQpSJA5kdT",
    "papermill": {
     "duration": 0.020037,
     "end_time": "2022-01-12T02:29:09.716313",
     "exception": false,
     "start_time": "2022-01-12T02:29:09.696276",
     "status": "completed"
    },
    "tags": []
   },
   "source": [
    "## Dataloader and batch preparation"
   ]
  },
  {
   "cell_type": "code",
   "execution_count": 8,
   "id": "2b4e8af7",
   "metadata": {
    "colab": {
     "base_uri": "https://localhost:8080/"
    },
    "execution": {
     "iopub.execute_input": "2022-01-12T02:29:10.060677Z",
     "iopub.status.busy": "2022-01-12T02:29:10.045765Z",
     "iopub.status.idle": "2022-01-12T02:47:31.841798Z",
     "shell.execute_reply": "2022-01-12T02:47:31.843034Z"
    },
    "id": "gXUgPH6q5kdT",
    "outputId": "a1eb6ba2-9bcd-416d-8662-e3516121da96",
    "papermill": {
     "duration": 1102.105978,
     "end_time": "2022-01-12T02:47:31.843421",
     "exception": false,
     "start_time": "2022-01-12T02:29:09.737443",
     "status": "completed"
    },
    "tags": []
   },
   "outputs": [
    {
     "name": "stdout",
     "output_type": "stream",
     "text": [
      "Using cpu device\n"
     ]
    },
    {
     "name": "stdout",
     "output_type": "stream",
     "text": [
      "max_tok_len  100\n"
     ]
    },
    {
     "name": "stdout",
     "output_type": "stream",
     "text": [
      "not all sequences are of the same length\n"
     ]
    }
   ],
   "source": [
    "# Run on GPU or CPU\n",
    "device = 'cuda' if config[\"run_on_gpu\"] and torch.cuda.is_available() else 'cpu'\n",
    "print('Using {} device'.format(device))\n",
    "\n",
    "max_tok_len = check_seq_lengths(dataset=train_dset, tokenizer=tokenizer)\n",
    "\n",
    "# Data Loader\n",
    "collate = coll_factory(vocabulary, tokenizer, device, pad_to_length = max_tok_len)\n",
    "\n",
    "train_loader = DataLoader(train_dset, batch_size=config[\"batch_size\"], shuffle=True, collate_fn=collate)"
   ]
  },
  {
   "cell_type": "code",
   "execution_count": 9,
   "id": "c46820f4",
   "metadata": {
    "execution": {
     "iopub.execute_input": "2022-01-12T02:47:31.902852Z",
     "iopub.status.busy": "2022-01-12T02:47:31.901719Z",
     "iopub.status.idle": "2022-01-12T02:47:31.925715Z",
     "shell.execute_reply": "2022-01-12T02:47:31.926887Z"
    },
    "papermill": {
     "duration": 0.060895,
     "end_time": "2022-01-12T02:47:31.927253",
     "exception": false,
     "start_time": "2022-01-12T02:47:31.866358",
     "status": "completed"
    },
    "tags": []
   },
   "outputs": [
    {
     "data": {
      "text/plain": [
       "['TT',\n",
       " 'AA',\n",
       " 'AC',\n",
       " 'TT',\n",
       " 'TA',\n",
       " 'AA',\n",
       " 'TT',\n",
       " 'TT',\n",
       " 'CC',\n",
       " 'CA',\n",
       " 'AA',\n",
       " 'CT',\n",
       " 'AC',\n",
       " 'AG',\n",
       " 'GA',\n",
       " 'AC',\n",
       " 'CC',\n",
       " 'TT',\n",
       " 'TG',\n",
       " 'TT',\n",
       " 'GA',\n",
       " 'AT',\n",
       " 'TT',\n",
       " 'TA',\n",
       " 'AC',\n",
       " 'AG',\n",
       " 'AT',\n",
       " 'TT',\n",
       " 'TT',\n",
       " 'GA',\n",
       " 'GC',\n",
       " 'AC',\n",
       " 'GA',\n",
       " 'AT',\n",
       " 'AC',\n",
       " 'TA',\n",
       " 'CA',\n",
       " 'TT',\n",
       " 'TT',\n",
       " 'AA',\n",
       " 'GA',\n",
       " 'CA',\n",
       " 'AT',\n",
       " 'TT',\n",
       " 'CC',\n",
       " 'TC',\n",
       " 'AT',\n",
       " 'TC',\n",
       " 'AT',\n",
       " 'GT',\n",
       " 'TA',\n",
       " 'CT',\n",
       " 'TC',\n",
       " 'TT',\n",
       " 'AT',\n",
       " 'TT',\n",
       " 'AA',\n",
       " 'AG',\n",
       " 'AA',\n",
       " 'AT',\n",
       " 'TT',\n",
       " 'AT',\n",
       " 'CA',\n",
       " 'GA',\n",
       " 'AA',\n",
       " 'TT',\n",
       " 'TA',\n",
       " 'TT',\n",
       " 'TA',\n",
       " 'TT',\n",
       " 'GA',\n",
       " 'GG',\n",
       " 'AC',\n",
       " 'TA',\n",
       " 'TG',\n",
       " 'TA',\n",
       " 'AT',\n",
       " 'AA',\n",
       " 'AC',\n",
       " 'AT',\n",
       " 'TT',\n",
       " 'TT',\n",
       " 'TA',\n",
       " 'AT',\n",
       " 'CA',\n",
       " 'AC',\n",
       " 'AT',\n",
       " 'CT',\n",
       " 'TT',\n",
       " 'TT',\n",
       " 'AT',\n",
       " 'GA',\n",
       " 'AC',\n",
       " 'AA',\n",
       " 'TT',\n",
       " 'GA',\n",
       " 'CC',\n",
       " 'AT',\n",
       " 'AG',\n",
       " 'TG']"
      ]
     },
     "execution_count": 9,
     "metadata": {},
     "output_type": "execute_result"
    }
   ],
   "source": [
    "tokenizer(train_dset[1][0])"
   ]
  },
  {
   "cell_type": "markdown",
   "id": "0a99724f",
   "metadata": {
    "id": "sTTomnnP5kdU",
    "papermill": {
     "duration": 0.027153,
     "end_time": "2022-01-12T02:47:31.975932",
     "exception": false,
     "start_time": "2022-01-12T02:47:31.948779",
     "status": "completed"
    },
    "tags": []
   },
   "source": [
    "## Model"
   ]
  },
  {
   "cell_type": "code",
   "execution_count": 10,
   "id": "d4754bd0",
   "metadata": {
    "execution": {
     "iopub.execute_input": "2022-01-12T02:47:32.074230Z",
     "iopub.status.busy": "2022-01-12T02:47:32.070849Z",
     "iopub.status.idle": "2022-01-12T02:47:32.248786Z",
     "shell.execute_reply": "2022-01-12T02:47:32.251015Z"
    },
    "id": "ZNuXGIdD5kdU",
    "papermill": {
     "duration": 0.253575,
     "end_time": "2022-01-12T02:47:32.251541",
     "exception": false,
     "start_time": "2022-01-12T02:47:31.997966",
     "status": "completed"
    },
    "tags": []
   },
   "outputs": [],
   "source": [
    "model = CNN(\n",
    "    number_of_classes=config[\"number_of_classes\"],\n",
    "    vocab_size=vocabulary.__len__(),\n",
    "    embedding_dim=config[\"embedding_dim\"],\n",
    "    input_len=max_tok_len\n",
    ").to(device)"
   ]
  },
  {
   "cell_type": "markdown",
   "id": "8335df1f",
   "metadata": {
    "id": "1pqIm92h5kdV",
    "papermill": {
     "duration": 0.070139,
     "end_time": "2022-01-12T02:47:32.365808",
     "exception": false,
     "start_time": "2022-01-12T02:47:32.295669",
     "status": "completed"
    },
    "tags": []
   },
   "source": [
    "## Training"
   ]
  },
  {
   "cell_type": "code",
   "execution_count": 11,
   "id": "d0e8eb6e",
   "metadata": {
    "colab": {
     "base_uri": "https://localhost:8080/"
    },
    "execution": {
     "iopub.execute_input": "2022-01-12T02:47:32.536865Z",
     "iopub.status.busy": "2022-01-12T02:47:32.533773Z",
     "iopub.status.idle": "2022-01-12T08:04:52.838290Z",
     "shell.execute_reply": "2022-01-12T08:04:52.838943Z"
    },
    "id": "uvO_-RFm5kdV",
    "outputId": "7799e5f9-78a7-4ef2-95e8-f06751912eda",
    "papermill": {
     "duration": 19040.448119,
     "end_time": "2022-01-12T08:04:52.840775",
     "exception": false,
     "start_time": "2022-01-12T02:47:32.392656",
     "status": "completed"
    },
    "tags": []
   },
   "outputs": [
    {
     "name": "stdout",
     "output_type": "stream",
     "text": [
      "Epoch 0\n"
     ]
    },
    {
     "name": "stderr",
     "output_type": "stream",
     "text": [
      "/Users/katarina/Documents/repositories/GitHub/GLP/src/glp/tokenizers/utils.py:27: UserWarning: To copy construct from a tensor, it is recommended to use sourceTensor.clone().detach() or sourceTensor.clone().detach().requires_grad_(True), rather than torch.tensor(sourceTensor).\n",
      "  x = torch.tensor(pad(x), dtype=torch.long)\n"
     ]
    },
    {
     "name": "stdout",
     "output_type": "stream",
     "text": [
      "Train metrics: \n",
      " Accuracy: 88.7%, Avg loss: 0.556687 \n",
      "\n",
      "Epoch 1\n"
     ]
    },
    {
     "name": "stdout",
     "output_type": "stream",
     "text": [
      "Train metrics: \n",
      " Accuracy: 91.1%, Avg loss: 0.543690 \n",
      "\n",
      "Epoch 2\n"
     ]
    },
    {
     "name": "stdout",
     "output_type": "stream",
     "text": [
      "Train metrics: \n",
      " Accuracy: 90.5%, Avg loss: 0.543960 \n",
      "\n",
      "Epoch 3\n"
     ]
    },
    {
     "name": "stdout",
     "output_type": "stream",
     "text": [
      "Train metrics: \n",
      " Accuracy: 92.3%, Avg loss: 0.539384 \n",
      "\n",
      "Epoch 4\n"
     ]
    },
    {
     "name": "stdout",
     "output_type": "stream",
     "text": [
      "Train metrics: \n",
      " Accuracy: 92.5%, Avg loss: 0.539021 \n",
      "\n"
     ]
    }
   ],
   "source": [
    "model.train(train_loader, epochs=config[\"epochs\"])"
   ]
  },
  {
   "cell_type": "markdown",
   "id": "a25e5d7a",
   "metadata": {
    "id": "bR2tamrc5kdV",
    "papermill": {
     "duration": 0.031091,
     "end_time": "2022-01-12T08:04:52.895056",
     "exception": false,
     "start_time": "2022-01-12T08:04:52.863965",
     "status": "completed"
    },
    "tags": []
   },
   "source": [
    "## Testing"
   ]
  },
  {
   "cell_type": "code",
   "execution_count": 12,
   "id": "85c515d4",
   "metadata": {
    "colab": {
     "base_uri": "https://localhost:8080/"
    },
    "execution": {
     "iopub.execute_input": "2022-01-12T08:04:52.980775Z",
     "iopub.status.busy": "2022-01-12T08:04:52.979580Z",
     "iopub.status.idle": "2022-01-12T08:05:17.170257Z",
     "shell.execute_reply": "2022-01-12T08:05:17.170761Z"
    },
    "id": "wbnciyRK5kdW",
    "outputId": "d2592f9d-f074-465f-95f8-df3b759ae068",
    "papermill": {
     "duration": 24.247264,
     "end_time": "2022-01-12T08:05:17.170963",
     "exception": false,
     "start_time": "2022-01-12T08:04:52.923699",
     "status": "completed"
    },
    "tags": []
   },
   "outputs": [
    {
     "name": "stdout",
     "output_type": "stream",
     "text": [
      "p  12500 ; tp  11385.917334794998 ; fp  923.6455709185684\n",
      "recall  0.9108733867835999 ; precision  0.9249652016084298\n",
      "num_batches 782\n",
      "correct 22980\n",
      "size 25000\n",
      "Test metrics: \n",
      " Accuracy: 0.919200, F1 score: 0.917865, Avg loss: 0.542362 \n",
      "\n"
     ]
    },
    {
     "data": {
      "text/plain": [
       "(0.9192, 0.9178652101261209)"
      ]
     },
     "execution_count": 12,
     "metadata": {},
     "output_type": "execute_result"
    }
   ],
   "source": [
    "test_dset = get_dataset(config[\"dataset\"], 'test')\n",
    "test_loader = DataLoader(test_dset, batch_size=config[\"batch_size\"], shuffle=True, collate_fn=collate)\n",
    "\n",
    "acc, f1 = model.test(test_loader)\n",
    "acc, f1"
   ]
  }
 ],
 "metadata": {
  "accelerator": "TPU",
  "colab": {
   "name": "torch_cnn_classifier.ipynb",
   "provenance": []
  },
  "environment": {
   "name": "pytorch-gpu.1-9.m75",
   "type": "gcloud",
   "uri": "gcr.io/deeplearning-platform-release/pytorch-gpu.1-9:m75"
  },
  "interpreter": {
   "hash": "9828b828580f1cac1b571b33de6cff8bacecc8916095e1bcbc967952ca7105b7"
  },
  "kernelspec": {
   "display_name": "Python 3",
   "name": "python3"
  },
  "language_info": {
   "codemirror_mode": {
    "name": "ipython",
    "version": 3
   },
   "file_extension": ".py",
   "mimetype": "text/x-python",
   "name": "python",
   "nbconvert_exporter": "python",
   "pygments_lexer": "ipython3",
   "version": "3.8.9"
  },
  "papermill": {
   "default_parameters": {},
   "duration": 21277.986163,
   "end_time": "2022-01-12T08:05:17.821643",
   "environment_variables": {},
   "exception": null,
   "input_path": "torch_cnn.ipynb",
   "output_path": "../torch_cnn_experiments/demo_human_or_worm_kmer_2.ipynb",
   "parameters": {
    "DATASET": "demo_human_or_worm",
    "KMER": 2,
    "TOKENIZER": "kmer"
   },
   "start_time": "2022-01-12T02:10:39.835480",
   "version": "2.3.3"
  }
 },
 "nbformat": 4,
 "nbformat_minor": 5
}