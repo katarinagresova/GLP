{
 "cells": [
  {
   "cell_type": "markdown",
   "id": "3d78f8f6",
   "metadata": {
    "id": "SKOD9lvq5kdM",
    "papermill": {
     "duration": 0.027059,
     "end_time": "2022-01-11T10:29:49.875285",
     "exception": false,
     "start_time": "2022-01-11T10:29:49.848226",
     "status": "completed"
    },
    "tags": []
   },
   "source": [
    "# PYTORCH CNN Classifier"
   ]
  },
  {
   "cell_type": "code",
   "execution_count": 1,
   "id": "9bd5f34d",
   "metadata": {
    "execution": {
     "iopub.execute_input": "2022-01-11T10:29:49.924478Z",
     "iopub.status.busy": "2022-01-11T10:29:49.922765Z",
     "iopub.status.idle": "2022-01-11T10:29:49.928676Z",
     "shell.execute_reply": "2022-01-11T10:29:49.929727Z"
    },
    "id": "E8prt3AL5kdO",
    "papermill": {
     "duration": 0.033058,
     "end_time": "2022-01-11T10:29:49.930261",
     "exception": false,
     "start_time": "2022-01-11T10:29:49.897203",
     "status": "completed"
    },
    "tags": [
     "parameters"
    ]
   },
   "outputs": [],
   "source": [
    "DATASET = 'none'\n",
    "VOCAB_SIZE = 0\n",
    "TOKENIZER = 'none'\n",
    "KMER = 0"
   ]
  },
  {
   "cell_type": "code",
   "execution_count": 2,
   "id": "285e3efc",
   "metadata": {
    "execution": {
     "iopub.execute_input": "2022-01-11T10:29:49.969787Z",
     "iopub.status.busy": "2022-01-11T10:29:49.968901Z",
     "iopub.status.idle": "2022-01-11T10:29:49.971569Z",
     "shell.execute_reply": "2022-01-11T10:29:49.972289Z"
    },
    "papermill": {
     "duration": 0.023086,
     "end_time": "2022-01-11T10:29:49.972609",
     "exception": false,
     "start_time": "2022-01-11T10:29:49.949523",
     "status": "completed"
    },
    "tags": [
     "injected-parameters"
    ]
   },
   "outputs": [],
   "source": [
    "# Parameters\n",
    "DATASET = \"human_enhancers_cohn\"\n",
    "TOKENIZER = \"kmer\"\n",
    "KMER = 5\n"
   ]
  },
  {
   "cell_type": "code",
   "execution_count": 3,
   "id": "fe2c93f4",
   "metadata": {
    "colab": {
     "base_uri": "https://localhost:8080/"
    },
    "execution": {
     "iopub.execute_input": "2022-01-11T10:29:50.053483Z",
     "iopub.status.busy": "2022-01-11T10:29:50.052411Z",
     "iopub.status.idle": "2022-01-11T10:29:50.056083Z",
     "shell.execute_reply": "2022-01-11T10:29:50.056789Z"
    },
    "id": "rohBItfR5kdP",
    "outputId": "7da7aafe-0858-48be-bf7d-f698784d88df",
    "papermill": {
     "duration": 0.060516,
     "end_time": "2022-01-11T10:29:50.056990",
     "exception": false,
     "start_time": "2022-01-11T10:29:49.996474",
     "status": "completed"
    },
    "tags": []
   },
   "outputs": [
    {
     "name": "stdout",
     "output_type": "stream",
     "text": [
      "human_enhancers_cohn 0 kmer 5\n"
     ]
    }
   ],
   "source": [
    "print(DATASET, VOCAB_SIZE, TOKENIZER, KMER)"
   ]
  },
  {
   "cell_type": "markdown",
   "id": "9d72d38c",
   "metadata": {
    "id": "Y-YQrVyb5kdQ",
    "papermill": {
     "duration": 0.022257,
     "end_time": "2022-01-11T10:29:50.100291",
     "exception": false,
     "start_time": "2022-01-11T10:29:50.078034",
     "status": "completed"
    },
    "tags": []
   },
   "source": [
    "## Config"
   ]
  },
  {
   "cell_type": "code",
   "execution_count": 4,
   "id": "e7c9be66",
   "metadata": {
    "execution": {
     "iopub.execute_input": "2022-01-11T10:29:50.368473Z",
     "iopub.status.busy": "2022-01-11T10:29:50.366705Z",
     "iopub.status.idle": "2022-01-11T10:29:53.747293Z",
     "shell.execute_reply": "2022-01-11T10:29:53.747807Z"
    },
    "id": "FIunuyGk5kdR",
    "papermill": {
     "duration": 3.516138,
     "end_time": "2022-01-11T10:29:53.748026",
     "exception": false,
     "start_time": "2022-01-11T10:29:50.231888",
     "status": "completed"
    },
    "tags": []
   },
   "outputs": [],
   "source": [
    "import torch\n",
    "from torch.utils.data import DataLoader\n",
    "\n",
    "from genomic_benchmarks.dataset_getters.pytorch_datasets import get_dataset\n",
    "from glp.models import CNN\n",
    "from glp.tokenizers import get_tokenizer\n",
    "from glp.tokenizers.utils import build_vocab, coll_factory, check_config, check_seq_lengths"
   ]
  },
  {
   "cell_type": "code",
   "execution_count": 5,
   "id": "1d6a4eb5",
   "metadata": {
    "execution": {
     "iopub.execute_input": "2022-01-11T10:29:53.797504Z",
     "iopub.status.busy": "2022-01-11T10:29:53.795052Z",
     "iopub.status.idle": "2022-01-11T10:29:53.800506Z",
     "shell.execute_reply": "2022-01-11T10:29:53.801099Z"
    },
    "id": "UgXiF6Zz5kdR",
    "papermill": {
     "duration": 0.038171,
     "end_time": "2022-01-11T10:29:53.801560",
     "exception": false,
     "start_time": "2022-01-11T10:29:53.763389",
     "status": "completed"
    },
    "tags": []
   },
   "outputs": [],
   "source": [
    "config = {\n",
    "    \"dataset\": DATASET,\n",
    "    \"tokenizer\": TOKENIZER,\n",
    "    \"dataset_version\": 0,\n",
    "    \"epochs\": 5,\n",
    "    \"batch_size\": 32,\n",
    "    \"use_padding\": True,\n",
    "    \"force_download\": False,\n",
    "    \"run_on_gpu\": True,\n",
    "    \"number_of_classes\": 2,\n",
    "    \"embedding_dim\": 100,\n",
    "}\n",
    "check_config(config)"
   ]
  },
  {
   "cell_type": "markdown",
   "id": "a8b2eefa",
   "metadata": {
    "id": "AUWF-avz5kdS",
    "papermill": {
     "duration": 0.02104,
     "end_time": "2022-01-11T10:29:53.837893",
     "exception": false,
     "start_time": "2022-01-11T10:29:53.816853",
     "status": "completed"
    },
    "tags": []
   },
   "source": [
    "## Choose the dataset"
   ]
  },
  {
   "cell_type": "code",
   "execution_count": 6,
   "id": "352a6caf",
   "metadata": {
    "colab": {
     "base_uri": "https://localhost:8080/"
    },
    "execution": {
     "iopub.execute_input": "2022-01-11T10:29:53.873986Z",
     "iopub.status.busy": "2022-01-11T10:29:53.872373Z",
     "iopub.status.idle": "2022-01-11T10:29:54.049676Z",
     "shell.execute_reply": "2022-01-11T10:29:54.050189Z"
    },
    "id": "1oaryDJr5kdS",
    "outputId": "6a425df9-4092-4601-9cd9-f61d524b6278",
    "papermill": {
     "duration": 0.197074,
     "end_time": "2022-01-11T10:29:54.050399",
     "exception": false,
     "start_time": "2022-01-11T10:29:53.853325",
     "status": "completed"
    },
    "tags": []
   },
   "outputs": [],
   "source": [
    "train_dset = get_dataset(config[\"dataset\"], 'train')"
   ]
  },
  {
   "cell_type": "markdown",
   "id": "a1280b6d",
   "metadata": {
    "id": "B0lqmy935kdS",
    "papermill": {
     "duration": 0.023968,
     "end_time": "2022-01-11T10:29:54.095747",
     "exception": false,
     "start_time": "2022-01-11T10:29:54.071779",
     "status": "completed"
    },
    "tags": []
   },
   "source": [
    "## Tokenizer and vocab"
   ]
  },
  {
   "cell_type": "code",
   "execution_count": 7,
   "id": "1c403c27",
   "metadata": {
    "colab": {
     "base_uri": "https://localhost:8080/"
    },
    "execution": {
     "iopub.execute_input": "2022-01-11T10:29:54.141169Z",
     "iopub.status.busy": "2022-01-11T10:29:54.140185Z",
     "iopub.status.idle": "2022-01-11T10:30:01.443984Z",
     "shell.execute_reply": "2022-01-11T10:30:01.445173Z"
    },
    "id": "NY_zualp5kdT",
    "outputId": "9034d65f-2f9a-4c83-a314-13d3b808fc65",
    "papermill": {
     "duration": 7.332218,
     "end_time": "2022-01-11T10:30:01.445407",
     "exception": false,
     "start_time": "2022-01-11T10:29:54.113189",
     "status": "completed"
    },
    "tags": []
   },
   "outputs": [
    {
     "name": "stdout",
     "output_type": "stream",
     "text": [
      "vocab len: 1026\n",
      "{'<pad>': 1025, 'CGATA': 1023, 'GTCGA': 1020, 'TACCG': 1019, 'CGATC': 1017, 'GTCGG': 1016, 'CGACG': 1014, 'CGTAT': 1010, 'AGCGA': 1009, 'CCGAT': 1008, 'CGTAA': 1005, 'GCGAA': 1004, 'CTCGC': 1002, 'ATCGA': 1001, 'CGGAT': 995, 'CGCAC': 994, 'CCGTA': 993, 'CGGAG': 991, 'CGCTG': 988, 'TTACG': 987, 'CACGT': 986, 'GCCGC': 984, 'ACGAC': 980, 'GTTCG': 977, 'TCCGC': 976, 'CGCGT': 975, 'GCGGT': 971, 'CGTTA': 970, 'CGGAC': 968, 'AATCG': 966, 'CACGA': 964, 'AACGC': 962, 'AGCCG': 961, 'TATTA': 959, 'GTATA': 957, 'GGGTA': 955, 'ACGTT': 954, 'CGGGA': 953, 'TCGTA': 950, 'GCGAT': 949, 'ATATG': 948, 'GTACC': 947, 'CCTCG': 942, 'CCCGA': 940, 'TCCGA': 939, 'CGGTG': 938, 'TCATC': 936, 'CGGGC': 934, 'ACGGC': 933, 'CAGTA': 935, 'GCAAC': 932, 'GACTT': 931, 'CCCGG': 929, 'TACGA': 997, 'GCGCG': 926, 'AGCGT': 925, 'CTGTA': 920, 'GGTAC': 918, 'GGGAT': 917, 'GTTGC': 916, 'TAATA': 915, 'CGTAG': 914, 'CATCG': 913, 'AGGCG': 912, 'GATGC': 909, 'GTTAT': 906, 'TTAGA': 905, 'CATTG': 904, 'ACCGT': 946, 'TATAA': 902, 'GCGGG': 900, 'AGATA': 897, 'CACTA': 895, 'ACACT': 894, 'CGAAC': 892, 'GCGAG': 891, 'CCGCG': 890, 'GACGT': 888, 'ACGCA': 887, 'TGTCG': 884, 'AAATC': 882, 'TAGGA': 881, 'TGGAC': 880, 'GTATG': 879, 'CCTAG': 875, 'ACGTG': 873, 'CGTCG': 872, 'TCACG': 870, 'CGTAC': 996, 'CAGCG': 868, 'CCGCC': 865, 'TCGCC': 864, 'GCCGG': 863, 'TGCGA': 862, 'TATTG': 859, 'AGCAT': 857, 'GCTAG': 854, 'CCGGG': 853, 'CGACA': 1012, 'TCGCA': 852, 'CTTAA': 851, 'GTGTA': 850, 'TAGTC': 849, 'ATCCA': 848, 'CTTAT': 847, 'GACCA': 846, 'CGCAA': 845, 'TATCA': 844, 'CGTCA': 843, 'CGTGC': 839, 'GATGG': 838, 'ATCCT': 836, 'TGGCG': 835, 'GAGCG': 833, 'GCGGA': 831, 'ATCGC': 825, 'CGATT': 823, 'CGAAT': 821, 'CCGCT': 818, 'GCGAC': 815, 'TCGAT': 972, 'GGCGG': 814, 'CCGCA': 813, 'GGAGC': 812, 'GGGCC': 810, 'AGACG': 809, 'GACGG': 808, 'AACGA': 806, 'ACGAA': 803, 'CGGTT': 802, 'GCGCT': 801, 'CGGCG': 800, 'TAGCC': 799, 'GCTAT': 797, 'AGTGG': 294, 'GACTA': 795, 'GGTCA': 21, 'TCATG': 790, 'GGTTT': 752, 'AACGT': 788, 'GTGGC': 911, 'AAGTT': 269, 'GTGAT': 356, 'TACGT': 705, 'TATAG': 787, 'GTGAA': 786, 'GGCGA': 1006, 'CATAA': 681, 'TCTGG': 643, 'CATAT': 784, 'TTATA': 783, 'AACAG': 29, 'GTCTC': 772, 'CAGAG': 588, 'CCGTG': 770, 'ATTTT': 492, 'TGATC': 762, 'GGAAA': 483, 'GCCGT': 760, 'CACCT': 345, 'GCTAA': 758, 'GTCTG': 757, 'GTAAC': 756, 'TGTAT': 753, 'GCACC': 750, 'CCGTC': 744, 'CTAAC': 736, 'GAATC': 730, 'CTCGA': 721, 'TACTA': 785, 'AAGAA': 100, 'CCTGA': 452, 'GTGCA': 642, 'GGTAG': 720, 'CAGCA': 259, 'GTTCA': 740, 'TGCCG': 717, 'CGGCT': 153, 'TACTT': 467, 'TAATC': 716, 'TATAT': 712, 'GATGT': 709, 'GAGTG': 66, 'ACAAA': 495, 'TGCGG': 707, 'TGTCC': 702, 'TGTAG': 699, 'GACAT': 781, 'TTCAC': 471, 'GTGCG': 701, 'TTGTG': 700, 'TCATT': 885, 'AAAGG': 338, 'GTACA': 698, 'ATTAC': 893, 'TGCAG': 697, 'GAGCT': 68, 'ATCAG': 618, 'AATCC': 693, 'CGTTG': 335, 'TATCT': 690, 'TCTCC': 409, 'AAGGT': 688, 'GCCAT': 769, 'CCTTA': 687, 'ATACT': 733, 'TGATA': 686, 'GATAT': 684, 'ATTAT': 680, 'ATTGT': 383, 'TAACA': 598, 'AGGTT': 678, 'ACGCC': 869, 'TGGTG': 469, 'GATAG': 677, 'TCCTA': 676, 'TTGCG': 675, 'CTACG': 978, 'ACACC': 674, 'GCACT': 672, 'GGTCT': 536, 'CGAGC': 670, 'TAAGC': 662, 'CCATT': 657, 'TCACC': 656, 'TTAGC': 655, 'GGTCG': 651, 'GGGAC': 489, 'AAGCG': 649, 'CTCCG': 820, 'GAGGC': 648, 'GCACG': 764, 'TGGCT': 645, 'AGCGG': 644, 'TGGAG': 743, 'ACACA': 641, 'CCTGT': 238, 'CATTC': 639, 'TATGC': 638, 'GCGGC': 432, 'CAATG': 637, 'GTAAG': 635, 'GATTA': 634, 'TCGGT': 867, 'ATGGC': 779, 'TCGGC': 633, 'CATCA': 27, 'CGTGA': 632, 'CACCC': 310, 'CCTAC': 331, 'TTGAT': 630, 'GAAGT': 629, 'TTTTT': 626, 'CGAAA': 990, 'CTAAT': 509, 'ACTCA': 623, 'GCTCC': 19, 'CAACA': 134, 'CACTC': 663, 'AAAAC': 620, 'AAACA': 147, 'TTTGT': 592, 'GGCCA': 739, 'GAGAC': 28, 'TTATT': 617, 'TGGGC': 614, 'AACCT': 613, 'AGTTA': 611, 'TCGAG': 610, 'AACTC': 426, 'TTGGT': 265, 'CAATC': 755, 'ATATC': 798, 'ACATG': 312, 'CATGA': 608, 'GCAAT': 607, 'ATAAC': 742, 'CCCTA': 924, 'GGGGA': 605, 'ATCAC': 842, 'TAAGT': 828, 'TCACA': 604, 'TCTCT': 14, 'CTAGG': 562, 'ACCAG': 597, 'ACTAA': 319, 'CAGTC': 596, 'CGCAT': 1000, 'CTCCA': 36, 'TACAA': 283, 'AGACT': 322, 'CATCC': 668, 'ACAAG': 723, 'CCGAG': 398, 'ACTTG': 595, 'TGCGT': 591, 'GTCCG': 83, 'AGCCC': 139, 'GTACT': 589, 'GTCGT': 832, 'GAATT': 722, 'AAACC': 586, 'CAAGT': 585, 'CGCGC': 967, 'CTCTA': 653, 'CGAAG': 874, 'CCATG': 621, 'AACAC': 584, 'CACTT': 583, 'TCAAT': 579, 'AGCAC': 568, 'TGGTT': 581, 'ACCGA': 992, 'TGAGG': 564, 'GATGA': 557, 'CACGC': 119, 'TTGAG': 556, 'TCTAG': 438, 'TGGGT': 554, 'AGCTA': 860, 'TCTCG': 811, 'TGTCT': 553, 'CTCGT': 960, 'TGAAG': 550, 'GCCTT': 575, 'AGTCA': 304, 'CAACT': 431, 'CAGAT': 580, 'GTAAT': 548, 'CAGGC': 101, 'GAACC': 627, 'GGGCG': 941, 'CATGC': 545, 'CCTTG': 561, 'GTTTC': 543, 'CGACT': 1013, 'TAAGA': 542, 'GGCAT': 540, 'AGAGT': 538, 'ATCTG': 535, 'TTCGA': 782, 'GGTCC': 441, 'TGTCA': 533, 'GAACG': 855, 'GATAC': 532, 'TAGTA': 531, 'CGGTA': 1015, 'TTCTC': 530, 'GGCTT': 290, 'CCCTT': 418, 'CTGCT': 576, 'AACTA': 528, 'AGAAT': 527, 'CCTAA': 749, 'TAGCT': 930, 'TCTAC': 526, 'GCTCA': 522, 'ACTTC': 520, 'ACTGG': 805, 'TAATG': 792, 'TAGGC': 519, 'CTGCA': 447, 'CCGAC': 518, 'TATTC': 837, 'ATTCA': 777, 'CTACT': 516, 'GATAA': 824, 'TAGAG': 512, 'TGAGA': 724, 'TTACC': 511, 'TTATG': 508, 'TTACT': 506, 'TTCCG': 182, 'GAAGC': 504, 'TCAAC': 501, 'ACACG': 826, 'TGAAT': 500, 'TCAGA': 498, 'GTAGG': 552, 'GTCCT': 496, 'CCCAG': 493, 'TGATG': 196, 'CATAG': 491, 'CCAGA': 490, 'AGATG': 567, 'GGTAT': 958, 'AATAG': 487, 'ATATT': 789, 'TAAAC': 485, 'TACAG': 289, 'CAATA': 484, 'CATGT': 683, 'AGTAG': 478, 'ACAAC': 669, 'AGCCA': 477, 'CACGG': 804, 'CTCTC': 393, 'TTCCA': 476, 'CTTTA': 475, 'GCGTT': 974, 'CCTAT': 394, 'AATTG': 473, 'CGCCC': 763, 'TACGC': 1022, 'TTCAA': 472, 'GGAAC': 499, 'GTTCC': 51, 'GGCAA': 703, 'GAATA': 466, 'ACTCT': 462, 'ACCTA': 450, 'TGACT': 563, 'CACAG': 570, 'TGCCT': 401, 'ATAAG': 558, 'TAGCG': 1011, 'ACGTA': 921, 'AGGAT': 465, 'TCCTC': 525, 'ACCGC': 515, 'CAGAA': 69, 'CATCT': 168, 'CTACA': 502, 'ACAGT': 463, 'TCCCC': 73, 'ACTGA': 661, 'CTCGG': 412, 'CTATT': 460, 'GCCGA': 889, 'ACCAT': 458, 'AAAGT': 578, 'TGATT': 456, 'CGCGG': 871, 'AATGG': 455, 'TCCAT': 454, 'TCGAA': 291, 'TAATT': 453, 'AGCGC': 963, 'GATCT': 660, 'AAGTG': 449, 'CCGGT': 159, 'TTGTA': 448, 'TTCGT': 718, 'AACGG': 999, 'CTGGG': 52, 'GGGGC': 659, 'TAGTG': 445, 'ACTAT': 673, 'TTGAC': 883, 'CAGCT': 529, 'ACATT': 479, 'GTTGT': 444, 'AGGCT': 211, 'CCAAA': 442, 'ACCTT': 440, 'AATTA': 488, 'GGAGT': 111, 'CCCAA': 437, 'ATTCC': 435, 'CGCGA': 434, 'TACGG': 919, 'ATCTC': 433, 'CTGGT': 622, 'GGACG': 969, 'TCCTG': 430, 'CCAGT': 423, 'CTATG': 616, 'AACTG': 422, 'TATGA': 317, 'ACCCA': 421, 'TGGCC': 417, 'TGCTC': 416, 'AGGAC': 415, 'GCCCC': 414, 'CCCAT': 652, 'GTCCC': 413, 'CTATC': 333, 'GAGAA': 679, 'CCCCT': 411, 'CGTTT': 910, 'CGCTT': 410, 'CGTCC': 1021, 'TCGCT': 407, 'CGGGG': 164, 'CCCCA': 406, 'GGGTG': 402, 'GACCT': 631, 'TCAAG': 600, 'ATAGT': 507, 'CGGAA': 400, 'TGCGC': 735, 'TTTTA': 474, 'ACCTG': 357, 'CCACG': 399, 'GGACT': 132, 'CTAGC': 791, 'GCCCG': 397, 'CAGGT': 396, 'AACCA': 377, 'GCATT': 392, 'AGAAA': 391, 'CTTCT': 590, 'AGTGT': 714, 'TTTTG': 332, 'CTCCC': 390, 'TAGCA': 602, 'TGAAA': 128, 'GCTTA': 389, 'CAACC': 573, 'AATAT': 654, 'TTGGC': 464, 'CTGTC': 15, 'CAAAT': 384, 'GTCGC': 216, 'GTCAA': 375, 'GTAGT': 308, 'GGAGA': 374, 'TGCCC': 371, 'AAGCA': 370, 'AGAGC': 665, 'TTCAG': 369, 'TCCCG': 746, 'GCTGG': 560, 'GGTTC': 129, 'TCTGC': 35, 'GCGTA': 368, 'GCTGT': 280, 'AGAAG': 364, 'GCATA': 555, 'GTCAT': 773, 'AAGCT': 245, 'AGGGA': 363, 'GTCTA': 708, 'GACTG': 362, 'AGATC': 599, 'GACGC': 983, 'GGGGT': 25, 'CACCA': 106, 'ATCTA': 353, 'CCCTC': 625, 'AGTAC': 126, 'AGGCC': 172, 'CACAA': 105, 'CAGCC': 352, 'CTAAA': 572, 'TACAT': 710, 'AGGTA': 155, 'TAGAC': 841, 'CAGGG': 351, 'TCAAA': 348, 'TTTCT': 88, 'CCTTC': 32, 'ATTTG': 346, 'CCTCC': 420, 'ACTAG': 658, 'AGGAA': 176, 'GACAA': 827, 'ATACG': 247, 'AAAAT': 248, 'CGCCT': 201, 'ATGGT': 340, 'ACGCG': 1024, 'CGTGT': 569, 'TTGCC': 220, 'TCAGC': 239, 'ATTTC': 337, 'AAGGA': 212, 'GTTAG': 336, 'CCTGC': 408, 'ATTGA': 330, 'TGACC': 329, 'CAGGA': 574, 'GCCTC': 503, 'GTTAA': 737, 'ACAAT': 141, 'TGGGA': 350, 'CCTCT': 327, 'TCCAG': 360, 'TTTTC': 326, 'GTGGG': 696, 'CTCAG': 315, 'AGTAT': 694, 'TTTGC': 403, 'GCGTG': 314, 'TTTCA': 311, 'TCGTC': 927, 'CCTTT': 205, 'AAGCC': 306, 'GTTGG': 761, 'CCCCG': 427, 'GTTTG': 271, 'GGTTG': 58, 'TCTAT': 23, 'GGTGT': 861, 'GGATG': 305, 'ATGGA': 186, 'CGCCG': 302, 'AGCAG': 209, 'GGTGA': 214, 'TAACG': 998, 'GCAAG': 365, 'GTCAG': 301, 'CTAAG': 817, 'CTGAC': 300, 'GCCAG': 299, 'CGGGT': 979, 'TTTGA': 470, 'CCCAC': 404, 'CTAGA': 711, 'CGGTC': 298, 'TTAAT': 135, 'CGCTC': 866, 'TTAGG': 296, 'TTGGA': 877, 'ACCGG': 666, 'TCGGG': 425, 'ATGAA': 243, 'AGCTT': 237, 'TCTGA': 295, 'ATATA': 266, 'ATAGC': 619, 'CCACC': 293, 'GTGTT': 343, 'AAGAC': 61, 'TTGGG': 240, 'GCAGA': 174, 'GCTTC': 292, 'TAACC': 163, 'TTGCT': 741, 'TTCGG': 981, 'AGTTC': 565, 'TCAGG': 285, 'GGAGG': 17, 'ATCAT': 324, 'GCATG': 26, 'TGCAT': 282, 'ATAAT': 775, 'CCGGC': 3, 'GAATG': 682, 'TGACG': 178, 'AGGTG': 358, 'CAAGA': 323, 'GACCG': 523, 'GGAAG': 281, 'ACCCG': 419, 'AGCTC': 664, 'ATGCA': 276, 'AATGC': 284, 'CCAGG': 367, 'CTTCG': 272, 'GTAAA': 264, 'CAGTT': 263, 'AAAAA': 261, 'GCAAA': 154, 'AAGTA': 446, 'CCCGC': 429, 'GTATT': 260, 'ATTAA': 257, 'AGGGG': 254, 'AAGGG': 137, 'AATCA': 341, 'GCGCC': 646, 'GTATC': 183, 'TAAAG': 274, 'AAATT': 242, 'AGGGC': 31, 'ATACC': 612, 'TGCTG': 355, 'GCCTG': 179, 'CGCAG': 303, 'AGTAA': 325, 'CTTCA': 235, 'GGCCT': 191, 'CTGAA': 270, 'ATGCC': 395, 'CGTCT': 64, 'ATAAA': 234, 'CTGCG': 822, 'TAAAT': 84, 'TAAAA': 109, 'CATGG': 372, 'GTACG': 1018, 'AGCCT': 231, 'GACAC': 494, 'CCAAG': 16, 'TGTTC': 230, 'CTTGT': 114, 'CAGAC': 228, 'CTAGT': 754, 'TGTTG': 461, 'TGTGA': 77, 'TTGTT': 226, 'CGAGG': 745, 'GAGCA': 236, 'TTCCC': 224, 'ATTGC': 258, 'TGTGT': 223, 'CGCTA': 221, 'GCAGT': 54, 'GAAAT': 219, 'TACTC': 840, 'GAAAA': 41, 'AATCT': 359, 'TCTAA': 776, 'GTGGA': 218, 'GCACA': 79, 'GTCAC': 747, 'AAACT': 480, 'TGTAC': 181, 'CGGCA': 1003, 'GGAAT': 361, 'TTCTT': 215, 'ACCTC': 229, 'GCTGC': 524, 'TGGAA': 190, 'CCCGT': 213, 'ATCCG': 794, 'GGCGT': 738, 'CCAGC': 286, 'AGTCT': 210, 'AGTCC': 208, 'TAGTT': 731, 'GAGTC': 207, 'ACTAC': 896, 'GGGAG': 204, 'GCCAA': 55, 'TGACA': 517, 'GAACA': 116, 'GTGCC': 200, 'ACCAA': 582, 'GGGCA': 199, 'TATGT': 320, 'TTTGG': 704, 'TCCCA': 67, 'GTGTC': 193, 'ACTGC': 376, 'AGCTG': 194, 'CGACC': 273, 'AAGAG': 82, 'GTTGA': 189, 'AAGGC': 187, 'TATTT': 95, 'GCCAC': 184, 'GGCTA': 734, 'ACCAC': 180, 'ACGTC': 671, 'AAAAG': 606, 'GTGTG': 275, 'TCATA': 767, 'CGCCA': 945, 'CAATT': 112, 'CCATC': 94, 'GCTTT': 34, 'TCCAC': 379, 'ACTCC': 175, 'CCAAC': 339, 'TGGGG': 11, 'CTCTT': 158, 'GAAGA': 130, 'GTTAC': 640, 'AAGTC': 521, 'ACGCT': 989, 'CTGGA': 7, 'ACATA': 170, 'TTCTA': 424, 'AACCC': 104, 'GGGTC': 244, 'ATGAC': 858, 'ATTAG': 732, 'GGGAA': 169, 'TCTCA': 167, 'ACGGG': 759, 'ATGTT': 342, 'TTGTC': 695, 'TACTG': 549, 'CTGGC': 22, 'GGTGG': 166, 'GGGCT': 202, 'GATTT': 539, 'CTCAT': 513, 'GCCTA': 165, 'AAAGC': 378, 'CACAT': 89, 'GCAGG': 177, 'TTTCG': 160, 'CTTTG': 157, 'ACGGA': 85, 'GATTC': 118, 'GAAGG': 481, 'TCCAA': 497, 'AGATT': 156, 'TGAAC': 197, 'ACGAT': 689, 'ATGTC': 56, 'CGTTC': 973, 'TACCA': 765, 'GATCA': 650, 'ATGAT': 381, 'GGCCG': 297, 'TGAGC': 71, 'ATCGG': 951, 'TACCT': 577, 'TTTAG': 615, 'CTTGG': 151, 'GATCG': 819, 'AGTTT': 253, 'ATTTA': 256, 'CAAGC': 133, 'TTGCA': 541, 'CATTT': 123, 'GCTCG': 142, 'CGAGT': 834, 'TTATC': 780, 'AATTT': 149, 'ATTCT': 751, 'GTAGA': 145, 'TTCCT': 148, 'TCGTT': 928, 'GAAAG': 144, 'ACTCG': 903, 'GTTTT': 143, 'CCACA': 388, 'ATCTT': 719, 'GCGCA': 241, 'GGCCC': 349, 'AACCG': 328, 'ATAGA': 546, 'TGCAC': 514, 'TATAC': 59, 'CATAC': 121, 'AGGGT': 138, 'TCACT': 334, 'GAGGA': 136, 'ACATC': 537, 'CTTGC': 150, 'TACAC': 856, 'AAAGA': 125, 'TCGAC': 923, 'GTCCA': 62, 'GGATC': 161, 'AATGA': 482, 'ATTGG': 428, 'TATGG': 93, 'GCTCT': 443, 'TAGGG': 486, 'GAGTT': 551, 'ACAGA': 124, 'ATCGT': 559, 'CCCCC': 624, 'ACCCC': 439, 'GAAAC': 2, 'GTCTT': 468, 'CACAC': 146, 'CTTGA': 249, 'TTCGC': 952, 'TCCGG': 120, 'GCGTC': 982, 'GCTTG': 110, 'TTTCC': 65, 'TCGCG': 985, 'TAACT': 152, 'ATCCC': 726, 'ACAGC': 252, 'TTAGT': 117, 'CGAGA': 796, 'GACTC': 667, 'ATTCG': 131, 'TGTGG': 544, 'TTCTG': 38, 'GGCTG': 103, 'CTATA': 908, 'CCATA': 107, 'AATAC': 728, 'AACAT': 115, 'GTGAC': 898, 'TCAGT': 262, 'CCGTT': 225, 'TACCC': 609, 'CTTCC': 76, 'AGAGA': 99, 'AAACG': 594, 'CAACG': 922, 'TCCTT': 97, 'ACCCT': 267, 'AAGAT': 57, 'CAGTG': 10, 'TTTAT': 53, 'GGTTA': 937, 'TTGAA': 96, 'TCGGA': 1007, 'CCGGA': 313, 'GGACA': 8, 'GAGTA': 771, 'CTACC': 907, 'GTAGC': 534, 'TGTTT': 91, 'TGCTA': 878, 'GGATT': 90, 'CTCAA': 816, 'AGTGC': 255, 'ATGGG': 268, 'TTTAC': 774, 'GGGTT': 278, 'TCGTG': 685, 'TGGCA': 86, 'GGACC': 318, 'CTGAG': 173, 'CCGAA': 81, 'CAAGG': 727, 'ATCAA': 459, 'TGTGC': 127, 'ACTGT': 20, 'GGCAC': 113, 'CATTA': 279, 'AATGT': 47, 'CTCCT': 387, '<unk>': 0, 'ACTTA': 385, 'GGATA': 944, 'AGCAA': 50, 'TGCAA': 171, 'TCTTT': 75, 'CTGTT': 748, 'GATTG': 227, 'CACTG': 198, 'TCTTG': 92, 'GAGGT': 4, 'ACTTT': 72, 'CGTGG': 725, 'CAAAA': 321, 'AGAGG': 162, 'TAGGT': 566, 'CCAAT': 593, 'CACCG': 233, 'AAATG': 457, 'GACCC': 587, 'CTCAC': 87, 'GTGAG': 24, 'AGAAC': 571, 'GACAG': 44, 'TTCAT': 39, 'AGACA': 63, 'AACTT': 380, 'ACAGG': 222, 'GTGCT': 80, 'CTTAC': 766, 'GTTTA': 603, 'CTGAT': 1, 'CAAAG': 366, 'ATGTA': 307, 'TGCCA': 436, 'TTTAA': 451, 'CCTCA': 344, 'ATGTG': 715, 'TGGAT': 206, 'ATGCT': 547, 'TTAAA': 246, 'CTTAG': 706, 'TTACA': 122, 'AGGTC': 382, 'GCCCA': 405, 'AGACC': 74, 'AATAA': 48, 'CAAAC': 287, 'TGGTC': 628, 'AACAA': 45, 'GAGAG': 40, 'GTGGT': 5, 'AAATA': 49, 'GATCC': 713, 'AATTC': 354, 'GTTCT': 37, 'TCTTC': 386, 'TTAAG': 901, 'TGAGT': 778, 'CCACT': 636, 'TAGAT': 505, 'CTCTG': 70, 'TCCCT': 13, 'GCTAC': 42, 'GGCGC': 729, 'GAGAT': 373, 'TGTTA': 46, 'AGTTG': 33, 'ACGGT': 943, 'AGGAG': 60, 'TTAAC': 98, 'GGTAA': 277, 'ATGAG': 30, 'ATACA': 18, 'CGATG': 956, 'GGCTC': 768, 'TCTGT': 691, 'GCTGA': 510, 'CCCTG': 185, 'GCATC': 899, 'AGTCG': 807, 'TGCTT': 250, 'GCCCT': 78, 'GAACT': 232, 'TAAGG': 251, 'ATAGG': 876, 'CTTTC': 288, 'TATCG': 886, 'GCAGC': 9, 'CTGTG': 195, 'TCCGT': 188, 'AGGCA': 102, 'GGGGG': 347, 'TATCC': 601, 'CGGCC': 829, 'CTTTT': 217, 'CCTGG': 192, 'TCTTA': 692, 'GGTGC': 309, 'ACGAG': 830, 'GGCAG': 12, 'TGTAA': 647, 'GAGCC': 108, 'GACGA': 793, 'TAGAA': 316, 'TGGTA': 43, 'ATGCG': 965, 'GAGGG': 203, 'AGTGA': 140, 'CTGCC': 6}\n"
     ]
    }
   ],
   "source": [
    "tokenizer = get_tokenizer(config['tokenizer'])\n",
    "tokenizer.train(train_dset=train_dset, vocab_size=VOCAB_SIZE, kmer=KMER)\n",
    "vocabulary = build_vocab(train_dset, tokenizer, use_padding=config[\"use_padding\"])\n",
    "\n",
    "print(\"vocab len:\" ,vocabulary.__len__())\n",
    "print(vocabulary.get_stoi())"
   ]
  },
  {
   "cell_type": "markdown",
   "id": "66bac65a",
   "metadata": {
    "id": "3hGQpSJA5kdT",
    "papermill": {
     "duration": 0.020289,
     "end_time": "2022-01-11T10:30:01.484217",
     "exception": false,
     "start_time": "2022-01-11T10:30:01.463928",
     "status": "completed"
    },
    "tags": []
   },
   "source": [
    "## Dataloader and batch preparation"
   ]
  },
  {
   "cell_type": "code",
   "execution_count": 8,
   "id": "867293f9",
   "metadata": {
    "colab": {
     "base_uri": "https://localhost:8080/"
    },
    "execution": {
     "iopub.execute_input": "2022-01-11T10:30:01.525705Z",
     "iopub.status.busy": "2022-01-11T10:30:01.524747Z",
     "iopub.status.idle": "2022-01-11T10:30:14.184539Z",
     "shell.execute_reply": "2022-01-11T10:30:14.185549Z"
    },
    "id": "gXUgPH6q5kdT",
    "outputId": "a1eb6ba2-9bcd-416d-8662-e3516121da96",
    "papermill": {
     "duration": 12.683992,
     "end_time": "2022-01-11T10:30:14.185884",
     "exception": false,
     "start_time": "2022-01-11T10:30:01.501892",
     "status": "completed"
    },
    "tags": []
   },
   "outputs": [
    {
     "name": "stdout",
     "output_type": "stream",
     "text": [
      "Using cpu device\n"
     ]
    },
    {
     "name": "stdout",
     "output_type": "stream",
     "text": [
      "max_tok_len  100\n"
     ]
    }
   ],
   "source": [
    "# Run on GPU or CPU\n",
    "device = 'cuda' if config[\"run_on_gpu\"] and torch.cuda.is_available() else 'cpu'\n",
    "print('Using {} device'.format(device))\n",
    "\n",
    "max_tok_len = check_seq_lengths(dataset=train_dset, tokenizer=tokenizer)\n",
    "\n",
    "# Data Loader\n",
    "collate = coll_factory(vocabulary, tokenizer, device, pad_to_length = max_tok_len)\n",
    "\n",
    "train_loader = DataLoader(train_dset, batch_size=config[\"batch_size\"], shuffle=True, collate_fn=collate)"
   ]
  },
  {
   "cell_type": "code",
   "execution_count": 9,
   "id": "c15ca854",
   "metadata": {
    "execution": {
     "iopub.execute_input": "2022-01-11T10:30:14.232896Z",
     "iopub.status.busy": "2022-01-11T10:30:14.231777Z",
     "iopub.status.idle": "2022-01-11T10:30:14.247300Z",
     "shell.execute_reply": "2022-01-11T10:30:14.247892Z"
    },
    "papermill": {
     "duration": 0.041558,
     "end_time": "2022-01-11T10:30:14.248092",
     "exception": false,
     "start_time": "2022-01-11T10:30:14.206534",
     "status": "completed"
    },
    "tags": []
   },
   "outputs": [
    {
     "data": {
      "text/plain": [
       "['CCATC',\n",
       " 'TATTT',\n",
       " 'TTGAA',\n",
       " 'TCCTT',\n",
       " 'TTAAC',\n",
       " 'ACTTT',\n",
       " 'ATGAG',\n",
       " 'AGAGA',\n",
       " 'AAGAA',\n",
       " 'CAGAA',\n",
       " 'CAGGC',\n",
       " 'AGGCA',\n",
       " 'GGCTG',\n",
       " 'TGTTT',\n",
       " 'AACCC',\n",
       " 'CACAA',\n",
       " 'CACCA',\n",
       " 'CCATA',\n",
       " 'GAGCC',\n",
       " 'TAAAA',\n",
       " 'GCTTG',\n",
       " 'GGAGT',\n",
       " 'AAATA',\n",
       " 'CAATT',\n",
       " 'TCTTT',\n",
       " 'GGCAC',\n",
       " 'CTTGT',\n",
       " 'AATAA',\n",
       " 'AACAT',\n",
       " 'GAACA',\n",
       " 'ATGAG',\n",
       " 'TTTCT',\n",
       " 'CACCA',\n",
       " 'TGTTA',\n",
       " 'TTAGT',\n",
       " 'CTCTG',\n",
       " 'GATTC',\n",
       " 'CACGC',\n",
       " 'TCCGG',\n",
       " 'CATAC',\n",
       " 'TTACA',\n",
       " 'CATTT',\n",
       " 'ACAGA',\n",
       " 'AAAGA',\n",
       " 'GAGAC',\n",
       " 'AGACA',\n",
       " 'AAGAG',\n",
       " 'AGTAC',\n",
       " 'TGTGC',\n",
       " 'TGAAA',\n",
       " 'GGTTC',\n",
       " 'AGACA',\n",
       " 'GAAGA',\n",
       " 'ATTCG',\n",
       " 'GGACT',\n",
       " 'CAAGC',\n",
       " 'CACAA',\n",
       " 'CAACA',\n",
       " 'TTAAT',\n",
       " 'GAGGA',\n",
       " 'AAGGG',\n",
       " 'AGGGT',\n",
       " 'AGGGC',\n",
       " 'AGCCC',\n",
       " 'AGTGA',\n",
       " 'ACAAT',\n",
       " 'GAGCT',\n",
       " 'GCTCG',\n",
       " 'CATCA',\n",
       " 'GTTTT',\n",
       " 'GAAAG',\n",
       " 'AGACA',\n",
       " 'GTAGA',\n",
       " 'GAAGA',\n",
       " 'CACAC',\n",
       " 'AAACA',\n",
       " 'TTCCT',\n",
       " 'AATTT',\n",
       " 'CTTGC',\n",
       " 'CTTGG',\n",
       " 'CTGGA',\n",
       " 'TAACT',\n",
       " 'CGGCT',\n",
       " 'GCAAA',\n",
       " 'AGGTA',\n",
       " 'AGATT',\n",
       " 'CTTTG',\n",
       " 'CTCTT',\n",
       " 'CCGGT',\n",
       " 'TTTCG',\n",
       " 'GGATC',\n",
       " 'AGAGG',\n",
       " 'TAACC',\n",
       " 'CGGGG',\n",
       " 'GCCTA',\n",
       " 'GCACA',\n",
       " 'GGTGG',\n",
       " 'TCTCA',\n",
       " 'CATCT',\n",
       " 'GGGAA']"
      ]
     },
     "execution_count": 9,
     "metadata": {},
     "output_type": "execute_result"
    }
   ],
   "source": [
    "tokenizer(train_dset[1][0])"
   ]
  },
  {
   "cell_type": "markdown",
   "id": "36e4ffea",
   "metadata": {
    "id": "sTTomnnP5kdU",
    "papermill": {
     "duration": 0.02442,
     "end_time": "2022-01-11T10:30:14.288933",
     "exception": false,
     "start_time": "2022-01-11T10:30:14.264513",
     "status": "completed"
    },
    "tags": []
   },
   "source": [
    "## Model"
   ]
  },
  {
   "cell_type": "code",
   "execution_count": 10,
   "id": "3c0d1e51",
   "metadata": {
    "execution": {
     "iopub.execute_input": "2022-01-11T10:30:14.343858Z",
     "iopub.status.busy": "2022-01-11T10:30:14.342427Z",
     "iopub.status.idle": "2022-01-11T10:30:14.353837Z",
     "shell.execute_reply": "2022-01-11T10:30:14.353331Z"
    },
    "id": "ZNuXGIdD5kdU",
    "papermill": {
     "duration": 0.041273,
     "end_time": "2022-01-11T10:30:14.354006",
     "exception": false,
     "start_time": "2022-01-11T10:30:14.312733",
     "status": "completed"
    },
    "tags": []
   },
   "outputs": [],
   "source": [
    "model = CNN(\n",
    "    number_of_classes=config[\"number_of_classes\"],\n",
    "    vocab_size=vocabulary.__len__(),\n",
    "    embedding_dim=config[\"embedding_dim\"],\n",
    "    input_len=max_tok_len\n",
    ").to(device)"
   ]
  },
  {
   "cell_type": "markdown",
   "id": "be1de43c",
   "metadata": {
    "id": "1pqIm92h5kdV",
    "papermill": {
     "duration": 0.020579,
     "end_time": "2022-01-11T10:30:14.391119",
     "exception": false,
     "start_time": "2022-01-11T10:30:14.370540",
     "status": "completed"
    },
    "tags": []
   },
   "source": [
    "## Training"
   ]
  },
  {
   "cell_type": "code",
   "execution_count": 11,
   "id": "5a0d3538",
   "metadata": {
    "colab": {
     "base_uri": "https://localhost:8080/"
    },
    "execution": {
     "iopub.execute_input": "2022-01-11T10:30:14.436723Z",
     "iopub.status.busy": "2022-01-11T10:30:14.435750Z",
     "iopub.status.idle": "2022-01-11T10:33:38.651510Z",
     "shell.execute_reply": "2022-01-11T10:33:38.653742Z"
    },
    "id": "uvO_-RFm5kdV",
    "outputId": "7799e5f9-78a7-4ef2-95e8-f06751912eda",
    "papermill": {
     "duration": 204.245826,
     "end_time": "2022-01-11T10:33:38.654641",
     "exception": false,
     "start_time": "2022-01-11T10:30:14.408815",
     "status": "completed"
    },
    "tags": []
   },
   "outputs": [
    {
     "name": "stdout",
     "output_type": "stream",
     "text": [
      "Epoch 0\n"
     ]
    },
    {
     "name": "stderr",
     "output_type": "stream",
     "text": [
      "/Users/katarina/Documents/repositories/GitHub/GLP/src/glp/tokenizers/utils.py:27: UserWarning: To copy construct from a tensor, it is recommended to use sourceTensor.clone().detach() or sourceTensor.clone().detach().requires_grad_(True), rather than torch.tensor(sourceTensor).\n",
      "  x = torch.tensor(pad(x), dtype=torch.long)\n"
     ]
    },
    {
     "name": "stdout",
     "output_type": "stream",
     "text": [
      "Train metrics: \n",
      " Accuracy: 67.5%, Avg loss: 0.639483 \n",
      "\n",
      "Epoch 1\n"
     ]
    },
    {
     "name": "stdout",
     "output_type": "stream",
     "text": [
      "Train metrics: \n",
      " Accuracy: 72.3%, Avg loss: 0.622474 \n",
      "\n",
      "Epoch 2\n"
     ]
    },
    {
     "name": "stdout",
     "output_type": "stream",
     "text": [
      "Train metrics: \n",
      " Accuracy: 75.6%, Avg loss: 0.613997 \n",
      "\n",
      "Epoch 3\n"
     ]
    },
    {
     "name": "stdout",
     "output_type": "stream",
     "text": [
      "Train metrics: \n",
      " Accuracy: 77.3%, Avg loss: 0.600440 \n",
      "\n",
      "Epoch 4\n"
     ]
    },
    {
     "name": "stdout",
     "output_type": "stream",
     "text": [
      "Train metrics: \n",
      " Accuracy: 77.9%, Avg loss: 0.597837 \n",
      "\n"
     ]
    }
   ],
   "source": [
    "model.train(train_loader, epochs=config[\"epochs\"])"
   ]
  },
  {
   "cell_type": "markdown",
   "id": "69c239e4",
   "metadata": {
    "id": "bR2tamrc5kdV",
    "papermill": {
     "duration": 0.040837,
     "end_time": "2022-01-11T10:33:38.733723",
     "exception": false,
     "start_time": "2022-01-11T10:33:38.692886",
     "status": "completed"
    },
    "tags": []
   },
   "source": [
    "## Testing"
   ]
  },
  {
   "cell_type": "code",
   "execution_count": 12,
   "id": "27b75a51",
   "metadata": {
    "colab": {
     "base_uri": "https://localhost:8080/"
    },
    "execution": {
     "iopub.execute_input": "2022-01-11T10:33:38.789549Z",
     "iopub.status.busy": "2022-01-11T10:33:38.787034Z",
     "iopub.status.idle": "2022-01-11T10:33:44.710259Z",
     "shell.execute_reply": "2022-01-11T10:33:44.710950Z"
    },
    "id": "wbnciyRK5kdW",
    "outputId": "d2592f9d-f074-465f-95f8-df3b759ae068",
    "papermill": {
     "duration": 5.954854,
     "end_time": "2022-01-11T10:33:44.711246",
     "exception": false,
     "start_time": "2022-01-11T10:33:38.756392",
     "status": "completed"
    },
    "tags": []
   },
   "outputs": [
    {
     "name": "stdout",
     "output_type": "stream",
     "text": [
      "p  3474 ; tp  1736.425568819046 ; fp  705.4748484790325\n",
      "recall  0.4998346484798636 ; precision  0.7110959793931202\n",
      "num_batches 218\n",
      "correct 4513\n",
      "size 6948\n",
      "Test metrics: \n",
      " Accuracy: 0.649539, F1 score: 0.587037, Avg loss: 0.659458 \n",
      "\n"
     ]
    },
    {
     "data": {
      "text/plain": [
       "(0.6495394358088659, 0.5870367809916955)"
      ]
     },
     "execution_count": 12,
     "metadata": {},
     "output_type": "execute_result"
    }
   ],
   "source": [
    "test_dset = get_dataset(config[\"dataset\"], 'test')\n",
    "test_loader = DataLoader(test_dset, batch_size=config[\"batch_size\"], shuffle=True, collate_fn=collate)\n",
    "\n",
    "acc, f1 = model.test(test_loader)\n",
    "acc, f1"
   ]
  }
 ],
 "metadata": {
  "accelerator": "TPU",
  "colab": {
   "name": "torch_cnn_classifier.ipynb",
   "provenance": []
  },
  "environment": {
   "name": "pytorch-gpu.1-9.m75",
   "type": "gcloud",
   "uri": "gcr.io/deeplearning-platform-release/pytorch-gpu.1-9:m75"
  },
  "interpreter": {
   "hash": "9828b828580f1cac1b571b33de6cff8bacecc8916095e1bcbc967952ca7105b7"
  },
  "kernelspec": {
   "display_name": "Python 3",
   "name": "python3"
  },
  "language_info": {
   "codemirror_mode": {
    "name": "ipython",
    "version": 3
   },
   "file_extension": ".py",
   "mimetype": "text/x-python",
   "name": "python",
   "nbconvert_exporter": "python",
   "pygments_lexer": "ipython3",
   "version": "3.8.9"
  },
  "papermill": {
   "default_parameters": {},
   "duration": 237.449333,
   "end_time": "2022-01-11T10:33:45.151685",
   "environment_variables": {},
   "exception": null,
   "input_path": "torch_cnn.ipynb",
   "output_path": "../torch_cnn_experiments/human_enhancers_cohn_kmer_5.ipynb",
   "parameters": {
    "DATASET": "human_enhancers_cohn",
    "KMER": 5,
    "TOKENIZER": "kmer"
   },
   "start_time": "2022-01-11T10:29:47.702352",
   "version": "2.3.3"
  }
 },
 "nbformat": 4,
 "nbformat_minor": 5
}