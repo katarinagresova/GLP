{
 "cells": [
  {
   "cell_type": "markdown",
   "id": "b05f5da3",
   "metadata": {
    "id": "SKOD9lvq5kdM",
    "papermill": {
     "duration": 0.018464,
     "end_time": "2022-01-11T10:40:32.273199",
     "exception": false,
     "start_time": "2022-01-11T10:40:32.254735",
     "status": "completed"
    },
    "tags": []
   },
   "source": [
    "# PYTORCH CNN Classifier"
   ]
  },
  {
   "cell_type": "code",
   "execution_count": 1,
   "id": "d2028394",
   "metadata": {
    "execution": {
     "iopub.execute_input": "2022-01-11T10:40:32.313088Z",
     "iopub.status.busy": "2022-01-11T10:40:32.312201Z",
     "iopub.status.idle": "2022-01-11T10:40:32.318068Z",
     "shell.execute_reply": "2022-01-11T10:40:32.317486Z"
    },
    "id": "E8prt3AL5kdO",
    "papermill": {
     "duration": 0.029013,
     "end_time": "2022-01-11T10:40:32.318252",
     "exception": false,
     "start_time": "2022-01-11T10:40:32.289239",
     "status": "completed"
    },
    "tags": [
     "parameters"
    ]
   },
   "outputs": [],
   "source": [
    "DATASET = 'none'\n",
    "VOCAB_SIZE = 0\n",
    "TOKENIZER = 'none'\n",
    "KMER = 0"
   ]
  },
  {
   "cell_type": "code",
   "execution_count": 2,
   "id": "2d6da406",
   "metadata": {
    "execution": {
     "iopub.execute_input": "2022-01-11T10:40:32.351712Z",
     "iopub.status.busy": "2022-01-11T10:40:32.350909Z",
     "iopub.status.idle": "2022-01-11T10:40:32.353363Z",
     "shell.execute_reply": "2022-01-11T10:40:32.354090Z"
    },
    "papermill": {
     "duration": 0.021848,
     "end_time": "2022-01-11T10:40:32.354290",
     "exception": false,
     "start_time": "2022-01-11T10:40:32.332442",
     "status": "completed"
    },
    "tags": [
     "injected-parameters"
    ]
   },
   "outputs": [],
   "source": [
    "# Parameters\n",
    "DATASET = \"demo_human_or_worm\"\n",
    "TOKENIZER = \"character\"\n"
   ]
  },
  {
   "cell_type": "code",
   "execution_count": 3,
   "id": "a90cf637",
   "metadata": {
    "colab": {
     "base_uri": "https://localhost:8080/"
    },
    "execution": {
     "iopub.execute_input": "2022-01-11T10:40:32.388075Z",
     "iopub.status.busy": "2022-01-11T10:40:32.387295Z",
     "iopub.status.idle": "2022-01-11T10:40:32.390687Z",
     "shell.execute_reply": "2022-01-11T10:40:32.391190Z"
    },
    "id": "rohBItfR5kdP",
    "outputId": "7da7aafe-0858-48be-bf7d-f698784d88df",
    "papermill": {
     "duration": 0.023797,
     "end_time": "2022-01-11T10:40:32.391518",
     "exception": false,
     "start_time": "2022-01-11T10:40:32.367721",
     "status": "completed"
    },
    "tags": []
   },
   "outputs": [
    {
     "name": "stdout",
     "output_type": "stream",
     "text": [
      "demo_human_or_worm 0 character 0\n"
     ]
    }
   ],
   "source": [
    "print(DATASET, VOCAB_SIZE, TOKENIZER, KMER)"
   ]
  },
  {
   "cell_type": "markdown",
   "id": "9207613e",
   "metadata": {
    "id": "Y-YQrVyb5kdQ",
    "papermill": {
     "duration": 0.016379,
     "end_time": "2022-01-11T10:40:32.423304",
     "exception": false,
     "start_time": "2022-01-11T10:40:32.406925",
     "status": "completed"
    },
    "tags": []
   },
   "source": [
    "## Config"
   ]
  },
  {
   "cell_type": "code",
   "execution_count": 4,
   "id": "20c5016a",
   "metadata": {
    "execution": {
     "iopub.execute_input": "2022-01-11T10:40:32.460459Z",
     "iopub.status.busy": "2022-01-11T10:40:32.459362Z",
     "iopub.status.idle": "2022-01-11T10:40:33.979377Z",
     "shell.execute_reply": "2022-01-11T10:40:33.978791Z"
    },
    "id": "FIunuyGk5kdR",
    "papermill": {
     "duration": 1.540881,
     "end_time": "2022-01-11T10:40:33.979557",
     "exception": false,
     "start_time": "2022-01-11T10:40:32.438676",
     "status": "completed"
    },
    "tags": []
   },
   "outputs": [],
   "source": [
    "import torch\n",
    "from torch.utils.data import DataLoader\n",
    "\n",
    "from genomic_benchmarks.dataset_getters.pytorch_datasets import get_dataset\n",
    "from glp.models import CNN\n",
    "from glp.tokenizers import get_tokenizer\n",
    "from glp.tokenizers.utils import build_vocab, coll_factory, check_config, check_seq_lengths"
   ]
  },
  {
   "cell_type": "code",
   "execution_count": 5,
   "id": "f4ae5b32",
   "metadata": {
    "execution": {
     "iopub.execute_input": "2022-01-11T10:40:34.015738Z",
     "iopub.status.busy": "2022-01-11T10:40:34.014930Z",
     "iopub.status.idle": "2022-01-11T10:40:34.017900Z",
     "shell.execute_reply": "2022-01-11T10:40:34.018403Z"
    },
    "id": "UgXiF6Zz5kdR",
    "papermill": {
     "duration": 0.023539,
     "end_time": "2022-01-11T10:40:34.018706",
     "exception": false,
     "start_time": "2022-01-11T10:40:33.995167",
     "status": "completed"
    },
    "tags": []
   },
   "outputs": [],
   "source": [
    "config = {\n",
    "    \"dataset\": DATASET,\n",
    "    \"tokenizer\": TOKENIZER,\n",
    "    \"dataset_version\": 0,\n",
    "    \"epochs\": 5,\n",
    "    \"batch_size\": 32,\n",
    "    \"use_padding\": True,\n",
    "    \"force_download\": False,\n",
    "    \"run_on_gpu\": True,\n",
    "    \"number_of_classes\": 2,\n",
    "    \"embedding_dim\": 100,\n",
    "}\n",
    "check_config(config)"
   ]
  },
  {
   "cell_type": "markdown",
   "id": "207b04b9",
   "metadata": {
    "id": "AUWF-avz5kdS",
    "papermill": {
     "duration": 0.0156,
     "end_time": "2022-01-11T10:40:34.050038",
     "exception": false,
     "start_time": "2022-01-11T10:40:34.034438",
     "status": "completed"
    },
    "tags": []
   },
   "source": [
    "## Choose the dataset"
   ]
  },
  {
   "cell_type": "code",
   "execution_count": 6,
   "id": "561bf6b9",
   "metadata": {
    "colab": {
     "base_uri": "https://localhost:8080/"
    },
    "execution": {
     "iopub.execute_input": "2022-01-11T10:40:34.085470Z",
     "iopub.status.busy": "2022-01-11T10:40:34.084444Z",
     "iopub.status.idle": "2022-01-11T10:41:12.408369Z",
     "shell.execute_reply": "2022-01-11T10:41:12.408931Z"
    },
    "id": "1oaryDJr5kdS",
    "outputId": "6a425df9-4092-4601-9cd9-f61d524b6278",
    "papermill": {
     "duration": 38.344063,
     "end_time": "2022-01-11T10:41:12.409132",
     "exception": false,
     "start_time": "2022-01-11T10:40:34.065069",
     "status": "completed"
    },
    "tags": []
   },
   "outputs": [
    {
     "name": "stdout",
     "output_type": "stream",
     "text": [
      "Downloading 1Vuc44bXRISqRDXNrxt5lGYLpLsJbrSg8 into /Users/katarina/.genomic_benchmarks/demo_human_or_worm.zip... "
     ]
    },
    {
     "name": "stderr",
     "output_type": "stream",
     "text": [
      "/Users/katarina/Documents/repositories/GitHub/GLP/venv/lib/python3.8/site-packages/genomic_benchmarks/utils/datasets.py:50: UserWarning: No version specified. Using version 0.\n",
      "  warnings.warn(f\"No version specified. Using version {metadata['version']}.\")\n"
     ]
    },
    {
     "name": "stdout",
     "output_type": "stream",
     "text": [
      "Done.\n",
      "Unzipping..."
     ]
    },
    {
     "name": "stdout",
     "output_type": "stream",
     "text": [
      "Done.\n"
     ]
    }
   ],
   "source": [
    "train_dset = get_dataset(config[\"dataset\"], 'train')"
   ]
  },
  {
   "cell_type": "markdown",
   "id": "309fdd52",
   "metadata": {
    "id": "B0lqmy935kdS",
    "papermill": {
     "duration": 0.015947,
     "end_time": "2022-01-11T10:41:12.440746",
     "exception": false,
     "start_time": "2022-01-11T10:41:12.424799",
     "status": "completed"
    },
    "tags": []
   },
   "source": [
    "## Tokenizer and vocab"
   ]
  },
  {
   "cell_type": "code",
   "execution_count": 7,
   "id": "a9efbb36",
   "metadata": {
    "colab": {
     "base_uri": "https://localhost:8080/"
    },
    "execution": {
     "iopub.execute_input": "2022-01-11T10:41:12.478911Z",
     "iopub.status.busy": "2022-01-11T10:41:12.477859Z",
     "iopub.status.idle": "2022-01-11T10:41:31.304218Z",
     "shell.execute_reply": "2022-01-11T10:41:31.304869Z"
    },
    "id": "NY_zualp5kdT",
    "outputId": "9034d65f-2f9a-4c83-a314-13d3b808fc65",
    "papermill": {
     "duration": 18.848522,
     "end_time": "2022-01-11T10:41:31.305101",
     "exception": false,
     "start_time": "2022-01-11T10:41:12.456579",
     "status": "completed"
    },
    "tags": []
   },
   "outputs": [
    {
     "name": "stdout",
     "output_type": "stream",
     "text": [
      "vocab len: 9\n",
      "{'N': 7, '<eos>': 6, 'G': 4, '<pad>': 8, '<unk>': 0, '<bos>': 1, 'T': 3, 'C': 5, 'A': 2}\n"
     ]
    }
   ],
   "source": [
    "tokenizer = get_tokenizer(config['tokenizer'])\n",
    "tokenizer.train(train_dset=train_dset, vocab_size=VOCAB_SIZE, kmer=KMER)\n",
    "vocabulary = build_vocab(train_dset, tokenizer, use_padding=config[\"use_padding\"])\n",
    "\n",
    "print(\"vocab len:\" ,vocabulary.__len__())\n",
    "print(vocabulary.get_stoi())"
   ]
  },
  {
   "cell_type": "markdown",
   "id": "7b019223",
   "metadata": {
    "id": "3hGQpSJA5kdT",
    "papermill": {
     "duration": 0.016964,
     "end_time": "2022-01-11T10:41:31.339676",
     "exception": false,
     "start_time": "2022-01-11T10:41:31.322712",
     "status": "completed"
    },
    "tags": []
   },
   "source": [
    "## Dataloader and batch preparation"
   ]
  },
  {
   "cell_type": "code",
   "execution_count": 8,
   "id": "9578af64",
   "metadata": {
    "colab": {
     "base_uri": "https://localhost:8080/"
    },
    "execution": {
     "iopub.execute_input": "2022-01-11T10:41:31.379506Z",
     "iopub.status.busy": "2022-01-11T10:41:31.378594Z",
     "iopub.status.idle": "2022-01-11T10:41:59.000845Z",
     "shell.execute_reply": "2022-01-11T10:41:59.001342Z"
    },
    "id": "gXUgPH6q5kdT",
    "outputId": "a1eb6ba2-9bcd-416d-8662-e3516121da96",
    "papermill": {
     "duration": 27.645055,
     "end_time": "2022-01-11T10:41:59.001609",
     "exception": false,
     "start_time": "2022-01-11T10:41:31.356554",
     "status": "completed"
    },
    "tags": []
   },
   "outputs": [
    {
     "name": "stdout",
     "output_type": "stream",
     "text": [
      "Using cpu device\n"
     ]
    },
    {
     "name": "stdout",
     "output_type": "stream",
     "text": [
      "max_tok_len  202\n"
     ]
    },
    {
     "name": "stdout",
     "output_type": "stream",
     "text": [
      "not all sequences are of the same length\n"
     ]
    }
   ],
   "source": [
    "# Run on GPU or CPU\n",
    "device = 'cuda' if config[\"run_on_gpu\"] and torch.cuda.is_available() else 'cpu'\n",
    "print('Using {} device'.format(device))\n",
    "\n",
    "max_tok_len = check_seq_lengths(dataset=train_dset, tokenizer=tokenizer)\n",
    "\n",
    "# Data Loader\n",
    "collate = coll_factory(vocabulary, tokenizer, device, pad_to_length = max_tok_len)\n",
    "\n",
    "train_loader = DataLoader(train_dset, batch_size=config[\"batch_size\"], shuffle=True, collate_fn=collate)"
   ]
  },
  {
   "cell_type": "code",
   "execution_count": 9,
   "id": "9df5daf2",
   "metadata": {
    "execution": {
     "iopub.execute_input": "2022-01-11T10:41:59.042374Z",
     "iopub.status.busy": "2022-01-11T10:41:59.041612Z",
     "iopub.status.idle": "2022-01-11T10:41:59.055976Z",
     "shell.execute_reply": "2022-01-11T10:41:59.056492Z"
    },
    "papermill": {
     "duration": 0.03717,
     "end_time": "2022-01-11T10:41:59.056733",
     "exception": false,
     "start_time": "2022-01-11T10:41:59.019563",
     "status": "completed"
    },
    "tags": []
   },
   "outputs": [
    {
     "data": {
      "text/plain": [
       "['<bos>',\n",
       " 'T',\n",
       " 'T',\n",
       " 'A',\n",
       " 'A',\n",
       " 'A',\n",
       " 'C',\n",
       " 'T',\n",
       " 'T',\n",
       " 'T',\n",
       " 'A',\n",
       " 'A',\n",
       " 'A',\n",
       " 'T',\n",
       " 'T',\n",
       " 'T',\n",
       " 'T',\n",
       " 'C',\n",
       " 'C',\n",
       " 'C',\n",
       " 'A',\n",
       " 'A',\n",
       " 'A',\n",
       " 'C',\n",
       " 'T',\n",
       " 'A',\n",
       " 'C',\n",
       " 'A',\n",
       " 'G',\n",
       " 'G',\n",
       " 'A',\n",
       " 'A',\n",
       " 'C',\n",
       " 'C',\n",
       " 'C',\n",
       " 'T',\n",
       " 'T',\n",
       " 'T',\n",
       " 'G',\n",
       " 'T',\n",
       " 'T',\n",
       " 'G',\n",
       " 'A',\n",
       " 'A',\n",
       " 'T',\n",
       " 'T',\n",
       " 'T',\n",
       " 'T',\n",
       " 'A',\n",
       " 'A',\n",
       " 'C',\n",
       " 'A',\n",
       " 'G',\n",
       " 'A',\n",
       " 'T',\n",
       " 'T',\n",
       " 'T',\n",
       " 'T',\n",
       " 'T',\n",
       " 'G',\n",
       " 'A',\n",
       " 'G',\n",
       " 'C',\n",
       " 'A',\n",
       " 'C',\n",
       " 'G',\n",
       " 'A',\n",
       " 'A',\n",
       " 'T',\n",
       " 'A',\n",
       " 'C',\n",
       " 'T',\n",
       " 'A',\n",
       " 'C',\n",
       " 'A',\n",
       " 'T',\n",
       " 'T',\n",
       " 'T',\n",
       " 'T',\n",
       " 'A',\n",
       " 'A',\n",
       " 'G',\n",
       " 'A',\n",
       " 'C',\n",
       " 'A',\n",
       " 'A',\n",
       " 'T',\n",
       " 'T',\n",
       " 'T',\n",
       " 'C',\n",
       " 'C',\n",
       " 'T',\n",
       " 'C',\n",
       " 'A',\n",
       " 'T',\n",
       " 'T',\n",
       " 'C',\n",
       " 'A',\n",
       " 'T',\n",
       " 'G',\n",
       " 'T',\n",
       " 'T',\n",
       " 'A',\n",
       " 'C',\n",
       " 'T',\n",
       " 'T',\n",
       " 'C',\n",
       " 'T',\n",
       " 'T',\n",
       " 'A',\n",
       " 'T',\n",
       " 'T',\n",
       " 'T',\n",
       " 'A',\n",
       " 'A',\n",
       " 'A',\n",
       " 'G',\n",
       " 'A',\n",
       " 'A',\n",
       " 'A',\n",
       " 'T',\n",
       " 'T',\n",
       " 'T',\n",
       " 'A',\n",
       " 'T',\n",
       " 'C',\n",
       " 'A',\n",
       " 'G',\n",
       " 'A',\n",
       " 'A',\n",
       " 'A',\n",
       " 'T',\n",
       " 'T',\n",
       " 'T',\n",
       " 'A',\n",
       " 'T',\n",
       " 'T',\n",
       " 'T',\n",
       " 'A',\n",
       " 'T',\n",
       " 'T',\n",
       " 'G',\n",
       " 'A',\n",
       " 'G',\n",
       " 'G',\n",
       " 'A',\n",
       " 'C',\n",
       " 'T',\n",
       " 'A',\n",
       " 'T',\n",
       " 'G',\n",
       " 'T',\n",
       " 'A',\n",
       " 'A',\n",
       " 'T',\n",
       " 'A',\n",
       " 'A',\n",
       " 'A',\n",
       " 'C',\n",
       " 'A',\n",
       " 'T',\n",
       " 'T',\n",
       " 'T',\n",
       " 'T',\n",
       " 'T',\n",
       " 'T',\n",
       " 'A',\n",
       " 'A',\n",
       " 'T',\n",
       " 'C',\n",
       " 'A',\n",
       " 'A',\n",
       " 'C',\n",
       " 'A',\n",
       " 'T',\n",
       " 'C',\n",
       " 'T',\n",
       " 'T',\n",
       " 'T',\n",
       " 'T',\n",
       " 'T',\n",
       " 'A',\n",
       " 'T',\n",
       " 'G',\n",
       " 'A',\n",
       " 'A',\n",
       " 'C',\n",
       " 'A',\n",
       " 'A',\n",
       " 'T',\n",
       " 'T',\n",
       " 'G',\n",
       " 'A',\n",
       " 'C',\n",
       " 'C',\n",
       " 'A',\n",
       " 'T',\n",
       " 'A',\n",
       " 'G',\n",
       " 'T',\n",
       " 'G',\n",
       " '<eos>']"
      ]
     },
     "execution_count": 9,
     "metadata": {},
     "output_type": "execute_result"
    }
   ],
   "source": [
    "tokenizer(train_dset[1][0])"
   ]
  },
  {
   "cell_type": "markdown",
   "id": "cbcbd18f",
   "metadata": {
    "id": "sTTomnnP5kdU",
    "papermill": {
     "duration": 0.017816,
     "end_time": "2022-01-11T10:41:59.092208",
     "exception": false,
     "start_time": "2022-01-11T10:41:59.074392",
     "status": "completed"
    },
    "tags": []
   },
   "source": [
    "## Model"
   ]
  },
  {
   "cell_type": "code",
   "execution_count": 10,
   "id": "14691103",
   "metadata": {
    "execution": {
     "iopub.execute_input": "2022-01-11T10:41:59.133638Z",
     "iopub.status.busy": "2022-01-11T10:41:59.132878Z",
     "iopub.status.idle": "2022-01-11T10:41:59.144337Z",
     "shell.execute_reply": "2022-01-11T10:41:59.144855Z"
    },
    "id": "ZNuXGIdD5kdU",
    "papermill": {
     "duration": 0.034786,
     "end_time": "2022-01-11T10:41:59.145061",
     "exception": false,
     "start_time": "2022-01-11T10:41:59.110275",
     "status": "completed"
    },
    "tags": []
   },
   "outputs": [],
   "source": [
    "model = CNN(\n",
    "    number_of_classes=config[\"number_of_classes\"],\n",
    "    vocab_size=vocabulary.__len__(),\n",
    "    embedding_dim=config[\"embedding_dim\"],\n",
    "    input_len=max_tok_len\n",
    ").to(device)"
   ]
  },
  {
   "cell_type": "markdown",
   "id": "ba343be0",
   "metadata": {
    "id": "1pqIm92h5kdV",
    "papermill": {
     "duration": 0.018379,
     "end_time": "2022-01-11T10:41:59.181370",
     "exception": false,
     "start_time": "2022-01-11T10:41:59.162991",
     "status": "completed"
    },
    "tags": []
   },
   "source": [
    "## Training"
   ]
  },
  {
   "cell_type": "code",
   "execution_count": 11,
   "id": "1e264e72",
   "metadata": {
    "colab": {
     "base_uri": "https://localhost:8080/"
    },
    "execution": {
     "iopub.execute_input": "2022-01-11T10:41:59.224427Z",
     "iopub.status.busy": "2022-01-11T10:41:59.223660Z",
     "iopub.status.idle": "2022-01-11T11:02:32.548900Z",
     "shell.execute_reply": "2022-01-11T11:02:32.549574Z"
    },
    "id": "uvO_-RFm5kdV",
    "outputId": "7799e5f9-78a7-4ef2-95e8-f06751912eda",
    "papermill": {
     "duration": 1233.349574,
     "end_time": "2022-01-11T11:02:32.550332",
     "exception": false,
     "start_time": "2022-01-11T10:41:59.200758",
     "status": "completed"
    },
    "tags": []
   },
   "outputs": [
    {
     "name": "stdout",
     "output_type": "stream",
     "text": [
      "Epoch 0\n"
     ]
    },
    {
     "name": "stderr",
     "output_type": "stream",
     "text": [
      "/Users/katarina/Documents/repositories/GitHub/GLP/src/glp/tokenizers/utils.py:27: UserWarning: To copy construct from a tensor, it is recommended to use sourceTensor.clone().detach() or sourceTensor.clone().detach().requires_grad_(True), rather than torch.tensor(sourceTensor).\n",
      "  x = torch.tensor(pad(x), dtype=torch.long)\n"
     ]
    },
    {
     "name": "stdout",
     "output_type": "stream",
     "text": [
      "Train metrics: \n",
      " Accuracy: 90.8%, Avg loss: 0.545845 \n",
      "\n",
      "Epoch 1\n"
     ]
    },
    {
     "name": "stdout",
     "output_type": "stream",
     "text": [
      "Train metrics: \n",
      " Accuracy: 91.8%, Avg loss: 0.539735 \n",
      "\n",
      "Epoch 2\n"
     ]
    },
    {
     "name": "stdout",
     "output_type": "stream",
     "text": [
      "Train metrics: \n",
      " Accuracy: 91.1%, Avg loss: 0.541308 \n",
      "\n",
      "Epoch 3\n"
     ]
    },
    {
     "name": "stdout",
     "output_type": "stream",
     "text": [
      "Train metrics: \n",
      " Accuracy: 92.5%, Avg loss: 0.536730 \n",
      "\n",
      "Epoch 4\n"
     ]
    },
    {
     "name": "stdout",
     "output_type": "stream",
     "text": [
      "Train metrics: \n",
      " Accuracy: 92.7%, Avg loss: 0.538045 \n",
      "\n"
     ]
    }
   ],
   "source": [
    "model.train(train_loader, epochs=config[\"epochs\"])"
   ]
  },
  {
   "cell_type": "markdown",
   "id": "04564d33",
   "metadata": {
    "id": "bR2tamrc5kdV",
    "papermill": {
     "duration": 0.021389,
     "end_time": "2022-01-11T11:02:32.594177",
     "exception": false,
     "start_time": "2022-01-11T11:02:32.572788",
     "status": "completed"
    },
    "tags": []
   },
   "source": [
    "## Testing"
   ]
  },
  {
   "cell_type": "code",
   "execution_count": 12,
   "id": "f59c81e5",
   "metadata": {
    "colab": {
     "base_uri": "https://localhost:8080/"
    },
    "execution": {
     "iopub.execute_input": "2022-01-11T11:02:32.650173Z",
     "iopub.status.busy": "2022-01-11T11:02:32.648941Z",
     "iopub.status.idle": "2022-01-11T11:03:01.635719Z",
     "shell.execute_reply": "2022-01-11T11:03:01.636439Z"
    },
    "id": "wbnciyRK5kdW",
    "outputId": "d2592f9d-f074-465f-95f8-df3b759ae068",
    "papermill": {
     "duration": 29.019657,
     "end_time": "2022-01-11T11:03:01.636657",
     "exception": false,
     "start_time": "2022-01-11T11:02:32.617000",
     "status": "completed"
    },
    "tags": []
   },
   "outputs": [
    {
     "name": "stdout",
     "output_type": "stream",
     "text": [
      "p  12500 ; tp  11399.898065328598 ; fp  805.7902834847488\n",
      "recall  0.9119918452262878 ; precision  0.9339823973497497\n",
      "num_batches 782\n",
      "correct 23100\n",
      "size 25000\n",
      "Test metrics: \n",
      " Accuracy: 0.924000, F1 score: 0.922856, Avg loss: 0.539537 \n",
      "\n"
     ]
    },
    {
     "data": {
      "text/plain": [
       "(0.924, 0.9228561377749391)"
      ]
     },
     "execution_count": 12,
     "metadata": {},
     "output_type": "execute_result"
    }
   ],
   "source": [
    "test_dset = get_dataset(config[\"dataset\"], 'test')\n",
    "test_loader = DataLoader(test_dset, batch_size=config[\"batch_size\"], shuffle=True, collate_fn=collate)\n",
    "\n",
    "acc, f1 = model.test(test_loader)\n",
    "acc, f1"
   ]
  }
 ],
 "metadata": {
  "accelerator": "TPU",
  "colab": {
   "name": "torch_cnn_classifier.ipynb",
   "provenance": []
  },
  "environment": {
   "name": "pytorch-gpu.1-9.m75",
   "type": "gcloud",
   "uri": "gcr.io/deeplearning-platform-release/pytorch-gpu.1-9:m75"
  },
  "interpreter": {
   "hash": "9828b828580f1cac1b571b33de6cff8bacecc8916095e1bcbc967952ca7105b7"
  },
  "kernelspec": {
   "display_name": "Python 3",
   "name": "python3"
  },
  "language_info": {
   "codemirror_mode": {
    "name": "ipython",
    "version": 3
   },
   "file_extension": ".py",
   "mimetype": "text/x-python",
   "name": "python",
   "nbconvert_exporter": "python",
   "pygments_lexer": "ipython3",
   "version": "3.8.9"
  },
  "papermill": {
   "default_parameters": {},
   "duration": 1351.841668,
   "end_time": "2022-01-11T11:03:02.183225",
   "environment_variables": {},
   "exception": null,
   "input_path": "torch_cnn.ipynb",
   "output_path": "../torch_cnn_experiments/demo_human_or_worm_character.ipynb",
   "parameters": {
    "DATASET": "demo_human_or_worm",
    "TOKENIZER": "character"
   },
   "start_time": "2022-01-11T10:40:30.341557",
   "version": "2.3.3"
  }
 },
 "nbformat": 4,
 "nbformat_minor": 5
}