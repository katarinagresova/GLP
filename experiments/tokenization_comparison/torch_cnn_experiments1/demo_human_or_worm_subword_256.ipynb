{
 "cells": [
  {
   "cell_type": "markdown",
   "id": "9eb50067",
   "metadata": {
    "id": "SKOD9lvq5kdM",
    "papermill": {
     "duration": 0.020522,
     "end_time": "2022-01-11T15:15:04.984432",
     "exception": false,
     "start_time": "2022-01-11T15:15:04.963910",
     "status": "completed"
    },
    "tags": []
   },
   "source": [
    "# PYTORCH CNN Classifier"
   ]
  },
  {
   "cell_type": "code",
   "execution_count": 1,
   "id": "be8ba434",
   "metadata": {
    "execution": {
     "iopub.execute_input": "2022-01-11T15:15:05.030446Z",
     "iopub.status.busy": "2022-01-11T15:15:05.029442Z",
     "iopub.status.idle": "2022-01-11T15:15:05.033558Z",
     "shell.execute_reply": "2022-01-11T15:15:05.034082Z"
    },
    "id": "E8prt3AL5kdO",
    "papermill": {
     "duration": 0.033249,
     "end_time": "2022-01-11T15:15:05.034367",
     "exception": false,
     "start_time": "2022-01-11T15:15:05.001118",
     "status": "completed"
    },
    "tags": [
     "parameters"
    ]
   },
   "outputs": [],
   "source": [
    "DATASET = 'none'\n",
    "VOCAB_SIZE = 0\n",
    "TOKENIZER = 'none'\n",
    "KMER = 0"
   ]
  },
  {
   "cell_type": "code",
   "execution_count": 2,
   "id": "f138b3d7",
   "metadata": {
    "execution": {
     "iopub.execute_input": "2022-01-11T15:15:05.069786Z",
     "iopub.status.busy": "2022-01-11T15:15:05.069013Z",
     "iopub.status.idle": "2022-01-11T15:15:05.070939Z",
     "shell.execute_reply": "2022-01-11T15:15:05.071659Z"
    },
    "papermill": {
     "duration": 0.02326,
     "end_time": "2022-01-11T15:15:05.071856",
     "exception": false,
     "start_time": "2022-01-11T15:15:05.048596",
     "status": "completed"
    },
    "tags": [
     "injected-parameters"
    ]
   },
   "outputs": [],
   "source": [
    "# Parameters\n",
    "DATASET = \"demo_human_or_worm\"\n",
    "TOKENIZER = \"subword\"\n",
    "VOCAB_SIZE = 256\n"
   ]
  },
  {
   "cell_type": "code",
   "execution_count": 3,
   "id": "24f2922f",
   "metadata": {
    "colab": {
     "base_uri": "https://localhost:8080/"
    },
    "execution": {
     "iopub.execute_input": "2022-01-11T15:15:05.105021Z",
     "iopub.status.busy": "2022-01-11T15:15:05.104283Z",
     "iopub.status.idle": "2022-01-11T15:15:05.107800Z",
     "shell.execute_reply": "2022-01-11T15:15:05.108376Z"
    },
    "id": "rohBItfR5kdP",
    "outputId": "7da7aafe-0858-48be-bf7d-f698784d88df",
    "papermill": {
     "duration": 0.021864,
     "end_time": "2022-01-11T15:15:05.108576",
     "exception": false,
     "start_time": "2022-01-11T15:15:05.086712",
     "status": "completed"
    },
    "tags": []
   },
   "outputs": [
    {
     "name": "stdout",
     "output_type": "stream",
     "text": [
      "demo_human_or_worm 256 subword 0\n"
     ]
    }
   ],
   "source": [
    "print(DATASET, VOCAB_SIZE, TOKENIZER, KMER)"
   ]
  },
  {
   "cell_type": "markdown",
   "id": "3b3bf30f",
   "metadata": {
    "id": "Y-YQrVyb5kdQ",
    "papermill": {
     "duration": 0.016234,
     "end_time": "2022-01-11T15:15:05.138967",
     "exception": false,
     "start_time": "2022-01-11T15:15:05.122733",
     "status": "completed"
    },
    "tags": []
   },
   "source": [
    "## Config"
   ]
  },
  {
   "cell_type": "code",
   "execution_count": 4,
   "id": "8a1e2164",
   "metadata": {
    "execution": {
     "iopub.execute_input": "2022-01-11T15:15:05.174080Z",
     "iopub.status.busy": "2022-01-11T15:15:05.173148Z",
     "iopub.status.idle": "2022-01-11T15:15:07.089945Z",
     "shell.execute_reply": "2022-01-11T15:15:07.090477Z"
    },
    "id": "FIunuyGk5kdR",
    "papermill": {
     "duration": 1.936697,
     "end_time": "2022-01-11T15:15:07.090737",
     "exception": false,
     "start_time": "2022-01-11T15:15:05.154040",
     "status": "completed"
    },
    "tags": []
   },
   "outputs": [],
   "source": [
    "import torch\n",
    "from torch.utils.data import DataLoader\n",
    "\n",
    "from genomic_benchmarks.dataset_getters.pytorch_datasets import get_dataset\n",
    "from glp.models import CNN\n",
    "from glp.tokenizers import get_tokenizer\n",
    "from glp.tokenizers.utils import build_vocab, coll_factory, check_config, check_seq_lengths"
   ]
  },
  {
   "cell_type": "code",
   "execution_count": 5,
   "id": "ffeebacc",
   "metadata": {
    "execution": {
     "iopub.execute_input": "2022-01-11T15:15:07.157122Z",
     "iopub.status.busy": "2022-01-11T15:15:07.155821Z",
     "iopub.status.idle": "2022-01-11T15:15:07.158709Z",
     "shell.execute_reply": "2022-01-11T15:15:07.160323Z"
    },
    "id": "UgXiF6Zz5kdR",
    "papermill": {
     "duration": 0.045858,
     "end_time": "2022-01-11T15:15:07.160552",
     "exception": false,
     "start_time": "2022-01-11T15:15:07.114694",
     "status": "completed"
    },
    "tags": []
   },
   "outputs": [],
   "source": [
    "config = {\n",
    "    \"dataset\": DATASET,\n",
    "    \"tokenizer\": TOKENIZER,\n",
    "    \"dataset_version\": 0,\n",
    "    \"epochs\": 5,\n",
    "    \"batch_size\": 32,\n",
    "    \"use_padding\": True,\n",
    "    \"force_download\": False,\n",
    "    \"run_on_gpu\": True,\n",
    "    \"number_of_classes\": 2,\n",
    "    \"embedding_dim\": 100,\n",
    "}\n",
    "check_config(config)"
   ]
  },
  {
   "cell_type": "markdown",
   "id": "326bd2ff",
   "metadata": {
    "id": "AUWF-avz5kdS",
    "papermill": {
     "duration": 0.025241,
     "end_time": "2022-01-11T15:15:07.203173",
     "exception": false,
     "start_time": "2022-01-11T15:15:07.177932",
     "status": "completed"
    },
    "tags": []
   },
   "source": [
    "## Choose the dataset"
   ]
  },
  {
   "cell_type": "code",
   "execution_count": 6,
   "id": "43c02759",
   "metadata": {
    "colab": {
     "base_uri": "https://localhost:8080/"
    },
    "execution": {
     "iopub.execute_input": "2022-01-11T15:15:07.253149Z",
     "iopub.status.busy": "2022-01-11T15:15:07.251966Z",
     "iopub.status.idle": "2022-01-11T15:15:08.136351Z",
     "shell.execute_reply": "2022-01-11T15:15:08.137917Z"
    },
    "id": "1oaryDJr5kdS",
    "outputId": "6a425df9-4092-4601-9cd9-f61d524b6278",
    "papermill": {
     "duration": 0.916736,
     "end_time": "2022-01-11T15:15:08.138294",
     "exception": false,
     "start_time": "2022-01-11T15:15:07.221558",
     "status": "completed"
    },
    "tags": []
   },
   "outputs": [],
   "source": [
    "train_dset = get_dataset(config[\"dataset\"], 'train')"
   ]
  },
  {
   "cell_type": "markdown",
   "id": "dd86e127",
   "metadata": {
    "id": "B0lqmy935kdS",
    "papermill": {
     "duration": 0.079485,
     "end_time": "2022-01-11T15:15:08.250015",
     "exception": false,
     "start_time": "2022-01-11T15:15:08.170530",
     "status": "completed"
    },
    "tags": []
   },
   "source": [
    "## Tokenizer and vocab"
   ]
  },
  {
   "cell_type": "code",
   "execution_count": 7,
   "id": "fa22eab9",
   "metadata": {
    "colab": {
     "base_uri": "https://localhost:8080/"
    },
    "execution": {
     "iopub.execute_input": "2022-01-11T15:15:08.331805Z",
     "iopub.status.busy": "2022-01-11T15:15:08.329464Z",
     "iopub.status.idle": "2022-01-11T15:34:02.576680Z",
     "shell.execute_reply": "2022-01-11T15:34:02.577405Z"
    },
    "id": "NY_zualp5kdT",
    "outputId": "9034d65f-2f9a-4c83-a314-13d3b808fc65",
    "papermill": {
     "duration": 1134.29734,
     "end_time": "2022-01-11T15:34:02.578121",
     "exception": false,
     "start_time": "2022-01-11T15:15:08.280781",
     "status": "completed"
    },
    "tags": []
   },
   "outputs": [
    {
     "name": "stderr",
     "output_type": "stream",
     "text": [
      "sentencepiece_trainer.cc(177) LOG(INFO) Running command: --input=sample.csv --model_prefix=sample --vocab_size=256 --model_type=unigram\n",
      "sentencepiece_trainer.cc(77) LOG(INFO) Starts training with : \n",
      "trainer_spec {\n",
      "  input: sample.csv\n",
      "  input_format: \n",
      "  model_prefix: sample\n",
      "  model_type: UNIGRAM\n",
      "  vocab_size: 256\n",
      "  self_test_sample_size: 0\n",
      "  character_coverage: 0.9995\n",
      "  input_sentence_size: 0\n",
      "  shuffle_input_sentence: 1\n",
      "  seed_sentencepiece_size: 1000000\n",
      "  shrinking_factor: 0.75\n",
      "  max_sentence_length: 4192\n",
      "  num_threads: 16\n",
      "  num_sub_iterations: 2\n",
      "  max_sentencepiece_length: 16\n",
      "  split_by_unicode_script: 1\n",
      "  split_by_number: 1\n",
      "  split_by_whitespace: 1\n",
      "  split_digits: 0\n",
      "  treat_whitespace_as_suffix: 0\n",
      "  required_chars: \n",
      "  byte_fallback: 0\n",
      "  vocabulary_output_piece_score: 1\n",
      "  train_extremely_large_corpus: 0\n",
      "  hard_vocab_limit: 1\n",
      "  use_all_vocab: 0\n",
      "  unk_id: 0\n",
      "  bos_id: 1\n",
      "  eos_id: 2\n",
      "  pad_id: -1\n",
      "  unk_piece: <unk>\n",
      "  bos_piece: <s>\n",
      "  eos_piece: </s>\n",
      "  pad_piece: <pad>\n",
      "  unk_surface:  ⁇ \n",
      "}\n",
      "normalizer_spec {\n",
      "  name: nmt_nfkc\n",
      "  add_dummy_prefix: 1\n",
      "  remove_extra_whitespaces: 1\n",
      "  escape_whitespaces: 1\n",
      "  normalization_rule_tsv: \n",
      "}\n",
      "denormalizer_spec {}\n",
      "trainer_interface.cc(319) LOG(INFO) SentenceIterator is not specified. Using MultiFileSentenceIterator.\n",
      "trainer_interface.cc(174) LOG(INFO) Loading corpus: sample.csv\n",
      "trainer_interface.cc(375) LOG(INFO) Loaded all 75000 sentences\n",
      "trainer_interface.cc(390) LOG(INFO) Adding meta_piece: <unk>\n",
      "trainer_interface.cc(390) LOG(INFO) Adding meta_piece: <s>\n",
      "trainer_interface.cc(390) LOG(INFO) Adding meta_piece: </s>\n",
      "trainer_interface.cc(395) LOG(INFO) Normalizing sentences...\n"
     ]
    },
    {
     "name": "stderr",
     "output_type": "stream",
     "text": [
      "trainer_interface.cc(456) LOG(INFO) all chars count=15074802\n",
      "trainer_interface.cc(467) LOG(INFO) Done: 100% characters are covered.\n",
      "trainer_interface.cc(477) LOG(INFO) Alphabet size=6\n",
      "trainer_interface.cc(478) LOG(INFO) Final character coverage=1\n"
     ]
    },
    {
     "name": "stderr",
     "output_type": "stream",
     "text": [
      "trainer_interface.cc(510) LOG(INFO) Done! preprocessed 75000 sentences.\n"
     ]
    },
    {
     "name": "stderr",
     "output_type": "stream",
     "text": [
      "unigram_model_trainer.cc(138) LOG(INFO) Making suffix array...\n"
     ]
    },
    {
     "name": "stderr",
     "output_type": "stream",
     "text": [
      "unigram_model_trainer.cc(142) LOG(INFO) Extracting frequent sub strings...\n"
     ]
    },
    {
     "name": "stderr",
     "output_type": "stream",
     "text": [
      "unigram_model_trainer.cc(193) LOG(INFO) Initialized 1000000 seed sentencepieces\n"
     ]
    },
    {
     "name": "stderr",
     "output_type": "stream",
     "text": [
      "trainer_interface.cc(516) LOG(INFO) Tokenizing input sentences with whitespace: 75000\n"
     ]
    },
    {
     "name": "stderr",
     "output_type": "stream",
     "text": [
      "trainer_interface.cc(526) LOG(INFO) Done! 73109\n",
      "unigram_model_trainer.cc(488) LOG(INFO) Using 73109 sentences for EM training\n"
     ]
    },
    {
     "name": "stderr",
     "output_type": "stream",
     "text": [
      "unigram_model_trainer.cc(504) LOG(INFO) EM sub_iter=0 size=615634 obj=263.975 num_tokens=1523674 num_tokens/piece=2.47497\n"
     ]
    },
    {
     "name": "stderr",
     "output_type": "stream",
     "text": [
      "unigram_model_trainer.cc(504) LOG(INFO) EM sub_iter=1 size=432903 obj=264.111 num_tokens=1607807 num_tokens/piece=3.71401\n"
     ]
    },
    {
     "name": "stderr",
     "output_type": "stream",
     "text": [
      "unigram_model_trainer.cc(504) LOG(INFO) EM sub_iter=0 size=280345 obj=263.272 num_tokens=1662269 num_tokens/piece=5.92937\n"
     ]
    },
    {
     "name": "stderr",
     "output_type": "stream",
     "text": [
      "unigram_model_trainer.cc(504) LOG(INFO) EM sub_iter=1 size=255347 obj=260.477 num_tokens=1694304 num_tokens/piece=6.6353\n"
     ]
    },
    {
     "name": "stderr",
     "output_type": "stream",
     "text": [
      "unigram_model_trainer.cc(504) LOG(INFO) EM sub_iter=0 size=188520 obj=261.101 num_tokens=1730663 num_tokens/piece=9.18026\n"
     ]
    },
    {
     "name": "stderr",
     "output_type": "stream",
     "text": [
      "unigram_model_trainer.cc(504) LOG(INFO) EM sub_iter=1 size=183877 obj=259.479 num_tokens=1741958 num_tokens/piece=9.4735\n"
     ]
    },
    {
     "name": "stderr",
     "output_type": "stream",
     "text": [
      "unigram_model_trainer.cc(504) LOG(INFO) EM sub_iter=0 size=137880 obj=260.582 num_tokens=1779032 num_tokens/piece=12.9028\n"
     ]
    },
    {
     "name": "stderr",
     "output_type": "stream",
     "text": [
      "unigram_model_trainer.cc(504) LOG(INFO) EM sub_iter=1 size=137706 obj=259.09 num_tokens=1782251 num_tokens/piece=12.9424\n"
     ]
    },
    {
     "name": "stderr",
     "output_type": "stream",
     "text": [
      "unigram_model_trainer.cc(504) LOG(INFO) EM sub_iter=0 size=103277 obj=261.112 num_tokens=1830635 num_tokens/piece=17.7255\n"
     ]
    },
    {
     "name": "stderr",
     "output_type": "stream",
     "text": [
      "unigram_model_trainer.cc(504) LOG(INFO) EM sub_iter=1 size=103270 obj=259.064 num_tokens=1831554 num_tokens/piece=17.7356\n"
     ]
    },
    {
     "name": "stderr",
     "output_type": "stream",
     "text": [
      "unigram_model_trainer.cc(504) LOG(INFO) EM sub_iter=0 size=77451 obj=261.748 num_tokens=1888857 num_tokens/piece=24.3878\n"
     ]
    },
    {
     "name": "stderr",
     "output_type": "stream",
     "text": [
      "unigram_model_trainer.cc(504) LOG(INFO) EM sub_iter=1 size=77449 obj=259.449 num_tokens=1889327 num_tokens/piece=24.3945\n"
     ]
    },
    {
     "name": "stderr",
     "output_type": "stream",
     "text": [
      "unigram_model_trainer.cc(504) LOG(INFO) EM sub_iter=0 size=58086 obj=262.394 num_tokens=1948317 num_tokens/piece=33.5419\n"
     ]
    },
    {
     "name": "stderr",
     "output_type": "stream",
     "text": [
      "unigram_model_trainer.cc(504) LOG(INFO) EM sub_iter=1 size=58085 obj=260.069 num_tokens=1948788 num_tokens/piece=33.5506\n"
     ]
    },
    {
     "name": "stderr",
     "output_type": "stream",
     "text": [
      "unigram_model_trainer.cc(504) LOG(INFO) EM sub_iter=0 size=43563 obj=263.026 num_tokens=2006108 num_tokens/piece=46.0507\n"
     ]
    },
    {
     "name": "stderr",
     "output_type": "stream",
     "text": [
      "unigram_model_trainer.cc(504) LOG(INFO) EM sub_iter=1 size=43563 obj=260.849 num_tokens=2006704 num_tokens/piece=46.0644\n"
     ]
    },
    {
     "name": "stderr",
     "output_type": "stream",
     "text": [
      "unigram_model_trainer.cc(504) LOG(INFO) EM sub_iter=0 size=32672 obj=263.668 num_tokens=2062112 num_tokens/piece=63.1156\n"
     ]
    },
    {
     "name": "stderr",
     "output_type": "stream",
     "text": [
      "unigram_model_trainer.cc(504) LOG(INFO) EM sub_iter=1 size=32672 obj=261.603 num_tokens=2062878 num_tokens/piece=63.139\n"
     ]
    },
    {
     "name": "stderr",
     "output_type": "stream",
     "text": [
      "unigram_model_trainer.cc(504) LOG(INFO) EM sub_iter=0 size=24504 obj=264.388 num_tokens=2120186 num_tokens/piece=86.5241\n"
     ]
    },
    {
     "name": "stderr",
     "output_type": "stream",
     "text": [
      "unigram_model_trainer.cc(504) LOG(INFO) EM sub_iter=1 size=24504 obj=262.356 num_tokens=2120966 num_tokens/piece=86.5559\n"
     ]
    },
    {
     "name": "stderr",
     "output_type": "stream",
     "text": [
      "unigram_model_trainer.cc(504) LOG(INFO) EM sub_iter=0 size=18378 obj=265.228 num_tokens=2182532 num_tokens/piece=118.758\n"
     ]
    },
    {
     "name": "stderr",
     "output_type": "stream",
     "text": [
      "unigram_model_trainer.cc(504) LOG(INFO) EM sub_iter=1 size=18378 obj=263.091 num_tokens=2183241 num_tokens/piece=118.796\n"
     ]
    },
    {
     "name": "stderr",
     "output_type": "stream",
     "text": [
      "unigram_model_trainer.cc(504) LOG(INFO) EM sub_iter=0 size=13783 obj=266.021 num_tokens=2247574 num_tokens/piece=163.069\n"
     ]
    },
    {
     "name": "stderr",
     "output_type": "stream",
     "text": [
      "unigram_model_trainer.cc(504) LOG(INFO) EM sub_iter=1 size=13783 obj=263.682 num_tokens=2248379 num_tokens/piece=163.127\n"
     ]
    },
    {
     "name": "stderr",
     "output_type": "stream",
     "text": [
      "unigram_model_trainer.cc(504) LOG(INFO) EM sub_iter=0 size=10337 obj=266.68 num_tokens=2317782 num_tokens/piece=224.222\n"
     ]
    },
    {
     "name": "stderr",
     "output_type": "stream",
     "text": [
      "unigram_model_trainer.cc(504) LOG(INFO) EM sub_iter=1 size=10337 obj=264.216 num_tokens=2318537 num_tokens/piece=224.295\n"
     ]
    },
    {
     "name": "stderr",
     "output_type": "stream",
     "text": [
      "unigram_model_trainer.cc(504) LOG(INFO) EM sub_iter=0 size=7752 obj=267.335 num_tokens=2392945 num_tokens/piece=308.687\n"
     ]
    },
    {
     "name": "stderr",
     "output_type": "stream",
     "text": [
      "unigram_model_trainer.cc(504) LOG(INFO) EM sub_iter=1 size=7752 obj=264.662 num_tokens=2393924 num_tokens/piece=308.814\n"
     ]
    },
    {
     "name": "stderr",
     "output_type": "stream",
     "text": [
      "unigram_model_trainer.cc(504) LOG(INFO) EM sub_iter=0 size=5814 obj=268.043 num_tokens=2472700 num_tokens/piece=425.301\n"
     ]
    },
    {
     "name": "stderr",
     "output_type": "stream",
     "text": [
      "unigram_model_trainer.cc(504) LOG(INFO) EM sub_iter=1 size=5814 obj=265.154 num_tokens=2473779 num_tokens/piece=425.487\n"
     ]
    },
    {
     "name": "stderr",
     "output_type": "stream",
     "text": [
      "unigram_model_trainer.cc(504) LOG(INFO) EM sub_iter=0 size=4360 obj=268.791 num_tokens=2557988 num_tokens/piece=586.694\n"
     ]
    },
    {
     "name": "stderr",
     "output_type": "stream",
     "text": [
      "unigram_model_trainer.cc(504) LOG(INFO) EM sub_iter=1 size=4360 obj=265.678 num_tokens=2558917 num_tokens/piece=586.908\n"
     ]
    },
    {
     "name": "stderr",
     "output_type": "stream",
     "text": [
      "unigram_model_trainer.cc(504) LOG(INFO) EM sub_iter=0 size=3270 obj=269.693 num_tokens=2650996 num_tokens/piece=810.702\n"
     ]
    },
    {
     "name": "stderr",
     "output_type": "stream",
     "text": [
      "unigram_model_trainer.cc(504) LOG(INFO) EM sub_iter=1 size=3270 obj=266.096 num_tokens=2652193 num_tokens/piece=811.068\n"
     ]
    },
    {
     "name": "stderr",
     "output_type": "stream",
     "text": [
      "unigram_model_trainer.cc(504) LOG(INFO) EM sub_iter=0 size=2452 obj=270.515 num_tokens=2751192 num_tokens/piece=1122.02\n"
     ]
    },
    {
     "name": "stderr",
     "output_type": "stream",
     "text": [
      "unigram_model_trainer.cc(504) LOG(INFO) EM sub_iter=1 size=2452 obj=266.522 num_tokens=2752409 num_tokens/piece=1122.52\n"
     ]
    },
    {
     "name": "stderr",
     "output_type": "stream",
     "text": [
      "unigram_model_trainer.cc(504) LOG(INFO) EM sub_iter=0 size=1839 obj=270.958 num_tokens=2854434 num_tokens/piece=1552.17\n"
     ]
    },
    {
     "name": "stderr",
     "output_type": "stream",
     "text": [
      "unigram_model_trainer.cc(504) LOG(INFO) EM sub_iter=1 size=1839 obj=266.785 num_tokens=2855582 num_tokens/piece=1552.79\n"
     ]
    },
    {
     "name": "stderr",
     "output_type": "stream",
     "text": [
      "unigram_model_trainer.cc(504) LOG(INFO) EM sub_iter=0 size=1379 obj=272.786 num_tokens=2964765 num_tokens/piece=2149.94\n"
     ]
    },
    {
     "name": "stderr",
     "output_type": "stream",
     "text": [
      "unigram_model_trainer.cc(504) LOG(INFO) EM sub_iter=1 size=1379 obj=267.191 num_tokens=2965693 num_tokens/piece=2150.61\n"
     ]
    },
    {
     "name": "stderr",
     "output_type": "stream",
     "text": [
      "unigram_model_trainer.cc(504) LOG(INFO) EM sub_iter=0 size=1034 obj=273.21 num_tokens=3085015 num_tokens/piece=2983.57\n"
     ]
    },
    {
     "name": "stderr",
     "output_type": "stream",
     "text": [
      "unigram_model_trainer.cc(504) LOG(INFO) EM sub_iter=1 size=1034 obj=267.494 num_tokens=3086021 num_tokens/piece=2984.55\n"
     ]
    },
    {
     "name": "stderr",
     "output_type": "stream",
     "text": [
      "unigram_model_trainer.cc(504) LOG(INFO) EM sub_iter=0 size=775 obj=274.61 num_tokens=3215223 num_tokens/piece=4148.67\n"
     ]
    },
    {
     "name": "stderr",
     "output_type": "stream",
     "text": [
      "unigram_model_trainer.cc(504) LOG(INFO) EM sub_iter=1 size=775 obj=267.869 num_tokens=3216378 num_tokens/piece=4150.17\n"
     ]
    },
    {
     "name": "stderr",
     "output_type": "stream",
     "text": [
      "unigram_model_trainer.cc(504) LOG(INFO) EM sub_iter=0 size=581 obj=274.127 num_tokens=3366989 num_tokens/piece=5795.16\n"
     ]
    },
    {
     "name": "stderr",
     "output_type": "stream",
     "text": [
      "unigram_model_trainer.cc(504) LOG(INFO) EM sub_iter=1 size=581 obj=268.052 num_tokens=3368462 num_tokens/piece=5797.7\n"
     ]
    },
    {
     "name": "stderr",
     "output_type": "stream",
     "text": [
      "unigram_model_trainer.cc(504) LOG(INFO) EM sub_iter=0 size=435 obj=274.708 num_tokens=3533024 num_tokens/piece=8121.89\n"
     ]
    },
    {
     "name": "stderr",
     "output_type": "stream",
     "text": [
      "unigram_model_trainer.cc(504) LOG(INFO) EM sub_iter=1 size=435 obj=268.287 num_tokens=3535366 num_tokens/piece=8127.28\n"
     ]
    },
    {
     "name": "stderr",
     "output_type": "stream",
     "text": [
      "unigram_model_trainer.cc(504) LOG(INFO) EM sub_iter=0 size=326 obj=274.986 num_tokens=3712883 num_tokens/piece=11389.2\n"
     ]
    },
    {
     "name": "stderr",
     "output_type": "stream",
     "text": [
      "unigram_model_trainer.cc(504) LOG(INFO) EM sub_iter=1 size=326 obj=268.57 num_tokens=3716418 num_tokens/piece=11400.1\n"
     ]
    },
    {
     "name": "stderr",
     "output_type": "stream",
     "text": [
      "unigram_model_trainer.cc(504) LOG(INFO) EM sub_iter=0 size=281 obj=271.557 num_tokens=3819861 num_tokens/piece=13593.8\n"
     ]
    },
    {
     "name": "stderr",
     "output_type": "stream",
     "text": [
      "unigram_model_trainer.cc(504) LOG(INFO) EM sub_iter=1 size=281 obj=268.553 num_tokens=3825213 num_tokens/piece=13612.9\n",
      "trainer_interface.cc(604) LOG(INFO) Saving model: sample.model\n",
      "trainer_interface.cc(615) LOG(INFO) Saving vocabs: sample.vocab\n"
     ]
    },
    {
     "name": "stdout",
     "output_type": "stream",
     "text": [
      "vocab len: 255\n",
      "{'A': 250, 'AGATG': 248, 'C': 247, 'CACC': 246, 'AGGT': 245, 'GGAAG': 244, 'AATGA': 243, 'TTAC': 242, 'TTCTT': 241, 'ACTG': 240, 'CACT': 239, 'CCAG': 238, 'GTGG': 249, 'GGTA': 234, 'TCCC': 231, 'AAAAAA': 223, 'TCTTT': 222, 'ATTTG': 221, 'CTCC': 219, 'GAG': 218, 'CTG': 217, 'CTTTT': 215, 'GTTC': 214, 'GAGC': 212, 'TGGC': 211, 'GGA': 210, 'CCCC': 209, 'AAT': 208, 'TGTT': 207, 'TGGA': 206, 'TCT': 205, 'CTGC': 237, 'TTT': 204, 'GGGA': 203, 'GTCA': 201, 'ACG': 199, 'CAGC': 198, 'CAAT': 25, 'ATCA': 193, 'TCTA': 192, 'TCAC': 190, 'GT': 160, 'TCTG': 189, 'AGGC': 184, 'GCC': 150, 'TTC': 182, 'TCAA': 179, 'CAT': 178, 'AGTC': 93, 'GTTA': 176, 'AAAGT': 175, 'ATATT': 172, 'GCCTG': 251, 'TGCC': 171, 'GCTC': 224, 'ATGA': 170, 'TTTGG': 168, 'GAAGA': 167, 'AAGC': 185, 'AAG': 114, 'AAAA': 164, 'GAAAA': 100, 'TCTTC': 159, 'ATAC': 158, 'TTTGC': 166, 'TTAG': 155, 'TTAT': 220, 'TTTCA': 154, 'GGTT': 183, 'CAGG': 153, 'AATTG': 152, 'TAAT': 151, 'AATA': 148, 'G': 145, 'ATTTTT': 165, 'CGT': 163, 'GTAG': 143, 'TTGAA': 142, 'CTGA': 140, 'GGCA': 139, 'AAAC': 141, 'AAATG': 138, 'CTAG': 232, 'ACT': 58, 'TGG': 137, 'TGC': 136, 'AGA': 40, 'AGTT': 134, 'ACAA': 147, 'ATTTC': 30, 'GATA': 131, 'CAAG': 38, 'GACA': 173, 'CAAAA': 117, 'TTAAA': 44, 'ATAT': 130, 'AGAAG': 128, 'AGAAA': 115, 'TTTC': 124, 'GTTT': 186, 'TTTT': 4, 'ACAG': 48, 'TGAAA': 123, 'AAA': 196, 'ATC': 122, 'CAGT': 169, 'GAAT': 57, 'TAAA': 84, 'GTTG': 135, 'AAAATT': 121, 'TTATT': 119, '<unk>': 0, 'TAC': 118, 'AAAAA': 116, 'GCT': 110, 'GCAG': 156, 'TACA': 112, 'TGAC': 111, 'TCG': 109, 'AGAG': 177, 'CAAC': 108, 'TTTAA': 20, 'AATT': 103, 'TTCT': 202, 'GGC': 102, 'GTCT': 99, 'ACCT': 98, 'GGAG': 97, 'GCTG': 187, 'CGA': 96, 'GCAT': 127, 'CTC': 95, 'AAAT': 19, 'AAAAT': 39, 'TGCT': 113, 'GTG': 94, 'AGGA': 26, 'TCC': 88, 'TATG': 229, 'GAGA': 146, 'CCG': 82, 'TTCC': 106, 'ATA': 2, 'CCAC': 81, 'TCA': 70, 'CCC': 80, 'CTTCT': 10, 'CATC': 78, 'GGT': 161, 'CCTC': 61, 'CTGG': 86, 'T': 75, 'AGAC': 59, 'TATTT': 63, 'TTTGT': 227, 'CCAA': 37, 'CCAT': 73, 'CCCAG': 225, 'AGC': 180, 'AACA': 53, 'TTCA': 79, 'TCAG': 104, 'TAA': 7, 'N': 252, 'AATGT': 228, 'TTTAT': 71, 'ACC': 92, 'TTA': 9, 'ATAA': 69, 'CTA': 68, 'GACT': 36, 'AGAA': 13, 'AAAAAT': 11, 'GAGT': 101, 'ATTTA': 67, 'TTTTC': 195, 'CTT': 45, 'GGCT': 235, 'TAT': 65, 'AGCT': 76, 'GAAA': 162, 'AAAG': 64, 'CAGA': 66, 'TGCA': 31, 'GCAC': 56, 'ATTC': 62, 'GCAAA': 157, 'TGAA': 149, 'TTTTT': 144, 'CGC': 105, 'ATT': 132, 'CATT': 91, 'GATT': 54, 'CAAAT': 42, 'TGTG': 90, 'TTG': 51, 'ACAAA': 89, 'GCG': 213, 'AAATT': 28, 'GAAAT': 236, 'CCT': 50, 'CAC': 5, 'GAAC': 49, 'TGAG': 77, 'CTGT': 200, 'TCTTG': 125, 'ATGT': 22, '<pad>': 254, 'AGTA': 17, 'TACT': 83, 'AACT': 27, 'CAG': 174, 'GAA': 72, 'GAGG': 230, 'ATG': 35, 'GTTTT': 126, 'CAA': 33, 'TGAT': 21, 'GGTG': 226, 'ATTAT': 34, 'GGAA': 129, 'TTTA': 41, 'TTTTTT': 29, 'AGTG': 74, 'GTAT': 133, 'TTTGA': 55, 'CATTT': 24, 'AAC': 216, 'ATTTT': 46, 'CCA': 197, 'CATA': 194, 'ACAC': 18, 'TGTC': 188, 'GGG': 14, 'ACCA': 87, 'GAT': 3, 'TAGT': 23, 'AGCA': 43, 'ACTTT': 32, 'TTTCT': 15, '▁': 1, 'AATTT': 60, 'CGG': 107, 'AGG': 181, 'ATCT': 120, 'CCCA': 47, 'CACAC': 233, 'TCTC': 191, 'TGA': 12, 'TGTA': 8, 'NNNNNNNNNNNNNNNN': 253, 'AATTTT': 52, 'TCCT': 85, 'ACAT': 16, 'CTAC': 6}\n"
     ]
    }
   ],
   "source": [
    "tokenizer = get_tokenizer(config['tokenizer'])\n",
    "tokenizer.train(train_dset=train_dset, vocab_size=VOCAB_SIZE, kmer=KMER)\n",
    "vocabulary = build_vocab(train_dset, tokenizer, use_padding=config[\"use_padding\"])\n",
    "\n",
    "print(\"vocab len:\" ,vocabulary.__len__())\n",
    "print(vocabulary.get_stoi())"
   ]
  },
  {
   "cell_type": "markdown",
   "id": "aa826e99",
   "metadata": {
    "id": "3hGQpSJA5kdT",
    "papermill": {
     "duration": 0.03412,
     "end_time": "2022-01-11T15:34:02.649388",
     "exception": false,
     "start_time": "2022-01-11T15:34:02.615268",
     "status": "completed"
    },
    "tags": []
   },
   "source": [
    "## Dataloader and batch preparation"
   ]
  },
  {
   "cell_type": "code",
   "execution_count": 8,
   "id": "1402bb4f",
   "metadata": {
    "colab": {
     "base_uri": "https://localhost:8080/"
    },
    "execution": {
     "iopub.execute_input": "2022-01-11T15:34:02.730356Z",
     "iopub.status.busy": "2022-01-11T15:34:02.729241Z",
     "iopub.status.idle": "2022-01-11T15:35:01.087927Z",
     "shell.execute_reply": "2022-01-11T15:35:01.087223Z"
    },
    "id": "gXUgPH6q5kdT",
    "outputId": "a1eb6ba2-9bcd-416d-8662-e3516121da96",
    "papermill": {
     "duration": 58.40296,
     "end_time": "2022-01-11T15:35:01.088144",
     "exception": false,
     "start_time": "2022-01-11T15:34:02.685184",
     "status": "completed"
    },
    "tags": []
   },
   "outputs": [
    {
     "name": "stdout",
     "output_type": "stream",
     "text": [
      "Using cpu device\n"
     ]
    },
    {
     "name": "stdout",
     "output_type": "stream",
     "text": [
      "max_tok_len  68\n"
     ]
    },
    {
     "name": "stdout",
     "output_type": "stream",
     "text": [
      "not all sequences are of the same length\n"
     ]
    }
   ],
   "source": [
    "# Run on GPU or CPU\n",
    "device = 'cuda' if config[\"run_on_gpu\"] and torch.cuda.is_available() else 'cpu'\n",
    "print('Using {} device'.format(device))\n",
    "\n",
    "max_tok_len = check_seq_lengths(dataset=train_dset, tokenizer=tokenizer)\n",
    "\n",
    "# Data Loader\n",
    "collate = coll_factory(vocabulary, tokenizer, device, pad_to_length = max_tok_len)\n",
    "\n",
    "train_loader = DataLoader(train_dset, batch_size=config[\"batch_size\"], shuffle=True, collate_fn=collate)"
   ]
  },
  {
   "cell_type": "code",
   "execution_count": 9,
   "id": "90ba43dc",
   "metadata": {
    "execution": {
     "iopub.execute_input": "2022-01-11T15:35:01.181658Z",
     "iopub.status.busy": "2022-01-11T15:35:01.180874Z",
     "iopub.status.idle": "2022-01-11T15:35:01.197289Z",
     "shell.execute_reply": "2022-01-11T15:35:01.197788Z"
    },
    "papermill": {
     "duration": 0.066429,
     "end_time": "2022-01-11T15:35:01.198000",
     "exception": false,
     "start_time": "2022-01-11T15:35:01.131571",
     "status": "completed"
    },
    "tags": []
   },
   "outputs": [
    {
     "data": {
      "text/plain": [
       "['▁',\n",
       " 'TTAAA',\n",
       " 'CTT',\n",
       " 'TAA',\n",
       " 'ATTTT',\n",
       " 'CCCA',\n",
       " 'AACT',\n",
       " 'ACAG',\n",
       " 'GAAC',\n",
       " 'CCT',\n",
       " 'TTG',\n",
       " 'TTG',\n",
       " 'AATTTT',\n",
       " 'AACA',\n",
       " 'GATT',\n",
       " 'TTTGA',\n",
       " 'GCAC',\n",
       " 'GAAT',\n",
       " 'ACT',\n",
       " 'ACAT',\n",
       " 'TTTA',\n",
       " 'AGAC',\n",
       " 'AATTT',\n",
       " 'CCTC',\n",
       " 'ATTC',\n",
       " 'ATG',\n",
       " 'TTA',\n",
       " 'CTTCT',\n",
       " 'TATTT',\n",
       " 'AAAG',\n",
       " 'AAATT',\n",
       " 'TAT',\n",
       " 'CAGA',\n",
       " 'AATTT',\n",
       " 'ATTTA',\n",
       " 'TTG',\n",
       " 'AGGA',\n",
       " 'CTA',\n",
       " 'TGTA',\n",
       " 'ATAA',\n",
       " 'ACAT',\n",
       " 'TTTT',\n",
       " 'TAA',\n",
       " 'TCA',\n",
       " 'ACAT',\n",
       " 'CTT',\n",
       " 'TTTAT',\n",
       " 'GAA',\n",
       " 'CAAT',\n",
       " 'TGA',\n",
       " 'CCAT',\n",
       " 'AGTG']"
      ]
     },
     "execution_count": 9,
     "metadata": {},
     "output_type": "execute_result"
    }
   ],
   "source": [
    "tokenizer(train_dset[1][0])"
   ]
  },
  {
   "cell_type": "markdown",
   "id": "4b3319ac",
   "metadata": {
    "id": "sTTomnnP5kdU",
    "papermill": {
     "duration": 0.036883,
     "end_time": "2022-01-11T15:35:01.272259",
     "exception": false,
     "start_time": "2022-01-11T15:35:01.235376",
     "status": "completed"
    },
    "tags": []
   },
   "source": [
    "## Model"
   ]
  },
  {
   "cell_type": "code",
   "execution_count": 10,
   "id": "553e3606",
   "metadata": {
    "execution": {
     "iopub.execute_input": "2022-01-11T15:35:01.348982Z",
     "iopub.status.busy": "2022-01-11T15:35:01.348186Z",
     "iopub.status.idle": "2022-01-11T15:35:01.369619Z",
     "shell.execute_reply": "2022-01-11T15:35:01.369083Z"
    },
    "id": "ZNuXGIdD5kdU",
    "papermill": {
     "duration": 0.062629,
     "end_time": "2022-01-11T15:35:01.369808",
     "exception": false,
     "start_time": "2022-01-11T15:35:01.307179",
     "status": "completed"
    },
    "tags": []
   },
   "outputs": [],
   "source": [
    "model = CNN(\n",
    "    number_of_classes=config[\"number_of_classes\"],\n",
    "    vocab_size=vocabulary.__len__(),\n",
    "    embedding_dim=config[\"embedding_dim\"],\n",
    "    input_len=max_tok_len\n",
    ").to(device)"
   ]
  },
  {
   "cell_type": "markdown",
   "id": "93458cdb",
   "metadata": {
    "id": "1pqIm92h5kdV",
    "papermill": {
     "duration": 0.035576,
     "end_time": "2022-01-11T15:35:01.440421",
     "exception": false,
     "start_time": "2022-01-11T15:35:01.404845",
     "status": "completed"
    },
    "tags": []
   },
   "source": [
    "## Training"
   ]
  },
  {
   "cell_type": "code",
   "execution_count": 11,
   "id": "2f546e86",
   "metadata": {
    "colab": {
     "base_uri": "https://localhost:8080/"
    },
    "execution": {
     "iopub.execute_input": "2022-01-11T15:35:01.517827Z",
     "iopub.status.busy": "2022-01-11T15:35:01.517091Z",
     "iopub.status.idle": "2022-01-11T15:48:00.686764Z",
     "shell.execute_reply": "2022-01-11T15:48:00.687493Z"
    },
    "id": "uvO_-RFm5kdV",
    "outputId": "7799e5f9-78a7-4ef2-95e8-f06751912eda",
    "papermill": {
     "duration": 779.212136,
     "end_time": "2022-01-11T15:48:00.687705",
     "exception": false,
     "start_time": "2022-01-11T15:35:01.475569",
     "status": "completed"
    },
    "tags": []
   },
   "outputs": [
    {
     "name": "stdout",
     "output_type": "stream",
     "text": [
      "Epoch 0\n"
     ]
    },
    {
     "name": "stderr",
     "output_type": "stream",
     "text": [
      "/Users/katarina/Documents/repositories/GitHub/GLP/src/glp/tokenizers/utils.py:27: UserWarning: To copy construct from a tensor, it is recommended to use sourceTensor.clone().detach() or sourceTensor.clone().detach().requires_grad_(True), rather than torch.tensor(sourceTensor).\n",
      "  x = torch.tensor(pad(x), dtype=torch.long)\n"
     ]
    },
    {
     "name": "stdout",
     "output_type": "stream",
     "text": [
      "Train metrics: \n",
      " Accuracy: 88.1%, Avg loss: 0.561074 \n",
      "\n",
      "Epoch 1\n"
     ]
    },
    {
     "name": "stdout",
     "output_type": "stream",
     "text": [
      "Train metrics: \n",
      " Accuracy: 88.2%, Avg loss: 0.558167 \n",
      "\n",
      "Epoch 2\n"
     ]
    },
    {
     "name": "stdout",
     "output_type": "stream",
     "text": [
      "Train metrics: \n",
      " Accuracy: 88.1%, Avg loss: 0.556364 \n",
      "\n",
      "Epoch 3\n"
     ]
    },
    {
     "name": "stdout",
     "output_type": "stream",
     "text": [
      "Train metrics: \n",
      " Accuracy: 88.3%, Avg loss: 0.554653 \n",
      "\n",
      "Epoch 4\n"
     ]
    },
    {
     "name": "stdout",
     "output_type": "stream",
     "text": [
      "Train metrics: \n",
      " Accuracy: 90.1%, Avg loss: 0.549664 \n",
      "\n"
     ]
    }
   ],
   "source": [
    "model.train(train_loader, epochs=config[\"epochs\"])"
   ]
  },
  {
   "cell_type": "markdown",
   "id": "30c38aa2",
   "metadata": {
    "id": "bR2tamrc5kdV",
    "papermill": {
     "duration": 0.046374,
     "end_time": "2022-01-11T15:48:00.773567",
     "exception": false,
     "start_time": "2022-01-11T15:48:00.727193",
     "status": "completed"
    },
    "tags": []
   },
   "source": [
    "## Testing"
   ]
  },
  {
   "cell_type": "code",
   "execution_count": 12,
   "id": "cc059b13",
   "metadata": {
    "colab": {
     "base_uri": "https://localhost:8080/"
    },
    "execution": {
     "iopub.execute_input": "2022-01-11T15:48:00.856587Z",
     "iopub.status.busy": "2022-01-11T15:48:00.855258Z",
     "iopub.status.idle": "2022-01-11T15:48:24.094307Z",
     "shell.execute_reply": "2022-01-11T15:48:24.094823Z"
    },
    "id": "wbnciyRK5kdW",
    "outputId": "d2592f9d-f074-465f-95f8-df3b759ae068",
    "papermill": {
     "duration": 23.28418,
     "end_time": "2022-01-11T15:48:24.095032",
     "exception": false,
     "start_time": "2022-01-11T15:48:00.810852",
     "status": "completed"
    },
    "tags": []
   },
   "outputs": [
    {
     "name": "stdout",
     "output_type": "stream",
     "text": [
      "p  12500 ; tp  10788.122026443481 ; fp  1173.2096577079556\n",
      "recall  0.8630497621154786 ; precision  0.9019164681084433\n",
      "num_batches 782\n",
      "correct 22141\n",
      "size 25000\n",
      "Test metrics: \n",
      " Accuracy: 0.885640, F1 score: 0.882055, Avg loss: 0.557075 \n",
      "\n"
     ]
    },
    {
     "data": {
      "text/plain": [
       "(0.88564, 0.8820551690105355)"
      ]
     },
     "execution_count": 12,
     "metadata": {},
     "output_type": "execute_result"
    }
   ],
   "source": [
    "test_dset = get_dataset(config[\"dataset\"], 'test')\n",
    "test_loader = DataLoader(test_dset, batch_size=config[\"batch_size\"], shuffle=True, collate_fn=collate)\n",
    "\n",
    "acc, f1 = model.test(test_loader)\n",
    "acc, f1"
   ]
  }
 ],
 "metadata": {
  "accelerator": "TPU",
  "colab": {
   "name": "torch_cnn_classifier.ipynb",
   "provenance": []
  },
  "environment": {
   "name": "pytorch-gpu.1-9.m75",
   "type": "gcloud",
   "uri": "gcr.io/deeplearning-platform-release/pytorch-gpu.1-9:m75"
  },
  "interpreter": {
   "hash": "9828b828580f1cac1b571b33de6cff8bacecc8916095e1bcbc967952ca7105b7"
  },
  "kernelspec": {
   "display_name": "Python 3",
   "name": "python3"
  },
  "language_info": {
   "codemirror_mode": {
    "name": "ipython",
    "version": 3
   },
   "file_extension": ".py",
   "mimetype": "text/x-python",
   "name": "python",
   "nbconvert_exporter": "python",
   "pygments_lexer": "ipython3",
   "version": "3.8.9"
  },
  "papermill": {
   "default_parameters": {},
   "duration": 2001.790716,
   "end_time": "2022-01-11T15:48:24.767029",
   "environment_variables": {},
   "exception": null,
   "input_path": "torch_cnn.ipynb",
   "output_path": "../torch_cnn_experiments/demo_human_or_worm_subword_256.ipynb",
   "parameters": {
    "DATASET": "demo_human_or_worm",
    "TOKENIZER": "subword",
    "VOCAB_SIZE": 256
   },
   "start_time": "2022-01-11T15:15:02.976313",
   "version": "2.3.3"
  }
 },
 "nbformat": 4,
 "nbformat_minor": 5
}