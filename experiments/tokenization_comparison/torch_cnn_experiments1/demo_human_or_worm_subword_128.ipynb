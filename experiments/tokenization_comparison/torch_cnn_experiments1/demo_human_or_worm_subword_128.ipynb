{
 "cells": [
  {
   "cell_type": "markdown",
   "id": "6089c05b",
   "metadata": {
    "id": "SKOD9lvq5kdM",
    "papermill": {
     "duration": 0.016627,
     "end_time": "2022-01-11T12:13:20.852768",
     "exception": false,
     "start_time": "2022-01-11T12:13:20.836141",
     "status": "completed"
    },
    "tags": []
   },
   "source": [
    "# PYTORCH CNN Classifier"
   ]
  },
  {
   "cell_type": "code",
   "execution_count": 1,
   "id": "228506ff",
   "metadata": {
    "execution": {
     "iopub.execute_input": "2022-01-11T12:13:20.890913Z",
     "iopub.status.busy": "2022-01-11T12:13:20.889834Z",
     "iopub.status.idle": "2022-01-11T12:13:20.893950Z",
     "shell.execute_reply": "2022-01-11T12:13:20.894466Z"
    },
    "id": "E8prt3AL5kdO",
    "papermill": {
     "duration": 0.027764,
     "end_time": "2022-01-11T12:13:20.894746",
     "exception": false,
     "start_time": "2022-01-11T12:13:20.866982",
     "status": "completed"
    },
    "tags": [
     "parameters"
    ]
   },
   "outputs": [],
   "source": [
    "DATASET = 'none'\n",
    "VOCAB_SIZE = 0\n",
    "TOKENIZER = 'none'\n",
    "KMER = 0"
   ]
  },
  {
   "cell_type": "code",
   "execution_count": 2,
   "id": "8bc94f1f",
   "metadata": {
    "execution": {
     "iopub.execute_input": "2022-01-11T12:13:20.927529Z",
     "iopub.status.busy": "2022-01-11T12:13:20.926574Z",
     "iopub.status.idle": "2022-01-11T12:13:20.928722Z",
     "shell.execute_reply": "2022-01-11T12:13:20.929436Z"
    },
    "papermill": {
     "duration": 0.020849,
     "end_time": "2022-01-11T12:13:20.929715",
     "exception": false,
     "start_time": "2022-01-11T12:13:20.908866",
     "status": "completed"
    },
    "tags": [
     "injected-parameters"
    ]
   },
   "outputs": [],
   "source": [
    "# Parameters\n",
    "DATASET = \"demo_human_or_worm\"\n",
    "TOKENIZER = \"subword\"\n",
    "VOCAB_SIZE = 128\n"
   ]
  },
  {
   "cell_type": "code",
   "execution_count": 3,
   "id": "204fc6cc",
   "metadata": {
    "colab": {
     "base_uri": "https://localhost:8080/"
    },
    "execution": {
     "iopub.execute_input": "2022-01-11T12:13:20.974013Z",
     "iopub.status.busy": "2022-01-11T12:13:20.972953Z",
     "iopub.status.idle": "2022-01-11T12:13:20.976533Z",
     "shell.execute_reply": "2022-01-11T12:13:20.977082Z"
    },
    "id": "rohBItfR5kdP",
    "outputId": "7da7aafe-0858-48be-bf7d-f698784d88df",
    "papermill": {
     "duration": 0.026204,
     "end_time": "2022-01-11T12:13:20.977285",
     "exception": false,
     "start_time": "2022-01-11T12:13:20.951081",
     "status": "completed"
    },
    "tags": []
   },
   "outputs": [
    {
     "name": "stdout",
     "output_type": "stream",
     "text": [
      "demo_human_or_worm 128 subword 0\n"
     ]
    }
   ],
   "source": [
    "print(DATASET, VOCAB_SIZE, TOKENIZER, KMER)"
   ]
  },
  {
   "cell_type": "markdown",
   "id": "4f14fc94",
   "metadata": {
    "id": "Y-YQrVyb5kdQ",
    "papermill": {
     "duration": 0.014572,
     "end_time": "2022-01-11T12:13:21.007443",
     "exception": false,
     "start_time": "2022-01-11T12:13:20.992871",
     "status": "completed"
    },
    "tags": []
   },
   "source": [
    "## Config"
   ]
  },
  {
   "cell_type": "code",
   "execution_count": 4,
   "id": "5ee868c9",
   "metadata": {
    "execution": {
     "iopub.execute_input": "2022-01-11T12:13:21.067354Z",
     "iopub.status.busy": "2022-01-11T12:13:21.066009Z",
     "iopub.status.idle": "2022-01-11T12:32:20.888761Z",
     "shell.execute_reply": "2022-01-11T12:32:20.889293Z"
    },
    "id": "FIunuyGk5kdR",
    "papermill": {
     "duration": 1139.855309,
     "end_time": "2022-01-11T12:32:20.889541",
     "exception": false,
     "start_time": "2022-01-11T12:13:21.034232",
     "status": "completed"
    },
    "tags": []
   },
   "outputs": [],
   "source": [
    "import torch\n",
    "from torch.utils.data import DataLoader\n",
    "\n",
    "from genomic_benchmarks.dataset_getters.pytorch_datasets import get_dataset\n",
    "from glp.models import CNN\n",
    "from glp.tokenizers import get_tokenizer\n",
    "from glp.tokenizers.utils import build_vocab, coll_factory, check_config, check_seq_lengths"
   ]
  },
  {
   "cell_type": "code",
   "execution_count": 5,
   "id": "7c433668",
   "metadata": {
    "execution": {
     "iopub.execute_input": "2022-01-11T12:32:20.926003Z",
     "iopub.status.busy": "2022-01-11T12:32:20.925219Z",
     "iopub.status.idle": "2022-01-11T12:32:20.927712Z",
     "shell.execute_reply": "2022-01-11T12:32:20.928209Z"
    },
    "id": "UgXiF6Zz5kdR",
    "papermill": {
     "duration": 0.023926,
     "end_time": "2022-01-11T12:32:20.928413",
     "exception": false,
     "start_time": "2022-01-11T12:32:20.904487",
     "status": "completed"
    },
    "tags": []
   },
   "outputs": [],
   "source": [
    "config = {\n",
    "    \"dataset\": DATASET,\n",
    "    \"tokenizer\": TOKENIZER,\n",
    "    \"dataset_version\": 0,\n",
    "    \"epochs\": 5,\n",
    "    \"batch_size\": 32,\n",
    "    \"use_padding\": True,\n",
    "    \"force_download\": False,\n",
    "    \"run_on_gpu\": True,\n",
    "    \"number_of_classes\": 2,\n",
    "    \"embedding_dim\": 100,\n",
    "}\n",
    "check_config(config)"
   ]
  },
  {
   "cell_type": "markdown",
   "id": "1b34484a",
   "metadata": {
    "id": "AUWF-avz5kdS",
    "papermill": {
     "duration": 0.016495,
     "end_time": "2022-01-11T12:32:20.960832",
     "exception": false,
     "start_time": "2022-01-11T12:32:20.944337",
     "status": "completed"
    },
    "tags": []
   },
   "source": [
    "## Choose the dataset"
   ]
  },
  {
   "cell_type": "code",
   "execution_count": 6,
   "id": "2af4f832",
   "metadata": {
    "colab": {
     "base_uri": "https://localhost:8080/"
    },
    "execution": {
     "iopub.execute_input": "2022-01-11T12:32:21.004992Z",
     "iopub.status.busy": "2022-01-11T12:32:21.004061Z",
     "iopub.status.idle": "2022-01-11T12:32:21.867005Z",
     "shell.execute_reply": "2022-01-11T12:32:21.868351Z"
    },
    "id": "1oaryDJr5kdS",
    "outputId": "6a425df9-4092-4601-9cd9-f61d524b6278",
    "papermill": {
     "duration": 0.885223,
     "end_time": "2022-01-11T12:32:21.868647",
     "exception": false,
     "start_time": "2022-01-11T12:32:20.983424",
     "status": "completed"
    },
    "tags": []
   },
   "outputs": [],
   "source": [
    "train_dset = get_dataset(config[\"dataset\"], 'train')"
   ]
  },
  {
   "cell_type": "markdown",
   "id": "9a43fbfc",
   "metadata": {
    "id": "B0lqmy935kdS",
    "papermill": {
     "duration": 0.042547,
     "end_time": "2022-01-11T12:32:21.962229",
     "exception": false,
     "start_time": "2022-01-11T12:32:21.919682",
     "status": "completed"
    },
    "tags": []
   },
   "source": [
    "## Tokenizer and vocab"
   ]
  },
  {
   "cell_type": "code",
   "execution_count": 7,
   "id": "d960ce05",
   "metadata": {
    "colab": {
     "base_uri": "https://localhost:8080/"
    },
    "execution": {
     "iopub.execute_input": "2022-01-11T12:32:22.049348Z",
     "iopub.status.busy": "2022-01-11T12:32:22.042851Z",
     "iopub.status.idle": "2022-01-11T14:59:22.176988Z",
     "shell.execute_reply": "2022-01-11T14:59:22.177538Z"
    },
    "id": "NY_zualp5kdT",
    "outputId": "9034d65f-2f9a-4c83-a314-13d3b808fc65",
    "papermill": {
     "duration": 8820.182824,
     "end_time": "2022-01-11T14:59:22.178204",
     "exception": false,
     "start_time": "2022-01-11T12:32:21.995380",
     "status": "completed"
    },
    "tags": []
   },
   "outputs": [
    {
     "name": "stderr",
     "output_type": "stream",
     "text": [
      "sentencepiece_trainer.cc(177) LOG(INFO) Running command: --input=sample.csv --model_prefix=sample --vocab_size=128 --model_type=unigram\n",
      "sentencepiece_trainer.cc(77) LOG(INFO) Starts training with : \n",
      "trainer_spec {\n",
      "  input: sample.csv\n",
      "  input_format: \n",
      "  model_prefix: sample\n",
      "  model_type: UNIGRAM\n",
      "  vocab_size: 128\n",
      "  self_test_sample_size: 0\n",
      "  character_coverage: 0.9995\n",
      "  input_sentence_size: 0\n",
      "  shuffle_input_sentence: 1\n",
      "  seed_sentencepiece_size: 1000000\n",
      "  shrinking_factor: 0.75\n",
      "  max_sentence_length: 4192\n",
      "  num_threads: 16\n",
      "  num_sub_iterations: 2\n",
      "  max_sentencepiece_length: 16\n",
      "  split_by_unicode_script: 1\n",
      "  split_by_number: 1\n",
      "  split_by_whitespace: 1\n",
      "  split_digits: 0\n",
      "  treat_whitespace_as_suffix: 0\n",
      "  required_chars: \n",
      "  byte_fallback: 0\n",
      "  vocabulary_output_piece_score: 1\n",
      "  train_extremely_large_corpus: 0\n",
      "  hard_vocab_limit: 1\n",
      "  use_all_vocab: 0\n",
      "  unk_id: 0\n",
      "  bos_id: 1\n",
      "  eos_id: 2\n",
      "  pad_id: -1\n",
      "  unk_piece: <unk>\n",
      "  bos_piece: <s>\n",
      "  eos_piece: </s>\n",
      "  pad_piece: <pad>\n",
      "  unk_surface:  ⁇ \n",
      "}\n",
      "normalizer_spec {\n",
      "  name: nmt_nfkc\n",
      "  add_dummy_prefix: 1\n",
      "  remove_extra_whitespaces: 1\n",
      "  escape_whitespaces: 1\n",
      "  normalization_rule_tsv: \n",
      "}\n",
      "denormalizer_spec {}\n",
      "trainer_interface.cc(319) LOG(INFO) SentenceIterator is not specified. Using MultiFileSentenceIterator.\n",
      "trainer_interface.cc(174) LOG(INFO) Loading corpus: sample.csv\n",
      "trainer_interface.cc(375) LOG(INFO) Loaded all 75000 sentences\n",
      "trainer_interface.cc(390) LOG(INFO) Adding meta_piece: <unk>\n",
      "trainer_interface.cc(390) LOG(INFO) Adding meta_piece: <s>\n",
      "trainer_interface.cc(390) LOG(INFO) Adding meta_piece: </s>\n",
      "trainer_interface.cc(395) LOG(INFO) Normalizing sentences...\n"
     ]
    },
    {
     "name": "stderr",
     "output_type": "stream",
     "text": [
      "trainer_interface.cc(456) LOG(INFO) all chars count=15074802\n",
      "trainer_interface.cc(467) LOG(INFO) Done: 100% characters are covered.\n",
      "trainer_interface.cc(477) LOG(INFO) Alphabet size=6\n",
      "trainer_interface.cc(478) LOG(INFO) Final character coverage=1\n"
     ]
    },
    {
     "name": "stderr",
     "output_type": "stream",
     "text": [
      "trainer_interface.cc(510) LOG(INFO) Done! preprocessed 75000 sentences.\n"
     ]
    },
    {
     "name": "stderr",
     "output_type": "stream",
     "text": [
      "unigram_model_trainer.cc(138) LOG(INFO) Making suffix array...\n"
     ]
    },
    {
     "name": "stderr",
     "output_type": "stream",
     "text": [
      "unigram_model_trainer.cc(142) LOG(INFO) Extracting frequent sub strings...\n"
     ]
    },
    {
     "name": "stderr",
     "output_type": "stream",
     "text": [
      "unigram_model_trainer.cc(193) LOG(INFO) Initialized 1000000 seed sentencepieces\n"
     ]
    },
    {
     "name": "stderr",
     "output_type": "stream",
     "text": [
      "trainer_interface.cc(516) LOG(INFO) Tokenizing input sentences with whitespace: 75000\n"
     ]
    },
    {
     "name": "stderr",
     "output_type": "stream",
     "text": [
      "trainer_interface.cc(526) LOG(INFO) Done! 73109\n",
      "unigram_model_trainer.cc(488) LOG(INFO) Using 73109 sentences for EM training\n"
     ]
    },
    {
     "name": "stderr",
     "output_type": "stream",
     "text": [
      "unigram_model_trainer.cc(504) LOG(INFO) EM sub_iter=0 size=615634 obj=263.975 num_tokens=1523674 num_tokens/piece=2.47497\n"
     ]
    },
    {
     "name": "stderr",
     "output_type": "stream",
     "text": [
      "unigram_model_trainer.cc(504) LOG(INFO) EM sub_iter=1 size=432903 obj=264.111 num_tokens=1607807 num_tokens/piece=3.71401\n"
     ]
    },
    {
     "name": "stderr",
     "output_type": "stream",
     "text": [
      "unigram_model_trainer.cc(504) LOG(INFO) EM sub_iter=0 size=280345 obj=263.272 num_tokens=1662269 num_tokens/piece=5.92937\n"
     ]
    },
    {
     "name": "stderr",
     "output_type": "stream",
     "text": [
      "unigram_model_trainer.cc(504) LOG(INFO) EM sub_iter=1 size=255347 obj=260.477 num_tokens=1694304 num_tokens/piece=6.6353\n"
     ]
    },
    {
     "name": "stderr",
     "output_type": "stream",
     "text": [
      "unigram_model_trainer.cc(504) LOG(INFO) EM sub_iter=0 size=188520 obj=261.101 num_tokens=1730663 num_tokens/piece=9.18026\n"
     ]
    },
    {
     "name": "stderr",
     "output_type": "stream",
     "text": [
      "unigram_model_trainer.cc(504) LOG(INFO) EM sub_iter=1 size=183877 obj=259.479 num_tokens=1741958 num_tokens/piece=9.4735\n"
     ]
    },
    {
     "name": "stderr",
     "output_type": "stream",
     "text": [
      "unigram_model_trainer.cc(504) LOG(INFO) EM sub_iter=0 size=137880 obj=260.582 num_tokens=1779032 num_tokens/piece=12.9028\n"
     ]
    },
    {
     "name": "stderr",
     "output_type": "stream",
     "text": [
      "unigram_model_trainer.cc(504) LOG(INFO) EM sub_iter=1 size=137706 obj=259.09 num_tokens=1782251 num_tokens/piece=12.9424\n"
     ]
    },
    {
     "name": "stderr",
     "output_type": "stream",
     "text": [
      "unigram_model_trainer.cc(504) LOG(INFO) EM sub_iter=0 size=103277 obj=261.112 num_tokens=1830635 num_tokens/piece=17.7255\n"
     ]
    },
    {
     "name": "stderr",
     "output_type": "stream",
     "text": [
      "unigram_model_trainer.cc(504) LOG(INFO) EM sub_iter=1 size=103270 obj=259.064 num_tokens=1831554 num_tokens/piece=17.7356\n"
     ]
    },
    {
     "name": "stderr",
     "output_type": "stream",
     "text": [
      "unigram_model_trainer.cc(504) LOG(INFO) EM sub_iter=0 size=77451 obj=261.748 num_tokens=1888857 num_tokens/piece=24.3878\n"
     ]
    },
    {
     "name": "stderr",
     "output_type": "stream",
     "text": [
      "unigram_model_trainer.cc(504) LOG(INFO) EM sub_iter=1 size=77449 obj=259.449 num_tokens=1889327 num_tokens/piece=24.3945\n"
     ]
    },
    {
     "name": "stderr",
     "output_type": "stream",
     "text": [
      "unigram_model_trainer.cc(504) LOG(INFO) EM sub_iter=0 size=58086 obj=262.394 num_tokens=1948317 num_tokens/piece=33.5419\n"
     ]
    },
    {
     "name": "stderr",
     "output_type": "stream",
     "text": [
      "unigram_model_trainer.cc(504) LOG(INFO) EM sub_iter=1 size=58085 obj=260.069 num_tokens=1948788 num_tokens/piece=33.5506\n"
     ]
    },
    {
     "name": "stderr",
     "output_type": "stream",
     "text": [
      "unigram_model_trainer.cc(504) LOG(INFO) EM sub_iter=0 size=43563 obj=263.026 num_tokens=2006108 num_tokens/piece=46.0507\n"
     ]
    },
    {
     "name": "stderr",
     "output_type": "stream",
     "text": [
      "unigram_model_trainer.cc(504) LOG(INFO) EM sub_iter=1 size=43563 obj=260.849 num_tokens=2006704 num_tokens/piece=46.0644\n"
     ]
    },
    {
     "name": "stderr",
     "output_type": "stream",
     "text": [
      "unigram_model_trainer.cc(504) LOG(INFO) EM sub_iter=0 size=32672 obj=263.668 num_tokens=2062112 num_tokens/piece=63.1156\n"
     ]
    },
    {
     "name": "stderr",
     "output_type": "stream",
     "text": [
      "unigram_model_trainer.cc(504) LOG(INFO) EM sub_iter=1 size=32672 obj=261.603 num_tokens=2062878 num_tokens/piece=63.139\n"
     ]
    },
    {
     "name": "stderr",
     "output_type": "stream",
     "text": [
      "unigram_model_trainer.cc(504) LOG(INFO) EM sub_iter=0 size=24504 obj=264.388 num_tokens=2120186 num_tokens/piece=86.5241\n"
     ]
    },
    {
     "name": "stderr",
     "output_type": "stream",
     "text": [
      "unigram_model_trainer.cc(504) LOG(INFO) EM sub_iter=1 size=24504 obj=262.356 num_tokens=2120966 num_tokens/piece=86.5559\n"
     ]
    },
    {
     "name": "stderr",
     "output_type": "stream",
     "text": [
      "unigram_model_trainer.cc(504) LOG(INFO) EM sub_iter=0 size=18378 obj=265.228 num_tokens=2182532 num_tokens/piece=118.758\n"
     ]
    },
    {
     "name": "stderr",
     "output_type": "stream",
     "text": [
      "unigram_model_trainer.cc(504) LOG(INFO) EM sub_iter=1 size=18378 obj=263.091 num_tokens=2183241 num_tokens/piece=118.796\n"
     ]
    },
    {
     "name": "stderr",
     "output_type": "stream",
     "text": [
      "unigram_model_trainer.cc(504) LOG(INFO) EM sub_iter=0 size=13783 obj=266.021 num_tokens=2247574 num_tokens/piece=163.069\n"
     ]
    },
    {
     "name": "stderr",
     "output_type": "stream",
     "text": [
      "unigram_model_trainer.cc(504) LOG(INFO) EM sub_iter=1 size=13783 obj=263.682 num_tokens=2248379 num_tokens/piece=163.127\n"
     ]
    },
    {
     "name": "stderr",
     "output_type": "stream",
     "text": [
      "unigram_model_trainer.cc(504) LOG(INFO) EM sub_iter=0 size=10337 obj=266.68 num_tokens=2317782 num_tokens/piece=224.222\n"
     ]
    },
    {
     "name": "stderr",
     "output_type": "stream",
     "text": [
      "unigram_model_trainer.cc(504) LOG(INFO) EM sub_iter=1 size=10337 obj=264.216 num_tokens=2318537 num_tokens/piece=224.295\n"
     ]
    },
    {
     "name": "stderr",
     "output_type": "stream",
     "text": [
      "unigram_model_trainer.cc(504) LOG(INFO) EM sub_iter=0 size=7752 obj=267.335 num_tokens=2392945 num_tokens/piece=308.687\n"
     ]
    },
    {
     "name": "stderr",
     "output_type": "stream",
     "text": [
      "unigram_model_trainer.cc(504) LOG(INFO) EM sub_iter=1 size=7752 obj=264.662 num_tokens=2393924 num_tokens/piece=308.814\n"
     ]
    },
    {
     "name": "stderr",
     "output_type": "stream",
     "text": [
      "unigram_model_trainer.cc(504) LOG(INFO) EM sub_iter=0 size=5814 obj=268.043 num_tokens=2472700 num_tokens/piece=425.301\n"
     ]
    },
    {
     "name": "stderr",
     "output_type": "stream",
     "text": [
      "unigram_model_trainer.cc(504) LOG(INFO) EM sub_iter=1 size=5814 obj=265.154 num_tokens=2473779 num_tokens/piece=425.487\n"
     ]
    },
    {
     "name": "stderr",
     "output_type": "stream",
     "text": [
      "unigram_model_trainer.cc(504) LOG(INFO) EM sub_iter=0 size=4360 obj=268.791 num_tokens=2557988 num_tokens/piece=586.694\n"
     ]
    },
    {
     "name": "stderr",
     "output_type": "stream",
     "text": [
      "unigram_model_trainer.cc(504) LOG(INFO) EM sub_iter=1 size=4360 obj=265.678 num_tokens=2558917 num_tokens/piece=586.908\n"
     ]
    },
    {
     "name": "stderr",
     "output_type": "stream",
     "text": [
      "unigram_model_trainer.cc(504) LOG(INFO) EM sub_iter=0 size=3270 obj=269.693 num_tokens=2650996 num_tokens/piece=810.702\n"
     ]
    },
    {
     "name": "stderr",
     "output_type": "stream",
     "text": [
      "unigram_model_trainer.cc(504) LOG(INFO) EM sub_iter=1 size=3270 obj=266.096 num_tokens=2652193 num_tokens/piece=811.068\n"
     ]
    },
    {
     "name": "stderr",
     "output_type": "stream",
     "text": [
      "unigram_model_trainer.cc(504) LOG(INFO) EM sub_iter=0 size=2452 obj=270.515 num_tokens=2751192 num_tokens/piece=1122.02\n"
     ]
    },
    {
     "name": "stderr",
     "output_type": "stream",
     "text": [
      "unigram_model_trainer.cc(504) LOG(INFO) EM sub_iter=1 size=2452 obj=266.522 num_tokens=2752409 num_tokens/piece=1122.52\n"
     ]
    },
    {
     "name": "stderr",
     "output_type": "stream",
     "text": [
      "unigram_model_trainer.cc(504) LOG(INFO) EM sub_iter=0 size=1839 obj=270.958 num_tokens=2854434 num_tokens/piece=1552.17\n"
     ]
    },
    {
     "name": "stderr",
     "output_type": "stream",
     "text": [
      "unigram_model_trainer.cc(504) LOG(INFO) EM sub_iter=1 size=1839 obj=266.785 num_tokens=2855582 num_tokens/piece=1552.79\n"
     ]
    },
    {
     "name": "stderr",
     "output_type": "stream",
     "text": [
      "unigram_model_trainer.cc(504) LOG(INFO) EM sub_iter=0 size=1379 obj=272.786 num_tokens=2964765 num_tokens/piece=2149.94\n"
     ]
    },
    {
     "name": "stderr",
     "output_type": "stream",
     "text": [
      "unigram_model_trainer.cc(504) LOG(INFO) EM sub_iter=1 size=1379 obj=267.191 num_tokens=2965693 num_tokens/piece=2150.61\n"
     ]
    },
    {
     "name": "stderr",
     "output_type": "stream",
     "text": [
      "unigram_model_trainer.cc(504) LOG(INFO) EM sub_iter=0 size=1034 obj=273.21 num_tokens=3085015 num_tokens/piece=2983.57\n"
     ]
    },
    {
     "name": "stderr",
     "output_type": "stream",
     "text": [
      "unigram_model_trainer.cc(504) LOG(INFO) EM sub_iter=1 size=1034 obj=267.494 num_tokens=3086021 num_tokens/piece=2984.55\n"
     ]
    },
    {
     "name": "stderr",
     "output_type": "stream",
     "text": [
      "unigram_model_trainer.cc(504) LOG(INFO) EM sub_iter=0 size=775 obj=274.61 num_tokens=3215223 num_tokens/piece=4148.67\n"
     ]
    },
    {
     "name": "stderr",
     "output_type": "stream",
     "text": [
      "unigram_model_trainer.cc(504) LOG(INFO) EM sub_iter=1 size=775 obj=267.869 num_tokens=3216378 num_tokens/piece=4150.17\n"
     ]
    },
    {
     "name": "stderr",
     "output_type": "stream",
     "text": [
      "unigram_model_trainer.cc(504) LOG(INFO) EM sub_iter=0 size=581 obj=274.127 num_tokens=3366989 num_tokens/piece=5795.16\n"
     ]
    },
    {
     "name": "stderr",
     "output_type": "stream",
     "text": [
      "unigram_model_trainer.cc(504) LOG(INFO) EM sub_iter=1 size=581 obj=268.052 num_tokens=3368462 num_tokens/piece=5797.7\n"
     ]
    },
    {
     "name": "stderr",
     "output_type": "stream",
     "text": [
      "unigram_model_trainer.cc(504) LOG(INFO) EM sub_iter=0 size=435 obj=274.708 num_tokens=3533024 num_tokens/piece=8121.89\n"
     ]
    },
    {
     "name": "stderr",
     "output_type": "stream",
     "text": [
      "unigram_model_trainer.cc(504) LOG(INFO) EM sub_iter=1 size=435 obj=268.287 num_tokens=3535366 num_tokens/piece=8127.28\n"
     ]
    },
    {
     "name": "stderr",
     "output_type": "stream",
     "text": [
      "unigram_model_trainer.cc(504) LOG(INFO) EM sub_iter=0 size=326 obj=274.986 num_tokens=3712883 num_tokens/piece=11389.2\n"
     ]
    },
    {
     "name": "stderr",
     "output_type": "stream",
     "text": [
      "unigram_model_trainer.cc(504) LOG(INFO) EM sub_iter=1 size=326 obj=268.57 num_tokens=3716418 num_tokens/piece=11400.1\n"
     ]
    },
    {
     "name": "stderr",
     "output_type": "stream",
     "text": [
      "unigram_model_trainer.cc(504) LOG(INFO) EM sub_iter=0 size=244 obj=275.049 num_tokens=3925406 num_tokens/piece=16087.7\n"
     ]
    },
    {
     "name": "stderr",
     "output_type": "stream",
     "text": [
      "unigram_model_trainer.cc(504) LOG(INFO) EM sub_iter=1 size=244 obj=268.772 num_tokens=3929389 num_tokens/piece=16104.1\n"
     ]
    },
    {
     "name": "stderr",
     "output_type": "stream",
     "text": [
      "unigram_model_trainer.cc(504) LOG(INFO) EM sub_iter=0 size=183 obj=275.837 num_tokens=4147514 num_tokens/piece=22664\n"
     ]
    },
    {
     "name": "stderr",
     "output_type": "stream",
     "text": [
      "unigram_model_trainer.cc(504) LOG(INFO) EM sub_iter=1 size=183 obj=268.947 num_tokens=4152894 num_tokens/piece=22693.4\n"
     ]
    },
    {
     "name": "stderr",
     "output_type": "stream",
     "text": [
      "unigram_model_trainer.cc(504) LOG(INFO) EM sub_iter=0 size=140 obj=276.025 num_tokens=4374239 num_tokens/piece=31244.6\n"
     ]
    },
    {
     "name": "stderr",
     "output_type": "stream",
     "text": [
      "unigram_model_trainer.cc(504) LOG(INFO) EM sub_iter=1 size=140 obj=269.044 num_tokens=4381748 num_tokens/piece=31298.2\n",
      "trainer_interface.cc(604) LOG(INFO) Saving model: sample.model\n",
      "trainer_interface.cc(615) LOG(INFO) Saving vocabs: sample.vocab\n"
     ]
    },
    {
     "name": "stdout",
     "output_type": "stream",
     "text": [
      "vocab len: 127\n",
      "{'A': 122, 'GCG': 120, 'CCAC': 123, 'TTCC': 119, 'CTCC': 117, 'AGAG': 115, 'T': 112, 'GCAG': 114, 'TACA': 110, 'ACAG': 109, 'CCG': 107, '<pad>': 126, 'CCAG': 106, 'GAGA': 104, 'CAAT': 105, 'TGTC': 103, 'ACAC': 101, 'CAGT': 100, 'N': 124, 'AACT': 98, 'CGT': 97, 'GGT': 102, 'CTGG': 96, 'GGAG': 95, 'AAAG': 40, 'GAAA': 91, 'TCTG': 90, 'TGCA': 89, 'ACG': 99, 'AGTA': 88, 'TGTA': 87, 'GACA': 118, 'ATAT': 86, 'TTC': 85, 'AAAC': 19, 'AGTG': 83, 'GTG': 60, 'AAAAT': 82, 'CTGA': 81, 'ACAT': 80, 'AGG': 16, 'AGAA': 79, 'TCT': 55, 'TTTTT': 31, 'CGC': 76, 'GGC': 74, 'G': 70, 'TCC': 69, 'AATA': 94, 'TCG': 67, 'CAGC': 66, 'NNNNNNNNNNNNNNNN': 125, 'CTC': 64, 'AATT': 84, 'TGC': 68, 'GAAT': 121, 'AGCA': 62, 'ATTTT': 23, 'GCT': 61, 'TCAG': 56, 'TAA': 12, 'ACC': 59, 'TGTT': 54, 'AGTT': 93, 'TGAG': 50, 'AAT': 24, 'CAGA': 49, 'TGTG': 65, 'TTG': 47, 'TTCT': 10, 'AAATT': 30, 'CCT': 46, 'CAGG': 45, 'AAC': 42, '▁': 1, 'TTT': 38, 'AAAA': 72, 'TTA': 25, 'TGG': 36, 'ACAA': 39, 'TCAA': 34, 'AACA': 21, 'CTG': 33, 'TCTC': 116, 'TGAA': 77, 'TGA': 14, 'ATT': 35, 'ACT': 29, 'AGCT': 92, 'GGAA': 28, 'AGC': 108, 'TTCA': 27, 'AAG': 52, 'AAAAA': 11, 'CAT': 26, 'TTTC': 41, 'CCA': 63, 'CAA': 22, 'GT': 20, 'AAAT': 13, 'CGG': 71, 'TAT': 8, 'CTT': 18, 'C': 78, 'TAAT': 57, 'CCC': 44, 'TCA': 53, 'TTTT': 4, 'CGA': 73, 'GCC': 37, 'GAA': 51, 'GGA': 113, 'ATG': 7, 'GTTT': 17, 'CTA': 6, 'ATA': 2, 'AGA': 15, 'CAC': 5, '<unk>': 0, 'GGG': 75, 'GAT': 3, 'GAG': 111, 'TATTT': 32, 'AAA': 43, 'AATTT': 48, 'ATC': 58, 'TAC': 9}\n"
     ]
    }
   ],
   "source": [
    "tokenizer = get_tokenizer(config['tokenizer'])\n",
    "tokenizer.train(train_dset=train_dset, vocab_size=VOCAB_SIZE, kmer=KMER)\n",
    "vocabulary = build_vocab(train_dset, tokenizer, use_padding=config[\"use_padding\"])\n",
    "\n",
    "print(\"vocab len:\" ,vocabulary.__len__())\n",
    "print(vocabulary.get_stoi())"
   ]
  },
  {
   "cell_type": "markdown",
   "id": "cb9e2795",
   "metadata": {
    "id": "3hGQpSJA5kdT",
    "papermill": {
     "duration": 0.037405,
     "end_time": "2022-01-11T14:59:22.253558",
     "exception": false,
     "start_time": "2022-01-11T14:59:22.216153",
     "status": "completed"
    },
    "tags": []
   },
   "source": [
    "## Dataloader and batch preparation"
   ]
  },
  {
   "cell_type": "code",
   "execution_count": 8,
   "id": "f4b86e4d",
   "metadata": {
    "colab": {
     "base_uri": "https://localhost:8080/"
    },
    "execution": {
     "iopub.execute_input": "2022-01-11T14:59:22.350011Z",
     "iopub.status.busy": "2022-01-11T14:59:22.349134Z",
     "iopub.status.idle": "2022-01-11T15:00:43.117878Z",
     "shell.execute_reply": "2022-01-11T15:00:43.118626Z"
    },
    "id": "gXUgPH6q5kdT",
    "outputId": "a1eb6ba2-9bcd-416d-8662-e3516121da96",
    "papermill": {
     "duration": 80.828227,
     "end_time": "2022-01-11T15:00:43.118917",
     "exception": false,
     "start_time": "2022-01-11T14:59:22.290690",
     "status": "completed"
    },
    "tags": []
   },
   "outputs": [
    {
     "name": "stdout",
     "output_type": "stream",
     "text": [
      "Using cpu device\n"
     ]
    },
    {
     "name": "stdout",
     "output_type": "stream",
     "text": [
      "max_tok_len  80\n"
     ]
    },
    {
     "name": "stdout",
     "output_type": "stream",
     "text": [
      "not all sequences are of the same length\n"
     ]
    }
   ],
   "source": [
    "# Run on GPU or CPU\n",
    "device = 'cuda' if config[\"run_on_gpu\"] and torch.cuda.is_available() else 'cpu'\n",
    "print('Using {} device'.format(device))\n",
    "\n",
    "max_tok_len = check_seq_lengths(dataset=train_dset, tokenizer=tokenizer)\n",
    "\n",
    "# Data Loader\n",
    "collate = coll_factory(vocabulary, tokenizer, device, pad_to_length = max_tok_len)\n",
    "\n",
    "train_loader = DataLoader(train_dset, batch_size=config[\"batch_size\"], shuffle=True, collate_fn=collate)"
   ]
  },
  {
   "cell_type": "code",
   "execution_count": 9,
   "id": "b5158148",
   "metadata": {
    "execution": {
     "iopub.execute_input": "2022-01-11T15:00:43.206808Z",
     "iopub.status.busy": "2022-01-11T15:00:43.202458Z",
     "iopub.status.idle": "2022-01-11T15:00:43.226925Z",
     "shell.execute_reply": "2022-01-11T15:00:43.227924Z"
    },
    "papermill": {
     "duration": 0.068393,
     "end_time": "2022-01-11T15:00:43.228131",
     "exception": false,
     "start_time": "2022-01-11T15:00:43.159738",
     "status": "completed"
    },
    "tags": []
   },
   "outputs": [
    {
     "data": {
      "text/plain": [
       "['▁',\n",
       " 'TTA',\n",
       " 'AAC',\n",
       " 'TTT',\n",
       " 'AAA',\n",
       " 'TTTT',\n",
       " 'CCC',\n",
       " 'AAA',\n",
       " 'CTA',\n",
       " 'CAGG',\n",
       " 'AAC',\n",
       " 'CCT',\n",
       " 'TTG',\n",
       " 'TTG',\n",
       " 'AATTT',\n",
       " 'TAA',\n",
       " 'CAGA',\n",
       " 'TTTT',\n",
       " 'TGAG',\n",
       " 'CAC',\n",
       " 'GAA',\n",
       " 'TAC',\n",
       " 'TAC',\n",
       " 'ATTTT',\n",
       " 'AAG',\n",
       " 'ACAA',\n",
       " 'TTT',\n",
       " 'CCT',\n",
       " 'CAT',\n",
       " 'TCA',\n",
       " 'TGTT',\n",
       " 'ACT',\n",
       " 'TCT',\n",
       " 'TATTT',\n",
       " 'AAAG',\n",
       " 'AAAT',\n",
       " 'TTA',\n",
       " 'TCAG',\n",
       " 'AAATT',\n",
       " 'TAT',\n",
       " 'TTA',\n",
       " 'TTG',\n",
       " 'AGG',\n",
       " 'ACT',\n",
       " 'ATG',\n",
       " 'TAAT',\n",
       " 'AAAC',\n",
       " 'ATTTT',\n",
       " 'TTA',\n",
       " 'ATC',\n",
       " 'AAC',\n",
       " 'ATC',\n",
       " 'TTTT',\n",
       " 'TAT',\n",
       " 'GAA',\n",
       " 'CAA',\n",
       " 'TTG',\n",
       " 'ACC',\n",
       " 'ATA',\n",
       " 'GTG']"
      ]
     },
     "execution_count": 9,
     "metadata": {},
     "output_type": "execute_result"
    }
   ],
   "source": [
    "tokenizer(train_dset[1][0])"
   ]
  },
  {
   "cell_type": "markdown",
   "id": "9ed924de",
   "metadata": {
    "id": "sTTomnnP5kdU",
    "papermill": {
     "duration": 0.164399,
     "end_time": "2022-01-11T15:00:43.616657",
     "exception": false,
     "start_time": "2022-01-11T15:00:43.452258",
     "status": "completed"
    },
    "tags": []
   },
   "source": [
    "## Model"
   ]
  },
  {
   "cell_type": "code",
   "execution_count": 10,
   "id": "8d9de1ab",
   "metadata": {
    "execution": {
     "iopub.execute_input": "2022-01-11T15:00:43.768568Z",
     "iopub.status.busy": "2022-01-11T15:00:43.767091Z",
     "iopub.status.idle": "2022-01-11T15:00:43.818796Z",
     "shell.execute_reply": "2022-01-11T15:00:43.819391Z"
    },
    "id": "ZNuXGIdD5kdU",
    "papermill": {
     "duration": 0.128271,
     "end_time": "2022-01-11T15:00:43.819607",
     "exception": false,
     "start_time": "2022-01-11T15:00:43.691336",
     "status": "completed"
    },
    "tags": []
   },
   "outputs": [],
   "source": [
    "model = CNN(\n",
    "    number_of_classes=config[\"number_of_classes\"],\n",
    "    vocab_size=vocabulary.__len__(),\n",
    "    embedding_dim=config[\"embedding_dim\"],\n",
    "    input_len=max_tok_len\n",
    ").to(device)"
   ]
  },
  {
   "cell_type": "markdown",
   "id": "b001f626",
   "metadata": {
    "id": "1pqIm92h5kdV",
    "papermill": {
     "duration": 0.057345,
     "end_time": "2022-01-11T15:00:43.936886",
     "exception": false,
     "start_time": "2022-01-11T15:00:43.879541",
     "status": "completed"
    },
    "tags": []
   },
   "source": [
    "## Training"
   ]
  },
  {
   "cell_type": "code",
   "execution_count": 11,
   "id": "42e6ae04",
   "metadata": {
    "colab": {
     "base_uri": "https://localhost:8080/"
    },
    "execution": {
     "iopub.execute_input": "2022-01-11T15:00:44.108727Z",
     "iopub.status.busy": "2022-01-11T15:00:44.106170Z",
     "iopub.status.idle": "2022-01-11T15:14:37.783212Z",
     "shell.execute_reply": "2022-01-11T15:14:37.783799Z"
    },
    "id": "uvO_-RFm5kdV",
    "outputId": "7799e5f9-78a7-4ef2-95e8-f06751912eda",
    "papermill": {
     "duration": 833.77876,
     "end_time": "2022-01-11T15:14:37.784517",
     "exception": false,
     "start_time": "2022-01-11T15:00:44.005757",
     "status": "completed"
    },
    "tags": []
   },
   "outputs": [
    {
     "name": "stdout",
     "output_type": "stream",
     "text": [
      "Epoch 0\n"
     ]
    },
    {
     "name": "stderr",
     "output_type": "stream",
     "text": [
      "/Users/katarina/Documents/repositories/GitHub/GLP/src/glp/tokenizers/utils.py:27: UserWarning: To copy construct from a tensor, it is recommended to use sourceTensor.clone().detach() or sourceTensor.clone().detach().requires_grad_(True), rather than torch.tensor(sourceTensor).\n",
      "  x = torch.tensor(pad(x), dtype=torch.long)\n"
     ]
    },
    {
     "name": "stdout",
     "output_type": "stream",
     "text": [
      "Train metrics: \n",
      " Accuracy: 87.8%, Avg loss: 0.558036 \n",
      "\n",
      "Epoch 1\n"
     ]
    },
    {
     "name": "stdout",
     "output_type": "stream",
     "text": [
      "Train metrics: \n",
      " Accuracy: 88.5%, Avg loss: 0.556494 \n",
      "\n",
      "Epoch 2\n"
     ]
    },
    {
     "name": "stdout",
     "output_type": "stream",
     "text": [
      "Train metrics: \n",
      " Accuracy: 89.6%, Avg loss: 0.552644 \n",
      "\n",
      "Epoch 3\n"
     ]
    },
    {
     "name": "stdout",
     "output_type": "stream",
     "text": [
      "Train metrics: \n",
      " Accuracy: 89.1%, Avg loss: 0.551689 \n",
      "\n",
      "Epoch 4\n"
     ]
    },
    {
     "name": "stdout",
     "output_type": "stream",
     "text": [
      "Train metrics: \n",
      " Accuracy: 89.9%, Avg loss: 0.547731 \n",
      "\n"
     ]
    }
   ],
   "source": [
    "model.train(train_loader, epochs=config[\"epochs\"])"
   ]
  },
  {
   "cell_type": "markdown",
   "id": "c5e857f4",
   "metadata": {
    "id": "bR2tamrc5kdV",
    "papermill": {
     "duration": 0.07363,
     "end_time": "2022-01-11T15:14:37.902814",
     "exception": false,
     "start_time": "2022-01-11T15:14:37.829184",
     "status": "completed"
    },
    "tags": []
   },
   "source": [
    "## Testing"
   ]
  },
  {
   "cell_type": "code",
   "execution_count": 12,
   "id": "bd6d7088",
   "metadata": {
    "colab": {
     "base_uri": "https://localhost:8080/"
    },
    "execution": {
     "iopub.execute_input": "2022-01-11T15:14:38.036758Z",
     "iopub.status.busy": "2022-01-11T15:14:38.035291Z",
     "iopub.status.idle": "2022-01-11T15:15:01.958627Z",
     "shell.execute_reply": "2022-01-11T15:15:01.959310Z"
    },
    "id": "wbnciyRK5kdW",
    "outputId": "d2592f9d-f074-465f-95f8-df3b759ae068",
    "papermill": {
     "duration": 24.006263,
     "end_time": "2022-01-11T15:15:01.959765",
     "exception": false,
     "start_time": "2022-01-11T15:14:37.953502",
     "status": "completed"
    },
    "tags": []
   },
   "outputs": [
    {
     "name": "stdout",
     "output_type": "stream",
     "text": [
      "p  12500 ; tp  10428.25254869461 ; fp  842.5873661469022\n",
      "recall  0.8342602038955689 ; precision  0.9252418300221462\n",
      "num_batches 782\n",
      "correct 22082\n",
      "size 25000\n",
      "Test metrics: \n",
      " Accuracy: 0.883280, F1 score: 0.877399, Avg loss: 0.554831 \n",
      "\n"
     ]
    },
    {
     "data": {
      "text/plain": [
       "(0.88328, 0.8773987445166924)"
      ]
     },
     "execution_count": 12,
     "metadata": {},
     "output_type": "execute_result"
    }
   ],
   "source": [
    "test_dset = get_dataset(config[\"dataset\"], 'test')\n",
    "test_loader = DataLoader(test_dset, batch_size=config[\"batch_size\"], shuffle=True, collate_fn=collate)\n",
    "\n",
    "acc, f1 = model.test(test_loader)\n",
    "acc, f1"
   ]
  }
 ],
 "metadata": {
  "accelerator": "TPU",
  "colab": {
   "name": "torch_cnn_classifier.ipynb",
   "provenance": []
  },
  "environment": {
   "name": "pytorch-gpu.1-9.m75",
   "type": "gcloud",
   "uri": "gcr.io/deeplearning-platform-release/pytorch-gpu.1-9:m75"
  },
  "interpreter": {
   "hash": "9828b828580f1cac1b571b33de6cff8bacecc8916095e1bcbc967952ca7105b7"
  },
  "kernelspec": {
   "display_name": "Python 3",
   "name": "python3"
  },
  "language_info": {
   "codemirror_mode": {
    "name": "ipython",
    "version": 3
   },
   "file_extension": ".py",
   "mimetype": "text/x-python",
   "name": "python",
   "nbconvert_exporter": "python",
   "pygments_lexer": "ipython3",
   "version": "3.8.9"
  },
  "papermill": {
   "default_parameters": {},
   "duration": 10903.910454,
   "end_time": "2022-01-11T15:15:02.850399",
   "environment_variables": {},
   "exception": null,
   "input_path": "torch_cnn.ipynb",
   "output_path": "../torch_cnn_experiments/demo_human_or_worm_subword_128.ipynb",
   "parameters": {
    "DATASET": "demo_human_or_worm",
    "TOKENIZER": "subword",
    "VOCAB_SIZE": 128
   },
   "start_time": "2022-01-11T12:13:18.939945",
   "version": "2.3.3"
  }
 },
 "nbformat": 4,
 "nbformat_minor": 5
}