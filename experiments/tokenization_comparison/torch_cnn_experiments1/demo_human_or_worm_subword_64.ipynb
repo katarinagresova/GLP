{
 "cells": [
  {
   "cell_type": "markdown",
   "id": "c6be110e",
   "metadata": {
    "id": "SKOD9lvq5kdM",
    "papermill": {
     "duration": 0.018462,
     "end_time": "2022-01-11T11:03:04.958296",
     "exception": false,
     "start_time": "2022-01-11T11:03:04.939834",
     "status": "completed"
    },
    "tags": []
   },
   "source": [
    "# PYTORCH CNN Classifier"
   ]
  },
  {
   "cell_type": "code",
   "execution_count": 1,
   "id": "e20efd8b",
   "metadata": {
    "execution": {
     "iopub.execute_input": "2022-01-11T11:03:04.996236Z",
     "iopub.status.busy": "2022-01-11T11:03:04.995378Z",
     "iopub.status.idle": "2022-01-11T11:03:05.000722Z",
     "shell.execute_reply": "2022-01-11T11:03:05.001259Z"
    },
    "id": "E8prt3AL5kdO",
    "papermill": {
     "duration": 0.028707,
     "end_time": "2022-01-11T11:03:05.001604",
     "exception": false,
     "start_time": "2022-01-11T11:03:04.972897",
     "status": "completed"
    },
    "tags": [
     "parameters"
    ]
   },
   "outputs": [],
   "source": [
    "DATASET = 'none'\n",
    "VOCAB_SIZE = 0\n",
    "TOKENIZER = 'none'\n",
    "KMER = 0"
   ]
  },
  {
   "cell_type": "code",
   "execution_count": 2,
   "id": "9f792fd2",
   "metadata": {
    "execution": {
     "iopub.execute_input": "2022-01-11T11:03:05.033748Z",
     "iopub.status.busy": "2022-01-11T11:03:05.032957Z",
     "iopub.status.idle": "2022-01-11T11:03:05.035240Z",
     "shell.execute_reply": "2022-01-11T11:03:05.035707Z"
    },
    "papermill": {
     "duration": 0.020862,
     "end_time": "2022-01-11T11:03:05.035940",
     "exception": false,
     "start_time": "2022-01-11T11:03:05.015078",
     "status": "completed"
    },
    "tags": [
     "injected-parameters"
    ]
   },
   "outputs": [],
   "source": [
    "# Parameters\n",
    "DATASET = \"demo_human_or_worm\"\n",
    "TOKENIZER = \"subword\"\n",
    "VOCAB_SIZE = 64\n"
   ]
  },
  {
   "cell_type": "code",
   "execution_count": 3,
   "id": "a9ceedb8",
   "metadata": {
    "colab": {
     "base_uri": "https://localhost:8080/"
    },
    "execution": {
     "iopub.execute_input": "2022-01-11T11:03:05.068956Z",
     "iopub.status.busy": "2022-01-11T11:03:05.068125Z",
     "iopub.status.idle": "2022-01-11T11:03:05.071225Z",
     "shell.execute_reply": "2022-01-11T11:03:05.071747Z"
    },
    "id": "rohBItfR5kdP",
    "outputId": "7da7aafe-0858-48be-bf7d-f698784d88df",
    "papermill": {
     "duration": 0.022215,
     "end_time": "2022-01-11T11:03:05.072145",
     "exception": false,
     "start_time": "2022-01-11T11:03:05.049930",
     "status": "completed"
    },
    "tags": []
   },
   "outputs": [
    {
     "name": "stdout",
     "output_type": "stream",
     "text": [
      "demo_human_or_worm 64 subword 0\n"
     ]
    }
   ],
   "source": [
    "print(DATASET, VOCAB_SIZE, TOKENIZER, KMER)"
   ]
  },
  {
   "cell_type": "markdown",
   "id": "351f616e",
   "metadata": {
    "id": "Y-YQrVyb5kdQ",
    "papermill": {
     "duration": 0.014572,
     "end_time": "2022-01-11T11:03:05.100984",
     "exception": false,
     "start_time": "2022-01-11T11:03:05.086412",
     "status": "completed"
    },
    "tags": []
   },
   "source": [
    "## Config"
   ]
  },
  {
   "cell_type": "code",
   "execution_count": 4,
   "id": "f9f60365",
   "metadata": {
    "execution": {
     "iopub.execute_input": "2022-01-11T11:03:05.138468Z",
     "iopub.status.busy": "2022-01-11T11:03:05.137566Z",
     "iopub.status.idle": "2022-01-11T11:03:07.018332Z",
     "shell.execute_reply": "2022-01-11T11:03:07.018833Z"
    },
    "id": "FIunuyGk5kdR",
    "papermill": {
     "duration": 1.902488,
     "end_time": "2022-01-11T11:03:07.019512",
     "exception": false,
     "start_time": "2022-01-11T11:03:05.117024",
     "status": "completed"
    },
    "tags": []
   },
   "outputs": [],
   "source": [
    "import torch\n",
    "from torch.utils.data import DataLoader\n",
    "\n",
    "from genomic_benchmarks.dataset_getters.pytorch_datasets import get_dataset\n",
    "from glp.models import CNN\n",
    "from glp.tokenizers import get_tokenizer\n",
    "from glp.tokenizers.utils import build_vocab, coll_factory, check_config, check_seq_lengths"
   ]
  },
  {
   "cell_type": "code",
   "execution_count": 5,
   "id": "697d55ad",
   "metadata": {
    "execution": {
     "iopub.execute_input": "2022-01-11T11:03:07.056859Z",
     "iopub.status.busy": "2022-01-11T11:03:07.055817Z",
     "iopub.status.idle": "2022-01-11T11:03:07.058500Z",
     "shell.execute_reply": "2022-01-11T11:03:07.057883Z"
    },
    "id": "UgXiF6Zz5kdR",
    "papermill": {
     "duration": 0.023632,
     "end_time": "2022-01-11T11:03:07.058681",
     "exception": false,
     "start_time": "2022-01-11T11:03:07.035049",
     "status": "completed"
    },
    "tags": []
   },
   "outputs": [],
   "source": [
    "config = {\n",
    "    \"dataset\": DATASET,\n",
    "    \"tokenizer\": TOKENIZER,\n",
    "    \"dataset_version\": 0,\n",
    "    \"epochs\": 5,\n",
    "    \"batch_size\": 32,\n",
    "    \"use_padding\": True,\n",
    "    \"force_download\": False,\n",
    "    \"run_on_gpu\": True,\n",
    "    \"number_of_classes\": 2,\n",
    "    \"embedding_dim\": 100,\n",
    "}\n",
    "check_config(config)"
   ]
  },
  {
   "cell_type": "markdown",
   "id": "643b6b06",
   "metadata": {
    "id": "AUWF-avz5kdS",
    "papermill": {
     "duration": 0.015206,
     "end_time": "2022-01-11T11:03:07.089274",
     "exception": false,
     "start_time": "2022-01-11T11:03:07.074068",
     "status": "completed"
    },
    "tags": []
   },
   "source": [
    "## Choose the dataset"
   ]
  },
  {
   "cell_type": "code",
   "execution_count": 6,
   "id": "309928ae",
   "metadata": {
    "colab": {
     "base_uri": "https://localhost:8080/"
    },
    "execution": {
     "iopub.execute_input": "2022-01-11T11:03:07.126315Z",
     "iopub.status.busy": "2022-01-11T11:03:07.125498Z",
     "iopub.status.idle": "2022-01-11T11:03:08.705173Z",
     "shell.execute_reply": "2022-01-11T11:03:08.705809Z"
    },
    "id": "1oaryDJr5kdS",
    "outputId": "6a425df9-4092-4601-9cd9-f61d524b6278",
    "papermill": {
     "duration": 1.599921,
     "end_time": "2022-01-11T11:03:08.706035",
     "exception": false,
     "start_time": "2022-01-11T11:03:07.106114",
     "status": "completed"
    },
    "tags": []
   },
   "outputs": [],
   "source": [
    "train_dset = get_dataset(config[\"dataset\"], 'train')"
   ]
  },
  {
   "cell_type": "markdown",
   "id": "fa7b7937",
   "metadata": {
    "id": "B0lqmy935kdS",
    "papermill": {
     "duration": 0.044405,
     "end_time": "2022-01-11T11:03:08.783630",
     "exception": false,
     "start_time": "2022-01-11T11:03:08.739225",
     "status": "completed"
    },
    "tags": []
   },
   "source": [
    "## Tokenizer and vocab"
   ]
  },
  {
   "cell_type": "code",
   "execution_count": 7,
   "id": "dde62504",
   "metadata": {
    "colab": {
     "base_uri": "https://localhost:8080/"
    },
    "execution": {
     "iopub.execute_input": "2022-01-11T11:03:08.952201Z",
     "iopub.status.busy": "2022-01-11T11:03:08.941926Z",
     "iopub.status.idle": "2022-01-11T11:22:48.297452Z",
     "shell.execute_reply": "2022-01-11T11:22:48.298086Z"
    },
    "id": "NY_zualp5kdT",
    "outputId": "9034d65f-2f9a-4c83-a314-13d3b808fc65",
    "papermill": {
     "duration": 1179.476557,
     "end_time": "2022-01-11T11:22:48.298705",
     "exception": false,
     "start_time": "2022-01-11T11:03:08.822148",
     "status": "completed"
    },
    "tags": []
   },
   "outputs": [
    {
     "name": "stderr",
     "output_type": "stream",
     "text": [
      "sentencepiece_trainer.cc(177) LOG(INFO) Running command: --input=sample.csv --model_prefix=sample --vocab_size=64 --model_type=unigram\n",
      "sentencepiece_trainer.cc(77) LOG(INFO) Starts training with : \n",
      "trainer_spec {\n",
      "  input: sample.csv\n",
      "  input_format: \n",
      "  model_prefix: sample\n",
      "  model_type: UNIGRAM\n",
      "  vocab_size: 64\n",
      "  self_test_sample_size: 0\n",
      "  character_coverage: 0.9995\n",
      "  input_sentence_size: 0\n",
      "  shuffle_input_sentence: 1\n",
      "  seed_sentencepiece_size: 1000000\n",
      "  shrinking_factor: 0.75\n",
      "  max_sentence_length: 4192\n",
      "  num_threads: 16\n",
      "  num_sub_iterations: 2\n",
      "  max_sentencepiece_length: 16\n",
      "  split_by_unicode_script: 1\n",
      "  split_by_number: 1\n",
      "  split_by_whitespace: 1\n",
      "  split_digits: 0\n",
      "  treat_whitespace_as_suffix: 0\n",
      "  required_chars: \n",
      "  byte_fallback: 0\n",
      "  vocabulary_output_piece_score: 1\n",
      "  train_extremely_large_corpus: 0\n",
      "  hard_vocab_limit: 1\n",
      "  use_all_vocab: 0\n",
      "  unk_id: 0\n",
      "  bos_id: 1\n",
      "  eos_id: 2\n",
      "  pad_id: -1\n",
      "  unk_piece: <unk>\n",
      "  bos_piece: <s>\n",
      "  eos_piece: </s>\n",
      "  pad_piece: <pad>\n",
      "  unk_surface:  ⁇ \n",
      "}\n",
      "normalizer_spec {\n",
      "  name: nmt_nfkc\n",
      "  add_dummy_prefix: 1\n",
      "  remove_extra_whitespaces: 1\n",
      "  escape_whitespaces: 1\n",
      "  normalization_rule_tsv: \n",
      "}\n",
      "denormalizer_spec {}\n",
      "trainer_interface.cc(319) LOG(INFO) SentenceIterator is not specified. Using MultiFileSentenceIterator.\n",
      "trainer_interface.cc(174) LOG(INFO) Loading corpus: sample.csv\n"
     ]
    },
    {
     "name": "stderr",
     "output_type": "stream",
     "text": [
      "trainer_interface.cc(375) LOG(INFO) Loaded all 75000 sentences\n",
      "trainer_interface.cc(390) LOG(INFO) Adding meta_piece: <unk>\n",
      "trainer_interface.cc(390) LOG(INFO) Adding meta_piece: <s>\n",
      "trainer_interface.cc(390) LOG(INFO) Adding meta_piece: </s>\n",
      "trainer_interface.cc(395) LOG(INFO) Normalizing sentences...\n"
     ]
    },
    {
     "name": "stderr",
     "output_type": "stream",
     "text": [
      "trainer_interface.cc(456) LOG(INFO) all chars count=15074802\n",
      "trainer_interface.cc(467) LOG(INFO) Done: 100% characters are covered.\n",
      "trainer_interface.cc(477) LOG(INFO) Alphabet size=6\n",
      "trainer_interface.cc(478) LOG(INFO) Final character coverage=1\n"
     ]
    },
    {
     "name": "stderr",
     "output_type": "stream",
     "text": [
      "trainer_interface.cc(510) LOG(INFO) Done! preprocessed 75000 sentences.\n"
     ]
    },
    {
     "name": "stderr",
     "output_type": "stream",
     "text": [
      "unigram_model_trainer.cc(138) LOG(INFO) Making suffix array...\n"
     ]
    },
    {
     "name": "stderr",
     "output_type": "stream",
     "text": [
      "unigram_model_trainer.cc(142) LOG(INFO) Extracting frequent sub strings...\n"
     ]
    },
    {
     "name": "stderr",
     "output_type": "stream",
     "text": [
      "unigram_model_trainer.cc(193) LOG(INFO) Initialized 1000000 seed sentencepieces\n"
     ]
    },
    {
     "name": "stderr",
     "output_type": "stream",
     "text": [
      "trainer_interface.cc(516) LOG(INFO) Tokenizing input sentences with whitespace: 75000\n"
     ]
    },
    {
     "name": "stderr",
     "output_type": "stream",
     "text": [
      "trainer_interface.cc(526) LOG(INFO) Done! 73109\n",
      "unigram_model_trainer.cc(488) LOG(INFO) Using 73109 sentences for EM training\n"
     ]
    },
    {
     "name": "stderr",
     "output_type": "stream",
     "text": [
      "unigram_model_trainer.cc(504) LOG(INFO) EM sub_iter=0 size=615634 obj=263.975 num_tokens=1523674 num_tokens/piece=2.47497\n"
     ]
    },
    {
     "name": "stderr",
     "output_type": "stream",
     "text": [
      "unigram_model_trainer.cc(504) LOG(INFO) EM sub_iter=1 size=432903 obj=264.111 num_tokens=1607807 num_tokens/piece=3.71401\n"
     ]
    },
    {
     "name": "stderr",
     "output_type": "stream",
     "text": [
      "unigram_model_trainer.cc(504) LOG(INFO) EM sub_iter=0 size=280345 obj=263.272 num_tokens=1662269 num_tokens/piece=5.92937\n"
     ]
    },
    {
     "name": "stderr",
     "output_type": "stream",
     "text": [
      "unigram_model_trainer.cc(504) LOG(INFO) EM sub_iter=1 size=255347 obj=260.477 num_tokens=1694304 num_tokens/piece=6.6353\n"
     ]
    },
    {
     "name": "stderr",
     "output_type": "stream",
     "text": [
      "unigram_model_trainer.cc(504) LOG(INFO) EM sub_iter=0 size=188520 obj=261.101 num_tokens=1730663 num_tokens/piece=9.18026\n"
     ]
    },
    {
     "name": "stderr",
     "output_type": "stream",
     "text": [
      "unigram_model_trainer.cc(504) LOG(INFO) EM sub_iter=1 size=183877 obj=259.479 num_tokens=1741958 num_tokens/piece=9.4735\n"
     ]
    },
    {
     "name": "stderr",
     "output_type": "stream",
     "text": [
      "unigram_model_trainer.cc(504) LOG(INFO) EM sub_iter=0 size=137880 obj=260.582 num_tokens=1779032 num_tokens/piece=12.9028\n"
     ]
    },
    {
     "name": "stderr",
     "output_type": "stream",
     "text": [
      "unigram_model_trainer.cc(504) LOG(INFO) EM sub_iter=1 size=137706 obj=259.09 num_tokens=1782251 num_tokens/piece=12.9424\n"
     ]
    },
    {
     "name": "stderr",
     "output_type": "stream",
     "text": [
      "unigram_model_trainer.cc(504) LOG(INFO) EM sub_iter=0 size=103277 obj=261.112 num_tokens=1830635 num_tokens/piece=17.7255\n"
     ]
    },
    {
     "name": "stderr",
     "output_type": "stream",
     "text": [
      "unigram_model_trainer.cc(504) LOG(INFO) EM sub_iter=1 size=103270 obj=259.064 num_tokens=1831554 num_tokens/piece=17.7356\n"
     ]
    },
    {
     "name": "stderr",
     "output_type": "stream",
     "text": [
      "unigram_model_trainer.cc(504) LOG(INFO) EM sub_iter=0 size=77451 obj=261.748 num_tokens=1888857 num_tokens/piece=24.3878\n"
     ]
    },
    {
     "name": "stderr",
     "output_type": "stream",
     "text": [
      "unigram_model_trainer.cc(504) LOG(INFO) EM sub_iter=1 size=77449 obj=259.449 num_tokens=1889327 num_tokens/piece=24.3945\n"
     ]
    },
    {
     "name": "stderr",
     "output_type": "stream",
     "text": [
      "unigram_model_trainer.cc(504) LOG(INFO) EM sub_iter=0 size=58086 obj=262.394 num_tokens=1948317 num_tokens/piece=33.5419\n"
     ]
    },
    {
     "name": "stderr",
     "output_type": "stream",
     "text": [
      "unigram_model_trainer.cc(504) LOG(INFO) EM sub_iter=1 size=58085 obj=260.069 num_tokens=1948788 num_tokens/piece=33.5506\n"
     ]
    },
    {
     "name": "stderr",
     "output_type": "stream",
     "text": [
      "unigram_model_trainer.cc(504) LOG(INFO) EM sub_iter=0 size=43563 obj=263.026 num_tokens=2006108 num_tokens/piece=46.0507\n"
     ]
    },
    {
     "name": "stderr",
     "output_type": "stream",
     "text": [
      "unigram_model_trainer.cc(504) LOG(INFO) EM sub_iter=1 size=43563 obj=260.849 num_tokens=2006704 num_tokens/piece=46.0644\n"
     ]
    },
    {
     "name": "stderr",
     "output_type": "stream",
     "text": [
      "unigram_model_trainer.cc(504) LOG(INFO) EM sub_iter=0 size=32672 obj=263.668 num_tokens=2062112 num_tokens/piece=63.1156\n"
     ]
    },
    {
     "name": "stderr",
     "output_type": "stream",
     "text": [
      "unigram_model_trainer.cc(504) LOG(INFO) EM sub_iter=1 size=32672 obj=261.603 num_tokens=2062878 num_tokens/piece=63.139\n"
     ]
    },
    {
     "name": "stderr",
     "output_type": "stream",
     "text": [
      "unigram_model_trainer.cc(504) LOG(INFO) EM sub_iter=0 size=24504 obj=264.388 num_tokens=2120186 num_tokens/piece=86.5241\n"
     ]
    },
    {
     "name": "stderr",
     "output_type": "stream",
     "text": [
      "unigram_model_trainer.cc(504) LOG(INFO) EM sub_iter=1 size=24504 obj=262.356 num_tokens=2120966 num_tokens/piece=86.5559\n"
     ]
    },
    {
     "name": "stderr",
     "output_type": "stream",
     "text": [
      "unigram_model_trainer.cc(504) LOG(INFO) EM sub_iter=0 size=18378 obj=265.228 num_tokens=2182532 num_tokens/piece=118.758\n"
     ]
    },
    {
     "name": "stderr",
     "output_type": "stream",
     "text": [
      "unigram_model_trainer.cc(504) LOG(INFO) EM sub_iter=1 size=18378 obj=263.091 num_tokens=2183241 num_tokens/piece=118.796\n"
     ]
    },
    {
     "name": "stderr",
     "output_type": "stream",
     "text": [
      "unigram_model_trainer.cc(504) LOG(INFO) EM sub_iter=0 size=13783 obj=266.021 num_tokens=2247574 num_tokens/piece=163.069\n"
     ]
    },
    {
     "name": "stderr",
     "output_type": "stream",
     "text": [
      "unigram_model_trainer.cc(504) LOG(INFO) EM sub_iter=1 size=13783 obj=263.682 num_tokens=2248379 num_tokens/piece=163.127\n"
     ]
    },
    {
     "name": "stderr",
     "output_type": "stream",
     "text": [
      "unigram_model_trainer.cc(504) LOG(INFO) EM sub_iter=0 size=10337 obj=266.68 num_tokens=2317782 num_tokens/piece=224.222\n"
     ]
    },
    {
     "name": "stderr",
     "output_type": "stream",
     "text": [
      "unigram_model_trainer.cc(504) LOG(INFO) EM sub_iter=1 size=10337 obj=264.216 num_tokens=2318537 num_tokens/piece=224.295\n"
     ]
    },
    {
     "name": "stderr",
     "output_type": "stream",
     "text": [
      "unigram_model_trainer.cc(504) LOG(INFO) EM sub_iter=0 size=7752 obj=267.335 num_tokens=2392945 num_tokens/piece=308.687\n"
     ]
    },
    {
     "name": "stderr",
     "output_type": "stream",
     "text": [
      "unigram_model_trainer.cc(504) LOG(INFO) EM sub_iter=1 size=7752 obj=264.662 num_tokens=2393924 num_tokens/piece=308.814\n"
     ]
    },
    {
     "name": "stderr",
     "output_type": "stream",
     "text": [
      "unigram_model_trainer.cc(504) LOG(INFO) EM sub_iter=0 size=5814 obj=268.043 num_tokens=2472700 num_tokens/piece=425.301\n"
     ]
    },
    {
     "name": "stderr",
     "output_type": "stream",
     "text": [
      "unigram_model_trainer.cc(504) LOG(INFO) EM sub_iter=1 size=5814 obj=265.154 num_tokens=2473779 num_tokens/piece=425.487\n"
     ]
    },
    {
     "name": "stderr",
     "output_type": "stream",
     "text": [
      "unigram_model_trainer.cc(504) LOG(INFO) EM sub_iter=0 size=4360 obj=268.791 num_tokens=2557988 num_tokens/piece=586.694\n"
     ]
    },
    {
     "name": "stderr",
     "output_type": "stream",
     "text": [
      "unigram_model_trainer.cc(504) LOG(INFO) EM sub_iter=1 size=4360 obj=265.678 num_tokens=2558917 num_tokens/piece=586.908\n"
     ]
    },
    {
     "name": "stderr",
     "output_type": "stream",
     "text": [
      "unigram_model_trainer.cc(504) LOG(INFO) EM sub_iter=0 size=3270 obj=269.693 num_tokens=2650996 num_tokens/piece=810.702\n"
     ]
    },
    {
     "name": "stderr",
     "output_type": "stream",
     "text": [
      "unigram_model_trainer.cc(504) LOG(INFO) EM sub_iter=1 size=3270 obj=266.096 num_tokens=2652193 num_tokens/piece=811.068\n"
     ]
    },
    {
     "name": "stderr",
     "output_type": "stream",
     "text": [
      "unigram_model_trainer.cc(504) LOG(INFO) EM sub_iter=0 size=2452 obj=270.515 num_tokens=2751192 num_tokens/piece=1122.02\n"
     ]
    },
    {
     "name": "stderr",
     "output_type": "stream",
     "text": [
      "unigram_model_trainer.cc(504) LOG(INFO) EM sub_iter=1 size=2452 obj=266.522 num_tokens=2752409 num_tokens/piece=1122.52\n"
     ]
    },
    {
     "name": "stderr",
     "output_type": "stream",
     "text": [
      "unigram_model_trainer.cc(504) LOG(INFO) EM sub_iter=0 size=1839 obj=270.958 num_tokens=2854434 num_tokens/piece=1552.17\n"
     ]
    },
    {
     "name": "stderr",
     "output_type": "stream",
     "text": [
      "unigram_model_trainer.cc(504) LOG(INFO) EM sub_iter=1 size=1839 obj=266.785 num_tokens=2855582 num_tokens/piece=1552.79\n"
     ]
    },
    {
     "name": "stderr",
     "output_type": "stream",
     "text": [
      "unigram_model_trainer.cc(504) LOG(INFO) EM sub_iter=0 size=1379 obj=272.786 num_tokens=2964765 num_tokens/piece=2149.94\n"
     ]
    },
    {
     "name": "stderr",
     "output_type": "stream",
     "text": [
      "unigram_model_trainer.cc(504) LOG(INFO) EM sub_iter=1 size=1379 obj=267.191 num_tokens=2965693 num_tokens/piece=2150.61\n"
     ]
    },
    {
     "name": "stderr",
     "output_type": "stream",
     "text": [
      "unigram_model_trainer.cc(504) LOG(INFO) EM sub_iter=0 size=1034 obj=273.21 num_tokens=3085015 num_tokens/piece=2983.57\n"
     ]
    },
    {
     "name": "stderr",
     "output_type": "stream",
     "text": [
      "unigram_model_trainer.cc(504) LOG(INFO) EM sub_iter=1 size=1034 obj=267.494 num_tokens=3086021 num_tokens/piece=2984.55\n"
     ]
    },
    {
     "name": "stderr",
     "output_type": "stream",
     "text": [
      "unigram_model_trainer.cc(504) LOG(INFO) EM sub_iter=0 size=775 obj=274.61 num_tokens=3215223 num_tokens/piece=4148.67\n"
     ]
    },
    {
     "name": "stderr",
     "output_type": "stream",
     "text": [
      "unigram_model_trainer.cc(504) LOG(INFO) EM sub_iter=1 size=775 obj=267.869 num_tokens=3216378 num_tokens/piece=4150.17\n"
     ]
    },
    {
     "name": "stderr",
     "output_type": "stream",
     "text": [
      "unigram_model_trainer.cc(504) LOG(INFO) EM sub_iter=0 size=581 obj=274.127 num_tokens=3366989 num_tokens/piece=5795.16\n"
     ]
    },
    {
     "name": "stderr",
     "output_type": "stream",
     "text": [
      "unigram_model_trainer.cc(504) LOG(INFO) EM sub_iter=1 size=581 obj=268.052 num_tokens=3368462 num_tokens/piece=5797.7\n"
     ]
    },
    {
     "name": "stderr",
     "output_type": "stream",
     "text": [
      "unigram_model_trainer.cc(504) LOG(INFO) EM sub_iter=0 size=435 obj=274.708 num_tokens=3533024 num_tokens/piece=8121.89\n"
     ]
    },
    {
     "name": "stderr",
     "output_type": "stream",
     "text": [
      "unigram_model_trainer.cc(504) LOG(INFO) EM sub_iter=1 size=435 obj=268.287 num_tokens=3535366 num_tokens/piece=8127.28\n"
     ]
    },
    {
     "name": "stderr",
     "output_type": "stream",
     "text": [
      "unigram_model_trainer.cc(504) LOG(INFO) EM sub_iter=0 size=326 obj=274.986 num_tokens=3712883 num_tokens/piece=11389.2\n"
     ]
    },
    {
     "name": "stderr",
     "output_type": "stream",
     "text": [
      "unigram_model_trainer.cc(504) LOG(INFO) EM sub_iter=1 size=326 obj=268.57 num_tokens=3716418 num_tokens/piece=11400.1\n"
     ]
    },
    {
     "name": "stderr",
     "output_type": "stream",
     "text": [
      "unigram_model_trainer.cc(504) LOG(INFO) EM sub_iter=0 size=244 obj=275.049 num_tokens=3925406 num_tokens/piece=16087.7\n"
     ]
    },
    {
     "name": "stderr",
     "output_type": "stream",
     "text": [
      "unigram_model_trainer.cc(504) LOG(INFO) EM sub_iter=1 size=244 obj=268.772 num_tokens=3929389 num_tokens/piece=16104.1\n"
     ]
    },
    {
     "name": "stderr",
     "output_type": "stream",
     "text": [
      "unigram_model_trainer.cc(504) LOG(INFO) EM sub_iter=0 size=183 obj=275.837 num_tokens=4147514 num_tokens/piece=22664\n"
     ]
    },
    {
     "name": "stderr",
     "output_type": "stream",
     "text": [
      "unigram_model_trainer.cc(504) LOG(INFO) EM sub_iter=1 size=183 obj=268.947 num_tokens=4152894 num_tokens/piece=22693.4\n"
     ]
    },
    {
     "name": "stderr",
     "output_type": "stream",
     "text": [
      "unigram_model_trainer.cc(504) LOG(INFO) EM sub_iter=0 size=137 obj=276.774 num_tokens=4396190 num_tokens/piece=32089\n"
     ]
    },
    {
     "name": "stderr",
     "output_type": "stream",
     "text": [
      "unigram_model_trainer.cc(504) LOG(INFO) EM sub_iter=1 size=137 obj=269.105 num_tokens=4402785 num_tokens/piece=32137.1\n"
     ]
    },
    {
     "name": "stderr",
     "output_type": "stream",
     "text": [
      "unigram_model_trainer.cc(504) LOG(INFO) EM sub_iter=0 size=102 obj=279.559 num_tokens=4648212 num_tokens/piece=45570.7\n"
     ]
    },
    {
     "name": "stderr",
     "output_type": "stream",
     "text": [
      "unigram_model_trainer.cc(504) LOG(INFO) EM sub_iter=1 size=102 obj=272.236 num_tokens=4655525 num_tokens/piece=45642.4\n"
     ]
    },
    {
     "name": "stderr",
     "output_type": "stream",
     "text": [
      "unigram_model_trainer.cc(504) LOG(INFO) EM sub_iter=0 size=76 obj=280.97 num_tokens=4978328 num_tokens/piece=65504.3\n"
     ]
    },
    {
     "name": "stderr",
     "output_type": "stream",
     "text": [
      "unigram_model_trainer.cc(504) LOG(INFO) EM sub_iter=1 size=76 obj=272.77 num_tokens=4984471 num_tokens/piece=65585.1\n"
     ]
    },
    {
     "name": "stderr",
     "output_type": "stream",
     "text": [
      "unigram_model_trainer.cc(504) LOG(INFO) EM sub_iter=0 size=70 obj=274.684 num_tokens=5089788 num_tokens/piece=72711.3\n"
     ]
    },
    {
     "name": "stderr",
     "output_type": "stream",
     "text": [
      "unigram_model_trainer.cc(504) LOG(INFO) EM sub_iter=1 size=70 obj=272.586 num_tokens=5099067 num_tokens/piece=72843.8\n",
      "trainer_interface.cc(604) LOG(INFO) Saving model: sample.model\n",
      "trainer_interface.cc(615) LOG(INFO) Saving vocabs: sample.vocab\n"
     ]
    },
    {
     "name": "stdout",
     "output_type": "stream",
     "text": [
      "vocab len: 63\n",
      "{'N': 61, 'ACG': 58, 'GGC': 57, 'CTG': 55, 'CTC': 54, 'TCG': 53, 'CTT': 51, 'AGC': 49, 'GCT': 48, 'ACC': 47, 'T': 45, '<unk>': 0, 'CAC': 22, 'AGA': 41, 'GAG': 39, 'TGA': 38, 'TAC': 40, 'CAT': 24, 'AAG': 34, 'ATC': 46, 'TAT': 32, 'CCA': 50, 'CAA': 30, 'GGA': 52, 'G': 20, 'A': 28, 'CTA': 27, 'CCC': 37, 'AGG': 26, 'TTC': 25, 'TCC': 35, 'AAC': 19, 'AAAA': 14, 'TGG': 31, 'TTA': 18, 'ATA': 2, 'AAA': 13, '<pad>': 62, 'C': 56, 'TCA': 5, 'TTTT': 12, 'ACT': 7, 'ATT': 10, 'TAA': 21, 'TCT': 11, 'AAAT': 43, 'AGTT': 59, 'ACAG': 36, 'GAT': 3, 'GGG': 16, 'TGTG': 60, 'TTG': 44, 'TTTC': 17, 'AAT': 8, 'ATG': 23, 'GAA': 15, 'GCC': 33, 'TGC': 29, 'CCT': 6, '▁': 1, 'TTT': 4, 'TGTT': 42, 'GT': 9}\n"
     ]
    }
   ],
   "source": [
    "tokenizer = get_tokenizer(config['tokenizer'])\n",
    "tokenizer.train(train_dset=train_dset, vocab_size=VOCAB_SIZE, kmer=KMER)\n",
    "vocabulary = build_vocab(train_dset, tokenizer, use_padding=config[\"use_padding\"])\n",
    "\n",
    "print(\"vocab len:\" ,vocabulary.__len__())\n",
    "print(vocabulary.get_stoi())"
   ]
  },
  {
   "cell_type": "markdown",
   "id": "784e67c0",
   "metadata": {
    "id": "3hGQpSJA5kdT",
    "papermill": {
     "duration": 0.046817,
     "end_time": "2022-01-11T11:22:48.383199",
     "exception": false,
     "start_time": "2022-01-11T11:22:48.336382",
     "status": "completed"
    },
    "tags": []
   },
   "source": [
    "## Dataloader and batch preparation"
   ]
  },
  {
   "cell_type": "code",
   "execution_count": 8,
   "id": "bbe8d2db",
   "metadata": {
    "colab": {
     "base_uri": "https://localhost:8080/"
    },
    "execution": {
     "iopub.execute_input": "2022-01-11T11:22:48.471979Z",
     "iopub.status.busy": "2022-01-11T11:22:48.471068Z",
     "iopub.status.idle": "2022-01-11T11:23:55.745028Z",
     "shell.execute_reply": "2022-01-11T11:23:55.745527Z"
    },
    "id": "gXUgPH6q5kdT",
    "outputId": "a1eb6ba2-9bcd-416d-8662-e3516121da96",
    "papermill": {
     "duration": 67.32454,
     "end_time": "2022-01-11T11:23:55.745744",
     "exception": false,
     "start_time": "2022-01-11T11:22:48.421204",
     "status": "completed"
    },
    "tags": []
   },
   "outputs": [
    {
     "name": "stdout",
     "output_type": "stream",
     "text": [
      "Using cpu device\n"
     ]
    },
    {
     "name": "stdout",
     "output_type": "stream",
     "text": [
      "max_tok_len  201\n"
     ]
    },
    {
     "name": "stdout",
     "output_type": "stream",
     "text": [
      "not all sequences are of the same length\n"
     ]
    }
   ],
   "source": [
    "# Run on GPU or CPU\n",
    "device = 'cuda' if config[\"run_on_gpu\"] and torch.cuda.is_available() else 'cpu'\n",
    "print('Using {} device'.format(device))\n",
    "\n",
    "max_tok_len = check_seq_lengths(dataset=train_dset, tokenizer=tokenizer)\n",
    "\n",
    "# Data Loader\n",
    "collate = coll_factory(vocabulary, tokenizer, device, pad_to_length = max_tok_len)\n",
    "\n",
    "train_loader = DataLoader(train_dset, batch_size=config[\"batch_size\"], shuffle=True, collate_fn=collate)"
   ]
  },
  {
   "cell_type": "code",
   "execution_count": 9,
   "id": "9adaf407",
   "metadata": {
    "execution": {
     "iopub.execute_input": "2022-01-11T11:23:55.854852Z",
     "iopub.status.busy": "2022-01-11T11:23:55.854123Z",
     "iopub.status.idle": "2022-01-11T11:23:55.882200Z",
     "shell.execute_reply": "2022-01-11T11:23:55.882793Z"
    },
    "papermill": {
     "duration": 0.087361,
     "end_time": "2022-01-11T11:23:55.882994",
     "exception": false,
     "start_time": "2022-01-11T11:23:55.795633",
     "status": "completed"
    },
    "tags": []
   },
   "outputs": [
    {
     "data": {
      "text/plain": [
       "['▁',\n",
       " 'TTA',\n",
       " 'AAC',\n",
       " 'TTT',\n",
       " 'AAA',\n",
       " 'TTT',\n",
       " 'TCC',\n",
       " 'CAA',\n",
       " 'ACT',\n",
       " 'ACAG',\n",
       " 'GAA',\n",
       " 'CCC',\n",
       " 'TTT',\n",
       " 'GT',\n",
       " 'TGA',\n",
       " 'ATT',\n",
       " 'TTA',\n",
       " 'ACAG',\n",
       " 'ATT',\n",
       " 'TTT',\n",
       " 'GAG',\n",
       " 'CAC',\n",
       " 'GAA',\n",
       " 'TAC',\n",
       " 'TAC',\n",
       " 'ATT',\n",
       " 'TTA',\n",
       " 'AGA',\n",
       " 'CAA',\n",
       " 'TTT',\n",
       " 'CCT',\n",
       " 'CAT',\n",
       " 'TCA',\n",
       " 'TGTT',\n",
       " 'ACT',\n",
       " 'TCT',\n",
       " 'TAT',\n",
       " 'TTA',\n",
       " 'AAG',\n",
       " 'AAAT',\n",
       " 'TTA',\n",
       " 'TCA',\n",
       " 'GAA',\n",
       " 'ATT',\n",
       " 'TAT',\n",
       " 'TTA',\n",
       " 'TTG',\n",
       " 'AGG',\n",
       " 'ACT',\n",
       " 'ATG',\n",
       " 'T',\n",
       " 'AAT',\n",
       " 'AAA',\n",
       " 'CAT',\n",
       " 'TTT',\n",
       " 'TTA',\n",
       " 'ATC',\n",
       " 'AAC',\n",
       " 'ATC',\n",
       " 'TTTT',\n",
       " 'TAT',\n",
       " 'GAA',\n",
       " 'CAA',\n",
       " 'TTG',\n",
       " 'ACC',\n",
       " 'ATA',\n",
       " 'GT',\n",
       " 'G']"
      ]
     },
     "execution_count": 9,
     "metadata": {},
     "output_type": "execute_result"
    }
   ],
   "source": [
    "tokenizer(train_dset[1][0])"
   ]
  },
  {
   "cell_type": "markdown",
   "id": "d637c0f1",
   "metadata": {
    "id": "sTTomnnP5kdU",
    "papermill": {
     "duration": 0.104576,
     "end_time": "2022-01-11T11:23:56.052261",
     "exception": false,
     "start_time": "2022-01-11T11:23:55.947685",
     "status": "completed"
    },
    "tags": []
   },
   "source": [
    "## Model"
   ]
  },
  {
   "cell_type": "code",
   "execution_count": 10,
   "id": "ec60dc7d",
   "metadata": {
    "execution": {
     "iopub.execute_input": "2022-01-11T11:23:56.178144Z",
     "iopub.status.busy": "2022-01-11T11:23:56.176519Z",
     "iopub.status.idle": "2022-01-11T11:23:56.195641Z",
     "shell.execute_reply": "2022-01-11T11:23:56.196473Z"
    },
    "id": "ZNuXGIdD5kdU",
    "papermill": {
     "duration": 0.08487,
     "end_time": "2022-01-11T11:23:56.196710",
     "exception": false,
     "start_time": "2022-01-11T11:23:56.111840",
     "status": "completed"
    },
    "tags": []
   },
   "outputs": [],
   "source": [
    "model = CNN(\n",
    "    number_of_classes=config[\"number_of_classes\"],\n",
    "    vocab_size=vocabulary.__len__(),\n",
    "    embedding_dim=config[\"embedding_dim\"],\n",
    "    input_len=max_tok_len\n",
    ").to(device)"
   ]
  },
  {
   "cell_type": "markdown",
   "id": "f06c81bc",
   "metadata": {
    "id": "1pqIm92h5kdV",
    "papermill": {
     "duration": 0.055891,
     "end_time": "2022-01-11T11:23:56.299846",
     "exception": false,
     "start_time": "2022-01-11T11:23:56.243955",
     "status": "completed"
    },
    "tags": []
   },
   "source": [
    "## Training"
   ]
  },
  {
   "cell_type": "code",
   "execution_count": 11,
   "id": "d0f07a1a",
   "metadata": {
    "colab": {
     "base_uri": "https://localhost:8080/"
    },
    "execution": {
     "iopub.execute_input": "2022-01-11T11:23:56.409924Z",
     "iopub.status.busy": "2022-01-11T11:23:56.408620Z",
     "iopub.status.idle": "2022-01-11T12:12:40.494682Z",
     "shell.execute_reply": "2022-01-11T12:12:40.495519Z"
    },
    "id": "uvO_-RFm5kdV",
    "outputId": "7799e5f9-78a7-4ef2-95e8-f06751912eda",
    "papermill": {
     "duration": 2924.142043,
     "end_time": "2022-01-11T12:12:40.496286",
     "exception": false,
     "start_time": "2022-01-11T11:23:56.354243",
     "status": "completed"
    },
    "tags": []
   },
   "outputs": [
    {
     "name": "stdout",
     "output_type": "stream",
     "text": [
      "Epoch 0\n"
     ]
    },
    {
     "name": "stderr",
     "output_type": "stream",
     "text": [
      "/Users/katarina/Documents/repositories/GitHub/GLP/src/glp/tokenizers/utils.py:27: UserWarning: To copy construct from a tensor, it is recommended to use sourceTensor.clone().detach() or sourceTensor.clone().detach().requires_grad_(True), rather than torch.tensor(sourceTensor).\n",
      "  x = torch.tensor(pad(x), dtype=torch.long)\n"
     ]
    },
    {
     "name": "stdout",
     "output_type": "stream",
     "text": [
      "Train metrics: \n",
      " Accuracy: 88.6%, Avg loss: 0.560038 \n",
      "\n",
      "Epoch 1\n"
     ]
    },
    {
     "name": "stdout",
     "output_type": "stream",
     "text": [
      "Train metrics: \n",
      " Accuracy: 89.3%, Avg loss: 0.551205 \n",
      "\n",
      "Epoch 2\n"
     ]
    },
    {
     "name": "stdout",
     "output_type": "stream",
     "text": [
      "Train metrics: \n",
      " Accuracy: 91.5%, Avg loss: 0.543351 \n",
      "\n",
      "Epoch 3\n"
     ]
    },
    {
     "name": "stdout",
     "output_type": "stream",
     "text": [
      "Train metrics: \n",
      " Accuracy: 91.6%, Avg loss: 0.542247 \n",
      "\n",
      "Epoch 4\n"
     ]
    },
    {
     "name": "stdout",
     "output_type": "stream",
     "text": [
      "Train metrics: \n",
      " Accuracy: 92.0%, Avg loss: 0.539846 \n",
      "\n"
     ]
    }
   ],
   "source": [
    "model.train(train_loader, epochs=config[\"epochs\"])"
   ]
  },
  {
   "cell_type": "markdown",
   "id": "207fd618",
   "metadata": {
    "id": "bR2tamrc5kdV",
    "papermill": {
     "duration": 0.043676,
     "end_time": "2022-01-11T12:12:40.584475",
     "exception": false,
     "start_time": "2022-01-11T12:12:40.540799",
     "status": "completed"
    },
    "tags": []
   },
   "source": [
    "## Testing"
   ]
  },
  {
   "cell_type": "code",
   "execution_count": 12,
   "id": "040cdacf",
   "metadata": {
    "colab": {
     "base_uri": "https://localhost:8080/"
    },
    "execution": {
     "iopub.execute_input": "2022-01-11T12:12:40.686924Z",
     "iopub.status.busy": "2022-01-11T12:12:40.685749Z",
     "iopub.status.idle": "2022-01-11T12:13:18.218867Z",
     "shell.execute_reply": "2022-01-11T12:13:18.218153Z"
    },
    "id": "wbnciyRK5kdW",
    "outputId": "d2592f9d-f074-465f-95f8-df3b759ae068",
    "papermill": {
     "duration": 37.591642,
     "end_time": "2022-01-11T12:13:18.219056",
     "exception": false,
     "start_time": "2022-01-11T12:12:40.627414",
     "status": "completed"
    },
    "tags": []
   },
   "outputs": [
    {
     "name": "stdout",
     "output_type": "stream",
     "text": [
      "p  12500 ; tp  11100.399636268616 ; fp  771.1706782844927\n",
      "recall  0.8880319709014892 ; precision  0.9350405499987537\n",
      "num_batches 782\n",
      "correct 22838\n",
      "size 25000\n",
      "Test metrics: \n",
      " Accuracy: 0.913520, F1 score: 0.910930, Avg loss: 0.542811 \n",
      "\n"
     ]
    },
    {
     "data": {
      "text/plain": [
       "(0.91352, 0.9109301939104172)"
      ]
     },
     "execution_count": 12,
     "metadata": {},
     "output_type": "execute_result"
    }
   ],
   "source": [
    "test_dset = get_dataset(config[\"dataset\"], 'test')\n",
    "test_loader = DataLoader(test_dset, batch_size=config[\"batch_size\"], shuffle=True, collate_fn=collate)\n",
    "\n",
    "acc, f1 = model.test(test_loader)\n",
    "acc, f1"
   ]
  }
 ],
 "metadata": {
  "accelerator": "TPU",
  "colab": {
   "name": "torch_cnn_classifier.ipynb",
   "provenance": []
  },
  "environment": {
   "name": "pytorch-gpu.1-9.m75",
   "type": "gcloud",
   "uri": "gcr.io/deeplearning-platform-release/pytorch-gpu.1-9:m75"
  },
  "interpreter": {
   "hash": "9828b828580f1cac1b571b33de6cff8bacecc8916095e1bcbc967952ca7105b7"
  },
  "kernelspec": {
   "display_name": "Python 3",
   "name": "python3"
  },
  "language_info": {
   "codemirror_mode": {
    "name": "ipython",
    "version": 3
   },
   "file_extension": ".py",
   "mimetype": "text/x-python",
   "name": "python",
   "nbconvert_exporter": "python",
   "pygments_lexer": "ipython3",
   "version": "3.8.9"
  },
  "papermill": {
   "default_parameters": {},
   "duration": 4216.527673,
   "end_time": "2022-01-11T12:13:18.796856",
   "environment_variables": {},
   "exception": null,
   "input_path": "torch_cnn.ipynb",
   "output_path": "../torch_cnn_experiments/demo_human_or_worm_subword_64.ipynb",
   "parameters": {
    "DATASET": "demo_human_or_worm",
    "TOKENIZER": "subword",
    "VOCAB_SIZE": 64
   },
   "start_time": "2022-01-11T11:03:02.269183",
   "version": "2.3.3"
  }
 },
 "nbformat": 4,
 "nbformat_minor": 5
}