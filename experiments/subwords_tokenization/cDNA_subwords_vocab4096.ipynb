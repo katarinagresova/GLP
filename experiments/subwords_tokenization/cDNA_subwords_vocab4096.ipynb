{
 "cells": [
  {
   "cell_type": "markdown",
   "id": "funky-richmond",
   "metadata": {},
   "source": [
    "If you would like more explanation to Data preparation part, please go to cDNA_subwords_vocab64 notebook."
   ]
  },
  {
   "cell_type": "markdown",
   "id": "sunset-grave",
   "metadata": {},
   "source": [
    "# Setup"
   ]
  },
  {
   "cell_type": "code",
   "execution_count": 1,
   "id": "environmental-nudist",
   "metadata": {},
   "outputs": [
    {
     "name": "stdout",
     "output_type": "stream",
     "text": [
      "Name: fastai\n",
      "Version: 2.2.7\n",
      "Summary: fastai simplifies training fast and accurate neural nets using modern best practices\n",
      "Home-page: https://github.com/fastai/fastai/tree/master/\n",
      "Author: Jeremy Howard, Sylvain Gugger, and contributors\n",
      "Author-email: info@fast.ai\n",
      "License: Apache Software License 2.0\n",
      "Location: /opt/conda/lib/python3.7/site-packages\n",
      "Requires: matplotlib, pip, requests, pillow, torchvision, torch, fastprogress, pyyaml, fastcore, spacy, scikit-learn, pandas, packaging, scipy\n",
      "Required-by: \n"
     ]
    }
   ],
   "source": [
    "!pip show fastai"
   ]
  },
  {
   "cell_type": "code",
   "execution_count": 2,
   "id": "dressed-accuracy",
   "metadata": {},
   "outputs": [
    {
     "name": "stdout",
     "output_type": "stream",
     "text": [
      "Name: biopython\n",
      "Version: 1.78\n",
      "Summary: Freely available tools for computational molecular biology.\n",
      "Home-page: https://biopython.org/\n",
      "Author: The Biopython Contributors\n",
      "Author-email: biopython@biopython.org\n",
      "License: UNKNOWN\n",
      "Location: /opt/conda/lib/python3.7/site-packages\n",
      "Requires: numpy\n",
      "Required-by: bio\n"
     ]
    }
   ],
   "source": [
    "!pip show biopython"
   ]
  },
  {
   "cell_type": "code",
   "execution_count": 3,
   "id": "focused-kelly",
   "metadata": {},
   "outputs": [],
   "source": [
    "from Bio import SeqIO\n",
    "from fastai.text.all import *"
   ]
  },
  {
   "cell_type": "markdown",
   "id": "tired-beatles",
   "metadata": {},
   "source": [
    "# Data preparation"
   ]
  },
  {
   "cell_type": "code",
   "execution_count": 4,
   "id": "graduate-feeling",
   "metadata": {},
   "outputs": [
    {
     "name": "stdout",
     "output_type": "stream",
     "text": [
      "File ‘Homo_sapiens.GRCh38.cdna.abinitio.fa.gz’ already there; not retrieving.\n",
      "\n",
      "gzip: Homo_sapiens.GRCh38.cdna.abinitio.fa already exists;\tnot overwritten\n",
      "yes: standard output: Broken pipe\n"
     ]
    }
   ],
   "source": [
    "!wget -nc http://ftp.ensembl.org/pub/release-103/fasta/homo_sapiens/cdna/Homo_sapiens.GRCh38.cdna.abinitio.fa.gz\n",
    "!yes n | gunzip Homo_sapiens.GRCh38.cdna.abinitio.fa.gz"
   ]
  },
  {
   "cell_type": "markdown",
   "id": "coupled-comedy",
   "metadata": {},
   "source": [
    "# Token preparation"
   ]
  },
  {
   "cell_type": "code",
   "execution_count": 5,
   "id": "raised-religion",
   "metadata": {},
   "outputs": [],
   "source": [
    "with open(\"Homo_sapiens.GRCh38.cdna.abinitio.fa\", \"rt\") as handle:\n",
    "  txts = L(str(record.seq).lower() for record in SeqIO.parse(handle, \"fasta\"))"
   ]
  },
  {
   "cell_type": "code",
   "execution_count": 6,
   "id": "lesbian-mounting",
   "metadata": {},
   "outputs": [],
   "source": [
    "txt = txts[0]\n",
    "txts = txts[1:10001]"
   ]
  },
  {
   "cell_type": "code",
   "execution_count": 7,
   "id": "independent-suspect",
   "metadata": {},
   "outputs": [
    {
     "data": {
      "text/html": [],
      "text/plain": [
       "<IPython.core.display.HTML object>"
      ]
     },
     "metadata": {},
     "output_type": "display_data"
    },
    {
     "data": {
      "text/plain": [
       "{'sp_model': Path('tmp/vocab4096/spm.model')}"
      ]
     },
     "execution_count": 7,
     "metadata": {},
     "output_type": "execute_result"
    }
   ],
   "source": [
    "SPECIAL_TOKENS = 2\n",
    "ALPHABET = 4\n",
    "VOCAB_SIZE = 4096 + SPECIAL_TOKENS + ALPHABET\n",
    "tokenizer = SubwordTokenizer(vocab_sz=VOCAB_SIZE, special_toks=[], cache_dir='tmp/vocab4096', lang='dna')\n",
    "tokenizer.setup(txts)"
   ]
  },
  {
   "cell_type": "code",
   "execution_count": 8,
   "id": "removed-agriculture",
   "metadata": {},
   "outputs": [
    {
     "name": "stdout",
     "output_type": "stream",
     "text": [
      "(#192) ['▁atgg','aaagagga','aagaagaaa','agaattt','ccaat','aagtta','caacaa','acttt','tcaccat','tctaa','agaa','ccca','ctt','tcctt','atcaac','caagctg','ggcttc','tctct','agtga','ctcct','attct','agcct','ttccc','cagaaaca','gagag','tgttaa','tcctgg','tgaaaat','ataaaga','cagacac'...]\n"
     ]
    }
   ],
   "source": [
    "toks = first(tokenizer([txt]))\n",
    "print(coll_repr(toks, 30))"
   ]
  },
  {
   "cell_type": "code",
   "execution_count": 9,
   "id": "similar-turner",
   "metadata": {},
   "outputs": [
    {
     "data": {
      "text/plain": [
       "'atggaaagaggaaagaagaaaagaatttccaataagttacaacaaacttttcaccattctaaagaacccactttccttatcaaccaagctgggcttctct'"
      ]
     },
     "execution_count": 9,
     "metadata": {},
     "output_type": "execute_result"
    }
   ],
   "source": [
    "txt[:100]"
   ]
  },
  {
   "cell_type": "code",
   "execution_count": 10,
   "id": "future-clerk",
   "metadata": {},
   "outputs": [
    {
     "name": "stdout",
     "output_type": "stream",
     "text": [
      "(#192) ['▁atgg','aaagagga','aagaagaaa','agaattt','ccaat','aagtta','caacaa','acttt','tcaccat','tctaa','agaa','ccca','ctt','tcctt','atcaac','caagctg','ggcttc','tctct','agtga','ctcct','attct','agcct','ttccc','cagaaaca','gagag','tgttaa','tcctgg','tgaaaat','ataaaga','cagacac'...]\n"
     ]
    }
   ],
   "source": [
    "tkn = Tokenizer(tokenizer, rules=[], sep='')\n",
    "print(coll_repr(tkn(txt), 30))"
   ]
  },
  {
   "cell_type": "code",
   "execution_count": 11,
   "id": "competitive-muscle",
   "metadata": {},
   "outputs": [],
   "source": [
    "toks_all = txts.map(tkn)"
   ]
  },
  {
   "cell_type": "markdown",
   "id": "sensitive-warehouse",
   "metadata": {},
   "source": [
    "# Tokens analysis"
   ]
  },
  {
   "cell_type": "code",
   "execution_count": 12,
   "id": "automatic-scanning",
   "metadata": {},
   "outputs": [],
   "source": [
    "from operator import add\n",
    "\n",
    "tokens = reduce(add, toks_all)"
   ]
  },
  {
   "cell_type": "markdown",
   "id": "contained-jordan",
   "metadata": {},
   "source": [
    "## Top 10 most common tokens"
   ]
  },
  {
   "cell_type": "code",
   "execution_count": 14,
   "id": "remarkable-allocation",
   "metadata": {},
   "outputs": [
    {
     "name": "stdout",
     "output_type": "stream",
     "text": [
      "[('tga', 13305), ('tag', 6872), ('taa', 6730), ('ctga', 6433), ('atga', 5975), ('ag', 5479), ('ttga', 4331), ('tgtga', 4258), ('ga', 4086), ('agtga', 4038)]\n"
     ]
    }
   ],
   "source": [
    "import collections\n",
    "\n",
    "elements_count = collections.Counter(tokens)\n",
    "print(elements_count.most_common(10))"
   ]
  },
  {
   "cell_type": "markdown",
   "id": "retained-voltage",
   "metadata": {},
   "source": [
    "All ten most common tokens correnspond to stop codons."
   ]
  },
  {
   "cell_type": "markdown",
   "id": "acting-rider",
   "metadata": {},
   "source": [
    "## Distribution of occurences"
   ]
  },
  {
   "cell_type": "code",
   "execution_count": 15,
   "id": "danish-rover",
   "metadata": {},
   "outputs": [],
   "source": [
    "counts = []\n",
    "for count in elements_count:\n",
    "    counts.append(elements_count[count])"
   ]
  },
  {
   "cell_type": "code",
   "execution_count": 16,
   "id": "further-ability",
   "metadata": {},
   "outputs": [
    {
     "data": {
      "image/png": "[encoded data removed]",
      "text/plain": [
       "<Figure size 720x288 with 1 Axes>"
      ]
     },
     "metadata": {
      "needs_background": "light"
     },
     "output_type": "display_data"
    }
   ],
   "source": [
    "from matplotlib import pyplot\n",
    "\n",
    "pyplot.figure(figsize=(10,4))\n",
    "pyplot.hist(counts, bins=range(min(counts), max(counts) + 100, 100))\n",
    "pyplot.xlabel(\"occurence count\")\n",
    "pyplot.ylabel(\"distinct subword count\")\n",
    "pyplot.show()"
   ]
  },
  {
   "cell_type": "markdown",
   "id": "detected-cheat",
   "metadata": {},
   "source": [
    "## Distribution of lengths of subwords"
   ]
  },
  {
   "cell_type": "code",
   "execution_count": 17,
   "id": "stupid-letters",
   "metadata": {},
   "outputs": [],
   "source": [
    "lengths = []\n",
    "vocab = set(tokens)\n",
    "for token in vocab:\n",
    "    lengths.append(len(token))"
   ]
  },
  {
   "cell_type": "code",
   "execution_count": 18,
   "id": "primary-darwin",
   "metadata": {},
   "outputs": [
    {
     "data": {
      "image/png": "[encoded data removed]",
      "text/plain": [
       "<Figure size 288x432 with 1 Axes>"
      ]
     },
     "metadata": {
      "needs_background": "light"
     },
     "output_type": "display_data"
    }
   ],
   "source": [
    "from matplotlib import pyplot\n",
    "\n",
    "pyplot.figure(figsize=(4,6))\n",
    "pyplot.hist(lengths, bins=range(min(lengths), max(lengths) + 1, 1))\n",
    "pyplot.xlabel(\"length\")\n",
    "pyplot.ylabel(\"count\")\n",
    "pyplot.show()"
   ]
  },
  {
   "cell_type": "markdown",
   "id": "dress-occupation",
   "metadata": {},
   "source": [
    "## Longest words in vocabulary"
   ]
  },
  {
   "cell_type": "code",
   "execution_count": 19,
   "id": "editorial-afghanistan",
   "metadata": {},
   "outputs": [],
   "source": [
    "vocab = list(vocab)\n",
    "vocab.sort(key=len)"
   ]
  },
  {
   "cell_type": "code",
   "execution_count": 20,
   "id": "devoted-ministry",
   "metadata": {},
   "outputs": [
    {
     "name": "stdout",
     "output_type": "stream",
     "text": [
      "atcatcatcgaatgga\n",
      "accatcaccaccatca\n",
      "aatggaatcgaatgga\n",
      "aatggaattgaatgga\n"
     ]
    }
   ],
   "source": [
    "print(vocab[-1])\n",
    "print(vocab[-2])\n",
    "print(vocab[-3])\n",
    "print(vocab[-4])"
   ]
  },
  {
   "cell_type": "markdown",
   "id": "drawn-fitting",
   "metadata": {},
   "source": [
    "Longest subwords looks pretty much like repeats. And two of them differ only in one letter."
   ]
  },
  {
   "cell_type": "markdown",
   "id": "skilled-potato",
   "metadata": {},
   "source": [
    "## Least freaquent subwords in training data"
   ]
  },
  {
   "cell_type": "code",
   "execution_count": 22,
   "id": "biblical-offering",
   "metadata": {},
   "outputs": [
    {
     "name": "stdout",
     "output_type": "stream",
     "text": [
      "('aatggactcgaatgga', 80)\n",
      "('t', 92)\n",
      "('aatggaattgaatgga', 105)\n",
      "('accatcaccaccatca', 114)\n"
     ]
    }
   ],
   "source": [
    "print(elements_count.most_common()[-1])\n",
    "print(elements_count.most_common()[-2])\n",
    "print(elements_count.most_common()[-3])\n",
    "print(elements_count.most_common()[-4])"
   ]
  },
  {
   "cell_type": "markdown",
   "id": "religious-loading",
   "metadata": {},
   "source": [
    "Longest subwords are starting to became the least frequent subwords - I think that this is too large vocab size for current data."
   ]
  },
  {
   "cell_type": "code",
   "execution_count": null,
   "id": "banned-manchester",
   "metadata": {},
   "outputs": [],
   "source": []
  }
 ],
 "metadata": {
  "environment": {
   "name": "pytorch-gpu.1-7.m65",
   "type": "gcloud",
   "uri": "gcr.io/deeplearning-platform-release/pytorch-gpu.1-7:m65"
  },
  "kernelspec": {
   "display_name": "Python 3",
   "language": "python",
   "name": "python3"
  },
  "language_info": {
   "codemirror_mode": {
    "name": "ipython",
    "version": 3
   },
   "file_extension": ".py",
   "mimetype": "text/x-python",
   "name": "python",
   "nbconvert_exporter": "python",
   "pygments_lexer": "ipython3",
   "version": "3.7.10"
  }
 },
 "nbformat": 4,
 "nbformat_minor": 5
}
