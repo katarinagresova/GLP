{
  "nbformat": 4,
  "nbformat_minor": 0,
  "metadata": {
    "colab": {
      "name": "A Complete Guide to CNN for Sentence Classification with PyTorch",
      "provenance": [],
      "collapsed_sections": [],
      "toc_visible": true,
      "include_colab_link": true
    },
    "kernelspec": {
      "name": "python3",
      "display_name": "Python 3"
    },
    "accelerator": "GPU"
  },
  "cells": [
    {
      "cell_type": "markdown",
      "metadata": {
        "id": "view-in-github",
        "colab_type": "text"
      },
      "source": [
        "<a href=\"https://colab.research.google.com/github/katarinagresova/GLP/blob/main/experiments/CNN_for_DNA_Classification_with_PyTorch.ipynb\" target=\"_parent\"><img src=\"https://colab.research.google.com/assets/colab-badge.svg\" alt=\"Open In Colab\"/></a>"
      ]
    },
    {
      "cell_type": "markdown",
      "metadata": {
        "id": "XF3Q3FXQ9lcf"
      },
      "source": [
        "# CNN for DNA Classification with PyTorch"
      ]
    },
    {
      "cell_type": "markdown",
      "metadata": {
        "id": "M-FOBoaCNiQr"
      },
      "source": [
        "## Introduction"
      ]
    },
    {
      "cell_type": "markdown",
      "metadata": {
        "id": "YK2TXO_pmGgX"
      },
      "source": [
        "This article is based on [A Complete Guide to CNN for Sentence Classification with PyTorch](https://chriskhanhtran.github.io/posts/cnn-sentence-classification/) and adapted to task of DNA classification.\n",
        "\n",
        "**Convolutional Neural Networks (CNN)** were originally invented for computer vision (CV) and now are the building block of state-of-the-art CV models. One of the earliest applications of CNN in Natural Language Processing (NLP) was introduced in the paper ***Convolutional Neural Networks for Sentence Classification*** (Kim, 2014). With the same idea as in computer vision, CNN model is used as an feature extractor that encodes semantic features of sentences before these features are fed to a classifier.\n",
        "\n",
        "With only a simple one-layer CNN trained on top of pretrained word vectors and little hyperparameter tuning, the model achieves excellent results on multiple sentence-level classification tasks. CNN models are now used widely other NLP tasks such as translation or question answering as a part of a more complex architecture.\n",
        "\n",
        "CNNs also found their way into field of DNA classification. We can look at DNA as sequence of letters that are grouped into words and connected into sentences. So with just little effort we can adapt model created for sentence classification to classify DNA.\n",
        "\n",
        "\n",
        "This article covers:\n",
        "- Tokenizing and building vocabuilary from DNA data\n",
        "- Loading pretrained dna2vec vectors and creating embedding layer for fine-tuning\n",
        "- Building and training CNN model with PyTorch\n",
        "- Advice for practitioners\n",
        "- Bonus: Using Skorch as a scikit-like wrapper for PyTorch's Deep Learning models\n",
        "\n",
        "**Reference:**\n",
        "-  [Convolutional Neural Networks for Sentence Classification](https://arxiv.org/abs/1408.5882) (Kim, 2014).\n",
        "- [A Complete Guide to CNN for Sentence Classification with PyTorch](https://chriskhanhtran.github.io/posts/cnn-sentence-classification/) (Tran, 2020)\n",
        "- [dna2vec: Consistent vector representations of variable-length k-mers](https://arxiv.org/abs/1701.06279) (Ng, 2017)\n",
        "\n"
      ]
    },
    {
      "cell_type": "markdown",
      "metadata": {
        "id": "LY2qU-O5NmcZ"
      },
      "source": [
        "## 1. Set up"
      ]
    },
    {
      "cell_type": "markdown",
      "source": [
        "### 1.1. Install dependencies"
      ],
      "metadata": {
        "id": "6GEXsussBecE"
      }
    },
    {
      "cell_type": "code",
      "source": [
        "!pip install genomic-benchmarks\n",
        "!pip install gensim==4.1.2"
      ],
      "metadata": {
        "id": "_RSWEqkoBkBa",
        "outputId": "d82c676a-3253-473d-ed82-ec545d7973ed",
        "colab": {
          "base_uri": "https://localhost:8080/"
        }
      },
      "execution_count": 1,
      "outputs": [
        {
          "output_type": "stream",
          "name": "stdout",
          "text": [
            "Collecting genomic-benchmarks\n",
            "  Downloading genomic_benchmarks-0.0.6.tar.gz (17 kB)\n",
            "Collecting biopython>=1.79\n",
            "  Downloading biopython-1.79-cp37-cp37m-manylinux_2_5_x86_64.manylinux1_x86_64.whl (2.3 MB)\n",
            "\u001b[K     |████████████████████████████████| 2.3 MB 9.6 MB/s \n",
            "\u001b[?25hRequirement already satisfied: requests>=2.23.0 in /usr/local/lib/python3.7/dist-packages (from genomic-benchmarks) (2.23.0)\n",
            "Requirement already satisfied: pip>=20.0.1 in /usr/local/lib/python3.7/dist-packages (from genomic-benchmarks) (21.1.3)\n",
            "Requirement already satisfied: numpy>=1.17.0 in /usr/local/lib/python3.7/dist-packages (from genomic-benchmarks) (1.19.5)\n",
            "Requirement already satisfied: pandas>=1.1.4 in /usr/local/lib/python3.7/dist-packages (from genomic-benchmarks) (1.1.5)\n",
            "Requirement already satisfied: tqdm>=4.41.1 in /usr/local/lib/python3.7/dist-packages (from genomic-benchmarks) (4.62.3)\n",
            "Collecting pyyaml>=5.3.1\n",
            "  Downloading PyYAML-6.0-cp37-cp37m-manylinux_2_5_x86_64.manylinux1_x86_64.manylinux_2_12_x86_64.manylinux2010_x86_64.whl (596 kB)\n",
            "\u001b[K     |████████████████████████████████| 596 kB 74.5 MB/s \n",
            "\u001b[?25hRequirement already satisfied: googledrivedownloader>=0.4 in /usr/local/lib/python3.7/dist-packages (from genomic-benchmarks) (0.4)\n",
            "Collecting yarl\n",
            "  Downloading yarl-1.7.2-cp37-cp37m-manylinux_2_5_x86_64.manylinux1_x86_64.manylinux_2_12_x86_64.manylinux2010_x86_64.whl (271 kB)\n",
            "\u001b[K     |████████████████████████████████| 271 kB 78.3 MB/s \n",
            "\u001b[?25hRequirement already satisfied: python-dateutil>=2.7.3 in /usr/local/lib/python3.7/dist-packages (from pandas>=1.1.4->genomic-benchmarks) (2.8.2)\n",
            "Requirement already satisfied: pytz>=2017.2 in /usr/local/lib/python3.7/dist-packages (from pandas>=1.1.4->genomic-benchmarks) (2018.9)\n",
            "Requirement already satisfied: six>=1.5 in /usr/local/lib/python3.7/dist-packages (from python-dateutil>=2.7.3->pandas>=1.1.4->genomic-benchmarks) (1.15.0)\n",
            "Requirement already satisfied: certifi>=2017.4.17 in /usr/local/lib/python3.7/dist-packages (from requests>=2.23.0->genomic-benchmarks) (2021.10.8)\n",
            "Requirement already satisfied: urllib3!=1.25.0,!=1.25.1,<1.26,>=1.21.1 in /usr/local/lib/python3.7/dist-packages (from requests>=2.23.0->genomic-benchmarks) (1.24.3)\n",
            "Requirement already satisfied: chardet<4,>=3.0.2 in /usr/local/lib/python3.7/dist-packages (from requests>=2.23.0->genomic-benchmarks) (3.0.4)\n",
            "Requirement already satisfied: idna<3,>=2.5 in /usr/local/lib/python3.7/dist-packages (from requests>=2.23.0->genomic-benchmarks) (2.10)\n",
            "Collecting multidict>=4.0\n",
            "  Downloading multidict-5.2.0-cp37-cp37m-manylinux_2_5_x86_64.manylinux1_x86_64.manylinux_2_12_x86_64.manylinux2010_x86_64.whl (160 kB)\n",
            "\u001b[K     |████████████████████████████████| 160 kB 75.7 MB/s \n",
            "\u001b[?25hRequirement already satisfied: typing-extensions>=3.7.4 in /usr/local/lib/python3.7/dist-packages (from yarl->genomic-benchmarks) (3.10.0.2)\n",
            "Building wheels for collected packages: genomic-benchmarks\n",
            "  Building wheel for genomic-benchmarks (setup.py) ... \u001b[?25l\u001b[?25hdone\n",
            "  Created wheel for genomic-benchmarks: filename=genomic_benchmarks-0.0.6-py3-none-any.whl size=17526 sha256=1f2268bd35eadb2ec6bc0d9642637bd9eed28622bf852f56d35c9e9bebf2703e\n",
            "  Stored in directory: /root/.cache/pip/wheels/a7/0f/e4/f723fa5070923dc495b63e02600faf64bf76dbdf422ebdeb66\n",
            "Successfully built genomic-benchmarks\n",
            "Installing collected packages: multidict, yarl, pyyaml, biopython, genomic-benchmarks\n",
            "  Attempting uninstall: pyyaml\n",
            "    Found existing installation: PyYAML 3.13\n",
            "    Uninstalling PyYAML-3.13:\n",
            "      Successfully uninstalled PyYAML-3.13\n",
            "Successfully installed biopython-1.79 genomic-benchmarks-0.0.6 multidict-5.2.0 pyyaml-6.0 yarl-1.7.2\n",
            "Collecting gensim==4.1.2\n",
            "  Downloading gensim-4.1.2-cp37-cp37m-manylinux_2_12_x86_64.manylinux2010_x86_64.whl (24.1 MB)\n",
            "\u001b[K     |████████████████████████████████| 24.1 MB 1.4 MB/s \n",
            "\u001b[?25hRequirement already satisfied: smart-open>=1.8.1 in /usr/local/lib/python3.7/dist-packages (from gensim==4.1.2) (5.2.1)\n",
            "Requirement already satisfied: numpy>=1.17.0 in /usr/local/lib/python3.7/dist-packages (from gensim==4.1.2) (1.19.5)\n",
            "Requirement already satisfied: scipy>=0.18.1 in /usr/local/lib/python3.7/dist-packages (from gensim==4.1.2) (1.4.1)\n",
            "Installing collected packages: gensim\n",
            "  Attempting uninstall: gensim\n",
            "    Found existing installation: gensim 3.6.0\n",
            "    Uninstalling gensim-3.6.0:\n",
            "      Successfully uninstalled gensim-3.6.0\n",
            "Successfully installed gensim-4.1.2\n"
          ]
        }
      ]
    },
    {
      "cell_type": "markdown",
      "source": [
        "You will be promted to restart your environment in Google Colab after following cell. Just click on `RESTART RUNTIME` button at the bottom of output from following cell. Confirm the prompt and continue with executing cells."
      ],
      "metadata": {
        "id": "tRQpxnbRgXIi"
      }
    },
    {
      "cell_type": "code",
      "source": [
        "!wget https://raw.githubusercontent.com/xinrcornelia/dna2vec/master/requirements.txt\n",
        "!pip install -r requirements.txt"
      ],
      "metadata": {
        "id": "iKmJauX5BpH6",
        "outputId": "e5d7eac0-8bd5-4782-859c-acd2bd113ca9",
        "colab": {
          "base_uri": "https://localhost:8080/",
          "height": 1000
        }
      },
      "execution_count": 2,
      "outputs": [
        {
          "output_type": "stream",
          "name": "stdout",
          "text": [
            "--2022-01-14 16:51:37--  https://raw.githubusercontent.com/xinrcornelia/dna2vec/master/requirements.txt\n",
            "Resolving raw.githubusercontent.com (raw.githubusercontent.com)... 185.199.108.133, 185.199.109.133, 185.199.110.133, ...\n",
            "Connecting to raw.githubusercontent.com (raw.githubusercontent.com)|185.199.108.133|:443... connected.\n",
            "HTTP request sent, awaiting response... 200 OK\n",
            "Length: 351 [text/plain]\n",
            "Saving to: ‘requirements.txt’\n",
            "\n",
            "\rrequirements.txt      0%[                    ]       0  --.-KB/s               \rrequirements.txt    100%[===================>]     351  --.-KB/s    in 0s      \n",
            "\n",
            "2022-01-14 16:51:37 (23.7 MB/s) - ‘requirements.txt’ saved [351/351]\n",
            "\n",
            "Collecting arrow==0.8.0\n",
            "  Downloading arrow-0.8.0.tar.gz (81 kB)\n",
            "\u001b[K     |████████████████████████████████| 81 kB 5.6 MB/s \n",
            "\u001b[?25hCollecting biopython==1.68\n",
            "  Downloading biopython-1.68.tar.gz (14.4 MB)\n",
            "\u001b[K     |████████████████████████████████| 14.4 MB 11.6 MB/s \n",
            "\u001b[?25hCollecting boto==2.46.1\n",
            "  Downloading boto-2.46.1-py2.py3-none-any.whl (1.4 MB)\n",
            "\u001b[K     |████████████████████████████████| 1.4 MB 56.5 MB/s \n",
            "\u001b[?25hCollecting bz2file==0.98\n",
            "  Downloading bz2file-0.98.tar.gz (11 kB)\n",
            "Collecting ConfigArgParse==0.11.0\n",
            "  Downloading ConfigArgParse-0.11.0.tar.gz (40 kB)\n",
            "\u001b[K     |████████████████████████████████| 40 kB 7.8 MB/s \n",
            "\u001b[?25hRequirement already satisfied: gensim==4.1.2 in /usr/local/lib/python3.7/dist-packages (from -r requirements.txt (line 6)) (4.1.2)\n",
            "Collecting Logbook==1.0.0\n",
            "  Downloading Logbook-1.0.0.tar.gz (178 kB)\n",
            "\u001b[K     |████████████████████████████████| 178 kB 64.9 MB/s \n",
            "\u001b[?25hCollecting numpy==1.18.5\n",
            "  Downloading numpy-1.18.5-cp37-cp37m-manylinux1_x86_64.whl (20.1 MB)\n",
            "\u001b[K     |████████████████████████████████| 20.1 MB 1.3 MB/s \n",
            "\u001b[?25hCollecting pep8==1.7.0\n",
            "  Downloading pep8-1.7.0-py2.py3-none-any.whl (41 kB)\n",
            "\u001b[K     |████████████████████████████████| 41 kB 211 kB/s \n",
            "\u001b[?25hCollecting pluggy==0.4.0\n",
            "  Downloading pluggy-0.4.0-py2.py3-none-any.whl (11 kB)\n",
            "Collecting py==1.4.33\n",
            "  Downloading py-1.4.33-py2.py3-none-any.whl (83 kB)\n",
            "\u001b[K     |████████████████████████████████| 83 kB 3.2 MB/s \n",
            "\u001b[?25hCollecting pytest==3.0.7\n",
            "  Downloading pytest-3.0.7-py2.py3-none-any.whl (172 kB)\n",
            "\u001b[K     |████████████████████████████████| 172 kB 80.5 MB/s \n",
            "\u001b[?25hCollecting python-dateutil==2.8.0\n",
            "  Downloading python_dateutil-2.8.0-py2.py3-none-any.whl (226 kB)\n",
            "\u001b[K     |████████████████████████████████| 226 kB 78.8 MB/s \n",
            "\u001b[?25hRequirement already satisfied: requests==2.23.0 in /usr/local/lib/python3.7/dist-packages (from -r requirements.txt (line 14)) (2.23.0)\n",
            "Collecting scipy==1.7.1\n",
            "  Downloading scipy-1.7.1-cp37-cp37m-manylinux_2_5_x86_64.manylinux1_x86_64.whl (28.5 MB)\n",
            "\u001b[K     |████████████████████████████████| 28.5 MB 1.4 MB/s \n",
            "\u001b[?25hRequirement already satisfied: six==1.15.0 in /usr/local/lib/python3.7/dist-packages (from -r requirements.txt (line 16)) (1.15.0)\n",
            "Collecting smart-open==1.8.1\n",
            "  Downloading smart_open-1.8.1.tar.gz (48 kB)\n",
            "\u001b[K     |████████████████████████████████| 48 kB 6.1 MB/s \n",
            "\u001b[?25hCollecting tox==2.7.0\n",
            "  Downloading tox-2.7.0-py2.py3-none-any.whl (49 kB)\n",
            "\u001b[K     |████████████████████████████████| 49 kB 7.5 MB/s \n",
            "\u001b[?25hCollecting tox-pyenv==1.0.3\n",
            "  Downloading tox_pyenv-1.0.3-py2.py3-none-any.whl (6.1 kB)\n",
            "Collecting virtualenv==15.1.0\n",
            "  Downloading virtualenv-15.1.0-py2.py3-none-any.whl (1.8 MB)\n",
            "\u001b[K     |████████████████████████████████| 1.8 MB 58.7 MB/s \n",
            "\u001b[?25hCollecting folium==0.2.1\n",
            "  Downloading folium-0.2.1.tar.gz (69 kB)\n",
            "\u001b[K     |████████████████████████████████| 69 kB 11.1 MB/s \n",
            "\u001b[?25hCollecting imgaug==0.2.5\n",
            "  Downloading imgaug-0.2.5.tar.gz (562 kB)\n",
            "\u001b[K     |████████████████████████████████| 562 kB 68.0 MB/s \n",
            "\u001b[?25hRequirement already satisfied: setuptools in /usr/local/lib/python3.7/dist-packages (from pytest==3.0.7->-r requirements.txt (line 12)) (57.4.0)\n",
            "Requirement already satisfied: certifi>=2017.4.17 in /usr/local/lib/python3.7/dist-packages (from requests==2.23.0->-r requirements.txt (line 14)) (2021.10.8)\n",
            "Requirement already satisfied: urllib3!=1.25.0,!=1.25.1,<1.26,>=1.21.1 in /usr/local/lib/python3.7/dist-packages (from requests==2.23.0->-r requirements.txt (line 14)) (1.24.3)\n",
            "Requirement already satisfied: chardet<4,>=3.0.2 in /usr/local/lib/python3.7/dist-packages (from requests==2.23.0->-r requirements.txt (line 14)) (3.0.4)\n",
            "Requirement already satisfied: idna<3,>=2.5 in /usr/local/lib/python3.7/dist-packages (from requests==2.23.0->-r requirements.txt (line 14)) (2.10)\n",
            "Collecting boto3\n",
            "  Downloading boto3-1.20.35-py3-none-any.whl (131 kB)\n",
            "\u001b[K     |████████████████████████████████| 131 kB 71.2 MB/s \n",
            "\u001b[?25hRequirement already satisfied: Jinja2 in /usr/local/lib/python3.7/dist-packages (from folium==0.2.1->-r requirements.txt (line 21)) (2.11.3)\n",
            "Requirement already satisfied: scikit-image>=0.11.0 in /usr/local/lib/python3.7/dist-packages (from imgaug==0.2.5->-r requirements.txt (line 22)) (0.18.3)\n",
            "Requirement already satisfied: PyWavelets>=1.1.1 in /usr/local/lib/python3.7/dist-packages (from scikit-image>=0.11.0->imgaug==0.2.5->-r requirements.txt (line 22)) (1.2.0)\n",
            "Requirement already satisfied: pillow!=7.1.0,!=7.1.1,>=4.3.0 in /usr/local/lib/python3.7/dist-packages (from scikit-image>=0.11.0->imgaug==0.2.5->-r requirements.txt (line 22)) (7.1.2)\n",
            "Requirement already satisfied: matplotlib!=3.0.0,>=2.0.0 in /usr/local/lib/python3.7/dist-packages (from scikit-image>=0.11.0->imgaug==0.2.5->-r requirements.txt (line 22)) (3.2.2)\n",
            "Requirement already satisfied: tifffile>=2019.7.26 in /usr/local/lib/python3.7/dist-packages (from scikit-image>=0.11.0->imgaug==0.2.5->-r requirements.txt (line 22)) (2021.11.2)\n",
            "Requirement already satisfied: imageio>=2.3.0 in /usr/local/lib/python3.7/dist-packages (from scikit-image>=0.11.0->imgaug==0.2.5->-r requirements.txt (line 22)) (2.4.1)\n",
            "Requirement already satisfied: networkx>=2.0 in /usr/local/lib/python3.7/dist-packages (from scikit-image>=0.11.0->imgaug==0.2.5->-r requirements.txt (line 22)) (2.6.3)\n",
            "Requirement already satisfied: pyparsing!=2.0.4,!=2.1.2,!=2.1.6,>=2.0.1 in /usr/local/lib/python3.7/dist-packages (from matplotlib!=3.0.0,>=2.0.0->scikit-image>=0.11.0->imgaug==0.2.5->-r requirements.txt (line 22)) (3.0.6)\n",
            "Requirement already satisfied: kiwisolver>=1.0.1 in /usr/local/lib/python3.7/dist-packages (from matplotlib!=3.0.0,>=2.0.0->scikit-image>=0.11.0->imgaug==0.2.5->-r requirements.txt (line 22)) (1.3.2)\n",
            "Requirement already satisfied: cycler>=0.10 in /usr/local/lib/python3.7/dist-packages (from matplotlib!=3.0.0,>=2.0.0->scikit-image>=0.11.0->imgaug==0.2.5->-r requirements.txt (line 22)) (0.11.0)\n",
            "Collecting botocore<1.24.0,>=1.23.35\n",
            "  Downloading botocore-1.23.35-py3-none-any.whl (8.5 MB)\n",
            "\u001b[K     |████████████████████████████████| 8.5 MB 53.8 MB/s \n",
            "\u001b[?25hCollecting jmespath<1.0.0,>=0.7.1\n",
            "  Downloading jmespath-0.10.0-py2.py3-none-any.whl (24 kB)\n",
            "Collecting s3transfer<0.6.0,>=0.5.0\n",
            "  Downloading s3transfer-0.5.0-py3-none-any.whl (79 kB)\n",
            "\u001b[K     |████████████████████████████████| 79 kB 10.8 MB/s \n",
            "\u001b[?25hCollecting urllib3!=1.25.0,!=1.25.1,<1.26,>=1.21.1\n",
            "  Downloading urllib3-1.25.11-py2.py3-none-any.whl (127 kB)\n",
            "\u001b[K     |████████████████████████████████| 127 kB 76.8 MB/s \n",
            "\u001b[?25hRequirement already satisfied: MarkupSafe>=0.23 in /usr/local/lib/python3.7/dist-packages (from Jinja2->folium==0.2.1->-r requirements.txt (line 21)) (2.0.1)\n",
            "Building wheels for collected packages: arrow, biopython, bz2file, ConfigArgParse, Logbook, smart-open, folium, imgaug\n",
            "  Building wheel for arrow (setup.py) ... \u001b[?25l\u001b[?25hdone\n",
            "  Created wheel for arrow: filename=arrow-0.8.0-py3-none-any.whl size=31310 sha256=724c07d60e8427e9bc5612b57a1bf2a63ef5273409cc8c30d992160fb10dd634\n",
            "  Stored in directory: /root/.cache/pip/wheels/f8/8a/52/e0110790d547f44db5524404cb326d424f29050e3f96a12632\n",
            "  Building wheel for biopython (setup.py) ... \u001b[?25l\u001b[?25hdone\n",
            "  Created wheel for biopython: filename=biopython-1.68-cp37-cp37m-linux_x86_64.whl size=2174311 sha256=f7117aed77cb2547df03dc30def392963aec8b4dc0b7d27bb30050c76e7bc29c\n",
            "  Stored in directory: /root/.cache/pip/wheels/1f/0f/c5/1e4f778c096128191d45b358002d2a17419a95beac6266335c\n",
            "  Building wheel for bz2file (setup.py) ... \u001b[?25l\u001b[?25hdone\n",
            "  Created wheel for bz2file: filename=bz2file-0.98-py3-none-any.whl size=6882 sha256=ebe6c4814bee2ee46083a7f85f9b690b8cc6751204eb5b43eec95b5d6ea1d328\n",
            "  Stored in directory: /root/.cache/pip/wheels/85/ce/8d/b5f76b602b16a8a39f2ded74189cf5f09fc4a87bea16c54a8b\n",
            "  Building wheel for ConfigArgParse (setup.py) ... \u001b[?25l\u001b[?25hdone\n",
            "  Created wheel for ConfigArgParse: filename=ConfigArgParse-0.11.0-py3-none-any.whl size=17811 sha256=6c19aa200df780b7d2a14a7c644383550cf21f4eca842adebebb83a3a0498d85\n",
            "  Stored in directory: /root/.cache/pip/wheels/60/b3/08/910912a966dc56a0015b9845bd89dcc3e42cc3d4473bab7402\n",
            "  Building wheel for Logbook (setup.py) ... \u001b[?25l\u001b[?25hdone\n",
            "  Created wheel for Logbook: filename=Logbook-1.0.0-cp37-cp37m-linux_x86_64.whl size=62040 sha256=e765aa945bb4b7a799d65b1fb58e909e74e809b3d1cee5687a4730179f973ad7\n",
            "  Stored in directory: /root/.cache/pip/wheels/a5/68/8a/f2c79fa06a8b04a3200d2c38f9053880f511281b8d055e060c\n",
            "  Building wheel for smart-open (setup.py) ... \u001b[?25l\u001b[?25hdone\n",
            "  Created wheel for smart-open: filename=smart_open-1.8.1-py3-none-any.whl size=52654 sha256=50cf4f286d6081ea3b190902f7d977e8f4d2b613008bd95e033f8e93648973b2\n",
            "  Stored in directory: /root/.cache/pip/wheels/f6/72/b0/3b552ad3cb43bdd06de00d0d402cd5e2a2243249b8764c9034\n",
            "  Building wheel for folium (setup.py) ... \u001b[?25l\u001b[?25hdone\n",
            "  Created wheel for folium: filename=folium-0.2.1-py3-none-any.whl size=79808 sha256=5a1dbea8e781bd358e1de90086c06b0e1883caa892c6cef957cd5c241b58f720\n",
            "  Stored in directory: /root/.cache/pip/wheels/9a/f0/3a/3f79a6914ff5affaf50cabad60c9f4d565283283c97f0bdccf\n",
            "  Building wheel for imgaug (setup.py) ... \u001b[?25l\u001b[?25hdone\n",
            "  Created wheel for imgaug: filename=imgaug-0.2.5-py3-none-any.whl size=561438 sha256=d67d0301afec3deb76d0521b23261e73b8de330fcb24e168ddddfd3eb71c72ef\n",
            "  Stored in directory: /root/.cache/pip/wheels/60/dd/38/d1dc2cad2b6a66dc0249261004990bccb0f27985c74ba26e49\n",
            "Successfully built arrow biopython bz2file ConfigArgParse Logbook smart-open folium imgaug\n",
            "Installing collected packages: urllib3, python-dateutil, jmespath, botocore, s3transfer, numpy, virtualenv, scipy, py, pluggy, bz2file, boto3, boto, tox, smart-open, tox-pyenv, pytest, pep8, Logbook, imgaug, folium, ConfigArgParse, biopython, arrow\n",
            "  Attempting uninstall: urllib3\n",
            "    Found existing installation: urllib3 1.24.3\n",
            "    Uninstalling urllib3-1.24.3:\n",
            "      Successfully uninstalled urllib3-1.24.3\n",
            "  Attempting uninstall: python-dateutil\n",
            "    Found existing installation: python-dateutil 2.8.2\n",
            "    Uninstalling python-dateutil-2.8.2:\n",
            "      Successfully uninstalled python-dateutil-2.8.2\n",
            "  Attempting uninstall: numpy\n",
            "    Found existing installation: numpy 1.19.5\n",
            "    Uninstalling numpy-1.19.5:\n",
            "      Successfully uninstalled numpy-1.19.5\n",
            "  Attempting uninstall: scipy\n",
            "    Found existing installation: scipy 1.4.1\n",
            "    Uninstalling scipy-1.4.1:\n",
            "      Successfully uninstalled scipy-1.4.1\n",
            "  Attempting uninstall: py\n",
            "    Found existing installation: py 1.11.0\n",
            "    Uninstalling py-1.11.0:\n",
            "      Successfully uninstalled py-1.11.0\n",
            "  Attempting uninstall: pluggy\n",
            "    Found existing installation: pluggy 0.7.1\n",
            "    Uninstalling pluggy-0.7.1:\n",
            "      Successfully uninstalled pluggy-0.7.1\n",
            "  Attempting uninstall: smart-open\n",
            "    Found existing installation: smart-open 5.2.1\n",
            "    Uninstalling smart-open-5.2.1:\n",
            "      Successfully uninstalled smart-open-5.2.1\n",
            "  Attempting uninstall: pytest\n",
            "    Found existing installation: pytest 3.6.4\n",
            "    Uninstalling pytest-3.6.4:\n",
            "      Successfully uninstalled pytest-3.6.4\n",
            "  Attempting uninstall: imgaug\n",
            "    Found existing installation: imgaug 0.2.9\n",
            "    Uninstalling imgaug-0.2.9:\n",
            "      Successfully uninstalled imgaug-0.2.9\n",
            "  Attempting uninstall: folium\n",
            "    Found existing installation: folium 0.8.3\n",
            "    Uninstalling folium-0.8.3:\n",
            "      Successfully uninstalled folium-0.8.3\n",
            "  Attempting uninstall: biopython\n",
            "    Found existing installation: biopython 1.79\n",
            "    Uninstalling biopython-1.79:\n",
            "      Successfully uninstalled biopython-1.79\n",
            "\u001b[31mERROR: pip's dependency resolver does not currently take into account all the packages that are installed. This behaviour is the source of the following dependency conflicts.\n",
            "genomic-benchmarks 0.0.6 requires biopython>=1.79, but you have biopython 1.68 which is incompatible.\u001b[0m\n",
            "Successfully installed ConfigArgParse-0.11.0 Logbook-1.0.0 arrow-0.8.0 biopython-1.68 boto-2.46.1 boto3-1.20.35 botocore-1.23.35 bz2file-0.98 folium-0.2.1 imgaug-0.2.5 jmespath-0.10.0 numpy-1.18.5 pep8-1.7.0 pluggy-0.4.0 py-1.4.33 pytest-3.0.7 python-dateutil-2.8.0 s3transfer-0.5.0 scipy-1.7.1 smart-open-1.8.1 tox-2.7.0 tox-pyenv-1.0.3 urllib3-1.25.11 virtualenv-15.1.0\n"
          ]
        },
        {
          "output_type": "display_data",
          "data": {
            "application/vnd.colab-display-data+json": {
              "pip_warning": {
                "packages": [
                  "dateutil",
                  "numpy"
                ]
              }
            }
          },
          "metadata": {}
        }
      ]
    },
    {
      "cell_type": "markdown",
      "metadata": {
        "id": "pZ8Gv3FpmPf-"
      },
      "source": [
        "### 1.2. Import Libraries"
      ]
    },
    {
      "cell_type": "code",
      "metadata": {
        "id": "cVWONqDLmhOw",
        "outputId": "804b7d14-5dbc-4be7-809c-904f224aff76",
        "colab": {
          "base_uri": "https://localhost:8080/"
        }
      },
      "source": [
        "import os\n",
        "import re\n",
        "from tqdm import tqdm\n",
        "import numpy as np\n",
        "import pandas as pd\n",
        "import nltk\n",
        "nltk.download('punkt')\n",
        "import matplotlib.pyplot as plt\n",
        "import torch\n",
        "\n",
        "%matplotlib inline"
      ],
      "execution_count": 1,
      "outputs": [
        {
          "output_type": "stream",
          "name": "stdout",
          "text": [
            "[nltk_data] Downloading package punkt to /root/nltk_data...\n",
            "[nltk_data]   Unzipping tokenizers/punkt.zip.\n"
          ]
        }
      ]
    },
    {
      "cell_type": "markdown",
      "metadata": {
        "id": "rqGw820-mqE7"
      },
      "source": [
        "### 1.3. Download Dataset"
      ]
    },
    {
      "cell_type": "markdown",
      "metadata": {
        "id": "x4iNtHw8NG6Q"
      },
      "source": [
        "The dataset we will use is Human Nontata Promotes, genomic dataset from [Genomic Benchmarks](https://github.com/ML-Bioinfo-CEITEC/genomic_benchmarks). The dataset has 19657 positive and 16474 negative sentences with length of 251 characters."
      ]
    },
    {
      "cell_type": "code",
      "source": [
        "from genomic_benchmarks.loc2seq import download_dataset\n",
        "download_dataset(\"human_nontata_promoters\", version=0)"
      ],
      "metadata": {
        "id": "BvXwkkuf-rDI",
        "outputId": "efd6fd1d-eaaf-4cb6-e7b9-abf839039f9a",
        "colab": {
          "base_uri": "https://localhost:8080/"
        }
      },
      "execution_count": 2,
      "outputs": [
        {
          "output_type": "stream",
          "name": "stdout",
          "text": [
            "Downloading 1VdUg0Zu8yfLS6QesBXwGz1PIQrTW3Ze4 into /root/.genomic_benchmarks/human_nontata_promoters.zip... Done.\n",
            "Unzipping...Done.\n"
          ]
        },
        {
          "output_type": "execute_result",
          "data": {
            "text/plain": [
              "PosixPath('/root/.genomic_benchmarks/human_nontata_promoters')"
            ]
          },
          "metadata": {},
          "execution_count": 2
        }
      ]
    },
    {
      "cell_type": "code",
      "source": [
        "from genomic_benchmarks.data_check import info\n",
        "info(\"human_nontata_promoters\", version=0)"
      ],
      "metadata": {
        "id": "4VNYJCkvOkDH",
        "outputId": "7c468377-b570-4815-ea0c-a13ea0e06709",
        "colab": {
          "base_uri": "https://localhost:8080/",
          "height": 199
        }
      },
      "execution_count": 6,
      "outputs": [
        {
          "output_type": "stream",
          "name": "stdout",
          "text": [
            "Dataset `human_nontata_promoters` has 2 classes: negative, positive.\n",
            "\n",
            "All lenghts of genomic intervals equals 251.\n",
            "\n",
            "Totally 36131 sequences have been found, 27097 for training and 9034 for testing.\n"
          ]
        },
        {
          "output_type": "execute_result",
          "data": {
            "text/html": [
              "\n",
              "  <div id=\"df-0590d6a6-e538-496d-ba6d-0df6cde3a8a8\">\n",
              "    <div class=\"colab-df-container\">\n",
              "      <div>\n",
              "<style scoped>\n",
              "    .dataframe tbody tr th:only-of-type {\n",
              "        vertical-align: middle;\n",
              "    }\n",
              "\n",
              "    .dataframe tbody tr th {\n",
              "        vertical-align: top;\n",
              "    }\n",
              "\n",
              "    .dataframe thead th {\n",
              "        text-align: right;\n",
              "    }\n",
              "</style>\n",
              "<table border=\"1\" class=\"dataframe\">\n",
              "  <thead>\n",
              "    <tr style=\"text-align: right;\">\n",
              "      <th></th>\n",
              "      <th>train</th>\n",
              "      <th>test</th>\n",
              "    </tr>\n",
              "  </thead>\n",
              "  <tbody>\n",
              "    <tr>\n",
              "      <th>negative</th>\n",
              "      <td>12355</td>\n",
              "      <td>4119</td>\n",
              "    </tr>\n",
              "    <tr>\n",
              "      <th>positive</th>\n",
              "      <td>14742</td>\n",
              "      <td>4915</td>\n",
              "    </tr>\n",
              "  </tbody>\n",
              "</table>\n",
              "</div>\n",
              "      <button class=\"colab-df-convert\" onclick=\"convertToInteractive('df-0590d6a6-e538-496d-ba6d-0df6cde3a8a8')\"\n",
              "              title=\"Convert this dataframe to an interactive table.\"\n",
              "              style=\"display:none;\">\n",
              "        \n",
              "  <svg xmlns=\"http://www.w3.org/2000/svg\" height=\"24px\"viewBox=\"0 0 24 24\"\n",
              "       width=\"24px\">\n",
              "    <path d=\"M0 0h24v24H0V0z\" fill=\"none\"/>\n",
              "    <path d=\"M18.56 5.44l.94 2.06.94-2.06 2.06-.94-2.06-.94-.94-2.06-.94 2.06-2.06.94zm-11 1L8.5 8.5l.94-2.06 2.06-.94-2.06-.94L8.5 2.5l-.94 2.06-2.06.94zm10 10l.94 2.06.94-2.06 2.06-.94-2.06-.94-.94-2.06-.94 2.06-2.06.94z\"/><path d=\"M17.41 7.96l-1.37-1.37c-.4-.4-.92-.59-1.43-.59-.52 0-1.04.2-1.43.59L10.3 9.45l-7.72 7.72c-.78.78-.78 2.05 0 2.83L4 21.41c.39.39.9.59 1.41.59.51 0 1.02-.2 1.41-.59l7.78-7.78 2.81-2.81c.8-.78.8-2.07 0-2.86zM5.41 20L4 18.59l7.72-7.72 1.47 1.35L5.41 20z\"/>\n",
              "  </svg>\n",
              "      </button>\n",
              "      \n",
              "  <style>\n",
              "    .colab-df-container {\n",
              "      display:flex;\n",
              "      flex-wrap:wrap;\n",
              "      gap: 12px;\n",
              "    }\n",
              "\n",
              "    .colab-df-convert {\n",
              "      background-color: #E8F0FE;\n",
              "      border: none;\n",
              "      border-radius: 50%;\n",
              "      cursor: pointer;\n",
              "      display: none;\n",
              "      fill: #1967D2;\n",
              "      height: 32px;\n",
              "      padding: 0 0 0 0;\n",
              "      width: 32px;\n",
              "    }\n",
              "\n",
              "    .colab-df-convert:hover {\n",
              "      background-color: #E2EBFA;\n",
              "      box-shadow: 0px 1px 2px rgba(60, 64, 67, 0.3), 0px 1px 3px 1px rgba(60, 64, 67, 0.15);\n",
              "      fill: #174EA6;\n",
              "    }\n",
              "\n",
              "    [theme=dark] .colab-df-convert {\n",
              "      background-color: #3B4455;\n",
              "      fill: #D2E3FC;\n",
              "    }\n",
              "\n",
              "    [theme=dark] .colab-df-convert:hover {\n",
              "      background-color: #434B5C;\n",
              "      box-shadow: 0px 1px 3px 1px rgba(0, 0, 0, 0.15);\n",
              "      filter: drop-shadow(0px 1px 2px rgba(0, 0, 0, 0.3));\n",
              "      fill: #FFFFFF;\n",
              "    }\n",
              "  </style>\n",
              "\n",
              "      <script>\n",
              "        const buttonEl =\n",
              "          document.querySelector('#df-0590d6a6-e538-496d-ba6d-0df6cde3a8a8 button.colab-df-convert');\n",
              "        buttonEl.style.display =\n",
              "          google.colab.kernel.accessAllowed ? 'block' : 'none';\n",
              "\n",
              "        async function convertToInteractive(key) {\n",
              "          const element = document.querySelector('#df-0590d6a6-e538-496d-ba6d-0df6cde3a8a8');\n",
              "          const dataTable =\n",
              "            await google.colab.kernel.invokeFunction('convertToInteractive',\n",
              "                                                     [key], {});\n",
              "          if (!dataTable) return;\n",
              "\n",
              "          const docLinkHtml = 'Like what you see? Visit the ' +\n",
              "            '<a target=\"_blank\" href=https://colab.research.google.com/notebooks/data_table.ipynb>data table notebook</a>'\n",
              "            + ' to learn more about interactive tables.';\n",
              "          element.innerHTML = '';\n",
              "          dataTable['output_type'] = 'display_data';\n",
              "          await google.colab.output.renderOutput(dataTable, element);\n",
              "          const docLink = document.createElement('div');\n",
              "          docLink.innerHTML = docLinkHtml;\n",
              "          element.appendChild(docLink);\n",
              "        }\n",
              "      </script>\n",
              "    </div>\n",
              "  </div>\n",
              "  "
            ],
            "text/plain": [
              "          train  test\n",
              "negative  12355  4119\n",
              "positive  14742  4915"
            ]
          },
          "metadata": {},
          "execution_count": 6
        }
      ]
    },
    {
      "cell_type": "markdown",
      "source": [
        "### 1.4. \n",
        "\n",
        "Loading training data into `np.array`. Downloaded data have each sequence stored in a separate `.txt` file. We also insert spaces into sequences to create words of fixed length. This way, we can use word tokenization later."
      ],
      "metadata": {
        "id": "Q4J1JACuQESD"
      }
    },
    {
      "cell_type": "code",
      "metadata": {
        "id": "y0jDxQUCtxwz"
      },
      "source": [
        "WORD_LENGTH = 3\n",
        "\n",
        "def insert_spaces(text, length):\n",
        "\n",
        "    # strip last word that would be shorter than length\n",
        "    text = text[: -1 * (len(text) % length)]\n",
        "\n",
        "    # \n",
        "    return ' '.join(text[i:i+length] for i in range(0,len(text),length))\n",
        "\n",
        "def load_text(data_dir):\n",
        "    \"\"\"Load text data, uppercase text and save to a list.\"\"\"\n",
        "\n",
        "    texts = []\n",
        "    for filename in os.listdir(data_dir):\n",
        "        with open(os.path.join(data_dir, filename), 'r') as f: # open in readonly mode\n",
        "            for line in f:\n",
        "                texts.append(insert_spaces(line.upper().strip(), WORD_LENGTH))\n",
        "\n",
        "    return texts\n",
        "\n",
        "# Load files\n",
        "neg_text = load_text('/root/.genomic_benchmarks/human_nontata_promoters/train/negative/')\n",
        "pos_text = load_text('/root/.genomic_benchmarks/human_nontata_promoters/train/positive/')\n",
        "\n",
        "# Concatenate and label data\n",
        "texts = np.array(neg_text + pos_text)\n",
        "labels = np.array([0]*len(neg_text) + [1]*len(pos_text))"
      ],
      "execution_count": 4,
      "outputs": []
    },
    {
      "cell_type": "markdown",
      "source": [
        "Let's look at one training sequence."
      ],
      "metadata": {
        "id": "Lyn5PQHRVjqz"
      }
    },
    {
      "cell_type": "code",
      "source": [
        "texts[0]"
      ],
      "metadata": {
        "id": "rYJco4H0AVMQ",
        "outputId": "eab7f68f-7187-4bfb-d681-292571fd7ce0",
        "colab": {
          "base_uri": "https://localhost:8080/",
          "height": 70
        }
      },
      "execution_count": 5,
      "outputs": [
        {
          "output_type": "execute_result",
          "data": {
            "application/vnd.google.colaboratory.intrinsic+json": {
              "type": "string"
            },
            "text/plain": [
              "'CAT TTT ATG TAC TCA ATA AAT AGC AAC TAT AAT TCA TCT AAT GAT AAC AAT GCT CAT TTT GAA GCT TTA AAA ATA TGT AAA AGC ATA AAG GAG AAA GTA GAC ATA ATC TCT AGT CCT ACC ACT CAG AGG CAA CAA ATG TTA ATG TTT TAG CAT CTT TTC TTC ACC TTC CAT TCA CAC ACA TAT ATG TCC ACA CAG TTG ATT TTG CAG TGT GCA AAC AAC TTT GTA CGG TGT GTA TTA GCC AGG GTT TCA'"
            ]
          },
          "metadata": {},
          "execution_count": 5
        }
      ]
    },
    {
      "cell_type": "markdown",
      "metadata": {
        "id": "3_zdk5uPVW-c"
      },
      "source": [
        "### 1.4. Download dna2vec vectors"
      ]
    },
    {
      "cell_type": "markdown",
      "metadata": {
        "id": "l6au-ShG0bJ6"
      },
      "source": [
        "Here we use dna2vec: Consistent vector representations of variable-length k-mers (word2vec adapted for DNA).\n",
        "\n"
      ]
    },
    {
      "cell_type": "code",
      "source": [
        "!wget https://github.com/pnpnpn/dna2vec/raw/master/pretrained/dna2vec-20161219-0153-k3to8-100d-10c-29320Mbp-sliding-Xat.w2v"
      ],
      "metadata": {
        "id": "hZ68vYkpH2q2",
        "outputId": "aef9f764-81e8-4845-fab8-bbd500bf4817",
        "colab": {
          "base_uri": "https://localhost:8080/"
        }
      },
      "execution_count": 6,
      "outputs": [
        {
          "output_type": "stream",
          "name": "stdout",
          "text": [
            "--2022-01-13 13:14:24--  https://github.com/pnpnpn/dna2vec/raw/master/pretrained/dna2vec-20161219-0153-k3to8-100d-10c-29320Mbp-sliding-Xat.w2v\n",
            "Resolving github.com (github.com)... 140.82.113.3\n",
            "Connecting to github.com (github.com)|140.82.113.3|:443... connected.\n",
            "HTTP request sent, awaiting response... 302 Found\n",
            "Location: https://raw.githubusercontent.com/pnpnpn/dna2vec/master/pretrained/dna2vec-20161219-0153-k3to8-100d-10c-29320Mbp-sliding-Xat.w2v [following]\n",
            "--2022-01-13 13:14:24--  https://raw.githubusercontent.com/pnpnpn/dna2vec/master/pretrained/dna2vec-20161219-0153-k3to8-100d-10c-29320Mbp-sliding-Xat.w2v\n",
            "Resolving raw.githubusercontent.com (raw.githubusercontent.com)... 185.199.108.133, 185.199.111.133, 185.199.110.133, ...\n",
            "Connecting to raw.githubusercontent.com (raw.githubusercontent.com)|185.199.108.133|:443... connected.\n",
            "HTTP request sent, awaiting response... 200 OK\n",
            "Length: 84042299 (80M) [text/plain]\n",
            "Saving to: ‘dna2vec-20161219-0153-k3to8-100d-10c-29320Mbp-sliding-Xat.w2v.1’\n",
            "\n",
            "dna2vec-20161219-01 100%[===================>]  80.15M   210MB/s    in 0.4s    \n",
            "\n",
            "2022-01-13 13:14:25 (210 MB/s) - ‘dna2vec-20161219-0153-k3to8-100d-10c-29320Mbp-sliding-Xat.w2v.1’ saved [84042299/84042299]\n",
            "\n"
          ]
        }
      ]
    },
    {
      "cell_type": "markdown",
      "source": [
        "This is extracted part of dna2vev implementation modified by [xinrcornelia](https://github.com/xinrcornelia). Original implementation was using old and uncompatible libraries. "
      ],
      "metadata": {
        "id": "C7EKaOLeWUX1"
      }
    },
    {
      "cell_type": "code",
      "source": [
        "#Thanks to https://github.com/xinrcornelia/dna2vec/blob/master/dna2vec/multi_k_model.py\n",
        "from gensim.models import KeyedVectors\n",
        "import tempfile\n",
        "\n",
        "class SingleKModel:\n",
        "    def __init__(self, model):\n",
        "        self.model = model\n",
        "        self.vocab_lst = sorted(model.index_to_key)\n",
        "\n",
        "class MultiKModel:\n",
        "    def __init__(self, filepath):\n",
        "        self.aggregate = KeyedVectors.load_word2vec_format(filepath, binary=False)\n",
        "        #self.logger = logbook.Logger(self.__class__.__name__)\n",
        "\n",
        "        vocab_lens = [len(vocab) for vocab in self.aggregate.index_to_key]\n",
        "        self.k_low = min(vocab_lens)\n",
        "        self.k_high = max(vocab_lens)\n",
        "        self.vec_dim = self.aggregate.vector_size\n",
        "\n",
        "        self.data = {}\n",
        "        for k in range(self.k_low, self.k_high + 1):\n",
        "            self.data[k] = self.separate_out_model(k)\n",
        "\n",
        "    def vector(self, vocab):\n",
        "        return self.data[len(vocab)].model[vocab]\n",
        "\n",
        "    def l2_norm(self, vocab):\n",
        "        return np.linalg.norm(self.vector(vocab))\n",
        "\n",
        "    def separate_out_model(self, k_len):\n",
        "        vocabs = [vocab for vocab in self.aggregate.index_to_key if len(vocab) == k_len]\n",
        "        if len(vocabs) != 4 ** k_len:\n",
        "            self.logger.warn('Missing {}-mers: {} / {}'.format(k_len, len(vocabs), 4 ** k_len))\n",
        "\n",
        "        header_str = '{} {}'.format(len(vocabs), self.vec_dim)\n",
        "        with tempfile.NamedTemporaryFile(mode='w') as fptr:\n",
        "            print(header_str, file=fptr)\n",
        "            for vocab in vocabs:\n",
        "                vec_str = ' '.join(\"%f\" % val for val in self.aggregate[vocab])\n",
        "                print('{} {}'.format(vocab, vec_str), file=fptr)\n",
        "            fptr.flush()\n",
        "            return SingleKModel(KeyedVectors.load_word2vec_format(fptr.name, binary=False))"
      ],
      "metadata": {
        "id": "UOCRt7pMKA1E",
        "outputId": "49147ade-a98e-4c9c-bfc8-865fa9cd2f2e",
        "colab": {
          "base_uri": "https://localhost:8080/"
        }
      },
      "execution_count": 10,
      "outputs": [
        {
          "output_type": "stream",
          "name": "stderr",
          "text": [
            "paramiko missing, opening SSH/SCP/SFTP paths will be disabled.  `pip install paramiko` to suppress\n"
          ]
        }
      ]
    },
    {
      "cell_type": "code",
      "source": [
        "filepath = 'dna2vec-20161219-0153-k3to8-100d-10c-29320Mbp-sliding-Xat.w2v'\n",
        "mk_model = MultiKModel(filepath)"
      ],
      "metadata": {
        "id": "lHKVkW5qFPgh"
      },
      "execution_count": 11,
      "outputs": []
    },
    {
      "cell_type": "markdown",
      "source": [
        "Each DNA word is represented by vector with 100 dimensions."
      ],
      "metadata": {
        "id": "tP87083SV6LP"
      }
    },
    {
      "cell_type": "code",
      "source": [
        "mk_model.vector('AGT')"
      ],
      "metadata": {
        "id": "DDldy9hTmTgJ",
        "outputId": "26c2abc3-bdb6-4edb-8a71-1bc919cd7ead",
        "colab": {
          "base_uri": "https://localhost:8080/"
        }
      },
      "execution_count": 21,
      "outputs": [
        {
          "output_type": "execute_result",
          "data": {
            "text/plain": [
              "array([-0.100437,  0.037371, -0.003308, -0.17211 ,  0.263888,  0.213367,\n",
              "        0.139173, -0.228796, -0.43588 , -0.152078, -0.06351 ,  0.12935 ,\n",
              "       -0.309992,  0.110419,  0.15974 ,  0.422234,  0.11112 , -0.152604,\n",
              "       -0.194822, -0.08244 ,  0.146237,  0.162316, -0.056551,  0.226918,\n",
              "       -0.566757, -0.160063, -0.476681,  0.246377,  0.402231,  0.49138 ,\n",
              "        0.148335, -0.276922,  0.306808, -0.256018, -0.023064,  0.23046 ,\n",
              "       -0.370285,  0.353037, -0.116914,  0.465472,  0.168274,  0.347329,\n",
              "        0.321257, -0.034686,  0.03985 ,  0.123678, -0.148329, -0.216877,\n",
              "       -0.061961, -0.132535, -0.090232, -0.301371, -0.264962, -0.030402,\n",
              "        0.107969, -0.09688 ,  0.133854, -0.43233 ,  0.130724, -0.203363,\n",
              "       -0.014014,  0.063082,  0.023929,  0.067139,  0.22355 ,  0.158326,\n",
              "        0.10423 ,  0.02596 ,  0.114201, -0.139774, -0.349662, -0.12374 ,\n",
              "       -0.328185,  0.079055, -0.22557 , -0.106094, -0.244369, -0.405145,\n",
              "       -0.144079,  0.052439, -0.031427,  0.036935, -0.449728, -0.075704,\n",
              "       -0.118857, -0.296764,  0.105839, -0.070384,  0.128865,  0.106522,\n",
              "       -0.174091, -0.160325, -0.242552, -0.090122,  0.150408,  0.142665,\n",
              "        0.504985,  0.040182, -0.183996, -0.219605], dtype=float32)"
            ]
          },
          "metadata": {},
          "execution_count": 21
        }
      ]
    },
    {
      "cell_type": "markdown",
      "metadata": {
        "id": "5KXpMukJ2jzl"
      },
      "source": [
        "### 1.5. Set up GPU for Training"
      ]
    },
    {
      "cell_type": "markdown",
      "metadata": {
        "id": "PKjyE7bmQ-YV"
      },
      "source": [
        "Google Colab offers free GPUs and TPUs. Since we'll be training a large neural network it's best to utilize these features.\n",
        "\n",
        "A GPU can be added by going to the menu and selecting:\n",
        "\n",
        "> Runtime -> Change runtime type -> Hardware accelerator: GPU\n",
        "\n",
        "Then we need to run the following cell to specify the GPU as the device."
      ]
    },
    {
      "cell_type": "code",
      "metadata": {
        "id": "T73lLtFe2sYl",
        "outputId": "cc6cac96-2dc8-40d0-cf65-1e525fdb989b",
        "colab": {
          "base_uri": "https://localhost:8080/"
        }
      },
      "source": [
        "if torch.cuda.is_available():       \n",
        "    device = torch.device(\"cuda\")\n",
        "    print(f'There are {torch.cuda.device_count()} GPU(s) available.')\n",
        "    print('Device name:', torch.cuda.get_device_name(0))\n",
        "\n",
        "else:\n",
        "    print('No GPU available, using the CPU instead.')\n",
        "    device = torch.device(\"cpu\")"
      ],
      "execution_count": 12,
      "outputs": [
        {
          "output_type": "stream",
          "name": "stdout",
          "text": [
            "There are 1 GPU(s) available.\n",
            "Device name: Tesla K80\n"
          ]
        }
      ]
    },
    {
      "cell_type": "markdown",
      "metadata": {
        "id": "hfF1N73tzOlM"
      },
      "source": [
        "## 2. Data Preparation"
      ]
    },
    {
      "cell_type": "markdown",
      "metadata": {
        "id": "-OGgwb0TRPIs"
      },
      "source": [
        "To prepare our text data for training, first we need to tokenize our sentences and build a vocabulary dictionary `word2idx`, which will later be used to convert our tokens into indexes and build an embedding layer.\n",
        "\n",
        "***So, what is an embedding layer?***\n",
        "\n",
        "An embedding layer serves as a look-up table which take word indexes in the vocabulary as input and output word vectors. Hence, the embedding layer has shape $(N, d)$ where $N$ is the size of the vocabulary and $d$ is the embedding dimension. In order to fine-tune pretrained word vectors, we need to create an embedding layer in our `nn.Modules` class. Our input to the model will then be `input_ids`, which is the tokens' index in the vocabulary."
      ]
    },
    {
      "cell_type": "markdown",
      "metadata": {
        "id": "_wupNcAVzzVs"
      },
      "source": [
        "### 2.1. Tokenize"
      ]
    },
    {
      "cell_type": "markdown",
      "metadata": {
        "id": "mjQVL8dIjEtk"
      },
      "source": [
        "The function `tokenize` will tokenize our sentences, build a vocabulary and fine the maximum sentence length. The function `encode` will take in the outputs of `tokenize`, perform sentence padding and return `input_ids` as a numpy array."
      ]
    },
    {
      "cell_type": "code",
      "metadata": {
        "id": "4Y1QdMuWMSr5"
      },
      "source": [
        "from nltk.tokenize import word_tokenize\n",
        "from collections import defaultdict\n",
        "\n",
        "def tokenize(texts):\n",
        "    \"\"\"Tokenize texts, build vocabulary and find maximum sentence length.\n",
        "    \n",
        "    Args:\n",
        "        texts (List[str]): List of text data\n",
        "    \n",
        "    Returns:\n",
        "        tokenized_texts (List[List[str]]): List of list of tokens\n",
        "        word2idx (Dict): Vocabulary built from the corpus\n",
        "        max_len (int): Maximum sentence length\n",
        "    \"\"\"\n",
        "\n",
        "    max_len = 0\n",
        "    tokenized_texts = []\n",
        "    word2idx = {}\n",
        "\n",
        "    # Add <pad> and <unk> tokens to the vocabulary\n",
        "    word2idx['<pad>'] = 0\n",
        "    word2idx['<unk>'] = 1\n",
        "\n",
        "    # Building our vocab from the corpus starting from index 2\n",
        "    idx = 2\n",
        "    for sent in texts:\n",
        "        tokenized_sent = word_tokenize(sent)\n",
        "\n",
        "        # Add `tokenized_sent` to `tokenized_texts`\n",
        "        tokenized_texts.append(tokenized_sent)\n",
        "\n",
        "        # Add new token to `word2idx`\n",
        "        for token in tokenized_sent:\n",
        "            if token not in word2idx:\n",
        "                word2idx[token] = idx\n",
        "                idx += 1\n",
        "\n",
        "        # Update `max_len`\n",
        "        max_len = max(max_len, len(tokenized_sent))\n",
        "\n",
        "    return tokenized_texts, word2idx, max_len\n",
        "\n",
        "def encode(tokenized_texts, word2idx, max_len):\n",
        "    \"\"\"Pad each sentence to the maximum sentence length and encode tokens to\n",
        "    their index in the vocabulary.\n",
        "\n",
        "    Returns:\n",
        "        input_ids (np.array): Array of token indexes in the vocabulary with\n",
        "            shape (N, max_len). It will the input of our CNN model.\n",
        "    \"\"\"\n",
        "\n",
        "    input_ids = []\n",
        "    for tokenized_sent in tokenized_texts:\n",
        "        # Pad sentences to max_len\n",
        "        tokenized_sent += ['<pad>'] * (max_len - len(tokenized_sent))\n",
        "\n",
        "        # Encode tokens to input_ids\n",
        "        input_id = [word2idx.get(token) for token in tokenized_sent]\n",
        "        input_ids.append(input_id)\n",
        "    \n",
        "    return np.array(input_ids)"
      ],
      "execution_count": 13,
      "outputs": []
    },
    {
      "cell_type": "markdown",
      "metadata": {
        "id": "Zut46F0NK2b_"
      },
      "source": [
        "### 2.2. Load Pretrained Vectors"
      ]
    },
    {
      "cell_type": "markdown",
      "metadata": {
        "id": "1htIbprNlxtY"
      },
      "source": [
        "We will load the pretrain vectors for each tokens in our vocabulary. For tokens with no pretraiend vectors, we will initialize random word vectors with the same length and variance."
      ]
    },
    {
      "cell_type": "code",
      "metadata": {
        "id": "uBX8y7wgNiQh"
      },
      "source": [
        "from tqdm import tqdm_notebook\n",
        "\n",
        "def load_pretrained_vectors(word2idx):\n",
        "    \"\"\"Load pretrained vectors and create embedding layers.\n",
        "    \n",
        "    Args:\n",
        "        word2idx (Dict): Vocabulary built from the corpus\n",
        "        fname (str): Path to pretrained vector file\n",
        "\n",
        "    Returns:\n",
        "        embeddings (np.array): Embedding matrix with shape (N, d) where N is\n",
        "            the size of word2idx and d is embedding dimension\n",
        "    \"\"\"\n",
        "    d = len(mk_model.vector('AAA'))\n",
        "\n",
        "    # Initilize random embeddings\n",
        "    embeddings = np.random.uniform(-0.25, 0.25, (len(word2idx), d))\n",
        "    embeddings[word2idx['<pad>']] = np.zeros((d,))\n",
        "    embeddings[word2idx['<unk>']] = np.ones((d,))\n",
        "\n",
        "    # Load pretrained vectors\n",
        "    count = 0\n",
        "    for word in word2idx.keys():\n",
        "        if word == '<pad>' or word == '<unk>':\n",
        "          continue\n",
        "        try\n",
        "          embeddings[word2idx[word]] = mk_model.vector(word)\n",
        "        catch ex:\n",
        "          pass\n",
        "\n",
        "    return embeddings"
      ],
      "execution_count": 18,
      "outputs": []
    },
    {
      "cell_type": "markdown",
      "metadata": {
        "id": "Uc0J6ZXGloN7"
      },
      "source": [
        "Now let's put above steps together."
      ]
    },
    {
      "cell_type": "code",
      "metadata": {
        "id": "DctpztMIlgtt",
        "outputId": "b32e1ff4-bd1e-47f9-b708-7799fdcd4334",
        "colab": {
          "base_uri": "https://localhost:8080/"
        }
      },
      "source": [
        "# Tokenize, build vocabulary, encode tokens\n",
        "print(\"Tokenizing...\\n\")\n",
        "tokenized_texts, word2idx, max_len = tokenize(texts)\n",
        "input_ids = encode(tokenized_texts, word2idx, max_len)\n",
        "\n",
        "# Load pretrained vectors\n",
        "embeddings = load_pretrained_vectors(word2idx)\n",
        "embeddings = torch.tensor(embeddings)"
      ],
      "execution_count": 30,
      "outputs": [
        {
          "output_type": "stream",
          "name": "stdout",
          "text": [
            "Tokenizing...\n",
            "\n"
          ]
        }
      ]
    },
    {
      "cell_type": "code",
      "source": [
        "embeddings['<pad>']"
      ],
      "metadata": {
        "id": "reDs0IULXJa3"
      },
      "execution_count": null,
      "outputs": []
    },
    {
      "cell_type": "code",
      "source": [
        "embeddings['ACG']"
      ],
      "metadata": {
        "id": "hwQ2GgWqXOax"
      },
      "execution_count": null,
      "outputs": []
    },
    {
      "cell_type": "markdown",
      "metadata": {
        "id": "K87hskJtyeA_"
      },
      "source": [
        "### 2.3. Create PyTorch DataLoader"
      ]
    },
    {
      "cell_type": "markdown",
      "metadata": {
        "id": "VleMUhr4mlo9"
      },
      "source": [
        "We will create an iterator for our dataset using the torch DataLoader class. This will help save on memory during training and boost the training speed. The batch_size used in the paper is 50."
      ]
    },
    {
      "cell_type": "code",
      "metadata": {
        "id": "k4WinIkRyive"
      },
      "source": [
        "from torch.utils.data import (TensorDataset, DataLoader, RandomSampler,\n",
        "                              SequentialSampler)\n",
        "\n",
        "def data_loader(train_inputs, val_inputs, train_labels, val_labels,\n",
        "                batch_size=50):\n",
        "    \"\"\"Convert train and validation sets to torch.Tensors and load them to\n",
        "    DataLoader.\n",
        "    \"\"\"\n",
        "\n",
        "    # Convert data type to torch.Tensor\n",
        "    train_inputs, val_inputs, train_labels, val_labels =\\\n",
        "    tuple(torch.tensor(data) for data in\n",
        "          [train_inputs, val_inputs, train_labels, val_labels])\n",
        "\n",
        "    # Specify batch_size\n",
        "    batch_size = 50\n",
        "\n",
        "    # Create DataLoader for training data\n",
        "    train_data = TensorDataset(train_inputs, train_labels)\n",
        "    train_sampler = RandomSampler(train_data)\n",
        "    train_dataloader = DataLoader(train_data, sampler=train_sampler, batch_size=batch_size)\n",
        "\n",
        "    # Create DataLoader for validation data\n",
        "    val_data = TensorDataset(val_inputs, val_labels)\n",
        "    val_sampler = SequentialSampler(val_data)\n",
        "    val_dataloader = DataLoader(val_data, sampler=val_sampler, batch_size=batch_size)\n",
        "\n",
        "    return train_dataloader, val_dataloader"
      ],
      "execution_count": 33,
      "outputs": []
    },
    {
      "cell_type": "markdown",
      "metadata": {
        "id": "6xiAeikanZvE"
      },
      "source": [
        "We will use 90% of the dataset for training and 10% for validation."
      ]
    },
    {
      "cell_type": "code",
      "metadata": {
        "id": "7eCQRLKNZ-t7"
      },
      "source": [
        "from sklearn.model_selection import train_test_split\n",
        "\n",
        "# Train Test Split\n",
        "train_inputs, val_inputs, train_labels, val_labels = train_test_split(\n",
        "    input_ids, labels, test_size=0.1, random_state=42)\n",
        "\n",
        "# Load data to PyTorch DataLoader\n",
        "train_dataloader, val_dataloader = \\\n",
        "data_loader(train_inputs, val_inputs, train_labels, val_labels, batch_size=50)"
      ],
      "execution_count": 34,
      "outputs": []
    },
    {
      "cell_type": "markdown",
      "metadata": {
        "id": "2ImIIvoOSWCT"
      },
      "source": [
        "## 3. Model"
      ]
    },
    {
      "cell_type": "markdown",
      "metadata": {
        "id": "FqsrL0XToAPm"
      },
      "source": [
        "**CNN Architecture**\n",
        "\n",
        "The picture below is the illustration of the CNN architecture that we are going to build with three filter sizes: 2, 3, and 4, each of which has 2 filters."
      ]
    },
    {
      "cell_type": "markdown",
      "metadata": {
        "id": "rV15G29uqLVX"
      },
      "source": [
        "![](https://github.com/chriskhanhtran/CNN-Sentence-Classification-PyTorch/blob/master/cnn-architecture.JPG?raw=true)\n",
        "\n",
        "*CNN Architecture (Source: Zhang, 2015)*\n",
        "\n",
        "```python\n",
        "# Sample configuration:\n",
        "filter_sizes = [2, 3, 4]\n",
        "num_filters = [2, 2, 2]\n",
        "```\n",
        "\n",
        "Suppose that we are classifying the sentence \"***I like this movie very much!***\" ($N = 7$ tokens) and the dimensionality of word vectors is $d=5$. After applying the embedding layer on the input token ids, the sample sentence is presented as a 2D tensor with shape (7, 5) like an image.\n",
        "\n",
        "$$\\mathrm{x_{emb}} \\quad \\in \\mathbb{R}^{7 \\times 5}$$\n",
        "\n",
        "We then use 1-dimesional convolution to extract features from the sentence. In this example, we have 6 filters in total, and each filter has shape $(f_i, d)$ where $f_i$ is the filter size for $i \\in \\{1,...,6\\}$. Each filter will then scan over $\\mathrm{x_{emb}}$ and returns a feature map:\n",
        "\n",
        "$$\\mathrm{x_{conv_ i} = Conv1D(x_{emb})} \\quad \\in \\mathbb{R}^{N-f_i+1}$$\n",
        "\n",
        "Next, we apply the ReLU activation to $\\mathrm{x_{conv_{i}}}$ and use max-over-time-pooling to reduce each feature map to a single scalar. Then we concatenate these scalars into the final feature vector which will be fed to a fully connected layer to compute the final scores for our classes (logits).\n",
        "\n",
        "$$\\mathrm{x_{pool_i} = MaxPool(ReLU(x_{conv_i}))} \\quad \\in \\mathbb{R}$$\n",
        "\n",
        "$$\\mathrm{x_{fc} = \\texttt{concat}(x_{pool_i})} \\quad \\in \\mathbb{R}^6$$\n",
        "\n",
        "The idea here is that each filter will capture different semantic signals in the sentence (ie. happiness, humor, politic, anger...) and max-pooling will record only the strongest signal over the sentence. This logic makes sense because humans also perceive the sentiment of a sentence based on its strongest word/signal.\n",
        "\n",
        "Finally, we use a fully connected layer with the weight matrix $\\mathbf{W_{fc}} \\in \\mathbb{R}^{2 \\times 6} $ and dropout to compute $\\mathrm{logits}$, which is a vector of length 2 that keeps the scores for 2 classes.\n",
        "\n",
        "$$\\mathrm{logits = Dropout(\\mathbf{W_{fc}}x_{fc})}  \\in \\mathbb{R}^2$$\n",
        "\n",
        "An in-depth explanation of CNN can be found in this [article](https://cs231n.github.io/convolutional-networks/) and this [video](https://www.youtube.com/watch?v=YRhxdVk_sIs).\n",
        "\n",
        "\n",
        "\n",
        "\n",
        "\n",
        "\n",
        "\n",
        "\n"
      ]
    },
    {
      "cell_type": "markdown",
      "metadata": {
        "id": "MgLt4c-0iWKL"
      },
      "source": [
        "### 3.1. Create CNN Model"
      ]
    },
    {
      "cell_type": "markdown",
      "metadata": {
        "id": "bmMXZ6UG9to8"
      },
      "source": [
        "For simplicity, the model above has very small configurations. The final model we'll use is much bigger but has the same architecture:\n",
        "\n",
        "|Description         |Values           |\n",
        "|:------------------:|:---------------:|\n",
        "|input word vectors  |dna2vec         |\n",
        "|embedding size      |300              |\n",
        "|filter sizes        |(3, 4, 5)        |\n",
        "|num filters         |(100, 100, 100)  |\n",
        "|activation          |ReLU             |\n",
        "|pooling             |1-max pooling    |\n",
        "|dropout rate        |0.5              |\n",
        "\n"
      ]
    },
    {
      "cell_type": "code",
      "metadata": {
        "id": "ejGLw8TKViBY"
      },
      "source": [
        "import torch\n",
        "import torch.nn as nn\n",
        "import torch.nn.functional as F\n",
        "\n",
        "class CNN_NLP(nn.Module):\n",
        "    \"\"\"An 1D Convulational Neural Network for DNA Classification.\"\"\"\n",
        "    def __init__(self,\n",
        "                 pretrained_embedding=None,\n",
        "                 freeze_embedding=False,\n",
        "                 vocab_size=None,\n",
        "                 embed_dim=300,\n",
        "                 filter_sizes=[3, 4, 5],\n",
        "                 num_filters=[100, 100, 100],\n",
        "                 num_classes=2,\n",
        "                 dropout=0.5):\n",
        "        \"\"\"\n",
        "        The constructor for CNN_NLP class.\n",
        "\n",
        "        Args:\n",
        "            pretrained_embedding (torch.Tensor): Pretrained embeddings with\n",
        "                shape (vocab_size, embed_dim)\n",
        "            freeze_embedding (bool): Set to False to fine-tune pretraiend\n",
        "                vectors. Default: False\n",
        "            vocab_size (int): Need to be specified when not pretrained word\n",
        "                embeddings are not used.\n",
        "            embed_dim (int): Dimension of word vectors. Need to be specified\n",
        "                when pretrained word embeddings are not used. Default: 300\n",
        "            filter_sizes (List[int]): List of filter sizes. Default: [3, 4, 5]\n",
        "            num_filters (List[int]): List of number of filters, has the same\n",
        "                length as `filter_sizes`. Default: [100, 100, 100]\n",
        "            n_classes (int): Number of classes. Default: 2\n",
        "            dropout (float): Dropout rate. Default: 0.5\n",
        "        \"\"\"\n",
        "\n",
        "        super(CNN_NLP, self).__init__()\n",
        "        # Embedding layer\n",
        "        if pretrained_embedding is not None:\n",
        "            self.vocab_size, self.embed_dim = pretrained_embedding.shape\n",
        "            self.embedding = nn.Embedding.from_pretrained(pretrained_embedding,\n",
        "                                                          freeze=freeze_embedding)\n",
        "        else:\n",
        "            self.embed_dim = embed_dim\n",
        "            self.embedding = nn.Embedding(num_embeddings=vocab_size,\n",
        "                                          embedding_dim=self.embed_dim,\n",
        "                                          padding_idx=0,\n",
        "                                          max_norm=5.0)\n",
        "        # Conv Network\n",
        "        self.conv1d_list = nn.ModuleList([\n",
        "            nn.Conv1d(in_channels=self.embed_dim,\n",
        "                      out_channels=num_filters[i],\n",
        "                      kernel_size=filter_sizes[i])\n",
        "            for i in range(len(filter_sizes))\n",
        "        ])\n",
        "        # Fully-connected layer and Dropout\n",
        "        self.fc = nn.Linear(np.sum(num_filters), num_classes)\n",
        "        self.dropout = nn.Dropout(p=dropout)\n",
        "\n",
        "    def forward(self, input_ids):\n",
        "        \"\"\"Perform a forward pass through the network.\n",
        "\n",
        "        Args:\n",
        "            input_ids (torch.Tensor): A tensor of token ids with shape\n",
        "                (batch_size, max_sent_length)\n",
        "\n",
        "        Returns:\n",
        "            logits (torch.Tensor): Output logits with shape (batch_size,\n",
        "                n_classes)\n",
        "        \"\"\"\n",
        "\n",
        "        # Get embeddings from `input_ids`. Output shape: (b, max_len, embed_dim)\n",
        "        x_embed = self.embedding(input_ids).float()\n",
        "\n",
        "        # Permute `x_embed` to match input shape requirement of `nn.Conv1d`.\n",
        "        # Output shape: (b, embed_dim, max_len)\n",
        "        x_reshaped = x_embed.permute(0, 2, 1)\n",
        "\n",
        "        # Apply CNN and ReLU. Output shape: (b, num_filters[i], L_out)\n",
        "        x_conv_list = [F.relu(conv1d(x_reshaped)) for conv1d in self.conv1d_list]\n",
        "\n",
        "        # Max pooling. Output shape: (b, num_filters[i], 1)\n",
        "        x_pool_list = [F.max_pool1d(x_conv, kernel_size=x_conv.shape[2])\n",
        "            for x_conv in x_conv_list]\n",
        "        \n",
        "        # Concatenate x_pool_list to feed the fully connected layer.\n",
        "        # Output shape: (b, sum(num_filters))\n",
        "        x_fc = torch.cat([x_pool.squeeze(dim=2) for x_pool in x_pool_list],\n",
        "                         dim=1)\n",
        "        \n",
        "        # Compute logits. Output shape: (b, n_classes)\n",
        "        logits = self.fc(self.dropout(x_fc))\n",
        "\n",
        "        return logits"
      ],
      "execution_count": 35,
      "outputs": []
    },
    {
      "cell_type": "markdown",
      "metadata": {
        "id": "nf9xEQR-yO_U"
      },
      "source": [
        "### 3.2. Optimizer"
      ]
    },
    {
      "cell_type": "markdown",
      "metadata": {
        "id": "P7TnaJvUCaz7"
      },
      "source": [
        "To train Deep Learning models, we need to define a loss function and minimize this loss. We'll use back-propagation to compute gradients and use an optimization algorithm (ie. Gradient Descent) to minimize the loss. The original paper used the Adadelta optimizer."
      ]
    },
    {
      "cell_type": "code",
      "metadata": {
        "id": "lTJnvDI9xuUv"
      },
      "source": [
        "import torch.optim as optim\n",
        "\n",
        "def initilize_model(pretrained_embedding=None,\n",
        "                    freeze_embedding=False,\n",
        "                    vocab_size=None,\n",
        "                    embed_dim=300,\n",
        "                    filter_sizes=[3, 4, 5],\n",
        "                    num_filters=[100, 100, 100],\n",
        "                    num_classes=2,\n",
        "                    dropout=0.5,\n",
        "                    learning_rate=0.01):\n",
        "    \"\"\"Instantiate a CNN model and an optimizer.\"\"\"\n",
        "\n",
        "    assert (len(filter_sizes) == len(num_filters)), \"filter_sizes and \\\n",
        "    num_filters need to be of the same length.\"\n",
        "\n",
        "    # Instantiate CNN model\n",
        "    cnn_model = CNN_NLP(pretrained_embedding=pretrained_embedding,\n",
        "                        freeze_embedding=freeze_embedding,\n",
        "                        vocab_size=vocab_size,\n",
        "                        embed_dim=embed_dim,\n",
        "                        filter_sizes=filter_sizes,\n",
        "                        num_filters=num_filters,\n",
        "                        num_classes=2,\n",
        "                        dropout=0.5)\n",
        "    \n",
        "    # Send model to `device` (GPU/CPU)\n",
        "    cnn_model.to(device)\n",
        "\n",
        "    # Instantiate Adadelta optimizer\n",
        "    optimizer = optim.Adadelta(cnn_model.parameters(),\n",
        "                               lr=learning_rate,\n",
        "                               rho=0.95)\n",
        "\n",
        "    return cnn_model, optimizer"
      ],
      "execution_count": 36,
      "outputs": []
    },
    {
      "cell_type": "markdown",
      "metadata": {
        "id": "tyWHu4sr55lU"
      },
      "source": [
        "### 3.3. Training Loop"
      ]
    },
    {
      "cell_type": "markdown",
      "metadata": {
        "id": "9iWapM27CVw3"
      },
      "source": [
        "For each epoch, the code below will perform a forward step to compute the *Cross Entropy* loss, a backward step to compute gradients and use the optimizer to update weights/parameters. At the end of each epoch, the loss on training data and the accuracy over the validation data will be printed to help us keep track of the model's performance. The code is heavily annotated with detailed explanations."
      ]
    },
    {
      "cell_type": "code",
      "metadata": {
        "id": "NaW2V4O225fS"
      },
      "source": [
        "import random\n",
        "import time\n",
        "\n",
        "# Specify loss function\n",
        "loss_fn = nn.CrossEntropyLoss()\n",
        "\n",
        "def set_seed(seed_value=42):\n",
        "    \"\"\"Set seed for reproducibility.\"\"\"\n",
        "\n",
        "    random.seed(seed_value)\n",
        "    np.random.seed(seed_value)\n",
        "    torch.manual_seed(seed_value)\n",
        "    torch.cuda.manual_seed_all(seed_value)\n",
        "\n",
        "def train(model, optimizer, train_dataloader, val_dataloader=None, epochs=10):\n",
        "    \"\"\"Train the CNN model.\"\"\"\n",
        "    \n",
        "    # Tracking best validation accuracy\n",
        "    best_accuracy = 0\n",
        "\n",
        "    # Start training loop\n",
        "    print(\"Start training...\\n\")\n",
        "    print(f\"{'Epoch':^7} | {'Train Loss':^12} | {'Val Loss':^10} | {\\\n",
        "    'Val Acc':^9} | {'Elapsed':^9}\")\n",
        "    print(\"-\"*60)\n",
        "\n",
        "    for epoch_i in range(epochs):\n",
        "        # =======================================\n",
        "        #               Training\n",
        "        # =======================================\n",
        "\n",
        "        # Tracking time and loss\n",
        "        t0_epoch = time.time()\n",
        "        total_loss = 0\n",
        "\n",
        "        # Put the model into the training mode\n",
        "        model.train()\n",
        "\n",
        "        for step, batch in enumerate(train_dataloader):\n",
        "            # Load batch to GPU\n",
        "            b_input_ids, b_labels = tuple(t.to(device) for t in batch)\n",
        "\n",
        "            # Zero out any previously calculated gradients\n",
        "            model.zero_grad()\n",
        "\n",
        "            # Perform a forward pass. This will return logits.\n",
        "            logits = model(b_input_ids)\n",
        "\n",
        "            # Compute loss and accumulate the loss values\n",
        "            loss = loss_fn(logits, b_labels)\n",
        "            total_loss += loss.item()\n",
        "\n",
        "            # Perform a backward pass to calculate gradients\n",
        "            loss.backward()\n",
        "\n",
        "            # Update parameters\n",
        "            optimizer.step()\n",
        "\n",
        "        # Calculate the average loss over the entire training data\n",
        "        avg_train_loss = total_loss / len(train_dataloader)\n",
        "\n",
        "        # =======================================\n",
        "        #               Evaluation\n",
        "        # =======================================\n",
        "        if val_dataloader is not None:\n",
        "            # After the completion of each training epoch, measure the model's\n",
        "            # performance on our validation set.\n",
        "            val_loss, val_accuracy = evaluate(model, val_dataloader)\n",
        "\n",
        "            # Track the best accuracy\n",
        "            if val_accuracy > best_accuracy:\n",
        "                best_accuracy = val_accuracy\n",
        "\n",
        "            # Print performance over the entire training data\n",
        "            time_elapsed = time.time() - t0_epoch\n",
        "            print(f\"{epoch_i + 1:^7} | {avg_train_loss:^12.6f} | {\\\n",
        "            val_loss:^10.6f} | {val_accuracy:^9.2f} | {time_elapsed:^9.2f}\")\n",
        "            \n",
        "    print(\"\\n\")\n",
        "    print(f\"Training complete! Best accuracy: {best_accuracy:.2f}%.\")\n",
        "\n",
        "def evaluate(model, val_dataloader):\n",
        "    \"\"\"After the completion of each training epoch, measure the model's\n",
        "    performance on our validation set.\n",
        "    \"\"\"\n",
        "    # Put the model into the evaluation mode. The dropout layers are disabled\n",
        "    # during the test time.\n",
        "    model.eval()\n",
        "\n",
        "    # Tracking variables\n",
        "    val_accuracy = []\n",
        "    val_loss = []\n",
        "\n",
        "    # For each batch in our validation set...\n",
        "    for batch in val_dataloader:\n",
        "        # Load batch to GPU\n",
        "        b_input_ids, b_labels = tuple(t.to(device) for t in batch)\n",
        "\n",
        "        # Compute logits\n",
        "        with torch.no_grad():\n",
        "            logits = model(b_input_ids)\n",
        "\n",
        "        # Compute loss\n",
        "        loss = loss_fn(logits, b_labels)\n",
        "        val_loss.append(loss.item())\n",
        "\n",
        "        # Get the predictions\n",
        "        preds = torch.argmax(logits, dim=1).flatten()\n",
        "\n",
        "        # Calculate the accuracy rate\n",
        "        accuracy = (preds == b_labels).cpu().numpy().mean() * 100\n",
        "        val_accuracy.append(accuracy)\n",
        "\n",
        "    # Compute the average accuracy and loss over the validation set.\n",
        "    val_loss = np.mean(val_loss)\n",
        "    val_accuracy = np.mean(val_accuracy)\n",
        "\n",
        "    return val_loss, val_accuracy"
      ],
      "execution_count": 37,
      "outputs": []
    },
    {
      "cell_type": "markdown",
      "metadata": {
        "id": "iHgnBNo1ino_"
      },
      "source": [
        "## 4. Evaluation "
      ]
    },
    {
      "cell_type": "markdown",
      "metadata": {
        "id": "nU-FMtOYMx3F"
      },
      "source": [
        "In the original paper, the author tried different variations of the model.\n",
        "- **CNN-rand**: The baseline model where the embedding layer is randomly initialized and then updated during training.\n",
        "- **CNN-static**: A model with pretrained vectors. However, the embedding layer is freezed during training.\n",
        "- **CNN-non-static**: Same as above but the embedding layers are fine-tuned during training.\n",
        "\n",
        "We will experiment with all 3 variations and compare their performance. Below is the report of our results and the results in the original paper.\n",
        "\n",
        "|Model            |Kim's results  |Our results  |\n",
        "|:----------------|:-------------:|:-----------:|\n",
        "|CNN-rand         |76.1           |74.2         |\n",
        "|CNN-static       |81.0           |82.7         |\n",
        "|CNN-non-static   |81.5           |84.4         |\n",
        "\n",
        "Randomness could cause the difference in the results. I think the reason for the improvement in our results is that we used fastText pretrained vectors, which are of higher quality than word2vec vectors that the author used.\n"
      ]
    },
    {
      "cell_type": "code",
      "metadata": {
        "id": "NwYoPQuQnz97",
        "outputId": "454b5090-97b4-44b3-9eb1-e15f5c965373",
        "colab": {
          "base_uri": "https://localhost:8080/"
        }
      },
      "source": [
        "# CNN-rand: Word vectors are randomly initialized.\n",
        "set_seed(42)\n",
        "cnn_rand, optimizer = initilize_model(vocab_size=len(word2idx),\n",
        "                                      embed_dim=300,\n",
        "                                      learning_rate=0.25,\n",
        "                                      dropout=0.5)\n",
        "train(cnn_rand, optimizer, train_dataloader, val_dataloader, epochs=20)"
      ],
      "execution_count": 38,
      "outputs": [
        {
          "output_type": "stream",
          "name": "stdout",
          "text": [
            "Start training...\n",
            "\n",
            " Epoch  |  Train Loss  |  Val Loss  |  Val Acc  |  Elapsed \n",
            "------------------------------------------------------------\n",
            "   1    |   0.547790   |  0.468032  |   78.00   |   11.39  \n",
            "   2    |   0.473107   |  0.430156  |   80.76   |   11.17  \n",
            "   3    |   0.450396   |  0.418008  |   81.27   |   11.12  \n",
            "   4    |   0.435977   |  0.412865  |   81.96   |   11.10  \n",
            "   5    |   0.423769   |  0.405721  |   81.45   |   11.09  \n",
            "   6    |   0.409464   |  0.394151  |   82.18   |   11.09  \n",
            "   7    |   0.394133   |  0.386645  |   82.80   |   11.09  \n",
            "   8    |   0.383522   |  0.397456  |   82.51   |   11.12  \n",
            "   9    |   0.367888   |  0.374340  |   82.29   |   11.15  \n",
            "  10    |   0.349695   |  0.382369  |   82.91   |   11.12  \n",
            "  11    |   0.335532   |  0.358181  |   83.71   |   11.12  \n",
            "  12    |   0.317736   |  0.351361  |   84.18   |   11.14  \n",
            "  13    |   0.302791   |  0.369666  |   82.44   |   11.18  \n",
            "  14    |   0.288211   |  0.339142  |   85.31   |   11.19  \n",
            "  15    |   0.274176   |  0.328128  |   85.16   |   11.19  \n",
            "  16    |   0.253009   |  0.337912  |   85.96   |   11.19  \n",
            "  17    |   0.244761   |  0.329205  |   86.36   |   11.19  \n",
            "  18    |   0.228614   |  0.317775  |   86.33   |   11.23  \n",
            "  19    |   0.217026   |  0.318670  |   86.29   |   11.27  \n",
            "  20    |   0.204347   |  0.339656  |   86.47   |   11.20  \n",
            "\n",
            "\n",
            "Training complete! Best accuracy: 86.47%.\n"
          ]
        }
      ]
    },
    {
      "cell_type": "code",
      "metadata": {
        "id": "2r6KEatn6FqQ",
        "outputId": "1bc91cff-8ec8-4e06-b3f1-ead1dc0ac6dc",
        "colab": {
          "base_uri": "https://localhost:8080/"
        }
      },
      "source": [
        "# CNN-static: dna2vec pretrained word vectors are used and freezed during training.\n",
        "set_seed(42)\n",
        "cnn_static, optimizer = initilize_model(pretrained_embedding=embeddings,\n",
        "                                        freeze_embedding=True,\n",
        "                                        learning_rate=0.25,\n",
        "                                        dropout=0.5)\n",
        "train(cnn_static, optimizer, train_dataloader, val_dataloader, epochs=20)"
      ],
      "execution_count": 39,
      "outputs": [
        {
          "output_type": "stream",
          "name": "stdout",
          "text": [
            "Start training...\n",
            "\n",
            " Epoch  |  Train Loss  |  Val Loss  |  Val Acc  |  Elapsed \n",
            "------------------------------------------------------------\n",
            "   1    |   0.506759   |  0.427203  |   81.20   |   4.00   \n",
            "   2    |   0.440566   |  0.460579  |   75.45   |   3.98   \n",
            "   3    |   0.408395   |  0.377703  |   83.64   |   3.94   \n",
            "   4    |   0.382690   |  0.402652  |   82.40   |   3.97   \n",
            "   5    |   0.358497   |  0.352684  |   84.73   |   3.96   \n",
            "   6    |   0.339975   |  0.348530  |   84.51   |   3.98   \n",
            "   7    |   0.316618   |  0.336532  |   85.35   |   4.00   \n",
            "   8    |   0.299876   |  0.328854  |   86.29   |   3.98   \n",
            "   9    |   0.282721   |  0.326675  |   85.56   |   3.98   \n",
            "  10    |   0.260602   |  0.307738  |   87.16   |   4.00   \n",
            "  11    |   0.254129   |  0.311938  |   86.33   |   3.98   \n",
            "  12    |   0.235081   |  0.417167  |   83.31   |   4.01   \n",
            "  13    |   0.221338   |  0.297859  |   86.76   |   3.98   \n",
            "  14    |   0.209746   |  0.440919  |   83.16   |   4.01   \n",
            "  15    |   0.195728   |  0.308067  |   87.85   |   4.00   \n",
            "  16    |   0.189561   |  0.296953  |   87.75   |   3.98   \n",
            "  17    |   0.181404   |  0.293227  |   87.45   |   3.98   \n",
            "  18    |   0.172974   |  0.334925  |   85.60   |   3.99   \n",
            "  19    |   0.164641   |  0.296033  |   87.56   |   4.01   \n",
            "  20    |   0.160514   |  0.299949  |   87.78   |   4.04   \n",
            "\n",
            "\n",
            "Training complete! Best accuracy: 87.85%.\n"
          ]
        }
      ]
    },
    {
      "cell_type": "code",
      "metadata": {
        "id": "CE6H6xJ-VwN5",
        "outputId": "f4b168d8-ee8e-40f2-f757-45a050707786",
        "colab": {
          "base_uri": "https://localhost:8080/"
        }
      },
      "source": [
        "# CNN-non-static: dna2vec pretrained word vectors are fine-tuned during training.\n",
        "set_seed(42)\n",
        "cnn_non_static, optimizer = initilize_model(pretrained_embedding=embeddings,\n",
        "                                            freeze_embedding=False,\n",
        "                                            learning_rate=0.25,\n",
        "                                            dropout=0.5)\n",
        "train(cnn_non_static, optimizer, train_dataloader, val_dataloader, epochs=20)"
      ],
      "execution_count": 40,
      "outputs": [
        {
          "output_type": "stream",
          "name": "stdout",
          "text": [
            "Start training...\n",
            "\n",
            " Epoch  |  Train Loss  |  Val Loss  |  Val Acc  |  Elapsed \n",
            "------------------------------------------------------------\n",
            "   1    |   0.502920   |  0.425191  |   81.35   |   6.38   \n",
            "   2    |   0.438719   |  0.455764  |   75.85   |   6.35   \n",
            "   3    |   0.406695   |  0.378622  |   83.27   |   6.32   \n",
            "   4    |   0.379535   |  0.401353  |   82.69   |   6.33   \n",
            "   5    |   0.355122   |  0.353867  |   84.87   |   6.37   \n",
            "   6    |   0.334047   |  0.344414  |   85.13   |   6.42   \n",
            "   7    |   0.309328   |  0.331308  |   85.75   |   6.36   \n",
            "   8    |   0.288443   |  0.325796  |   86.58   |   6.35   \n",
            "   9    |   0.269115   |  0.317186  |   86.76   |   6.38   \n",
            "  10    |   0.246912   |  0.305986  |   86.98   |   6.47   \n",
            "  11    |   0.233542   |  0.316299  |   86.58   |   6.39   \n",
            "  12    |   0.214799   |  0.419305  |   83.45   |   6.37   \n",
            "  13    |   0.199761   |  0.294926  |   87.13   |   6.33   \n",
            "  14    |   0.189140   |  0.329985  |   86.80   |   6.33   \n",
            "  15    |   0.173189   |  0.294818  |   88.07   |   6.34   \n",
            "  16    |   0.166807   |  0.285753  |   88.36   |   6.30   \n",
            "  17    |   0.159382   |  0.309678  |   88.11   |   6.33   \n",
            "  18    |   0.152806   |  0.312586  |   87.16   |   6.32   \n",
            "  19    |   0.145748   |  0.293817  |   88.22   |   6.33   \n",
            "  20    |   0.135654   |  0.280855  |   89.16   |   6.34   \n",
            "\n",
            "\n",
            "Training complete! Best accuracy: 89.16%.\n"
          ]
        }
      ]
    },
    {
      "cell_type": "markdown",
      "metadata": {
        "id": "Xjie11DyVokt"
      },
      "source": [
        "## 5. Test Model"
      ]
    },
    {
      "cell_type": "markdown",
      "metadata": {
        "id": "qGcys3S3snRP"
      },
      "source": [
        "Let's test our CNN-non-static model on some examples."
      ]
    },
    {
      "cell_type": "code",
      "metadata": {
        "id": "xjId-ZUcsL8A"
      },
      "source": [
        "def predict(text, model=cnn_non_static.to(\"cpu\"), max_len=62):\n",
        "    \"\"\"Predict probability that a review is positive.\"\"\"\n",
        "\n",
        "    # Tokenize, pad and encode text\n",
        "    tokens = word_tokenize(text.lower())\n",
        "    padded_tokens = tokens + ['<pad>'] * (max_len - len(tokens))\n",
        "    input_id = [word2idx.get(token, word2idx['<unk>']) for token in padded_tokens]\n",
        "\n",
        "    # Convert to PyTorch tensors\n",
        "    input_id = torch.tensor(input_id).unsqueeze(dim=0)\n",
        "\n",
        "    # Compute logits\n",
        "    logits = model.forward(input_id)\n",
        "\n",
        "    #  Compute probability\n",
        "    probs = F.softmax(logits, dim=1).squeeze(dim=0)\n",
        "\n",
        "    print(f\"This review is {probs[1] * 100:.2f}% positive.\")"
      ],
      "execution_count": null,
      "outputs": []
    },
    {
      "cell_type": "markdown",
      "metadata": {
        "id": "lNocWkoItlE7"
      },
      "source": [
        "Our model can easily regconize reviews with strong negative signals. On samples that have mixed feelings but positive sentiment overvall, our model also gets excellent results."
      ]
    },
    {
      "cell_type": "code",
      "metadata": {
        "id": "IV8L6ncWuzKZ",
        "outputId": "dd999343-87ed-4cf5-c0d5-72fb7830cc4b",
        "colab": {
          "base_uri": "https://localhost:8080/",
          "height": 85
        }
      },
      "source": [
        "predict(\"All of friends slept while watching this movie. But I really enjoyed it.\")\n",
        "predict(\"I have waited so long for this movie. I am now so satisfied and happy.\")\n",
        "predict(\"This movie is long and boring.\")\n",
        "predict(\"I don't like the ending.\")"
      ],
      "execution_count": null,
      "outputs": [
        {
          "output_type": "stream",
          "text": [
            "This review is 61.22% positive.\n",
            "This review is 94.68% positive.\n",
            "This review is 0.01% positive.\n",
            "This review is 4.03% positive.\n"
          ],
          "name": "stdout"
        }
      ]
    },
    {
      "cell_type": "markdown",
      "metadata": {
        "id": "c-6-v3Np1l8C"
      },
      "source": [
        "## 6. Advice for Practitioners"
      ]
    },
    {
      "cell_type": "markdown",
      "metadata": {
        "id": "77jY2tZj1nTu"
      },
      "source": [
        "In [***A Sensitivity Analysis of (and Practitioners' Guide to) Convolutional Neural Networks for Sentence Classification***](https://arxiv.org/abs/1510.03820) (Zhang, 2015), the authors conducted a sensitivity analysis of the above CNN architecture by running it many different sets of hyperparameters. Based on main empirical findings of the research, below are some advice for practioners to choose hyperparameters when applying this architecture for sentence classification tasks:\n",
        "- **Input word vectors:** Using pretrained word vectors such as word2vec, Glove (or fastText in our implementation) yields much better results than using one-hot vectors or randomly initialized vectors.\n",
        "- **Filter region size** can have a large effect on performance, and should be tuned. A reasonable range might be 1~10. For example, using `filter_size=[7]` and `num_filters=[400]` yields the best result in the MR dataset.\n",
        "- **Number of feature maps:** try values from 100 to 600 for each filter region size.\n",
        "- **Activation funtions:** ReLu and tanh are the best candidates.\n",
        "- **Pooling:** Use 1-max pooling.\n",
        "- **Regularization:** When increasing number of feature maps, try imposing stronger regularization, e.g. a dropout rate larger than 0.5.\n",
        "\n",
        "\n",
        "\n"
      ]
    },
    {
      "cell_type": "markdown",
      "metadata": {
        "id": "tO5BWQmsushF"
      },
      "source": [
        "## Bonus: Skorch: A Scikit-like Library for PyTorch Modules "
      ]
    },
    {
      "cell_type": "markdown",
      "metadata": {
        "id": "SGSRjLpQtt4T"
      },
      "source": [
        "If you find the training loop in PyTorch intimidating with a lot of steps and wonder why those steps aren't wrapped in a function like `model.fit()` and `model.predict()` in `scikit-learn` library. Actually it is something I like in PyTorch. It allows me to manipulate my codes to add extra customizations during training like gradient clipping or updating learning rates. And because I build my model and training loop block by block, when my model runs into errors, it's easier for me to navigate the bugs. However, when I need to deploy a baseline model quickly, writing an entire training loop is really a burden. It's when I come to `skorch`.\n",
        "\n",
        "`skorch` is \"a scikit-learn compatible neural network library that wraps PyTorch.\" There is no need to create `DataLoader` or write a training/evaluation loop. All you just need to do is defining the model and optimizer as in the code below, then a simple `net.fit(X, y)` is enough.\n",
        "\n",
        "`skorch` does not only make it neat and fast to train your Deep Learning models, it also provides even more powerful support. You can specify `callbacks` parameters to define early stopping and when to save your model. You can also combine `skorch` model with `scikit-learn` methods to do cross-validation and hyperparameter tuning with grid-search. Please check out the [documentation](https://skorch.readthedocs.io/en/stable/index.html#) to explore this powerful PyTorch library for Deep Learning.\n",
        "\n",
        "\n",
        "\n"
      ]
    },
    {
      "cell_type": "code",
      "metadata": {
        "id": "eDaA83d-MARp",
        "outputId": "a5ca060f-952e-4611-f12f-6a94bb241ace",
        "colab": {
          "base_uri": "https://localhost:8080/"
        }
      },
      "source": [
        "!pip install skorch\n",
        "from skorch import NeuralNetClassifier\n",
        "from skorch.helper import predefined_split\n",
        "from skorch.callbacks import EarlyStopping, Checkpoint, LoadInitState\n",
        "from skorch.dataset import CVSplit, Dataset\n",
        "\n",
        "# Specify validation set\n",
        "val_dataset = Dataset(val_inputs, val_labels)\n",
        "\n",
        "# Specify callbacks and checkpoints\n",
        "cp = Checkpoint(monitor='valid_acc_best', dirname='exp1')\n",
        "callbacks = [\n",
        "    ('early_stop', EarlyStopping(monitor='valid_acc', patience=5, lower_is_better=False)),\n",
        "    cp\n",
        "]\n",
        "\n",
        "net = NeuralNetClassifier(\n",
        "    # Module\n",
        "    module=CNN_NLP,\n",
        "    module__pretrained_embedding=embeddings,\n",
        "    module__freeze_embedding=False,\n",
        "    module__dropout=0.5,\n",
        "    # Optimizer\n",
        "    criterion=nn.CrossEntropyLoss,\n",
        "    optimizer=optim.Adadelta,\n",
        "    optimizer__lr=0.25,\n",
        "    optimizer__rho=0.95,\n",
        "    # Others\n",
        "    max_epochs=20,\n",
        "    batch_size=50,\n",
        "    train_split=predefined_split(val_dataset),\n",
        "    iterator_train__shuffle=True,\n",
        "    warm_start=False,\n",
        "    callbacks=callbacks,\n",
        "    device=device\n",
        ")"
      ],
      "execution_count": 41,
      "outputs": [
        {
          "output_type": "stream",
          "name": "stdout",
          "text": [
            "Collecting skorch\n",
            "  Downloading skorch-0.11.0-py3-none-any.whl (155 kB)\n",
            "\u001b[?25l\r\u001b[K     |██▏                             | 10 kB 36.7 MB/s eta 0:00:01\r\u001b[K     |████▎                           | 20 kB 8.2 MB/s eta 0:00:01\r\u001b[K     |██████▍                         | 30 kB 7.5 MB/s eta 0:00:01\r\u001b[K     |████████▌                       | 40 kB 7.1 MB/s eta 0:00:01\r\u001b[K     |██████████▋                     | 51 kB 5.3 MB/s eta 0:00:01\r\u001b[K     |████████████▊                   | 61 kB 5.5 MB/s eta 0:00:01\r\u001b[K     |██████████████▉                 | 71 kB 5.3 MB/s eta 0:00:01\r\u001b[K     |█████████████████               | 81 kB 5.9 MB/s eta 0:00:01\r\u001b[K     |███████████████████             | 92 kB 5.9 MB/s eta 0:00:01\r\u001b[K     |█████████████████████▏          | 102 kB 5.3 MB/s eta 0:00:01\r\u001b[K     |███████████████████████▎        | 112 kB 5.3 MB/s eta 0:00:01\r\u001b[K     |█████████████████████████▍      | 122 kB 5.3 MB/s eta 0:00:01\r\u001b[K     |███████████████████████████▌    | 133 kB 5.3 MB/s eta 0:00:01\r\u001b[K     |█████████████████████████████▋  | 143 kB 5.3 MB/s eta 0:00:01\r\u001b[K     |███████████████████████████████▊| 153 kB 5.3 MB/s eta 0:00:01\r\u001b[K     |████████████████████████████████| 155 kB 5.3 MB/s \n",
            "\u001b[?25hRequirement already satisfied: scipy>=1.1.0 in /usr/local/lib/python3.7/dist-packages (from skorch) (1.7.1)\n",
            "Requirement already satisfied: tqdm>=4.14.0 in /usr/local/lib/python3.7/dist-packages (from skorch) (4.62.3)\n",
            "Requirement already satisfied: tabulate>=0.7.7 in /usr/local/lib/python3.7/dist-packages (from skorch) (0.8.9)\n",
            "Requirement already satisfied: scikit-learn>=0.19.1 in /usr/local/lib/python3.7/dist-packages (from skorch) (1.0.2)\n",
            "Requirement already satisfied: numpy>=1.13.3 in /usr/local/lib/python3.7/dist-packages (from skorch) (1.18.5)\n",
            "Requirement already satisfied: threadpoolctl>=2.0.0 in /usr/local/lib/python3.7/dist-packages (from scikit-learn>=0.19.1->skorch) (3.0.0)\n",
            "Requirement already satisfied: joblib>=0.11 in /usr/local/lib/python3.7/dist-packages (from scikit-learn>=0.19.1->skorch) (1.1.0)\n",
            "Installing collected packages: skorch\n",
            "Successfully installed skorch-0.11.0\n"
          ]
        }
      ]
    },
    {
      "cell_type": "markdown",
      "metadata": {
        "id": "clAlmH6e0FJT"
      },
      "source": [
        "`skorch` also prints training results in a very nice table. My training loop in section 3 is inspired by this format. When model (checkpoints) are saved, you can see the `+` sign in column `cp`."
      ]
    },
    {
      "cell_type": "code",
      "metadata": {
        "id": "o2BOsaiJbRxK",
        "outputId": "5795c10c-2bac-4e0d-959b-1a536bb7c12b",
        "colab": {
          "base_uri": "https://localhost:8080/"
        }
      },
      "source": [
        "set_seed(42)\n",
        "_ = net.fit(np.array(train_inputs), train_labels)\n",
        "\n",
        "valid_acc_best = np.max(net.history[:, 'valid_acc'])\n",
        "print(f\"Training complete! Best accuracy: {valid_acc_best * 100:.2f}%\")"
      ],
      "execution_count": 42,
      "outputs": [
        {
          "output_type": "stream",
          "name": "stdout",
          "text": [
            "  epoch    train_loss    valid_acc    valid_loss    cp     dur\n",
            "-------  ------------  -----------  ------------  ----  ------\n",
            "      1        \u001b[36m0.5031\u001b[0m       \u001b[32m0.8111\u001b[0m        \u001b[35m0.4267\u001b[0m     +  6.3466\n",
            "      2        \u001b[36m0.4386\u001b[0m       0.7649        0.4560        6.3238\n",
            "      3        \u001b[36m0.4070\u001b[0m       \u001b[32m0.8321\u001b[0m        \u001b[35m0.3807\u001b[0m     +  6.3304\n",
            "      4        \u001b[36m0.3805\u001b[0m       0.8251        0.4025        6.3272\n",
            "      5        \u001b[36m0.3556\u001b[0m       \u001b[32m0.8399\u001b[0m        \u001b[35m0.3551\u001b[0m     +  6.3347\n",
            "      6        \u001b[36m0.3344\u001b[0m       \u001b[32m0.8446\u001b[0m        \u001b[35m0.3482\u001b[0m     +  6.3666\n",
            "      7        \u001b[36m0.3110\u001b[0m       0.8428        \u001b[35m0.3419\u001b[0m        6.3822\n",
            "      8        \u001b[36m0.2910\u001b[0m       \u001b[32m0.8601\u001b[0m        \u001b[35m0.3234\u001b[0m     +  6.3817\n",
            "      9        \u001b[36m0.2695\u001b[0m       \u001b[32m0.8620\u001b[0m        \u001b[35m0.3203\u001b[0m     +  6.3544\n",
            "     10        \u001b[36m0.2482\u001b[0m       \u001b[32m0.8683\u001b[0m        \u001b[35m0.3060\u001b[0m     +  6.3494\n",
            "     11        \u001b[36m0.2360\u001b[0m       0.8672        \u001b[35m0.3051\u001b[0m        6.3801\n",
            "     12        \u001b[36m0.2159\u001b[0m       0.8476        0.3644        6.3537\n",
            "     13        \u001b[36m0.1997\u001b[0m       \u001b[32m0.8764\u001b[0m        \u001b[35m0.2948\u001b[0m     +  6.3392\n",
            "     14        \u001b[36m0.1891\u001b[0m       0.8635        0.3219        6.3505\n",
            "     15        \u001b[36m0.1756\u001b[0m       0.8701        0.3026        6.3626\n",
            "     16        \u001b[36m0.1670\u001b[0m       \u001b[32m0.8782\u001b[0m        \u001b[35m0.2858\u001b[0m     +  6.3686\n",
            "     17        \u001b[36m0.1579\u001b[0m       0.8697        0.3096        6.3627\n",
            "     18        \u001b[36m0.1514\u001b[0m       0.8517        0.3548        6.5027\n",
            "     19        \u001b[36m0.1457\u001b[0m       \u001b[32m0.8915\u001b[0m        \u001b[35m0.2818\u001b[0m     +  6.3370\n",
            "     20        \u001b[36m0.1360\u001b[0m       0.8845        0.2933        6.3341\n",
            "Training complete! Best accuracy: 89.15%\n"
          ]
        }
      ]
    },
    {
      "cell_type": "markdown",
      "metadata": {
        "id": "exMEBZWO1BXy"
      },
      "source": [
        "As Deep Learning model can overfit the training data, it's important to save our model when it fits our validation data just right. After training, we can load our model from the last checkpoint to make predictions."
      ]
    },
    {
      "cell_type": "code",
      "metadata": {
        "id": "YWFFXfMivS--",
        "outputId": "de50acd1-994a-4e67-9583-578d0d194269",
        "colab": {
          "base_uri": "https://localhost:8080/",
          "height": 85
        }
      },
      "source": [
        "# Load parameters from checkpoint\n",
        "net.load_params(checkpoint=cp)\n",
        "\n",
        "predict(\"All of friends slept while watching this movie. But I really enjoyed it.\", model=net)\n",
        "predict(\"I have waited so long for this movie. I am now so satisfied and happy.\", model=net)\n",
        "predict(\"This movie is long and boring.\", model=net)\n",
        "predict(\"I don't like the ending.\", model=net)"
      ],
      "execution_count": null,
      "outputs": [
        {
          "output_type": "stream",
          "text": [
            "This review is 67.25% positive.\n",
            "This review is 61.38% positive.\n",
            "This review is 0.12% positive.\n",
            "This review is 19.14% positive.\n"
          ],
          "name": "stdout"
        }
      ]
    },
    {
      "cell_type": "markdown",
      "metadata": {
        "id": "3TQO2Vf0VrBO"
      },
      "source": [
        "## Conclusion"
      ]
    },
    {
      "cell_type": "markdown",
      "metadata": {
        "id": "UFPXEh7c6DkO"
      },
      "source": [
        "Before the rise of huge and complicated models using Transformer architecture, a simple CNN architecture with one layer of convolution can yeild excellent performance on sentence classification tasks. The model can take advantages of unsupervise pre-training of word vectors to improve overall performance. Improvements can be made in this architecture by increasing the number of CNN layers or utilizing sub-word model (using BPE tokenizer and fastText pretrained sub-word vectors). Because of its speed, we can use the CNN model as a strong baseline model before trying more complicated models such as BERT.\n",
        "\n",
        "Thank you for staying with me to this point. If interested, you can check out other articles in my NLP tutorial series:\n",
        "- [Tutorial: Fine-tuning BERT for Sentiment Analysis](https://chriskhanhtran.github.io/posts/bert_for_sentiment_analysis/)"
      ]
    }
  ]
}