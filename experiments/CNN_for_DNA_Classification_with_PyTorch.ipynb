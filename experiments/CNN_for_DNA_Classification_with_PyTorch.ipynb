{
  "cells": [
    {
      "cell_type": "markdown",
      "metadata": {
        "colab_type": "text",
        "id": "view-in-github"
      },
      "source": [
        "<a href=\"https://colab.research.google.com/github/katarinagresova/GLP/blob/main/experiments/CNN_for_DNA_Classification_with_PyTorch.ipynb\" target=\"_parent\"><img src=\"https://colab.research.google.com/assets/colab-badge.svg\" alt=\"Open In Colab\"/></a>"
      ]
    },
    {
      "cell_type": "markdown",
      "metadata": {
        "id": "XF3Q3FXQ9lcf"
      },
      "source": [
        "# CNN for DNA Classification with PyTorch"
      ]
    },
    {
      "cell_type": "markdown",
      "metadata": {
        "id": "M-FOBoaCNiQr"
      },
      "source": [
        "## Introduction"
      ]
    },
    {
      "cell_type": "markdown",
      "metadata": {
        "id": "YK2TXO_pmGgX"
      },
      "source": [
        "This article is based on [A Complete Guide to CNN for Sentence Classification with PyTorch](https://chriskhanhtran.github.io/posts/cnn-sentence-classification/) and adapted to task of DNA classification.\n",
        "\n",
        "**Convolutional Neural Networks (CNN)** were originally invented for computer vision (CV) and now are the building block of state-of-the-art CV models. One of the earliest applications of CNN in Natural Language Processing (NLP) was introduced in the paper ***Convolutional Neural Networks for Sentence Classification*** (Kim, 2014). With the same idea as in computer vision, CNN model is used as an feature extractor that encodes semantic features of sentences before these features are fed to a classifier.\n",
        "\n",
        "With only a simple one-layer CNN trained on top of pretrained word vectors and little hyperparameter tuning, the model achieves excellent results on multiple sentence-level classification tasks. CNN models are now used widely other NLP tasks such as translation or question answering as a part of a more complex architecture.\n",
        "\n",
        "CNNs also found their way into field of DNA classification. We can look at DNA as sequence of letters that are grouped into words and connected into sentences. So with just little effort we can adapt model created for sentence classification to classify DNA.\n",
        "\n",
        "\n",
        "This article covers:\n",
        "- Tokenizing and building vocabuilary from DNA data\n",
        "- Loading pretrained dna2vec vectors and creating embedding layer for fine-tuning\n",
        "- Building and training CNN model with PyTorch\n",
        "- Advice for practitioners\n",
        "- Bonus: Using Skorch as a scikit-like wrapper for PyTorch's Deep Learning models\n",
        "\n",
        "**Reference:**\n",
        "-  [Convolutional Neural Networks for Sentence Classification](https://arxiv.org/abs/1408.5882) (Kim, 2014).\n",
        "- [A Complete Guide to CNN for Sentence Classification with PyTorch](https://chriskhanhtran.github.io/posts/cnn-sentence-classification/) (Tran, 2020)\n",
        "- [dna2vec: Consistent vector representations of variable-length k-mers](https://arxiv.org/abs/1701.06279) (Ng, 2017)\n",
        "\n"
      ]
    },
    {
      "cell_type": "markdown",
      "metadata": {
        "id": "LY2qU-O5NmcZ"
      },
      "source": [
        "## 1. Set up"
      ]
    },
    {
      "cell_type": "markdown",
      "metadata": {
        "id": "6GEXsussBecE"
      },
      "source": [
        "### 1.1. Install dependencies"
      ]
    },
    {
      "cell_type": "code",
      "execution_count": 4,
      "metadata": {
        "colab": {
          "base_uri": "https://localhost:8080/"
        },
        "id": "_RSWEqkoBkBa",
        "outputId": "d82c676a-3253-473d-ed82-ec545d7973ed"
      },
      "outputs": [
        {
          "name": "stdout",
          "output_type": "stream",
          "text": [
            "Requirement already satisfied: genomic-benchmarks in /home/katarina/git/GLP/env/lib/python3.8/site-packages (0.0.6)\n",
            "Requirement already satisfied: tqdm>=4.41.1 in /home/katarina/git/GLP/env/lib/python3.8/site-packages (from genomic-benchmarks) (4.62.3)\n",
            "Requirement already satisfied: pip>=20.0.1 in /home/katarina/git/GLP/env/lib/python3.8/site-packages (from genomic-benchmarks) (21.3.1)\n",
            "Requirement already satisfied: googledrivedownloader>=0.4 in /home/katarina/git/GLP/env/lib/python3.8/site-packages (from genomic-benchmarks) (0.4)\n",
            "Requirement already satisfied: requests>=2.23.0 in /home/katarina/git/GLP/env/lib/python3.8/site-packages (from genomic-benchmarks) (2.23.0)\n",
            "Requirement already satisfied: yarl in /home/katarina/git/GLP/env/lib/python3.8/site-packages (from genomic-benchmarks) (1.7.2)\n",
            "Requirement already satisfied: pandas>=1.1.4 in /home/katarina/git/GLP/env/lib/python3.8/site-packages (from genomic-benchmarks) (1.4.0)\n",
            "Requirement already satisfied: pyyaml>=5.3.1 in /home/katarina/git/GLP/env/lib/python3.8/site-packages (from genomic-benchmarks) (6.0)\n",
            "Requirement already satisfied: numpy>=1.17.0 in /home/katarina/git/GLP/env/lib/python3.8/site-packages (from genomic-benchmarks) (1.18.5)\n",
            "Requirement already satisfied: biopython>=1.79 in /home/katarina/git/GLP/env/lib/python3.8/site-packages (from genomic-benchmarks) (1.79)\n",
            "Requirement already satisfied: python-dateutil>=2.8.1 in /home/katarina/git/GLP/env/lib/python3.8/site-packages (from pandas>=1.1.4->genomic-benchmarks) (2.8.2)\n",
            "Requirement already satisfied: pytz>=2020.1 in /home/katarina/git/GLP/env/lib/python3.8/site-packages (from pandas>=1.1.4->genomic-benchmarks) (2021.3)\n",
            "Requirement already satisfied: chardet<4,>=3.0.2 in /home/katarina/git/GLP/env/lib/python3.8/site-packages (from requests>=2.23.0->genomic-benchmarks) (3.0.4)\n",
            "Requirement already satisfied: idna<3,>=2.5 in /home/katarina/git/GLP/env/lib/python3.8/site-packages (from requests>=2.23.0->genomic-benchmarks) (2.10)\n",
            "Requirement already satisfied: urllib3!=1.25.0,!=1.25.1,<1.26,>=1.21.1 in /home/katarina/git/GLP/env/lib/python3.8/site-packages (from requests>=2.23.0->genomic-benchmarks) (1.25.11)\n",
            "Requirement already satisfied: certifi>=2017.4.17 in /home/katarina/git/GLP/env/lib/python3.8/site-packages (from requests>=2.23.0->genomic-benchmarks) (2021.10.8)\n",
            "Requirement already satisfied: multidict>=4.0 in /home/katarina/git/GLP/env/lib/python3.8/site-packages (from yarl->genomic-benchmarks) (6.0.2)\n",
            "Requirement already satisfied: six>=1.5 in /home/katarina/git/GLP/env/lib/python3.8/site-packages (from python-dateutil>=2.8.1->pandas>=1.1.4->genomic-benchmarks) (1.15.0)\n",
            "\u001b[33mWARNING: You are using pip version 21.3.1; however, version 22.0.2 is available.\n",
            "You should consider upgrading via the '/home/katarina/git/GLP/env/bin/python -m pip install --upgrade pip' command.\u001b[0m\n",
            "Requirement already satisfied: gensim==4.1.2 in /home/katarina/git/GLP/env/lib/python3.8/site-packages (4.1.2)\n",
            "Requirement already satisfied: smart-open>=1.8.1 in /home/katarina/git/GLP/env/lib/python3.8/site-packages (from gensim==4.1.2) (1.8.1)\n",
            "Requirement already satisfied: scipy>=0.18.1 in /home/katarina/git/GLP/env/lib/python3.8/site-packages (from gensim==4.1.2) (1.7.1)\n",
            "Requirement already satisfied: numpy>=1.17.0 in /home/katarina/git/GLP/env/lib/python3.8/site-packages (from gensim==4.1.2) (1.18.5)\n",
            "Requirement already satisfied: bz2file in /home/katarina/git/GLP/env/lib/python3.8/site-packages (from smart-open>=1.8.1->gensim==4.1.2) (0.98)\n",
            "Requirement already satisfied: boto3 in /home/katarina/git/GLP/env/lib/python3.8/site-packages (from smart-open>=1.8.1->gensim==4.1.2) (1.20.42)\n",
            "Requirement already satisfied: requests in /home/katarina/git/GLP/env/lib/python3.8/site-packages (from smart-open>=1.8.1->gensim==4.1.2) (2.23.0)\n",
            "Requirement already satisfied: boto>=2.32 in /home/katarina/git/GLP/env/lib/python3.8/site-packages (from smart-open>=1.8.1->gensim==4.1.2) (2.46.1)\n",
            "Requirement already satisfied: s3transfer<0.6.0,>=0.5.0 in /home/katarina/git/GLP/env/lib/python3.8/site-packages (from boto3->smart-open>=1.8.1->gensim==4.1.2) (0.5.0)\n",
            "Requirement already satisfied: botocore<1.24.0,>=1.23.42 in /home/katarina/git/GLP/env/lib/python3.8/site-packages (from boto3->smart-open>=1.8.1->gensim==4.1.2) (1.23.42)\n",
            "Requirement already satisfied: jmespath<1.0.0,>=0.7.1 in /home/katarina/git/GLP/env/lib/python3.8/site-packages (from boto3->smart-open>=1.8.1->gensim==4.1.2) (0.10.0)\n",
            "Requirement already satisfied: chardet<4,>=3.0.2 in /home/katarina/git/GLP/env/lib/python3.8/site-packages (from requests->smart-open>=1.8.1->gensim==4.1.2) (3.0.4)\n",
            "Requirement already satisfied: certifi>=2017.4.17 in /home/katarina/git/GLP/env/lib/python3.8/site-packages (from requests->smart-open>=1.8.1->gensim==4.1.2) (2021.10.8)\n",
            "Requirement already satisfied: idna<3,>=2.5 in /home/katarina/git/GLP/env/lib/python3.8/site-packages (from requests->smart-open>=1.8.1->gensim==4.1.2) (2.10)\n",
            "Requirement already satisfied: urllib3!=1.25.0,!=1.25.1,<1.26,>=1.21.1 in /home/katarina/git/GLP/env/lib/python3.8/site-packages (from requests->smart-open>=1.8.1->gensim==4.1.2) (1.25.11)\n",
            "Requirement already satisfied: python-dateutil<3.0.0,>=2.1 in /home/katarina/git/GLP/env/lib/python3.8/site-packages (from botocore<1.24.0,>=1.23.42->boto3->smart-open>=1.8.1->gensim==4.1.2) (2.8.2)\n",
            "Requirement already satisfied: six>=1.5 in /home/katarina/git/GLP/env/lib/python3.8/site-packages (from python-dateutil<3.0.0,>=2.1->botocore<1.24.0,>=1.23.42->boto3->smart-open>=1.8.1->gensim==4.1.2) (1.15.0)\n",
            "\u001b[33mWARNING: You are using pip version 21.3.1; however, version 22.0.2 is available.\n",
            "You should consider upgrading via the '/home/katarina/git/GLP/env/bin/python -m pip install --upgrade pip' command.\u001b[0m\n",
            "Requirement already satisfied: nltk in /home/katarina/git/GLP/env/lib/python3.8/site-packages (3.6.7)\n",
            "Requirement already satisfied: click in /home/katarina/git/GLP/env/lib/python3.8/site-packages (from nltk) (8.0.3)\n",
            "Requirement already satisfied: joblib in /home/katarina/git/GLP/env/lib/python3.8/site-packages (from nltk) (1.1.0)\n",
            "Requirement already satisfied: tqdm in /home/katarina/git/GLP/env/lib/python3.8/site-packages (from nltk) (4.62.3)\n",
            "Requirement already satisfied: regex>=2021.8.3 in /home/katarina/git/GLP/env/lib/python3.8/site-packages (from nltk) (2022.1.18)\n",
            "\u001b[33mWARNING: You are using pip version 21.3.1; however, version 22.0.2 is available.\n",
            "You should consider upgrading via the '/home/katarina/git/GLP/env/bin/python -m pip install --upgrade pip' command.\u001b[0m\n",
            "Requirement already satisfied: torch in /home/katarina/git/GLP/env/lib/python3.8/site-packages (1.10.1)\n",
            "Requirement already satisfied: typing-extensions in /home/katarina/git/GLP/env/lib/python3.8/site-packages (from torch) (4.0.1)\n",
            "\u001b[33mWARNING: You are using pip version 21.3.1; however, version 22.0.2 is available.\n",
            "You should consider upgrading via the '/home/katarina/git/GLP/env/bin/python -m pip install --upgrade pip' command.\u001b[0m\n",
            "Requirement already satisfied: matplotlib in /home/katarina/git/GLP/env/lib/python3.8/site-packages (3.5.1)\n",
            "Requirement already satisfied: pillow>=6.2.0 in /home/katarina/git/GLP/env/lib/python3.8/site-packages (from matplotlib) (9.0.0)\n",
            "Requirement already satisfied: fonttools>=4.22.0 in /home/katarina/git/GLP/env/lib/python3.8/site-packages (from matplotlib) (4.29.0)\n",
            "Requirement already satisfied: cycler>=0.10 in /home/katarina/git/GLP/env/lib/python3.8/site-packages (from matplotlib) (0.11.0)\n",
            "Requirement already satisfied: packaging>=20.0 in /home/katarina/git/GLP/env/lib/python3.8/site-packages (from matplotlib) (21.3)\n",
            "Requirement already satisfied: python-dateutil>=2.7 in /home/katarina/git/GLP/env/lib/python3.8/site-packages (from matplotlib) (2.8.2)\n",
            "Requirement already satisfied: pyparsing>=2.2.1 in /home/katarina/git/GLP/env/lib/python3.8/site-packages (from matplotlib) (3.0.7)\n",
            "Requirement already satisfied: numpy>=1.17 in /home/katarina/git/GLP/env/lib/python3.8/site-packages (from matplotlib) (1.18.5)\n",
            "Requirement already satisfied: kiwisolver>=1.0.1 in /home/katarina/git/GLP/env/lib/python3.8/site-packages (from matplotlib) (1.3.2)\n",
            "Requirement already satisfied: six>=1.5 in /home/katarina/git/GLP/env/lib/python3.8/site-packages (from python-dateutil>=2.7->matplotlib) (1.15.0)\n",
            "\u001b[33mWARNING: You are using pip version 21.3.1; however, version 22.0.2 is available.\n",
            "You should consider upgrading via the '/home/katarina/git/GLP/env/bin/python -m pip install --upgrade pip' command.\u001b[0m\n",
            "Requirement already satisfied: sklearn in /home/katarina/git/GLP/env/lib/python3.8/site-packages (0.0)\n",
            "Requirement already satisfied: scikit-learn in /home/katarina/git/GLP/env/lib/python3.8/site-packages (from sklearn) (1.0.2)\n",
            "Requirement already satisfied: joblib>=0.11 in /home/katarina/git/GLP/env/lib/python3.8/site-packages (from scikit-learn->sklearn) (1.1.0)\n",
            "Requirement already satisfied: scipy>=1.1.0 in /home/katarina/git/GLP/env/lib/python3.8/site-packages (from scikit-learn->sklearn) (1.7.1)\n",
            "Requirement already satisfied: threadpoolctl>=2.0.0 in /home/katarina/git/GLP/env/lib/python3.8/site-packages (from scikit-learn->sklearn) (3.0.0)\n",
            "Requirement already satisfied: numpy>=1.14.6 in /home/katarina/git/GLP/env/lib/python3.8/site-packages (from scikit-learn->sklearn) (1.18.5)\n",
            "\u001b[33mWARNING: You are using pip version 21.3.1; however, version 22.0.2 is available.\n",
            "You should consider upgrading via the '/home/katarina/git/GLP/env/bin/python -m pip install --upgrade pip' command.\u001b[0m\n"
          ]
        }
      ],
      "source": [
        "!pip install genomic-benchmarks\n",
        "!pip install gensim==4.1.2\n",
        "!pip install nltk\n",
        "!pip install torch\n",
        "!pip install matplotlib\n",
        "!pip install sklearn"
      ]
    },
    {
      "cell_type": "markdown",
      "metadata": {
        "id": "tRQpxnbRgXIi"
      },
      "source": [
        "You will be promted to restart your environment in Google Colab after following cell. Just click on `RESTART RUNTIME` button at the bottom of output from following cell. Confirm the prompt and continue with executing cells."
      ]
    },
    {
      "cell_type": "code",
      "execution_count": 5,
      "metadata": {
        "colab": {
          "base_uri": "https://localhost:8080/",
          "height": 1000
        },
        "id": "iKmJauX5BpH6",
        "outputId": "e5d7eac0-8bd5-4782-859c-acd2bd113ca9"
      },
      "outputs": [
        {
          "name": "stdout",
          "output_type": "stream",
          "text": [
            "--2022-02-01 11:08:18--  https://raw.githubusercontent.com/xinrcornelia/dna2vec/master/requirements.txt\n",
            "Resolving raw.githubusercontent.com (raw.githubusercontent.com)... 185.199.110.133, 185.199.109.133, 185.199.108.133, ...\n",
            "Connecting to raw.githubusercontent.com (raw.githubusercontent.com)|185.199.110.133|:443... connected.\n",
            "HTTP request sent, awaiting response... 200 OK\n",
            "Length: 351 [text/plain]\n",
            "Saving to: ‘requirements.txt.3’\n",
            "\n",
            "requirements.txt.3  100%[===================>]     351  --.-KB/s    in 0s      \n",
            "\n",
            "2022-02-01 11:08:18 (7,92 MB/s) - ‘requirements.txt.3’ saved [351/351]\n",
            "\n",
            "Requirement already satisfied: arrow==0.8.0 in /home/katarina/git/GLP/env/lib/python3.8/site-packages (from -r requirements.txt (line 1)) (0.8.0)\n",
            "Collecting biopython==1.68\n",
            "  Using cached biopython-1.68-cp38-cp38-linux_x86_64.whl\n",
            "Requirement already satisfied: boto==2.46.1 in /home/katarina/git/GLP/env/lib/python3.8/site-packages (from -r requirements.txt (line 3)) (2.46.1)\n",
            "Requirement already satisfied: bz2file==0.98 in /home/katarina/git/GLP/env/lib/python3.8/site-packages (from -r requirements.txt (line 4)) (0.98)\n",
            "Requirement already satisfied: ConfigArgParse==0.11.0 in /home/katarina/git/GLP/env/lib/python3.8/site-packages (from -r requirements.txt (line 5)) (0.11.0)\n",
            "Requirement already satisfied: gensim==4.1.2 in /home/katarina/git/GLP/env/lib/python3.8/site-packages (from -r requirements.txt (line 6)) (4.1.2)\n",
            "Requirement already satisfied: Logbook==1.0.0 in /home/katarina/git/GLP/env/lib/python3.8/site-packages (from -r requirements.txt (line 7)) (1.0.0)\n",
            "Requirement already satisfied: numpy==1.18.5 in /home/katarina/git/GLP/env/lib/python3.8/site-packages (from -r requirements.txt (line 8)) (1.18.5)\n",
            "Requirement already satisfied: pep8==1.7.0 in /home/katarina/git/GLP/env/lib/python3.8/site-packages (from -r requirements.txt (line 9)) (1.7.0)\n",
            "Requirement already satisfied: pluggy==0.4.0 in /home/katarina/git/GLP/env/lib/python3.8/site-packages (from -r requirements.txt (line 10)) (0.4.0)\n",
            "Requirement already satisfied: py==1.4.33 in /home/katarina/git/GLP/env/lib/python3.8/site-packages (from -r requirements.txt (line 11)) (1.4.33)\n",
            "Requirement already satisfied: pytest==3.0.7 in /home/katarina/git/GLP/env/lib/python3.8/site-packages (from -r requirements.txt (line 12)) (3.0.7)\n",
            "Collecting python-dateutil==2.8.0\n",
            "  Using cached python_dateutil-2.8.0-py2.py3-none-any.whl (226 kB)\n",
            "Requirement already satisfied: requests==2.23.0 in /home/katarina/git/GLP/env/lib/python3.8/site-packages (from -r requirements.txt (line 14)) (2.23.0)\n",
            "Requirement already satisfied: scipy==1.7.1 in /home/katarina/git/GLP/env/lib/python3.8/site-packages (from -r requirements.txt (line 15)) (1.7.1)\n",
            "Requirement already satisfied: six==1.15.0 in /home/katarina/git/GLP/env/lib/python3.8/site-packages (from -r requirements.txt (line 16)) (1.15.0)\n",
            "Requirement already satisfied: smart-open==1.8.1 in /home/katarina/git/GLP/env/lib/python3.8/site-packages (from -r requirements.txt (line 17)) (1.8.1)\n",
            "Requirement already satisfied: tox==2.7.0 in /home/katarina/git/GLP/env/lib/python3.8/site-packages (from -r requirements.txt (line 18)) (2.7.0)\n",
            "Requirement already satisfied: tox-pyenv==1.0.3 in /home/katarina/git/GLP/env/lib/python3.8/site-packages (from -r requirements.txt (line 19)) (1.0.3)\n",
            "Requirement already satisfied: virtualenv==15.1.0 in /home/katarina/git/GLP/env/lib/python3.8/site-packages (from -r requirements.txt (line 20)) (15.1.0)\n",
            "Requirement already satisfied: folium==0.2.1 in /home/katarina/git/GLP/env/lib/python3.8/site-packages (from -r requirements.txt (line 21)) (0.2.1)\n",
            "Requirement already satisfied: imgaug==0.2.5 in /home/katarina/git/GLP/env/lib/python3.8/site-packages (from -r requirements.txt (line 22)) (0.2.5)\n",
            "Requirement already satisfied: setuptools in /home/katarina/git/GLP/env/lib/python3.8/site-packages (from pytest==3.0.7->-r requirements.txt (line 12)) (60.2.0)\n",
            "Requirement already satisfied: chardet<4,>=3.0.2 in /home/katarina/git/GLP/env/lib/python3.8/site-packages (from requests==2.23.0->-r requirements.txt (line 14)) (3.0.4)\n",
            "Requirement already satisfied: idna<3,>=2.5 in /home/katarina/git/GLP/env/lib/python3.8/site-packages (from requests==2.23.0->-r requirements.txt (line 14)) (2.10)\n",
            "Requirement already satisfied: certifi>=2017.4.17 in /home/katarina/git/GLP/env/lib/python3.8/site-packages (from requests==2.23.0->-r requirements.txt (line 14)) (2021.10.8)\n",
            "Requirement already satisfied: urllib3!=1.25.0,!=1.25.1,<1.26,>=1.21.1 in /home/katarina/git/GLP/env/lib/python3.8/site-packages (from requests==2.23.0->-r requirements.txt (line 14)) (1.25.11)\n",
            "Requirement already satisfied: boto3 in /home/katarina/git/GLP/env/lib/python3.8/site-packages (from smart-open==1.8.1->-r requirements.txt (line 17)) (1.20.42)\n",
            "Requirement already satisfied: Jinja2 in /home/katarina/git/GLP/env/lib/python3.8/site-packages (from folium==0.2.1->-r requirements.txt (line 21)) (3.0.3)\n",
            "Requirement already satisfied: scikit-image>=0.11.0 in /home/katarina/git/GLP/env/lib/python3.8/site-packages (from imgaug==0.2.5->-r requirements.txt (line 22)) (0.19.1)\n",
            "Requirement already satisfied: packaging>=20.0 in /home/katarina/git/GLP/env/lib/python3.8/site-packages (from scikit-image>=0.11.0->imgaug==0.2.5->-r requirements.txt (line 22)) (21.3)\n",
            "Requirement already satisfied: PyWavelets>=1.1.1 in /home/katarina/git/GLP/env/lib/python3.8/site-packages (from scikit-image>=0.11.0->imgaug==0.2.5->-r requirements.txt (line 22)) (1.2.0)\n",
            "Requirement already satisfied: pillow!=7.1.0,!=7.1.1,!=8.3.0,>=6.1.0 in /home/katarina/git/GLP/env/lib/python3.8/site-packages (from scikit-image>=0.11.0->imgaug==0.2.5->-r requirements.txt (line 22)) (9.0.0)\n",
            "Requirement already satisfied: imageio>=2.4.1 in /home/katarina/git/GLP/env/lib/python3.8/site-packages (from scikit-image>=0.11.0->imgaug==0.2.5->-r requirements.txt (line 22)) (2.14.1)\n",
            "Requirement already satisfied: tifffile>=2019.7.26 in /home/katarina/git/GLP/env/lib/python3.8/site-packages (from scikit-image>=0.11.0->imgaug==0.2.5->-r requirements.txt (line 22)) (2021.11.2)\n",
            "Requirement already satisfied: networkx>=2.2 in /home/katarina/git/GLP/env/lib/python3.8/site-packages (from scikit-image>=0.11.0->imgaug==0.2.5->-r requirements.txt (line 22)) (2.6.3)\n",
            "Requirement already satisfied: jmespath<1.0.0,>=0.7.1 in /home/katarina/git/GLP/env/lib/python3.8/site-packages (from boto3->smart-open==1.8.1->-r requirements.txt (line 17)) (0.10.0)\n",
            "Requirement already satisfied: s3transfer<0.6.0,>=0.5.0 in /home/katarina/git/GLP/env/lib/python3.8/site-packages (from boto3->smart-open==1.8.1->-r requirements.txt (line 17)) (0.5.0)\n",
            "Requirement already satisfied: botocore<1.24.0,>=1.23.42 in /home/katarina/git/GLP/env/lib/python3.8/site-packages (from boto3->smart-open==1.8.1->-r requirements.txt (line 17)) (1.23.42)\n",
            "Requirement already satisfied: MarkupSafe>=2.0 in /home/katarina/git/GLP/env/lib/python3.8/site-packages (from Jinja2->folium==0.2.1->-r requirements.txt (line 21)) (2.0.1)\n",
            "Requirement already satisfied: pyparsing!=3.0.5,>=2.0.2 in /home/katarina/git/GLP/env/lib/python3.8/site-packages (from packaging>=20.0->scikit-image>=0.11.0->imgaug==0.2.5->-r requirements.txt (line 22)) (3.0.7)\n",
            "Installing collected packages: python-dateutil, biopython\n",
            "  Attempting uninstall: python-dateutil\n",
            "    Found existing installation: python-dateutil 2.8.2\n",
            "    Uninstalling python-dateutil-2.8.2:\n",
            "      Successfully uninstalled python-dateutil-2.8.2\n",
            "  Attempting uninstall: biopython\n",
            "    Found existing installation: biopython 1.79\n",
            "    Uninstalling biopython-1.79:\n",
            "      Successfully uninstalled biopython-1.79\n",
            "\u001b[31mERROR: pip's dependency resolver does not currently take into account all the packages that are installed. This behaviour is the source of the following dependency conflicts.\n",
            "pandas 1.4.0 requires python-dateutil>=2.8.1, but you have python-dateutil 2.8.0 which is incompatible.\n",
            "genomic-benchmarks 0.0.6 requires biopython>=1.79, but you have biopython 1.68 which is incompatible.\u001b[0m\n",
            "Successfully installed biopython-1.68 python-dateutil-2.8.0\n",
            "\u001b[33mWARNING: You are using pip version 21.3.1; however, version 22.0.2 is available.\n",
            "You should consider upgrading via the '/home/katarina/git/GLP/env/bin/python -m pip install --upgrade pip' command.\u001b[0m\n"
          ]
        }
      ],
      "source": [
        "!wget https://raw.githubusercontent.com/xinrcornelia/dna2vec/master/requirements.txt\n",
        "!pip install -r requirements.txt"
      ]
    },
    {
      "cell_type": "markdown",
      "metadata": {
        "id": "pZ8Gv3FpmPf-"
      },
      "source": [
        "### 1.2. Import Libraries"
      ]
    },
    {
      "cell_type": "code",
      "execution_count": 6,
      "metadata": {
        "colab": {
          "base_uri": "https://localhost:8080/"
        },
        "id": "cVWONqDLmhOw",
        "outputId": "804b7d14-5dbc-4be7-809c-904f224aff76"
      },
      "outputs": [
        {
          "name": "stderr",
          "output_type": "stream",
          "text": [
            "[nltk_data] Downloading package punkt to /home/katarina/nltk_data...\n",
            "[nltk_data]   Package punkt is already up-to-date!\n"
          ]
        }
      ],
      "source": [
        "import os\n",
        "import re\n",
        "from tqdm import tqdm\n",
        "import numpy as np\n",
        "import pandas as pd\n",
        "import nltk\n",
        "nltk.download('punkt')\n",
        "import matplotlib.pyplot as plt\n",
        "import torch\n",
        "\n",
        "%matplotlib inline"
      ]
    },
    {
      "cell_type": "markdown",
      "metadata": {
        "id": "rqGw820-mqE7"
      },
      "source": [
        "### 1.3. Download Dataset"
      ]
    },
    {
      "cell_type": "markdown",
      "metadata": {
        "id": "x4iNtHw8NG6Q"
      },
      "source": [
        "The dataset we will use is Human Nontata Promotes, genomic dataset from [Genomic Benchmarks](https://github.com/ML-Bioinfo-CEITEC/genomic_benchmarks). The dataset has 19657 positive and 16474 negative sentences with length of 251 characters."
      ]
    },
    {
      "cell_type": "code",
      "execution_count": 184,
      "metadata": {
        "colab": {
          "base_uri": "https://localhost:8080/"
        },
        "id": "BvXwkkuf-rDI",
        "outputId": "efd6fd1d-eaaf-4cb6-e7b9-abf839039f9a"
      },
      "outputs": [
        {
          "name": "stdout",
          "output_type": "stream",
          "text": [
            "Downloading 1u3pyaL8smQaJXeOx7YZkjj-Bdpb-jGCM into /home/katarina/.genomic_benchmarks/demo_mouse_enhancers.zip... Done.\n",
            "Unzipping...Done.\n"
          ]
        },
        {
          "data": {
            "text/plain": [
              "PosixPath('/home/katarina/.genomic_benchmarks/demo_mouse_enhancers')"
            ]
          },
          "execution_count": 184,
          "metadata": {},
          "output_type": "execute_result"
        }
      ],
      "source": [
        "from genomic_benchmarks.loc2seq import download_dataset\n",
        "data_path = download_dataset(\"demo_mouse_enhancers\", version=0)\n",
        "data_path"
      ]
    },
    {
      "cell_type": "code",
      "execution_count": 8,
      "metadata": {
        "colab": {
          "base_uri": "https://localhost:8080/",
          "height": 199
        },
        "id": "4VNYJCkvOkDH",
        "outputId": "7c468377-b570-4815-ea0c-a13ea0e06709"
      },
      "outputs": [
        {
          "name": "stdout",
          "output_type": "stream",
          "text": [
            "Dataset `human_nontata_promoters` has 2 classes: negative, positive.\n",
            "\n",
            "All lenghts of genomic intervals equals 251.\n",
            "\n",
            "Totally 36131 sequences have been found, 27097 for training and 9034 for testing.\n"
          ]
        },
        {
          "data": {
            "text/html": [
              "<div>\n",
              "<style scoped>\n",
              "    .dataframe tbody tr th:only-of-type {\n",
              "        vertical-align: middle;\n",
              "    }\n",
              "\n",
              "    .dataframe tbody tr th {\n",
              "        vertical-align: top;\n",
              "    }\n",
              "\n",
              "    .dataframe thead th {\n",
              "        text-align: right;\n",
              "    }\n",
              "</style>\n",
              "<table border=\"1\" class=\"dataframe\">\n",
              "  <thead>\n",
              "    <tr style=\"text-align: right;\">\n",
              "      <th></th>\n",
              "      <th>train</th>\n",
              "      <th>test</th>\n",
              "    </tr>\n",
              "  </thead>\n",
              "  <tbody>\n",
              "    <tr>\n",
              "      <th>negative</th>\n",
              "      <td>12355</td>\n",
              "      <td>4119</td>\n",
              "    </tr>\n",
              "    <tr>\n",
              "      <th>positive</th>\n",
              "      <td>14742</td>\n",
              "      <td>4915</td>\n",
              "    </tr>\n",
              "  </tbody>\n",
              "</table>\n",
              "</div>"
            ],
            "text/plain": [
              "          train  test\n",
              "negative  12355  4119\n",
              "positive  14742  4915"
            ]
          },
          "execution_count": 8,
          "metadata": {},
          "output_type": "execute_result"
        }
      ],
      "source": [
        "from genomic_benchmarks.data_check import info\n",
        "info(\"demo_mouse_enhancers\", version=0)"
      ]
    },
    {
      "cell_type": "markdown",
      "metadata": {
        "id": "Q4J1JACuQESD"
      },
      "source": [
        "### 1.4. Load Data\n",
        "\n",
        "Loading training data into `np.array`. Downloaded data have each sequence stored in a separate `.txt` file. We also insert spaces into sequences to create words of fixed length. This way, we can use word tokenization later."
      ]
    },
    {
      "cell_type": "code",
      "execution_count": 185,
      "metadata": {
        "id": "y0jDxQUCtxwz"
      },
      "outputs": [],
      "source": [
        "WORD_LENGTH = 3\n",
        "\n",
        "def insert_spaces(text, length):\n",
        "\n",
        "    # strip last word that would be shorter than 'length'\n",
        "    text = text[: -1 * (len(text) % length)]\n",
        "\n",
        "    # split 'text' into words of length 'length' - insert space between words\n",
        "    return ' '.join(text[i:i+length] for i in range(0,len(text),length))\n",
        "\n",
        "def read_text(data_dir):\n",
        "    \"\"\"Load text data, uppercase text and save to a list.\"\"\"\n",
        "\n",
        "    texts = []\n",
        "    for filename in os.listdir(data_dir):\n",
        "        with open(os.path.join(data_dir, filename), 'r') as f: # open in readonly mode\n",
        "            for line in f:\n",
        "                texts.append(insert_spaces(line.upper().strip(), WORD_LENGTH))\n",
        "\n",
        "    return texts\n",
        "\n",
        "def load_data(data_dir, train=True):\n",
        "\n",
        "    if train:\n",
        "        folder = 'train'\n",
        "    else:\n",
        "        folder = 'test'\n",
        "\n",
        "    # Load files\n",
        "    neg_text = read_text(data_dir / folder / 'negative/')\n",
        "    pos_text = read_text(data_dir / folder / 'positive/')\n",
        "\n",
        "    # Concatenate and label data\n",
        "    texts = np.array(neg_text + pos_text)\n",
        "    labels = np.array([0]*len(neg_text) + [1]*len(pos_text))\n",
        "\n",
        "    return texts, labels"
      ]
    },
    {
      "cell_type": "code",
      "execution_count": 186,
      "metadata": {},
      "outputs": [],
      "source": [
        "texts, labels = load_data(data_path, train=True)"
      ]
    },
    {
      "cell_type": "markdown",
      "metadata": {
        "id": "Lyn5PQHRVjqz"
      },
      "source": [
        "Let's look at one training sequence."
      ]
    },
    {
      "cell_type": "code",
      "execution_count": 140,
      "metadata": {
        "colab": {
          "base_uri": "https://localhost:8080/",
          "height": 70
        },
        "id": "rYJco4H0AVMQ",
        "outputId": "eab7f68f-7187-4bfb-d681-292571fd7ce0"
      },
      "outputs": [
        {
          "data": {
            "text/plain": [
              "'TAG TCC CAG CTA CTT GAG AGG CTG AGG TGG GAG GAT CAC TTG AGC CTG GGA GGT TGA GGC TGC AGT GAG CCG TGA TTG TGC CAC TGC ACT TCA GCC TGG GCA ACA CAG TGA GAC CTC ATC TCT AAA AGA AGA AGA AAA AAA AAG GAA ATC CTG CAA TGT GTG ACA ACA TGA ATA AAC TCT GAG GAA ATA ATG CTA AGT GAA GTA AGC CAG GGA CAG GAC AAA TAC CGC ATG ATT CCA CCT ATA GAA GGA'"
            ]
          },
          "execution_count": 140,
          "metadata": {},
          "output_type": "execute_result"
        }
      ],
      "source": [
        "texts[0]"
      ]
    },
    {
      "cell_type": "markdown",
      "metadata": {
        "id": "3_zdk5uPVW-c"
      },
      "source": [
        "### 1.5. Prepare dna2vec vectors"
      ]
    },
    {
      "cell_type": "markdown",
      "metadata": {
        "id": "l6au-ShG0bJ6"
      },
      "source": [
        "Here we use dna2vec: Consistent vector representations of variable-length k-mers (word2vec adapted for DNA).\n",
        "\n"
      ]
    },
    {
      "cell_type": "code",
      "execution_count": 11,
      "metadata": {
        "colab": {
          "base_uri": "https://localhost:8080/"
        },
        "id": "hZ68vYkpH2q2",
        "outputId": "aef9f764-81e8-4845-fab8-bbd500bf4817"
      },
      "outputs": [
        {
          "name": "stdout",
          "output_type": "stream",
          "text": [
            "--2022-02-01 11:08:57--  https://github.com/pnpnpn/dna2vec/raw/master/pretrained/dna2vec-20161219-0153-k3to8-100d-10c-29320Mbp-sliding-Xat.w2v\n",
            "Resolving github.com (github.com)... 140.82.121.3\n",
            "Connecting to github.com (github.com)|140.82.121.3|:443... connected.\n",
            "HTTP request sent, awaiting response... 302 Found\n",
            "Location: https://raw.githubusercontent.com/pnpnpn/dna2vec/master/pretrained/dna2vec-20161219-0153-k3to8-100d-10c-29320Mbp-sliding-Xat.w2v [following]\n",
            "--2022-02-01 11:08:58--  https://raw.githubusercontent.com/pnpnpn/dna2vec/master/pretrained/dna2vec-20161219-0153-k3to8-100d-10c-29320Mbp-sliding-Xat.w2v\n",
            "Resolving raw.githubusercontent.com (raw.githubusercontent.com)... 185.199.110.133, 185.199.109.133, 185.199.108.133, ...\n",
            "Connecting to raw.githubusercontent.com (raw.githubusercontent.com)|185.199.110.133|:443... connected.\n",
            "HTTP request sent, awaiting response... 200 OK\n",
            "Length: 84042299 (80M) [text/plain]\n",
            "Saving to: ‘dna2vec-20161219-0153-k3to8-100d-10c-29320Mbp-sliding-Xat.w2v.1’\n",
            "\n",
            "dna2vec-20161219-01 100%[===================>]  80,15M  5,51MB/s    in 15s     \n",
            "\n",
            "2022-02-01 11:09:16 (5,28 MB/s) - ‘dna2vec-20161219-0153-k3to8-100d-10c-29320Mbp-sliding-Xat.w2v.1’ saved [84042299/84042299]\n",
            "\n"
          ]
        }
      ],
      "source": [
        "!wget https://github.com/pnpnpn/dna2vec/raw/master/pretrained/dna2vec-20161219-0153-k3to8-100d-10c-29320Mbp-sliding-Xat.w2v"
      ]
    },
    {
      "cell_type": "markdown",
      "metadata": {
        "id": "C7EKaOLeWUX1"
      },
      "source": [
        "This is extracted part of dna2vev implementation modified by [xinrcornelia](https://github.com/xinrcornelia). Original implementation was using old and uncompatible libraries. "
      ]
    },
    {
      "cell_type": "code",
      "execution_count": 177,
      "metadata": {
        "colab": {
          "base_uri": "https://localhost:8080/"
        },
        "id": "UOCRt7pMKA1E",
        "outputId": "49147ade-a98e-4c9c-bfc8-865fa9cd2f2e"
      },
      "outputs": [],
      "source": [
        "#Thanks to https://github.com/xinrcornelia/dna2vec/blob/master/dna2vec/multi_k_model.py\n",
        "from gensim.models import KeyedVectors\n",
        "import tempfile\n",
        "\n",
        "class SingleKModel:\n",
        "    def __init__(self, model):\n",
        "        self.model = model\n",
        "        self.vocab_lst = sorted(model.index_to_key)\n",
        "\n",
        "class MultiKModel:\n",
        "    def __init__(self, filepath):\n",
        "        self.aggregate = KeyedVectors.load_word2vec_format(filepath, binary=False)\n",
        "        #self.logger = logbook.Logger(self.__class__.__name__)\n",
        "\n",
        "        vocab_lens = [len(vocab) for vocab in self.aggregate.index_to_key]\n",
        "        self.k_low = min(vocab_lens)\n",
        "        self.k_high = max(vocab_lens)\n",
        "        self.vec_dim = self.aggregate.vector_size\n",
        "\n",
        "        self.data = {}\n",
        "        for k in range(self.k_low, self.k_high + 1):\n",
        "            self.data[k] = self.separate_out_model(k)\n",
        "\n",
        "    def vector(self, vocab):\n",
        "        return self.data[len(vocab)].model[vocab]\n",
        "\n",
        "    def l2_norm(self, vocab):\n",
        "        return np.linalg.norm(self.vector(vocab))\n",
        "\n",
        "    def separate_out_model(self, k_len):\n",
        "        vocabs = [vocab for vocab in self.aggregate.index_to_key if len(vocab) == k_len]\n",
        "        if len(vocabs) != 4 ** k_len:\n",
        "            self.logger.warn('Missing {}-mers: {} / {}'.format(k_len, len(vocabs), 4 ** k_len))\n",
        "\n",
        "        header_str = '{} {}'.format(len(vocabs), self.vec_dim)\n",
        "        with tempfile.NamedTemporaryFile(mode='w') as fptr:\n",
        "            print(header_str, file=fptr)\n",
        "            for vocab in vocabs:\n",
        "                vec_str = ' '.join(\"%f\" % val for val in self.aggregate[vocab])\n",
        "                print('{} {}'.format(vocab, vec_str), file=fptr)\n",
        "            fptr.flush()\n",
        "            return SingleKModel(KeyedVectors.load_word2vec_format(fptr.name, binary=False))"
      ]
    },
    {
      "cell_type": "code",
      "execution_count": 178,
      "metadata": {
        "id": "lHKVkW5qFPgh"
      },
      "outputs": [],
      "source": [
        "filepath = 'dna2vec-20161219-0153-k3to8-100d-10c-29320Mbp-sliding-Xat.w2v'\n",
        "mk_model = MultiKModel(filepath)"
      ]
    },
    {
      "cell_type": "markdown",
      "metadata": {
        "id": "tP87083SV6LP"
      },
      "source": [
        "Each DNA word is represented by vector with 100 dimensions."
      ]
    },
    {
      "cell_type": "code",
      "execution_count": 14,
      "metadata": {
        "colab": {
          "base_uri": "https://localhost:8080/"
        },
        "id": "DDldy9hTmTgJ",
        "outputId": "26c2abc3-bdb6-4edb-8a71-1bc919cd7ead"
      },
      "outputs": [
        {
          "data": {
            "text/plain": [
              "array([-0.100437,  0.037371, -0.003308, -0.17211 ,  0.263888,  0.213367,\n",
              "        0.139173, -0.228796, -0.43588 , -0.152078, -0.06351 ,  0.12935 ,\n",
              "       -0.309992,  0.110419,  0.15974 ,  0.422234,  0.11112 , -0.152604,\n",
              "       -0.194822, -0.08244 ,  0.146237,  0.162316, -0.056551,  0.226918,\n",
              "       -0.566757, -0.160063, -0.476681,  0.246377,  0.402231,  0.49138 ,\n",
              "        0.148335, -0.276922,  0.306808, -0.256018, -0.023064,  0.23046 ,\n",
              "       -0.370285,  0.353037, -0.116914,  0.465472,  0.168274,  0.347329,\n",
              "        0.321257, -0.034686,  0.03985 ,  0.123678, -0.148329, -0.216877,\n",
              "       -0.061961, -0.132535, -0.090232, -0.301371, -0.264962, -0.030402,\n",
              "        0.107969, -0.09688 ,  0.133854, -0.43233 ,  0.130724, -0.203363,\n",
              "       -0.014014,  0.063082,  0.023929,  0.067139,  0.22355 ,  0.158326,\n",
              "        0.10423 ,  0.02596 ,  0.114201, -0.139774, -0.349662, -0.12374 ,\n",
              "       -0.328185,  0.079055, -0.22557 , -0.106094, -0.244369, -0.405145,\n",
              "       -0.144079,  0.052439, -0.031427,  0.036935, -0.449728, -0.075704,\n",
              "       -0.118857, -0.296764,  0.105839, -0.070384,  0.128865,  0.106522,\n",
              "       -0.174091, -0.160325, -0.242552, -0.090122,  0.150408,  0.142665,\n",
              "        0.504985,  0.040182, -0.183996, -0.219605], dtype=float32)"
            ]
          },
          "execution_count": 14,
          "metadata": {},
          "output_type": "execute_result"
        }
      ],
      "source": [
        "mk_model.vector('AGT')"
      ]
    },
    {
      "cell_type": "markdown",
      "metadata": {
        "id": "5KXpMukJ2jzl"
      },
      "source": [
        "### 1.6. Set up GPU for Training"
      ]
    },
    {
      "cell_type": "markdown",
      "metadata": {
        "id": "PKjyE7bmQ-YV"
      },
      "source": [
        "Google Colab offers free GPUs and TPUs. Since we'll be training a large neural network it's best to utilize these features.\n",
        "\n",
        "A GPU can be added by going to the menu and selecting:\n",
        "\n",
        "> Runtime -> Change runtime type -> Hardware accelerator: GPU\n",
        "\n",
        "Then we need to run the following cell to specify the GPU as the device."
      ]
    },
    {
      "cell_type": "code",
      "execution_count": 15,
      "metadata": {
        "colab": {
          "base_uri": "https://localhost:8080/"
        },
        "id": "T73lLtFe2sYl",
        "outputId": "cc6cac96-2dc8-40d0-cf65-1e525fdb989b"
      },
      "outputs": [
        {
          "name": "stdout",
          "output_type": "stream",
          "text": [
            "No GPU available, using the CPU instead.\n"
          ]
        }
      ],
      "source": [
        "if torch.cuda.is_available():       \n",
        "    device = torch.device(\"cuda\")\n",
        "    print(f'There are {torch.cuda.device_count()} GPU(s) available.')\n",
        "    print('Device name:', torch.cuda.get_device_name(0))\n",
        "\n",
        "else:\n",
        "    print('No GPU available, using the CPU instead.')\n",
        "    device = torch.device(\"cpu\")"
      ]
    },
    {
      "cell_type": "markdown",
      "metadata": {
        "id": "hfF1N73tzOlM"
      },
      "source": [
        "## 2. Data Preparation"
      ]
    },
    {
      "cell_type": "markdown",
      "metadata": {
        "id": "-OGgwb0TRPIs"
      },
      "source": [
        "To prepare our text data for training, first we need to tokenize our sentences and build a vocabulary dictionary `word2idx`, which will later be used to convert our tokens into indexes and build an embedding layer.\n",
        "\n",
        "***So, what is an embedding layer?***\n",
        "\n",
        "An embedding layer serves as a look-up table which take word indexes in the vocabulary as input and output word vectors. Hence, the embedding layer has shape $(N, d)$ where $N$ is the size of the vocabulary and $d$ is the embedding dimension. In order to fine-tune pretrained word vectors, we need to create an embedding layer in our `nn.Modules` class. Our input to the model will then be `input_ids`, which is the tokens' index in the vocabulary."
      ]
    },
    {
      "cell_type": "markdown",
      "metadata": {
        "id": "_wupNcAVzzVs"
      },
      "source": [
        "### 2.1. Tokenize"
      ]
    },
    {
      "cell_type": "markdown",
      "metadata": {
        "id": "mjQVL8dIjEtk"
      },
      "source": [
        "The function `tokenize` will tokenize our sentences, build a vocabulary and fine the maximum sentence length. The function `encode` will take in the outputs of `tokenize`, perform sentence padding and return `input_ids` as a numpy array."
      ]
    },
    {
      "cell_type": "code",
      "execution_count": 144,
      "metadata": {
        "id": "4Y1QdMuWMSr5"
      },
      "outputs": [],
      "source": [
        "from nltk.tokenize import word_tokenize\n",
        "from collections import defaultdict\n",
        "\n",
        "def build_vocab(texts):\n",
        "    \"\"\"Build vocabulary and find maximum sentence length.\n",
        "    \n",
        "    Args:\n",
        "        texts (List[str]): List of text data\n",
        "    \n",
        "    Returns:\n",
        "        word2idx (Dict): Vocabulary built from the corpus\n",
        "        max_len (int): Maximum sentence length\n",
        "    \"\"\"\n",
        "\n",
        "    max_len = 0\n",
        "    word2idx = {}\n",
        "\n",
        "    # Add <pad> and <unk> tokens to the vocabulary\n",
        "    word2idx['<pad>'] = 0\n",
        "    word2idx['<unk>'] = 1\n",
        "\n",
        "    # Building our vocab from the corpus starting from index 2\n",
        "    idx = 2\n",
        "    for sent in texts:\n",
        "        tokenized_sent = word_tokenize(sent)\n",
        "\n",
        "        # Add new token to `word2idx`\n",
        "        for token in tokenized_sent:\n",
        "            if token not in word2idx:\n",
        "                word2idx[token] = idx\n",
        "                idx += 1\n",
        "\n",
        "        # Update `max_len`\n",
        "        max_len = max(max_len, len(tokenized_sent))\n",
        "\n",
        "    return word2idx, max_len\n",
        "\n",
        "def tokenize(texts):\n",
        "    tokenized_texts = []\n",
        "    for sent in texts:\n",
        "        tokenized_sent = word_tokenize(sent)\n",
        "\n",
        "        # Add `tokenized_sent` to `tokenized_texts`\n",
        "        tokenized_texts.append(tokenized_sent)\n",
        "    return tokenized_texts\n",
        "\n",
        "def encode(tokenized_texts, word2idx, max_len):\n",
        "    \"\"\"Pad each sentence to the maximum sentence length and encode tokens to\n",
        "    their index in the vocabulary.\n",
        "\n",
        "    Returns:\n",
        "        input_ids (np.array): Array of token indexes in the vocabulary with\n",
        "            shape (N, max_len). It will the input of our CNN model.\n",
        "    \"\"\"\n",
        "\n",
        "    input_ids = []\n",
        "    for tokenized_sent in tokenized_texts:\n",
        "\n",
        "        # Pad sentences to max_len\n",
        "        tokenized_sent += ['<pad>'] * (max_len - len(tokenized_sent))\n",
        "\n",
        "        # Encode tokens to input_ids\n",
        "        input_id = []\n",
        "        for token in tokenized_sent:\n",
        "            if token in word2idx:\n",
        "                input_id.append(word2idx.get(token))\n",
        "            else:\n",
        "                input_id.append(word2idx.get('<unk>'))\n",
        "        input_ids.append(input_id)\n",
        "    \n",
        "    return np.array(input_ids)"
      ]
    },
    {
      "cell_type": "markdown",
      "metadata": {
        "id": "Zut46F0NK2b_"
      },
      "source": [
        "### 2.2. Load Pretrained Vectors"
      ]
    },
    {
      "cell_type": "markdown",
      "metadata": {
        "id": "1htIbprNlxtY"
      },
      "source": [
        "We will load the pretrain vectors for each tokens in our vocabulary. For tokens with no pretraiend vectors, we will initialize random word vectors with the same length and variance."
      ]
    },
    {
      "cell_type": "code",
      "execution_count": 142,
      "metadata": {
        "id": "uBX8y7wgNiQh"
      },
      "outputs": [],
      "source": [
        "from tqdm import tqdm_notebook\n",
        "\n",
        "def load_pretrained_vectors(word2idx):\n",
        "    \"\"\"Load pretrained vectors and create embedding layers.\n",
        "    \n",
        "    Args:\n",
        "        word2idx (Dict): Vocabulary built from the corpus\n",
        "        fname (str): Path to pretrained vector file\n",
        "\n",
        "    Returns:\n",
        "        embeddings (np.array): Embedding matrix with shape (N, d) where N is\n",
        "            the size of word2idx and d is embedding dimension\n",
        "    \"\"\"\n",
        "\n",
        "    d = len(mk_model.vector('AAA'))\n",
        "\n",
        "    # Initialize random embeddings\n",
        "    embeddings = np.random.uniform(-0.25, 0.25, (len(word2idx), d))\n",
        "    # Initialize fixed embeddings for special characters\n",
        "    # embeddings[word2idx['<pad>']] = np.zeros((d,))\n",
        "    # embeddings[word2idx['<unk>']] = np.zeros((d,))\n",
        "\n",
        "    # Load pretrained vectors\n",
        "    count = 0\n",
        "    for word in word2idx.keys():\n",
        "        try:\n",
        "          embeddings[word2idx[word]] = mk_model.vector(word)\n",
        "        except:\n",
        "          pass\n",
        "\n",
        "    return embeddings"
      ]
    },
    {
      "cell_type": "markdown",
      "metadata": {
        "id": "Uc0J6ZXGloN7"
      },
      "source": [
        "Now let's put above steps together."
      ]
    },
    {
      "cell_type": "code",
      "execution_count": 187,
      "metadata": {
        "colab": {
          "base_uri": "https://localhost:8080/"
        },
        "id": "DctpztMIlgtt",
        "outputId": "b32e1ff4-bd1e-47f9-b708-7799fdcd4334"
      },
      "outputs": [],
      "source": [
        "# Tokenize, build vocabulary, encode tokens\n",
        "word2idx, max_len = build_vocab(texts)\n",
        "tokenized_texts = tokenize(texts)\n",
        "input_ids = encode(tokenized_texts, word2idx, max_len)\n",
        "\n",
        "# Load pretrained vectors\n",
        "embeddings = load_pretrained_vectors(word2idx)\n",
        "embeddings = torch.tensor(embeddings)"
      ]
    },
    {
      "cell_type": "code",
      "execution_count": 188,
      "metadata": {},
      "outputs": [
        {
          "data": {
            "text/plain": [
              "array([[ 2,  3,  4, ...,  0,  0,  0],\n",
              "       [50, 50, 50, ...,  0,  0,  0],\n",
              "       [50, 50, 50, ...,  0,  0,  0],\n",
              "       ...,\n",
              "       [17, 55, 54, ...,  0,  0,  0],\n",
              "       [21, 35, 18, ...,  0,  0,  0],\n",
              "       [23, 43, 35, ...,  0,  0,  0]])"
            ]
          },
          "execution_count": 188,
          "metadata": {},
          "output_type": "execute_result"
        }
      ],
      "source": [
        "input_ids"
      ]
    },
    {
      "cell_type": "code",
      "execution_count": 32,
      "metadata": {
        "id": "reDs0IULXJa3"
      },
      "outputs": [
        {
          "data": {
            "text/plain": [
              "tensor([ 0.0167,  0.0482, -0.0670,  0.1536,  0.0116, -0.1916, -0.1855,  0.0184,\n",
              "         0.2183, -0.0958,  0.1848,  0.1320, -0.1261, -0.2318, -0.1991,  0.1142,\n",
              "        -0.1502, -0.0644,  0.0008,  0.1127, -0.1934, -0.0468, -0.0075,  0.0204,\n",
              "         0.1592, -0.1642,  0.1539,  0.0964,  0.0279,  0.0998, -0.0440, -0.1808,\n",
              "         0.0829,  0.0123,  0.0697, -0.0810,  0.2034,  0.0437, -0.2073, -0.0251,\n",
              "         0.1282,  0.1471, -0.0027,  0.1974, -0.1162, -0.0447,  0.1993,  0.1981,\n",
              "         0.0929,  0.1795, -0.2056,  0.1825, -0.0897, -0.1608, -0.1303, -0.0410,\n",
              "        -0.1244, -0.0897, -0.1825, -0.1019,  0.0361, -0.0291, -0.0766,  0.1232,\n",
              "         0.1968,  0.1284, -0.0840,  0.1222, -0.1740, -0.1848, -0.0772,  0.1539,\n",
              "        -0.1268, -0.2184, -0.1841,  0.1794,  0.0669, -0.1234,  0.0276,  0.0138,\n",
              "         0.0777, -0.1334,  0.1822, -0.0953,  0.0971, -0.2419, -0.0637, -0.0741,\n",
              "         0.0217, -0.2136,  0.1451, -0.1411,  0.0885,  0.1516,  0.0309,  0.1204,\n",
              "         0.0809, -0.0722,  0.1544, -0.1026], dtype=torch.float64)"
            ]
          },
          "execution_count": 32,
          "metadata": {},
          "output_type": "execute_result"
        }
      ],
      "source": [
        "embeddings[word2idx['<pad>']]"
      ]
    },
    {
      "cell_type": "code",
      "execution_count": 33,
      "metadata": {
        "id": "hwQ2GgWqXOax"
      },
      "outputs": [
        {
          "data": {
            "text/plain": [
              "tensor([-0.0675,  0.3851, -0.0974, -0.0475, -0.0506, -0.0216, -0.3819,  0.0047,\n",
              "        -0.0318, -0.4523, -0.3082,  0.1640,  0.4856, -0.2600, -0.4911,  0.1989,\n",
              "        -0.0043,  0.0260, -0.1499,  0.4140,  0.0644, -0.2304,  0.1913,  0.1899,\n",
              "        -0.1383, -0.1455, -0.3562,  0.3087,  0.3917,  0.0984,  0.1479, -0.3244,\n",
              "         0.2707, -0.6842,  0.5716,  0.3798,  0.1368,  0.5149,  0.3511,  0.3752,\n",
              "         0.7564,  0.0129, -0.0028, -0.0422, -0.2850,  0.1929, -0.1624, -0.0447,\n",
              "         0.0557, -0.1682,  0.2852,  0.1733, -0.1773, -0.2135, -0.1532,  0.2159,\n",
              "         0.0317, -0.1270,  0.2978,  0.0668,  0.4469, -0.0740, -0.1202,  0.5711,\n",
              "         0.1423,  0.3321,  0.0894,  0.1014,  0.2305,  0.0294, -0.1397,  0.2471,\n",
              "        -0.1196, -0.0268,  0.1059, -0.4370, -0.2137,  0.1215, -0.5145,  0.1736,\n",
              "        -0.2941,  0.1140, -0.1546, -0.0839,  0.0507, -0.5224, -0.1583, -0.3286,\n",
              "         0.2901,  0.2326, -0.4448,  0.0074,  0.1123,  0.1167,  0.0676, -0.0183,\n",
              "         0.0072,  0.1639, -0.3864, -0.3713], dtype=torch.float64)"
            ]
          },
          "execution_count": 33,
          "metadata": {},
          "output_type": "execute_result"
        }
      ],
      "source": [
        "embeddings[word2idx['ACG']]"
      ]
    },
    {
      "cell_type": "markdown",
      "metadata": {
        "id": "K87hskJtyeA_"
      },
      "source": [
        "### 2.3. Create PyTorch DataLoader"
      ]
    },
    {
      "cell_type": "markdown",
      "metadata": {
        "id": "VleMUhr4mlo9"
      },
      "source": [
        "We will create an iterator for our dataset using the torch DataLoader class. This will help save on memory during training and boost the training speed. The batch_size used in the paper is 50."
      ]
    },
    {
      "cell_type": "code",
      "execution_count": 146,
      "metadata": {
        "id": "k4WinIkRyive"
      },
      "outputs": [],
      "source": [
        "from torch.utils.data import (TensorDataset, DataLoader, RandomSampler,\n",
        "                              SequentialSampler)\n",
        "\n",
        "def data_loader(inputs, labels, batch_size=50):\n",
        "    \"\"\"Convert data sets to torch.Tensors and load it to DataLoader.\n",
        "    \"\"\"\n",
        "\n",
        "    # Convert data type to torch.Tensor\n",
        "    inputs, labels = tuple(torch.tensor(data) for data in [inputs, labels])\n",
        "\n",
        "    # Create DataLoader for  data\n",
        "    tensor_data = TensorDataset(inputs, labels)\n",
        "    sampler = RandomSampler(tensor_data)\n",
        "    dataloader = DataLoader(tensor_data, sampler=sampler, batch_size=batch_size)\n",
        "\n",
        "    return dataloader"
      ]
    },
    {
      "cell_type": "markdown",
      "metadata": {
        "id": "6xiAeikanZvE"
      },
      "source": [
        "We will use 90% of the dataset for training and 10% for validation."
      ]
    },
    {
      "cell_type": "code",
      "execution_count": 147,
      "metadata": {
        "id": "7eCQRLKNZ-t7"
      },
      "outputs": [],
      "source": [
        "from sklearn.model_selection import train_test_split\n",
        "\n",
        "# Train Test Split\n",
        "train_inputs, val_inputs, train_labels, val_labels = train_test_split(\n",
        "    input_ids, labels, test_size=0.1, random_state=42)\n",
        "\n",
        "# Load data to PyTorch DataLoader\n",
        "train_dataloader = data_loader(train_inputs, train_labels)\n",
        "val_dataloader = data_loader(val_inputs, val_labels)"
      ]
    },
    {
      "cell_type": "markdown",
      "metadata": {
        "id": "2ImIIvoOSWCT"
      },
      "source": [
        "## 3. Model"
      ]
    },
    {
      "cell_type": "markdown",
      "metadata": {
        "id": "FqsrL0XToAPm"
      },
      "source": [
        "**CNN Architecture**\n",
        "\n",
        "The picture below is the illustration of the CNN architecture that we are going to build with three filter sizes: 2, 3, and 4, each of which has 2 filters."
      ]
    },
    {
      "cell_type": "markdown",
      "metadata": {
        "id": "rV15G29uqLVX"
      },
      "source": [
        "![](https://github.com/chriskhanhtran/CNN-Sentence-Classification-PyTorch/blob/master/cnn-architecture.JPG?raw=true)\n",
        "\n",
        "*CNN Architecture (Source: Zhang, 2015)*\n",
        "\n",
        "```python\n",
        "# Sample configuration:\n",
        "filter_sizes = [2, 3, 4]\n",
        "num_filters = [2, 2, 2]\n",
        "```\n",
        "\n",
        "Suppose that we are classifying the sentence \"***I like this movie very much!***\" ($N = 7$ tokens) and the dimensionality of word vectors is $d=5$. After applying the embedding layer on the input token ids, the sample sentence is presented as a 2D tensor with shape (7, 5) like an image.\n",
        "\n",
        "$$\\mathrm{x_{emb}} \\quad \\in \\mathbb{R}^{7 \\times 5}$$\n",
        "\n",
        "We then use 1-dimesional convolution to extract features from the sentence. In this example, we have 6 filters in total, and each filter has shape $(f_i, d)$ where $f_i$ is the filter size for $i \\in \\{1,...,6\\}$. Each filter will then scan over $\\mathrm{x_{emb}}$ and returns a feature map:\n",
        "\n",
        "$$\\mathrm{x_{conv_ i} = Conv1D(x_{emb})} \\quad \\in \\mathbb{R}^{N-f_i+1}$$\n",
        "\n",
        "Next, we apply the ReLU activation to $\\mathrm{x_{conv_{i}}}$ and use max-over-time-pooling to reduce each feature map to a single scalar. Then we concatenate these scalars into the final feature vector which will be fed to a fully connected layer to compute the final scores for our classes (logits).\n",
        "\n",
        "$$\\mathrm{x_{pool_i} = MaxPool(ReLU(x_{conv_i}))} \\quad \\in \\mathbb{R}$$\n",
        "\n",
        "$$\\mathrm{x_{fc} = \\texttt{concat}(x_{pool_i})} \\quad \\in \\mathbb{R}^6$$\n",
        "\n",
        "The idea here is that each filter will capture different semantic signals in the sentence (ie. happiness, humor, politic, anger...) and max-pooling will record only the strongest signal over the sentence. This logic makes sense because humans also perceive the sentiment of a sentence based on its strongest word/signal.\n",
        "\n",
        "Finally, we use a fully connected layer with the weight matrix $\\mathbf{W_{fc}} \\in \\mathbb{R}^{2 \\times 6} $ and dropout to compute $\\mathrm{logits}$, which is a vector of length 2 that keeps the scores for 2 classes.\n",
        "\n",
        "$$\\mathrm{logits = Dropout(\\mathbf{W_{fc}}x_{fc})}  \\in \\mathbb{R}^2$$\n",
        "\n",
        "An in-depth explanation of CNN can be found in this [article](https://cs231n.github.io/convolutional-networks/) and this [video](https://www.youtube.com/watch?v=YRhxdVk_sIs).\n",
        "\n",
        "\n",
        "\n",
        "\n",
        "\n",
        "\n",
        "\n",
        "\n"
      ]
    },
    {
      "cell_type": "markdown",
      "metadata": {
        "id": "MgLt4c-0iWKL"
      },
      "source": [
        "### 3.1. Create CNN Model"
      ]
    },
    {
      "cell_type": "markdown",
      "metadata": {
        "id": "bmMXZ6UG9to8"
      },
      "source": [
        "For simplicity, the model above has very small configurations. The final model we'll use is much bigger but has the same architecture:\n",
        "\n",
        "|Description         |Values           |\n",
        "|:------------------:|:---------------:|\n",
        "|input word vectors  |dna2vec         |\n",
        "|embedding size      |100              |\n",
        "|filter sizes        |(3, 4, 5)        |\n",
        "|num filters         |(100, 100, 100)  |\n",
        "|activation          |ReLU             |\n",
        "|pooling             |1-max pooling    |\n",
        "|dropout rate        |0.5              |\n",
        "\n"
      ]
    },
    {
      "cell_type": "code",
      "execution_count": 36,
      "metadata": {
        "id": "ejGLw8TKViBY"
      },
      "outputs": [],
      "source": [
        "import torch\n",
        "import torch.nn as nn\n",
        "import torch.nn.functional as F\n",
        "\n",
        "class CNN_DNA(nn.Module):\n",
        "    \"\"\"An 1D Convulational Neural Network for DNA Classification.\"\"\"\n",
        "    def __init__(self,\n",
        "                 pretrained_embedding=None,\n",
        "                 freeze_embedding=False,\n",
        "                 vocab_size=None,\n",
        "                 embed_dim=100,\n",
        "                 filter_sizes=[3, 4, 5],\n",
        "                 num_filters=[100, 100, 100],\n",
        "                 num_classes=2,\n",
        "                 dropout=0.5):\n",
        "        \"\"\"\n",
        "        The constructor for CNN_DNA class.\n",
        "\n",
        "        Args:\n",
        "            pretrained_embedding (torch.Tensor): Pretrained embeddings with\n",
        "                shape (vocab_size, embed_dim)\n",
        "            freeze_embedding (bool): Set to False to fine-tune pretraiend\n",
        "                vectors. Default: False\n",
        "            vocab_size (int): Need to be specified when not pretrained word\n",
        "                embeddings are not used.\n",
        "            embed_dim (int): Dimension of word vectors. Need to be specified\n",
        "                when pretrained word embeddings are not used. Default: 300\n",
        "            filter_sizes (List[int]): List of filter sizes. Default: [3, 4, 5]\n",
        "            num_filters (List[int]): List of number of filters, has the same\n",
        "                length as `filter_sizes`. Default: [100, 100, 100]\n",
        "            n_classes (int): Number of classes. Default: 2\n",
        "            dropout (float): Dropout rate. Default: 0.5\n",
        "        \"\"\"\n",
        "\n",
        "        super(CNN_DNA, self).__init__()\n",
        "        # Embedding layer\n",
        "        if pretrained_embedding is not None:\n",
        "            self.vocab_size, self.embed_dim = pretrained_embedding.shape\n",
        "            self.embedding = nn.Embedding.from_pretrained(pretrained_embedding,\n",
        "                                                          freeze=freeze_embedding)\n",
        "        else:\n",
        "            self.embed_dim = embed_dim\n",
        "            self.embedding = nn.Embedding(num_embeddings=vocab_size,\n",
        "                                          embedding_dim=self.embed_dim,\n",
        "                                          padding_idx=0,\n",
        "                                          max_norm=5.0)\n",
        "        # Conv Network\n",
        "        self.conv1d_list = nn.ModuleList([\n",
        "            nn.Conv1d(in_channels=self.embed_dim,\n",
        "                      out_channels=num_filters[i],\n",
        "                      kernel_size=filter_sizes[i])\n",
        "            for i in range(len(filter_sizes))\n",
        "        ])\n",
        "        # Fully-connected layer and Dropout\n",
        "        self.fc = nn.Linear(np.sum(num_filters), num_classes)\n",
        "        self.dropout = nn.Dropout(p=dropout)\n",
        "\n",
        "    def forward(self, input_ids):\n",
        "        \"\"\"Perform a forward pass through the network.\n",
        "\n",
        "        Args:\n",
        "            input_ids (torch.Tensor): A tensor of token ids with shape\n",
        "                (batch_size, max_sent_length)\n",
        "\n",
        "        Returns:\n",
        "            logits (torch.Tensor): Output logits with shape (batch_size,\n",
        "                n_classes)\n",
        "        \"\"\"\n",
        "\n",
        "        # Get embeddings from `input_ids`. Output shape: (b, max_len, embed_dim)\n",
        "        x_embed = self.embedding(input_ids).float()\n",
        "\n",
        "        # Permute `x_embed` to match input shape requirement of `nn.Conv1d`.\n",
        "        # Output shape: (b, embed_dim, max_len)\n",
        "        x_reshaped = x_embed.permute(0, 2, 1)\n",
        "\n",
        "        # Apply CNN and ReLU. Output shape: (b, num_filters[i], L_out)\n",
        "        x_conv_list = [F.relu(conv1d(x_reshaped)) for conv1d in self.conv1d_list]\n",
        "\n",
        "        # Max pooling. Output shape: (b, num_filters[i], 1)\n",
        "        x_pool_list = [F.max_pool1d(x_conv, kernel_size=x_conv.shape[2])\n",
        "            for x_conv in x_conv_list]\n",
        "        \n",
        "        # Concatenate x_pool_list to feed the fully connected layer.\n",
        "        # Output shape: (b, sum(num_filters))\n",
        "        x_fc = torch.cat([x_pool.squeeze(dim=2) for x_pool in x_pool_list],\n",
        "                         dim=1)\n",
        "        \n",
        "        # Compute logits. Output shape: (b, n_classes)\n",
        "        logits = self.fc(self.dropout(x_fc))\n",
        "\n",
        "        return logits"
      ]
    },
    {
      "cell_type": "markdown",
      "metadata": {
        "id": "nf9xEQR-yO_U"
      },
      "source": [
        "### 3.2. Optimizer"
      ]
    },
    {
      "cell_type": "markdown",
      "metadata": {
        "id": "P7TnaJvUCaz7"
      },
      "source": [
        "To train Deep Learning models, we need to define a loss function and minimize this loss. We'll use back-propagation to compute gradients and use an optimization algorithm (ie. Gradient Descent) to minimize the loss. The original paper used the Adadelta optimizer."
      ]
    },
    {
      "cell_type": "code",
      "execution_count": 160,
      "metadata": {
        "id": "lTJnvDI9xuUv"
      },
      "outputs": [],
      "source": [
        "import torch.optim as optim\n",
        "\n",
        "def initilize_model(pretrained_embedding=None,\n",
        "                    freeze_embedding=False,\n",
        "                    vocab_size=None,\n",
        "                    embed_dim=300,\n",
        "                    filter_sizes=[3, 4, 5],\n",
        "                    num_filters=[100, 100, 100],\n",
        "                    num_classes=2,\n",
        "                    dropout=0.5,\n",
        "                    learning_rate=0.01):\n",
        "    \"\"\"Instantiate a CNN model and an optimizer.\"\"\"\n",
        "\n",
        "    assert (len(filter_sizes) == len(num_filters)), \"filter_sizes and \\\n",
        "    num_filters need to be of the same length.\"\n",
        "\n",
        "    # Instantiate CNN model\n",
        "    cnn_model = CNN_DNA(pretrained_embedding=pretrained_embedding,\n",
        "                        freeze_embedding=freeze_embedding,\n",
        "                        vocab_size=vocab_size,\n",
        "                        embed_dim=embed_dim,\n",
        "                        filter_sizes=filter_sizes,\n",
        "                        num_filters=num_filters,\n",
        "                        num_classes=2,\n",
        "                        dropout=0.5)\n",
        "    \n",
        "    # Send model to `device` (GPU/CPU)\n",
        "    cnn_model.to(device)\n",
        "\n",
        "    # Instantiate Adadelta optimizer\n",
        "    optimizer = optim.Adadelta(cnn_model.parameters(),\n",
        "                               lr=learning_rate,\n",
        "                               rho=0.95)\n",
        "\n",
        "    return cnn_model, optimizer"
      ]
    },
    {
      "cell_type": "markdown",
      "metadata": {
        "id": "tyWHu4sr55lU"
      },
      "source": [
        "### 3.3. Training Loop"
      ]
    },
    {
      "cell_type": "markdown",
      "metadata": {
        "id": "9iWapM27CVw3"
      },
      "source": [
        "For each epoch, the code below will perform a forward step to compute the *Cross Entropy* loss, a backward step to compute gradients and use the optimizer to update weights/parameters. At the end of each epoch, the loss on training data and the accuracy over the validation data will be printed to help us keep track of the model's performance. The code is heavily annotated with detailed explanations."
      ]
    },
    {
      "cell_type": "code",
      "execution_count": 38,
      "metadata": {
        "id": "NaW2V4O225fS"
      },
      "outputs": [],
      "source": [
        "import random\n",
        "import time\n",
        "\n",
        "# Specify loss function\n",
        "loss_fn = nn.CrossEntropyLoss()\n",
        "\n",
        "def set_seed(seed_value=42):\n",
        "    \"\"\"Set seed for reproducibility.\"\"\"\n",
        "\n",
        "    random.seed(seed_value)\n",
        "    np.random.seed(seed_value)\n",
        "    torch.manual_seed(seed_value)\n",
        "    torch.cuda.manual_seed_all(seed_value)\n",
        "\n",
        "def train(model, optimizer, train_dataloader, val_dataloader=None, epochs=10):\n",
        "    \"\"\"Train the CNN model.\"\"\"\n",
        "    \n",
        "    # Tracking best validation accuracy\n",
        "    best_accuracy = 0\n",
        "\n",
        "    # Start training loop\n",
        "    print(\"Start training...\\n\")\n",
        "    print(f\"{'Epoch':^7} | {'Train Loss':^12} | {'Val Loss':^10} | {'Val Acc':^9} | {'Elapsed':^9}\")\n",
        "    print(\"-\"*60)\n",
        "\n",
        "    for epoch_i in range(epochs):\n",
        "        # =======================================\n",
        "        #               Training\n",
        "        # =======================================\n",
        "\n",
        "        # Tracking time and loss\n",
        "        t0_epoch = time.time()\n",
        "        total_loss = 0\n",
        "\n",
        "        # Put the model into the training mode\n",
        "        model.train()\n",
        "\n",
        "        for step, batch in enumerate(train_dataloader):\n",
        "            # Load batch to GPU\n",
        "            b_input_ids, b_labels = tuple(t.to(device) for t in batch)\n",
        "\n",
        "            # Zero out any previously calculated gradients\n",
        "            model.zero_grad()\n",
        "\n",
        "            # Perform a forward pass. This will return logits.\n",
        "            logits = model(b_input_ids)\n",
        "\n",
        "            # Compute loss and accumulate the loss values\n",
        "            loss = loss_fn(logits, b_labels)\n",
        "            total_loss += loss.item()\n",
        "\n",
        "            # Perform a backward pass to calculate gradients\n",
        "            loss.backward()\n",
        "\n",
        "            # Update parameters\n",
        "            optimizer.step()\n",
        "\n",
        "        # Calculate the average loss over the entire training data\n",
        "        avg_train_loss = total_loss / len(train_dataloader)\n",
        "\n",
        "        # =======================================\n",
        "        #               Evaluation\n",
        "        # =======================================\n",
        "        if val_dataloader is not None:\n",
        "            # After the completion of each training epoch, measure the model's\n",
        "            # performance on our validation set.\n",
        "            val_loss, val_accuracy = evaluate(model, val_dataloader)\n",
        "\n",
        "            # Track the best accuracy\n",
        "            if val_accuracy > best_accuracy:\n",
        "                best_accuracy = val_accuracy\n",
        "\n",
        "            # Print performance over the entire training data\n",
        "            time_elapsed = time.time() - t0_epoch\n",
        "            print(f\"{epoch_i + 1:^7} | {avg_train_loss:^12.6f} | {val_loss:^10.6f} | {val_accuracy:^9.2f} | {time_elapsed:^9.2f}\")\n",
        "            \n",
        "    print(\"\\n\")\n",
        "    print(f\"Training complete! Best accuracy: {best_accuracy:.2f}%.\")\n",
        "\n",
        "def evaluate(model, val_dataloader):\n",
        "    \"\"\"After the completion of each training epoch, measure the model's\n",
        "    performance on our validation set.\n",
        "    \"\"\"\n",
        "    # Put the model into the evaluation mode. The dropout layers are disabled\n",
        "    # during the test time.\n",
        "    model.eval()\n",
        "\n",
        "    # Tracking variables\n",
        "    val_accuracy = []\n",
        "    val_loss = []\n",
        "\n",
        "    # For each batch in our validation set...\n",
        "    for batch in val_dataloader:\n",
        "        # Load batch to GPU\n",
        "        b_input_ids, b_labels = tuple(t.to(device) for t in batch)\n",
        "\n",
        "        # Compute logits\n",
        "        with torch.no_grad():\n",
        "            logits = model(b_input_ids)\n",
        "\n",
        "        # Compute loss\n",
        "        loss = loss_fn(logits, b_labels)\n",
        "        val_loss.append(loss.item())\n",
        "\n",
        "        # Get the predictions\n",
        "        preds = torch.argmax(logits, dim=1).flatten()\n",
        "\n",
        "        # Calculate the accuracy rate\n",
        "        accuracy = (preds == b_labels).cpu().numpy().mean() * 100\n",
        "        val_accuracy.append(accuracy)\n",
        "\n",
        "    # Compute the average accuracy and loss over the validation set.\n",
        "    val_loss = np.mean(val_loss)\n",
        "    val_accuracy = np.mean(val_accuracy)\n",
        "\n",
        "    return val_loss, val_accuracy"
      ]
    },
    {
      "cell_type": "markdown",
      "metadata": {
        "id": "iHgnBNo1ino_"
      },
      "source": [
        "## 4. Evaluation "
      ]
    },
    {
      "cell_type": "markdown",
      "metadata": {
        "id": "nU-FMtOYMx3F"
      },
      "source": [
        "In the original paper (Kim, 2014), the author tried different variations of the model.\n",
        "- **CNN-rand**: The baseline model where the embedding layer is randomly initialized and then updated during training.\n",
        "- **CNN-static**: A model with pretrained vectors. However, the embedding layer is freezed during training.\n",
        "- **CNN-non-static**: Same as above but the embedding layers are fine-tuned during training.\n",
        "\n",
        "Tran,2020 did experiments with all 3 variations and compared their performance. Below is the report of results.\n",
        "\n",
        "|Model            |Kim's results  |Tran's results  |\n",
        "|:----------------|:-------------:|:-----------:|\n",
        "|CNN-rand         |76.1           |74.2         |\n",
        "|CNN-static       |81.0           |82.7         |\n",
        "|CNN-non-static   |81.5           |84.4         |\n",
        "\n",
        "Randomness could cause the difference in the results. Improvement in Tran's results could be caused by using fastText pretrained vectors, which are of higher quality than word2vec vectors that Kim used.\n",
        "\n",
        "In this notebook, we adapted model proposed by Tran,2020 to use with DNA sequences and we run similar experiment with pretrained dna2vec embedding vectors. Below is the report of results.\n",
        "\n",
        "|Model            |Our results    |\n",
        "|:----------------|:-------------:|\n",
        "|CNN-rand         |76.1           |\n",
        "|CNN-static       |81.0           |\n",
        "|CNN-non-static   |81.5           |\n",
        "\n",
        "Another benefit of pretrained embeddings is speedup of model training. One epoch of training is about 2 times slower when we need to compute embedding vectors.\n"
      ]
    },
    {
      "cell_type": "markdown",
      "metadata": {},
      "source": [
        "First, we will run CNN model with random embeddings that we will try to learn during training. We are using `embed_dim=100` to match dimensions of `dna2vec` embeddings used in next models."
      ]
    },
    {
      "cell_type": "code",
      "execution_count": 162,
      "metadata": {
        "colab": {
          "base_uri": "https://localhost:8080/"
        },
        "id": "NwYoPQuQnz97",
        "outputId": "454b5090-97b4-44b3-9eb1-e15f5c965373"
      },
      "outputs": [
        {
          "name": "stdout",
          "output_type": "stream",
          "text": [
            "Start training...\n",
            "\n",
            " Epoch  |  Train Loss  |  Val Loss  |  Val Acc  |  Elapsed \n",
            "------------------------------------------------------------\n",
            "   1    |   0.497624   |  0.442190  |   79.31   |   16.46  \n",
            "   2    |   0.447060   |  0.435506  |   79.60   |   12.77  \n",
            "   3    |   0.419435   |  0.408050  |   81.02   |   12.75  \n",
            "   4    |   0.394140   |  0.387862  |   82.04   |   13.46  \n",
            "   5    |   0.365410   |  0.392974  |   80.65   |   11.85  \n",
            "   6    |   0.339719   |  0.376152  |   82.65   |   13.39  \n",
            "   7    |   0.309033   |  0.344586  |   85.02   |   15.62  \n",
            "   8    |   0.279932   |  0.345872  |   84.84   |   11.65  \n",
            "   9    |   0.254501   |  0.343436  |   85.09   |   10.63  \n",
            "  10    |   0.242257   |  0.327282  |   86.15   |   10.61  \n",
            "  11    |   0.222653   |  0.330655  |   86.11   |   10.02  \n",
            "  12    |   0.208677   |  0.334777  |   85.78   |   10.24  \n",
            "  13    |   0.193446   |  0.321205  |   85.89   |   10.79  \n",
            "  14    |   0.183274   |  0.345823  |   86.22   |   12.63  \n",
            "  15    |   0.166617   |  0.345278  |   86.62   |   11.24  \n",
            "  16    |   0.160814   |  0.337374  |   86.11   |   11.81  \n",
            "  17    |   0.150168   |  0.336579  |   86.95   |   11.93  \n",
            "  18    |   0.146657   |  0.339695  |   85.89   |   10.18  \n",
            "  19    |   0.139800   |  0.341593  |   87.20   |   10.72  \n",
            "  20    |   0.129242   |  0.380247  |   86.11   |   11.68  \n",
            "\n",
            "\n",
            "Training complete! Best accuracy: 87.20%.\n"
          ]
        }
      ],
      "source": [
        "# CNN-rand: Word vectors are randomly initialized.\n",
        "set_seed(42)\n",
        "cnn_rand, optimizer = initilize_model(vocab_size=len(word2idx),\n",
        "                                      embed_dim=100,\n",
        "                                      learning_rate=0.3,\n",
        "                                      dropout=0.5)\n",
        "train(cnn_rand, optimizer, train_dataloader, val_dataloader, epochs=20)"
      ]
    },
    {
      "cell_type": "code",
      "execution_count": 163,
      "metadata": {
        "colab": {
          "base_uri": "https://localhost:8080/"
        },
        "id": "2r6KEatn6FqQ",
        "outputId": "1bc91cff-8ec8-4e06-b3f1-ead1dc0ac6dc"
      },
      "outputs": [
        {
          "name": "stdout",
          "output_type": "stream",
          "text": [
            "Start training...\n",
            "\n",
            " Epoch  |  Train Loss  |  Val Loss  |  Val Acc  |  Elapsed \n",
            "------------------------------------------------------------\n",
            "   1    |   0.496641   |  0.453007  |   78.80   |   8.82   \n",
            "   2    |   0.434299   |  0.417284  |   80.55   |   8.25   \n",
            "   3    |   0.399890   |  0.439137  |   80.22   |   11.71  \n",
            "   4    |   0.377305   |  0.383808  |   82.51   |   7.97   \n",
            "   5    |   0.351677   |  0.374156  |   82.65   |   10.01  \n",
            "   6    |   0.328584   |  0.366556  |   82.87   |   8.86   \n",
            "   7    |   0.306771   |  0.354151  |   83.78   |   8.53   \n",
            "   8    |   0.286681   |  0.376002  |   83.82   |   8.77   \n",
            "   9    |   0.270412   |  0.358195  |   84.80   |   7.55   \n",
            "  10    |   0.251574   |  0.396317  |   83.56   |   7.46   \n",
            "  11    |   0.235887   |  0.346546  |   85.13   |   7.93   \n",
            "  12    |   0.218733   |  0.328022  |   85.78   |   7.69   \n",
            "  13    |   0.208285   |  0.367171  |   85.20   |   8.05   \n",
            "  14    |   0.197947   |  0.331507  |   86.62   |   7.62   \n",
            "  15    |   0.185154   |  0.345628  |   85.89   |   7.33   \n",
            "  16    |   0.180300   |  0.322420  |   86.73   |   7.53   \n",
            "  17    |   0.169369   |  0.326815  |   86.76   |   7.54   \n",
            "  18    |   0.159694   |  0.334211  |   87.09   |   7.78   \n",
            "  19    |   0.155321   |  0.369947  |   87.02   |   7.57   \n",
            "  20    |   0.149850   |  0.335889  |   86.80   |   7.53   \n",
            "\n",
            "\n",
            "Training complete! Best accuracy: 87.09%.\n"
          ]
        }
      ],
      "source": [
        "# CNN-static: dna2vec pretrained word vectors are used and freezed during training.\n",
        "set_seed(42)\n",
        "cnn_static, optimizer = initilize_model(pretrained_embedding=embeddings,\n",
        "                                        freeze_embedding=True,\n",
        "                                        learning_rate=0.3,\n",
        "                                        dropout=0.5)\n",
        "train(cnn_static, optimizer, train_dataloader, val_dataloader, epochs=20)"
      ]
    },
    {
      "cell_type": "code",
      "execution_count": 164,
      "metadata": {
        "colab": {
          "base_uri": "https://localhost:8080/"
        },
        "id": "CE6H6xJ-VwN5",
        "outputId": "f4b168d8-ee8e-40f2-f757-45a050707786"
      },
      "outputs": [
        {
          "name": "stdout",
          "output_type": "stream",
          "text": [
            "Start training...\n",
            "\n",
            " Epoch  |  Train Loss  |  Val Loss  |  Val Acc  |  Elapsed \n",
            "------------------------------------------------------------\n",
            "   1    |   0.493290   |  0.447149  |   79.16   |   11.07  \n",
            "   2    |   0.432897   |  0.415333  |   80.58   |   12.04  \n",
            "   3    |   0.398694   |  0.415508  |   80.98   |   11.01  \n",
            "   4    |   0.374678   |  0.382646  |   82.76   |   11.90  \n",
            "   5    |   0.346559   |  0.368753  |   83.02   |   11.23  \n",
            "   6    |   0.320976   |  0.370778  |   82.25   |   10.95  \n",
            "   7    |   0.297033   |  0.353070  |   83.53   |   10.91  \n",
            "   8    |   0.273787   |  0.370409  |   84.29   |   10.51  \n",
            "   9    |   0.255535   |  0.358721  |   84.76   |   10.13  \n",
            "  10    |   0.233931   |  0.354662  |   84.84   |   10.51  \n",
            "  11    |   0.217920   |  0.360115  |   85.31   |   10.34  \n",
            "  12    |   0.200771   |  0.412289  |   84.33   |   10.38  \n",
            "  13    |   0.188879   |  0.329183  |   86.22   |   11.32  \n",
            "  14    |   0.175321   |  0.353973  |   85.71   |   10.60  \n",
            "  15    |   0.168692   |  0.310838  |   86.95   |   10.43  \n",
            "  16    |   0.161614   |  0.342761  |   86.36   |   10.43  \n",
            "  17    |   0.151072   |  0.321541  |   87.05   |   10.33  \n",
            "  18    |   0.141650   |  0.322510  |   86.73   |   11.19  \n",
            "  19    |   0.135581   |  0.338223  |   87.16   |   10.85  \n",
            "  20    |   0.130143   |  0.322751  |   86.69   |   10.54  \n",
            "\n",
            "\n",
            "Training complete! Best accuracy: 87.16%.\n"
          ]
        }
      ],
      "source": [
        "# CNN-non-static: dna2vec pretrained word vectors are fine-tuned during training.\n",
        "set_seed(42)\n",
        "cnn_non_static, optimizer = initilize_model(pretrained_embedding=embeddings,\n",
        "                                            freeze_embedding=False,\n",
        "                                            learning_rate=0.3,\n",
        "                                            dropout=0.5)\n",
        "train(cnn_non_static, optimizer, train_dataloader, val_dataloader, epochs=20)"
      ]
    },
    {
      "cell_type": "markdown",
      "metadata": {
        "id": "Xjie11DyVokt"
      },
      "source": [
        "## 5. Test Models"
      ]
    },
    {
      "cell_type": "markdown",
      "metadata": {
        "id": "qGcys3S3snRP"
      },
      "source": [
        "We have left out part of data for testing. We will preprocess it and use it for testing, how will our models perform on data they never seen."
      ]
    },
    {
      "cell_type": "code",
      "execution_count": 189,
      "metadata": {},
      "outputs": [],
      "source": [
        "test_texts, test_labels = load_data(data_path, train=False)\n",
        "\n",
        "tokenized_test_texts = tokenize(test_texts)\n",
        "max_len = max(max_len, max([len(seq) for seq in tokenized_test_texts]))\n",
        "test_input_ids = encode(tokenized_test_texts, word2idx, max_len)"
      ]
    },
    {
      "cell_type": "code",
      "execution_count": 166,
      "metadata": {},
      "outputs": [
        {
          "data": {
            "text/plain": [
              "array([[52,  3, 54, ..., 52,  6,  9],\n",
              "       [24, 45,  6, ..., 41, 56, 50],\n",
              "       [ 2, 55, 32, ..., 35, 50, 34],\n",
              "       ...,\n",
              "       [53, 46, 25, ..., 10,  4, 62],\n",
              "       [50, 22, 61, ..., 50, 14, 62],\n",
              "       [12, 37, 50, ..., 49, 17, 55]])"
            ]
          },
          "execution_count": 166,
          "metadata": {},
          "output_type": "execute_result"
        }
      ],
      "source": [
        "test_input_ids"
      ]
    },
    {
      "cell_type": "code",
      "execution_count": 167,
      "metadata": {},
      "outputs": [],
      "source": [
        "test_dataloader = data_loader(test_input_ids, test_labels)"
      ]
    },
    {
      "cell_type": "code",
      "execution_count": 168,
      "metadata": {},
      "outputs": [],
      "source": [
        "def test(model, dataloader):\n",
        "    \"\"\"After the completion of each training epoch, measure the model's\n",
        "    performance on our validation set.\n",
        "    \"\"\"\n",
        "    # Put the model into the evaluation mode. The dropout layers are disabled\n",
        "    # during the test time.\n",
        "    model.eval()\n",
        "\n",
        "\n",
        "    val_accuracy = []\n",
        "    val_loss = []\n",
        "\n",
        "    # Tracking variables\n",
        "    size = dataloader.dataset.__len__()\n",
        "    num_batches = len(dataloader)\n",
        "    test_loss, correct = 0, 0\n",
        "    tp, p, fp, tn, fn = 0, 0, 0, 0, 0\n",
        "    accuracy = 0\n",
        "    correct = 0\n",
        "\n",
        "    # For each batch in our validation set...\n",
        "    for batch in dataloader:\n",
        "        # Load batch to GPU\n",
        "        b_input_ids, b_labels = tuple(t.to(device) for t in batch)\n",
        "\n",
        "        # Compute logits\n",
        "        with torch.no_grad():\n",
        "            logits = model(b_input_ids)\n",
        "\n",
        "        # Get the predictions\n",
        "        preds = torch.argmax(logits, dim=1).flatten()\n",
        "\n",
        "        # Compute loss\n",
        "        loss = loss_fn(logits, b_labels)\n",
        "        test_loss += loss.item()\n",
        "\n",
        "        # Compute number of correct predictions\n",
        "        correct += (preds == b_labels).sum().item()\n",
        "\n",
        "        # Calculate the accuracy rate\n",
        "        accuracy += (preds == b_labels).cpu().numpy().mean() * 100\n",
        "\n",
        "        # Compute number of positive predictions\n",
        "        p += (b_labels == 1).sum().item()\n",
        "\n",
        "        # Compute true positives and false positives\n",
        "        tp += (b_labels * preds).sum(dim=0).item()\n",
        "        fp += ((1 - b_labels) * preds).sum(dim=0).item()\n",
        "\n",
        "        # Compute true negatives and false negatives\n",
        "        tn += ((1 - b_labels) * (1 - preds)).sum(dim=0).item()\n",
        "        fn += (b_labels * (1 - preds)).sum(dim=0).item()\n",
        "\n",
        "    print(\"p \", p, \"; tp \", tp, \"; fp \", fp, \"; tn \", tn, \"; fn \", fn)\n",
        "    recall = tp / p\n",
        "    precision = tp / (tp + fp)\n",
        "    print(\"recall \", recall, \"; precision \", precision)\n",
        "    f1_score = 2 * precision * recall / (precision + recall)\n",
        "    \n",
        "    print(\"num_batches\", num_batches)\n",
        "    print(\"correct\", correct)\n",
        "    print(\"size\", size)\n",
        "\n",
        "    test_loss /= num_batches\n",
        "    accuracy = correct / size\n",
        "    print(f\"Test metrics: \\n Accuracy: {accuracy:>6f}, F1 score: {f1_score:>6f}, Avg loss: {test_loss:>6f} \\n\")\n",
        "    \n",
        "    return accuracy, f1_score"
      ]
    },
    {
      "cell_type": "code",
      "execution_count": 169,
      "metadata": {},
      "outputs": [
        {
          "name": "stdout",
          "output_type": "stream",
          "text": [
            "p  4915 ; tp  3977 ; fp  227 ; tn  3892 ; fn  938\n",
            "recall  0.8091556459816887 ; precision  0.9460038058991437\n",
            "num_batches 181\n",
            "correct 7869\n",
            "size 9034\n",
            "Test metrics: \n",
            " Accuracy: 0.871043, F1 score: 0.872245, Avg loss: 0.346019 \n",
            "\n"
          ]
        },
        {
          "data": {
            "text/plain": [
              "(0.8710427274739871, 0.8722447636802281)"
            ]
          },
          "execution_count": 169,
          "metadata": {},
          "output_type": "execute_result"
        }
      ],
      "source": [
        "test(model=cnn_rand.to(\"cpu\"), dataloader=test_dataloader)"
      ]
    },
    {
      "cell_type": "code",
      "execution_count": 170,
      "metadata": {},
      "outputs": [
        {
          "name": "stdout",
          "output_type": "stream",
          "text": [
            "p  4915 ; tp  4107 ; fp  476 ; tn  3643 ; fn  808\n",
            "recall  0.8356052899287895 ; precision  0.8961379009382501\n",
            "num_batches 181\n",
            "correct 7750\n",
            "size 9034\n",
            "Test metrics: \n",
            " Accuracy: 0.857870, F1 score: 0.864814, Avg loss: 0.570633 \n",
            "\n"
          ]
        },
        {
          "data": {
            "text/plain": [
              "(0.8578702678769095, 0.86481364497789)"
            ]
          },
          "execution_count": 170,
          "metadata": {},
          "output_type": "execute_result"
        }
      ],
      "source": [
        "test(model=cnn_static.to(\"cpu\"), dataloader=test_dataloader)"
      ]
    },
    {
      "cell_type": "code",
      "execution_count": 171,
      "metadata": {},
      "outputs": [
        {
          "name": "stdout",
          "output_type": "stream",
          "text": [
            "p  4915 ; tp  4370 ; fp  493 ; tn  3626 ; fn  545\n",
            "recall  0.8891149542217701 ; precision  0.8986222496401398\n",
            "num_batches 181\n",
            "correct 7996\n",
            "size 9034\n",
            "Test metrics: \n",
            " Accuracy: 0.885101, F1 score: 0.893843, Avg loss: 0.293465 \n",
            "\n"
          ]
        },
        {
          "data": {
            "text/plain": [
              "(0.8851007305733894, 0.8938433217426877)"
            ]
          },
          "execution_count": 171,
          "metadata": {},
          "output_type": "execute_result"
        }
      ],
      "source": [
        "test(model=cnn_non_static.to(\"cpu\"), dataloader=test_dataloader)"
      ]
    },
    {
      "cell_type": "markdown",
      "metadata": {},
      "source": [
        "## Hyper parameters tuning"
      ]
    },
    {
      "cell_type": "code",
      "execution_count": null,
      "metadata": {},
      "outputs": [],
      "source": [
        "from hyperopt import fmin, tpe, hp, STATUS_OK, Trials"
      ]
    },
    {
      "cell_type": "code",
      "execution_count": null,
      "metadata": {},
      "outputs": [],
      "source": []
    },
    {
      "cell_type": "markdown",
      "metadata": {},
      "source": [
        "## Trying it on more datasets"
      ]
    },
    {
      "cell_type": "code",
      "execution_count": 191,
      "metadata": {},
      "outputs": [
        {
          "name": "stdout",
          "output_type": "stream",
          "text": [
            "DATASET:  demo_mouse_enhancers\n",
            "Downloading 1u3pyaL8smQaJXeOx7YZkjj-Bdpb-jGCM into /home/katarina/.genomic_benchmarks/demo_mouse_enhancers.zip... Done.\n",
            "Unzipping...Done.\n",
            "RANDOM\n",
            "Start training...\n",
            "\n",
            " Epoch  |  Train Loss  |  Val Loss  |  Val Acc  |  Elapsed \n",
            "------------------------------------------------------------\n",
            "   1    |   0.716757   |  0.679567  |   49.47   |   6.14   \n",
            "   2    |   0.678335   |  0.626182  |   64.91   |   6.15   \n",
            "   3    |   0.653161   |  0.695404  |   38.89   |   6.04   \n",
            "   4    |   0.659598   |  0.626203  |   56.60   |   6.35   \n",
            "   5    |   0.646923   |  0.620921  |   61.79   |   6.04   \n",
            "   6    |   0.592952   |  0.585424  |   63.53   |   5.98   \n",
            "   7    |   0.593763   |  0.586397  |   68.11   |   6.06   \n",
            "   8    |   0.578219   |  0.602496  |   59.91   |   6.11   \n",
            "   9    |   0.580130   |  0.603331  |   60.66   |   5.91   \n",
            "  10    |   0.555025   |  0.624593  |   53.53   |   5.90   \n",
            "  11    |   0.562874   |  0.567810  |   63.85   |   5.98   \n",
            "  12    |   0.544354   |  0.565428  |   67.17   |   6.00   \n",
            "  13    |   0.529997   |  0.616676  |   56.53   |   5.85   \n",
            "  14    |   0.524942   |  0.555846  |   63.98   |   5.95   \n",
            "  15    |   0.509854   |  0.545084  |   65.04   |   6.10   \n",
            "  16    |   0.479185   |  0.542725  |   65.11   |   6.06   \n",
            "  17    |   0.479926   |  0.629460  |   52.47   |   6.03   \n",
            "  18    |   0.481297   |  0.566713  |   61.85   |   5.99   \n",
            "  19    |   0.458204   |  0.539514  |   68.17   |   6.04   \n",
            "  20    |   0.464136   |  0.563670  |   60.79   |   5.94   \n",
            "\n",
            "\n",
            "Training complete! Best accuracy: 68.17%.\n",
            "STATIC\n",
            "Start training...\n",
            "\n",
            " Epoch  |  Train Loss  |  Val Loss  |  Val Acc  |  Elapsed \n",
            "------------------------------------------------------------\n",
            "   1    |   0.697726   |  0.655305  |   56.72   |   4.74   \n",
            "   2    |   0.685746   |  0.706155  |   38.15   |   4.75   \n",
            "   3    |   0.669940   |  0.645415  |   56.60   |   4.58   \n",
            "   4    |   0.657491   |  0.696344  |   41.40   |   4.53   \n",
            "   5    |   0.653534   |  0.726073  |   37.89   |   4.60   \n",
            "   6    |   0.646235   |  0.637448  |   67.11   |   4.75   \n",
            "   7    |   0.625405   |  0.679909  |   47.28   |   4.49   \n",
            "   8    |   0.612778   |  0.597367  |   63.04   |   4.62   \n",
            "   9    |   0.605089   |  0.641038  |   57.47   |   4.48   \n",
            "  10    |   0.591969   |  0.619727  |   64.11   |   4.57   \n",
            "  11    |   0.577126   |  0.594809  |   68.11   |   4.64   \n",
            "  12    |   0.569105   |  0.650710  |   52.66   |   4.42   \n",
            "  13    |   0.558184   |  0.570350  |   68.30   |   4.84   \n",
            "  14    |   0.555450   |  0.610808  |   60.60   |   4.53   \n",
            "  15    |   0.537413   |  0.554409  |   64.85   |   4.67   \n",
            "  16    |   0.509749   |  0.576614  |   65.79   |   4.50   \n",
            "  17    |   0.504461   |  0.546880  |   73.30   |   4.49   \n",
            "  18    |   0.508156   |  0.586724  |   68.11   |   4.42   \n",
            "  19    |   0.503965   |  0.548294  |   73.11   |   4.48   \n",
            "  20    |   0.490887   |  0.534865  |   74.17   |   4.48   \n",
            "\n",
            "\n",
            "Training complete! Best accuracy: 74.17%.\n",
            "NON STATIC\n",
            "Start training...\n",
            "\n",
            " Epoch  |  Train Loss  |  Val Loss  |  Val Acc  |  Elapsed \n",
            "------------------------------------------------------------\n",
            "   1    |   0.697687   |  0.655314  |   56.72   |   6.12   \n",
            "   2    |   0.685233   |  0.705564  |   38.15   |   6.09   \n",
            "   3    |   0.669071   |  0.644231  |   56.60   |   5.97   \n",
            "   4    |   0.655796   |  0.695907  |   40.40   |   6.33   \n",
            "   5    |   0.650912   |  0.725215  |   37.89   |   6.40   \n",
            "   6    |   0.643455   |  0.634758  |   67.11   |   6.15   \n",
            "   7    |   0.621522   |  0.678314  |   46.21   |   6.03   \n",
            "   8    |   0.607804   |  0.591909  |   64.11   |   6.11   \n",
            "   9    |   0.598781   |  0.639066  |   58.47   |   6.01   \n",
            "  10    |   0.586587   |  0.607815  |   64.11   |   6.17   \n",
            "  11    |   0.572808   |  0.592531  |   69.17   |   6.11   \n",
            "  12    |   0.565678   |  0.644892  |   51.60   |   6.40   \n",
            "  13    |   0.553644   |  0.568171  |   68.23   |   6.15   \n",
            "  14    |   0.549826   |  0.609995  |   61.60   |   5.97   \n",
            "  15    |   0.532792   |  0.550469  |   65.91   |   6.16   \n",
            "  16    |   0.504470   |  0.570786  |   65.79   |   6.43   \n",
            "  17    |   0.498120   |  0.544316  |   73.30   |   6.23   \n",
            "  18    |   0.504168   |  0.590974  |   66.04   |   6.26   \n",
            "  19    |   0.499049   |  0.545567  |   73.11   |   6.45   \n",
            "  20    |   0.486877   |  0.533536  |   66.98   |   6.25   \n",
            "\n",
            "\n",
            "Training complete! Best accuracy: 73.30%.\n",
            "GOING TO TEST\n",
            "p  121 ; tp  44 ; fp  13 ; tn  108 ; fn  77\n",
            "recall  0.36363636363636365 ; precision  0.7719298245614035\n",
            "num_batches 5\n",
            "correct 152\n",
            "size 242\n",
            "Test metrics: \n",
            " Accuracy: 0.628099, F1 score: 0.494382, Avg loss: 0.587205 \n",
            "\n",
            "p  121 ; tp  103 ; fp  62 ; tn  59 ; fn  18\n",
            "recall  0.8512396694214877 ; precision  0.6242424242424243\n",
            "num_batches 5\n",
            "correct 162\n",
            "size 242\n",
            "Test metrics: \n",
            " Accuracy: 0.669421, F1 score: 0.720280, Avg loss: 0.555444 \n",
            "\n",
            "p  121 ; tp  103 ; fp  62 ; tn  59 ; fn  18\n",
            "recall  0.8512396694214877 ; precision  0.6242424242424243\n",
            "num_batches 5\n",
            "correct 162\n",
            "size 242\n",
            "Test metrics: \n",
            " Accuracy: 0.669421, F1 score: 0.720280, Avg loss: 0.553550 \n",
            "\n",
            "DATASET:  human_enhancers_cohn\n",
            "Downloading 176563cDPQ5Y094WyoSBF02QjoVQhWuCh into /home/katarina/.genomic_benchmarks/human_enhancers_cohn.zip... Done.\n",
            "Unzipping...Done.\n",
            "RANDOM\n",
            "Start training...\n",
            "\n",
            " Epoch  |  Train Loss  |  Val Loss  |  Val Acc  |  Elapsed \n",
            "------------------------------------------------------------\n",
            "   1    |   0.652453   |  0.589532  |   68.53   |   15.56  \n",
            "   2    |   0.609529   |  0.574163  |   69.84   |   15.52  \n",
            "   3    |   0.593144   |  0.577330  |   69.95   |   15.16  \n",
            "   4    |   0.580380   |  0.583151  |   68.01   |   15.33  \n",
            "   5    |   0.569548   |  0.577125  |   69.12   |   15.58  \n",
            "   6    |   0.552760   |  0.584219  |   68.61   |   15.28  \n",
            "   7    |   0.536011   |  0.613092  |   67.71   |   15.28  \n",
            "   8    |   0.521475   |  0.610547  |   68.19   |   15.47  \n",
            "   9    |   0.505140   |  0.551154  |   71.31   |   15.07  \n",
            "  10    |   0.488945   |  0.553211  |   70.95   |   15.37  \n",
            "  11    |   0.475939   |  0.556770  |   70.31   |   16.00  \n",
            "  12    |   0.454119   |  0.624000  |   68.71   |   15.13  \n",
            "  13    |   0.434172   |  0.576865  |   69.90   |   15.65  \n",
            "  14    |   0.423382   |  0.588176  |   70.38   |   16.24  \n",
            "  15    |   0.407280   |  0.585694  |   70.67   |   14.66  \n",
            "  16    |   0.391733   |  0.615175  |   69.73   |   14.95  \n",
            "  17    |   0.370481   |  0.609620  |   70.89   |   14.59  \n",
            "  18    |   0.358499   |  0.751473  |   67.12   |   14.60  \n",
            "  19    |   0.346611   |  0.629477  |   69.87   |   14.28  \n",
            "  20    |   0.341021   |  0.633809  |   70.01   |   14.65  \n",
            "\n",
            "\n",
            "Training complete! Best accuracy: 71.31%.\n",
            "STATIC\n",
            "Start training...\n",
            "\n",
            " Epoch  |  Train Loss  |  Val Loss  |  Val Acc  |  Elapsed \n",
            "------------------------------------------------------------\n",
            "   1    |   0.628246   |  0.647099  |   62.46   |   10.79  \n",
            "   2    |   0.593816   |  0.640617  |   63.24   |   10.51  \n",
            "   3    |   0.577195   |  0.571070  |   69.29   |   10.29  \n",
            "   4    |   0.564725   |  0.559714  |   70.63   |   10.30  \n",
            "   5    |   0.551248   |  0.563510  |   70.24   |   10.24  \n",
            "   6    |   0.535062   |  0.732951  |   62.03   |   10.38  \n",
            "   7    |   0.524396   |  0.542135  |   72.09   |   10.22  \n",
            "   8    |   0.511188   |  0.594670  |   68.60   |   10.50  \n",
            "   9    |   0.495723   |  0.542733  |   71.71   |   10.41  \n",
            "  10    |   0.482255   |  0.668956  |   65.86   |   10.35  \n",
            "  11    |   0.467975   |  0.592891  |   69.96   |   10.58  \n",
            "  12    |   0.454696   |  0.563732  |   71.25   |   10.15  \n",
            "  13    |   0.439175   |  0.832977  |   60.93   |   10.44  \n",
            "  14    |   0.431467   |  0.552518  |   72.71   |   10.18  \n",
            "  15    |   0.422806   |  0.740990  |   66.74   |   10.40  \n",
            "  16    |   0.404390   |  0.750722  |   62.32   |   10.14  \n",
            "  17    |   0.398431   |  0.611098  |   69.65   |   10.00  \n",
            "  18    |   0.387142   |  0.703784  |   67.51   |   10.41  \n",
            "  19    |   0.374310   |  0.724583  |   68.24   |   10.06  \n",
            "  20    |   0.362772   |  0.615867  |   69.99   |   10.10  \n",
            "\n",
            "\n",
            "Training complete! Best accuracy: 72.71%.\n",
            "NON STATIC\n",
            "Start training...\n",
            "\n",
            " Epoch  |  Train Loss  |  Val Loss  |  Val Acc  |  Elapsed \n",
            "------------------------------------------------------------\n",
            "   1    |   0.627599   |  0.646613  |   62.50   |   14.03  \n",
            "   2    |   0.593440   |  0.650052  |   63.48   |   14.32  \n",
            "   3    |   0.577004   |  0.567861  |   69.72   |   14.02  \n",
            "   4    |   0.563749   |  0.558765  |   70.44   |   18.20  \n",
            "   5    |   0.550059   |  0.569183  |   68.83   |   16.96  \n",
            "   6    |   0.534635   |  0.766236  |   61.44   |   15.00  \n",
            "   7    |   0.522662   |  0.539752  |   72.35   |   17.15  \n",
            "   8    |   0.508577   |  0.568407  |   70.62   |   13.19  \n",
            "   9    |   0.491630   |  0.538797  |   71.61   |   13.29  \n",
            "  10    |   0.478921   |  0.661864  |   67.00   |   13.29  \n",
            "  11    |   0.460194   |  0.587741  |   70.50   |   13.32  \n",
            "  12    |   0.445192   |  0.559147  |   71.07   |   13.42  \n",
            "  13    |   0.431519   |  1.009693  |   56.39   |   13.43  \n",
            "  14    |   0.419707   |  0.581686  |   69.67   |   13.43  \n",
            "  15    |   0.411610   |  0.675045  |   68.39   |   13.53  \n",
            "  16    |   0.394212   |  0.748237  |   63.44   |   13.46  \n",
            "  17    |   0.389865   |  0.566778  |   71.73   |   13.53  \n",
            "  18    |   0.364175   |  0.799804  |   66.44   |   13.45  \n",
            "  19    |   0.362565   |  0.711594  |   69.07   |   13.50  \n",
            "  20    |   0.346930   |  0.570961  |   72.20   |   13.46  \n",
            "\n",
            "\n",
            "Training complete! Best accuracy: 72.35%.\n",
            "GOING TO TEST\n",
            "p  3474 ; tp  2411 ; fp  1062 ; tn  2412 ; fn  1063\n",
            "recall  0.6940126655152562 ; precision  0.6942124964008062\n",
            "num_batches 139\n",
            "correct 4823\n",
            "size 6948\n",
            "Test metrics: \n",
            " Accuracy: 0.694157, F1 score: 0.694113, Avg loss: 0.656383 \n",
            "\n",
            "p  3474 ; tp  3079 ; fp  1911 ; tn  1563 ; fn  395\n",
            "recall  0.8862982153137594 ; precision  0.6170340681362726\n",
            "num_batches 139\n",
            "correct 4642\n",
            "size 6948\n",
            "Test metrics: \n",
            " Accuracy: 0.668106, F1 score: 0.727552, Avg loss: 0.831432 \n",
            "\n",
            "p  3474 ; tp  3079 ; fp  1911 ; tn  1563 ; fn  395\n",
            "recall  0.8862982153137594 ; precision  0.6170340681362726\n",
            "num_batches 139\n",
            "correct 4642\n",
            "size 6948\n",
            "Test metrics: \n",
            " Accuracy: 0.668106, F1 score: 0.727552, Avg loss: 0.831360 \n",
            "\n",
            "DATASET:  human_enhancers_ensembl\n",
            "Downloading 1gZBEV_RGxJE8EON5OObdrp5Tp8JL0Fxb into /home/katarina/.genomic_benchmarks/human_enhancers_ensembl.zip... Done.\n",
            "Unzipping...Done.\n",
            "RANDOM\n",
            "Start training...\n",
            "\n",
            " Epoch  |  Train Loss  |  Val Loss  |  Val Acc  |  Elapsed \n",
            "------------------------------------------------------------\n",
            "   1    |   0.658525   |  0.640129  |   60.42   |   84.33  \n",
            "   2    |   0.620628   |  0.587713  |   65.80   |   86.68  \n",
            "   3    |   0.593917   |  0.582711  |   65.98   |   81.13  \n",
            "   4    |   0.576622   |  0.573025  |   67.16   |   82.91  \n",
            "   5    |   0.563844   |  0.557956  |   68.18   |   81.41  \n",
            "   6    |   0.553887   |  0.546309  |   69.13   |   81.69  \n",
            "   7    |   0.545607   |  0.540720  |   69.69   |   81.79  \n",
            "   8    |   0.537438   |  0.538884  |   68.62   |   82.19  \n",
            "   9    |   0.530438   |  0.539861  |   69.71   |   82.06  \n",
            "  10    |   0.524350   |  0.534811  |   69.76   |   80.84  \n",
            "  11    |   0.519480   |  0.534585  |   69.86   |   80.79  \n",
            "  12    |   0.513823   |  0.531703  |   69.99   |   82.08  \n",
            "  13    |   0.509967   |  0.531624  |   69.34   |   81.07  \n",
            "  14    |   0.505147   |  0.536137  |   69.01   |   82.03  \n",
            "  15    |   0.502431   |  0.538631  |   69.98   |   81.96  \n",
            "  16    |   0.498089   |  0.527016  |   70.73   |   80.41  \n",
            "  17    |   0.496438   |  0.547343  |   69.00   |   79.17  \n",
            "  18    |   0.491200   |  0.524764  |   70.73   |   79.08  \n",
            "  19    |   0.487234   |  0.530753  |   70.51   |   78.70  \n",
            "  20    |   0.485058   |  0.524518  |   70.92   |   79.20  \n",
            "\n",
            "\n",
            "Training complete! Best accuracy: 70.92%.\n",
            "STATIC\n",
            "Start training...\n",
            "\n",
            " Epoch  |  Train Loss  |  Val Loss  |  Val Acc  |  Elapsed \n",
            "------------------------------------------------------------\n",
            "   1    |   0.636753   |  0.604810  |   64.63   |   57.65  \n",
            "   2    |   0.594055   |  0.569616  |   66.67   |   58.00  \n",
            "   3    |   0.577113   |  0.561337  |   67.75   |   57.99  \n",
            "   4    |   0.564694   |  0.555879  |   67.22   |   58.79  \n",
            "   5    |   0.555062   |  0.546515  |   68.31   |   59.60  \n",
            "   6    |   0.547360   |  0.546201  |   67.93   |   58.90  \n",
            "   7    |   0.541083   |  0.546388  |   68.43   |   60.05  \n",
            "   8    |   0.536592   |  0.540065  |   69.29   |   59.87  \n",
            "   9    |   0.529782   |  0.536004  |   68.89   |   59.73  \n",
            "  10    |   0.525537   |  0.531537  |   69.23   |   59.06  \n",
            "  11    |   0.519473   |  0.536731  |   69.42   |   58.18  \n",
            "  12    |   0.516488   |  0.525216  |   70.45   |   57.86  \n",
            "  13    |   0.511698   |  0.526308  |   70.32   |   57.89  \n",
            "  14    |   0.507530   |  0.526848  |   70.11   |   58.50  \n",
            "  15    |   0.502924   |  0.527007  |   69.41   |   59.21  \n",
            "  16    |   0.501532   |  0.522282  |   69.67   |   60.15  \n",
            "  17    |   0.498027   |  0.520914  |   70.72   |   59.71  \n",
            "  18    |   0.495722   |  0.526687  |   70.64   |   59.55  \n",
            "  19    |   0.493020   |  0.524346  |   69.63   |   58.52  \n",
            "  20    |   0.490234   |  0.530903  |   70.46   |   58.14  \n",
            "\n",
            "\n",
            "Training complete! Best accuracy: 70.72%.\n",
            "NON STATIC\n",
            "Start training...\n",
            "\n",
            " Epoch  |  Train Loss  |  Val Loss  |  Val Acc  |  Elapsed \n",
            "------------------------------------------------------------\n",
            "   1    |   0.636027   |  0.604123  |   64.54   |   82.92  \n",
            "   2    |   0.593227   |  0.569966  |   66.96   |   83.51  \n",
            "   3    |   0.575435   |  0.559155  |   68.19   |   84.97  \n",
            "   4    |   0.561925   |  0.551303  |   67.83   |   86.50  \n",
            "   5    |   0.552458   |  0.544457  |   69.17   |   86.70  \n",
            "   6    |   0.545301   |  0.539631  |   68.28   |   85.29  \n",
            "   7    |   0.538957   |  0.556216  |   67.65   |   84.19  \n",
            "   8    |   0.533171   |  0.535332  |   69.45   |   83.38  \n",
            "   9    |   0.527202   |  0.539533  |   68.69   |   85.02  \n",
            "  10    |   0.522382   |  0.530023  |   70.14   |   86.72  \n",
            "  11    |   0.518039   |  0.536512  |   69.44   |   91.55  \n",
            "  12    |   0.515901   |  0.524403  |   70.57   |   86.67  \n",
            "  13    |   0.510183   |  0.521833  |   70.79   |   84.77  \n",
            "  14    |   0.507017   |  0.527875  |   70.28   |   83.23  \n",
            "  15    |   0.504058   |  0.536720  |   70.15   |   83.12  \n",
            "  16    |   0.499890   |  0.521810  |   70.82   |   84.30  \n",
            "  17    |   0.498934   |  0.523986  |   70.70   |   87.37  \n",
            "  18    |   0.496566   |  0.522981  |   70.75   |   86.33  \n",
            "  19    |   0.492446   |  0.527241  |   69.84   |   86.61  \n",
            "  20    |   0.490343   |  0.521167  |   70.95   |   85.53  \n",
            "\n",
            "\n",
            "Training complete! Best accuracy: 70.95%.\n",
            "GOING TO TEST\n",
            "p  15485 ; tp  8500 ; fp  2399 ; tn  13086 ; fn  6985\n",
            "recall  0.5489183080400387 ; precision  0.7798880631250573\n",
            "num_batches 620\n",
            "correct 21586\n",
            "size 30970\n",
            "Test metrics: \n",
            " Accuracy: 0.696997, F1 score: 0.644330, Avg loss: 0.534405 \n",
            "\n",
            "p  15485 ; tp  8792 ; fp  5385 ; tn  10100 ; fn  6693\n",
            "recall  0.567775266386826 ; precision  0.6201594131339494\n",
            "num_batches 620\n",
            "correct 18892\n",
            "size 30970\n",
            "Test metrics: \n",
            " Accuracy: 0.610010, F1 score: 0.592812, Avg loss: 0.640057 \n",
            "\n",
            "p  15485 ; tp  8792 ; fp  5385 ; tn  10100 ; fn  6693\n",
            "recall  0.567775266386826 ; precision  0.6201594131339494\n",
            "num_batches 620\n",
            "correct 18892\n",
            "size 30970\n",
            "Test metrics: \n",
            " Accuracy: 0.610010, F1 score: 0.592812, Avg loss: 0.640107 \n",
            "\n",
            "DATASET:  human_nontata_promoters\n",
            "Downloading 1VdUg0Zu8yfLS6QesBXwGz1PIQrTW3Ze4 into /home/katarina/.genomic_benchmarks/human_nontata_promoters.zip... Done.\n",
            "Unzipping...Done.\n",
            "RANDOM\n",
            "Start training...\n",
            "\n",
            " Epoch  |  Train Loss  |  Val Loss  |  Val Acc  |  Elapsed \n",
            "------------------------------------------------------------\n",
            "   1    |   0.497624   |  0.442190  |   79.31   |   9.51   \n",
            "   2    |   0.447060   |  0.435506  |   79.60   |   9.44   \n",
            "   3    |   0.419435   |  0.408050  |   81.02   |   9.12   \n",
            "   4    |   0.394140   |  0.387862  |   82.04   |   9.28   \n",
            "   5    |   0.365410   |  0.392974  |   80.65   |   9.40   \n",
            "   6    |   0.339719   |  0.376152  |   82.65   |   9.34   \n",
            "   7    |   0.309033   |  0.344586  |   85.02   |   9.16   \n",
            "   8    |   0.279932   |  0.345872  |   84.84   |   9.21   \n",
            "   9    |   0.254501   |  0.343436  |   85.09   |   9.51   \n",
            "  10    |   0.242257   |  0.327282  |   86.15   |   9.12   \n",
            "  11    |   0.222653   |  0.330655  |   86.11   |   9.05   \n",
            "  12    |   0.208677   |  0.334777  |   85.78   |   9.15   \n",
            "  13    |   0.193446   |  0.321205  |   85.89   |   9.38   \n",
            "  14    |   0.183274   |  0.345823  |   86.22   |   9.22   \n",
            "  15    |   0.166617   |  0.345278  |   86.62   |   8.98   \n",
            "  16    |   0.160814   |  0.337374  |   86.11   |   9.14   \n",
            "  17    |   0.150168   |  0.336579  |   86.95   |   9.12   \n",
            "  18    |   0.146657   |  0.339695  |   85.89   |   9.19   \n",
            "  19    |   0.139800   |  0.341593  |   87.20   |   9.01   \n",
            "  20    |   0.129242   |  0.380247  |   86.11   |   8.93   \n",
            "\n",
            "\n",
            "Training complete! Best accuracy: 87.20%.\n",
            "STATIC\n",
            "Start training...\n",
            "\n",
            " Epoch  |  Train Loss  |  Val Loss  |  Val Acc  |  Elapsed \n",
            "------------------------------------------------------------\n",
            "   1    |   0.496641   |  0.453007  |   78.80   |   7.06   \n",
            "   2    |   0.434299   |  0.417284  |   80.55   |   7.15   \n",
            "   3    |   0.399890   |  0.439137  |   80.22   |   6.97   \n",
            "   4    |   0.377305   |  0.383808  |   82.51   |   6.90   \n",
            "   5    |   0.351677   |  0.374156  |   82.65   |   6.78   \n",
            "   6    |   0.328584   |  0.366556  |   82.87   |   6.95   \n",
            "   7    |   0.306771   |  0.354151  |   83.78   |   6.79   \n",
            "   8    |   0.286681   |  0.376002  |   83.82   |   6.69   \n",
            "   9    |   0.270412   |  0.358195  |   84.80   |   6.80   \n",
            "  10    |   0.251574   |  0.396317  |   83.56   |   6.81   \n",
            "  11    |   0.235887   |  0.346546  |   85.13   |   6.81   \n",
            "  12    |   0.218733   |  0.328022  |   85.78   |   7.08   \n",
            "  13    |   0.208285   |  0.367171  |   85.20   |   7.02   \n",
            "  14    |   0.197947   |  0.331507  |   86.62   |   7.11   \n",
            "  15    |   0.185154   |  0.345628  |   85.89   |   7.04   \n",
            "  16    |   0.180300   |  0.322420  |   86.73   |   7.06   \n",
            "  17    |   0.169369   |  0.326815  |   86.76   |   6.97   \n",
            "  18    |   0.159694   |  0.334211  |   87.09   |   7.04   \n",
            "  19    |   0.155321   |  0.369947  |   87.02   |   6.99   \n",
            "  20    |   0.149850   |  0.335889  |   86.80   |   7.09   \n",
            "\n",
            "\n",
            "Training complete! Best accuracy: 87.09%.\n",
            "NON STATIC\n",
            "Start training...\n",
            "\n",
            " Epoch  |  Train Loss  |  Val Loss  |  Val Acc  |  Elapsed \n",
            "------------------------------------------------------------\n",
            "   1    |   0.493290   |  0.447149  |   79.16   |   9.54   \n",
            "   2    |   0.432897   |  0.415333  |   80.58   |   9.71   \n",
            "   3    |   0.398694   |  0.415508  |   80.98   |   9.76   \n",
            "   4    |   0.374678   |  0.382646  |   82.76   |   9.72   \n",
            "   5    |   0.346559   |  0.368753  |   83.02   |   9.72   \n",
            "   6    |   0.320976   |  0.370778  |   82.25   |   9.79   \n",
            "   7    |   0.297033   |  0.353070  |   83.53   |   9.74   \n",
            "   8    |   0.273787   |  0.370409  |   84.29   |   9.82   \n",
            "   9    |   0.255535   |  0.358721  |   84.76   |   9.93   \n",
            "  10    |   0.233931   |  0.354662  |   84.84   |   9.69   \n",
            "  11    |   0.217920   |  0.360115  |   85.31   |   9.73   \n",
            "  12    |   0.200771   |  0.412289  |   84.33   |   9.82   \n",
            "  13    |   0.188879   |  0.329183  |   86.22   |   9.71   \n",
            "  14    |   0.175321   |  0.353973  |   85.71   |   9.65   \n",
            "  15    |   0.168692   |  0.310838  |   86.95   |   9.87   \n",
            "  16    |   0.161614   |  0.342761  |   86.36   |   9.83   \n",
            "  17    |   0.151072   |  0.321541  |   87.05   |   9.92   \n",
            "  18    |   0.141650   |  0.322510  |   86.73   |   9.95   \n",
            "  19    |   0.135581   |  0.338223  |   87.16   |   9.78   \n",
            "  20    |   0.130143   |  0.322751  |   86.69   |   9.78   \n",
            "\n",
            "\n",
            "Training complete! Best accuracy: 87.16%.\n",
            "GOING TO TEST\n",
            "p  4915 ; tp  3977 ; fp  227 ; tn  3892 ; fn  938\n",
            "recall  0.8091556459816887 ; precision  0.9460038058991437\n",
            "num_batches 181\n",
            "correct 7869\n",
            "size 9034\n",
            "Test metrics: \n",
            " Accuracy: 0.871043, F1 score: 0.872245, Avg loss: 0.346019 \n",
            "\n",
            "p  4915 ; tp  4107 ; fp  476 ; tn  3643 ; fn  808\n",
            "recall  0.8356052899287895 ; precision  0.8961379009382501\n",
            "num_batches 181\n",
            "correct 7750\n",
            "size 9034\n",
            "Test metrics: \n",
            " Accuracy: 0.857870, F1 score: 0.864814, Avg loss: 0.570633 \n",
            "\n",
            "p  4915 ; tp  4107 ; fp  476 ; tn  3643 ; fn  808\n",
            "recall  0.8356052899287895 ; precision  0.8961379009382501\n",
            "num_batches 181\n",
            "correct 7750\n",
            "size 9034\n",
            "Test metrics: \n",
            " Accuracy: 0.857870, F1 score: 0.864814, Avg loss: 0.571559 \n",
            "\n"
          ]
        },
        {
          "data": {
            "text/html": [
              "<div>\n",
              "<style scoped>\n",
              "    .dataframe tbody tr th:only-of-type {\n",
              "        vertical-align: middle;\n",
              "    }\n",
              "\n",
              "    .dataframe tbody tr th {\n",
              "        vertical-align: top;\n",
              "    }\n",
              "\n",
              "    .dataframe thead th {\n",
              "        text-align: right;\n",
              "    }\n",
              "</style>\n",
              "<table border=\"1\" class=\"dataframe\">\n",
              "  <thead>\n",
              "    <tr style=\"text-align: right;\">\n",
              "      <th></th>\n",
              "      <th>dataset</th>\n",
              "      <th>cnn_rand_f1</th>\n",
              "      <th>cnn_static_f1</th>\n",
              "      <th>cnn_non_static_f1</th>\n",
              "    </tr>\n",
              "  </thead>\n",
              "  <tbody>\n",
              "    <tr>\n",
              "      <th>0</th>\n",
              "      <td>demo_mouse_enhancers</td>\n",
              "      <td>0.494382</td>\n",
              "      <td>0.720280</td>\n",
              "      <td>0.720280</td>\n",
              "    </tr>\n",
              "    <tr>\n",
              "      <th>1</th>\n",
              "      <td>human_enhancers_cohn</td>\n",
              "      <td>0.694113</td>\n",
              "      <td>0.727552</td>\n",
              "      <td>0.727552</td>\n",
              "    </tr>\n",
              "    <tr>\n",
              "      <th>2</th>\n",
              "      <td>human_enhancers_ensembl</td>\n",
              "      <td>0.644330</td>\n",
              "      <td>0.592812</td>\n",
              "      <td>0.592812</td>\n",
              "    </tr>\n",
              "    <tr>\n",
              "      <th>3</th>\n",
              "      <td>human_nontata_promoters</td>\n",
              "      <td>0.872245</td>\n",
              "      <td>0.864814</td>\n",
              "      <td>0.864814</td>\n",
              "    </tr>\n",
              "  </tbody>\n",
              "</table>\n",
              "</div>"
            ],
            "text/plain": [
              "                   dataset  cnn_rand_f1  cnn_static_f1  cnn_non_static_f1\n",
              "0     demo_mouse_enhancers     0.494382       0.720280           0.720280\n",
              "1     human_enhancers_cohn     0.694113       0.727552           0.727552\n",
              "2  human_enhancers_ensembl     0.644330       0.592812           0.592812\n",
              "3  human_nontata_promoters     0.872245       0.864814           0.864814"
            ]
          },
          "execution_count": 191,
          "metadata": {},
          "output_type": "execute_result"
        }
      ],
      "source": [
        "# Load pretrained vectors\n",
        "embeddings = load_pretrained_vectors(word2idx)\n",
        "embeddings = torch.tensor(embeddings)\n",
        "\n",
        "table = []\n",
        "\n",
        "# using only datasets where classes are called positive and negative\n",
        "\n",
        "datasets = ['demo_mouse_enhancers', 'human_enhancers_cohn', 'human_enhancers_ensembl', 'human_nontata_promoters']\n",
        "\n",
        "for dataset in datasets:\n",
        "\n",
        "    print('DATASET: ', dataset)\n",
        "\n",
        "    data_path = download_dataset(dataset, version=0)\n",
        "    texts, labels = load_data(data_path, train=True)\n",
        "\n",
        "    # Tokenize, build vocabulary, encode tokens\n",
        "    word2idx, max_len = build_vocab(texts)\n",
        "    tokenized_texts = tokenize(texts)\n",
        "    input_ids = encode(tokenized_texts, word2idx, max_len)\n",
        "\n",
        "    # Load pretrained vectors\n",
        "    embeddings = load_pretrained_vectors(word2idx)\n",
        "    embeddings = torch.tensor(embeddings)\n",
        "\n",
        "    # Train Test Split\n",
        "    train_inputs, val_inputs, train_labels, val_labels = train_test_split(\n",
        "        input_ids, labels, test_size=0.1, random_state=42)\n",
        "\n",
        "    # Load data to PyTorch DataLoader\n",
        "    train_dataloader = data_loader(train_inputs, train_labels)\n",
        "    val_dataloader = data_loader(val_inputs, val_labels)\n",
        "\n",
        "    # CNN-rand: Word vectors are randomly initialized.\n",
        "    set_seed(42)\n",
        "    print('RANDOM')\n",
        "    cnn_rand, optimizer = initilize_model(vocab_size=len(word2idx),\n",
        "                                        embed_dim=100,\n",
        "                                        learning_rate=0.3,\n",
        "                                        dropout=0.5)\n",
        "    train(cnn_rand, optimizer, train_dataloader, val_dataloader, epochs=20)\n",
        "\n",
        "    # CNN-static: dna2vec pretrained word vectors are used and freezed during training.\n",
        "    set_seed(42)\n",
        "    print('STATIC')\n",
        "    cnn_static, optimizer = initilize_model(pretrained_embedding=embeddings,\n",
        "                                            freeze_embedding=True,\n",
        "                                            learning_rate=0.3,\n",
        "                                            dropout=0.5)\n",
        "    train(cnn_static, optimizer, train_dataloader, val_dataloader, epochs=20)\n",
        "\n",
        "    # CNN-non-static: dna2vec pretrained word vectors are fine-tuned during training.\n",
        "    set_seed(42)\n",
        "    print('NON STATIC')\n",
        "    cnn_non_static, optimizer = initilize_model(pretrained_embedding=embeddings,\n",
        "                                                freeze_embedding=False,\n",
        "                                                learning_rate=0.3,\n",
        "                                                dropout=0.5)\n",
        "    train(cnn_non_static, optimizer, train_dataloader, val_dataloader, epochs=20)\n",
        "\n",
        "    print('GOING TO TEST')\n",
        "    test_texts, test_labels = load_data(data_path, train=False)\n",
        "    tokenized_test_texts = tokenize(test_texts)\n",
        "    max_len = max(max_len, max([len(seq) for seq in tokenized_test_texts]))\n",
        "    test_input_ids = encode(tokenized_test_texts, word2idx, max_len)\n",
        "    test_dataloader = data_loader(test_input_ids, test_labels)\n",
        "\n",
        "    cnn_rand_acc, cnn_rand_f1 = test(model=cnn_rand.to(\"cpu\"), dataloader=test_dataloader)\n",
        "    cnn_static_acc, cnn_static_f1 = test(model=cnn_static.to(\"cpu\"), dataloader=test_dataloader)\n",
        "    cnn_non_static_acc, cnn_non_static_f1 = test(model=cnn_static.to(\"cpu\"), dataloader=test_dataloader)\n",
        "\n",
        "    table.append([dataset, cnn_rand_f1, cnn_static_f1, cnn_non_static_f1])\n",
        "\n",
        "pd.DataFrame(table, columns=['dataset', 'cnn_rand_f1', 'cnn_static_f1', 'cnn_non_static_f1'])"
      ]
    },
    {
      "cell_type": "markdown",
      "metadata": {
        "id": "c-6-v3Np1l8C"
      },
      "source": [
        "## 6. Advice for Practitioners"
      ]
    },
    {
      "cell_type": "markdown",
      "metadata": {
        "id": "77jY2tZj1nTu"
      },
      "source": [
        "In [***A Sensitivity Analysis of (and Practitioners' Guide to) Convolutional Neural Networks for Sentence Classification***](https://arxiv.org/abs/1510.03820) (Zhang, 2015), the authors conducted a sensitivity analysis of the above CNN architecture by running it many different sets of hyperparameters. Based on main empirical findings of the research, below are some advice for practioners to choose hyperparameters when applying this architecture for sentence classification tasks:\n",
        "- **Input word vectors:** Using pretrained word vectors such as word2vec, Glove (or fastText in our implementation) yields much better results than using one-hot vectors or randomly initialized vectors.\n",
        "- **Filter region size** can have a large effect on performance, and should be tuned. A reasonable range might be 1~10. For example, using `filter_size=[7]` and `num_filters=[400]` yields the best result in the MR dataset.\n",
        "- **Number of feature maps:** try values from 100 to 600 for each filter region size.\n",
        "- **Activation funtions:** ReLu and tanh are the best candidates.\n",
        "- **Pooling:** Use 1-max pooling.\n",
        "- **Regularization:** When increasing number of feature maps, try imposing stronger regularization, e.g. a dropout rate larger than 0.5.\n",
        "\n",
        "\n",
        "\n"
      ]
    },
    {
      "cell_type": "markdown",
      "metadata": {
        "id": "3TQO2Vf0VrBO"
      },
      "source": [
        "## Conclusion"
      ]
    },
    {
      "cell_type": "markdown",
      "metadata": {
        "id": "UFPXEh7c6DkO"
      },
      "source": [
        "Before the rise of huge and complicated models using Transformer architecture, a simple CNN architecture with one layer of convolution can yeild excellent performance on sentence classification tasks. The model can take advantages of unsupervise pre-training of word vectors to improve overall performance. Improvements can be made in this architecture by increasing the number of CNN layers or utilizing sub-word model (using BPE tokenizer and fastText pretrained sub-word vectors). Because of its speed, we can use the CNN model as a strong baseline model before trying more complicated models such as BERT.\n",
        "\n",
        "Thank you for staying with me to this point. If interested, you can check out other articles in my NLP tutorial series:\n",
        "- [Tutorial: Fine-tuning BERT for Sentiment Analysis](https://chriskhanhtran.github.io/posts/bert_for_sentiment_analysis/)"
      ]
    }
  ],
  "metadata": {
    "accelerator": "GPU",
    "colab": {
      "collapsed_sections": [],
      "include_colab_link": true,
      "name": "A Complete Guide to CNN for Sentence Classification with PyTorch",
      "provenance": [],
      "toc_visible": true
    },
    "kernelspec": {
      "display_name": "Python 3",
      "name": "python3"
    },
    "language_info": {
      "codemirror_mode": {
        "name": "ipython",
        "version": 3
      },
      "file_extension": ".py",
      "mimetype": "text/x-python",
      "name": "python",
      "nbconvert_exporter": "python",
      "pygments_lexer": "ipython3",
      "version": "3.8.10"
    }
  },
  "nbformat": 4,
  "nbformat_minor": 0
}
